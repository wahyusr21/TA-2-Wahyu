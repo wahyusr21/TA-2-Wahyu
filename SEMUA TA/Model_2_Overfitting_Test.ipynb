{
 "cells": [
  {
   "cell_type": "code",
   "execution_count": 1,
   "id": "82c99fb0-2bf2-439a-a0ed-21a39b44b94d",
   "metadata": {},
   "outputs": [],
   "source": [
    "import sklearn\n",
    "from sklearn.ensemble import RandomForestRegressor, AdaBoostRegressor, GradientBoostingRegressor, BaggingRegressor\n",
    "from sklearn.ensemble import RandomTreesEmbedding, HistGradientBoostingRegressor, StackingRegressor, VotingRegressor\n",
    "from sklearn.multioutput import MultiOutputRegressor, RegressorChain\n",
    "from sklearn.model_selection import train_test_split\n",
    "import time\n",
    "import pandas as pd\n",
    "import numpy as np\n",
    "from sklearn.model_selection import GridSearchCV\n",
    "from sklearn.linear_model import LinearRegression, SGDRegressor, RidgeCV, Ridge\n",
    "from sklearn.model_selection import ParameterGrid, ParameterSampler, RandomizedSearchCV\n",
    "from sklearn.gaussian_process.kernels import RBF, RationalQuadratic\n",
    "from sklearn.neighbors import KNeighborsRegressor, RadiusNeighborsRegressor\n",
    "from sklearn.neural_network import MLPRegressor\n",
    "from sklearn.preprocessing import StandardScaler, KernelCenterer, RobustScaler\n",
    "from sklearn.svm import SVR, LinearSVR, NuSVR\n",
    "from sklearn.metrics import r2_score, mean_absolute_error, mean_squared_error, make_scorer, max_error\n",
    "from sklearn.pipeline import Pipeline\n",
    "from sklearn.preprocessing import StandardScaler\n",
    "from xgboost import XGBRegressor\n",
    "import joblib\n",
    "from sklearn.model_selection import cross_val_score, KFold, cross_validate, cross_val_predict\n",
    "from sklearn.pipeline import make_pipeline"
   ]
  },
  {
   "cell_type": "code",
   "execution_count": 2,
   "id": "bc4b7d0f-a56a-4daa-9c76-77f1b265648b",
   "metadata": {},
   "outputs": [],
   "source": [
    "import numpy as np\n",
    "import pandas as pd\n",
    "import matplotlib.pyplot as plt\n",
    "import random, time\n",
    "import seaborn as sns\n",
    "from mpl_toolkits.mplot3d import Axes3D\n",
    "from sklearn.model_selection import train_test_split, cross_val_score, KFold\n",
    "from sklearn.metrics import r2_score, mean_squared_error, mean_absolute_error, max_error\n",
    "from sklearn.linear_model import LinearRegression"
   ]
  },
  {
   "cell_type": "markdown",
   "id": "60497fc8-eba4-4d54-9015-fa66bdd9ecd0",
   "metadata": {},
   "source": [
    "## BEFORE PRUNING"
   ]
  },
  {
   "cell_type": "code",
   "execution_count": 3,
   "id": "4075e84b-4747-4c5c-8d5c-767e6f8451e2",
   "metadata": {},
   "outputs": [],
   "source": [
    "df_all = pd.read_csv('z_score_3_data_all.csv')\n",
    "x_all = df_all.drop(columns = [\"V\",\"α\",\"β\"])\n",
    "y_all = df_all[[\"V\",\"α\",\"β\"]]\n",
    "\n",
    "x0_train, x0_test, y0_train, y0_test = train_test_split(x_all, y_all,\n",
    "                                                        random_state = 42, test_size = 0.2)"
   ]
  },
  {
   "cell_type": "code",
   "execution_count": 4,
   "id": "b0381bc8-9a4c-4fc0-bfde-0e3547a2134d",
   "metadata": {},
   "outputs": [
    {
     "name": "stdout",
     "output_type": "stream",
     "text": [
      "R2 : \n",
      " Alpha : 0.9999999813543439 \n",
      " Beta : 0.977405104213847 \n",
      " V : 0.9999997375615296 \n",
      "MAE : \n",
      " Alpha : 0.002604547261349629 \n",
      " Beta : 0.559077213592743 \n",
      " V : 0.0018585468821989413 \n",
      "MSE : \n",
      " Alpha : 2.4353795012336788e-05 \n",
      " Beta : 2.5045052507851886 \n",
      " V : 5.227615544605306e-05 \n",
      "Max AERR : \n",
      " V     0.084655\n",
      "α     0.044422\n",
      "β    15.077669\n",
      "dtype: float64\n",
      "Waktu yang dibutuhkan :  1.9809417009353638\n"
     ]
    }
   ],
   "source": [
    "def max_absolute_error(y_true, y_pred):\n",
    "    return np.max(np.abs(y_true - y_pred), axis=0)\n",
    "scaler = StandardScaler()\n",
    "\n",
    "# Base models (Level Pertama)\n",
    "base_models = [\n",
    "    # ('random_forest', RandomForestRegressor(n_estimators=250, max_depth=None, random_state=42, min_samples_leaf= 1, min_samples_split= 2, max_features = 'sqrt')),\n",
    "    ('random_forest', RandomForestRegressor(n_estimators=100, random_state=21, max_leaf_nodes= 800)),\n",
    "    ('gradient_boosting', GradientBoostingRegressor(n_estimators=400, learning_rate=0.0579, random_state=42, max_depth = 5)),\n",
    "    ('knn', make_pipeline(StandardScaler(), KNeighborsRegressor(n_neighbors=2, weights='distance', algorithm='auto')))\n",
    "]\n",
    "\n",
    "meta_model = Ridge(alpha=0.1)\n",
    "\n",
    "# Membentuk Stacking Regressor\n",
    "stacking_regressor = StackingRegressor(\n",
    "    estimators=base_models,\n",
    "    final_estimator=meta_model,\n",
    "    passthrough=True  # Memasukkan data asli ke meta-model bersama prediksi base models\n",
    ")\n",
    "\n",
    "# Untuk multi-output, kita bungkus dengan MultiOutputRegressor\n",
    "model_all_best = MultiOutputRegressor(stacking_regressor)\n",
    "start = time.time()\n",
    "# Training\n",
    "model_all_best.fit(x0_train, y0_train)\n",
    "end = time.time()\n",
    "waktu = (end-start)/60\n",
    "# Prediction\n",
    "y0_pred = model_all_best.predict(x0_test)\n",
    "r2 = r2_score(y0_test, y0_pred, multioutput = 'raw_values')\n",
    "mae = mean_absolute_error(y0_test, y0_pred, multioutput = 'raw_values')\n",
    "mse = mean_squared_error(y0_test, y0_pred, multioutput = 'raw_values')\n",
    "max_ae = max_absolute_error(y0_test, y0_pred)\n",
    "print(f'R2 : \\n Alpha : {r2[1]} \\n Beta : {r2[2]} \\n V : {r2[0]} ')\n",
    "print(f'MAE : \\n Alpha : {mae[1]} \\n Beta : {mae[2]} \\n V : {mae[0]} ')\n",
    "print(f'MSE : \\n Alpha : {mse[1]} \\n Beta : {mse[2]} \\n V : {mse[0]} ')\n",
    "print('Max AERR : \\n', max_ae)\n",
    "print(\"Waktu yang dibutuhkan : \", waktu)"
   ]
  },
  {
   "cell_type": "code",
   "execution_count": 5,
   "id": "c90ee612-cba4-4edc-9786-f34b54f7609c",
   "metadata": {},
   "outputs": [
    {
     "name": "stdout",
     "output_type": "stream",
     "text": [
      "1298\n",
      "1298\n",
      "1298\n"
     ]
    }
   ],
   "source": [
    "df_all_before = pd.read_csv('z_score_3_data_all.csv')\n",
    "df_test_before = df_all_before[(df_all_before[\"α\"] >= -30) & (df_all_before[\"α\"] <= 0) & (df_all_before[\"β\"] <= 0) ]\n",
    "print(len(df_test_before))\n",
    "# Alpha Test Data\n",
    "df_test_alpha = df_test_before.copy()\n",
    "df_test_alpha[\"α\"] *= -1 \n",
    "df_test_alpha[['Pα1', 'Pα2']] = df_test_alpha[['Pα2', 'Pα1']]\n",
    "df_test_alpha\n",
    "print(len(df_test_alpha))\n",
    "\n",
    "# Beta Test Data\n",
    "df_test_beta = df_test_before.copy()\n",
    "df_test_beta[\"β\"] *= -1 \n",
    "df_test_beta[['Pβ1', 'Pβ2']] = df_test_beta[['Pβ2', 'Pβ1']]\n",
    "df_test_beta\n",
    "print(len(df_test_beta))\n",
    "\n",
    "# Combine Test Data\n",
    "df_test_alpha_predict = df_test_alpha.sample(n = 500, random_state = 42)\n",
    "df_test_beta_predict = df_test_beta.sample(n = 500, random_state = 42)\n",
    "df_test_combine = pd.concat([df_test_alpha_predict,df_test_beta_predict], ignore_index = True)\n",
    "df_test_combine\n",
    "\n",
    "# Separation Data Test\n",
    "x_test = df_test_combine.drop(columns = [\"V\",\"α\",\"β\"])\n",
    "y_test = df_test_combine[[\"V\",\"α\",\"β\"]]\n"
   ]
  },
  {
   "cell_type": "code",
   "execution_count": 6,
   "id": "d62e6ef3-bb74-44a0-bf29-80a6965db224",
   "metadata": {},
   "outputs": [
    {
     "name": "stdout",
     "output_type": "stream",
     "text": [
      "R2 : \n",
      " Alpha : 0.9992408870232796 \n",
      " Beta : 0.9886492418830061 \n",
      " V : 0.9999851601953914 \n",
      "MAE : \n",
      " Alpha : 0.06670888534747436 \n",
      " Beta : 0.5815201175977703 \n",
      " V : 0.031845454181233586 \n",
      "MSE : \n",
      " Alpha : 0.21076771798642552 \n",
      " Beta : 1.8774153925507915 \n",
      " V : 0.002862048842189777 \n",
      "Max AERR : \n",
      " V    0.315345\n",
      "α    4.975338\n",
      "β    7.029296\n",
      "dtype: float64\n"
     ]
    }
   ],
   "source": [
    "# Evaluate the metrics\n",
    "y0_test_pred = model_all_best.predict(x_test)\n",
    "r2_test = r2_score(y_test, y0_test_pred, multioutput = 'raw_values')\n",
    "mae_test = mean_absolute_error(y_test, y0_test_pred, multioutput = 'raw_values')\n",
    "mse_test = mean_squared_error(y_test, y0_test_pred, multioutput = 'raw_values')\n",
    "max_ae_test = max_absolute_error(y_test, y0_test_pred)\n",
    "print(f'R2 : \\n Alpha : {r2_test[1]} \\n Beta : {r2_test[2]} \\n V : {r2_test[0]} ')\n",
    "print(f'MAE : \\n Alpha : {mae_test[1]} \\n Beta : {mae_test[2]} \\n V : {mae_test[0]} ')\n",
    "print(f'MSE : \\n Alpha : {mse_test[1]} \\n Beta : {mse_test[2]} \\n V : {mse_test[0]} ')\n",
    "print('Max AERR : \\n', max_ae_test)"
   ]
  },
  {
   "cell_type": "markdown",
   "id": "bbf6659f-c71f-4e5e-a409-0a1c25a0c789",
   "metadata": {},
   "source": [
    "## AFTER PRUNING"
   ]
  },
  {
   "cell_type": "code",
   "execution_count": 7,
   "id": "16d24fc6-9215-4407-a071-a007d34d3e32",
   "metadata": {},
   "outputs": [],
   "source": [
    "df_all = pd.read_csv('data_clean_reduce_21_z_score_3_sec.csv')\n",
    "x_all = df_all.drop(columns = [\"V\",\"α\",\"β\"])\n",
    "y_all = df_all[[\"V\",\"α\",\"β\"]]\n",
    "\n",
    "x0_train, x0_test, y0_train, y0_test = train_test_split(x_all, y_all,\n",
    "                                                        random_state = 42, test_size = 0.2)"
   ]
  },
  {
   "cell_type": "code",
   "execution_count": 8,
   "id": "38037049-aefd-4ac8-a70f-a6b980f7cb93",
   "metadata": {},
   "outputs": [
    {
     "name": "stdout",
     "output_type": "stream",
     "text": [
      "R2 : \n",
      " Alpha : 0.999999982615092 \n",
      " Beta : 0.9834776440134287 \n",
      " V : 0.9999997491265673 \n",
      "MAE : \n",
      " Alpha : 0.0027604065001561187 \n",
      " Beta : 0.48633491791061023 \n",
      " V : 0.0018246195926608683 \n",
      "MSE : \n",
      " Alpha : 2.161358572749577e-05 \n",
      " Beta : 1.7783882996031715 \n",
      " V : 5.0067257958282746e-05 \n",
      "Max AERR : \n",
      " V    0.073124\n",
      "α    0.036472\n",
      "β    9.831914\n",
      "dtype: float64\n",
      "Waktu yang dibutuhkan :  1.9731943408648174\n"
     ]
    }
   ],
   "source": [
    "def max_absolute_error(y_true, y_pred):\n",
    "    return np.max(np.abs(y_true - y_pred), axis=0)\n",
    "scaler = StandardScaler()\n",
    "\n",
    "# Base models (Level Pertama)\n",
    "base_models = [\n",
    "    # ('random_forest', RandomForestRegressor(n_estimators=250, max_depth=None, random_state=42, min_samples_leaf= 1, min_samples_split= 2, max_features = 'sqrt')),\n",
    "    ('random_forest', RandomForestRegressor(n_estimators=100, max_depth=None, random_state=21, max_leaf_nodes= 800)),\n",
    "    ('gradient_boosting', GradientBoostingRegressor(n_estimators=400, learning_rate=0.0579, random_state=42, max_depth = 5)),\n",
    "    ('knn', make_pipeline(StandardScaler(), KNeighborsRegressor(n_neighbors=2, weights='distance', algorithm='auto')))\n",
    "]\n",
    "\n",
    "# Meta-model (Level Kedua)\n",
    "# Menggunakan Ridge Regression sebagai meta-model untuk menghindari overfitting\n",
    "meta_model = Ridge(alpha=0.1)\n",
    "\n",
    "# Membentuk Stacking Regressor\n",
    "stacking_regressor = StackingRegressor(\n",
    "    estimators=base_models,\n",
    "    final_estimator=meta_model,\n",
    "    passthrough=True  # Memasukkan data asli ke meta-model bersama prediksi base models\n",
    ")\n",
    "\n",
    "# Untuk multi-output, kita bungkus dengan MultiOutputRegressor\n",
    "model_all_best = MultiOutputRegressor(stacking_regressor)\n",
    "start = time.time()\n",
    "# Training\n",
    "model_all_best.fit(x0_train, y0_train)\n",
    "end = time.time()\n",
    "waktu = (end-start)/60\n",
    "# Prediction\n",
    "y0_pred = model_all_best.predict(x0_test)\n",
    "r2 = r2_score(y0_test, y0_pred, multioutput = 'raw_values')\n",
    "mae = mean_absolute_error(y0_test, y0_pred, multioutput = 'raw_values')\n",
    "mse = mean_squared_error(y0_test, y0_pred, multioutput = 'raw_values')\n",
    "max_ae = max_absolute_error(y0_test, y0_pred)\n",
    "print(f'R2 : \\n Alpha : {r2[1]} \\n Beta : {r2[2]} \\n V : {r2[0]} ')\n",
    "print(f'MAE : \\n Alpha : {mae[1]} \\n Beta : {mae[2]} \\n V : {mae[0]} ')\n",
    "print(f'MSE : \\n Alpha : {mse[1]} \\n Beta : {mse[2]} \\n V : {mse[0]} ')\n",
    "print('Max AERR : \\n', max_ae)\n",
    "print(\"Waktu yang dibutuhkan : \", waktu)"
   ]
  },
  {
   "cell_type": "code",
   "execution_count": 9,
   "id": "c467dc9e-c7ca-41c8-be5f-7a49e031d0f2",
   "metadata": {},
   "outputs": [
    {
     "name": "stdout",
     "output_type": "stream",
     "text": [
      "1298\n",
      "1298\n",
      "1298\n"
     ]
    }
   ],
   "source": [
    "df_all_before = pd.read_csv('data_clean_reduce_21_z_score_3_sec.csv')\n",
    "df_test_before = df_all_before[(df_all_before[\"α\"] >= -30) & (df_all_before[\"α\"] <= 0) & (df_all_before[\"β\"] <= 0) ]\n",
    "print(len(df_test_before))\n",
    "# Alpha Test Data\n",
    "df_test_alpha = df_test_before.copy()\n",
    "df_test_alpha[\"α\"] *= -1 \n",
    "df_test_alpha[['Pα1', 'Pα2']] = df_test_alpha[['Pα2', 'Pα1']]\n",
    "df_test_alpha\n",
    "print(len(df_test_alpha))\n",
    "\n",
    "# Beta Test Data\n",
    "df_test_beta = df_test_before.copy()\n",
    "df_test_beta[\"β\"] *= -1 \n",
    "df_test_beta[['Pβ1', 'Pβ2']] = df_test_beta[['Pβ2', 'Pβ1']]\n",
    "df_test_beta\n",
    "print(len(df_test_beta))\n",
    "\n",
    "# Combine Test Data\n",
    "df_test_alpha_predict = df_test_alpha.sample(n = 500, random_state = 42)\n",
    "df_test_beta_predict = df_test_beta.sample(n = 500, random_state = 42)\n",
    "df_test_combine = pd.concat([df_test_alpha_predict,df_test_beta_predict], ignore_index = True)\n",
    "df_test_combine\n",
    "\n",
    "# Separation Data Test\n",
    "x_test = df_test_combine.drop(columns = [\"V\",\"α\",\"β\"])\n",
    "y_test = df_test_combine[[\"V\",\"α\",\"β\"]]\n"
   ]
  },
  {
   "cell_type": "code",
   "execution_count": 10,
   "id": "5d4dc203-1377-43a7-890a-ae86a601358c",
   "metadata": {},
   "outputs": [
    {
     "name": "stdout",
     "output_type": "stream",
     "text": [
      "R2 : \n",
      " Alpha : 0.9992592514369122 \n",
      " Beta : 0.9882603814909892 \n",
      " V : 0.9999850925190209 \n",
      "MAE : \n",
      " Alpha : 0.06402932966288247 \n",
      " Beta : 0.5970592003615787 \n",
      " V : 0.03192196798542855 \n",
      "MSE : \n",
      " Alpha : 0.20566883854131757 \n",
      " Beta : 1.9417329013904003 \n",
      " V : 0.0028751011082537247 \n",
      "Max AERR : \n",
      " V    0.315681\n",
      "α    4.977695\n",
      "β    6.810382\n",
      "dtype: float64\n"
     ]
    }
   ],
   "source": [
    "# Evaluate the metrics\n",
    "y0_test_pred = model_all_best.predict(x_test)\n",
    "r2_test = r2_score(y_test, y0_test_pred, multioutput = 'raw_values')\n",
    "mae_test = mean_absolute_error(y_test, y0_test_pred, multioutput = 'raw_values')\n",
    "mse_test = mean_squared_error(y_test, y0_test_pred, multioutput = 'raw_values')\n",
    "max_ae_test = max_absolute_error(y_test, y0_test_pred)\n",
    "print(f'R2 : \\n Alpha : {r2_test[1]} \\n Beta : {r2_test[2]} \\n V : {r2_test[0]} ')\n",
    "print(f'MAE : \\n Alpha : {mae_test[1]} \\n Beta : {mae_test[2]} \\n V : {mae_test[0]} ')\n",
    "print(f'MSE : \\n Alpha : {mse_test[1]} \\n Beta : {mse_test[2]} \\n V : {mse_test[0]} ')\n",
    "print('Max AERR : \\n', max_ae_test)"
   ]
  },
  {
   "cell_type": "code",
   "execution_count": null,
   "id": "5eaf057d-9445-414c-85c1-aa73fac69bd7",
   "metadata": {},
   "outputs": [],
   "source": []
  }
 ],
 "metadata": {
  "kernelspec": {
   "display_name": "Python 3 (ipykernel)",
   "language": "python",
   "name": "python3"
  },
  "language_info": {
   "codemirror_mode": {
    "name": "ipython",
    "version": 3
   },
   "file_extension": ".py",
   "mimetype": "text/x-python",
   "name": "python",
   "nbconvert_exporter": "python",
   "pygments_lexer": "ipython3",
   "version": "3.8.20"
  }
 },
 "nbformat": 4,
 "nbformat_minor": 5
}
