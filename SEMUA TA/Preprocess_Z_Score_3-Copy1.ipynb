{
 "cells": [
  {
   "cell_type": "code",
   "execution_count": 1,
   "id": "86024e4e-5002-4adc-9cfc-8b9703dee7ff",
   "metadata": {},
   "outputs": [],
   "source": [
    "import sklearn\n",
    "from sklearn.ensemble import RandomForestRegressor, AdaBoostRegressor, GradientBoostingRegressor, BaggingRegressor\n",
    "from sklearn.ensemble import RandomTreesEmbedding, HistGradientBoostingRegressor, StackingRegressor, VotingRegressor\n",
    "from sklearn.multioutput import MultiOutputRegressor, RegressorChain\n",
    "from sklearn.model_selection import train_test_split\n",
    "import time\n",
    "import pandas as pd\n",
    "import numpy as np\n",
    "from sklearn.gaussian_process import GaussianProcessRegressor\n",
    "from sklearn.linear_model import LinearRegression, SGDRegressor, RidgeCV, Ridge\n",
    "from sklearn.linear_model import ElasticNet, ElasticNetCV, Lars, LarsCV, Lasso, LassoCV, LassoLars, LassoLarsCV\n",
    "from sklearn.linear_model import MultiTaskElasticNet, MultiTaskElasticNetCV\n",
    "from sklearn.linear_model import MultiTaskLasso, MultiTaskLassoCV\n",
    "from sklearn.model_selection import GridSearchCV\n",
    "from sklearn.model_selection import ParameterGrid, ParameterSampler, RandomizedSearchCV\n",
    "from sklearn.gaussian_process.kernels import RBF, RationalQuadratic\n",
    "from sklearn.neighbors import KNeighborsRegressor, RadiusNeighborsRegressor\n",
    "from sklearn.neural_network import MLPRegressor\n",
    "from sklearn.preprocessing import StandardScaler, KernelCenterer, RobustScaler\n",
    "from sklearn.svm import SVR, LinearSVR, NuSVR\n",
    "from sklearn.tree import DecisionTreeRegressor, ExtraTreeRegressor\n",
    "from sklearn.metrics import r2_score, mean_absolute_error, mean_squared_error\n",
    "from sklearn.pipeline import Pipeline\n",
    "from sklearn.preprocessing import StandardScaler\n",
    "from xgboost import XGBRegressor\n",
    "import joblib\n",
    "from sklearn.model_selection import cross_val_score\n",
    "from sklearn.pipeline import make_pipeline"
   ]
  },
  {
   "cell_type": "code",
   "execution_count": 2,
   "id": "a9024555-54c5-491f-9a86-8694df94ce2c",
   "metadata": {},
   "outputs": [],
   "source": [
    "import tensorflow as tf\n",
    "from tensorflow import keras\n",
    "from tensorflow.keras import Sequential\n",
    "from tensorflow.keras.layers import Dense\n",
    "import pandas as pd\n",
    "import numpy as np\n",
    "import matplotlib.pyplot as plt\n",
    "from sklearn.model_selection import train_test_split\n",
    "from sklearn.metrics import r2_score, mean_absolute_error, mean_squared_error, max_error\n",
    "import time\n",
    "from keras_tuner.tuners import RandomSearch\n",
    "import keras_tuner\n",
    "from keras_tuner.tuners import Hyperband\n",
    "from tensorflow.keras.callbacks import ModelCheckpoint\n",
    "from tensorflow.keras.models import load_model\n",
    "from tensorflow.keras.utils import plot_model\n",
    "import matplotlib.pyplot as plt\n",
    "import matplotlib.image as mpimg\n",
    "from matplotlib.gridspec import GridSpec\n",
    "from sklearn.preprocessing import StandardScaler"
   ]
  },
  {
   "cell_type": "code",
   "execution_count": 3,
   "id": "7dada1ad-b1f2-4516-8918-095878ff5654",
   "metadata": {},
   "outputs": [],
   "source": [
    "import pandas as pd\n",
    "import numpy as np\n",
    "import matplotlib.pyplot as plt\n",
    "import seaborn as sns"
   ]
  },
  {
   "cell_type": "markdown",
   "id": "0b545427-de0e-49bb-8dff-1a16d18f8814",
   "metadata": {},
   "source": [
    "## REDUCE MAX AERR"
   ]
  },
  {
   "cell_type": "code",
   "execution_count": 4,
   "id": "2056d131-92a8-4526-9f77-5f91778fc5d1",
   "metadata": {},
   "outputs": [],
   "source": [
    "reduce_index = []"
   ]
  },
  {
   "cell_type": "code",
   "execution_count": 5,
   "id": "102994a1-a2b2-410d-8709-4b7ae38654ca",
   "metadata": {},
   "outputs": [],
   "source": [
    "df_all = pd.read_csv('z_score_3_data_all.csv')\n",
    "x_all = df_all.drop(columns = [\"V\",\"α\",\"β\"])\n",
    "y_all = df_all[[\"V\",\"α\",\"β\"]]\n",
    "\n",
    "x0_train, x0_test, y0_train, y0_test = train_test_split(x_all, y_all,\n",
    "                                                        random_state = 42, test_size = 0.2)"
   ]
  },
  {
   "cell_type": "code",
   "execution_count": 6,
   "id": "c6b502f7-fbc3-4e5a-aafb-b17437ccc11c",
   "metadata": {},
   "outputs": [
    {
     "name": "stdout",
     "output_type": "stream",
     "text": [
      "R2 : \n",
      " Alpha : 0.9999999813543439 \n",
      " Beta : 0.977405104213847 \n",
      " V : 0.9999997375615296 \n",
      "MAE : \n",
      " Alpha : 0.002604547261349629 \n",
      " Beta : 0.559077213592743 \n",
      " V : 0.0018585468821989413 \n",
      "MSE : \n",
      " Alpha : 2.4353795012336788e-05 \n",
      " Beta : 2.5045052507851886 \n",
      " V : 5.227615544605306e-05 \n",
      "Max AERR : \n",
      " V     0.084655\n",
      "α     0.044422\n",
      "β    15.077669\n",
      "dtype: float64\n",
      "Waktu yang dibutuhkan :  2.118449338277181\n"
     ]
    }
   ],
   "source": [
    "def max_absolute_error(y_true, y_pred):\n",
    "    return np.max(np.abs(y_true - y_pred), axis=0)\n",
    "scaler = StandardScaler()\n",
    "\n",
    "# Base models (Level Pertama)\n",
    "base_models = [\n",
    "    # ('random_forest', RandomForestRegressor(n_estimators=250, max_depth=None, random_state=42, min_samples_leaf= 1, min_samples_split= 2, max_features = 'sqrt')),\n",
    "    ('random_forest', RandomForestRegressor(n_estimators=100, max_depth=None, random_state=21, max_leaf_nodes= 800)),\n",
    "    ('gradient_boosting', GradientBoostingRegressor(n_estimators=400, learning_rate=0.0579, random_state=42, max_depth = 5)),\n",
    "    ('knn', make_pipeline(StandardScaler(), KNeighborsRegressor(n_neighbors=2, weights='distance', algorithm='auto')))\n",
    "]\n",
    "\n",
    "# Meta-model (Level Kedua)\n",
    "# Menggunakan Ridge Regression sebagai meta-model untuk menghindari overfitting\n",
    "meta_model = Ridge(alpha=0.1)\n",
    "\n",
    "# Membentuk Stacking Regressor\n",
    "stacking_regressor = StackingRegressor(\n",
    "    estimators=base_models,\n",
    "    final_estimator=meta_model,\n",
    "    passthrough=True  # Memasukkan data asli ke meta-model bersama prediksi base models\n",
    ")\n",
    "\n",
    "# Untuk multi-output, kita bungkus dengan MultiOutputRegressor\n",
    "model_all_best = MultiOutputRegressor(stacking_regressor)\n",
    "start = time.time()\n",
    "# Training\n",
    "model_all_best.fit(x0_train, y0_train)\n",
    "end = time.time()\n",
    "waktu = (end-start)/60\n",
    "# Prediction\n",
    "y0_pred = model_all_best.predict(x0_test)\n",
    "r2 = r2_score(y0_test, y0_pred, multioutput = 'raw_values')\n",
    "mae = mean_absolute_error(y0_test, y0_pred, multioutput = 'raw_values')\n",
    "mse = mean_squared_error(y0_test, y0_pred, multioutput = 'raw_values')\n",
    "max_ae = max_absolute_error(y0_test, y0_pred)\n",
    "print(f'R2 : \\n Alpha : {r2[1]} \\n Beta : {r2[2]} \\n V : {r2[0]} ')\n",
    "print(f'MAE : \\n Alpha : {mae[1]} \\n Beta : {mae[2]} \\n V : {mae[0]} ')\n",
    "print(f'MSE : \\n Alpha : {mse[1]} \\n Beta : {mse[2]} \\n V : {mse[0]} ')\n",
    "print('Max AERR : \\n', max_ae)\n",
    "print(\"Waktu yang dibutuhkan : \", waktu)"
   ]
  },
  {
   "cell_type": "code",
   "execution_count": 7,
   "id": "3b52c47a-c34d-4f9c-9c79-baa3066196c8",
   "metadata": {},
   "outputs": [
    {
     "name": "stdout",
     "output_type": "stream",
     "text": [
      "6744\n",
      "[2653]\n"
     ]
    }
   ],
   "source": [
    "y_pred_df = pd.DataFrame(y0_pred, columns = [\"V\",\"α\",\"β\"], index = y0_test.index)\n",
    "aerr = np.abs(y_pred_df - y0_test)\n",
    "index_max_aerr = aerr[\"β\"].idxmax()\n",
    "df_all_clean_1 = df_all.drop(index = index_max_aerr)\n",
    "print(len(df_all_clean_1))\n",
    "reduce_index.append(index_max_aerr)\n",
    "print(reduce_index)"
   ]
  },
  {
   "cell_type": "markdown",
   "id": "22562f8e-d55f-4a2f-93cf-d64da8586f19",
   "metadata": {},
   "source": [
    "### AFTER REDUCE 1"
   ]
  },
  {
   "cell_type": "code",
   "execution_count": 8,
   "id": "5803c32a-8385-4777-9be0-a03b210a33cf",
   "metadata": {},
   "outputs": [],
   "source": [
    "x_all = df_all_clean_1.drop(columns = [\"V\",\"α\",\"β\"])\n",
    "y_all = df_all_clean_1[[\"V\",\"α\",\"β\"]]\n",
    "\n",
    "x0_train, x0_test, y0_train, y0_test = train_test_split(x_all, y_all,\n",
    "                                                        random_state = 42, test_size = 0.2)"
   ]
  },
  {
   "cell_type": "code",
   "execution_count": 9,
   "id": "cbc2adb8-c5f4-43d5-a665-e8430eca6897",
   "metadata": {},
   "outputs": [
    {
     "name": "stdout",
     "output_type": "stream",
     "text": [
      "R2 : \n",
      " Alpha : 0.9999999738997234 \n",
      " Beta : 0.9791201241157456 \n",
      " V : 0.999999767956747 \n",
      "MAE : \n",
      " Alpha : 0.0028822101289861 \n",
      " Beta : 0.5819017930689058 \n",
      " V : 0.0017477101223856695 \n",
      "MSE : \n",
      " Alpha : 3.334355840427031e-05 \n",
      " Beta : 2.3498636326644653 \n",
      " V : 4.594868125542621e-05 \n",
      "Max AERR : \n",
      " V     0.083621\n",
      "α     0.068427\n",
      "β    15.632787\n",
      "dtype: float64\n",
      "Waktu yang dibutuhkan :  2.0624476273854575\n"
     ]
    }
   ],
   "source": [
    "def max_absolute_error(y_true, y_pred):\n",
    "    return np.max(np.abs(y_true - y_pred), axis=0)\n",
    "scaler = StandardScaler()\n",
    "\n",
    "# Base models (Level Pertama)\n",
    "base_models = [\n",
    "    # ('random_forest', RandomForestRegressor(n_estimators=250, max_depth=None, random_state=42, min_samples_leaf= 1, min_samples_split= 2, max_features = 'sqrt')),\n",
    "    ('random_forest', RandomForestRegressor(n_estimators=100, max_depth=None, random_state=21, max_leaf_nodes= 800)),\n",
    "    ('gradient_boosting', GradientBoostingRegressor(n_estimators=400, learning_rate=0.0579, random_state=42, max_depth = 5)),\n",
    "    ('knn', make_pipeline(StandardScaler(), KNeighborsRegressor(n_neighbors=2, weights='distance', algorithm='auto')))\n",
    "]\n",
    "\n",
    "# Meta-model (Level Kedua)\n",
    "# Menggunakan Ridge Regression sebagai meta-model untuk menghindari overfitting\n",
    "meta_model = Ridge(alpha=0.1)\n",
    "\n",
    "# Membentuk Stacking Regressor\n",
    "stacking_regressor = StackingRegressor(\n",
    "    estimators=base_models,\n",
    "    final_estimator=meta_model,\n",
    "    passthrough=True  # Memasukkan data asli ke meta-model bersama prediksi base models\n",
    ")\n",
    "\n",
    "# Untuk multi-output, kita bungkus dengan MultiOutputRegressor\n",
    "model_all_best = MultiOutputRegressor(stacking_regressor)\n",
    "start = time.time()\n",
    "# Training\n",
    "model_all_best.fit(x0_train, y0_train)\n",
    "end = time.time()\n",
    "waktu = (end-start)/60\n",
    "# Prediction\n",
    "y0_pred = model_all_best.predict(x0_test)\n",
    "r2 = r2_score(y0_test, y0_pred, multioutput = 'raw_values')\n",
    "mae = mean_absolute_error(y0_test, y0_pred, multioutput = 'raw_values')\n",
    "mse = mean_squared_error(y0_test, y0_pred, multioutput = 'raw_values')\n",
    "max_ae = max_absolute_error(y0_test, y0_pred)\n",
    "print(f'R2 : \\n Alpha : {r2[1]} \\n Beta : {r2[2]} \\n V : {r2[0]} ')\n",
    "print(f'MAE : \\n Alpha : {mae[1]} \\n Beta : {mae[2]} \\n V : {mae[0]} ')\n",
    "print(f'MSE : \\n Alpha : {mse[1]} \\n Beta : {mse[2]} \\n V : {mse[0]} ')\n",
    "print('Max AERR : \\n', max_ae)\n",
    "print(\"Waktu yang dibutuhkan : \", waktu)"
   ]
  },
  {
   "cell_type": "code",
   "execution_count": 10,
   "id": "3a2a987c-ca8c-4c7e-9d38-d974db4b7b98",
   "metadata": {},
   "outputs": [
    {
     "name": "stdout",
     "output_type": "stream",
     "text": [
      "6743\n"
     ]
    }
   ],
   "source": [
    "y_pred_df = pd.DataFrame(y0_pred, columns = [\"V\",\"α\",\"β\"], index = y0_test.index)\n",
    "aerr = np.abs(y_pred_df - y0_test)\n",
    "index_max_aerr = aerr[\"β\"].idxmax()\n",
    "df_all_clean_2 = df_all_clean_1.drop(index = index_max_aerr)\n",
    "print(len(df_all_clean_2))"
   ]
  },
  {
   "cell_type": "markdown",
   "id": "697dab98-db77-4abe-a0c0-3bc173a036b4",
   "metadata": {},
   "source": [
    "### AFTER REDUCE 2"
   ]
  },
  {
   "cell_type": "code",
   "execution_count": 13,
   "id": "8332c51b-96e0-4cf6-af8f-a5c99b67f11d",
   "metadata": {},
   "outputs": [],
   "source": [
    "x_all = df_all_clean_2.drop(columns = [\"V\",\"α\",\"β\"])\n",
    "y_all = df_all_clean_2[[\"V\",\"α\",\"β\"]]\n",
    "\n",
    "x0_train, x0_test, y0_train, y0_test = train_test_split(x_all, y_all,\n",
    "                                                        random_state = 42, test_size = 0.2)"
   ]
  },
  {
   "cell_type": "code",
   "execution_count": 14,
   "id": "ed9a336d-1d5a-4891-9cde-71ba26071566",
   "metadata": {},
   "outputs": [
    {
     "name": "stdout",
     "output_type": "stream",
     "text": [
      "R2 : \n",
      " Alpha : 0.9999999806192993 \n",
      " Beta : 0.9764682222640888 \n",
      " V : 0.9999997368467912 \n",
      "MAE : \n",
      " Alpha : 0.0027025711803142873 \n",
      " Beta : 0.5690155804467043 \n",
      " V : 0.0018537152299413478 \n",
      "MSE : \n",
      " Alpha : 2.4552661153461546e-05 \n",
      " Beta : 2.662847160541583 \n",
      " V : 5.2715460462389246e-05 \n",
      "Max AERR : \n",
      " V     0.073038\n",
      "α     0.050397\n",
      "β    14.499736\n",
      "dtype: float64\n",
      "Waktu yang dibutuhkan :  2.104402287801107\n"
     ]
    }
   ],
   "source": [
    "def max_absolute_error(y_true, y_pred):\n",
    "    return np.max(np.abs(y_true - y_pred), axis=0)\n",
    "scaler = StandardScaler()\n",
    "\n",
    "# Base models (Level Pertama)\n",
    "base_models = [\n",
    "    # ('random_forest', RandomForestRegressor(n_estimators=250, max_depth=None, random_state=42, min_samples_leaf= 1, min_samples_split= 2, max_features = 'sqrt')),\n",
    "    ('random_forest', RandomForestRegressor(n_estimators=100, max_depth=None, random_state=21, max_leaf_nodes= 800)),\n",
    "    ('gradient_boosting', GradientBoostingRegressor(n_estimators=400, learning_rate=0.0579, random_state=42, max_depth = 5)),\n",
    "    ('knn', make_pipeline(StandardScaler(), KNeighborsRegressor(n_neighbors=2, weights='distance', algorithm='auto')))\n",
    "]\n",
    "\n",
    "# Meta-model (Level Kedua)\n",
    "# Menggunakan Ridge Regression sebagai meta-model untuk menghindari overfitting\n",
    "meta_model = Ridge(alpha=0.1)\n",
    "\n",
    "# Membentuk Stacking Regressor\n",
    "stacking_regressor = StackingRegressor(\n",
    "    estimators=base_models,\n",
    "    final_estimator=meta_model,\n",
    "    passthrough=True  # Memasukkan data asli ke meta-model bersama prediksi base models\n",
    ")\n",
    "\n",
    "# Untuk multi-output, kita bungkus dengan MultiOutputRegressor\n",
    "model_all_best = MultiOutputRegressor(stacking_regressor)\n",
    "start = time.time()\n",
    "# Training\n",
    "model_all_best.fit(x0_train, y0_train)\n",
    "end = time.time()\n",
    "waktu = (end-start)/60\n",
    "# Prediction\n",
    "y0_pred = model_all_best.predict(x0_test)\n",
    "r2 = r2_score(y0_test, y0_pred, multioutput = 'raw_values')\n",
    "mae = mean_absolute_error(y0_test, y0_pred, multioutput = 'raw_values')\n",
    "mse = mean_squared_error(y0_test, y0_pred, multioutput = 'raw_values')\n",
    "max_ae = max_absolute_error(y0_test, y0_pred)\n",
    "print(f'R2 : \\n Alpha : {r2[1]} \\n Beta : {r2[2]} \\n V : {r2[0]} ')\n",
    "print(f'MAE : \\n Alpha : {mae[1]} \\n Beta : {mae[2]} \\n V : {mae[0]} ')\n",
    "print(f'MSE : \\n Alpha : {mse[1]} \\n Beta : {mse[2]} \\n V : {mse[0]} ')\n",
    "print('Max AERR : \\n', max_ae)\n",
    "print(\"Waktu yang dibutuhkan : \", waktu)"
   ]
  },
  {
   "cell_type": "code",
   "execution_count": 15,
   "id": "39b6b4b3-b65a-4275-b43c-8eae92af0ef4",
   "metadata": {},
   "outputs": [
    {
     "name": "stdout",
     "output_type": "stream",
     "text": [
      "6742\n",
      "[2653, 3955]\n"
     ]
    }
   ],
   "source": [
    "y_pred_df = pd.DataFrame(y0_pred, columns = [\"V\",\"α\",\"β\"], index = y0_test.index)\n",
    "aerr = np.abs(y_pred_df - y0_test)\n",
    "index_max_aerr = aerr[\"β\"].idxmax()\n",
    "df_all_clean_3 = df_all_clean_2.drop(index = index_max_aerr)\n",
    "print(len(df_all_clean_3))\n",
    "reduce_index.append(index_max_aerr)\n",
    "print(reduce_index)"
   ]
  },
  {
   "cell_type": "markdown",
   "id": "dc433259-5459-4bf4-b9d2-00252c54d9a1",
   "metadata": {},
   "source": [
    "### AFTER REDUCE 3"
   ]
  },
  {
   "cell_type": "code",
   "execution_count": 16,
   "id": "1a9ac619-fe12-4fff-9433-4e127293f3b7",
   "metadata": {},
   "outputs": [],
   "source": [
    "x_all = df_all_clean_3.drop(columns = [\"V\",\"α\",\"β\"])\n",
    "y_all = df_all_clean_3[[\"V\",\"α\",\"β\"]]\n",
    "\n",
    "x0_train, x0_test, y0_train, y0_test = train_test_split(x_all, y_all,\n",
    "                                                        random_state = 42, test_size = 0.2)"
   ]
  },
  {
   "cell_type": "code",
   "execution_count": 17,
   "id": "e8988e81-a78c-4cf9-b235-aa1782b0b0dc",
   "metadata": {},
   "outputs": [
    {
     "name": "stdout",
     "output_type": "stream",
     "text": [
      "R2 : \n",
      " Alpha : 0.9999999669928907 \n",
      " Beta : 0.9731994100130393 \n",
      " V : 0.9999996648216718 \n",
      "MAE : \n",
      " Alpha : 0.0035149331806165677 \n",
      " Beta : 0.5860376092335584 \n",
      " V : 0.0020648284304906213 \n",
      "MSE : \n",
      " Alpha : 4.23178177750007e-05 \n",
      " Beta : 2.848416035841298 \n",
      " V : 6.781785683303794e-05 \n",
      "Max AERR : \n",
      " V     0.088037\n",
      "α     0.063712\n",
      "β    15.539371\n",
      "dtype: float64\n",
      "Waktu yang dibutuhkan :  2.1014964461326597\n"
     ]
    }
   ],
   "source": [
    "def max_absolute_error(y_true, y_pred):\n",
    "    return np.max(np.abs(y_true - y_pred), axis=0)\n",
    "scaler = StandardScaler()\n",
    "\n",
    "# Base models (Level Pertama)\n",
    "base_models = [\n",
    "    # ('random_forest', RandomForestRegressor(n_estimators=250, max_depth=None, random_state=42, min_samples_leaf= 1, min_samples_split= 2, max_features = 'sqrt')),\n",
    "    ('random_forest', RandomForestRegressor(n_estimators=100, max_depth=None, random_state=21, max_leaf_nodes= 800)),\n",
    "    ('gradient_boosting', GradientBoostingRegressor(n_estimators=400, learning_rate=0.0579, random_state=42, max_depth = 5)),\n",
    "    ('knn', make_pipeline(StandardScaler(), KNeighborsRegressor(n_neighbors=2, weights='distance', algorithm='auto')))\n",
    "]\n",
    "\n",
    "# Meta-model (Level Kedua)\n",
    "# Menggunakan Ridge Regression sebagai meta-model untuk menghindari overfitting\n",
    "meta_model = Ridge(alpha=0.1)\n",
    "\n",
    "# Membentuk Stacking Regressor\n",
    "stacking_regressor = StackingRegressor(\n",
    "    estimators=base_models,\n",
    "    final_estimator=meta_model,\n",
    "    passthrough=True  # Memasukkan data asli ke meta-model bersama prediksi base models\n",
    ")\n",
    "\n",
    "# Untuk multi-output, kita bungkus dengan MultiOutputRegressor\n",
    "model_all_best = MultiOutputRegressor(stacking_regressor)\n",
    "start = time.time()\n",
    "# Training\n",
    "model_all_best.fit(x0_train, y0_train)\n",
    "end = time.time()\n",
    "waktu = (end-start)/60\n",
    "# Prediction\n",
    "y0_pred = model_all_best.predict(x0_test)\n",
    "r2 = r2_score(y0_test, y0_pred, multioutput = 'raw_values')\n",
    "mae = mean_absolute_error(y0_test, y0_pred, multioutput = 'raw_values')\n",
    "mse = mean_squared_error(y0_test, y0_pred, multioutput = 'raw_values')\n",
    "max_ae = max_absolute_error(y0_test, y0_pred)\n",
    "print(f'R2 : \\n Alpha : {r2[1]} \\n Beta : {r2[2]} \\n V : {r2[0]} ')\n",
    "print(f'MAE : \\n Alpha : {mae[1]} \\n Beta : {mae[2]} \\n V : {mae[0]} ')\n",
    "print(f'MSE : \\n Alpha : {mse[1]} \\n Beta : {mse[2]} \\n V : {mse[0]} ')\n",
    "print('Max AERR : \\n', max_ae)\n",
    "print(\"Waktu yang dibutuhkan : \", waktu)"
   ]
  },
  {
   "cell_type": "code",
   "execution_count": 18,
   "id": "fb6c4a76-f93b-43c6-91cc-361c998cd061",
   "metadata": {},
   "outputs": [
    {
     "name": "stdout",
     "output_type": "stream",
     "text": [
      "6741\n"
     ]
    }
   ],
   "source": [
    "y_pred_df = pd.DataFrame(y0_pred, columns = [\"V\",\"α\",\"β\"], index = y0_test.index)\n",
    "aerr = np.abs(y_pred_df - y0_test)\n",
    "index_max_aerr = aerr[\"β\"].idxmax()\n",
    "df_all_clean_4 = df_all_clean_3.drop(index = index_max_aerr)\n",
    "print(len(df_all_clean_4))"
   ]
  },
  {
   "cell_type": "markdown",
   "id": "66e517d9-7041-4d8b-8994-19bc7a7a3709",
   "metadata": {},
   "source": [
    "### AFTER REDUCE 4"
   ]
  },
  {
   "cell_type": "code",
   "execution_count": 19,
   "id": "25801c90-f464-4350-af9b-6f21a13dd580",
   "metadata": {},
   "outputs": [],
   "source": [
    "x_all = df_all_clean_4.drop(columns = [\"V\",\"α\",\"β\"])\n",
    "y_all = df_all_clean_4[[\"V\",\"α\",\"β\"]]\n",
    "\n",
    "x0_train, x0_test, y0_train, y0_test = train_test_split(x_all, y_all,\n",
    "                                                        random_state = 42, test_size = 0.2)"
   ]
  },
  {
   "cell_type": "code",
   "execution_count": 20,
   "id": "63780b40-9fa1-49ed-9545-902fbb42813a",
   "metadata": {},
   "outputs": [
    {
     "name": "stdout",
     "output_type": "stream",
     "text": [
      "R2 : \n",
      " Alpha : 0.9999999765442166 \n",
      " Beta : 0.9770015563307579 \n",
      " V : 0.9999996674556278 \n",
      "MAE : \n",
      " Alpha : 0.0025846035005702333 \n",
      " Beta : 0.5992313748606602 \n",
      " V : 0.0020828580283698086 \n",
      "MSE : \n",
      " Alpha : 3.0181304130251413e-05 \n",
      " Beta : 2.492106473224148 \n",
      " V : 6.728378035838795e-05 \n",
      "Max AERR : \n",
      " V     0.088122\n",
      "α     0.065167\n",
      "β    14.856357\n",
      "dtype: float64\n",
      "Waktu yang dibutuhkan :  2.0963802496592203\n"
     ]
    }
   ],
   "source": [
    "def max_absolute_error(y_true, y_pred):\n",
    "    return np.max(np.abs(y_true - y_pred), axis=0)\n",
    "scaler = StandardScaler()\n",
    "\n",
    "# Base models (Level Pertama)\n",
    "base_models = [\n",
    "    # ('random_forest', RandomForestRegressor(n_estimators=250, max_depth=None, random_state=42, min_samples_leaf= 1, min_samples_split= 2, max_features = 'sqrt')),\n",
    "    ('random_forest', RandomForestRegressor(n_estimators=100, max_depth=None, random_state=21, max_leaf_nodes= 800)),\n",
    "    ('gradient_boosting', GradientBoostingRegressor(n_estimators=400, learning_rate=0.0579, random_state=42, max_depth = 5)),\n",
    "    ('knn', make_pipeline(StandardScaler(), KNeighborsRegressor(n_neighbors=2, weights='distance', algorithm='auto')))\n",
    "]\n",
    "\n",
    "# Meta-model (Level Kedua)\n",
    "# Menggunakan Ridge Regression sebagai meta-model untuk menghindari overfitting\n",
    "meta_model = Ridge(alpha=0.1)\n",
    "\n",
    "# Membentuk Stacking Regressor\n",
    "stacking_regressor = StackingRegressor(\n",
    "    estimators=base_models,\n",
    "    final_estimator=meta_model,\n",
    "    passthrough=True  # Memasukkan data asli ke meta-model bersama prediksi base models\n",
    ")\n",
    "\n",
    "# Untuk multi-output, kita bungkus dengan MultiOutputRegressor\n",
    "model_all_best = MultiOutputRegressor(stacking_regressor)\n",
    "start = time.time()\n",
    "# Training\n",
    "model_all_best.fit(x0_train, y0_train)\n",
    "end = time.time()\n",
    "waktu = (end-start)/60\n",
    "# Prediction\n",
    "y0_pred = model_all_best.predict(x0_test)\n",
    "r2 = r2_score(y0_test, y0_pred, multioutput = 'raw_values')\n",
    "mae = mean_absolute_error(y0_test, y0_pred, multioutput = 'raw_values')\n",
    "mse = mean_squared_error(y0_test, y0_pred, multioutput = 'raw_values')\n",
    "max_ae = max_absolute_error(y0_test, y0_pred)\n",
    "print(f'R2 : \\n Alpha : {r2[1]} \\n Beta : {r2[2]} \\n V : {r2[0]} ')\n",
    "print(f'MAE : \\n Alpha : {mae[1]} \\n Beta : {mae[2]} \\n V : {mae[0]} ')\n",
    "print(f'MSE : \\n Alpha : {mse[1]} \\n Beta : {mse[2]} \\n V : {mse[0]} ')\n",
    "print('Max AERR : \\n', max_ae)\n",
    "print(\"Waktu yang dibutuhkan : \", waktu)"
   ]
  },
  {
   "cell_type": "code",
   "execution_count": 21,
   "id": "fb9c2347-012c-4acf-a1cc-ab85a36d434f",
   "metadata": {},
   "outputs": [
    {
     "name": "stdout",
     "output_type": "stream",
     "text": [
      "6740\n"
     ]
    }
   ],
   "source": [
    "y_pred_df = pd.DataFrame(y0_pred, columns = [\"V\",\"α\",\"β\"], index = y0_test.index)\n",
    "aerr = np.abs(y_pred_df - y0_test)\n",
    "index_max_aerr = aerr[\"β\"].idxmax()\n",
    "df_all_clean_5 = df_all_clean_4.drop(index = index_max_aerr)\n",
    "print(len(df_all_clean_5))"
   ]
  },
  {
   "cell_type": "markdown",
   "id": "96407e3c-9e75-44f6-b98a-bfa551bc7631",
   "metadata": {},
   "source": [
    "### AFTER REDUCE 5"
   ]
  },
  {
   "cell_type": "code",
   "execution_count": 22,
   "id": "9fc40966-04e6-4311-950e-458088149e63",
   "metadata": {},
   "outputs": [],
   "source": [
    "x_all = df_all_clean_5.drop(columns = [\"V\",\"α\",\"β\"])\n",
    "y_all = df_all_clean_5[[\"V\",\"α\",\"β\"]]\n",
    "\n",
    "x0_train, x0_test, y0_train, y0_test = train_test_split(x_all, y_all,\n",
    "                                                        random_state = 42, test_size = 0.2)"
   ]
  },
  {
   "cell_type": "code",
   "execution_count": 23,
   "id": "49dc9b33-a6e2-4c3a-8e44-c2da563537a0",
   "metadata": {},
   "outputs": [
    {
     "name": "stdout",
     "output_type": "stream",
     "text": [
      "R2 : \n",
      " Alpha : 0.9999999836814871 \n",
      " Beta : 0.9778258240157613 \n",
      " V : 0.9999997400534842 \n",
      "MAE : \n",
      " Alpha : 0.0025025270281960636 \n",
      " Beta : 0.5667498731563047 \n",
      " V : 0.0018424718599312408 \n",
      "MSE : \n",
      " Alpha : 2.026631802744071e-05 \n",
      " Beta : 2.4481241317597764 \n",
      " V : 5.266746916140483e-05 \n",
      "Max AERR : \n",
      " V     0.072832\n",
      "α     0.041409\n",
      "β    15.529450\n",
      "dtype: float64\n",
      "Waktu yang dibutuhkan :  2.11029136578242\n"
     ]
    }
   ],
   "source": [
    "def max_absolute_error(y_true, y_pred):\n",
    "    return np.max(np.abs(y_true - y_pred), axis=0)\n",
    "scaler = StandardScaler()\n",
    "\n",
    "# Base models (Level Pertama)\n",
    "base_models = [\n",
    "    # ('random_forest', RandomForestRegressor(n_estimators=250, max_depth=None, random_state=42, min_samples_leaf= 1, min_samples_split= 2, max_features = 'sqrt')),\n",
    "    ('random_forest', RandomForestRegressor(n_estimators=100, max_depth=None, random_state=21, max_leaf_nodes= 800)),\n",
    "    ('gradient_boosting', GradientBoostingRegressor(n_estimators=400, learning_rate=0.0579, random_state=42, max_depth = 5)),\n",
    "    ('knn', make_pipeline(StandardScaler(), KNeighborsRegressor(n_neighbors=2, weights='distance', algorithm='auto')))\n",
    "]\n",
    "\n",
    "# Meta-model (Level Kedua)\n",
    "# Menggunakan Ridge Regression sebagai meta-model untuk menghindari overfitting\n",
    "meta_model = Ridge(alpha=0.1)\n",
    "\n",
    "# Membentuk Stacking Regressor\n",
    "stacking_regressor = StackingRegressor(\n",
    "    estimators=base_models,\n",
    "    final_estimator=meta_model,\n",
    "    passthrough=True  # Memasukkan data asli ke meta-model bersama prediksi base models\n",
    ")\n",
    "\n",
    "# Untuk multi-output, kita bungkus dengan MultiOutputRegressor\n",
    "model_all_best = MultiOutputRegressor(stacking_regressor)\n",
    "start = time.time()\n",
    "# Training\n",
    "model_all_best.fit(x0_train, y0_train)\n",
    "end = time.time()\n",
    "waktu = (end-start)/60\n",
    "# Prediction\n",
    "y0_pred = model_all_best.predict(x0_test)\n",
    "r2 = r2_score(y0_test, y0_pred, multioutput = 'raw_values')\n",
    "mae = mean_absolute_error(y0_test, y0_pred, multioutput = 'raw_values')\n",
    "mse = mean_squared_error(y0_test, y0_pred, multioutput = 'raw_values')\n",
    "max_ae = max_absolute_error(y0_test, y0_pred)\n",
    "print(f'R2 : \\n Alpha : {r2[1]} \\n Beta : {r2[2]} \\n V : {r2[0]} ')\n",
    "print(f'MAE : \\n Alpha : {mae[1]} \\n Beta : {mae[2]} \\n V : {mae[0]} ')\n",
    "print(f'MSE : \\n Alpha : {mse[1]} \\n Beta : {mse[2]} \\n V : {mse[0]} ')\n",
    "print('Max AERR : \\n', max_ae)\n",
    "print(\"Waktu yang dibutuhkan : \", waktu)"
   ]
  },
  {
   "cell_type": "code",
   "execution_count": 24,
   "id": "dd1788ad-ef32-4cdd-9dbe-4c3a17c7d1b3",
   "metadata": {},
   "outputs": [
    {
     "name": "stdout",
     "output_type": "stream",
     "text": [
      "6739\n"
     ]
    }
   ],
   "source": [
    "y_pred_df = pd.DataFrame(y0_pred, columns = [\"V\",\"α\",\"β\"], index = y0_test.index)\n",
    "aerr = np.abs(y_pred_df - y0_test)\n",
    "index_max_aerr = aerr[\"β\"].idxmax()\n",
    "df_all_clean_6 = df_all_clean_5.drop(index = index_max_aerr)\n",
    "print(len(df_all_clean_6))"
   ]
  },
  {
   "cell_type": "markdown",
   "id": "b7ffd89b-c1c6-42cb-b45f-a48af63d4b97",
   "metadata": {},
   "source": [
    "### AFTER REDUCE 6 "
   ]
  },
  {
   "cell_type": "code",
   "execution_count": 25,
   "id": "0e859d42-0d9a-4d40-809b-4d749a5c0d34",
   "metadata": {},
   "outputs": [],
   "source": [
    "x_all = df_all_clean_6.drop(columns = [\"V\",\"α\",\"β\"])\n",
    "y_all = df_all_clean_6[[\"V\",\"α\",\"β\"]]\n",
    "\n",
    "x0_train, x0_test, y0_train, y0_test = train_test_split(x_all, y_all,\n",
    "                                                        random_state = 42, test_size = 0.2)"
   ]
  },
  {
   "cell_type": "code",
   "execution_count": 26,
   "id": "ffb3814c-3699-46c5-9009-f1e7048b1374",
   "metadata": {},
   "outputs": [
    {
     "name": "stdout",
     "output_type": "stream",
     "text": [
      "R2 : \n",
      " Alpha : 0.9999999822307682 \n",
      " Beta : 0.9818477981444924 \n",
      " V : 0.999999687754212 \n",
      "MAE : \n",
      " Alpha : 0.002450614219054185 \n",
      " Beta : 0.5215853722250828 \n",
      " V : 0.0019511397819043585 \n",
      "MSE : \n",
      " Alpha : 2.2642606877234367e-05 \n",
      " Beta : 2.0241461146453985 \n",
      " V : 6.38578820067148e-05 \n",
      "Max AERR : \n",
      " V     0.081263\n",
      "α     0.043083\n",
      "β    13.504422\n",
      "dtype: float64\n",
      "Waktu yang dibutuhkan :  2.1017019629478453\n"
     ]
    }
   ],
   "source": [
    "def max_absolute_error(y_true, y_pred):\n",
    "    return np.max(np.abs(y_true - y_pred), axis=0)\n",
    "scaler = StandardScaler()\n",
    "\n",
    "# Base models (Level Pertama)\n",
    "base_models = [\n",
    "    # ('random_forest', RandomForestRegressor(n_estimators=250, max_depth=None, random_state=42, min_samples_leaf= 1, min_samples_split= 2, max_features = 'sqrt')),\n",
    "    ('random_forest', RandomForestRegressor(n_estimators=100, max_depth=None, random_state=21, max_leaf_nodes= 800)),\n",
    "    ('gradient_boosting', GradientBoostingRegressor(n_estimators=400, learning_rate=0.0579, random_state=42, max_depth = 5)),\n",
    "    ('knn', make_pipeline(StandardScaler(), KNeighborsRegressor(n_neighbors=2, weights='distance', algorithm='auto')))\n",
    "]\n",
    "\n",
    "# Meta-model (Level Kedua)\n",
    "# Menggunakan Ridge Regression sebagai meta-model untuk menghindari overfitting\n",
    "meta_model = Ridge(alpha=0.1)\n",
    "\n",
    "# Membentuk Stacking Regressor\n",
    "stacking_regressor = StackingRegressor(\n",
    "    estimators=base_models,\n",
    "    final_estimator=meta_model,\n",
    "    passthrough=True  # Memasukkan data asli ke meta-model bersama prediksi base models\n",
    ")\n",
    "\n",
    "# Untuk multi-output, kita bungkus dengan MultiOutputRegressor\n",
    "model_all_best = MultiOutputRegressor(stacking_regressor)\n",
    "start = time.time()\n",
    "# Training\n",
    "model_all_best.fit(x0_train, y0_train)\n",
    "end = time.time()\n",
    "waktu = (end-start)/60\n",
    "# Prediction\n",
    "y0_pred = model_all_best.predict(x0_test)\n",
    "r2 = r2_score(y0_test, y0_pred, multioutput = 'raw_values')\n",
    "mae = mean_absolute_error(y0_test, y0_pred, multioutput = 'raw_values')\n",
    "mse = mean_squared_error(y0_test, y0_pred, multioutput = 'raw_values')\n",
    "max_ae = max_absolute_error(y0_test, y0_pred)\n",
    "print(f'R2 : \\n Alpha : {r2[1]} \\n Beta : {r2[2]} \\n V : {r2[0]} ')\n",
    "print(f'MAE : \\n Alpha : {mae[1]} \\n Beta : {mae[2]} \\n V : {mae[0]} ')\n",
    "print(f'MSE : \\n Alpha : {mse[1]} \\n Beta : {mse[2]} \\n V : {mse[0]} ')\n",
    "print('Max AERR : \\n', max_ae)\n",
    "print(\"Waktu yang dibutuhkan : \", waktu)"
   ]
  },
  {
   "cell_type": "code",
   "execution_count": 27,
   "id": "6ec81e47-dba8-4197-8ec6-7571cf44cd20",
   "metadata": {},
   "outputs": [
    {
     "name": "stdout",
     "output_type": "stream",
     "text": [
      "6738\n"
     ]
    }
   ],
   "source": [
    "y_pred_df = pd.DataFrame(y0_pred, columns = [\"V\",\"α\",\"β\"], index = y0_test.index)\n",
    "aerr = np.abs(y_pred_df - y0_test)\n",
    "index_max_aerr = aerr[\"β\"].idxmax()\n",
    "df_all_clean_7 = df_all_clean_6.drop(index = index_max_aerr)\n",
    "print(len(df_all_clean_7))"
   ]
  },
  {
   "cell_type": "markdown",
   "id": "8b03d885-61fc-4de9-b2cd-b3b6216aceab",
   "metadata": {},
   "source": [
    "### AFTER REDUCE 7"
   ]
  },
  {
   "cell_type": "code",
   "execution_count": 28,
   "id": "652ce094-b2b3-4dd4-a422-9c0394c6db52",
   "metadata": {},
   "outputs": [],
   "source": [
    "x_all = df_all_clean_7.drop(columns = [\"V\",\"α\",\"β\"])\n",
    "y_all = df_all_clean_7[[\"V\",\"α\",\"β\"]]\n",
    "\n",
    "x0_train, x0_test, y0_train, y0_test = train_test_split(x_all, y_all,\n",
    "                                                        random_state = 42, test_size = 0.2)"
   ]
  },
  {
   "cell_type": "code",
   "execution_count": 29,
   "id": "5e710eb1-ed8a-4260-8b95-6a694045f999",
   "metadata": {},
   "outputs": [
    {
     "name": "stdout",
     "output_type": "stream",
     "text": [
      "R2 : \n",
      " Alpha : 0.9999999793103639 \n",
      " Beta : 0.9789026590297131 \n",
      " V : 0.9999996413821204 \n",
      "MAE : \n",
      " Alpha : 0.002494045401630279 \n",
      " Beta : 0.5558277470708812 \n",
      " V : 0.0020110825643576582 \n",
      "MSE : \n",
      " Alpha : 2.654287289538122e-05 \n",
      " Beta : 2.3118250708688306 \n",
      " V : 7.196567480104904e-05 \n",
      "Max AERR : \n",
      " V     0.093326\n",
      "α     0.046598\n",
      "β    14.609380\n",
      "dtype: float64\n",
      "Waktu yang dibutuhkan :  2.076192589600881\n"
     ]
    }
   ],
   "source": [
    "def max_absolute_error(y_true, y_pred):\n",
    "    return np.max(np.abs(y_true - y_pred), axis=0)\n",
    "scaler = StandardScaler()\n",
    "\n",
    "# Base models (Level Pertama)\n",
    "base_models = [\n",
    "    # ('random_forest', RandomForestRegressor(n_estimators=250, max_depth=None, random_state=42, min_samples_leaf= 1, min_samples_split= 2, max_features = 'sqrt')),\n",
    "    ('random_forest', RandomForestRegressor(n_estimators=100, max_depth=None, random_state=21, max_leaf_nodes= 800)),\n",
    "    ('gradient_boosting', GradientBoostingRegressor(n_estimators=400, learning_rate=0.0579, random_state=42, max_depth = 5)),\n",
    "    ('knn', make_pipeline(StandardScaler(), KNeighborsRegressor(n_neighbors=2, weights='distance', algorithm='auto')))\n",
    "]\n",
    "\n",
    "# Meta-model (Level Kedua)\n",
    "# Menggunakan Ridge Regression sebagai meta-model untuk menghindari overfitting\n",
    "meta_model = Ridge(alpha=0.1)\n",
    "\n",
    "# Membentuk Stacking Regressor\n",
    "stacking_regressor = StackingRegressor(\n",
    "    estimators=base_models,\n",
    "    final_estimator=meta_model,\n",
    "    passthrough=True  # Memasukkan data asli ke meta-model bersama prediksi base models\n",
    ")\n",
    "\n",
    "# Untuk multi-output, kita bungkus dengan MultiOutputRegressor\n",
    "model_all_best = MultiOutputRegressor(stacking_regressor)\n",
    "start = time.time()\n",
    "# Training\n",
    "model_all_best.fit(x0_train, y0_train)\n",
    "end = time.time()\n",
    "waktu = (end-start)/60\n",
    "# Prediction\n",
    "y0_pred = model_all_best.predict(x0_test)\n",
    "r2 = r2_score(y0_test, y0_pred, multioutput = 'raw_values')\n",
    "mae = mean_absolute_error(y0_test, y0_pred, multioutput = 'raw_values')\n",
    "mse = mean_squared_error(y0_test, y0_pred, multioutput = 'raw_values')\n",
    "max_ae = max_absolute_error(y0_test, y0_pred)\n",
    "print(f'R2 : \\n Alpha : {r2[1]} \\n Beta : {r2[2]} \\n V : {r2[0]} ')\n",
    "print(f'MAE : \\n Alpha : {mae[1]} \\n Beta : {mae[2]} \\n V : {mae[0]} ')\n",
    "print(f'MSE : \\n Alpha : {mse[1]} \\n Beta : {mse[2]} \\n V : {mse[0]} ')\n",
    "print('Max AERR : \\n', max_ae)\n",
    "print(\"Waktu yang dibutuhkan : \", waktu)"
   ]
  },
  {
   "cell_type": "code",
   "execution_count": 30,
   "id": "cfa0923e-6f18-43bb-9293-63e917ed73f4",
   "metadata": {},
   "outputs": [
    {
     "name": "stdout",
     "output_type": "stream",
     "text": [
      "6737\n"
     ]
    }
   ],
   "source": [
    "y_pred_df = pd.DataFrame(y0_pred, columns = [\"V\",\"α\",\"β\"], index = y0_test.index)\n",
    "aerr = np.abs(y_pred_df - y0_test)\n",
    "index_max_aerr = aerr[\"β\"].idxmax()\n",
    "df_all_clean_8 = df_all_clean_7.drop(index = index_max_aerr)\n",
    "print(len(df_all_clean_8))"
   ]
  },
  {
   "cell_type": "markdown",
   "id": "b3adf750-0c1d-4866-9c37-d6b9f7a01746",
   "metadata": {},
   "source": [
    "### AFTER REDUCE 8"
   ]
  },
  {
   "cell_type": "code",
   "execution_count": 31,
   "id": "871b11f4-9cb0-4a66-abd9-c091491095fa",
   "metadata": {},
   "outputs": [],
   "source": [
    "x_all = df_all_clean_8.drop(columns = [\"V\",\"α\",\"β\"])\n",
    "y_all = df_all_clean_8[[\"V\",\"α\",\"β\"]]\n",
    "\n",
    "x0_train, x0_test, y0_train, y0_test = train_test_split(x_all, y_all,\n",
    "                                                        random_state = 42, test_size = 0.2)"
   ]
  },
  {
   "cell_type": "code",
   "execution_count": 32,
   "id": "198c2f82-5bdb-40c4-8d12-7c56049b98ea",
   "metadata": {},
   "outputs": [
    {
     "name": "stdout",
     "output_type": "stream",
     "text": [
      "R2 : \n",
      " Alpha : 0.9999999781896386 \n",
      " Beta : 0.9801959168414832 \n",
      " V : 0.9999996464004162 \n",
      "MAE : \n",
      " Alpha : 0.002754751631910952 \n",
      " Beta : 0.5512583874067829 \n",
      " V : 0.002007195348630702 \n",
      "MSE : \n",
      " Alpha : 2.787414099307365e-05 \n",
      " Beta : 2.1839373000771434 \n",
      " V : 7.095727794432465e-05 \n",
      "Max AERR : \n",
      " V     0.083895\n",
      "α     0.061856\n",
      "β    12.531299\n",
      "dtype: float64\n",
      "Waktu yang dibutuhkan :  2.0541852513949075\n"
     ]
    }
   ],
   "source": [
    "def max_absolute_error(y_true, y_pred):\n",
    "    return np.max(np.abs(y_true - y_pred), axis=0)\n",
    "scaler = StandardScaler()\n",
    "\n",
    "# Base models (Level Pertama)\n",
    "base_models = [\n",
    "    # ('random_forest', RandomForestRegressor(n_estimators=250, max_depth=None, random_state=42, min_samples_leaf= 1, min_samples_split= 2, max_features = 'sqrt')),\n",
    "    ('random_forest', RandomForestRegressor(n_estimators=100, max_depth=None, random_state=21, max_leaf_nodes= 800)),\n",
    "    ('gradient_boosting', GradientBoostingRegressor(n_estimators=400, learning_rate=0.0579, random_state=42, max_depth = 5)),\n",
    "    ('knn', make_pipeline(StandardScaler(), KNeighborsRegressor(n_neighbors=2, weights='distance', algorithm='auto')))\n",
    "]\n",
    "\n",
    "# Meta-model (Level Kedua)\n",
    "# Menggunakan Ridge Regression sebagai meta-model untuk menghindari overfitting\n",
    "meta_model = Ridge(alpha=0.1)\n",
    "\n",
    "# Membentuk Stacking Regressor\n",
    "stacking_regressor = StackingRegressor(\n",
    "    estimators=base_models,\n",
    "    final_estimator=meta_model,\n",
    "    passthrough=True  # Memasukkan data asli ke meta-model bersama prediksi base models\n",
    ")\n",
    "\n",
    "# Untuk multi-output, kita bungkus dengan MultiOutputRegressor\n",
    "model_all_best = MultiOutputRegressor(stacking_regressor)\n",
    "start = time.time()\n",
    "# Training\n",
    "model_all_best.fit(x0_train, y0_train)\n",
    "end = time.time()\n",
    "waktu = (end-start)/60\n",
    "# Prediction\n",
    "y0_pred = model_all_best.predict(x0_test)\n",
    "r2 = r2_score(y0_test, y0_pred, multioutput = 'raw_values')\n",
    "mae = mean_absolute_error(y0_test, y0_pred, multioutput = 'raw_values')\n",
    "mse = mean_squared_error(y0_test, y0_pred, multioutput = 'raw_values')\n",
    "max_ae = max_absolute_error(y0_test, y0_pred)\n",
    "print(f'R2 : \\n Alpha : {r2[1]} \\n Beta : {r2[2]} \\n V : {r2[0]} ')\n",
    "print(f'MAE : \\n Alpha : {mae[1]} \\n Beta : {mae[2]} \\n V : {mae[0]} ')\n",
    "print(f'MSE : \\n Alpha : {mse[1]} \\n Beta : {mse[2]} \\n V : {mse[0]} ')\n",
    "print('Max AERR : \\n', max_ae)\n",
    "print(\"Waktu yang dibutuhkan : \", waktu)"
   ]
  },
  {
   "cell_type": "code",
   "execution_count": 33,
   "id": "e135cc93-c611-47df-a429-7ff8bcb4288f",
   "metadata": {},
   "outputs": [
    {
     "name": "stdout",
     "output_type": "stream",
     "text": [
      "6736\n"
     ]
    }
   ],
   "source": [
    "y_pred_df = pd.DataFrame(y0_pred, columns = [\"V\",\"α\",\"β\"], index = y0_test.index)\n",
    "aerr = np.abs(y_pred_df - y0_test)\n",
    "index_max_aerr = aerr[\"β\"].idxmax()\n",
    "df_all_clean_9 = df_all_clean_8.drop(index = index_max_aerr)\n",
    "print(len(df_all_clean_9))"
   ]
  },
  {
   "cell_type": "markdown",
   "id": "c90e4ee0-5f36-4078-962f-cdf63d496d92",
   "metadata": {},
   "source": [
    "### AFTER REDUCE 9"
   ]
  },
  {
   "cell_type": "code",
   "execution_count": 34,
   "id": "c982c6a3-a794-4e92-9947-48b138f83bb6",
   "metadata": {},
   "outputs": [],
   "source": [
    "x_all = df_all_clean_9.drop(columns = [\"V\",\"α\",\"β\"])\n",
    "y_all = df_all_clean_9[[\"V\",\"α\",\"β\"]]\n",
    "\n",
    "x0_train, x0_test, y0_train, y0_test = train_test_split(x_all, y_all,\n",
    "                                                        random_state = 42, test_size = 0.2)"
   ]
  },
  {
   "cell_type": "code",
   "execution_count": 35,
   "id": "ac5a4384-d4e5-4db7-ad72-e3ec3713f834",
   "metadata": {},
   "outputs": [
    {
     "name": "stdout",
     "output_type": "stream",
     "text": [
      "R2 : \n",
      " Alpha : 0.9999999847327692 \n",
      " Beta : 0.9828985978891092 \n",
      " V : 0.9999997588293317 \n",
      "MAE : \n",
      " Alpha : 0.0025779760378018017 \n",
      " Beta : 0.525255326822909 \n",
      " V : 0.0016775034990092299 \n",
      "MSE : \n",
      " Alpha : 1.9302606994699728e-05 \n",
      " Beta : 1.9081823124103434 \n",
      " V : 4.788564167092086e-05 \n",
      "Max AERR : \n",
      " V     0.081904\n",
      "α     0.039391\n",
      "β    13.293029\n",
      "dtype: float64\n",
      "Waktu yang dibutuhkan :  2.0292421142260233\n"
     ]
    }
   ],
   "source": [
    "def max_absolute_error(y_true, y_pred):\n",
    "    return np.max(np.abs(y_true - y_pred), axis=0)\n",
    "scaler = StandardScaler()\n",
    "\n",
    "# Base models (Level Pertama)\n",
    "base_models = [\n",
    "    # ('random_forest', RandomForestRegressor(n_estimators=250, max_depth=None, random_state=42, min_samples_leaf= 1, min_samples_split= 2, max_features = 'sqrt')),\n",
    "    ('random_forest', RandomForestRegressor(n_estimators=100, max_depth=None, random_state=21, max_leaf_nodes= 800)),\n",
    "    ('gradient_boosting', GradientBoostingRegressor(n_estimators=400, learning_rate=0.0579, random_state=42, max_depth = 5)),\n",
    "    ('knn', make_pipeline(StandardScaler(), KNeighborsRegressor(n_neighbors=2, weights='distance', algorithm='auto')))\n",
    "]\n",
    "\n",
    "# Meta-model (Level Kedua)\n",
    "# Menggunakan Ridge Regression sebagai meta-model untuk menghindari overfitting\n",
    "meta_model = Ridge(alpha=0.1)\n",
    "\n",
    "# Membentuk Stacking Regressor\n",
    "stacking_regressor = StackingRegressor(\n",
    "    estimators=base_models,\n",
    "    final_estimator=meta_model,\n",
    "    passthrough=True  # Memasukkan data asli ke meta-model bersama prediksi base models\n",
    ")\n",
    "\n",
    "# Untuk multi-output, kita bungkus dengan MultiOutputRegressor\n",
    "model_all_best = MultiOutputRegressor(stacking_regressor)\n",
    "start = time.time()\n",
    "# Training\n",
    "model_all_best.fit(x0_train, y0_train)\n",
    "end = time.time()\n",
    "waktu = (end-start)/60\n",
    "# Prediction\n",
    "y0_pred = model_all_best.predict(x0_test)\n",
    "r2 = r2_score(y0_test, y0_pred, multioutput = 'raw_values')\n",
    "mae = mean_absolute_error(y0_test, y0_pred, multioutput = 'raw_values')\n",
    "mse = mean_squared_error(y0_test, y0_pred, multioutput = 'raw_values')\n",
    "max_ae = max_absolute_error(y0_test, y0_pred)\n",
    "print(f'R2 : \\n Alpha : {r2[1]} \\n Beta : {r2[2]} \\n V : {r2[0]} ')\n",
    "print(f'MAE : \\n Alpha : {mae[1]} \\n Beta : {mae[2]} \\n V : {mae[0]} ')\n",
    "print(f'MSE : \\n Alpha : {mse[1]} \\n Beta : {mse[2]} \\n V : {mse[0]} ')\n",
    "print('Max AERR : \\n', max_ae)\n",
    "print(\"Waktu yang dibutuhkan : \", waktu)"
   ]
  },
  {
   "cell_type": "code",
   "execution_count": 36,
   "id": "a1406aa9-a68e-446b-99d7-6182babf9873",
   "metadata": {},
   "outputs": [
    {
     "name": "stdout",
     "output_type": "stream",
     "text": [
      "6735\n"
     ]
    }
   ],
   "source": [
    "y_pred_df = pd.DataFrame(y0_pred, columns = [\"V\",\"α\",\"β\"], index = y0_test.index)\n",
    "aerr = np.abs(y_pred_df - y0_test)\n",
    "index_max_aerr = aerr[\"β\"].idxmax()\n",
    "df_all_clean_10 = df_all_clean_9.drop(index = index_max_aerr)\n",
    "print(len(df_all_clean_10))"
   ]
  },
  {
   "cell_type": "markdown",
   "id": "29f53dd4-ab77-400d-adc6-c8fbf8678920",
   "metadata": {},
   "source": [
    "### AFTER REDUCE 10"
   ]
  },
  {
   "cell_type": "code",
   "execution_count": 37,
   "id": "b0167dd0-72b3-4408-b156-89d3203ea4b3",
   "metadata": {},
   "outputs": [],
   "source": [
    "x_all = df_all_clean_10.drop(columns = [\"V\",\"α\",\"β\"])\n",
    "y_all = df_all_clean_10[[\"V\",\"α\",\"β\"]]\n",
    "\n",
    "x0_train, x0_test, y0_train, y0_test = train_test_split(x_all, y_all,\n",
    "                                                        random_state = 42, test_size = 0.2)"
   ]
  },
  {
   "cell_type": "code",
   "execution_count": 38,
   "id": "3d34f901-9105-4f32-8d1b-f2e6cc339a8f",
   "metadata": {},
   "outputs": [
    {
     "name": "stdout",
     "output_type": "stream",
     "text": [
      "R2 : \n",
      " Alpha : 0.9999999847716097 \n",
      " Beta : 0.9823574375512504 \n",
      " V : 0.9999997476003271 \n",
      "MAE : \n",
      " Alpha : 0.002459508828171174 \n",
      " Beta : 0.538656684449404 \n",
      " V : 0.0017734393959564043 \n",
      "MSE : \n",
      " Alpha : 1.9526928835002922e-05 \n",
      " Beta : 1.9527844282548887 \n",
      " V : 5.0019906882486306e-05 \n",
      "Max AERR : \n",
      " V     0.093602\n",
      "α     0.048514\n",
      "β    10.960652\n",
      "dtype: float64\n",
      "Waktu yang dibutuhkan :  2.0263363043467204\n"
     ]
    }
   ],
   "source": [
    "def max_absolute_error(y_true, y_pred):\n",
    "    return np.max(np.abs(y_true - y_pred), axis=0)\n",
    "scaler = StandardScaler()\n",
    "\n",
    "# Base models (Level Pertama)\n",
    "base_models = [\n",
    "    # ('random_forest', RandomForestRegressor(n_estimators=250, max_depth=None, random_state=42, min_samples_leaf= 1, min_samples_split= 2, max_features = 'sqrt')),\n",
    "    ('random_forest', RandomForestRegressor(n_estimators=100, max_depth=None, random_state=21, max_leaf_nodes= 800)),\n",
    "    ('gradient_boosting', GradientBoostingRegressor(n_estimators=400, learning_rate=0.0579, random_state=42, max_depth = 5)),\n",
    "    ('knn', make_pipeline(StandardScaler(), KNeighborsRegressor(n_neighbors=2, weights='distance', algorithm='auto')))\n",
    "]\n",
    "\n",
    "# Meta-model (Level Kedua)\n",
    "# Menggunakan Ridge Regression sebagai meta-model untuk menghindari overfitting\n",
    "meta_model = Ridge(alpha=0.1)\n",
    "\n",
    "# Membentuk Stacking Regressor\n",
    "stacking_regressor = StackingRegressor(\n",
    "    estimators=base_models,\n",
    "    final_estimator=meta_model,\n",
    "    passthrough=True  # Memasukkan data asli ke meta-model bersama prediksi base models\n",
    ")\n",
    "\n",
    "# Untuk multi-output, kita bungkus dengan MultiOutputRegressor\n",
    "model_all_best = MultiOutputRegressor(stacking_regressor)\n",
    "start = time.time()\n",
    "# Training\n",
    "model_all_best.fit(x0_train, y0_train)\n",
    "end = time.time()\n",
    "waktu = (end-start)/60\n",
    "# Prediction\n",
    "y0_pred = model_all_best.predict(x0_test)\n",
    "r2 = r2_score(y0_test, y0_pred, multioutput = 'raw_values')\n",
    "mae = mean_absolute_error(y0_test, y0_pred, multioutput = 'raw_values')\n",
    "mse = mean_squared_error(y0_test, y0_pred, multioutput = 'raw_values')\n",
    "max_ae = max_absolute_error(y0_test, y0_pred)\n",
    "print(f'R2 : \\n Alpha : {r2[1]} \\n Beta : {r2[2]} \\n V : {r2[0]} ')\n",
    "print(f'MAE : \\n Alpha : {mae[1]} \\n Beta : {mae[2]} \\n V : {mae[0]} ')\n",
    "print(f'MSE : \\n Alpha : {mse[1]} \\n Beta : {mse[2]} \\n V : {mse[0]} ')\n",
    "print('Max AERR : \\n', max_ae)\n",
    "print(\"Waktu yang dibutuhkan : \", waktu)"
   ]
  },
  {
   "cell_type": "code",
   "execution_count": 39,
   "id": "1ff383bd-8825-4a42-bcf7-8c021ead436e",
   "metadata": {},
   "outputs": [
    {
     "name": "stdout",
     "output_type": "stream",
     "text": [
      "6734\n"
     ]
    }
   ],
   "source": [
    "y_pred_df = pd.DataFrame(y0_pred, columns = [\"V\",\"α\",\"β\"], index = y0_test.index)\n",
    "aerr = np.abs(y_pred_df - y0_test)\n",
    "index_max_aerr = aerr[\"β\"].idxmax()\n",
    "df_all_clean_11 = df_all_clean_10.drop(index = index_max_aerr)\n",
    "print(len(df_all_clean_11))"
   ]
  },
  {
   "cell_type": "markdown",
   "id": "07460e16-67d9-40bb-bc99-9c522315509d",
   "metadata": {},
   "source": [
    "### AFTER REDUCE 11"
   ]
  },
  {
   "cell_type": "code",
   "execution_count": 40,
   "id": "98629865-d7ed-497e-a6b0-42cfc3ea2277",
   "metadata": {},
   "outputs": [],
   "source": [
    "x_all = df_all_clean_11.drop(columns = [\"V\",\"α\",\"β\"])\n",
    "y_all = df_all_clean_11[[\"V\",\"α\",\"β\"]]\n",
    "\n",
    "x0_train, x0_test, y0_train, y0_test = train_test_split(x_all, y_all,\n",
    "                                                        random_state = 42, test_size = 0.2)"
   ]
  },
  {
   "cell_type": "code",
   "execution_count": 41,
   "id": "128638e6-ed9f-4335-b69b-e1c09eff6dd6",
   "metadata": {},
   "outputs": [
    {
     "name": "stdout",
     "output_type": "stream",
     "text": [
      "R2 : \n",
      " Alpha : 0.9999999762767131 \n",
      " Beta : 0.9821580404321636 \n",
      " V : 0.9999997195142062 \n",
      "MAE : \n",
      " Alpha : 0.0029681725512796828 \n",
      " Beta : 0.5716475210619505 \n",
      " V : 0.001685722997489279 \n",
      "MSE : \n",
      " Alpha : 2.9414987006612827e-05 \n",
      " Beta : 1.9656345299951392 \n",
      " V : 5.5094277108102305e-05 \n",
      "Max AERR : \n",
      " V     0.089227\n",
      "α     0.054734\n",
      "β    13.832811\n",
      "dtype: float64\n",
      "Waktu yang dibutuhkan :  1.9326043883959452\n"
     ]
    }
   ],
   "source": [
    "def max_absolute_error(y_true, y_pred):\n",
    "    return np.max(np.abs(y_true - y_pred), axis=0)\n",
    "scaler = StandardScaler()\n",
    "\n",
    "# Base models (Level Pertama)\n",
    "base_models = [\n",
    "    # ('random_forest', RandomForestRegressor(n_estimators=250, max_depth=None, random_state=42, min_samples_leaf= 1, min_samples_split= 2, max_features = 'sqrt')),\n",
    "    ('random_forest', RandomForestRegressor(n_estimators=100, max_depth=None, random_state=21, max_leaf_nodes= 800)),\n",
    "    ('gradient_boosting', GradientBoostingRegressor(n_estimators=400, learning_rate=0.0579, random_state=42, max_depth = 5)),\n",
    "    ('knn', make_pipeline(StandardScaler(), KNeighborsRegressor(n_neighbors=2, weights='distance', algorithm='auto')))\n",
    "]\n",
    "\n",
    "# Meta-model (Level Kedua)\n",
    "# Menggunakan Ridge Regression sebagai meta-model untuk menghindari overfitting\n",
    "meta_model = Ridge(alpha=0.1)\n",
    "\n",
    "# Membentuk Stacking Regressor\n",
    "stacking_regressor = StackingRegressor(\n",
    "    estimators=base_models,\n",
    "    final_estimator=meta_model,\n",
    "    passthrough=True  # Memasukkan data asli ke meta-model bersama prediksi base models\n",
    ")\n",
    "\n",
    "# Untuk multi-output, kita bungkus dengan MultiOutputRegressor\n",
    "model_all_best = MultiOutputRegressor(stacking_regressor)\n",
    "start = time.time()\n",
    "# Training\n",
    "model_all_best.fit(x0_train, y0_train)\n",
    "end = time.time()\n",
    "waktu = (end-start)/60\n",
    "# Prediction\n",
    "y0_pred = model_all_best.predict(x0_test)\n",
    "r2 = r2_score(y0_test, y0_pred, multioutput = 'raw_values')\n",
    "mae = mean_absolute_error(y0_test, y0_pred, multioutput = 'raw_values')\n",
    "mse = mean_squared_error(y0_test, y0_pred, multioutput = 'raw_values')\n",
    "max_ae = max_absolute_error(y0_test, y0_pred)\n",
    "print(f'R2 : \\n Alpha : {r2[1]} \\n Beta : {r2[2]} \\n V : {r2[0]} ')\n",
    "print(f'MAE : \\n Alpha : {mae[1]} \\n Beta : {mae[2]} \\n V : {mae[0]} ')\n",
    "print(f'MSE : \\n Alpha : {mse[1]} \\n Beta : {mse[2]} \\n V : {mse[0]} ')\n",
    "print('Max AERR : \\n', max_ae)\n",
    "print(\"Waktu yang dibutuhkan : \", waktu)"
   ]
  },
  {
   "cell_type": "code",
   "execution_count": 42,
   "id": "f24585ce-5c5a-43c9-bf01-2595188c11fd",
   "metadata": {},
   "outputs": [
    {
     "name": "stdout",
     "output_type": "stream",
     "text": [
      "6733\n"
     ]
    }
   ],
   "source": [
    "y_pred_df = pd.DataFrame(y0_pred, columns = [\"V\",\"α\",\"β\"], index = y0_test.index)\n",
    "aerr = np.abs(y_pred_df - y0_test)\n",
    "index_max_aerr = aerr[\"β\"].idxmax()\n",
    "df_all_clean_12 = df_all_clean_11.drop(index = index_max_aerr)\n",
    "print(len(df_all_clean_12))"
   ]
  },
  {
   "cell_type": "markdown",
   "id": "8046ecac-9911-4958-b332-4107fe9d67f9",
   "metadata": {},
   "source": [
    "### AFTER REDUCE 12"
   ]
  },
  {
   "cell_type": "code",
   "execution_count": 43,
   "id": "106093e4-6ef3-409a-bbcd-841ab9ca7a62",
   "metadata": {},
   "outputs": [],
   "source": [
    "x_all = df_all_clean_12.drop(columns = [\"V\",\"α\",\"β\"])\n",
    "y_all = df_all_clean_12[[\"V\",\"α\",\"β\"]]\n",
    "\n",
    "x0_train, x0_test, y0_train, y0_test = train_test_split(x_all, y_all,\n",
    "                                                        random_state = 42, test_size = 0.2)"
   ]
  },
  {
   "cell_type": "code",
   "execution_count": 44,
   "id": "09c455ba-2d72-4dfb-a3ba-b6f74906bd47",
   "metadata": {},
   "outputs": [
    {
     "name": "stdout",
     "output_type": "stream",
     "text": [
      "R2 : \n",
      " Alpha : 0.9999999832227282 \n",
      " Beta : 0.9798538567233789 \n",
      " V : 0.9999996568547769 \n",
      "MAE : \n",
      " Alpha : 0.002460906974746163 \n",
      " Beta : 0.5900623046905906 \n",
      " V : 0.00213703640910925 \n",
      "MSE : \n",
      " Alpha : 2.155971270978009e-05 \n",
      " Beta : 2.214224376352329 \n",
      " V : 6.842071335097357e-05 \n",
      "Max AERR : \n",
      " V     0.084347\n",
      "α     0.049333\n",
      "β    13.882795\n",
      "dtype: float64\n",
      "Waktu yang dibutuhkan :  1.8329981207847594\n"
     ]
    }
   ],
   "source": [
    "def max_absolute_error(y_true, y_pred):\n",
    "    return np.max(np.abs(y_true - y_pred), axis=0)\n",
    "scaler = StandardScaler()\n",
    "\n",
    "# Base models (Level Pertama)\n",
    "base_models = [\n",
    "    # ('random_forest', RandomForestRegressor(n_estimators=250, max_depth=None, random_state=42, min_samples_leaf= 1, min_samples_split= 2, max_features = 'sqrt')),\n",
    "    ('random_forest', RandomForestRegressor(n_estimators=100, max_depth=None, random_state=21, max_leaf_nodes= 800)),\n",
    "    ('gradient_boosting', GradientBoostingRegressor(n_estimators=400, learning_rate=0.0579, random_state=42, max_depth = 5)),\n",
    "    ('knn', make_pipeline(StandardScaler(), KNeighborsRegressor(n_neighbors=2, weights='distance', algorithm='auto')))\n",
    "]\n",
    "\n",
    "# Meta-model (Level Kedua)\n",
    "# Menggunakan Ridge Regression sebagai meta-model untuk menghindari overfitting\n",
    "meta_model = Ridge(alpha=0.1)\n",
    "\n",
    "# Membentuk Stacking Regressor\n",
    "stacking_regressor = StackingRegressor(\n",
    "    estimators=base_models,\n",
    "    final_estimator=meta_model,\n",
    "    passthrough=True  # Memasukkan data asli ke meta-model bersama prediksi base models\n",
    ")\n",
    "\n",
    "# Untuk multi-output, kita bungkus dengan MultiOutputRegressor\n",
    "model_all_best = MultiOutputRegressor(stacking_regressor)\n",
    "start = time.time()\n",
    "# Training\n",
    "model_all_best.fit(x0_train, y0_train)\n",
    "end = time.time()\n",
    "waktu = (end-start)/60\n",
    "# Prediction\n",
    "y0_pred = model_all_best.predict(x0_test)\n",
    "r2 = r2_score(y0_test, y0_pred, multioutput = 'raw_values')\n",
    "mae = mean_absolute_error(y0_test, y0_pred, multioutput = 'raw_values')\n",
    "mse = mean_squared_error(y0_test, y0_pred, multioutput = 'raw_values')\n",
    "max_ae = max_absolute_error(y0_test, y0_pred)\n",
    "print(f'R2 : \\n Alpha : {r2[1]} \\n Beta : {r2[2]} \\n V : {r2[0]} ')\n",
    "print(f'MAE : \\n Alpha : {mae[1]} \\n Beta : {mae[2]} \\n V : {mae[0]} ')\n",
    "print(f'MSE : \\n Alpha : {mse[1]} \\n Beta : {mse[2]} \\n V : {mse[0]} ')\n",
    "print('Max AERR : \\n', max_ae)\n",
    "print(\"Waktu yang dibutuhkan : \", waktu)"
   ]
  },
  {
   "cell_type": "code",
   "execution_count": 45,
   "id": "ed9f7274-aade-4c25-aecf-d9e1e4311106",
   "metadata": {},
   "outputs": [
    {
     "name": "stdout",
     "output_type": "stream",
     "text": [
      "6732\n"
     ]
    }
   ],
   "source": [
    "y_pred_df = pd.DataFrame(y0_pred, columns = [\"V\",\"α\",\"β\"], index = y0_test.index)\n",
    "aerr = np.abs(y_pred_df - y0_test)\n",
    "index_max_aerr = aerr[\"β\"].idxmax()\n",
    "df_all_clean_13 = df_all_clean_12.drop(index = index_max_aerr)\n",
    "print(len(df_all_clean_13))"
   ]
  },
  {
   "cell_type": "markdown",
   "id": "3a15dd52-223a-45f9-9828-8644a50f6481",
   "metadata": {},
   "source": [
    "### AFTER REDUCE 13"
   ]
  },
  {
   "cell_type": "code",
   "execution_count": 46,
   "id": "56182dca-12d5-4a50-82a6-19a7da49edb0",
   "metadata": {},
   "outputs": [],
   "source": [
    "x_all = df_all_clean_13.drop(columns = [\"V\",\"α\",\"β\"])\n",
    "y_all = df_all_clean_13[[\"V\",\"α\",\"β\"]]\n",
    "\n",
    "x0_train, x0_test, y0_train, y0_test = train_test_split(x_all, y_all,\n",
    "                                                        random_state = 42, test_size = 0.2)"
   ]
  },
  {
   "cell_type": "code",
   "execution_count": 47,
   "id": "9b944cb5-9593-420e-982d-b2529baad3eb",
   "metadata": {},
   "outputs": [
    {
     "name": "stdout",
     "output_type": "stream",
     "text": [
      "R2 : \n",
      " Alpha : 0.9999999770340473 \n",
      " Beta : 0.978895234081505 \n",
      " V : 0.9999996863784699 \n",
      "MAE : \n",
      " Alpha : 0.0027333968701645246 \n",
      " Beta : 0.579314496937547 \n",
      " V : 0.0019848761895335243 \n",
      "MSE : \n",
      " Alpha : 2.9445374186753157e-05 \n",
      " Beta : 2.283543770410889 \n",
      " V : 6.253012814416252e-05 \n",
      "Max AERR : \n",
      " V     0.084885\n",
      "α     0.059408\n",
      "β    17.980620\n",
      "dtype: float64\n",
      "Waktu yang dibutuhkan :  1.8530572295188903\n"
     ]
    }
   ],
   "source": [
    "def max_absolute_error(y_true, y_pred):\n",
    "    return np.max(np.abs(y_true - y_pred), axis=0)\n",
    "scaler = StandardScaler()\n",
    "\n",
    "# Base models (Level Pertama)\n",
    "base_models = [\n",
    "    # ('random_forest', RandomForestRegressor(n_estimators=250, max_depth=None, random_state=42, min_samples_leaf= 1, min_samples_split= 2, max_features = 'sqrt')),\n",
    "    ('random_forest', RandomForestRegressor(n_estimators=100, max_depth=None, random_state=21, max_leaf_nodes= 800)),\n",
    "    ('gradient_boosting', GradientBoostingRegressor(n_estimators=400, learning_rate=0.0579, random_state=42, max_depth = 5)),\n",
    "    ('knn', make_pipeline(StandardScaler(), KNeighborsRegressor(n_neighbors=2, weights='distance', algorithm='auto')))\n",
    "]\n",
    "\n",
    "# Meta-model (Level Kedua)\n",
    "# Menggunakan Ridge Regression sebagai meta-model untuk menghindari overfitting\n",
    "meta_model = Ridge(alpha=0.1)\n",
    "\n",
    "# Membentuk Stacking Regressor\n",
    "stacking_regressor = StackingRegressor(\n",
    "    estimators=base_models,\n",
    "    final_estimator=meta_model,\n",
    "    passthrough=True  # Memasukkan data asli ke meta-model bersama prediksi base models\n",
    ")\n",
    "\n",
    "# Untuk multi-output, kita bungkus dengan MultiOutputRegressor\n",
    "model_all_best = MultiOutputRegressor(stacking_regressor)\n",
    "start = time.time()\n",
    "# Training\n",
    "model_all_best.fit(x0_train, y0_train)\n",
    "end = time.time()\n",
    "waktu = (end-start)/60\n",
    "# Prediction\n",
    "y0_pred = model_all_best.predict(x0_test)\n",
    "r2 = r2_score(y0_test, y0_pred, multioutput = 'raw_values')\n",
    "mae = mean_absolute_error(y0_test, y0_pred, multioutput = 'raw_values')\n",
    "mse = mean_squared_error(y0_test, y0_pred, multioutput = 'raw_values')\n",
    "max_ae = max_absolute_error(y0_test, y0_pred)\n",
    "print(f'R2 : \\n Alpha : {r2[1]} \\n Beta : {r2[2]} \\n V : {r2[0]} ')\n",
    "print(f'MAE : \\n Alpha : {mae[1]} \\n Beta : {mae[2]} \\n V : {mae[0]} ')\n",
    "print(f'MSE : \\n Alpha : {mse[1]} \\n Beta : {mse[2]} \\n V : {mse[0]} ')\n",
    "print('Max AERR : \\n', max_ae)\n",
    "print(\"Waktu yang dibutuhkan : \", waktu)"
   ]
  },
  {
   "cell_type": "code",
   "execution_count": 48,
   "id": "28bfc739-24c0-4b0a-a998-707535577e63",
   "metadata": {},
   "outputs": [
    {
     "name": "stdout",
     "output_type": "stream",
     "text": [
      "6731\n"
     ]
    }
   ],
   "source": [
    "y_pred_df = pd.DataFrame(y0_pred, columns = [\"V\",\"α\",\"β\"], index = y0_test.index)\n",
    "aerr = np.abs(y_pred_df - y0_test)\n",
    "index_max_aerr = aerr[\"β\"].idxmax()\n",
    "df_all_clean_14 = df_all_clean_13.drop(index = index_max_aerr)\n",
    "print(len(df_all_clean_14))"
   ]
  },
  {
   "cell_type": "markdown",
   "id": "e8a9dc2a-8ad2-42ce-9e13-78f73150c1ef",
   "metadata": {},
   "source": [
    "### AFTER REDUCE 14"
   ]
  },
  {
   "cell_type": "code",
   "execution_count": 49,
   "id": "55ac233f-2e4f-4ecc-8c73-9434e172d8b8",
   "metadata": {},
   "outputs": [],
   "source": [
    "x_all = df_all_clean_14.drop(columns = [\"V\",\"α\",\"β\"])\n",
    "y_all = df_all_clean_14[[\"V\",\"α\",\"β\"]]\n",
    "\n",
    "x0_train, x0_test, y0_train, y0_test = train_test_split(x_all, y_all,\n",
    "                                                        random_state = 42, test_size = 0.2)"
   ]
  },
  {
   "cell_type": "code",
   "execution_count": 50,
   "id": "80505741-9122-49fd-852b-4c6a3c80c7bd",
   "metadata": {},
   "outputs": [
    {
     "name": "stdout",
     "output_type": "stream",
     "text": [
      "R2 : \n",
      " Alpha : 0.999999971951516 \n",
      " Beta : 0.9835814539843236 \n",
      " V : 0.9999997189210671 \n",
      "MAE : \n",
      " Alpha : 0.0028919581193079576 \n",
      " Beta : 0.5193785366191195 \n",
      " V : 0.0017748315868983105 \n",
      "MSE : \n",
      " Alpha : 3.518949462385284e-05 \n",
      " Beta : 1.8010876468890926 \n",
      " V : 5.551747807891382e-05 \n",
      "Max AERR : \n",
      " V     0.072790\n",
      "α     0.057305\n",
      "β    14.930316\n",
      "dtype: float64\n",
      "Waktu yang dibutuhkan :  1.8993250211079915\n"
     ]
    }
   ],
   "source": [
    "def max_absolute_error(y_true, y_pred):\n",
    "    return np.max(np.abs(y_true - y_pred), axis=0)\n",
    "scaler = StandardScaler()\n",
    "\n",
    "# Base models (Level Pertama)\n",
    "base_models = [\n",
    "    # ('random_forest', RandomForestRegressor(n_estimators=250, max_depth=None, random_state=42, min_samples_leaf= 1, min_samples_split= 2, max_features = 'sqrt')),\n",
    "    ('random_forest', RandomForestRegressor(n_estimators=100, max_depth=None, random_state=21, max_leaf_nodes= 800)),\n",
    "    ('gradient_boosting', GradientBoostingRegressor(n_estimators=400, learning_rate=0.0579, random_state=42, max_depth = 5)),\n",
    "    ('knn', make_pipeline(StandardScaler(), KNeighborsRegressor(n_neighbors=2, weights='distance', algorithm='auto')))\n",
    "]\n",
    "\n",
    "# Meta-model (Level Kedua)\n",
    "# Menggunakan Ridge Regression sebagai meta-model untuk menghindari overfitting\n",
    "meta_model = Ridge(alpha=0.1)\n",
    "\n",
    "# Membentuk Stacking Regressor\n",
    "stacking_regressor = StackingRegressor(\n",
    "    estimators=base_models,\n",
    "    final_estimator=meta_model,\n",
    "    passthrough=True  # Memasukkan data asli ke meta-model bersama prediksi base models\n",
    ")\n",
    "\n",
    "# Untuk multi-output, kita bungkus dengan MultiOutputRegressor\n",
    "model_all_best = MultiOutputRegressor(stacking_regressor)\n",
    "start = time.time()\n",
    "# Training\n",
    "model_all_best.fit(x0_train, y0_train)\n",
    "end = time.time()\n",
    "waktu = (end-start)/60\n",
    "# Prediction\n",
    "y0_pred = model_all_best.predict(x0_test)\n",
    "r2 = r2_score(y0_test, y0_pred, multioutput = 'raw_values')\n",
    "mae = mean_absolute_error(y0_test, y0_pred, multioutput = 'raw_values')\n",
    "mse = mean_squared_error(y0_test, y0_pred, multioutput = 'raw_values')\n",
    "max_ae = max_absolute_error(y0_test, y0_pred)\n",
    "print(f'R2 : \\n Alpha : {r2[1]} \\n Beta : {r2[2]} \\n V : {r2[0]} ')\n",
    "print(f'MAE : \\n Alpha : {mae[1]} \\n Beta : {mae[2]} \\n V : {mae[0]} ')\n",
    "print(f'MSE : \\n Alpha : {mse[1]} \\n Beta : {mse[2]} \\n V : {mse[0]} ')\n",
    "print('Max AERR : \\n', max_ae)\n",
    "print(\"Waktu yang dibutuhkan : \", waktu)"
   ]
  },
  {
   "cell_type": "code",
   "execution_count": 51,
   "id": "77bc7d7c-a39d-49cf-a9bf-5f8f277aa5e5",
   "metadata": {},
   "outputs": [
    {
     "name": "stdout",
     "output_type": "stream",
     "text": [
      "6730\n"
     ]
    }
   ],
   "source": [
    "y_pred_df = pd.DataFrame(y0_pred, columns = [\"V\",\"α\",\"β\"], index = y0_test.index)\n",
    "aerr = np.abs(y_pred_df - y0_test)\n",
    "index_max_aerr = aerr[\"β\"].idxmax()\n",
    "df_all_clean_15 = df_all_clean_14.drop(index = index_max_aerr)\n",
    "print(len(df_all_clean_15))"
   ]
  },
  {
   "cell_type": "markdown",
   "id": "a878fbd2-7370-42b4-9734-27c86ecc43c5",
   "metadata": {},
   "source": [
    "### AFTER REDUCE 15"
   ]
  },
  {
   "cell_type": "code",
   "execution_count": 52,
   "id": "0a521d1d-f556-45fa-b4e3-0ff6d3c4b6c6",
   "metadata": {},
   "outputs": [],
   "source": [
    "x_all = df_all_clean_15.drop(columns = [\"V\",\"α\",\"β\"])\n",
    "y_all = df_all_clean_15[[\"V\",\"α\",\"β\"]]\n",
    "\n",
    "x0_train, x0_test, y0_train, y0_test = train_test_split(x_all, y_all,\n",
    "                                                        random_state = 42, test_size = 0.2)"
   ]
  },
  {
   "cell_type": "code",
   "execution_count": 53,
   "id": "f9d4fc87-d205-4fb7-bfd4-11af85f24e80",
   "metadata": {},
   "outputs": [
    {
     "name": "stdout",
     "output_type": "stream",
     "text": [
      "R2 : \n",
      " Alpha : 0.9999999767816471 \n",
      " Beta : 0.9863907164332788 \n",
      " V : 0.9999997357014233 \n",
      "MAE : \n",
      " Alpha : 0.0025771540855073116 \n",
      " Beta : 0.47403351967560065 \n",
      " V : 0.0017989483362961872 \n",
      "MSE : \n",
      " Alpha : 2.9228104938293327e-05 \n",
      " Beta : 1.494001177988985 \n",
      " V : 5.2465858281057316e-05 \n",
      "Max AERR : \n",
      " V     0.087740\n",
      "α     0.060261\n",
      "β    13.684451\n",
      "dtype: float64\n",
      "Waktu yang dibutuhkan :  1.8439833561579386\n"
     ]
    }
   ],
   "source": [
    "def max_absolute_error(y_true, y_pred):\n",
    "    return np.max(np.abs(y_true - y_pred), axis=0)\n",
    "scaler = StandardScaler()\n",
    "\n",
    "# Base models (Level Pertama)\n",
    "base_models = [\n",
    "    # ('random_forest', RandomForestRegressor(n_estimators=250, max_depth=None, random_state=42, min_samples_leaf= 1, min_samples_split= 2, max_features = 'sqrt')),\n",
    "    ('random_forest', RandomForestRegressor(n_estimators=100, max_depth=None, random_state=21, max_leaf_nodes= 800)),\n",
    "    ('gradient_boosting', GradientBoostingRegressor(n_estimators=400, learning_rate=0.0579, random_state=42, max_depth = 5)),\n",
    "    ('knn', make_pipeline(StandardScaler(), KNeighborsRegressor(n_neighbors=2, weights='distance', algorithm='auto')))\n",
    "]\n",
    "\n",
    "# Meta-model (Level Kedua)\n",
    "# Menggunakan Ridge Regression sebagai meta-model untuk menghindari overfitting\n",
    "meta_model = Ridge(alpha=0.1)\n",
    "\n",
    "# Membentuk Stacking Regressor\n",
    "stacking_regressor = StackingRegressor(\n",
    "    estimators=base_models,\n",
    "    final_estimator=meta_model,\n",
    "    passthrough=True  # Memasukkan data asli ke meta-model bersama prediksi base models\n",
    ")\n",
    "\n",
    "# Untuk multi-output, kita bungkus dengan MultiOutputRegressor\n",
    "model_all_best = MultiOutputRegressor(stacking_regressor)\n",
    "start = time.time()\n",
    "# Training\n",
    "model_all_best.fit(x0_train, y0_train)\n",
    "end = time.time()\n",
    "waktu = (end-start)/60\n",
    "# Prediction\n",
    "y0_pred = model_all_best.predict(x0_test)\n",
    "r2 = r2_score(y0_test, y0_pred, multioutput = 'raw_values')\n",
    "mae = mean_absolute_error(y0_test, y0_pred, multioutput = 'raw_values')\n",
    "mse = mean_squared_error(y0_test, y0_pred, multioutput = 'raw_values')\n",
    "max_ae = max_absolute_error(y0_test, y0_pred)\n",
    "print(f'R2 : \\n Alpha : {r2[1]} \\n Beta : {r2[2]} \\n V : {r2[0]} ')\n",
    "print(f'MAE : \\n Alpha : {mae[1]} \\n Beta : {mae[2]} \\n V : {mae[0]} ')\n",
    "print(f'MSE : \\n Alpha : {mse[1]} \\n Beta : {mse[2]} \\n V : {mse[0]} ')\n",
    "print('Max AERR : \\n', max_ae)\n",
    "print(\"Waktu yang dibutuhkan : \", waktu)"
   ]
  },
  {
   "cell_type": "code",
   "execution_count": 54,
   "id": "ecb6568d-a6a7-4c3d-a8e8-07be6f1ba000",
   "metadata": {},
   "outputs": [
    {
     "name": "stdout",
     "output_type": "stream",
     "text": [
      "6729\n"
     ]
    }
   ],
   "source": [
    "y_pred_df = pd.DataFrame(y0_pred, columns = [\"V\",\"α\",\"β\"], index = y0_test.index)\n",
    "aerr = np.abs(y_pred_df - y0_test)\n",
    "index_max_aerr = aerr[\"β\"].idxmax()\n",
    "df_all_clean_16 = df_all_clean_15.drop(index = index_max_aerr)\n",
    "print(len(df_all_clean_16))"
   ]
  },
  {
   "cell_type": "markdown",
   "id": "0cbaa91b-d7c7-4a3b-b86b-10e157f5fc71",
   "metadata": {},
   "source": [
    "### AFTER REDUCE 16"
   ]
  },
  {
   "cell_type": "code",
   "execution_count": 55,
   "id": "b268c076-93e6-4650-a457-5938063382ee",
   "metadata": {},
   "outputs": [],
   "source": [
    "x_all = df_all_clean_16.drop(columns = [\"V\",\"α\",\"β\"])\n",
    "y_all = df_all_clean_16[[\"V\",\"α\",\"β\"]]\n",
    "\n",
    "x0_train, x0_test, y0_train, y0_test = train_test_split(x_all, y_all,\n",
    "                                                        random_state = 42, test_size = 0.2)"
   ]
  },
  {
   "cell_type": "code",
   "execution_count": 56,
   "id": "d814689e-6150-45a4-9519-7b89bdfda218",
   "metadata": {},
   "outputs": [
    {
     "name": "stdout",
     "output_type": "stream",
     "text": [
      "R2 : \n",
      " Alpha : 0.9999999757291171 \n",
      " Beta : 0.9815450665187536 \n",
      " V : 0.9999997692467333 \n",
      "MAE : \n",
      " Alpha : 0.0029848262189479803 \n",
      " Beta : 0.5274674806752149 \n",
      " V : 0.0016795059978588621 \n",
      "MSE : \n",
      " Alpha : 3.0628085937382114e-05 \n",
      " Beta : 1.883304643582854 \n",
      " V : 4.6841386472197887e-05 \n",
      "Max AERR : \n",
      " V     0.084882\n",
      "α     0.055166\n",
      "β    12.851132\n",
      "dtype: float64\n",
      "Waktu yang dibutuhkan :  1.8400457382202149\n"
     ]
    }
   ],
   "source": [
    "def max_absolute_error(y_true, y_pred):\n",
    "    return np.max(np.abs(y_true - y_pred), axis=0)\n",
    "scaler = StandardScaler()\n",
    "\n",
    "# Base models (Level Pertama)\n",
    "base_models = [\n",
    "    # ('random_forest', RandomForestRegressor(n_estimators=250, max_depth=None, random_state=42, min_samples_leaf= 1, min_samples_split= 2, max_features = 'sqrt')),\n",
    "    ('random_forest', RandomForestRegressor(n_estimators=100, max_depth=None, random_state=21, max_leaf_nodes= 800)),\n",
    "    ('gradient_boosting', GradientBoostingRegressor(n_estimators=400, learning_rate=0.0579, random_state=42, max_depth = 5)),\n",
    "    ('knn', make_pipeline(StandardScaler(), KNeighborsRegressor(n_neighbors=2, weights='distance', algorithm='auto')))\n",
    "]\n",
    "\n",
    "# Meta-model (Level Kedua)\n",
    "# Menggunakan Ridge Regression sebagai meta-model untuk menghindari overfitting\n",
    "meta_model = Ridge(alpha=0.1)\n",
    "\n",
    "# Membentuk Stacking Regressor\n",
    "stacking_regressor = StackingRegressor(\n",
    "    estimators=base_models,\n",
    "    final_estimator=meta_model,\n",
    "    passthrough=True  # Memasukkan data asli ke meta-model bersama prediksi base models\n",
    ")\n",
    "\n",
    "# Untuk multi-output, kita bungkus dengan MultiOutputRegressor\n",
    "model_all_best = MultiOutputRegressor(stacking_regressor)\n",
    "start = time.time()\n",
    "# Training\n",
    "model_all_best.fit(x0_train, y0_train)\n",
    "end = time.time()\n",
    "waktu = (end-start)/60\n",
    "# Prediction\n",
    "y0_pred = model_all_best.predict(x0_test)\n",
    "r2 = r2_score(y0_test, y0_pred, multioutput = 'raw_values')\n",
    "mae = mean_absolute_error(y0_test, y0_pred, multioutput = 'raw_values')\n",
    "mse = mean_squared_error(y0_test, y0_pred, multioutput = 'raw_values')\n",
    "max_ae = max_absolute_error(y0_test, y0_pred)\n",
    "print(f'R2 : \\n Alpha : {r2[1]} \\n Beta : {r2[2]} \\n V : {r2[0]} ')\n",
    "print(f'MAE : \\n Alpha : {mae[1]} \\n Beta : {mae[2]} \\n V : {mae[0]} ')\n",
    "print(f'MSE : \\n Alpha : {mse[1]} \\n Beta : {mse[2]} \\n V : {mse[0]} ')\n",
    "print('Max AERR : \\n', max_ae)\n",
    "print(\"Waktu yang dibutuhkan : \", waktu)"
   ]
  },
  {
   "cell_type": "code",
   "execution_count": 57,
   "id": "657b30df-7b67-484a-9c72-cf6c0872bcf0",
   "metadata": {},
   "outputs": [
    {
     "name": "stdout",
     "output_type": "stream",
     "text": [
      "6728\n"
     ]
    }
   ],
   "source": [
    "y_pred_df = pd.DataFrame(y0_pred, columns = [\"V\",\"α\",\"β\"], index = y0_test.index)\n",
    "aerr = np.abs(y_pred_df - y0_test)\n",
    "index_max_aerr = aerr[\"β\"].idxmax()\n",
    "df_all_clean_17 = df_all_clean_16.drop(index = index_max_aerr)\n",
    "print(len(df_all_clean_17))"
   ]
  },
  {
   "cell_type": "markdown",
   "id": "67e87851-bf26-43b3-b443-2604a75db210",
   "metadata": {},
   "source": [
    "### AFTER REDUCE 17"
   ]
  },
  {
   "cell_type": "code",
   "execution_count": 58,
   "id": "c20815a2-27fb-4485-bbc8-7941f8519c60",
   "metadata": {},
   "outputs": [],
   "source": [
    "x_all = df_all_clean_17.drop(columns = [\"V\",\"α\",\"β\"])\n",
    "y_all = df_all_clean_17[[\"V\",\"α\",\"β\"]]\n",
    "\n",
    "x0_train, x0_test, y0_train, y0_test = train_test_split(x_all, y_all,\n",
    "                                                        random_state = 42, test_size = 0.2)"
   ]
  },
  {
   "cell_type": "code",
   "execution_count": 59,
   "id": "5d16a3c5-9eb9-4081-8d4d-f7fb0c12d99a",
   "metadata": {},
   "outputs": [
    {
     "name": "stdout",
     "output_type": "stream",
     "text": [
      "R2 : \n",
      " Alpha : 0.999999986475118 \n",
      " Beta : 0.9776728087783741 \n",
      " V : 0.9999997299892933 \n",
      "MAE : \n",
      " Alpha : 0.0024857069837767925 \n",
      " Beta : 0.5809374231314947 \n",
      " V : 0.0018242004304755241 \n",
      "MSE : \n",
      " Alpha : 1.706560907384472e-05 \n",
      " Beta : 2.4433485604002474 \n",
      " V : 5.4057068597547857e-05 \n",
      "Max AERR : \n",
      " V     0.093124\n",
      "α     0.035215\n",
      "β    14.833616\n",
      "dtype: float64\n",
      "Waktu yang dibutuhkan :  1.8284637928009033\n"
     ]
    }
   ],
   "source": [
    "def max_absolute_error(y_true, y_pred):\n",
    "    return np.max(np.abs(y_true - y_pred), axis=0)\n",
    "scaler = StandardScaler()\n",
    "\n",
    "# Base models (Level Pertama)\n",
    "base_models = [\n",
    "    # ('random_forest', RandomForestRegressor(n_estimators=250, max_depth=None, random_state=42, min_samples_leaf= 1, min_samples_split= 2, max_features = 'sqrt')),\n",
    "    ('random_forest', RandomForestRegressor(n_estimators=100, max_depth=None, random_state=21, max_leaf_nodes= 800)),\n",
    "    ('gradient_boosting', GradientBoostingRegressor(n_estimators=400, learning_rate=0.0579, random_state=42, max_depth = 5)),\n",
    "    ('knn', make_pipeline(StandardScaler(), KNeighborsRegressor(n_neighbors=2, weights='distance', algorithm='auto')))\n",
    "]\n",
    "\n",
    "# Meta-model (Level Kedua)\n",
    "# Menggunakan Ridge Regression sebagai meta-model untuk menghindari overfitting\n",
    "meta_model = Ridge(alpha=0.1)\n",
    "\n",
    "# Membentuk Stacking Regressor\n",
    "stacking_regressor = StackingRegressor(\n",
    "    estimators=base_models,\n",
    "    final_estimator=meta_model,\n",
    "    passthrough=True  # Memasukkan data asli ke meta-model bersama prediksi base models\n",
    ")\n",
    "\n",
    "# Untuk multi-output, kita bungkus dengan MultiOutputRegressor\n",
    "model_all_best = MultiOutputRegressor(stacking_regressor)\n",
    "start = time.time()\n",
    "# Training\n",
    "model_all_best.fit(x0_train, y0_train)\n",
    "end = time.time()\n",
    "waktu = (end-start)/60\n",
    "# Prediction\n",
    "y0_pred = model_all_best.predict(x0_test)\n",
    "r2 = r2_score(y0_test, y0_pred, multioutput = 'raw_values')\n",
    "mae = mean_absolute_error(y0_test, y0_pred, multioutput = 'raw_values')\n",
    "mse = mean_squared_error(y0_test, y0_pred, multioutput = 'raw_values')\n",
    "max_ae = max_absolute_error(y0_test, y0_pred)\n",
    "print(f'R2 : \\n Alpha : {r2[1]} \\n Beta : {r2[2]} \\n V : {r2[0]} ')\n",
    "print(f'MAE : \\n Alpha : {mae[1]} \\n Beta : {mae[2]} \\n V : {mae[0]} ')\n",
    "print(f'MSE : \\n Alpha : {mse[1]} \\n Beta : {mse[2]} \\n V : {mse[0]} ')\n",
    "print('Max AERR : \\n', max_ae)\n",
    "print(\"Waktu yang dibutuhkan : \", waktu)"
   ]
  },
  {
   "cell_type": "code",
   "execution_count": 60,
   "id": "16e0bfe4-cd74-4dd0-aae0-0baa514ed1bb",
   "metadata": {},
   "outputs": [
    {
     "name": "stdout",
     "output_type": "stream",
     "text": [
      "6727\n"
     ]
    }
   ],
   "source": [
    "y_pred_df = pd.DataFrame(y0_pred, columns = [\"V\",\"α\",\"β\"], index = y0_test.index)\n",
    "aerr = np.abs(y_pred_df - y0_test)\n",
    "index_max_aerr = aerr[\"β\"].idxmax()\n",
    "df_all_clean_18 = df_all_clean_17.drop(index = index_max_aerr)\n",
    "print(len(df_all_clean_18))"
   ]
  },
  {
   "cell_type": "markdown",
   "id": "296e66a0-dfba-4b03-8ca2-84b825d036cc",
   "metadata": {},
   "source": [
    "### AFTER REDUCE 18"
   ]
  },
  {
   "cell_type": "code",
   "execution_count": 61,
   "id": "e40bdfec-d8d0-4714-8bbc-2baed7118304",
   "metadata": {},
   "outputs": [],
   "source": [
    "x_all = df_all_clean_18.drop(columns = [\"V\",\"α\",\"β\"])\n",
    "y_all = df_all_clean_18[[\"V\",\"α\",\"β\"]]\n",
    "\n",
    "x0_train, x0_test, y0_train, y0_test = train_test_split(x_all, y_all,\n",
    "                                                        random_state = 42, test_size = 0.2)"
   ]
  },
  {
   "cell_type": "code",
   "execution_count": 62,
   "id": "0c7b04c2-8da4-46cf-affd-6eb1284fea39",
   "metadata": {},
   "outputs": [
    {
     "name": "stdout",
     "output_type": "stream",
     "text": [
      "R2 : \n",
      " Alpha : 0.9999999814556167 \n",
      " Beta : 0.9785753051319641 \n",
      " V : 0.9999997728580574 \n",
      "MAE : \n",
      " Alpha : 0.002567372827064675 \n",
      " Beta : 0.5568818818459476 \n",
      " V : 0.0016965544811241096 \n",
      "MSE : \n",
      " Alpha : 2.3438089826800093e-05 \n",
      " Beta : 2.30343059041354 \n",
      " V : 4.532341639275604e-05 \n",
      "Max AERR : \n",
      " V     0.065308\n",
      "α     0.062579\n",
      "β    13.671245\n",
      "dtype: float64\n",
      "Waktu yang dibutuhkan :  1.8411261995633443\n"
     ]
    }
   ],
   "source": [
    "def max_absolute_error(y_true, y_pred):\n",
    "    return np.max(np.abs(y_true - y_pred), axis=0)\n",
    "scaler = StandardScaler()\n",
    "\n",
    "# Base models (Level Pertama)\n",
    "base_models = [\n",
    "    # ('random_forest', RandomForestRegressor(n_estimators=250, max_depth=None, random_state=42, min_samples_leaf= 1, min_samples_split= 2, max_features = 'sqrt')),\n",
    "    ('random_forest', RandomForestRegressor(n_estimators=100, max_depth=None, random_state=21, max_leaf_nodes= 800)),\n",
    "    ('gradient_boosting', GradientBoostingRegressor(n_estimators=400, learning_rate=0.0579, random_state=42, max_depth = 5)),\n",
    "    ('knn', make_pipeline(StandardScaler(), KNeighborsRegressor(n_neighbors=2, weights='distance', algorithm='auto')))\n",
    "]\n",
    "\n",
    "# Meta-model (Level Kedua)\n",
    "# Menggunakan Ridge Regression sebagai meta-model untuk menghindari overfitting\n",
    "meta_model = Ridge(alpha=0.1)\n",
    "\n",
    "# Membentuk Stacking Regressor\n",
    "stacking_regressor = StackingRegressor(\n",
    "    estimators=base_models,\n",
    "    final_estimator=meta_model,\n",
    "    passthrough=True  # Memasukkan data asli ke meta-model bersama prediksi base models\n",
    ")\n",
    "\n",
    "# Untuk multi-output, kita bungkus dengan MultiOutputRegressor\n",
    "model_all_best = MultiOutputRegressor(stacking_regressor)\n",
    "start = time.time()\n",
    "# Training\n",
    "model_all_best.fit(x0_train, y0_train)\n",
    "end = time.time()\n",
    "waktu = (end-start)/60\n",
    "# Prediction\n",
    "y0_pred = model_all_best.predict(x0_test)\n",
    "r2 = r2_score(y0_test, y0_pred, multioutput = 'raw_values')\n",
    "mae = mean_absolute_error(y0_test, y0_pred, multioutput = 'raw_values')\n",
    "mse = mean_squared_error(y0_test, y0_pred, multioutput = 'raw_values')\n",
    "max_ae = max_absolute_error(y0_test, y0_pred)\n",
    "print(f'R2 : \\n Alpha : {r2[1]} \\n Beta : {r2[2]} \\n V : {r2[0]} ')\n",
    "print(f'MAE : \\n Alpha : {mae[1]} \\n Beta : {mae[2]} \\n V : {mae[0]} ')\n",
    "print(f'MSE : \\n Alpha : {mse[1]} \\n Beta : {mse[2]} \\n V : {mse[0]} ')\n",
    "print('Max AERR : \\n', max_ae)\n",
    "print(\"Waktu yang dibutuhkan : \", waktu)"
   ]
  },
  {
   "cell_type": "code",
   "execution_count": 63,
   "id": "80b02367-7d5d-44e5-ba79-42be89c8e9e6",
   "metadata": {},
   "outputs": [
    {
     "name": "stdout",
     "output_type": "stream",
     "text": [
      "6726\n"
     ]
    }
   ],
   "source": [
    "y_pred_df = pd.DataFrame(y0_pred, columns = [\"V\",\"α\",\"β\"], index = y0_test.index)\n",
    "aerr = np.abs(y_pred_df - y0_test)\n",
    "index_max_aerr = aerr[\"β\"].idxmax()\n",
    "df_all_clean_19 = df_all_clean_18.drop(index = index_max_aerr)\n",
    "print(len(df_all_clean_19))"
   ]
  },
  {
   "cell_type": "markdown",
   "id": "303e371f-cd9c-48ef-97d2-d0dee4e7c3de",
   "metadata": {},
   "source": [
    "### AFTER REDUCE 19"
   ]
  },
  {
   "cell_type": "code",
   "execution_count": 64,
   "id": "425d78d7-6bee-4192-b029-bdaaabc37804",
   "metadata": {},
   "outputs": [],
   "source": [
    "x_all = df_all_clean_19.drop(columns = [\"V\",\"α\",\"β\"])\n",
    "y_all = df_all_clean_19[[\"V\",\"α\",\"β\"]]\n",
    "\n",
    "x0_train, x0_test, y0_train, y0_test = train_test_split(x_all, y_all,\n",
    "                                                        random_state = 42, test_size = 0.2)"
   ]
  },
  {
   "cell_type": "code",
   "execution_count": 65,
   "id": "88c6bf17-c8f7-4f26-9728-2a1e400551a7",
   "metadata": {},
   "outputs": [
    {
     "name": "stdout",
     "output_type": "stream",
     "text": [
      "R2 : \n",
      " Alpha : 0.9999999846998079 \n",
      " Beta : 0.9794740105022052 \n",
      " V : 0.9999996938745352 \n",
      "MAE : \n",
      " Alpha : 0.002339195187601179 \n",
      " Beta : 0.5666528885071419 \n",
      " V : 0.0017232190815275853 \n",
      "MSE : \n",
      " Alpha : 1.9221953801128323e-05 \n",
      " Beta : 2.2562776879457083 \n",
      " V : 6.157395301992822e-05 \n",
      "Max AERR : \n",
      " V     0.130129\n",
      "α     0.044276\n",
      "β    11.438039\n",
      "dtype: float64\n",
      "Waktu yang dibutuhkan :  1.8345757881800333\n"
     ]
    }
   ],
   "source": [
    "def max_absolute_error(y_true, y_pred):\n",
    "    return np.max(np.abs(y_true - y_pred), axis=0)\n",
    "scaler = StandardScaler()\n",
    "\n",
    "# Base models (Level Pertama)\n",
    "base_models = [\n",
    "    # ('random_forest', RandomForestRegressor(n_estimators=250, max_depth=None, random_state=42, min_samples_leaf= 1, min_samples_split= 2, max_features = 'sqrt')),\n",
    "    ('random_forest', RandomForestRegressor(n_estimators=100, max_depth=None, random_state=21, max_leaf_nodes= 800)),\n",
    "    ('gradient_boosting', GradientBoostingRegressor(n_estimators=400, learning_rate=0.0579, random_state=42, max_depth = 5)),\n",
    "    ('knn', make_pipeline(StandardScaler(), KNeighborsRegressor(n_neighbors=2, weights='distance', algorithm='auto')))\n",
    "]\n",
    "\n",
    "# Meta-model (Level Kedua)\n",
    "# Menggunakan Ridge Regression sebagai meta-model untuk menghindari overfitting\n",
    "meta_model = Ridge(alpha=0.1)\n",
    "\n",
    "# Membentuk Stacking Regressor\n",
    "stacking_regressor = StackingRegressor(\n",
    "    estimators=base_models,\n",
    "    final_estimator=meta_model,\n",
    "    passthrough=True  # Memasukkan data asli ke meta-model bersama prediksi base models\n",
    ")\n",
    "\n",
    "# Untuk multi-output, kita bungkus dengan MultiOutputRegressor\n",
    "model_all_best = MultiOutputRegressor(stacking_regressor)\n",
    "start = time.time()\n",
    "# Training\n",
    "model_all_best.fit(x0_train, y0_train)\n",
    "end = time.time()\n",
    "waktu = (end-start)/60\n",
    "# Prediction\n",
    "y0_pred = model_all_best.predict(x0_test)\n",
    "r2 = r2_score(y0_test, y0_pred, multioutput = 'raw_values')\n",
    "mae = mean_absolute_error(y0_test, y0_pred, multioutput = 'raw_values')\n",
    "mse = mean_squared_error(y0_test, y0_pred, multioutput = 'raw_values')\n",
    "max_ae = max_absolute_error(y0_test, y0_pred)\n",
    "print(f'R2 : \\n Alpha : {r2[1]} \\n Beta : {r2[2]} \\n V : {r2[0]} ')\n",
    "print(f'MAE : \\n Alpha : {mae[1]} \\n Beta : {mae[2]} \\n V : {mae[0]} ')\n",
    "print(f'MSE : \\n Alpha : {mse[1]} \\n Beta : {mse[2]} \\n V : {mse[0]} ')\n",
    "print('Max AERR : \\n', max_ae)\n",
    "print(\"Waktu yang dibutuhkan : \", waktu)"
   ]
  },
  {
   "cell_type": "code",
   "execution_count": 66,
   "id": "02182f3c-54f9-4f30-b85e-ac7a76a60552",
   "metadata": {},
   "outputs": [
    {
     "name": "stdout",
     "output_type": "stream",
     "text": [
      "6725\n"
     ]
    }
   ],
   "source": [
    "y_pred_df = pd.DataFrame(y0_pred, columns = [\"V\",\"α\",\"β\"], index = y0_test.index)\n",
    "aerr = np.abs(y_pred_df - y0_test)\n",
    "index_max_aerr = aerr[\"β\"].idxmax()\n",
    "df_all_clean_20 = df_all_clean_19.drop(index = index_max_aerr)\n",
    "print(len(df_all_clean_20))"
   ]
  },
  {
   "cell_type": "markdown",
   "id": "7ef1714b-0a90-4ba8-bdb3-f7fd36fc327a",
   "metadata": {},
   "source": [
    "### AFTER REDUCE 20"
   ]
  },
  {
   "cell_type": "code",
   "execution_count": 67,
   "id": "792aced0-4af4-446e-b69b-86e649ef761e",
   "metadata": {},
   "outputs": [],
   "source": [
    "x_all = df_all_clean_20.drop(columns = [\"V\",\"α\",\"β\"])\n",
    "y_all = df_all_clean_20[[\"V\",\"α\",\"β\"]]\n",
    "\n",
    "x0_train, x0_test, y0_train, y0_test = train_test_split(x_all, y_all,\n",
    "                                                        random_state = 42, test_size = 0.2)"
   ]
  },
  {
   "cell_type": "code",
   "execution_count": 68,
   "id": "4e7533f3-e8e1-4492-bf17-e8e2ded3ab9e",
   "metadata": {},
   "outputs": [
    {
     "name": "stdout",
     "output_type": "stream",
     "text": [
      "R2 : \n",
      " Alpha : 0.9999999784240549 \n",
      " Beta : 0.98083640212229 \n",
      " V : 0.9999997030138347 \n",
      "MAE : \n",
      " Alpha : 0.002665532971901297 \n",
      " Beta : 0.515688745911372 \n",
      " V : 0.002020582176182436 \n",
      "MSE : \n",
      " Alpha : 2.7133336846981392e-05 \n",
      " Beta : 2.0311342754457633 \n",
      " V : 5.8863213076458125e-05 \n",
      "Max AERR : \n",
      " V     0.075154\n",
      "α     0.066106\n",
      "β    13.997942\n",
      "dtype: float64\n",
      "Waktu yang dibutuhkan :  1.8358165542284648\n"
     ]
    }
   ],
   "source": [
    "def max_absolute_error(y_true, y_pred):\n",
    "    return np.max(np.abs(y_true - y_pred), axis=0)\n",
    "scaler = StandardScaler()\n",
    "\n",
    "# Base models (Level Pertama)\n",
    "base_models = [\n",
    "    # ('random_forest', RandomForestRegressor(n_estimators=250, max_depth=None, random_state=42, min_samples_leaf= 1, min_samples_split= 2, max_features = 'sqrt')),\n",
    "    ('random_forest', RandomForestRegressor(n_estimators=100, max_depth=None, random_state=21, max_leaf_nodes= 800)),\n",
    "    ('gradient_boosting', GradientBoostingRegressor(n_estimators=400, learning_rate=0.0579, random_state=42, max_depth = 5)),\n",
    "    ('knn', make_pipeline(StandardScaler(), KNeighborsRegressor(n_neighbors=2, weights='distance', algorithm='auto')))\n",
    "]\n",
    "\n",
    "# Meta-model (Level Kedua)\n",
    "# Menggunakan Ridge Regression sebagai meta-model untuk menghindari overfitting\n",
    "meta_model = Ridge(alpha=0.1)\n",
    "\n",
    "# Membentuk Stacking Regressor\n",
    "stacking_regressor = StackingRegressor(\n",
    "    estimators=base_models,\n",
    "    final_estimator=meta_model,\n",
    "    passthrough=True  # Memasukkan data asli ke meta-model bersama prediksi base models\n",
    ")\n",
    "\n",
    "# Untuk multi-output, kita bungkus dengan MultiOutputRegressor\n",
    "model_all_best = MultiOutputRegressor(stacking_regressor)\n",
    "start = time.time()\n",
    "# Training\n",
    "model_all_best.fit(x0_train, y0_train)\n",
    "end = time.time()\n",
    "waktu = (end-start)/60\n",
    "# Prediction\n",
    "y0_pred = model_all_best.predict(x0_test)\n",
    "r2 = r2_score(y0_test, y0_pred, multioutput = 'raw_values')\n",
    "mae = mean_absolute_error(y0_test, y0_pred, multioutput = 'raw_values')\n",
    "mse = mean_squared_error(y0_test, y0_pred, multioutput = 'raw_values')\n",
    "max_ae = max_absolute_error(y0_test, y0_pred)\n",
    "print(f'R2 : \\n Alpha : {r2[1]} \\n Beta : {r2[2]} \\n V : {r2[0]} ')\n",
    "print(f'MAE : \\n Alpha : {mae[1]} \\n Beta : {mae[2]} \\n V : {mae[0]} ')\n",
    "print(f'MSE : \\n Alpha : {mse[1]} \\n Beta : {mse[2]} \\n V : {mse[0]} ')\n",
    "print('Max AERR : \\n', max_ae)\n",
    "print(\"Waktu yang dibutuhkan : \", waktu)"
   ]
  },
  {
   "cell_type": "code",
   "execution_count": 69,
   "id": "67a81ac2-30ff-467c-b4d4-3eb3b092f648",
   "metadata": {},
   "outputs": [
    {
     "name": "stdout",
     "output_type": "stream",
     "text": [
      "6724\n"
     ]
    }
   ],
   "source": [
    "y_pred_df = pd.DataFrame(y0_pred, columns = [\"V\",\"α\",\"β\"], index = y0_test.index)\n",
    "aerr = np.abs(y_pred_df - y0_test)\n",
    "index_max_aerr = aerr[\"β\"].idxmax()\n",
    "df_all_clean_21 = df_all_clean_20.drop(index = index_max_aerr)\n",
    "print(len(df_all_clean_21))"
   ]
  },
  {
   "cell_type": "markdown",
   "id": "0967b992-a5d2-40b1-9183-c29468dc3b1d",
   "metadata": {},
   "source": [
    "### AFTER REDUCE 21"
   ]
  },
  {
   "cell_type": "code",
   "execution_count": 70,
   "id": "e1049743-08ba-4092-997a-ad8352a4d131",
   "metadata": {},
   "outputs": [],
   "source": [
    "x_all = df_all_clean_21.drop(columns = [\"V\",\"α\",\"β\"])\n",
    "y_all = df_all_clean_21[[\"V\",\"α\",\"β\"]]\n",
    "\n",
    "x0_train, x0_test, y0_train, y0_test = train_test_split(x_all, y_all,\n",
    "                                                        random_state = 42, test_size = 0.2)"
   ]
  },
  {
   "cell_type": "code",
   "execution_count": 71,
   "id": "1e5fa8f9-7036-49e0-9fe7-5d00141f8f8c",
   "metadata": {},
   "outputs": [
    {
     "name": "stdout",
     "output_type": "stream",
     "text": [
      "R2 : \n",
      " Alpha : 0.999999982615092 \n",
      " Beta : 0.9834776440134287 \n",
      " V : 0.9999997491265673 \n",
      "MAE : \n",
      " Alpha : 0.0027604065001561187 \n",
      " Beta : 0.48633491791061023 \n",
      " V : 0.0018246195926608683 \n",
      "MSE : \n",
      " Alpha : 2.161358572749577e-05 \n",
      " Beta : 1.7783882996031715 \n",
      " V : 5.0067257958282746e-05 \n",
      "Max AERR : \n",
      " V    0.073124\n",
      "α    0.036472\n",
      "β    9.831914\n",
      "dtype: float64\n",
      "Waktu yang dibutuhkan :  1.8404672662417094\n"
     ]
    }
   ],
   "source": [
    "def max_absolute_error(y_true, y_pred):\n",
    "    return np.max(np.abs(y_true - y_pred), axis=0)\n",
    "scaler = StandardScaler()\n",
    "\n",
    "# Base models (Level Pertama)\n",
    "base_models = [\n",
    "    # ('random_forest', RandomForestRegressor(n_estimators=250, max_depth=None, random_state=42, min_samples_leaf= 1, min_samples_split= 2, max_features = 'sqrt')),\n",
    "    ('random_forest', RandomForestRegressor(n_estimators=100, max_depth=None, random_state=21, max_leaf_nodes= 800)),\n",
    "    ('gradient_boosting', GradientBoostingRegressor(n_estimators=400, learning_rate=0.0579, random_state=42, max_depth = 5)),\n",
    "    ('knn', make_pipeline(StandardScaler(), KNeighborsRegressor(n_neighbors=2, weights='distance', algorithm='auto')))\n",
    "]\n",
    "\n",
    "# Meta-model (Level Kedua)\n",
    "# Menggunakan Ridge Regression sebagai meta-model untuk menghindari overfitting\n",
    "meta_model = Ridge(alpha=0.1)\n",
    "\n",
    "# Membentuk Stacking Regressor\n",
    "stacking_regressor = StackingRegressor(\n",
    "    estimators=base_models,\n",
    "    final_estimator=meta_model,\n",
    "    passthrough=True  # Memasukkan data asli ke meta-model bersama prediksi base models\n",
    ")\n",
    "\n",
    "# Untuk multi-output, kita bungkus dengan MultiOutputRegressor\n",
    "model_all_best = MultiOutputRegressor(stacking_regressor)\n",
    "start = time.time()\n",
    "# Training\n",
    "model_all_best.fit(x0_train, y0_train)\n",
    "end = time.time()\n",
    "waktu = (end-start)/60\n",
    "# Prediction\n",
    "y0_pred = model_all_best.predict(x0_test)\n",
    "r2 = r2_score(y0_test, y0_pred, multioutput = 'raw_values')\n",
    "mae = mean_absolute_error(y0_test, y0_pred, multioutput = 'raw_values')\n",
    "mse = mean_squared_error(y0_test, y0_pred, multioutput = 'raw_values')\n",
    "max_ae = max_absolute_error(y0_test, y0_pred)\n",
    "print(f'R2 : \\n Alpha : {r2[1]} \\n Beta : {r2[2]} \\n V : {r2[0]} ')\n",
    "print(f'MAE : \\n Alpha : {mae[1]} \\n Beta : {mae[2]} \\n V : {mae[0]} ')\n",
    "print(f'MSE : \\n Alpha : {mse[1]} \\n Beta : {mse[2]} \\n V : {mse[0]} ')\n",
    "print('Max AERR : \\n', max_ae)\n",
    "print(\"Waktu yang dibutuhkan : \", waktu)"
   ]
  },
  {
   "cell_type": "code",
   "execution_count": 72,
   "id": "5e5d153a-ad0d-4484-a741-369e80f29f2c",
   "metadata": {},
   "outputs": [
    {
     "name": "stdout",
     "output_type": "stream",
     "text": [
      "6723\n"
     ]
    }
   ],
   "source": [
    "y_pred_df = pd.DataFrame(y0_pred, columns = [\"V\",\"α\",\"β\"], index = y0_test.index)\n",
    "aerr = np.abs(y_pred_df - y0_test)\n",
    "index_max_aerr = aerr[\"β\"].idxmax()\n",
    "df_all_clean_22 = df_all_clean_21.drop(index = index_max_aerr)\n",
    "print(len(df_all_clean_22))"
   ]
  },
  {
   "cell_type": "markdown",
   "id": "3f6d764e-784d-45fe-b8f3-6a00bae45bf7",
   "metadata": {},
   "source": [
    "### AFTER REDUCE 22"
   ]
  },
  {
   "cell_type": "code",
   "execution_count": 73,
   "id": "c97412dc-a3cd-43ee-84a9-3bb3fd6cd1ec",
   "metadata": {},
   "outputs": [],
   "source": [
    "x_all = df_all_clean_22.drop(columns = [\"V\",\"α\",\"β\"])\n",
    "y_all = df_all_clean_22[[\"V\",\"α\",\"β\"]]\n",
    "\n",
    "x0_train, x0_test, y0_train, y0_test = train_test_split(x_all, y_all,\n",
    "                                                        random_state = 42, test_size = 0.2)"
   ]
  },
  {
   "cell_type": "code",
   "execution_count": 74,
   "id": "bd21919e-2d5a-4a80-94d9-a5caa147e328",
   "metadata": {},
   "outputs": [
    {
     "name": "stdout",
     "output_type": "stream",
     "text": [
      "R2 : \n",
      " Alpha : 0.9999999794197231 \n",
      " Beta : 0.9807853720516672 \n",
      " V : 0.9999997943596312 \n",
      "MAE : \n",
      " Alpha : 0.0025520050155960687 \n",
      " Beta : 0.544587359906684 \n",
      " V : 0.0016887194700017118 \n",
      "MSE : \n",
      " Alpha : 2.6079050099830286e-05 \n",
      " Beta : 2.2330498634008915 \n",
      " V : 4.1636377271704355e-05 \n",
      "Max AERR : \n",
      " V     0.065292\n",
      "α     0.067731\n",
      "β    12.807044\n",
      "dtype: float64\n",
      "Waktu yang dibutuhkan :  1.832316807905833\n"
     ]
    }
   ],
   "source": [
    "def max_absolute_error(y_true, y_pred):\n",
    "    return np.max(np.abs(y_true - y_pred), axis=0)\n",
    "scaler = StandardScaler()\n",
    "\n",
    "# Base models (Level Pertama)\n",
    "base_models = [\n",
    "    # ('random_forest', RandomForestRegressor(n_estimators=250, max_depth=None, random_state=42, min_samples_leaf= 1, min_samples_split= 2, max_features = 'sqrt')),\n",
    "    ('random_forest', RandomForestRegressor(n_estimators=100, max_depth=None, random_state=21, max_leaf_nodes= 800)),\n",
    "    ('gradient_boosting', GradientBoostingRegressor(n_estimators=400, learning_rate=0.0579, random_state=42, max_depth = 5)),\n",
    "    ('knn', make_pipeline(StandardScaler(), KNeighborsRegressor(n_neighbors=2, weights='distance', algorithm='auto')))\n",
    "]\n",
    "\n",
    "# Meta-model (Level Kedua)\n",
    "# Menggunakan Ridge Regression sebagai meta-model untuk menghindari overfitting\n",
    "meta_model = Ridge(alpha=0.1)\n",
    "\n",
    "# Membentuk Stacking Regressor\n",
    "stacking_regressor = StackingRegressor(\n",
    "    estimators=base_models,\n",
    "    final_estimator=meta_model,\n",
    "    passthrough=True  # Memasukkan data asli ke meta-model bersama prediksi base models\n",
    ")\n",
    "\n",
    "# Untuk multi-output, kita bungkus dengan MultiOutputRegressor\n",
    "model_all_best = MultiOutputRegressor(stacking_regressor)\n",
    "start = time.time()\n",
    "# Training\n",
    "model_all_best.fit(x0_train, y0_train)\n",
    "end = time.time()\n",
    "waktu = (end-start)/60\n",
    "# Prediction\n",
    "y0_pred = model_all_best.predict(x0_test)\n",
    "r2 = r2_score(y0_test, y0_pred, multioutput = 'raw_values')\n",
    "mae = mean_absolute_error(y0_test, y0_pred, multioutput = 'raw_values')\n",
    "mse = mean_squared_error(y0_test, y0_pred, multioutput = 'raw_values')\n",
    "max_ae = max_absolute_error(y0_test, y0_pred)\n",
    "print(f'R2 : \\n Alpha : {r2[1]} \\n Beta : {r2[2]} \\n V : {r2[0]} ')\n",
    "print(f'MAE : \\n Alpha : {mae[1]} \\n Beta : {mae[2]} \\n V : {mae[0]} ')\n",
    "print(f'MSE : \\n Alpha : {mse[1]} \\n Beta : {mse[2]} \\n V : {mse[0]} ')\n",
    "print('Max AERR : \\n', max_ae)\n",
    "print(\"Waktu yang dibutuhkan : \", waktu)"
   ]
  },
  {
   "cell_type": "code",
   "execution_count": 75,
   "id": "9ddb9c32-113a-47f7-a98f-819ee6079a80",
   "metadata": {},
   "outputs": [
    {
     "name": "stdout",
     "output_type": "stream",
     "text": [
      "6722\n"
     ]
    }
   ],
   "source": [
    "y_pred_df = pd.DataFrame(y0_pred, columns = [\"V\",\"α\",\"β\"], index = y0_test.index)\n",
    "aerr = np.abs(y_pred_df - y0_test)\n",
    "index_max_aerr = aerr[\"β\"].idxmax()\n",
    "df_all_clean_23 = df_all_clean_22.drop(index = index_max_aerr)\n",
    "print(len(df_all_clean_23))"
   ]
  },
  {
   "cell_type": "markdown",
   "id": "9c57619a-53a4-4b65-b028-604c77cf551b",
   "metadata": {},
   "source": [
    "### AFTER REDUCE 23"
   ]
  },
  {
   "cell_type": "code",
   "execution_count": 76,
   "id": "987b396f-652c-45b9-8e34-3c099d6f462e",
   "metadata": {},
   "outputs": [],
   "source": [
    "x_all = df_all_clean_23.drop(columns = [\"V\",\"α\",\"β\"])\n",
    "y_all = df_all_clean_23[[\"V\",\"α\",\"β\"]]\n",
    "\n",
    "x0_train, x0_test, y0_train, y0_test = train_test_split(x_all, y_all,\n",
    "                                                        random_state = 42, test_size = 0.2)"
   ]
  },
  {
   "cell_type": "code",
   "execution_count": 77,
   "id": "dd285e5e-d78f-461d-a65b-76a48d5150fe",
   "metadata": {},
   "outputs": [
    {
     "name": "stdout",
     "output_type": "stream",
     "text": [
      "R2 : \n",
      " Alpha : 0.9999999806132437 \n",
      " Beta : 0.9835708827220897 \n",
      " V : 0.9999997376480758 \n",
      "MAE : \n",
      " Alpha : 0.0026921736237225944 \n",
      " Beta : 0.48614890292291385 \n",
      " V : 0.0016406386290793791 \n",
      "MSE : \n",
      " Alpha : 2.4327883519287096e-05 \n",
      " Beta : 1.7144182681955114 \n",
      " V : 5.353701738872308e-05 \n",
      "Max AERR : \n",
      " V     0.129659\n",
      "α     0.051815\n",
      "β    11.856373\n",
      "dtype: float64\n",
      "Waktu yang dibutuhkan :  1.8368247906366983\n"
     ]
    }
   ],
   "source": [
    "def max_absolute_error(y_true, y_pred):\n",
    "    return np.max(np.abs(y_true - y_pred), axis=0)\n",
    "scaler = StandardScaler()\n",
    "\n",
    "# Base models (Level Pertama)\n",
    "base_models = [\n",
    "    # ('random_forest', RandomForestRegressor(n_estimators=250, max_depth=None, random_state=42, min_samples_leaf= 1, min_samples_split= 2, max_features = 'sqrt')),\n",
    "    ('random_forest', RandomForestRegressor(n_estimators=100, max_depth=None, random_state=21, max_leaf_nodes= 800)),\n",
    "    ('gradient_boosting', GradientBoostingRegressor(n_estimators=400, learning_rate=0.0579, random_state=42, max_depth = 5)),\n",
    "    ('knn', make_pipeline(StandardScaler(), KNeighborsRegressor(n_neighbors=2, weights='distance', algorithm='auto')))\n",
    "]\n",
    "\n",
    "# Meta-model (Level Kedua)\n",
    "# Menggunakan Ridge Regression sebagai meta-model untuk menghindari overfitting\n",
    "meta_model = Ridge(alpha=0.1)\n",
    "\n",
    "# Membentuk Stacking Regressor\n",
    "stacking_regressor = StackingRegressor(\n",
    "    estimators=base_models,\n",
    "    final_estimator=meta_model,\n",
    "    passthrough=True  # Memasukkan data asli ke meta-model bersama prediksi base models\n",
    ")\n",
    "\n",
    "# Untuk multi-output, kita bungkus dengan MultiOutputRegressor\n",
    "model_all_best = MultiOutputRegressor(stacking_regressor)\n",
    "start = time.time()\n",
    "# Training\n",
    "model_all_best.fit(x0_train, y0_train)\n",
    "end = time.time()\n",
    "waktu = (end-start)/60\n",
    "# Prediction\n",
    "y0_pred = model_all_best.predict(x0_test)\n",
    "r2 = r2_score(y0_test, y0_pred, multioutput = 'raw_values')\n",
    "mae = mean_absolute_error(y0_test, y0_pred, multioutput = 'raw_values')\n",
    "mse = mean_squared_error(y0_test, y0_pred, multioutput = 'raw_values')\n",
    "max_ae = max_absolute_error(y0_test, y0_pred)\n",
    "print(f'R2 : \\n Alpha : {r2[1]} \\n Beta : {r2[2]} \\n V : {r2[0]} ')\n",
    "print(f'MAE : \\n Alpha : {mae[1]} \\n Beta : {mae[2]} \\n V : {mae[0]} ')\n",
    "print(f'MSE : \\n Alpha : {mse[1]} \\n Beta : {mse[2]} \\n V : {mse[0]} ')\n",
    "print('Max AERR : \\n', max_ae)\n",
    "print(\"Waktu yang dibutuhkan : \", waktu)"
   ]
  },
  {
   "cell_type": "code",
   "execution_count": 78,
   "id": "96513482-ce10-44a4-a25e-d772130262f0",
   "metadata": {},
   "outputs": [
    {
     "name": "stdout",
     "output_type": "stream",
     "text": [
      "6721\n"
     ]
    }
   ],
   "source": [
    "y_pred_df = pd.DataFrame(y0_pred, columns = [\"V\",\"α\",\"β\"], index = y0_test.index)\n",
    "aerr = np.abs(y_pred_df - y0_test)\n",
    "index_max_aerr = aerr[\"β\"].idxmax()\n",
    "df_all_clean_24 = df_all_clean_23.drop(index = index_max_aerr)\n",
    "print(len(df_all_clean_24))"
   ]
  },
  {
   "cell_type": "markdown",
   "id": "0c3d211d-faa7-4fa0-aefe-5362095e3ac7",
   "metadata": {},
   "source": [
    "### AFTER REDUCE 24"
   ]
  },
  {
   "cell_type": "code",
   "execution_count": 79,
   "id": "e871e2de-cd03-4919-8e6c-be4e9f576447",
   "metadata": {},
   "outputs": [],
   "source": [
    "x_all = df_all_clean_24.drop(columns = [\"V\",\"α\",\"β\"])\n",
    "y_all = df_all_clean_24[[\"V\",\"α\",\"β\"]]\n",
    "\n",
    "x0_train, x0_test, y0_train, y0_test = train_test_split(x_all, y_all,\n",
    "                                                        random_state = 42, test_size = 0.2)"
   ]
  },
  {
   "cell_type": "code",
   "execution_count": 80,
   "id": "530b56c7-22cc-4c68-8e68-13c1104efdbc",
   "metadata": {},
   "outputs": [
    {
     "name": "stdout",
     "output_type": "stream",
     "text": [
      "R2 : \n",
      " Alpha : 0.9999999829516517 \n",
      " Beta : 0.9843992864286789 \n",
      " V : 0.999999698385499 \n",
      "MAE : \n",
      " Alpha : 0.0025257070083602386 \n",
      " Beta : 0.5012392810581787 \n",
      " V : 0.0017172482587969004 \n",
      "MSE : \n",
      " Alpha : 2.1668526749261163e-05 \n",
      " Beta : 1.7158788513151138 \n",
      " V : 6.014411388032098e-05 \n",
      "Max AERR : \n",
      " V     0.145933\n",
      "α     0.046801\n",
      "β    12.039664\n",
      "dtype: float64\n",
      "Waktu yang dibutuhkan :  1.837827444076538\n"
     ]
    }
   ],
   "source": [
    "def max_absolute_error(y_true, y_pred):\n",
    "    return np.max(np.abs(y_true - y_pred), axis=0)\n",
    "scaler = StandardScaler()\n",
    "\n",
    "# Base models (Level Pertama)\n",
    "base_models = [\n",
    "    # ('random_forest', RandomForestRegressor(n_estimators=250, max_depth=None, random_state=42, min_samples_leaf= 1, min_samples_split= 2, max_features = 'sqrt')),\n",
    "    ('random_forest', RandomForestRegressor(n_estimators=100, max_depth=None, random_state=21, max_leaf_nodes= 800)),\n",
    "    ('gradient_boosting', GradientBoostingRegressor(n_estimators=400, learning_rate=0.0579, random_state=42, max_depth = 5)),\n",
    "    ('knn', make_pipeline(StandardScaler(), KNeighborsRegressor(n_neighbors=2, weights='distance', algorithm='auto')))\n",
    "]\n",
    "\n",
    "# Meta-model (Level Kedua)\n",
    "# Menggunakan Ridge Regression sebagai meta-model untuk menghindari overfitting\n",
    "meta_model = Ridge(alpha=0.1)\n",
    "\n",
    "# Membentuk Stacking Regressor\n",
    "stacking_regressor = StackingRegressor(\n",
    "    estimators=base_models,\n",
    "    final_estimator=meta_model,\n",
    "    passthrough=True  # Memasukkan data asli ke meta-model bersama prediksi base models\n",
    ")\n",
    "\n",
    "# Untuk multi-output, kita bungkus dengan MultiOutputRegressor\n",
    "model_all_best = MultiOutputRegressor(stacking_regressor)\n",
    "start = time.time()\n",
    "# Training\n",
    "model_all_best.fit(x0_train, y0_train)\n",
    "end = time.time()\n",
    "waktu = (end-start)/60\n",
    "# Prediction\n",
    "y0_pred = model_all_best.predict(x0_test)\n",
    "r2 = r2_score(y0_test, y0_pred, multioutput = 'raw_values')\n",
    "mae = mean_absolute_error(y0_test, y0_pred, multioutput = 'raw_values')\n",
    "mse = mean_squared_error(y0_test, y0_pred, multioutput = 'raw_values')\n",
    "max_ae = max_absolute_error(y0_test, y0_pred)\n",
    "print(f'R2 : \\n Alpha : {r2[1]} \\n Beta : {r2[2]} \\n V : {r2[0]} ')\n",
    "print(f'MAE : \\n Alpha : {mae[1]} \\n Beta : {mae[2]} \\n V : {mae[0]} ')\n",
    "print(f'MSE : \\n Alpha : {mse[1]} \\n Beta : {mse[2]} \\n V : {mse[0]} ')\n",
    "print('Max AERR : \\n', max_ae)\n",
    "print(\"Waktu yang dibutuhkan : \", waktu)"
   ]
  },
  {
   "cell_type": "code",
   "execution_count": 81,
   "id": "cee274c7-390d-4df5-b674-394ab6ee5caf",
   "metadata": {},
   "outputs": [
    {
     "name": "stdout",
     "output_type": "stream",
     "text": [
      "6720\n"
     ]
    }
   ],
   "source": [
    "y_pred_df = pd.DataFrame(y0_pred, columns = [\"V\",\"α\",\"β\"], index = y0_test.index)\n",
    "aerr = np.abs(y_pred_df - y0_test)\n",
    "index_max_aerr = aerr[\"β\"].idxmax()\n",
    "df_all_clean_25 = df_all_clean_24.drop(index = index_max_aerr)\n",
    "print(len(df_all_clean_25))"
   ]
  },
  {
   "cell_type": "markdown",
   "id": "abd73698-06ce-48fd-a86f-d9a5b671060e",
   "metadata": {},
   "source": [
    "### AFTER REDUCE 25"
   ]
  },
  {
   "cell_type": "code",
   "execution_count": 82,
   "id": "61825848-be87-4aa5-b1b3-2cdbe05d597f",
   "metadata": {},
   "outputs": [],
   "source": [
    "x_all = df_all_clean_25.drop(columns = [\"V\",\"α\",\"β\"])\n",
    "y_all = df_all_clean_25[[\"V\",\"α\",\"β\"]]\n",
    "\n",
    "x0_train, x0_test, y0_train, y0_test = train_test_split(x_all, y_all,\n",
    "                                                        random_state = 42, test_size = 0.2)"
   ]
  },
  {
   "cell_type": "code",
   "execution_count": 83,
   "id": "cb3ecfda-eb54-411d-a676-8f52324d59f4",
   "metadata": {},
   "outputs": [
    {
     "name": "stdout",
     "output_type": "stream",
     "text": [
      "R2 : \n",
      " Alpha : 0.9999999795754949 \n",
      " Beta : 0.9856145820117687 \n",
      " V : 0.9999997493919992 \n",
      "MAE : \n",
      " Alpha : 0.00264829970693345 \n",
      " Beta : 0.4973368439865245 \n",
      " V : 0.0014094500790359484 \n",
      "MSE : \n",
      " Alpha : 2.5335405613909085e-05 \n",
      " Beta : 1.6406328643111545 \n",
      " V : 5.0239081873899903e-05 \n",
      "Max AERR : \n",
      " V     0.130989\n",
      "α     0.064427\n",
      "β    10.373010\n",
      "dtype: float64\n",
      "Waktu yang dibutuhkan :  1.8444350481033325\n"
     ]
    }
   ],
   "source": [
    "def max_absolute_error(y_true, y_pred):\n",
    "    return np.max(np.abs(y_true - y_pred), axis=0)\n",
    "scaler = StandardScaler()\n",
    "\n",
    "# Base models (Level Pertama)\n",
    "base_models = [\n",
    "    # ('random_forest', RandomForestRegressor(n_estimators=250, max_depth=None, random_state=42, min_samples_leaf= 1, min_samples_split= 2, max_features = 'sqrt')),\n",
    "    ('random_forest', RandomForestRegressor(n_estimators=100, max_depth=None, random_state=21, max_leaf_nodes= 800)),\n",
    "    ('gradient_boosting', GradientBoostingRegressor(n_estimators=400, learning_rate=0.0579, random_state=42, max_depth = 5)),\n",
    "    ('knn', make_pipeline(StandardScaler(), KNeighborsRegressor(n_neighbors=2, weights='distance', algorithm='auto')))\n",
    "]\n",
    "\n",
    "# Meta-model (Level Kedua)\n",
    "# Menggunakan Ridge Regression sebagai meta-model untuk menghindari overfitting\n",
    "meta_model = Ridge(alpha=0.1)\n",
    "\n",
    "# Membentuk Stacking Regressor\n",
    "stacking_regressor = StackingRegressor(\n",
    "    estimators=base_models,\n",
    "    final_estimator=meta_model,\n",
    "    passthrough=True  # Memasukkan data asli ke meta-model bersama prediksi base models\n",
    ")\n",
    "\n",
    "# Untuk multi-output, kita bungkus dengan MultiOutputRegressor\n",
    "model_all_best = MultiOutputRegressor(stacking_regressor)\n",
    "start = time.time()\n",
    "# Training\n",
    "model_all_best.fit(x0_train, y0_train)\n",
    "end = time.time()\n",
    "waktu = (end-start)/60\n",
    "# Prediction\n",
    "y0_pred = model_all_best.predict(x0_test)\n",
    "r2 = r2_score(y0_test, y0_pred, multioutput = 'raw_values')\n",
    "mae = mean_absolute_error(y0_test, y0_pred, multioutput = 'raw_values')\n",
    "mse = mean_squared_error(y0_test, y0_pred, multioutput = 'raw_values')\n",
    "max_ae = max_absolute_error(y0_test, y0_pred)\n",
    "print(f'R2 : \\n Alpha : {r2[1]} \\n Beta : {r2[2]} \\n V : {r2[0]} ')\n",
    "print(f'MAE : \\n Alpha : {mae[1]} \\n Beta : {mae[2]} \\n V : {mae[0]} ')\n",
    "print(f'MSE : \\n Alpha : {mse[1]} \\n Beta : {mse[2]} \\n V : {mse[0]} ')\n",
    "print('Max AERR : \\n', max_ae)\n",
    "print(\"Waktu yang dibutuhkan : \", waktu)"
   ]
  },
  {
   "cell_type": "code",
   "execution_count": 84,
   "id": "20f73b0b-c530-4797-ac97-45a65cbd8f1d",
   "metadata": {},
   "outputs": [
    {
     "name": "stdout",
     "output_type": "stream",
     "text": [
      "6719\n"
     ]
    }
   ],
   "source": [
    "y_pred_df = pd.DataFrame(y0_pred, columns = [\"V\",\"α\",\"β\"], index = y0_test.index)\n",
    "aerr = np.abs(y_pred_df - y0_test)\n",
    "index_max_aerr = aerr[\"β\"].idxmax()\n",
    "df_all_clean_26 = df_all_clean_25.drop(index = index_max_aerr)\n",
    "print(len(df_all_clean_26))"
   ]
  },
  {
   "cell_type": "markdown",
   "id": "c08cdb1c-c82d-46ee-9acf-2e5a0cc50f5b",
   "metadata": {},
   "source": [
    "### AFTER REDUCE 26"
   ]
  },
  {
   "cell_type": "code",
   "execution_count": 85,
   "id": "f065038d-5797-4193-85c7-b7f13d20f4f8",
   "metadata": {},
   "outputs": [],
   "source": [
    "x_all = df_all_clean_26.drop(columns = [\"V\",\"α\",\"β\"])\n",
    "y_all = df_all_clean_26[[\"V\",\"α\",\"β\"]]\n",
    "\n",
    "x0_train, x0_test, y0_train, y0_test = train_test_split(x_all, y_all,\n",
    "                                                        random_state = 42, test_size = 0.2)"
   ]
  },
  {
   "cell_type": "code",
   "execution_count": 86,
   "id": "f158636b-7b48-4739-902a-98e5d9cf7898",
   "metadata": {},
   "outputs": [
    {
     "name": "stdout",
     "output_type": "stream",
     "text": [
      "R2 : \n",
      " Alpha : 0.9999999739259854 \n",
      " Beta : 0.9861060148651558 \n",
      " V : 0.9999997121048094 \n",
      "MAE : \n",
      " Alpha : 0.002679255758099746 \n",
      " Beta : 0.48564560659717143 \n",
      " V : 0.0015824671151048926 \n",
      "MSE : \n",
      " Alpha : 3.2450318611178066e-05 \n",
      " Beta : 1.5799553023269302 \n",
      " V : 5.773442719540216e-05 \n",
      "Max AERR : \n",
      " V     0.129415\n",
      "α     0.075332\n",
      "β    10.881309\n",
      "dtype: float64\n",
      "Waktu yang dibutuhkan :  1.8543764154116313\n"
     ]
    }
   ],
   "source": [
    "def max_absolute_error(y_true, y_pred):\n",
    "    return np.max(np.abs(y_true - y_pred), axis=0)\n",
    "scaler = StandardScaler()\n",
    "\n",
    "# Base models (Level Pertama)\n",
    "base_models = [\n",
    "    # ('random_forest', RandomForestRegressor(n_estimators=250, max_depth=None, random_state=42, min_samples_leaf= 1, min_samples_split= 2, max_features = 'sqrt')),\n",
    "    ('random_forest', RandomForestRegressor(n_estimators=100, max_depth=None, random_state=21, max_leaf_nodes= 800)),\n",
    "    ('gradient_boosting', GradientBoostingRegressor(n_estimators=400, learning_rate=0.0579, random_state=42, max_depth = 5)),\n",
    "    ('knn', make_pipeline(StandardScaler(), KNeighborsRegressor(n_neighbors=2, weights='distance', algorithm='auto')))\n",
    "]\n",
    "\n",
    "# Meta-model (Level Kedua)\n",
    "# Menggunakan Ridge Regression sebagai meta-model untuk menghindari overfitting\n",
    "meta_model = Ridge(alpha=0.1)\n",
    "\n",
    "# Membentuk Stacking Regressor\n",
    "stacking_regressor = StackingRegressor(\n",
    "    estimators=base_models,\n",
    "    final_estimator=meta_model,\n",
    "    passthrough=True  # Memasukkan data asli ke meta-model bersama prediksi base models\n",
    ")\n",
    "\n",
    "# Untuk multi-output, kita bungkus dengan MultiOutputRegressor\n",
    "model_all_best = MultiOutputRegressor(stacking_regressor)\n",
    "start = time.time()\n",
    "# Training\n",
    "model_all_best.fit(x0_train, y0_train)\n",
    "end = time.time()\n",
    "waktu = (end-start)/60\n",
    "# Prediction\n",
    "y0_pred = model_all_best.predict(x0_test)\n",
    "r2 = r2_score(y0_test, y0_pred, multioutput = 'raw_values')\n",
    "mae = mean_absolute_error(y0_test, y0_pred, multioutput = 'raw_values')\n",
    "mse = mean_squared_error(y0_test, y0_pred, multioutput = 'raw_values')\n",
    "max_ae = max_absolute_error(y0_test, y0_pred)\n",
    "print(f'R2 : \\n Alpha : {r2[1]} \\n Beta : {r2[2]} \\n V : {r2[0]} ')\n",
    "print(f'MAE : \\n Alpha : {mae[1]} \\n Beta : {mae[2]} \\n V : {mae[0]} ')\n",
    "print(f'MSE : \\n Alpha : {mse[1]} \\n Beta : {mse[2]} \\n V : {mse[0]} ')\n",
    "print('Max AERR : \\n', max_ae)\n",
    "print(\"Waktu yang dibutuhkan : \", waktu)"
   ]
  },
  {
   "cell_type": "code",
   "execution_count": 87,
   "id": "d907e25a-0e29-431d-9e13-cc4835d5617e",
   "metadata": {},
   "outputs": [
    {
     "name": "stdout",
     "output_type": "stream",
     "text": [
      "6718\n"
     ]
    }
   ],
   "source": [
    "y_pred_df = pd.DataFrame(y0_pred, columns = [\"V\",\"α\",\"β\"], index = y0_test.index)\n",
    "aerr = np.abs(y_pred_df - y0_test)\n",
    "index_max_aerr = aerr[\"β\"].idxmax()\n",
    "df_all_clean_27 = df_all_clean_26.drop(index = index_max_aerr)\n",
    "print(len(df_all_clean_27))"
   ]
  },
  {
   "cell_type": "markdown",
   "id": "5bddcfe3-3dc5-4d49-8369-4be9209ae084",
   "metadata": {},
   "source": [
    "### AFTER REDUCE 27"
   ]
  },
  {
   "cell_type": "code",
   "execution_count": 88,
   "id": "e4ccd5b0-f6e0-4fa8-92e6-ac6adc29c556",
   "metadata": {},
   "outputs": [],
   "source": [
    "x_all = df_all_clean_27.drop(columns = [\"V\",\"α\",\"β\"])\n",
    "y_all = df_all_clean_27[[\"V\",\"α\",\"β\"]]\n",
    "\n",
    "x0_train, x0_test, y0_train, y0_test = train_test_split(x_all, y_all,\n",
    "                                                        random_state = 42, test_size = 0.2)"
   ]
  },
  {
   "cell_type": "code",
   "execution_count": 89,
   "id": "8af65dc6-7c68-4248-93fa-459ea729f9a3",
   "metadata": {},
   "outputs": [
    {
     "name": "stdout",
     "output_type": "stream",
     "text": [
      "R2 : \n",
      " Alpha : 0.9999999712362085 \n",
      " Beta : 0.9858954162591556 \n",
      " V : 0.9999997255584597 \n",
      "MAE : \n",
      " Alpha : 0.003118920576860782 \n",
      " Beta : 0.473201973255956 \n",
      " V : 0.0016169976745297175 \n",
      "MSE : \n",
      " Alpha : 3.611172563054531e-05 \n",
      " Beta : 1.5607572758738537 \n",
      " V : 5.550466648433304e-05 \n",
      "Max AERR : \n",
      " V    0.128622\n",
      "α    0.067817\n",
      "β    9.963261\n",
      "dtype: float64\n",
      "Waktu yang dibutuhkan :  1.8327463150024415\n"
     ]
    }
   ],
   "source": [
    "def max_absolute_error(y_true, y_pred):\n",
    "    return np.max(np.abs(y_true - y_pred), axis=0)\n",
    "scaler = StandardScaler()\n",
    "\n",
    "# Base models (Level Pertama)\n",
    "base_models = [\n",
    "    # ('random_forest', RandomForestRegressor(n_estimators=250, max_depth=None, random_state=42, min_samples_leaf= 1, min_samples_split= 2, max_features = 'sqrt')),\n",
    "    ('random_forest', RandomForestRegressor(n_estimators=100, max_depth=None, random_state=21, max_leaf_nodes= 800)),\n",
    "    ('gradient_boosting', GradientBoostingRegressor(n_estimators=400, learning_rate=0.0579, random_state=42, max_depth = 5)),\n",
    "    ('knn', make_pipeline(StandardScaler(), KNeighborsRegressor(n_neighbors=2, weights='distance', algorithm='auto')))\n",
    "]\n",
    "\n",
    "# Meta-model (Level Kedua)\n",
    "# Menggunakan Ridge Regression sebagai meta-model untuk menghindari overfitting\n",
    "meta_model = Ridge(alpha=0.1)\n",
    "\n",
    "# Membentuk Stacking Regressor\n",
    "stacking_regressor = StackingRegressor(\n",
    "    estimators=base_models,\n",
    "    final_estimator=meta_model,\n",
    "    passthrough=True  # Memasukkan data asli ke meta-model bersama prediksi base models\n",
    ")\n",
    "\n",
    "# Untuk multi-output, kita bungkus dengan MultiOutputRegressor\n",
    "model_all_best = MultiOutputRegressor(stacking_regressor)\n",
    "start = time.time()\n",
    "# Training\n",
    "model_all_best.fit(x0_train, y0_train)\n",
    "end = time.time()\n",
    "waktu = (end-start)/60\n",
    "# Prediction\n",
    "y0_pred = model_all_best.predict(x0_test)\n",
    "r2 = r2_score(y0_test, y0_pred, multioutput = 'raw_values')\n",
    "mae = mean_absolute_error(y0_test, y0_pred, multioutput = 'raw_values')\n",
    "mse = mean_squared_error(y0_test, y0_pred, multioutput = 'raw_values')\n",
    "max_ae = max_absolute_error(y0_test, y0_pred)\n",
    "print(f'R2 : \\n Alpha : {r2[1]} \\n Beta : {r2[2]} \\n V : {r2[0]} ')\n",
    "print(f'MAE : \\n Alpha : {mae[1]} \\n Beta : {mae[2]} \\n V : {mae[0]} ')\n",
    "print(f'MSE : \\n Alpha : {mse[1]} \\n Beta : {mse[2]} \\n V : {mse[0]} ')\n",
    "print('Max AERR : \\n', max_ae)\n",
    "print(\"Waktu yang dibutuhkan : \", waktu)"
   ]
  },
  {
   "cell_type": "code",
   "execution_count": 90,
   "id": "b69ac4bf-ef6c-4213-8ca9-d6c7ab4b4e47",
   "metadata": {},
   "outputs": [
    {
     "name": "stdout",
     "output_type": "stream",
     "text": [
      "6717\n"
     ]
    }
   ],
   "source": [
    "y_pred_df = pd.DataFrame(y0_pred, columns = [\"V\",\"α\",\"β\"], index = y0_test.index)\n",
    "aerr = np.abs(y_pred_df - y0_test)\n",
    "index_max_aerr = aerr[\"β\"].idxmax()\n",
    "df_all_clean_28 = df_all_clean_27.drop(index = index_max_aerr)\n",
    "print(len(df_all_clean_28))"
   ]
  },
  {
   "cell_type": "markdown",
   "id": "d4d93b05-1318-4bf5-83d5-0e90ab8b26ad",
   "metadata": {},
   "source": [
    "### AFTER REDUCE 28"
   ]
  },
  {
   "cell_type": "code",
   "execution_count": 91,
   "id": "180ceb44-a77c-4583-85b3-dacc4b7228c9",
   "metadata": {},
   "outputs": [],
   "source": [
    "x_all = df_all_clean_28.drop(columns = [\"V\",\"α\",\"β\"])\n",
    "y_all = df_all_clean_28[[\"V\",\"α\",\"β\"]]\n",
    "\n",
    "x0_train, x0_test, y0_train, y0_test = train_test_split(x_all, y_all,\n",
    "                                                        random_state = 42, test_size = 0.2)"
   ]
  },
  {
   "cell_type": "code",
   "execution_count": 92,
   "id": "33723d4c-b24b-4715-9448-41e2e316853e",
   "metadata": {},
   "outputs": [
    {
     "name": "stdout",
     "output_type": "stream",
     "text": [
      "R2 : \n",
      " Alpha : 0.9999999805737761 \n",
      " Beta : 0.9841475348809093 \n",
      " V : 0.9999997183254854 \n",
      "MAE : \n",
      " Alpha : 0.0024650892663839095 \n",
      " Beta : 0.5207688319865559 \n",
      " V : 0.0017830227809993518 \n",
      "MSE : \n",
      " Alpha : 2.5118577657476363e-05 \n",
      " Beta : 1.802740973759886 \n",
      " V : 5.563998809747977e-05 \n",
      "Max AERR : \n",
      " V     0.081082\n",
      "α     0.063207\n",
      "β    12.102140\n",
      "dtype: float64\n",
      "Waktu yang dibutuhkan :  1.8356406887372334\n"
     ]
    }
   ],
   "source": [
    "def max_absolute_error(y_true, y_pred):\n",
    "    return np.max(np.abs(y_true - y_pred), axis=0)\n",
    "scaler = StandardScaler()\n",
    "\n",
    "# Base models (Level Pertama)\n",
    "base_models = [\n",
    "    # ('random_forest', RandomForestRegressor(n_estimators=250, max_depth=None, random_state=42, min_samples_leaf= 1, min_samples_split= 2, max_features = 'sqrt')),\n",
    "    ('random_forest', RandomForestRegressor(n_estimators=100, max_depth=None, random_state=21, max_leaf_nodes= 800)),\n",
    "    ('gradient_boosting', GradientBoostingRegressor(n_estimators=400, learning_rate=0.0579, random_state=42, max_depth = 5)),\n",
    "    ('knn', make_pipeline(StandardScaler(), KNeighborsRegressor(n_neighbors=2, weights='distance', algorithm='auto')))\n",
    "]\n",
    "\n",
    "# Meta-model (Level Kedua)\n",
    "# Menggunakan Ridge Regression sebagai meta-model untuk menghindari overfitting\n",
    "meta_model = Ridge(alpha=0.1)\n",
    "\n",
    "# Membentuk Stacking Regressor\n",
    "stacking_regressor = StackingRegressor(\n",
    "    estimators=base_models,\n",
    "    final_estimator=meta_model,\n",
    "    passthrough=True  # Memasukkan data asli ke meta-model bersama prediksi base models\n",
    ")\n",
    "\n",
    "# Untuk multi-output, kita bungkus dengan MultiOutputRegressor\n",
    "model_all_best = MultiOutputRegressor(stacking_regressor)\n",
    "start = time.time()\n",
    "# Training\n",
    "model_all_best.fit(x0_train, y0_train)\n",
    "end = time.time()\n",
    "waktu = (end-start)/60\n",
    "# Prediction\n",
    "y0_pred = model_all_best.predict(x0_test)\n",
    "r2 = r2_score(y0_test, y0_pred, multioutput = 'raw_values')\n",
    "mae = mean_absolute_error(y0_test, y0_pred, multioutput = 'raw_values')\n",
    "mse = mean_squared_error(y0_test, y0_pred, multioutput = 'raw_values')\n",
    "max_ae = max_absolute_error(y0_test, y0_pred)\n",
    "print(f'R2 : \\n Alpha : {r2[1]} \\n Beta : {r2[2]} \\n V : {r2[0]} ')\n",
    "print(f'MAE : \\n Alpha : {mae[1]} \\n Beta : {mae[2]} \\n V : {mae[0]} ')\n",
    "print(f'MSE : \\n Alpha : {mse[1]} \\n Beta : {mse[2]} \\n V : {mse[0]} ')\n",
    "print('Max AERR : \\n', max_ae)\n",
    "print(\"Waktu yang dibutuhkan : \", waktu)"
   ]
  },
  {
   "cell_type": "code",
   "execution_count": 93,
   "id": "eba99a63-7985-47ac-a78c-eaf7492ff87b",
   "metadata": {},
   "outputs": [
    {
     "name": "stdout",
     "output_type": "stream",
     "text": [
      "6716\n"
     ]
    }
   ],
   "source": [
    "y_pred_df = pd.DataFrame(y0_pred, columns = [\"V\",\"α\",\"β\"], index = y0_test.index)\n",
    "aerr = np.abs(y_pred_df - y0_test)\n",
    "index_max_aerr = aerr[\"β\"].idxmax()\n",
    "df_all_clean_29 = df_all_clean_28.drop(index = index_max_aerr)\n",
    "print(len(df_all_clean_29))"
   ]
  },
  {
   "cell_type": "markdown",
   "id": "dd7ae7b5-d1fd-4f4f-8746-587644ff4433",
   "metadata": {},
   "source": [
    "### AFTER REDUCE 29"
   ]
  },
  {
   "cell_type": "code",
   "execution_count": 94,
   "id": "832a698f-a976-48eb-879d-b82ae59b704d",
   "metadata": {},
   "outputs": [],
   "source": [
    "x_all = df_all_clean_29.drop(columns = [\"V\",\"α\",\"β\"])\n",
    "y_all = df_all_clean_29[[\"V\",\"α\",\"β\"]]\n",
    "\n",
    "x0_train, x0_test, y0_train, y0_test = train_test_split(x_all, y_all,\n",
    "                                                        random_state = 42, test_size = 0.2)"
   ]
  },
  {
   "cell_type": "code",
   "execution_count": 95,
   "id": "b603a0ff-9183-49c6-8d63-5c2ee83eba67",
   "metadata": {},
   "outputs": [
    {
     "name": "stdout",
     "output_type": "stream",
     "text": [
      "R2 : \n",
      " Alpha : 0.9999999774747178 \n",
      " Beta : 0.984840596403425 \n",
      " V : 0.9999997365237846 \n",
      "MAE : \n",
      " Alpha : 0.002849919398260284 \n",
      " Beta : 0.506690538294264 \n",
      " V : 0.001868202676855257 \n",
      "MSE : \n",
      " Alpha : 2.8688724071377963e-05 \n",
      " Beta : 1.700739692789042 \n",
      " V : 5.16202071973203e-05 \n",
      "Max AERR : \n",
      " V     0.065221\n",
      "α     0.057853\n",
      "β    10.554475\n",
      "dtype: float64\n",
      "Waktu yang dibutuhkan :  1.8505324204762776\n"
     ]
    }
   ],
   "source": [
    "def max_absolute_error(y_true, y_pred):\n",
    "    return np.max(np.abs(y_true - y_pred), axis=0)\n",
    "scaler = StandardScaler()\n",
    "\n",
    "# Base models (Level Pertama)\n",
    "base_models = [\n",
    "    # ('random_forest', RandomForestRegressor(n_estimators=250, max_depth=None, random_state=42, min_samples_leaf= 1, min_samples_split= 2, max_features = 'sqrt')),\n",
    "    ('random_forest', RandomForestRegressor(n_estimators=100, max_depth=None, random_state=21, max_leaf_nodes= 800)),\n",
    "    ('gradient_boosting', GradientBoostingRegressor(n_estimators=400, learning_rate=0.0579, random_state=42, max_depth = 5)),\n",
    "    ('knn', make_pipeline(StandardScaler(), KNeighborsRegressor(n_neighbors=2, weights='distance', algorithm='auto')))\n",
    "]\n",
    "\n",
    "# Meta-model (Level Kedua)\n",
    "# Menggunakan Ridge Regression sebagai meta-model untuk menghindari overfitting\n",
    "meta_model = Ridge(alpha=0.1)\n",
    "\n",
    "# Membentuk Stacking Regressor\n",
    "stacking_regressor = StackingRegressor(\n",
    "    estimators=base_models,\n",
    "    final_estimator=meta_model,\n",
    "    passthrough=True  # Memasukkan data asli ke meta-model bersama prediksi base models\n",
    ")\n",
    "\n",
    "# Untuk multi-output, kita bungkus dengan MultiOutputRegressor\n",
    "model_all_best = MultiOutputRegressor(stacking_regressor)\n",
    "start = time.time()\n",
    "# Training\n",
    "model_all_best.fit(x0_train, y0_train)\n",
    "end = time.time()\n",
    "waktu = (end-start)/60\n",
    "# Prediction\n",
    "y0_pred = model_all_best.predict(x0_test)\n",
    "r2 = r2_score(y0_test, y0_pred, multioutput = 'raw_values')\n",
    "mae = mean_absolute_error(y0_test, y0_pred, multioutput = 'raw_values')\n",
    "mse = mean_squared_error(y0_test, y0_pred, multioutput = 'raw_values')\n",
    "max_ae = max_absolute_error(y0_test, y0_pred)\n",
    "print(f'R2 : \\n Alpha : {r2[1]} \\n Beta : {r2[2]} \\n V : {r2[0]} ')\n",
    "print(f'MAE : \\n Alpha : {mae[1]} \\n Beta : {mae[2]} \\n V : {mae[0]} ')\n",
    "print(f'MSE : \\n Alpha : {mse[1]} \\n Beta : {mse[2]} \\n V : {mse[0]} ')\n",
    "print('Max AERR : \\n', max_ae)\n",
    "print(\"Waktu yang dibutuhkan : \", waktu)"
   ]
  },
  {
   "cell_type": "code",
   "execution_count": 96,
   "id": "d2decc95-1f06-4bb0-aa70-6d10da0f58ca",
   "metadata": {},
   "outputs": [
    {
     "name": "stdout",
     "output_type": "stream",
     "text": [
      "6715\n"
     ]
    }
   ],
   "source": [
    "y_pred_df = pd.DataFrame(y0_pred, columns = [\"V\",\"α\",\"β\"], index = y0_test.index)\n",
    "aerr = np.abs(y_pred_df - y0_test)\n",
    "index_max_aerr = aerr[\"β\"].idxmax()\n",
    "df_all_clean_30 = df_all_clean_29.drop(index = index_max_aerr)\n",
    "print(len(df_all_clean_30))"
   ]
  },
  {
   "cell_type": "markdown",
   "id": "4a7c5412-8a20-4491-ad9b-baba095daca6",
   "metadata": {},
   "source": [
    "### AFTER REDUCE 30"
   ]
  },
  {
   "cell_type": "code",
   "execution_count": 97,
   "id": "8df70109-4a46-4578-9504-6a63b74c9fa3",
   "metadata": {},
   "outputs": [],
   "source": [
    "x_all = df_all_clean_30.drop(columns = [\"V\",\"α\",\"β\"])\n",
    "y_all = df_all_clean_30[[\"V\",\"α\",\"β\"]]\n",
    "\n",
    "x0_train, x0_test, y0_train, y0_test = train_test_split(x_all, y_all,\n",
    "                                                        random_state = 42, test_size = 0.2)"
   ]
  },
  {
   "cell_type": "code",
   "execution_count": 98,
   "id": "89795c9f-a81d-4753-bf77-f2666f35d199",
   "metadata": {},
   "outputs": [
    {
     "name": "stdout",
     "output_type": "stream",
     "text": [
      "R2 : \n",
      " Alpha : 0.9999999727602648 \n",
      " Beta : 0.9847523620559342 \n",
      " V : 0.999999747460208 \n",
      "MAE : \n",
      " Alpha : 0.002689377882041364 \n",
      " Beta : 0.5084419454772547 \n",
      " V : 0.0017468670320417647 \n",
      "MSE : \n",
      " Alpha : 3.416202084707356e-05 \n",
      " Beta : 1.66547472079497 \n",
      " V : 5.1557921646603296e-05 \n",
      "Max AERR : \n",
      " V     0.080422\n",
      "α     0.080375\n",
      "β    10.100944\n",
      "dtype: float64\n",
      "Waktu yang dibutuhkan :  1.8341790239016216\n"
     ]
    }
   ],
   "source": [
    "def max_absolute_error(y_true, y_pred):\n",
    "    return np.max(np.abs(y_true - y_pred), axis=0)\n",
    "scaler = StandardScaler()\n",
    "\n",
    "# Base models (Level Pertama)\n",
    "base_models = [\n",
    "    # ('random_forest', RandomForestRegressor(n_estimators=250, max_depth=None, random_state=42, min_samples_leaf= 1, min_samples_split= 2, max_features = 'sqrt')),\n",
    "    ('random_forest', RandomForestRegressor(n_estimators=100, max_depth=None, random_state=21, max_leaf_nodes= 800)),\n",
    "    ('gradient_boosting', GradientBoostingRegressor(n_estimators=400, learning_rate=0.0579, random_state=42, max_depth = 5)),\n",
    "    ('knn', make_pipeline(StandardScaler(), KNeighborsRegressor(n_neighbors=2, weights='distance', algorithm='auto')))\n",
    "]\n",
    "\n",
    "# Meta-model (Level Kedua)\n",
    "# Menggunakan Ridge Regression sebagai meta-model untuk menghindari overfitting\n",
    "meta_model = Ridge(alpha=0.1)\n",
    "\n",
    "# Membentuk Stacking Regressor\n",
    "stacking_regressor = StackingRegressor(\n",
    "    estimators=base_models,\n",
    "    final_estimator=meta_model,\n",
    "    passthrough=True  # Memasukkan data asli ke meta-model bersama prediksi base models\n",
    ")\n",
    "\n",
    "# Untuk multi-output, kita bungkus dengan MultiOutputRegressor\n",
    "model_all_best = MultiOutputRegressor(stacking_regressor)\n",
    "start = time.time()\n",
    "# Training\n",
    "model_all_best.fit(x0_train, y0_train)\n",
    "end = time.time()\n",
    "waktu = (end-start)/60\n",
    "# Prediction\n",
    "y0_pred = model_all_best.predict(x0_test)\n",
    "r2 = r2_score(y0_test, y0_pred, multioutput = 'raw_values')\n",
    "mae = mean_absolute_error(y0_test, y0_pred, multioutput = 'raw_values')\n",
    "mse = mean_squared_error(y0_test, y0_pred, multioutput = 'raw_values')\n",
    "max_ae = max_absolute_error(y0_test, y0_pred)\n",
    "print(f'R2 : \\n Alpha : {r2[1]} \\n Beta : {r2[2]} \\n V : {r2[0]} ')\n",
    "print(f'MAE : \\n Alpha : {mae[1]} \\n Beta : {mae[2]} \\n V : {mae[0]} ')\n",
    "print(f'MSE : \\n Alpha : {mse[1]} \\n Beta : {mse[2]} \\n V : {mse[0]} ')\n",
    "print('Max AERR : \\n', max_ae)\n",
    "print(\"Waktu yang dibutuhkan : \", waktu)"
   ]
  },
  {
   "cell_type": "code",
   "execution_count": 99,
   "id": "12053f6e-052a-42d4-ab3c-686220565e03",
   "metadata": {},
   "outputs": [
    {
     "name": "stdout",
     "output_type": "stream",
     "text": [
      "6714\n"
     ]
    }
   ],
   "source": [
    "y_pred_df = pd.DataFrame(y0_pred, columns = [\"V\",\"α\",\"β\"], index = y0_test.index)\n",
    "aerr = np.abs(y_pred_df - y0_test)\n",
    "index_max_aerr = aerr[\"β\"].idxmax()\n",
    "df_all_clean_31 = df_all_clean_30.drop(index = index_max_aerr)\n",
    "print(len(df_all_clean_31))"
   ]
  },
  {
   "cell_type": "markdown",
   "id": "d9626fe9-f576-4b7f-84b8-cd567cac1420",
   "metadata": {},
   "source": [
    "### AFTER REDUCE 31"
   ]
  },
  {
   "cell_type": "code",
   "execution_count": 100,
   "id": "088b45b2-69ed-43fe-96dc-6741116b118b",
   "metadata": {},
   "outputs": [],
   "source": [
    "x_all = df_all_clean_31.drop(columns = [\"V\",\"α\",\"β\"])\n",
    "y_all = df_all_clean_31[[\"V\",\"α\",\"β\"]]\n",
    "\n",
    "x0_train, x0_test, y0_train, y0_test = train_test_split(x_all, y_all,\n",
    "                                                        random_state = 42, test_size = 0.2)"
   ]
  },
  {
   "cell_type": "code",
   "execution_count": 101,
   "id": "68c64f67-3758-4458-86ad-b767d72bf77b",
   "metadata": {},
   "outputs": [
    {
     "name": "stdout",
     "output_type": "stream",
     "text": [
      "R2 : \n",
      " Alpha : 0.9999999825001711 \n",
      " Beta : 0.9859798471751942 \n",
      " V : 0.9999997646155153 \n",
      "MAE : \n",
      " Alpha : 0.002691839368961589 \n",
      " Beta : 0.4774067928830043 \n",
      " V : 0.0015705260699524965 \n",
      "MSE : \n",
      " Alpha : 2.16687801018428e-05 \n",
      " Beta : 1.541316361415488 \n",
      " V : 4.736723333802249e-05 \n",
      "Max AERR : \n",
      " V    0.085217\n",
      "α    0.060339\n",
      "β    9.863913\n",
      "dtype: float64\n",
      "Waktu yang dibutuhkan :  1.830320163567861\n"
     ]
    }
   ],
   "source": [
    "def max_absolute_error(y_true, y_pred):\n",
    "    return np.max(np.abs(y_true - y_pred), axis=0)\n",
    "scaler = StandardScaler()\n",
    "\n",
    "# Base models (Level Pertama)\n",
    "base_models = [\n",
    "    # ('random_forest', RandomForestRegressor(n_estimators=250, max_depth=None, random_state=42, min_samples_leaf= 1, min_samples_split= 2, max_features = 'sqrt')),\n",
    "    ('random_forest', RandomForestRegressor(n_estimators=100, max_depth=None, random_state=21, max_leaf_nodes= 800)),\n",
    "    ('gradient_boosting', GradientBoostingRegressor(n_estimators=400, learning_rate=0.0579, random_state=42, max_depth = 5)),\n",
    "    ('knn', make_pipeline(StandardScaler(), KNeighborsRegressor(n_neighbors=2, weights='distance', algorithm='auto')))\n",
    "]\n",
    "\n",
    "# Meta-model (Level Kedua)\n",
    "# Menggunakan Ridge Regression sebagai meta-model untuk menghindari overfitting\n",
    "meta_model = Ridge(alpha=0.1)\n",
    "\n",
    "# Membentuk Stacking Regressor\n",
    "stacking_regressor = StackingRegressor(\n",
    "    estimators=base_models,\n",
    "    final_estimator=meta_model,\n",
    "    passthrough=True  # Memasukkan data asli ke meta-model bersama prediksi base models\n",
    ")\n",
    "\n",
    "# Untuk multi-output, kita bungkus dengan MultiOutputRegressor\n",
    "model_all_best = MultiOutputRegressor(stacking_regressor)\n",
    "start = time.time()\n",
    "# Training\n",
    "model_all_best.fit(x0_train, y0_train)\n",
    "end = time.time()\n",
    "waktu = (end-start)/60\n",
    "# Prediction\n",
    "y0_pred = model_all_best.predict(x0_test)\n",
    "r2 = r2_score(y0_test, y0_pred, multioutput = 'raw_values')\n",
    "mae = mean_absolute_error(y0_test, y0_pred, multioutput = 'raw_values')\n",
    "mse = mean_squared_error(y0_test, y0_pred, multioutput = 'raw_values')\n",
    "max_ae = max_absolute_error(y0_test, y0_pred)\n",
    "print(f'R2 : \\n Alpha : {r2[1]} \\n Beta : {r2[2]} \\n V : {r2[0]} ')\n",
    "print(f'MAE : \\n Alpha : {mae[1]} \\n Beta : {mae[2]} \\n V : {mae[0]} ')\n",
    "print(f'MSE : \\n Alpha : {mse[1]} \\n Beta : {mse[2]} \\n V : {mse[0]} ')\n",
    "print('Max AERR : \\n', max_ae)\n",
    "print(\"Waktu yang dibutuhkan : \", waktu)"
   ]
  },
  {
   "cell_type": "code",
   "execution_count": 102,
   "id": "f3d95912-5292-457f-a6d1-aab7d39b2dd9",
   "metadata": {},
   "outputs": [
    {
     "name": "stdout",
     "output_type": "stream",
     "text": [
      "6713\n"
     ]
    }
   ],
   "source": [
    "y_pred_df = pd.DataFrame(y0_pred, columns = [\"V\",\"α\",\"β\"], index = y0_test.index)\n",
    "aerr = np.abs(y_pred_df - y0_test)\n",
    "index_max_aerr = aerr[\"β\"].idxmax()\n",
    "df_all_clean_32 = df_all_clean_31.drop(index = index_max_aerr)\n",
    "print(len(df_all_clean_32))"
   ]
  },
  {
   "cell_type": "markdown",
   "id": "f9911006-fc2d-4c86-8d6c-696abd4aaae8",
   "metadata": {},
   "source": [
    "### AFTER REDUCE 32"
   ]
  },
  {
   "cell_type": "code",
   "execution_count": 103,
   "id": "20cd51ca-6676-4f9d-ba86-425a882e4683",
   "metadata": {},
   "outputs": [],
   "source": [
    "x_all = df_all_clean_32.drop(columns = [\"V\",\"α\",\"β\"])\n",
    "y_all = df_all_clean_32[[\"V\",\"α\",\"β\"]]\n",
    "\n",
    "x0_train, x0_test, y0_train, y0_test = train_test_split(x_all, y_all,\n",
    "                                                        random_state = 42, test_size = 0.2)"
   ]
  },
  {
   "cell_type": "code",
   "execution_count": 104,
   "id": "8ccc134d-ff3f-476c-9742-cfead85e23ae",
   "metadata": {},
   "outputs": [
    {
     "name": "stdout",
     "output_type": "stream",
     "text": [
      "R2 : \n",
      " Alpha : 0.9999999763082895 \n",
      " Beta : 0.9841078351906214 \n",
      " V : 0.9999997835298718 \n",
      "MAE : \n",
      " Alpha : 0.0029007883562725315 \n",
      " Beta : 0.4758546440726956 \n",
      " V : 0.001571810663628205 \n",
      "MSE : \n",
      " Alpha : 2.9704818063988463e-05 \n",
      " Beta : 1.713352362434301 \n",
      " V : 4.283382413809334e-05 \n",
      "Max AERR : \n",
      " V     0.074815\n",
      "α     0.051164\n",
      "β    13.349615\n",
      "dtype: float64\n",
      "Waktu yang dibutuhkan :  1.8470613797505697\n"
     ]
    }
   ],
   "source": [
    "def max_absolute_error(y_true, y_pred):\n",
    "    return np.max(np.abs(y_true - y_pred), axis=0)\n",
    "scaler = StandardScaler()\n",
    "\n",
    "# Base models (Level Pertama)\n",
    "base_models = [\n",
    "    # ('random_forest', RandomForestRegressor(n_estimators=250, max_depth=None, random_state=42, min_samples_leaf= 1, min_samples_split= 2, max_features = 'sqrt')),\n",
    "    ('random_forest', RandomForestRegressor(n_estimators=100, max_depth=None, random_state=21, max_leaf_nodes= 800)),\n",
    "    ('gradient_boosting', GradientBoostingRegressor(n_estimators=400, learning_rate=0.0579, random_state=42, max_depth = 5)),\n",
    "    ('knn', make_pipeline(StandardScaler(), KNeighborsRegressor(n_neighbors=2, weights='distance', algorithm='auto')))\n",
    "]\n",
    "\n",
    "# Meta-model (Level Kedua)\n",
    "# Menggunakan Ridge Regression sebagai meta-model untuk menghindari overfitting\n",
    "meta_model = Ridge(alpha=0.1)\n",
    "\n",
    "# Membentuk Stacking Regressor\n",
    "stacking_regressor = StackingRegressor(\n",
    "    estimators=base_models,\n",
    "    final_estimator=meta_model,\n",
    "    passthrough=True  # Memasukkan data asli ke meta-model bersama prediksi base models\n",
    ")\n",
    "\n",
    "# Untuk multi-output, kita bungkus dengan MultiOutputRegressor\n",
    "model_all_best = MultiOutputRegressor(stacking_regressor)\n",
    "start = time.time()\n",
    "# Training\n",
    "model_all_best.fit(x0_train, y0_train)\n",
    "end = time.time()\n",
    "waktu = (end-start)/60\n",
    "# Prediction\n",
    "y0_pred = model_all_best.predict(x0_test)\n",
    "r2 = r2_score(y0_test, y0_pred, multioutput = 'raw_values')\n",
    "mae = mean_absolute_error(y0_test, y0_pred, multioutput = 'raw_values')\n",
    "mse = mean_squared_error(y0_test, y0_pred, multioutput = 'raw_values')\n",
    "max_ae = max_absolute_error(y0_test, y0_pred)\n",
    "print(f'R2 : \\n Alpha : {r2[1]} \\n Beta : {r2[2]} \\n V : {r2[0]} ')\n",
    "print(f'MAE : \\n Alpha : {mae[1]} \\n Beta : {mae[2]} \\n V : {mae[0]} ')\n",
    "print(f'MSE : \\n Alpha : {mse[1]} \\n Beta : {mse[2]} \\n V : {mse[0]} ')\n",
    "print('Max AERR : \\n', max_ae)\n",
    "print(\"Waktu yang dibutuhkan : \", waktu)"
   ]
  },
  {
   "cell_type": "code",
   "execution_count": 105,
   "id": "ab94b7c9-ed70-49d2-8c0f-601b77bf90ee",
   "metadata": {},
   "outputs": [
    {
     "name": "stdout",
     "output_type": "stream",
     "text": [
      "6712\n"
     ]
    }
   ],
   "source": [
    "y_pred_df = pd.DataFrame(y0_pred, columns = [\"V\",\"α\",\"β\"], index = y0_test.index)\n",
    "aerr = np.abs(y_pred_df - y0_test)\n",
    "index_max_aerr = aerr[\"β\"].idxmax()\n",
    "df_all_clean_33 = df_all_clean_32.drop(index = index_max_aerr)\n",
    "print(len(df_all_clean_33))"
   ]
  },
  {
   "cell_type": "markdown",
   "id": "06aa61d5-6e4f-4502-be67-c82d23bf6994",
   "metadata": {},
   "source": [
    "### AFTER REDUCE 33"
   ]
  },
  {
   "cell_type": "code",
   "execution_count": 106,
   "id": "5bff4af6-0746-4dc6-a5b1-f6f84f2e05d7",
   "metadata": {},
   "outputs": [],
   "source": [
    "x_all = df_all_clean_33.drop(columns = [\"V\",\"α\",\"β\"])\n",
    "y_all = df_all_clean_33[[\"V\",\"α\",\"β\"]]\n",
    "\n",
    "x0_train, x0_test, y0_train, y0_test = train_test_split(x_all, y_all,\n",
    "                                                        random_state = 42, test_size = 0.2)"
   ]
  },
  {
   "cell_type": "code",
   "execution_count": 107,
   "id": "7e07e1f1-7323-4445-bd95-6a3fe5852d82",
   "metadata": {},
   "outputs": [
    {
     "name": "stdout",
     "output_type": "stream",
     "text": [
      "R2 : \n",
      " Alpha : 0.9999999820022719 \n",
      " Beta : 0.9819313671655014 \n",
      " V : 0.9999996527257021 \n",
      "MAE : \n",
      " Alpha : 0.0026030048566138596 \n",
      " Beta : 0.5209785858614318 \n",
      " V : 0.0021302722706457943 \n",
      "MSE : \n",
      " Alpha : 2.322633571794203e-05 \n",
      " Beta : 1.982663018887723 \n",
      " V : 6.827825013093455e-05 \n",
      "Max AERR : \n",
      " V     0.084053\n",
      "α     0.052331\n",
      "β    12.929680\n",
      "dtype: float64\n",
      "Waktu yang dibutuhkan :  1.8345162351926168\n"
     ]
    }
   ],
   "source": [
    "def max_absolute_error(y_true, y_pred):\n",
    "    return np.max(np.abs(y_true - y_pred), axis=0)\n",
    "scaler = StandardScaler()\n",
    "\n",
    "# Base models (Level Pertama)\n",
    "base_models = [\n",
    "    # ('random_forest', RandomForestRegressor(n_estimators=250, max_depth=None, random_state=42, min_samples_leaf= 1, min_samples_split= 2, max_features = 'sqrt')),\n",
    "    ('random_forest', RandomForestRegressor(n_estimators=100, max_depth=None, random_state=21, max_leaf_nodes= 800)),\n",
    "    ('gradient_boosting', GradientBoostingRegressor(n_estimators=400, learning_rate=0.0579, random_state=42, max_depth = 5)),\n",
    "    ('knn', make_pipeline(StandardScaler(), KNeighborsRegressor(n_neighbors=2, weights='distance', algorithm='auto')))\n",
    "]\n",
    "\n",
    "# Meta-model (Level Kedua)\n",
    "# Menggunakan Ridge Regression sebagai meta-model untuk menghindari overfitting\n",
    "meta_model = Ridge(alpha=0.1)\n",
    "\n",
    "# Membentuk Stacking Regressor\n",
    "stacking_regressor = StackingRegressor(\n",
    "    estimators=base_models,\n",
    "    final_estimator=meta_model,\n",
    "    passthrough=True  # Memasukkan data asli ke meta-model bersama prediksi base models\n",
    ")\n",
    "\n",
    "# Untuk multi-output, kita bungkus dengan MultiOutputRegressor\n",
    "model_all_best = MultiOutputRegressor(stacking_regressor)\n",
    "start = time.time()\n",
    "# Training\n",
    "model_all_best.fit(x0_train, y0_train)\n",
    "end = time.time()\n",
    "waktu = (end-start)/60\n",
    "# Prediction\n",
    "y0_pred = model_all_best.predict(x0_test)\n",
    "r2 = r2_score(y0_test, y0_pred, multioutput = 'raw_values')\n",
    "mae = mean_absolute_error(y0_test, y0_pred, multioutput = 'raw_values')\n",
    "mse = mean_squared_error(y0_test, y0_pred, multioutput = 'raw_values')\n",
    "max_ae = max_absolute_error(y0_test, y0_pred)\n",
    "print(f'R2 : \\n Alpha : {r2[1]} \\n Beta : {r2[2]} \\n V : {r2[0]} ')\n",
    "print(f'MAE : \\n Alpha : {mae[1]} \\n Beta : {mae[2]} \\n V : {mae[0]} ')\n",
    "print(f'MSE : \\n Alpha : {mse[1]} \\n Beta : {mse[2]} \\n V : {mse[0]} ')\n",
    "print('Max AERR : \\n', max_ae)\n",
    "print(\"Waktu yang dibutuhkan : \", waktu)"
   ]
  },
  {
   "cell_type": "code",
   "execution_count": 108,
   "id": "041149e8-11f6-42db-86ba-140f7c7f8992",
   "metadata": {},
   "outputs": [
    {
     "name": "stdout",
     "output_type": "stream",
     "text": [
      "6711\n"
     ]
    }
   ],
   "source": [
    "y_pred_df = pd.DataFrame(y0_pred, columns = [\"V\",\"α\",\"β\"], index = y0_test.index)\n",
    "aerr = np.abs(y_pred_df - y0_test)\n",
    "index_max_aerr = aerr[\"β\"].idxmax()\n",
    "df_all_clean_34 = df_all_clean_33.drop(index = index_max_aerr)\n",
    "print(len(df_all_clean_34))"
   ]
  },
  {
   "cell_type": "markdown",
   "id": "71b85868-6d27-44e7-a52a-69d079f1b240",
   "metadata": {},
   "source": [
    "### AFTER REDUCE 34"
   ]
  },
  {
   "cell_type": "code",
   "execution_count": 109,
   "id": "bfc982ad-87e1-4db0-ab55-ee1fd5e17a12",
   "metadata": {},
   "outputs": [],
   "source": [
    "x_all = df_all_clean_34.drop(columns = [\"V\",\"α\",\"β\"])\n",
    "y_all = df_all_clean_34[[\"V\",\"α\",\"β\"]]\n",
    "\n",
    "x0_train, x0_test, y0_train, y0_test = train_test_split(x_all, y_all,\n",
    "                                                        random_state = 42, test_size = 0.2)"
   ]
  },
  {
   "cell_type": "code",
   "execution_count": 110,
   "id": "2ce45d84-a860-443a-bc65-c88479f8ec57",
   "metadata": {},
   "outputs": [
    {
     "name": "stdout",
     "output_type": "stream",
     "text": [
      "R2 : \n",
      " Alpha : 0.9999999786509493 \n",
      " Beta : 0.9835457572319505 \n",
      " V : 0.9999997556613842 \n",
      "MAE : \n",
      " Alpha : 0.0027944258559907645 \n",
      " Beta : 0.502775417442728 \n",
      " V : 0.00170685162945919 \n",
      "MSE : \n",
      " Alpha : 2.7355361206612185e-05 \n",
      " Beta : 1.8924921238139776 \n",
      " V : 4.8748245576462514e-05 \n",
      "Max AERR : \n",
      " V     0.074711\n",
      "α     0.057884\n",
      "β    14.032261\n",
      "dtype: float64\n",
      "Waktu yang dibutuhkan :  1.8391971866289774\n"
     ]
    }
   ],
   "source": [
    "def max_absolute_error(y_true, y_pred):\n",
    "    return np.max(np.abs(y_true - y_pred), axis=0)\n",
    "scaler = StandardScaler()\n",
    "\n",
    "# Base models (Level Pertama)\n",
    "base_models = [\n",
    "    # ('random_forest', RandomForestRegressor(n_estimators=250, max_depth=None, random_state=42, min_samples_leaf= 1, min_samples_split= 2, max_features = 'sqrt')),\n",
    "    ('random_forest', RandomForestRegressor(n_estimators=100, max_depth=None, random_state=21, max_leaf_nodes= 800)),\n",
    "    ('gradient_boosting', GradientBoostingRegressor(n_estimators=400, learning_rate=0.0579, random_state=42, max_depth = 5)),\n",
    "    ('knn', make_pipeline(StandardScaler(), KNeighborsRegressor(n_neighbors=2, weights='distance', algorithm='auto')))\n",
    "]\n",
    "\n",
    "# Meta-model (Level Kedua)\n",
    "# Menggunakan Ridge Regression sebagai meta-model untuk menghindari overfitting\n",
    "meta_model = Ridge(alpha=0.1)\n",
    "\n",
    "# Membentuk Stacking Regressor\n",
    "stacking_regressor = StackingRegressor(\n",
    "    estimators=base_models,\n",
    "    final_estimator=meta_model,\n",
    "    passthrough=True  # Memasukkan data asli ke meta-model bersama prediksi base models\n",
    ")\n",
    "\n",
    "# Untuk multi-output, kita bungkus dengan MultiOutputRegressor\n",
    "model_all_best = MultiOutputRegressor(stacking_regressor)\n",
    "start = time.time()\n",
    "# Training\n",
    "model_all_best.fit(x0_train, y0_train)\n",
    "end = time.time()\n",
    "waktu = (end-start)/60\n",
    "# Prediction\n",
    "y0_pred = model_all_best.predict(x0_test)\n",
    "r2 = r2_score(y0_test, y0_pred, multioutput = 'raw_values')\n",
    "mae = mean_absolute_error(y0_test, y0_pred, multioutput = 'raw_values')\n",
    "mse = mean_squared_error(y0_test, y0_pred, multioutput = 'raw_values')\n",
    "max_ae = max_absolute_error(y0_test, y0_pred)\n",
    "print(f'R2 : \\n Alpha : {r2[1]} \\n Beta : {r2[2]} \\n V : {r2[0]} ')\n",
    "print(f'MAE : \\n Alpha : {mae[1]} \\n Beta : {mae[2]} \\n V : {mae[0]} ')\n",
    "print(f'MSE : \\n Alpha : {mse[1]} \\n Beta : {mse[2]} \\n V : {mse[0]} ')\n",
    "print('Max AERR : \\n', max_ae)\n",
    "print(\"Waktu yang dibutuhkan : \", waktu)"
   ]
  },
  {
   "cell_type": "code",
   "execution_count": 111,
   "id": "3ad72b70-8080-44f2-b849-dce11fedbeff",
   "metadata": {},
   "outputs": [
    {
     "name": "stdout",
     "output_type": "stream",
     "text": [
      "6710\n"
     ]
    }
   ],
   "source": [
    "y_pred_df = pd.DataFrame(y0_pred, columns = [\"V\",\"α\",\"β\"], index = y0_test.index)\n",
    "aerr = np.abs(y_pred_df - y0_test)\n",
    "index_max_aerr = aerr[\"β\"].idxmax()\n",
    "df_all_clean_35 = df_all_clean_34.drop(index = index_max_aerr)\n",
    "print(len(df_all_clean_35))"
   ]
  },
  {
   "cell_type": "markdown",
   "id": "e2b734cf-37ed-4d51-a8fd-cd8583cea119",
   "metadata": {},
   "source": [
    "### AFTER REDUCE 35"
   ]
  },
  {
   "cell_type": "code",
   "execution_count": 112,
   "id": "d2c02838-48f4-44c5-9dbd-020ab89aa366",
   "metadata": {},
   "outputs": [],
   "source": [
    "x_all = df_all_clean_35.drop(columns = [\"V\",\"α\",\"β\"])\n",
    "y_all = df_all_clean_35[[\"V\",\"α\",\"β\"]]\n",
    "\n",
    "x0_train, x0_test, y0_train, y0_test = train_test_split(x_all, y_all,\n",
    "                                                        random_state = 42, test_size = 0.2)"
   ]
  },
  {
   "cell_type": "code",
   "execution_count": 113,
   "id": "3c504c1a-bf26-456d-bb38-3546a90f7a92",
   "metadata": {},
   "outputs": [
    {
     "name": "stdout",
     "output_type": "stream",
     "text": [
      "R2 : \n",
      " Alpha : 0.999999980198836 \n",
      " Beta : 0.9840160738974467 \n",
      " V : 0.9999997636338397 \n",
      "MAE : \n",
      " Alpha : 0.0028303457797262377 \n",
      " Beta : 0.5034851501969861 \n",
      " V : 0.0015917209804549776 \n",
      "MSE : \n",
      " Alpha : 2.5366837477890114e-05 \n",
      " Beta : 1.800420028828485 \n",
      " V : 4.7529516350077175e-05 \n",
      "Max AERR : \n",
      " V     0.074943\n",
      "α     0.050238\n",
      "β    11.976824\n",
      "dtype: float64\n",
      "Waktu yang dibutuhkan :  1.831849185625712\n"
     ]
    }
   ],
   "source": [
    "def max_absolute_error(y_true, y_pred):\n",
    "    return np.max(np.abs(y_true - y_pred), axis=0)\n",
    "scaler = StandardScaler()\n",
    "\n",
    "# Base models (Level Pertama)\n",
    "base_models = [\n",
    "    # ('random_forest', RandomForestRegressor(n_estimators=250, max_depth=None, random_state=42, min_samples_leaf= 1, min_samples_split= 2, max_features = 'sqrt')),\n",
    "    ('random_forest', RandomForestRegressor(n_estimators=100, max_depth=None, random_state=21, max_leaf_nodes= 800)),\n",
    "    ('gradient_boosting', GradientBoostingRegressor(n_estimators=400, learning_rate=0.0579, random_state=42, max_depth = 5)),\n",
    "    ('knn', make_pipeline(StandardScaler(), KNeighborsRegressor(n_neighbors=2, weights='distance', algorithm='auto')))\n",
    "]\n",
    "\n",
    "# Meta-model (Level Kedua)\n",
    "# Menggunakan Ridge Regression sebagai meta-model untuk menghindari overfitting\n",
    "meta_model = Ridge(alpha=0.1)\n",
    "\n",
    "# Membentuk Stacking Regressor\n",
    "stacking_regressor = StackingRegressor(\n",
    "    estimators=base_models,\n",
    "    final_estimator=meta_model,\n",
    "    passthrough=True  # Memasukkan data asli ke meta-model bersama prediksi base models\n",
    ")\n",
    "\n",
    "# Untuk multi-output, kita bungkus dengan MultiOutputRegressor\n",
    "model_all_best = MultiOutputRegressor(stacking_regressor)\n",
    "start = time.time()\n",
    "# Training\n",
    "model_all_best.fit(x0_train, y0_train)\n",
    "end = time.time()\n",
    "waktu = (end-start)/60\n",
    "# Prediction\n",
    "y0_pred = model_all_best.predict(x0_test)\n",
    "r2 = r2_score(y0_test, y0_pred, multioutput = 'raw_values')\n",
    "mae = mean_absolute_error(y0_test, y0_pred, multioutput = 'raw_values')\n",
    "mse = mean_squared_error(y0_test, y0_pred, multioutput = 'raw_values')\n",
    "max_ae = max_absolute_error(y0_test, y0_pred)\n",
    "print(f'R2 : \\n Alpha : {r2[1]} \\n Beta : {r2[2]} \\n V : {r2[0]} ')\n",
    "print(f'MAE : \\n Alpha : {mae[1]} \\n Beta : {mae[2]} \\n V : {mae[0]} ')\n",
    "print(f'MSE : \\n Alpha : {mse[1]} \\n Beta : {mse[2]} \\n V : {mse[0]} ')\n",
    "print('Max AERR : \\n', max_ae)\n",
    "print(\"Waktu yang dibutuhkan : \", waktu)"
   ]
  },
  {
   "cell_type": "code",
   "execution_count": 114,
   "id": "b189ca4c-fb12-4ceb-beff-482fe45425b4",
   "metadata": {},
   "outputs": [
    {
     "name": "stdout",
     "output_type": "stream",
     "text": [
      "6709\n"
     ]
    }
   ],
   "source": [
    "y_pred_df = pd.DataFrame(y0_pred, columns = [\"V\",\"α\",\"β\"], index = y0_test.index)\n",
    "aerr = np.abs(y_pred_df - y0_test)\n",
    "index_max_aerr = aerr[\"β\"].idxmax()\n",
    "df_all_clean_36 = df_all_clean_35.drop(index = index_max_aerr)\n",
    "print(len(df_all_clean_36))"
   ]
  },
  {
   "cell_type": "markdown",
   "id": "303a1240-866f-41ae-8dfd-5d398728cdc8",
   "metadata": {},
   "source": [
    "### AFTER REDUCE 36"
   ]
  },
  {
   "cell_type": "code",
   "execution_count": 115,
   "id": "88b3f948-337c-41c6-9473-3cd8a07742a8",
   "metadata": {},
   "outputs": [],
   "source": [
    "x_all = df_all_clean_36.drop(columns = [\"V\",\"α\",\"β\"])\n",
    "y_all = df_all_clean_36[[\"V\",\"α\",\"β\"]]\n",
    "\n",
    "x0_train, x0_test, y0_train, y0_test = train_test_split(x_all, y_all,\n",
    "                                                        random_state = 42, test_size = 0.2)"
   ]
  },
  {
   "cell_type": "code",
   "execution_count": 116,
   "id": "a3549ae5-77b4-4dfb-bb65-6fac9afc4552",
   "metadata": {},
   "outputs": [
    {
     "name": "stdout",
     "output_type": "stream",
     "text": [
      "R2 : \n",
      " Alpha : 0.9999999738340725 \n",
      " Beta : 0.9833821375989705 \n",
      " V : 0.9999997877667652 \n",
      "MAE : \n",
      " Alpha : 0.003326081960172426 \n",
      " Beta : 0.48062277834288347 \n",
      " V : 0.0016252762760998387 \n",
      "MSE : \n",
      " Alpha : 3.29070172602805e-05 \n",
      " Beta : 1.8197292153676679 \n",
      " V : 4.150479516016675e-05 \n",
      "Max AERR : \n",
      " V     0.075258\n",
      "α     0.049462\n",
      "β    11.821661\n",
      "dtype: float64\n",
      "Waktu yang dibutuhkan :  1.8351463596026103\n"
     ]
    }
   ],
   "source": [
    "def max_absolute_error(y_true, y_pred):\n",
    "    return np.max(np.abs(y_true - y_pred), axis=0)\n",
    "scaler = StandardScaler()\n",
    "\n",
    "# Base models (Level Pertama)\n",
    "base_models = [\n",
    "    # ('random_forest', RandomForestRegressor(n_estimators=250, max_depth=None, random_state=42, min_samples_leaf= 1, min_samples_split= 2, max_features = 'sqrt')),\n",
    "    ('random_forest', RandomForestRegressor(n_estimators=100, max_depth=None, random_state=21, max_leaf_nodes= 800)),\n",
    "    ('gradient_boosting', GradientBoostingRegressor(n_estimators=400, learning_rate=0.0579, random_state=42, max_depth = 5)),\n",
    "    ('knn', make_pipeline(StandardScaler(), KNeighborsRegressor(n_neighbors=2, weights='distance', algorithm='auto')))\n",
    "]\n",
    "\n",
    "# Meta-model (Level Kedua)\n",
    "# Menggunakan Ridge Regression sebagai meta-model untuk menghindari overfitting\n",
    "meta_model = Ridge(alpha=0.1)\n",
    "\n",
    "# Membentuk Stacking Regressor\n",
    "stacking_regressor = StackingRegressor(\n",
    "    estimators=base_models,\n",
    "    final_estimator=meta_model,\n",
    "    passthrough=True  # Memasukkan data asli ke meta-model bersama prediksi base models\n",
    ")\n",
    "\n",
    "# Untuk multi-output, kita bungkus dengan MultiOutputRegressor\n",
    "model_all_best = MultiOutputRegressor(stacking_regressor)\n",
    "start = time.time()\n",
    "# Training\n",
    "model_all_best.fit(x0_train, y0_train)\n",
    "end = time.time()\n",
    "waktu = (end-start)/60\n",
    "# Prediction\n",
    "y0_pred = model_all_best.predict(x0_test)\n",
    "r2 = r2_score(y0_test, y0_pred, multioutput = 'raw_values')\n",
    "mae = mean_absolute_error(y0_test, y0_pred, multioutput = 'raw_values')\n",
    "mse = mean_squared_error(y0_test, y0_pred, multioutput = 'raw_values')\n",
    "max_ae = max_absolute_error(y0_test, y0_pred)\n",
    "print(f'R2 : \\n Alpha : {r2[1]} \\n Beta : {r2[2]} \\n V : {r2[0]} ')\n",
    "print(f'MAE : \\n Alpha : {mae[1]} \\n Beta : {mae[2]} \\n V : {mae[0]} ')\n",
    "print(f'MSE : \\n Alpha : {mse[1]} \\n Beta : {mse[2]} \\n V : {mse[0]} ')\n",
    "print('Max AERR : \\n', max_ae)\n",
    "print(\"Waktu yang dibutuhkan : \", waktu)"
   ]
  },
  {
   "cell_type": "code",
   "execution_count": 117,
   "id": "977de0d0-3463-4414-82ae-fec736a22a1f",
   "metadata": {},
   "outputs": [
    {
     "name": "stdout",
     "output_type": "stream",
     "text": [
      "6708\n"
     ]
    }
   ],
   "source": [
    "y_pred_df = pd.DataFrame(y0_pred, columns = [\"V\",\"α\",\"β\"], index = y0_test.index)\n",
    "aerr = np.abs(y_pred_df - y0_test)\n",
    "index_max_aerr = aerr[\"β\"].idxmax()\n",
    "df_all_clean_37 = df_all_clean_36.drop(index = index_max_aerr)\n",
    "print(len(df_all_clean_37))"
   ]
  },
  {
   "cell_type": "markdown",
   "id": "f76bc399-adc7-4fcb-8f27-8c96e0610a13",
   "metadata": {},
   "source": [
    "### AFTER REDUCE 37"
   ]
  },
  {
   "cell_type": "code",
   "execution_count": 118,
   "id": "ccc22765-a7ce-4b68-8cba-b18a7995c2be",
   "metadata": {},
   "outputs": [],
   "source": [
    "x_all = df_all_clean_37.drop(columns = [\"V\",\"α\",\"β\"])\n",
    "y_all = df_all_clean_37[[\"V\",\"α\",\"β\"]]\n",
    "\n",
    "x0_train, x0_test, y0_train, y0_test = train_test_split(x_all, y_all,\n",
    "                                                        random_state = 42, test_size = 0.2)"
   ]
  },
  {
   "cell_type": "code",
   "execution_count": 119,
   "id": "bfa4101f-d88b-46d9-a0bc-6635661ca0ae",
   "metadata": {},
   "outputs": [
    {
     "name": "stdout",
     "output_type": "stream",
     "text": [
      "R2 : \n",
      " Alpha : 0.999999984840712 \n",
      " Beta : 0.9815307925559213 \n",
      " V : 0.9999997375017241 \n",
      "MAE : \n",
      " Alpha : 0.0023519494322485693 \n",
      " Beta : 0.525959918225707 \n",
      " V : 0.0017709599486110052 \n",
      "MSE : \n",
      " Alpha : 1.8956466201636617e-05 \n",
      " Beta : 2.050883171098925 \n",
      " V : 5.1843585767290974e-05 \n",
      "Max AERR : \n",
      " V     0.074817\n",
      "α     0.049335\n",
      "β    14.448344\n",
      "dtype: float64\n",
      "Waktu yang dibutuhkan :  1.8419795433680217\n"
     ]
    }
   ],
   "source": [
    "def max_absolute_error(y_true, y_pred):\n",
    "    return np.max(np.abs(y_true - y_pred), axis=0)\n",
    "scaler = StandardScaler()\n",
    "\n",
    "# Base models (Level Pertama)\n",
    "base_models = [\n",
    "    # ('random_forest', RandomForestRegressor(n_estimators=250, max_depth=None, random_state=42, min_samples_leaf= 1, min_samples_split= 2, max_features = 'sqrt')),\n",
    "    ('random_forest', RandomForestRegressor(n_estimators=100, max_depth=None, random_state=21, max_leaf_nodes= 800)),\n",
    "    ('gradient_boosting', GradientBoostingRegressor(n_estimators=400, learning_rate=0.0579, random_state=42, max_depth = 5)),\n",
    "    ('knn', make_pipeline(StandardScaler(), KNeighborsRegressor(n_neighbors=2, weights='distance', algorithm='auto')))\n",
    "]\n",
    "\n",
    "# Meta-model (Level Kedua)\n",
    "# Menggunakan Ridge Regression sebagai meta-model untuk menghindari overfitting\n",
    "meta_model = Ridge(alpha=0.1)\n",
    "\n",
    "# Membentuk Stacking Regressor\n",
    "stacking_regressor = StackingRegressor(\n",
    "    estimators=base_models,\n",
    "    final_estimator=meta_model,\n",
    "    passthrough=True  # Memasukkan data asli ke meta-model bersama prediksi base models\n",
    ")\n",
    "\n",
    "# Untuk multi-output, kita bungkus dengan MultiOutputRegressor\n",
    "model_all_best = MultiOutputRegressor(stacking_regressor)\n",
    "start = time.time()\n",
    "# Training\n",
    "model_all_best.fit(x0_train, y0_train)\n",
    "end = time.time()\n",
    "waktu = (end-start)/60\n",
    "# Prediction\n",
    "y0_pred = model_all_best.predict(x0_test)\n",
    "r2 = r2_score(y0_test, y0_pred, multioutput = 'raw_values')\n",
    "mae = mean_absolute_error(y0_test, y0_pred, multioutput = 'raw_values')\n",
    "mse = mean_squared_error(y0_test, y0_pred, multioutput = 'raw_values')\n",
    "max_ae = max_absolute_error(y0_test, y0_pred)\n",
    "print(f'R2 : \\n Alpha : {r2[1]} \\n Beta : {r2[2]} \\n V : {r2[0]} ')\n",
    "print(f'MAE : \\n Alpha : {mae[1]} \\n Beta : {mae[2]} \\n V : {mae[0]} ')\n",
    "print(f'MSE : \\n Alpha : {mse[1]} \\n Beta : {mse[2]} \\n V : {mse[0]} ')\n",
    "print('Max AERR : \\n', max_ae)\n",
    "print(\"Waktu yang dibutuhkan : \", waktu)"
   ]
  },
  {
   "cell_type": "code",
   "execution_count": 120,
   "id": "2a74c6b0-8591-45da-871b-0bf0d8d15dfd",
   "metadata": {},
   "outputs": [
    {
     "name": "stdout",
     "output_type": "stream",
     "text": [
      "6707\n"
     ]
    }
   ],
   "source": [
    "y_pred_df = pd.DataFrame(y0_pred, columns = [\"V\",\"α\",\"β\"], index = y0_test.index)\n",
    "aerr = np.abs(y_pred_df - y0_test)\n",
    "index_max_aerr = aerr[\"β\"].idxmax()\n",
    "df_all_clean_38 = df_all_clean_37.drop(index = index_max_aerr)\n",
    "print(len(df_all_clean_38))"
   ]
  },
  {
   "cell_type": "markdown",
   "id": "2840a870-4a36-4e2a-b99c-a882a87f4400",
   "metadata": {},
   "source": [
    "### AFTER REDUCE 38"
   ]
  },
  {
   "cell_type": "code",
   "execution_count": 121,
   "id": "ee8109e9-67e3-4c48-b904-04d1d0a4387e",
   "metadata": {},
   "outputs": [],
   "source": [
    "x_all = df_all_clean_38.drop(columns = [\"V\",\"α\",\"β\"])\n",
    "y_all = df_all_clean_38[[\"V\",\"α\",\"β\"]]\n",
    "\n",
    "x0_train, x0_test, y0_train, y0_test = train_test_split(x_all, y_all,\n",
    "                                                        random_state = 42, test_size = 0.2)"
   ]
  },
  {
   "cell_type": "code",
   "execution_count": 122,
   "id": "509e5485-7731-4f68-af8e-c2aaec18b0a9",
   "metadata": {},
   "outputs": [
    {
     "name": "stdout",
     "output_type": "stream",
     "text": [
      "R2 : \n",
      " Alpha : 0.9999999797229634 \n",
      " Beta : 0.9834303172190553 \n",
      " V : 0.9999997368919491 \n",
      "MAE : \n",
      " Alpha : 0.0026780906334685976 \n",
      " Beta : 0.5128162890156647 \n",
      " V : 0.0018897118032941249 \n",
      "MSE : \n",
      " Alpha : 2.5352326420998613e-05 \n",
      " Beta : 1.8238039838509783 \n",
      " V : 5.19653287883851e-05 \n",
      "Max AERR : \n",
      " V     0.081435\n",
      "α     0.048718\n",
      "β    11.763475\n",
      "dtype: float64\n",
      "Waktu yang dibutuhkan :  1.8354536612828574\n"
     ]
    }
   ],
   "source": [
    "def max_absolute_error(y_true, y_pred):\n",
    "    return np.max(np.abs(y_true - y_pred), axis=0)\n",
    "scaler = StandardScaler()\n",
    "\n",
    "# Base models (Level Pertama)\n",
    "base_models = [\n",
    "    # ('random_forest', RandomForestRegressor(n_estimators=250, max_depth=None, random_state=42, min_samples_leaf= 1, min_samples_split= 2, max_features = 'sqrt')),\n",
    "    ('random_forest', RandomForestRegressor(n_estimators=100, max_depth=None, random_state=21, max_leaf_nodes= 800)),\n",
    "    ('gradient_boosting', GradientBoostingRegressor(n_estimators=400, learning_rate=0.0579, random_state=42, max_depth = 5)),\n",
    "    ('knn', make_pipeline(StandardScaler(), KNeighborsRegressor(n_neighbors=2, weights='distance', algorithm='auto')))\n",
    "]\n",
    "\n",
    "# Meta-model (Level Kedua)\n",
    "# Menggunakan Ridge Regression sebagai meta-model untuk menghindari overfitting\n",
    "meta_model = Ridge(alpha=0.1)\n",
    "\n",
    "# Membentuk Stacking Regressor\n",
    "stacking_regressor = StackingRegressor(\n",
    "    estimators=base_models,\n",
    "    final_estimator=meta_model,\n",
    "    passthrough=True  # Memasukkan data asli ke meta-model bersama prediksi base models\n",
    ")\n",
    "\n",
    "# Untuk multi-output, kita bungkus dengan MultiOutputRegressor\n",
    "model_all_best = MultiOutputRegressor(stacking_regressor)\n",
    "start = time.time()\n",
    "# Training\n",
    "model_all_best.fit(x0_train, y0_train)\n",
    "end = time.time()\n",
    "waktu = (end-start)/60\n",
    "# Prediction\n",
    "y0_pred = model_all_best.predict(x0_test)\n",
    "r2 = r2_score(y0_test, y0_pred, multioutput = 'raw_values')\n",
    "mae = mean_absolute_error(y0_test, y0_pred, multioutput = 'raw_values')\n",
    "mse = mean_squared_error(y0_test, y0_pred, multioutput = 'raw_values')\n",
    "max_ae = max_absolute_error(y0_test, y0_pred)\n",
    "print(f'R2 : \\n Alpha : {r2[1]} \\n Beta : {r2[2]} \\n V : {r2[0]} ')\n",
    "print(f'MAE : \\n Alpha : {mae[1]} \\n Beta : {mae[2]} \\n V : {mae[0]} ')\n",
    "print(f'MSE : \\n Alpha : {mse[1]} \\n Beta : {mse[2]} \\n V : {mse[0]} ')\n",
    "print('Max AERR : \\n', max_ae)\n",
    "print(\"Waktu yang dibutuhkan : \", waktu)"
   ]
  },
  {
   "cell_type": "code",
   "execution_count": 123,
   "id": "479e39b5-78c3-49c6-870f-c1d431d9172e",
   "metadata": {},
   "outputs": [
    {
     "name": "stdout",
     "output_type": "stream",
     "text": [
      "6706\n"
     ]
    }
   ],
   "source": [
    "y_pred_df = pd.DataFrame(y0_pred, columns = [\"V\",\"α\",\"β\"], index = y0_test.index)\n",
    "aerr = np.abs(y_pred_df - y0_test)\n",
    "index_max_aerr = aerr[\"β\"].idxmax()\n",
    "df_all_clean_39 = df_all_clean_38.drop(index = index_max_aerr)\n",
    "print(len(df_all_clean_39))"
   ]
  },
  {
   "cell_type": "markdown",
   "id": "5d39561d-b4eb-4d94-8ef0-50aba96d358c",
   "metadata": {},
   "source": [
    "### AFTER REDUCE 39"
   ]
  },
  {
   "cell_type": "code",
   "execution_count": 124,
   "id": "9a0c6a5c-f74c-425a-a4f9-1f85c52868d4",
   "metadata": {},
   "outputs": [],
   "source": [
    "x_all = df_all_clean_39.drop(columns = [\"V\",\"α\",\"β\"])\n",
    "y_all = df_all_clean_39[[\"V\",\"α\",\"β\"]]\n",
    "\n",
    "x0_train, x0_test, y0_train, y0_test = train_test_split(x_all, y_all,\n",
    "                                                        random_state = 42, test_size = 0.2)"
   ]
  },
  {
   "cell_type": "code",
   "execution_count": 125,
   "id": "e1b863ca-63c0-43a5-92be-e90969425e30",
   "metadata": {},
   "outputs": [
    {
     "name": "stdout",
     "output_type": "stream",
     "text": [
      "R2 : \n",
      " Alpha : 0.9999999810644797 \n",
      " Beta : 0.9843119088968877 \n",
      " V : 0.999999707111458 \n",
      "MAE : \n",
      " Alpha : 0.00292930935887574 \n",
      " Beta : 0.5016120403003286 \n",
      " V : 0.0018457808773690784 \n",
      "MSE : \n",
      " Alpha : 2.3566231779547528e-05 \n",
      " Beta : 1.6872615745645418 \n",
      " V : 5.797790535189132e-05 \n",
      "Max AERR : \n",
      " V    0.081513\n",
      "α    0.038228\n",
      "β    9.558576\n",
      "dtype: float64\n",
      "Waktu yang dibutuhkan :  1.8381407618522645\n"
     ]
    }
   ],
   "source": [
    "def max_absolute_error(y_true, y_pred):\n",
    "    return np.max(np.abs(y_true - y_pred), axis=0)\n",
    "scaler = StandardScaler()\n",
    "\n",
    "# Base models (Level Pertama)\n",
    "base_models = [\n",
    "    # ('random_forest', RandomForestRegressor(n_estimators=250, max_depth=None, random_state=42, min_samples_leaf= 1, min_samples_split= 2, max_features = 'sqrt')),\n",
    "    ('random_forest', RandomForestRegressor(n_estimators=100, max_depth=None, random_state=21, max_leaf_nodes= 800)),\n",
    "    ('gradient_boosting', GradientBoostingRegressor(n_estimators=400, learning_rate=0.0579, random_state=42, max_depth = 5)),\n",
    "    ('knn', make_pipeline(StandardScaler(), KNeighborsRegressor(n_neighbors=2, weights='distance', algorithm='auto')))\n",
    "]\n",
    "\n",
    "# Meta-model (Level Kedua)\n",
    "# Menggunakan Ridge Regression sebagai meta-model untuk menghindari overfitting\n",
    "meta_model = Ridge(alpha=0.1)\n",
    "\n",
    "# Membentuk Stacking Regressor\n",
    "stacking_regressor = StackingRegressor(\n",
    "    estimators=base_models,\n",
    "    final_estimator=meta_model,\n",
    "    passthrough=True  # Memasukkan data asli ke meta-model bersama prediksi base models\n",
    ")\n",
    "\n",
    "# Untuk multi-output, kita bungkus dengan MultiOutputRegressor\n",
    "model_all_best = MultiOutputRegressor(stacking_regressor)\n",
    "start = time.time()\n",
    "# Training\n",
    "model_all_best.fit(x0_train, y0_train)\n",
    "end = time.time()\n",
    "waktu = (end-start)/60\n",
    "# Prediction\n",
    "y0_pred = model_all_best.predict(x0_test)\n",
    "r2 = r2_score(y0_test, y0_pred, multioutput = 'raw_values')\n",
    "mae = mean_absolute_error(y0_test, y0_pred, multioutput = 'raw_values')\n",
    "mse = mean_squared_error(y0_test, y0_pred, multioutput = 'raw_values')\n",
    "max_ae = max_absolute_error(y0_test, y0_pred)\n",
    "print(f'R2 : \\n Alpha : {r2[1]} \\n Beta : {r2[2]} \\n V : {r2[0]} ')\n",
    "print(f'MAE : \\n Alpha : {mae[1]} \\n Beta : {mae[2]} \\n V : {mae[0]} ')\n",
    "print(f'MSE : \\n Alpha : {mse[1]} \\n Beta : {mse[2]} \\n V : {mse[0]} ')\n",
    "print('Max AERR : \\n', max_ae)\n",
    "print(\"Waktu yang dibutuhkan : \", waktu)"
   ]
  },
  {
   "cell_type": "code",
   "execution_count": 126,
   "id": "354b9ffe-80d8-4df0-bcfc-42f665ab10ff",
   "metadata": {},
   "outputs": [
    {
     "name": "stdout",
     "output_type": "stream",
     "text": [
      "6705\n"
     ]
    }
   ],
   "source": [
    "y_pred_df = pd.DataFrame(y0_pred, columns = [\"V\",\"α\",\"β\"], index = y0_test.index)\n",
    "aerr = np.abs(y_pred_df - y0_test)\n",
    "index_max_aerr = aerr[\"β\"].idxmax()\n",
    "df_all_clean_40 = df_all_clean_39.drop(index = index_max_aerr)\n",
    "print(len(df_all_clean_40))"
   ]
  },
  {
   "cell_type": "markdown",
   "id": "7e9d489f-5a78-4cb4-9404-f0f2280f1e8c",
   "metadata": {},
   "source": [
    "### AFTER REDUCE 40"
   ]
  },
  {
   "cell_type": "code",
   "execution_count": 127,
   "id": "acb02ba9-4b83-4fb2-ac27-8975362fc041",
   "metadata": {},
   "outputs": [],
   "source": [
    "x_all = df_all_clean_40.drop(columns = [\"V\",\"α\",\"β\"])\n",
    "y_all = df_all_clean_40[[\"V\",\"α\",\"β\"]]\n",
    "\n",
    "x0_train, x0_test, y0_train, y0_test = train_test_split(x_all, y_all,\n",
    "                                                        random_state = 42, test_size = 0.2)"
   ]
  },
  {
   "cell_type": "code",
   "execution_count": 128,
   "id": "140f66aa-f775-457b-be6d-d220e1656060",
   "metadata": {},
   "outputs": [
    {
     "name": "stdout",
     "output_type": "stream",
     "text": [
      "R2 : \n",
      " Alpha : 0.9999999743025513 \n",
      " Beta : 0.9821443111709135 \n",
      " V : 0.999999691323986 \n",
      "MAE : \n",
      " Alpha : 0.0034311681653425683 \n",
      " Beta : 0.5083332818473383 \n",
      " V : 0.0018407297923739262 \n",
      "MSE : \n",
      " Alpha : 3.203361078322819e-05 \n",
      " Beta : 1.9011435645342492 \n",
      " V : 6.09794882716634e-05 \n",
      "Max AERR : \n",
      " V     0.076190\n",
      "α     0.039451\n",
      "β    10.589069\n",
      "dtype: float64\n",
      "Waktu yang dibutuhkan :  1.8369463245073954\n"
     ]
    }
   ],
   "source": [
    "def max_absolute_error(y_true, y_pred):\n",
    "    return np.max(np.abs(y_true - y_pred), axis=0)\n",
    "scaler = StandardScaler()\n",
    "\n",
    "# Base models (Level Pertama)\n",
    "base_models = [\n",
    "    # ('random_forest', RandomForestRegressor(n_estimators=250, max_depth=None, random_state=42, min_samples_leaf= 1, min_samples_split= 2, max_features = 'sqrt')),\n",
    "    ('random_forest', RandomForestRegressor(n_estimators=100, max_depth=None, random_state=21, max_leaf_nodes= 800)),\n",
    "    ('gradient_boosting', GradientBoostingRegressor(n_estimators=400, learning_rate=0.0579, random_state=42, max_depth = 5)),\n",
    "    ('knn', make_pipeline(StandardScaler(), KNeighborsRegressor(n_neighbors=2, weights='distance', algorithm='auto')))\n",
    "]\n",
    "\n",
    "# Meta-model (Level Kedua)\n",
    "# Menggunakan Ridge Regression sebagai meta-model untuk menghindari overfitting\n",
    "meta_model = Ridge(alpha=0.1)\n",
    "\n",
    "# Membentuk Stacking Regressor\n",
    "stacking_regressor = StackingRegressor(\n",
    "    estimators=base_models,\n",
    "    final_estimator=meta_model,\n",
    "    passthrough=True  # Memasukkan data asli ke meta-model bersama prediksi base models\n",
    ")\n",
    "\n",
    "# Untuk multi-output, kita bungkus dengan MultiOutputRegressor\n",
    "model_all_best = MultiOutputRegressor(stacking_regressor)\n",
    "start = time.time()\n",
    "# Training\n",
    "model_all_best.fit(x0_train, y0_train)\n",
    "end = time.time()\n",
    "waktu = (end-start)/60\n",
    "# Prediction\n",
    "y0_pred = model_all_best.predict(x0_test)\n",
    "r2 = r2_score(y0_test, y0_pred, multioutput = 'raw_values')\n",
    "mae = mean_absolute_error(y0_test, y0_pred, multioutput = 'raw_values')\n",
    "mse = mean_squared_error(y0_test, y0_pred, multioutput = 'raw_values')\n",
    "max_ae = max_absolute_error(y0_test, y0_pred)\n",
    "print(f'R2 : \\n Alpha : {r2[1]} \\n Beta : {r2[2]} \\n V : {r2[0]} ')\n",
    "print(f'MAE : \\n Alpha : {mae[1]} \\n Beta : {mae[2]} \\n V : {mae[0]} ')\n",
    "print(f'MSE : \\n Alpha : {mse[1]} \\n Beta : {mse[2]} \\n V : {mse[0]} ')\n",
    "print('Max AERR : \\n', max_ae)\n",
    "print(\"Waktu yang dibutuhkan : \", waktu)"
   ]
  },
  {
   "cell_type": "code",
   "execution_count": 129,
   "id": "aff72c47-76c6-4527-a6b0-5c538edfe5c3",
   "metadata": {},
   "outputs": [
    {
     "name": "stdout",
     "output_type": "stream",
     "text": [
      "6704\n"
     ]
    }
   ],
   "source": [
    "y_pred_df = pd.DataFrame(y0_pred, columns = [\"V\",\"α\",\"β\"], index = y0_test.index)\n",
    "aerr = np.abs(y_pred_df - y0_test)\n",
    "index_max_aerr = aerr[\"β\"].idxmax()\n",
    "df_all_clean_41 = df_all_clean_40.drop(index = index_max_aerr)\n",
    "print(len(df_all_clean_41))"
   ]
  },
  {
   "cell_type": "markdown",
   "id": "937a8397-adb8-44c6-ab79-2701db98e1e0",
   "metadata": {},
   "source": [
    "### AFTER REDUCE 41"
   ]
  },
  {
   "cell_type": "code",
   "execution_count": 130,
   "id": "3e457567-0f6a-4514-aff7-a0ba5b3610d0",
   "metadata": {},
   "outputs": [],
   "source": [
    "x_all = df_all_clean_41.drop(columns = [\"V\",\"α\",\"β\"])\n",
    "y_all = df_all_clean_41[[\"V\",\"α\",\"β\"]]\n",
    "\n",
    "x0_train, x0_test, y0_train, y0_test = train_test_split(x_all, y_all,\n",
    "                                                        random_state = 42, test_size = 0.2)"
   ]
  },
  {
   "cell_type": "code",
   "execution_count": 131,
   "id": "7d1e8a86-50ab-4719-b96a-d16c6c8e0d5e",
   "metadata": {},
   "outputs": [
    {
     "name": "stdout",
     "output_type": "stream",
     "text": [
      "R2 : \n",
      " Alpha : 0.9999999822537182 \n",
      " Beta : 0.9873651434594711 \n",
      " V : 0.9999997541977744 \n",
      "MAE : \n",
      " Alpha : 0.0023344237819430016 \n",
      " Beta : 0.4537950315498421 \n",
      " V : 0.0016357732679219568 \n",
      "MSE : \n",
      " Alpha : 2.233449706020762e-05 \n",
      " Beta : 1.4168638096644222 \n",
      " V : 4.928808519449712e-05 \n",
      "Max AERR : \n",
      " V     0.081151\n",
      "α     0.054855\n",
      "β    10.270374\n",
      "dtype: float64\n",
      "Waktu yang dibutuhkan :  1.829922858874003\n"
     ]
    }
   ],
   "source": [
    "def max_absolute_error(y_true, y_pred):\n",
    "    return np.max(np.abs(y_true - y_pred), axis=0)\n",
    "scaler = StandardScaler()\n",
    "\n",
    "# Base models (Level Pertama)\n",
    "base_models = [\n",
    "    # ('random_forest', RandomForestRegressor(n_estimators=250, max_depth=None, random_state=42, min_samples_leaf= 1, min_samples_split= 2, max_features = 'sqrt')),\n",
    "    ('random_forest', RandomForestRegressor(n_estimators=100, max_depth=None, random_state=21, max_leaf_nodes= 800)),\n",
    "    ('gradient_boosting', GradientBoostingRegressor(n_estimators=400, learning_rate=0.0579, random_state=42, max_depth = 5)),\n",
    "    ('knn', make_pipeline(StandardScaler(), KNeighborsRegressor(n_neighbors=2, weights='distance', algorithm='auto')))\n",
    "]\n",
    "\n",
    "# Meta-model (Level Kedua)\n",
    "# Menggunakan Ridge Regression sebagai meta-model untuk menghindari overfitting\n",
    "meta_model = Ridge(alpha=0.1)\n",
    "\n",
    "# Membentuk Stacking Regressor\n",
    "stacking_regressor = StackingRegressor(\n",
    "    estimators=base_models,\n",
    "    final_estimator=meta_model,\n",
    "    passthrough=True  # Memasukkan data asli ke meta-model bersama prediksi base models\n",
    ")\n",
    "\n",
    "# Untuk multi-output, kita bungkus dengan MultiOutputRegressor\n",
    "model_all_best = MultiOutputRegressor(stacking_regressor)\n",
    "start = time.time()\n",
    "# Training\n",
    "model_all_best.fit(x0_train, y0_train)\n",
    "end = time.time()\n",
    "waktu = (end-start)/60\n",
    "# Prediction\n",
    "y0_pred = model_all_best.predict(x0_test)\n",
    "r2 = r2_score(y0_test, y0_pred, multioutput = 'raw_values')\n",
    "mae = mean_absolute_error(y0_test, y0_pred, multioutput = 'raw_values')\n",
    "mse = mean_squared_error(y0_test, y0_pred, multioutput = 'raw_values')\n",
    "max_ae = max_absolute_error(y0_test, y0_pred)\n",
    "print(f'R2 : \\n Alpha : {r2[1]} \\n Beta : {r2[2]} \\n V : {r2[0]} ')\n",
    "print(f'MAE : \\n Alpha : {mae[1]} \\n Beta : {mae[2]} \\n V : {mae[0]} ')\n",
    "print(f'MSE : \\n Alpha : {mse[1]} \\n Beta : {mse[2]} \\n V : {mse[0]} ')\n",
    "print('Max AERR : \\n', max_ae)\n",
    "print(\"Waktu yang dibutuhkan : \", waktu)"
   ]
  },
  {
   "cell_type": "code",
   "execution_count": 132,
   "id": "8578cd80-e6fe-41b8-a32c-fba497c4f88a",
   "metadata": {},
   "outputs": [
    {
     "name": "stdout",
     "output_type": "stream",
     "text": [
      "6703\n"
     ]
    }
   ],
   "source": [
    "y_pred_df = pd.DataFrame(y0_pred, columns = [\"V\",\"α\",\"β\"], index = y0_test.index)\n",
    "aerr = np.abs(y_pred_df - y0_test)\n",
    "index_max_aerr = aerr[\"β\"].idxmax()\n",
    "df_all_clean_42 = df_all_clean_41.drop(index = index_max_aerr)\n",
    "print(len(df_all_clean_42))"
   ]
  },
  {
   "cell_type": "markdown",
   "id": "f463c455-509c-47d4-bb65-8efed3fe4f73",
   "metadata": {},
   "source": [
    "### AFTER REDUCE 42"
   ]
  },
  {
   "cell_type": "code",
   "execution_count": 133,
   "id": "f7bf13e0-145a-4db8-89de-3f384d8672fe",
   "metadata": {},
   "outputs": [],
   "source": [
    "x_all = df_all_clean_42.drop(columns = [\"V\",\"α\",\"β\"])\n",
    "y_all = df_all_clean_42[[\"V\",\"α\",\"β\"]]\n",
    "\n",
    "x0_train, x0_test, y0_train, y0_test = train_test_split(x_all, y_all,\n",
    "                                                        random_state = 42, test_size = 0.2)"
   ]
  },
  {
   "cell_type": "code",
   "execution_count": 134,
   "id": "7c57fb47-9ba0-479a-a5c1-6e78c99a997d",
   "metadata": {},
   "outputs": [
    {
     "name": "stdout",
     "output_type": "stream",
     "text": [
      "R2 : \n",
      " Alpha : 0.9999999781418617 \n",
      " Beta : 0.9878083703563936 \n",
      " V : 0.9999997089643333 \n",
      "MAE : \n",
      " Alpha : 0.002656073558848883 \n",
      " Beta : 0.4664964384661824 \n",
      " V : 0.0018980115051083538 \n",
      "MSE : \n",
      " Alpha : 2.7384304933077718e-05 \n",
      " Beta : 1.3658701639989814 \n",
      " V : 5.816420722638921e-05 \n",
      "Max AERR : \n",
      " V    0.079664\n",
      "α    0.059284\n",
      "β    9.302945\n",
      "dtype: float64\n",
      "Waktu yang dibutuhkan :  1.8279379288355508\n"
     ]
    }
   ],
   "source": [
    "def max_absolute_error(y_true, y_pred):\n",
    "    return np.max(np.abs(y_true - y_pred), axis=0)\n",
    "scaler = StandardScaler()\n",
    "\n",
    "# Base models (Level Pertama)\n",
    "base_models = [\n",
    "    # ('random_forest', RandomForestRegressor(n_estimators=250, max_depth=None, random_state=42, min_samples_leaf= 1, min_samples_split= 2, max_features = 'sqrt')),\n",
    "    ('random_forest', RandomForestRegressor(n_estimators=100, max_depth=None, random_state=21, max_leaf_nodes= 800)),\n",
    "    ('gradient_boosting', GradientBoostingRegressor(n_estimators=400, learning_rate=0.0579, random_state=42, max_depth = 5)),\n",
    "    ('knn', make_pipeline(StandardScaler(), KNeighborsRegressor(n_neighbors=2, weights='distance', algorithm='auto')))\n",
    "]\n",
    "\n",
    "# Meta-model (Level Kedua)\n",
    "# Menggunakan Ridge Regression sebagai meta-model untuk menghindari overfitting\n",
    "meta_model = Ridge(alpha=0.1)\n",
    "\n",
    "# Membentuk Stacking Regressor\n",
    "stacking_regressor = StackingRegressor(\n",
    "    estimators=base_models,\n",
    "    final_estimator=meta_model,\n",
    "    passthrough=True  # Memasukkan data asli ke meta-model bersama prediksi base models\n",
    ")\n",
    "\n",
    "# Untuk multi-output, kita bungkus dengan MultiOutputRegressor\n",
    "model_all_best = MultiOutputRegressor(stacking_regressor)\n",
    "start = time.time()\n",
    "# Training\n",
    "model_all_best.fit(x0_train, y0_train)\n",
    "end = time.time()\n",
    "waktu = (end-start)/60\n",
    "# Prediction\n",
    "y0_pred = model_all_best.predict(x0_test)\n",
    "r2 = r2_score(y0_test, y0_pred, multioutput = 'raw_values')\n",
    "mae = mean_absolute_error(y0_test, y0_pred, multioutput = 'raw_values')\n",
    "mse = mean_squared_error(y0_test, y0_pred, multioutput = 'raw_values')\n",
    "max_ae = max_absolute_error(y0_test, y0_pred)\n",
    "print(f'R2 : \\n Alpha : {r2[1]} \\n Beta : {r2[2]} \\n V : {r2[0]} ')\n",
    "print(f'MAE : \\n Alpha : {mae[1]} \\n Beta : {mae[2]} \\n V : {mae[0]} ')\n",
    "print(f'MSE : \\n Alpha : {mse[1]} \\n Beta : {mse[2]} \\n V : {mse[0]} ')\n",
    "print('Max AERR : \\n', max_ae)\n",
    "print(\"Waktu yang dibutuhkan : \", waktu)"
   ]
  },
  {
   "cell_type": "code",
   "execution_count": 135,
   "id": "b0780281-390e-435b-9e90-b80410ba73d7",
   "metadata": {},
   "outputs": [
    {
     "name": "stdout",
     "output_type": "stream",
     "text": [
      "6702\n"
     ]
    }
   ],
   "source": [
    "y_pred_df = pd.DataFrame(y0_pred, columns = [\"V\",\"α\",\"β\"], index = y0_test.index)\n",
    "aerr = np.abs(y_pred_df - y0_test)\n",
    "index_max_aerr = aerr[\"β\"].idxmax()\n",
    "df_all_clean_43 = df_all_clean_42.drop(index = index_max_aerr)\n",
    "print(len(df_all_clean_43))"
   ]
  },
  {
   "cell_type": "markdown",
   "id": "233b1ac8-0559-4fcd-a11e-89bbe5d421c0",
   "metadata": {},
   "source": [
    "### AFTER REDUCE 43"
   ]
  },
  {
   "cell_type": "code",
   "execution_count": 136,
   "id": "44bd1525-b46a-406e-a8a9-20858d924da9",
   "metadata": {},
   "outputs": [],
   "source": [
    "x_all = df_all_clean_43.drop(columns = [\"V\",\"α\",\"β\"])\n",
    "y_all = df_all_clean_43[[\"V\",\"α\",\"β\"]]\n",
    "\n",
    "x0_train, x0_test, y0_train, y0_test = train_test_split(x_all, y_all,\n",
    "                                                        random_state = 42, test_size = 0.2)"
   ]
  },
  {
   "cell_type": "code",
   "execution_count": 137,
   "id": "4967b281-1629-49d1-aff4-b6197ba8f8bd",
   "metadata": {},
   "outputs": [
    {
     "name": "stdout",
     "output_type": "stream",
     "text": [
      "R2 : \n",
      " Alpha : 0.9999999770795356 \n",
      " Beta : 0.9835863663263281 \n",
      " V : 0.9999997386783672 \n",
      "MAE : \n",
      " Alpha : 0.0024739711936597824 \n",
      " Beta : 0.49830277382145155 \n",
      " V : 0.0017461861599062849 \n",
      "MSE : \n",
      " Alpha : 2.8554010329511736e-05 \n",
      " Beta : 1.7568578618611965 \n",
      " V : 5.2071114306191225e-05 \n",
      "Max AERR : \n",
      " V     0.083858\n",
      "α     0.068155\n",
      "β    11.893101\n",
      "dtype: float64\n",
      "Waktu yang dibutuhkan :  1.8360097050666808\n"
     ]
    }
   ],
   "source": [
    "def max_absolute_error(y_true, y_pred):\n",
    "    return np.max(np.abs(y_true - y_pred), axis=0)\n",
    "scaler = StandardScaler()\n",
    "\n",
    "# Base models (Level Pertama)\n",
    "base_models = [\n",
    "    # ('random_forest', RandomForestRegressor(n_estimators=250, max_depth=None, random_state=42, min_samples_leaf= 1, min_samples_split= 2, max_features = 'sqrt')),\n",
    "    ('random_forest', RandomForestRegressor(n_estimators=100, max_depth=None, random_state=21, max_leaf_nodes= 800)),\n",
    "    ('gradient_boosting', GradientBoostingRegressor(n_estimators=400, learning_rate=0.0579, random_state=42, max_depth = 5)),\n",
    "    ('knn', make_pipeline(StandardScaler(), KNeighborsRegressor(n_neighbors=2, weights='distance', algorithm='auto')))\n",
    "]\n",
    "\n",
    "# Meta-model (Level Kedua)\n",
    "# Menggunakan Ridge Regression sebagai meta-model untuk menghindari overfitting\n",
    "meta_model = Ridge(alpha=0.1)\n",
    "\n",
    "# Membentuk Stacking Regressor\n",
    "stacking_regressor = StackingRegressor(\n",
    "    estimators=base_models,\n",
    "    final_estimator=meta_model,\n",
    "    passthrough=True  # Memasukkan data asli ke meta-model bersama prediksi base models\n",
    ")\n",
    "\n",
    "# Untuk multi-output, kita bungkus dengan MultiOutputRegressor\n",
    "model_all_best = MultiOutputRegressor(stacking_regressor)\n",
    "start = time.time()\n",
    "# Training\n",
    "model_all_best.fit(x0_train, y0_train)\n",
    "end = time.time()\n",
    "waktu = (end-start)/60\n",
    "# Prediction\n",
    "y0_pred = model_all_best.predict(x0_test)\n",
    "r2 = r2_score(y0_test, y0_pred, multioutput = 'raw_values')\n",
    "mae = mean_absolute_error(y0_test, y0_pred, multioutput = 'raw_values')\n",
    "mse = mean_squared_error(y0_test, y0_pred, multioutput = 'raw_values')\n",
    "max_ae = max_absolute_error(y0_test, y0_pred)\n",
    "print(f'R2 : \\n Alpha : {r2[1]} \\n Beta : {r2[2]} \\n V : {r2[0]} ')\n",
    "print(f'MAE : \\n Alpha : {mae[1]} \\n Beta : {mae[2]} \\n V : {mae[0]} ')\n",
    "print(f'MSE : \\n Alpha : {mse[1]} \\n Beta : {mse[2]} \\n V : {mse[0]} ')\n",
    "print('Max AERR : \\n', max_ae)\n",
    "print(\"Waktu yang dibutuhkan : \", waktu)"
   ]
  },
  {
   "cell_type": "code",
   "execution_count": 138,
   "id": "9d720fdd-6ea3-4343-b92a-5d1740091c49",
   "metadata": {},
   "outputs": [
    {
     "name": "stdout",
     "output_type": "stream",
     "text": [
      "6701\n"
     ]
    }
   ],
   "source": [
    "y_pred_df = pd.DataFrame(y0_pred, columns = [\"V\",\"α\",\"β\"], index = y0_test.index)\n",
    "aerr = np.abs(y_pred_df - y0_test)\n",
    "index_max_aerr = aerr[\"β\"].idxmax()\n",
    "df_all_clean_44 = df_all_clean_43.drop(index = index_max_aerr)\n",
    "print(len(df_all_clean_44))"
   ]
  },
  {
   "cell_type": "markdown",
   "id": "2d24683b-8713-473b-b601-cce4af7c1d86",
   "metadata": {},
   "source": [
    "### AFTER REDUCE 44"
   ]
  },
  {
   "cell_type": "code",
   "execution_count": 139,
   "id": "0c693409-d366-4b82-a67e-a842537044fd",
   "metadata": {},
   "outputs": [],
   "source": [
    "x_all = df_all_clean_44.drop(columns = [\"V\",\"α\",\"β\"])\n",
    "y_all = df_all_clean_44[[\"V\",\"α\",\"β\"]]\n",
    "\n",
    "x0_train, x0_test, y0_train, y0_test = train_test_split(x_all, y_all,\n",
    "                                                        random_state = 42, test_size = 0.2)"
   ]
  },
  {
   "cell_type": "code",
   "execution_count": 140,
   "id": "a879e48c-be3d-4449-83ec-4932f05bf6d3",
   "metadata": {},
   "outputs": [
    {
     "name": "stdout",
     "output_type": "stream",
     "text": [
      "R2 : \n",
      " Alpha : 0.9999999862129972 \n",
      " Beta : 0.9838486020063449 \n",
      " V : 0.999999695824001 \n",
      "MAE : \n",
      " Alpha : 0.002295241830340103 \n",
      " Beta : 0.49253974536648526 \n",
      " V : 0.0019082321647309502 \n",
      "MSE : \n",
      " Alpha : 1.7626720497303956e-05 \n",
      " Beta : 1.7925254820284473 \n",
      " V : 6.102452212424785e-05 \n",
      "Max AERR : \n",
      " V     0.080020\n",
      "α     0.051859\n",
      "β    12.402461\n",
      "dtype: float64\n",
      "Waktu yang dibutuhkan :  1.8306045214335123\n"
     ]
    }
   ],
   "source": [
    "def max_absolute_error(y_true, y_pred):\n",
    "    return np.max(np.abs(y_true - y_pred), axis=0)\n",
    "scaler = StandardScaler()\n",
    "\n",
    "# Base models (Level Pertama)\n",
    "base_models = [\n",
    "    # ('random_forest', RandomForestRegressor(n_estimators=250, max_depth=None, random_state=42, min_samples_leaf= 1, min_samples_split= 2, max_features = 'sqrt')),\n",
    "    ('random_forest', RandomForestRegressor(n_estimators=100, max_depth=None, random_state=21, max_leaf_nodes= 800)),\n",
    "    ('gradient_boosting', GradientBoostingRegressor(n_estimators=400, learning_rate=0.0579, random_state=42, max_depth = 5)),\n",
    "    ('knn', make_pipeline(StandardScaler(), KNeighborsRegressor(n_neighbors=2, weights='distance', algorithm='auto')))\n",
    "]\n",
    "\n",
    "# Meta-model (Level Kedua)\n",
    "# Menggunakan Ridge Regression sebagai meta-model untuk menghindari overfitting\n",
    "meta_model = Ridge(alpha=0.1)\n",
    "\n",
    "# Membentuk Stacking Regressor\n",
    "stacking_regressor = StackingRegressor(\n",
    "    estimators=base_models,\n",
    "    final_estimator=meta_model,\n",
    "    passthrough=True  # Memasukkan data asli ke meta-model bersama prediksi base models\n",
    ")\n",
    "\n",
    "# Untuk multi-output, kita bungkus dengan MultiOutputRegressor\n",
    "model_all_best = MultiOutputRegressor(stacking_regressor)\n",
    "start = time.time()\n",
    "# Training\n",
    "model_all_best.fit(x0_train, y0_train)\n",
    "end = time.time()\n",
    "waktu = (end-start)/60\n",
    "# Prediction\n",
    "y0_pred = model_all_best.predict(x0_test)\n",
    "r2 = r2_score(y0_test, y0_pred, multioutput = 'raw_values')\n",
    "mae = mean_absolute_error(y0_test, y0_pred, multioutput = 'raw_values')\n",
    "mse = mean_squared_error(y0_test, y0_pred, multioutput = 'raw_values')\n",
    "max_ae = max_absolute_error(y0_test, y0_pred)\n",
    "print(f'R2 : \\n Alpha : {r2[1]} \\n Beta : {r2[2]} \\n V : {r2[0]} ')\n",
    "print(f'MAE : \\n Alpha : {mae[1]} \\n Beta : {mae[2]} \\n V : {mae[0]} ')\n",
    "print(f'MSE : \\n Alpha : {mse[1]} \\n Beta : {mse[2]} \\n V : {mse[0]} ')\n",
    "print('Max AERR : \\n', max_ae)\n",
    "print(\"Waktu yang dibutuhkan : \", waktu)"
   ]
  },
  {
   "cell_type": "code",
   "execution_count": 141,
   "id": "9c1b54dd-1fe7-448e-b3c5-b8f34ce52dbe",
   "metadata": {},
   "outputs": [
    {
     "name": "stdout",
     "output_type": "stream",
     "text": [
      "6700\n"
     ]
    }
   ],
   "source": [
    "y_pred_df = pd.DataFrame(y0_pred, columns = [\"V\",\"α\",\"β\"], index = y0_test.index)\n",
    "aerr = np.abs(y_pred_df - y0_test)\n",
    "index_max_aerr = aerr[\"β\"].idxmax()\n",
    "df_all_clean_45 = df_all_clean_44.drop(index = index_max_aerr)\n",
    "print(len(df_all_clean_45))"
   ]
  },
  {
   "cell_type": "markdown",
   "id": "9a886594-35dc-4881-878d-001ecc1b46fa",
   "metadata": {},
   "source": [
    "### AFTER REDUCE 45"
   ]
  },
  {
   "cell_type": "code",
   "execution_count": 142,
   "id": "3e732e21-35b8-4936-a813-e37af0561e9d",
   "metadata": {},
   "outputs": [],
   "source": [
    "x_all = df_all_clean_45.drop(columns = [\"V\",\"α\",\"β\"])\n",
    "y_all = df_all_clean_45[[\"V\",\"α\",\"β\"]]\n",
    "\n",
    "x0_train, x0_test, y0_train, y0_test = train_test_split(x_all, y_all,\n",
    "                                                        random_state = 42, test_size = 0.2)"
   ]
  },
  {
   "cell_type": "code",
   "execution_count": 143,
   "id": "6997ad42-624a-405f-8534-28d75ab75718",
   "metadata": {},
   "outputs": [
    {
     "name": "stdout",
     "output_type": "stream",
     "text": [
      "R2 : \n",
      " Alpha : 0.9999999882841694 \n",
      " Beta : 0.9858857262847728 \n",
      " V : 0.999999763029445 \n",
      "MAE : \n",
      " Alpha : 0.0019901448821390997 \n",
      " Beta : 0.484551620603368 \n",
      " V : 0.0015754310434314596 \n",
      "MSE : \n",
      " Alpha : 1.4979024203481863e-05 \n",
      " Beta : 1.5734467513349844 \n",
      " V : 4.76332765424633e-05 \n",
      "Max AERR : \n",
      " V     0.074849\n",
      "α     0.039299\n",
      "β    10.423491\n",
      "dtype: float64\n",
      "Waktu yang dibutuhkan :  1.8356659730275473\n"
     ]
    }
   ],
   "source": [
    "def max_absolute_error(y_true, y_pred):\n",
    "    return np.max(np.abs(y_true - y_pred), axis=0)\n",
    "scaler = StandardScaler()\n",
    "\n",
    "# Base models (Level Pertama)\n",
    "base_models = [\n",
    "    # ('random_forest', RandomForestRegressor(n_estimators=250, max_depth=None, random_state=42, min_samples_leaf= 1, min_samples_split= 2, max_features = 'sqrt')),\n",
    "    ('random_forest', RandomForestRegressor(n_estimators=100, max_depth=None, random_state=21, max_leaf_nodes= 800)),\n",
    "    ('gradient_boosting', GradientBoostingRegressor(n_estimators=400, learning_rate=0.0579, random_state=42, max_depth = 5)),\n",
    "    ('knn', make_pipeline(StandardScaler(), KNeighborsRegressor(n_neighbors=2, weights='distance', algorithm='auto')))\n",
    "]\n",
    "\n",
    "# Meta-model (Level Kedua)\n",
    "# Menggunakan Ridge Regression sebagai meta-model untuk menghindari overfitting\n",
    "meta_model = Ridge(alpha=0.1)\n",
    "\n",
    "# Membentuk Stacking Regressor\n",
    "stacking_regressor = StackingRegressor(\n",
    "    estimators=base_models,\n",
    "    final_estimator=meta_model,\n",
    "    passthrough=True  # Memasukkan data asli ke meta-model bersama prediksi base models\n",
    ")\n",
    "\n",
    "# Untuk multi-output, kita bungkus dengan MultiOutputRegressor\n",
    "model_all_best = MultiOutputRegressor(stacking_regressor)\n",
    "start = time.time()\n",
    "# Training\n",
    "model_all_best.fit(x0_train, y0_train)\n",
    "end = time.time()\n",
    "waktu = (end-start)/60\n",
    "# Prediction\n",
    "y0_pred = model_all_best.predict(x0_test)\n",
    "r2 = r2_score(y0_test, y0_pred, multioutput = 'raw_values')\n",
    "mae = mean_absolute_error(y0_test, y0_pred, multioutput = 'raw_values')\n",
    "mse = mean_squared_error(y0_test, y0_pred, multioutput = 'raw_values')\n",
    "max_ae = max_absolute_error(y0_test, y0_pred)\n",
    "print(f'R2 : \\n Alpha : {r2[1]} \\n Beta : {r2[2]} \\n V : {r2[0]} ')\n",
    "print(f'MAE : \\n Alpha : {mae[1]} \\n Beta : {mae[2]} \\n V : {mae[0]} ')\n",
    "print(f'MSE : \\n Alpha : {mse[1]} \\n Beta : {mse[2]} \\n V : {mse[0]} ')\n",
    "print('Max AERR : \\n', max_ae)\n",
    "print(\"Waktu yang dibutuhkan : \", waktu)"
   ]
  },
  {
   "cell_type": "code",
   "execution_count": 144,
   "id": "5c6529a2-f9cf-43ff-a015-90affd3db5c5",
   "metadata": {},
   "outputs": [
    {
     "name": "stdout",
     "output_type": "stream",
     "text": [
      "6699\n"
     ]
    }
   ],
   "source": [
    "y_pred_df = pd.DataFrame(y0_pred, columns = [\"V\",\"α\",\"β\"], index = y0_test.index)\n",
    "aerr = np.abs(y_pred_df - y0_test)\n",
    "index_max_aerr = aerr[\"β\"].idxmax()\n",
    "df_all_clean_46 = df_all_clean_45.drop(index = index_max_aerr)\n",
    "print(len(df_all_clean_46))"
   ]
  },
  {
   "cell_type": "markdown",
   "id": "7679f006-bf1e-4b5b-9513-3109d59fe32e",
   "metadata": {},
   "source": [
    "### AFTER REDUCE 46"
   ]
  },
  {
   "cell_type": "code",
   "execution_count": 145,
   "id": "2ff32234-4c7c-4c3a-895d-253f088e4d5f",
   "metadata": {},
   "outputs": [],
   "source": [
    "x_all = df_all_clean_46.drop(columns = [\"V\",\"α\",\"β\"])\n",
    "y_all = df_all_clean_46[[\"V\",\"α\",\"β\"]]\n",
    "\n",
    "x0_train, x0_test, y0_train, y0_test = train_test_split(x_all, y_all,\n",
    "                                                        random_state = 42, test_size = 0.2)"
   ]
  },
  {
   "cell_type": "code",
   "execution_count": 146,
   "id": "0e0dc1df-ff92-45f9-88ac-d1582b79a475",
   "metadata": {},
   "outputs": [
    {
     "name": "stdout",
     "output_type": "stream",
     "text": [
      "R2 : \n",
      " Alpha : 0.9999999673448308 \n",
      " Beta : 0.9835118830896732 \n",
      " V : 0.9999997702236337 \n",
      "MAE : \n",
      " Alpha : 0.0025089832384530375 \n",
      " Beta : 0.4979029150945871 \n",
      " V : 0.00154842911984076 \n",
      "MSE : \n",
      " Alpha : 4.220049381427945e-05 \n",
      " Beta : 1.8239368695061675 \n",
      " V : 4.63460707983565e-05 \n",
      "Max AERR : \n",
      " V     0.080961\n",
      "α     0.071318\n",
      "β    11.778419\n",
      "dtype: float64\n",
      "Waktu yang dibutuhkan :  1.8320097168286642\n"
     ]
    }
   ],
   "source": [
    "def max_absolute_error(y_true, y_pred):\n",
    "    return np.max(np.abs(y_true - y_pred), axis=0)\n",
    "scaler = StandardScaler()\n",
    "\n",
    "# Base models (Level Pertama)\n",
    "base_models = [\n",
    "    # ('random_forest', RandomForestRegressor(n_estimators=250, max_depth=None, random_state=42, min_samples_leaf= 1, min_samples_split= 2, max_features = 'sqrt')),\n",
    "    ('random_forest', RandomForestRegressor(n_estimators=100, max_depth=None, random_state=21, max_leaf_nodes= 800)),\n",
    "    ('gradient_boosting', GradientBoostingRegressor(n_estimators=400, learning_rate=0.0579, random_state=42, max_depth = 5)),\n",
    "    ('knn', make_pipeline(StandardScaler(), KNeighborsRegressor(n_neighbors=2, weights='distance', algorithm='auto')))\n",
    "]\n",
    "\n",
    "# Meta-model (Level Kedua)\n",
    "# Menggunakan Ridge Regression sebagai meta-model untuk menghindari overfitting\n",
    "meta_model = Ridge(alpha=0.1)\n",
    "\n",
    "# Membentuk Stacking Regressor\n",
    "stacking_regressor = StackingRegressor(\n",
    "    estimators=base_models,\n",
    "    final_estimator=meta_model,\n",
    "    passthrough=True  # Memasukkan data asli ke meta-model bersama prediksi base models\n",
    ")\n",
    "\n",
    "# Untuk multi-output, kita bungkus dengan MultiOutputRegressor\n",
    "model_all_best = MultiOutputRegressor(stacking_regressor)\n",
    "start = time.time()\n",
    "# Training\n",
    "model_all_best.fit(x0_train, y0_train)\n",
    "end = time.time()\n",
    "waktu = (end-start)/60\n",
    "# Prediction\n",
    "y0_pred = model_all_best.predict(x0_test)\n",
    "r2 = r2_score(y0_test, y0_pred, multioutput = 'raw_values')\n",
    "mae = mean_absolute_error(y0_test, y0_pred, multioutput = 'raw_values')\n",
    "mse = mean_squared_error(y0_test, y0_pred, multioutput = 'raw_values')\n",
    "max_ae = max_absolute_error(y0_test, y0_pred)\n",
    "print(f'R2 : \\n Alpha : {r2[1]} \\n Beta : {r2[2]} \\n V : {r2[0]} ')\n",
    "print(f'MAE : \\n Alpha : {mae[1]} \\n Beta : {mae[2]} \\n V : {mae[0]} ')\n",
    "print(f'MSE : \\n Alpha : {mse[1]} \\n Beta : {mse[2]} \\n V : {mse[0]} ')\n",
    "print('Max AERR : \\n', max_ae)\n",
    "print(\"Waktu yang dibutuhkan : \", waktu)"
   ]
  },
  {
   "cell_type": "code",
   "execution_count": 147,
   "id": "848a3814-d4b5-45b4-8583-24f6ff9f9361",
   "metadata": {},
   "outputs": [
    {
     "name": "stdout",
     "output_type": "stream",
     "text": [
      "6698\n"
     ]
    }
   ],
   "source": [
    "y_pred_df = pd.DataFrame(y0_pred, columns = [\"V\",\"α\",\"β\"], index = y0_test.index)\n",
    "aerr = np.abs(y_pred_df - y0_test)\n",
    "index_max_aerr = aerr[\"β\"].idxmax()\n",
    "df_all_clean_47 = df_all_clean_46.drop(index = index_max_aerr)\n",
    "print(len(df_all_clean_47))"
   ]
  },
  {
   "cell_type": "markdown",
   "id": "e4d59177-5ba0-42c6-aa0c-8b91724ef903",
   "metadata": {},
   "source": [
    "### AFTER REDUCE 47"
   ]
  },
  {
   "cell_type": "code",
   "execution_count": 148,
   "id": "b5e0a71f-0e65-43ac-93f0-17c14630ea33",
   "metadata": {},
   "outputs": [],
   "source": [
    "x_all = df_all_clean_47.drop(columns = [\"V\",\"α\",\"β\"])\n",
    "y_all = df_all_clean_47[[\"V\",\"α\",\"β\"]]\n",
    "\n",
    "x0_train, x0_test, y0_train, y0_test = train_test_split(x_all, y_all,\n",
    "                                                        random_state = 42, test_size = 0.2)"
   ]
  },
  {
   "cell_type": "code",
   "execution_count": 149,
   "id": "bd667810-aec4-4d05-bf57-183391869dc5",
   "metadata": {},
   "outputs": [
    {
     "name": "stdout",
     "output_type": "stream",
     "text": [
      "R2 : \n",
      " Alpha : 0.9999999869104678 \n",
      " Beta : 0.9861414636337292 \n",
      " V : 0.9999997259135626 \n",
      "MAE : \n",
      " Alpha : 0.002067391307369238 \n",
      " Beta : 0.475328824620637 \n",
      " V : 0.0015883403397315185 \n",
      "MSE : \n",
      " Alpha : 1.642420853615022e-05 \n",
      " Beta : 1.5248578976284304 \n",
      " V : 5.5021711036523626e-05 \n",
      "Max AERR : \n",
      " V    0.111838\n",
      "α    0.053666\n",
      "β    9.774082\n",
      "dtype: float64\n",
      "Waktu yang dibutuhkan :  1.824476667245229\n"
     ]
    }
   ],
   "source": [
    "def max_absolute_error(y_true, y_pred):\n",
    "    return np.max(np.abs(y_true - y_pred), axis=0)\n",
    "scaler = StandardScaler()\n",
    "\n",
    "# Base models (Level Pertama)\n",
    "base_models = [\n",
    "    # ('random_forest', RandomForestRegressor(n_estimators=250, max_depth=None, random_state=42, min_samples_leaf= 1, min_samples_split= 2, max_features = 'sqrt')),\n",
    "    ('random_forest', RandomForestRegressor(n_estimators=100, max_depth=None, random_state=21, max_leaf_nodes= 800)),\n",
    "    ('gradient_boosting', GradientBoostingRegressor(n_estimators=400, learning_rate=0.0579, random_state=42, max_depth = 5)),\n",
    "    ('knn', make_pipeline(StandardScaler(), KNeighborsRegressor(n_neighbors=2, weights='distance', algorithm='auto')))\n",
    "]\n",
    "\n",
    "# Meta-model (Level Kedua)\n",
    "# Menggunakan Ridge Regression sebagai meta-model untuk menghindari overfitting\n",
    "meta_model = Ridge(alpha=0.1)\n",
    "\n",
    "# Membentuk Stacking Regressor\n",
    "stacking_regressor = StackingRegressor(\n",
    "    estimators=base_models,\n",
    "    final_estimator=meta_model,\n",
    "    passthrough=True  # Memasukkan data asli ke meta-model bersama prediksi base models\n",
    ")\n",
    "\n",
    "# Untuk multi-output, kita bungkus dengan MultiOutputRegressor\n",
    "model_all_best = MultiOutputRegressor(stacking_regressor)\n",
    "start = time.time()\n",
    "# Training\n",
    "model_all_best.fit(x0_train, y0_train)\n",
    "end = time.time()\n",
    "waktu = (end-start)/60\n",
    "# Prediction\n",
    "y0_pred = model_all_best.predict(x0_test)\n",
    "r2 = r2_score(y0_test, y0_pred, multioutput = 'raw_values')\n",
    "mae = mean_absolute_error(y0_test, y0_pred, multioutput = 'raw_values')\n",
    "mse = mean_squared_error(y0_test, y0_pred, multioutput = 'raw_values')\n",
    "max_ae = max_absolute_error(y0_test, y0_pred)\n",
    "print(f'R2 : \\n Alpha : {r2[1]} \\n Beta : {r2[2]} \\n V : {r2[0]} ')\n",
    "print(f'MAE : \\n Alpha : {mae[1]} \\n Beta : {mae[2]} \\n V : {mae[0]} ')\n",
    "print(f'MSE : \\n Alpha : {mse[1]} \\n Beta : {mse[2]} \\n V : {mse[0]} ')\n",
    "print('Max AERR : \\n', max_ae)\n",
    "print(\"Waktu yang dibutuhkan : \", waktu)"
   ]
  },
  {
   "cell_type": "code",
   "execution_count": 150,
   "id": "80d43ed7-9192-46cd-b9ce-6825bd49cba3",
   "metadata": {},
   "outputs": [
    {
     "name": "stdout",
     "output_type": "stream",
     "text": [
      "6697\n"
     ]
    }
   ],
   "source": [
    "y_pred_df = pd.DataFrame(y0_pred, columns = [\"V\",\"α\",\"β\"], index = y0_test.index)\n",
    "aerr = np.abs(y_pred_df - y0_test)\n",
    "index_max_aerr = aerr[\"β\"].idxmax()\n",
    "df_all_clean_48 = df_all_clean_47.drop(index = index_max_aerr)\n",
    "print(len(df_all_clean_48))"
   ]
  },
  {
   "cell_type": "markdown",
   "id": "de0121d5-3079-42da-badf-960fb8e935bf",
   "metadata": {},
   "source": [
    "### AFTER REDUCE 48"
   ]
  },
  {
   "cell_type": "code",
   "execution_count": 151,
   "id": "90681c69-bb1d-481d-b2c3-d53e00d7cdff",
   "metadata": {},
   "outputs": [],
   "source": [
    "x_all = df_all_clean_48.drop(columns = [\"V\",\"α\",\"β\"])\n",
    "y_all = df_all_clean_48[[\"V\",\"α\",\"β\"]]\n",
    "\n",
    "x0_train, x0_test, y0_train, y0_test = train_test_split(x_all, y_all,\n",
    "                                                        random_state = 42, test_size = 0.2)"
   ]
  },
  {
   "cell_type": "code",
   "execution_count": 152,
   "id": "a9832198-f068-4c3e-9bd1-f6c1e706a77d",
   "metadata": {},
   "outputs": [
    {
     "name": "stdout",
     "output_type": "stream",
     "text": [
      "R2 : \n",
      " Alpha : 0.9999999791805648 \n",
      " Beta : 0.9873685035908556 \n",
      " V : 0.9999998024412914 \n",
      "MAE : \n",
      " Alpha : 0.002997647550987879 \n",
      " Beta : 0.44296020624164456 \n",
      " V : 0.001492654476972445 \n",
      "MSE : \n",
      " Alpha : 2.6096207456495595e-05 \n",
      " Beta : 1.388734931378668 \n",
      " V : 3.9702969640764844e-05 \n",
      "Max AERR : \n",
      " V    0.081564\n",
      "α    0.047327\n",
      "β    9.645204\n",
      "dtype: float64\n",
      "Waktu yang dibutuhkan :  1.815116024017334\n"
     ]
    }
   ],
   "source": [
    "def max_absolute_error(y_true, y_pred):\n",
    "    return np.max(np.abs(y_true - y_pred), axis=0)\n",
    "scaler = StandardScaler()\n",
    "\n",
    "# Base models (Level Pertama)\n",
    "base_models = [\n",
    "    # ('random_forest', RandomForestRegressor(n_estimators=250, max_depth=None, random_state=42, min_samples_leaf= 1, min_samples_split= 2, max_features = 'sqrt')),\n",
    "    ('random_forest', RandomForestRegressor(n_estimators=100, max_depth=None, random_state=21, max_leaf_nodes= 800)),\n",
    "    ('gradient_boosting', GradientBoostingRegressor(n_estimators=400, learning_rate=0.0579, random_state=42, max_depth = 5)),\n",
    "    ('knn', make_pipeline(StandardScaler(), KNeighborsRegressor(n_neighbors=2, weights='distance', algorithm='auto')))\n",
    "]\n",
    "\n",
    "# Meta-model (Level Kedua)\n",
    "# Menggunakan Ridge Regression sebagai meta-model untuk menghindari overfitting\n",
    "meta_model = Ridge(alpha=0.1)\n",
    "\n",
    "# Membentuk Stacking Regressor\n",
    "stacking_regressor = StackingRegressor(\n",
    "    estimators=base_models,\n",
    "    final_estimator=meta_model,\n",
    "    passthrough=True  # Memasukkan data asli ke meta-model bersama prediksi base models\n",
    ")\n",
    "\n",
    "# Untuk multi-output, kita bungkus dengan MultiOutputRegressor\n",
    "model_all_best = MultiOutputRegressor(stacking_regressor)\n",
    "start = time.time()\n",
    "# Training\n",
    "model_all_best.fit(x0_train, y0_train)\n",
    "end = time.time()\n",
    "waktu = (end-start)/60\n",
    "# Prediction\n",
    "y0_pred = model_all_best.predict(x0_test)\n",
    "r2 = r2_score(y0_test, y0_pred, multioutput = 'raw_values')\n",
    "mae = mean_absolute_error(y0_test, y0_pred, multioutput = 'raw_values')\n",
    "mse = mean_squared_error(y0_test, y0_pred, multioutput = 'raw_values')\n",
    "max_ae = max_absolute_error(y0_test, y0_pred)\n",
    "print(f'R2 : \\n Alpha : {r2[1]} \\n Beta : {r2[2]} \\n V : {r2[0]} ')\n",
    "print(f'MAE : \\n Alpha : {mae[1]} \\n Beta : {mae[2]} \\n V : {mae[0]} ')\n",
    "print(f'MSE : \\n Alpha : {mse[1]} \\n Beta : {mse[2]} \\n V : {mse[0]} ')\n",
    "print('Max AERR : \\n', max_ae)\n",
    "print(\"Waktu yang dibutuhkan : \", waktu)"
   ]
  },
  {
   "cell_type": "code",
   "execution_count": 153,
   "id": "60a73539-da82-4933-92a5-df0dc72e1d79",
   "metadata": {},
   "outputs": [
    {
     "name": "stdout",
     "output_type": "stream",
     "text": [
      "6696\n"
     ]
    }
   ],
   "source": [
    "y_pred_df = pd.DataFrame(y0_pred, columns = [\"V\",\"α\",\"β\"], index = y0_test.index)\n",
    "aerr = np.abs(y_pred_df - y0_test)\n",
    "index_max_aerr = aerr[\"β\"].idxmax()\n",
    "df_all_clean_49 = df_all_clean_48.drop(index = index_max_aerr)\n",
    "print(len(df_all_clean_49))"
   ]
  },
  {
   "cell_type": "markdown",
   "id": "823e99ea-b6d9-4bf0-af4d-92afe020a06e",
   "metadata": {},
   "source": [
    "### AFTER REDUCE 49"
   ]
  },
  {
   "cell_type": "code",
   "execution_count": 154,
   "id": "ebb4f039-b726-4db7-a838-407fcc53484c",
   "metadata": {},
   "outputs": [],
   "source": [
    "x_all = df_all_clean_49.drop(columns = [\"V\",\"α\",\"β\"])\n",
    "y_all = df_all_clean_49[[\"V\",\"α\",\"β\"]]\n",
    "\n",
    "x0_train, x0_test, y0_train, y0_test = train_test_split(x_all, y_all,\n",
    "                                                        random_state = 42, test_size = 0.2)"
   ]
  },
  {
   "cell_type": "code",
   "execution_count": 155,
   "id": "bfd6b0aa-e2bd-45f9-ab39-7dc2ad9a0dd8",
   "metadata": {
    "scrolled": true
   },
   "outputs": [
    {
     "name": "stdout",
     "output_type": "stream",
     "text": [
      "R2 : \n",
      " Alpha : 0.9999999791953348 \n",
      " Beta : 0.9867675862312114 \n",
      " V : 0.9999998030464354 \n",
      "MAE : \n",
      " Alpha : 0.002844769642394002 \n",
      " Beta : 0.4835766929532452 \n",
      " V : 0.0015882510723763483 \n",
      "MSE : \n",
      " Alpha : 2.6063898264081343e-05 \n",
      " Beta : 1.4393844376440033 \n",
      " V : 3.941940559266608e-05 \n",
      "Max AERR : \n",
      " V    0.075182\n",
      "α    0.056576\n",
      "β    9.439480\n",
      "dtype: float64\n",
      "Waktu yang dibutuhkan :  1.8296287457148235\n"
     ]
    }
   ],
   "source": [
    "def max_absolute_error(y_true, y_pred):\n",
    "    return np.max(np.abs(y_true - y_pred), axis=0)\n",
    "scaler = StandardScaler()\n",
    "\n",
    "# Base models (Level Pertama)\n",
    "base_models = [\n",
    "    # ('random_forest', RandomForestRegressor(n_estimators=250, max_depth=None, random_state=42, min_samples_leaf= 1, min_samples_split= 2, max_features = 'sqrt')),\n",
    "    ('random_forest', RandomForestRegressor(n_estimators=100, max_depth=None, random_state=21, max_leaf_nodes= 800)),\n",
    "    ('gradient_boosting', GradientBoostingRegressor(n_estimators=400, learning_rate=0.0579, random_state=42, max_depth = 5)),\n",
    "    ('knn', make_pipeline(StandardScaler(), KNeighborsRegressor(n_neighbors=2, weights='distance', algorithm='auto')))\n",
    "]\n",
    "\n",
    "# Meta-model (Level Kedua)\n",
    "# Menggunakan Ridge Regression sebagai meta-model untuk menghindari overfitting\n",
    "meta_model = Ridge(alpha=0.1)\n",
    "\n",
    "# Membentuk Stacking Regressor\n",
    "stacking_regressor = StackingRegressor(\n",
    "    estimators=base_models,\n",
    "    final_estimator=meta_model,\n",
    "    passthrough=True  # Memasukkan data asli ke meta-model bersama prediksi base models\n",
    ")\n",
    "\n",
    "# Untuk multi-output, kita bungkus dengan MultiOutputRegressor\n",
    "model_all_best = MultiOutputRegressor(stacking_regressor)\n",
    "start = time.time()\n",
    "# Training\n",
    "model_all_best.fit(x0_train, y0_train)\n",
    "end = time.time()\n",
    "waktu = (end-start)/60\n",
    "# Prediction\n",
    "y0_pred = model_all_best.predict(x0_test)\n",
    "r2 = r2_score(y0_test, y0_pred, multioutput = 'raw_values')\n",
    "mae = mean_absolute_error(y0_test, y0_pred, multioutput = 'raw_values')\n",
    "mse = mean_squared_error(y0_test, y0_pred, multioutput = 'raw_values')\n",
    "max_ae = max_absolute_error(y0_test, y0_pred)\n",
    "print(f'R2 : \\n Alpha : {r2[1]} \\n Beta : {r2[2]} \\n V : {r2[0]} ')\n",
    "print(f'MAE : \\n Alpha : {mae[1]} \\n Beta : {mae[2]} \\n V : {mae[0]} ')\n",
    "print(f'MSE : \\n Alpha : {mse[1]} \\n Beta : {mse[2]} \\n V : {mse[0]} ')\n",
    "print('Max AERR : \\n', max_ae)\n",
    "print(\"Waktu yang dibutuhkan : \", waktu)"
   ]
  },
  {
   "cell_type": "code",
   "execution_count": 156,
   "id": "1b77fb4f-a20b-43fe-a0d8-e702ba4dd990",
   "metadata": {},
   "outputs": [
    {
     "name": "stdout",
     "output_type": "stream",
     "text": [
      "6695\n"
     ]
    }
   ],
   "source": [
    "y_pred_df = pd.DataFrame(y0_pred, columns = [\"V\",\"α\",\"β\"], index = y0_test.index)\n",
    "aerr = np.abs(y_pred_df - y0_test)\n",
    "index_max_aerr = aerr[\"β\"].idxmax()\n",
    "df_all_clean_50 = df_all_clean_49.drop(index = index_max_aerr)\n",
    "print(len(df_all_clean_50))"
   ]
  },
  {
   "cell_type": "markdown",
   "id": "51a38988-bb2c-4948-8644-2339e7d8ddcc",
   "metadata": {},
   "source": [
    "### AFTER REDUCE 50"
   ]
  },
  {
   "cell_type": "code",
   "execution_count": 157,
   "id": "e2ca4923-3628-46ad-8d0a-f28cb932c8ea",
   "metadata": {},
   "outputs": [],
   "source": [
    "x_all = df_all_clean_50.drop(columns = [\"V\",\"α\",\"β\"])\n",
    "y_all = df_all_clean_50[[\"V\",\"α\",\"β\"]]\n",
    "\n",
    "x0_train, x0_test, y0_train, y0_test = train_test_split(x_all, y_all,\n",
    "                                                        random_state = 42, test_size = 0.2)"
   ]
  },
  {
   "cell_type": "code",
   "execution_count": 158,
   "id": "98d74d89-d9b6-4d90-92d1-9d51d103e2e9",
   "metadata": {},
   "outputs": [
    {
     "name": "stdout",
     "output_type": "stream",
     "text": [
      "R2 : \n",
      " Alpha : 0.9999999794497764 \n",
      " Beta : 0.9886444493329439 \n",
      " V : 0.9999998349337534 \n",
      "MAE : \n",
      " Alpha : 0.0028038884943813696 \n",
      " Beta : 0.44509165187523836 \n",
      " V : 0.001484830621008814 \n",
      "MSE : \n",
      " Alpha : 2.603164413458015e-05 \n",
      " Beta : 1.2754112001993834 \n",
      " V : 3.3499555328369416e-05 \n",
      "Max AERR : \n",
      " V    0.047681\n",
      "α    0.050894\n",
      "β    9.078520\n",
      "dtype: float64\n",
      "Waktu yang dibutuhkan :  1.8254061381022135\n"
     ]
    }
   ],
   "source": [
    "def max_absolute_error(y_true, y_pred):\n",
    "    return np.max(np.abs(y_true - y_pred), axis=0)\n",
    "scaler = StandardScaler()\n",
    "\n",
    "# Base models (Level Pertama)\n",
    "base_models = [\n",
    "    # ('random_forest', RandomForestRegressor(n_estimators=250, max_depth=None, random_state=42, min_samples_leaf= 1, min_samples_split= 2, max_features = 'sqrt')),\n",
    "    ('random_forest', RandomForestRegressor(n_estimators=100, max_depth=None, random_state=21, max_leaf_nodes= 800)),\n",
    "    ('gradient_boosting', GradientBoostingRegressor(n_estimators=400, learning_rate=0.0579, random_state=42, max_depth = 5)),\n",
    "    ('knn', make_pipeline(StandardScaler(), KNeighborsRegressor(n_neighbors=2, weights='distance', algorithm='auto')))\n",
    "]\n",
    "\n",
    "# Meta-model (Level Kedua)\n",
    "# Menggunakan Ridge Regression sebagai meta-model untuk menghindari overfitting\n",
    "meta_model = Ridge(alpha=0.1)\n",
    "\n",
    "# Membentuk Stacking Regressor\n",
    "stacking_regressor = StackingRegressor(\n",
    "    estimators=base_models,\n",
    "    final_estimator=meta_model,\n",
    "    passthrough=True  # Memasukkan data asli ke meta-model bersama prediksi base models\n",
    ")\n",
    "\n",
    "# Untuk multi-output, kita bungkus dengan MultiOutputRegressor\n",
    "model_all_best = MultiOutputRegressor(stacking_regressor)\n",
    "start = time.time()\n",
    "# Training\n",
    "model_all_best.fit(x0_train, y0_train)\n",
    "end = time.time()\n",
    "waktu = (end-start)/60\n",
    "# Prediction\n",
    "y0_pred = model_all_best.predict(x0_test)\n",
    "r2 = r2_score(y0_test, y0_pred, multioutput = 'raw_values')\n",
    "mae = mean_absolute_error(y0_test, y0_pred, multioutput = 'raw_values')\n",
    "mse = mean_squared_error(y0_test, y0_pred, multioutput = 'raw_values')\n",
    "max_ae = max_absolute_error(y0_test, y0_pred)\n",
    "print(f'R2 : \\n Alpha : {r2[1]} \\n Beta : {r2[2]} \\n V : {r2[0]} ')\n",
    "print(f'MAE : \\n Alpha : {mae[1]} \\n Beta : {mae[2]} \\n V : {mae[0]} ')\n",
    "print(f'MSE : \\n Alpha : {mse[1]} \\n Beta : {mse[2]} \\n V : {mse[0]} ')\n",
    "print('Max AERR : \\n', max_ae)\n",
    "print(\"Waktu yang dibutuhkan : \", waktu)"
   ]
  },
  {
   "cell_type": "markdown",
   "id": "cf86eba4-076a-448c-bef3-62e029b35553",
   "metadata": {},
   "source": [
    "# SAVE NEW DATASET"
   ]
  },
  {
   "cell_type": "code",
   "execution_count": 159,
   "id": "36556e39-b9f7-4b2b-8e58-6618a14f18b8",
   "metadata": {},
   "outputs": [],
   "source": [
    "df_all_clean_15.to_csv('data_clean_reduce_15_z_score_3_sec.csv', index = False)"
   ]
  },
  {
   "cell_type": "code",
   "execution_count": 160,
   "id": "26b4d5cf-6328-4c36-b196-901b26798ae2",
   "metadata": {},
   "outputs": [],
   "source": [
    "df_all_clean_21.to_csv('data_clean_reduce_21_z_score_3_sec.csv', index = False)"
   ]
  },
  {
   "cell_type": "code",
   "execution_count": 161,
   "id": "776f4b1b-c7e9-4084-afd7-b3cfef8adea1",
   "metadata": {},
   "outputs": [],
   "source": [
    "df_all_clean_23.to_csv('data_clean_reduce_23_z_score_3_sec.csv', index = False)"
   ]
  },
  {
   "cell_type": "code",
   "execution_count": 162,
   "id": "935dce13-c056-4c2d-9560-97237c4d2da4",
   "metadata": {},
   "outputs": [],
   "source": [
    "df_all_clean_24.to_csv('data_clean_reduce_24_z_score_3_sec.csv', index = False)"
   ]
  },
  {
   "cell_type": "code",
   "execution_count": 163,
   "id": "c0ad6a66-ac68-4271-ba7a-fd770ef6d564",
   "metadata": {},
   "outputs": [],
   "source": [
    "df_all_clean_25.to_csv('data_clean_reduce_25_z_score_3_sec.csv', index = False)"
   ]
  },
  {
   "cell_type": "code",
   "execution_count": 164,
   "id": "4a958d09-0530-4960-b19d-0b3c81a98830",
   "metadata": {},
   "outputs": [],
   "source": [
    "df_all_clean_26.to_csv('data_clean_reduce_26_z_score_3_sec.csv', index = False)"
   ]
  },
  {
   "cell_type": "code",
   "execution_count": 165,
   "id": "aad100c3-9393-4269-b404-bab508973f1c",
   "metadata": {},
   "outputs": [],
   "source": [
    "df_all_clean_27.to_csv('data_clean_reduce_27_z_score_3_sec.csv', index = False)"
   ]
  },
  {
   "cell_type": "code",
   "execution_count": 168,
   "id": "904146c6-b10d-401c-842c-a5a986d50715",
   "metadata": {},
   "outputs": [],
   "source": [
    "df_all_clean_31.to_csv('data_clean_reduce_31_z_score_3_sec.csv', index = False)"
   ]
  },
  {
   "cell_type": "code",
   "execution_count": 169,
   "id": "fedb2258-b332-4211-a7ce-6696d74c3952",
   "metadata": {},
   "outputs": [],
   "source": [
    "df_all_clean_36.to_csv('data_clean_reduce_36_z_score_3_sec.csv', index = False)"
   ]
  },
  {
   "cell_type": "code",
   "execution_count": 170,
   "id": "2a090c2b-2bb7-4ef4-8883-b5728f2d5243",
   "metadata": {},
   "outputs": [],
   "source": [
    "df_all_clean_41.to_csv('data_clean_reduce_41_z_score_3_sec.csv', index = False)"
   ]
  },
  {
   "cell_type": "code",
   "execution_count": 171,
   "id": "b939c43b-4a63-4561-adbe-fc5d67cf3488",
   "metadata": {},
   "outputs": [],
   "source": [
    "df_all_clean_42.to_csv('data_clean_reduce_42_z_score_3_sec.csv', index = False)"
   ]
  },
  {
   "cell_type": "code",
   "execution_count": 172,
   "id": "ba838ac6-3aee-43c3-8da6-57e830ff9625",
   "metadata": {},
   "outputs": [],
   "source": [
    "df_all_clean_43.to_csv('data_clean_reduce_43_z_score_3_sec.csv', index = False)"
   ]
  },
  {
   "cell_type": "code",
   "execution_count": 173,
   "id": "43aef087-7149-4e91-807d-7e5ba26e4631",
   "metadata": {},
   "outputs": [],
   "source": [
    "df_all_clean_44.to_csv('data_clean_reduce_44_z_score_3_sec.csv', index = False)"
   ]
  },
  {
   "cell_type": "code",
   "execution_count": 174,
   "id": "7e555d00-5dfb-43bf-804e-833632c8d4da",
   "metadata": {},
   "outputs": [],
   "source": [
    "df_all_clean_45.to_csv('data_clean_reduce_45_z_score_3_sec.csv', index = False)"
   ]
  },
  {
   "cell_type": "code",
   "execution_count": 175,
   "id": "fa782fd3-b224-4876-ac96-5fb271e5d8ec",
   "metadata": {},
   "outputs": [],
   "source": [
    "df_all_clean_46.to_csv('data_clean_reduce_46_z_score_3_sec.csv', index = False)"
   ]
  },
  {
   "cell_type": "code",
   "execution_count": 176,
   "id": "338d4497-c02a-40a0-ab8e-37b8af5fa25c",
   "metadata": {},
   "outputs": [],
   "source": [
    "df_all_clean_47.to_csv('data_clean_reduce_47_z_score_3_sec.csv', index = False)"
   ]
  },
  {
   "cell_type": "code",
   "execution_count": 177,
   "id": "43553bf3-2445-4dbd-a42e-b084b9b07310",
   "metadata": {},
   "outputs": [],
   "source": [
    "df_all_clean_48.to_csv('data_clean_reduce_48_z_score_3_sec.csv', index = False)"
   ]
  },
  {
   "cell_type": "code",
   "execution_count": 178,
   "id": "486182f7-2668-47e9-bf89-8affbd99e52e",
   "metadata": {},
   "outputs": [],
   "source": [
    "df_all_clean_49.to_csv('data_clean_reduce_49_z_score_3_sec.csv', index = False)"
   ]
  },
  {
   "cell_type": "code",
   "execution_count": 179,
   "id": "c031e6e0-04dd-4690-917a-27c9458c6500",
   "metadata": {},
   "outputs": [],
   "source": [
    "df_all_clean_50.to_csv('data_clean_reduce_50_z_score_3_sec.csv', index = False)"
   ]
  },
  {
   "cell_type": "code",
   "execution_count": 181,
   "id": "abccb2bd-e6a0-4c18-a380-ef84afd90239",
   "metadata": {},
   "outputs": [
    {
     "name": "stdout",
     "output_type": "stream",
     "text": [
      "          Pβ2      Pα1      Pβ1      Pα2       P3          V   α   β  \\\n",
      "3077 -0.37203 -0.13467 -0.36698 -0.27608 -0.37708  20.027975  90 -20   \n",
      "3078 -0.36361 -0.13467 -0.35856 -0.27271 -0.37540  20.027975  90 -20   \n",
      "3079 -0.37540 -0.13131 -0.36866 -0.26934 -0.37540  20.027975  90 -20   \n",
      "3081 -0.37372 -0.13131 -0.36866 -0.27103 -0.38045  20.027975  90 -20   \n",
      "4437 -0.85853 -0.18517 -0.79457 -0.59592 -0.83160  30.000000  85 -20   \n",
      "4469 -0.82823 -0.18517 -0.81140 -0.60939 -0.83160  30.024409  85   0   \n",
      "4472 -0.83328 -0.18517 -0.83497 -0.61107 -0.82992  30.024409  85   0   \n",
      "4473 -0.83328 -0.18517 -0.84170 -0.60939 -0.82150  30.024409  85   0   \n",
      "4475 -0.84170 -0.18686 -0.84507 -0.58414 -0.82655  30.024409  85   0   \n",
      "5853 -1.49654 -0.34341 -1.49654 -1.03361 -1.48476  40.037530  85  -5   \n",
      "5857 -1.48981 -0.34341 -1.48308 -1.03024 -1.48139  40.037530  85  -5   \n",
      "5859 -1.50833 -0.34341 -1.49486 -1.04708 -1.48139  40.037530  85  -5   \n",
      "7239 -2.33656 -0.51344 -2.36013 -1.60260 -2.34329  50.031069  85   0   \n",
      "7242 -2.31131 -0.51512 -2.33824 -1.60260 -2.33319  50.031069  85   0   \n",
      "7248 -2.33488 -0.51849 -2.39043 -1.59418 -2.34161  50.031069  85   0   \n",
      "\n",
      "         _merge  \n",
      "3077  left_only  \n",
      "3078  left_only  \n",
      "3079  left_only  \n",
      "3081  left_only  \n",
      "4437  left_only  \n",
      "4469  left_only  \n",
      "4472  left_only  \n",
      "4473  left_only  \n",
      "4475  left_only  \n",
      "5853  left_only  \n",
      "5857  left_only  \n",
      "5859  left_only  \n",
      "7239  left_only  \n",
      "7242  left_only  \n",
      "7248  left_only  \n",
      "Reduce index: [3077, 3078, 3079, 3081, 4437, 4469, 4472, 4473, 4475, 5853, 5857, 5859, 7239, 7242, 7248]\n"
     ]
    }
   ],
   "source": [
    "df1 = pd.read_csv(\"z_score_3_data_all.csv\")\n",
    "df2 = pd.read_csv(\"data_clean_reduce_15_z_score_3_sec.csv\")\n",
    "missing_indices = df1.index.difference(df2.index)\n",
    "missing_rows = df1.merge(df2, how='outer', indicator=True).query('_merge == \"left_only\"')\n",
    "print(missing_rows)\n",
    "print(\"Reduce index:\", missing_rows.index.tolist())"
   ]
  },
  {
   "cell_type": "code",
   "execution_count": 182,
   "id": "218886e1-cde0-493d-a6a7-20d01695efee",
   "metadata": {},
   "outputs": [
    {
     "name": "stdout",
     "output_type": "stream",
     "text": [
      "          Pβ2      Pα1      Pβ1      Pα2       P3          V   α   β  \\\n",
      "3077 -0.37203 -0.13467 -0.36698 -0.27608 -0.37708  20.027975  90 -20   \n",
      "3078 -0.36361 -0.13467 -0.35856 -0.27271 -0.37540  20.027975  90 -20   \n",
      "3079 -0.37540 -0.13131 -0.36866 -0.26934 -0.37540  20.027975  90 -20   \n",
      "3080 -0.36866 -0.13131 -0.36530 -0.26934 -0.37372  20.027975  90 -20   \n",
      "3081 -0.37372 -0.13131 -0.36866 -0.27103 -0.38045  20.027975  90 -20   \n",
      "3117 -0.35688 -0.13131 -0.35351 -0.26934 -0.37035  20.019834  90   0   \n",
      "3121 -0.36866 -0.13131 -0.37203 -0.27608 -0.38045  20.019834  90   0   \n",
      "4437 -0.85853 -0.18517 -0.79457 -0.59592 -0.83160  30.000000  85 -20   \n",
      "4469 -0.82823 -0.18517 -0.81140 -0.60939 -0.83160  30.024409  85   0   \n",
      "4472 -0.83328 -0.18517 -0.83497 -0.61107 -0.82992  30.024409  85   0   \n",
      "4473 -0.83328 -0.18517 -0.84170 -0.60939 -0.82150  30.024409  85   0   \n",
      "4475 -0.84170 -0.18686 -0.84507 -0.58414 -0.82655  30.024409  85   0   \n",
      "5853 -1.49654 -0.34341 -1.49654 -1.03361 -1.48476  40.037530  85  -5   \n",
      "5857 -1.48981 -0.34341 -1.48308 -1.03024 -1.48139  40.037530  85  -5   \n",
      "5859 -1.50833 -0.34341 -1.49486 -1.04708 -1.48139  40.037530  85  -5   \n",
      "7237 -2.31131 -0.51680 -2.32141 -1.58071 -2.31804  50.003579  85  -5   \n",
      "7239 -2.33656 -0.51344 -2.36013 -1.60260 -2.34329  50.031069  85   0   \n",
      "7241 -2.36013 -0.51007 -2.29616 -1.60765 -2.34161  50.031069  85   0   \n",
      "7242 -2.31131 -0.51512 -2.33824 -1.60260 -2.33319  50.031069  85   0   \n",
      "7244 -2.33824 -0.50839 -2.39211 -1.61270 -2.33656  50.031069  85   0   \n",
      "7248 -2.33488 -0.51849 -2.39043 -1.59418 -2.34161  50.031069  85   0   \n",
      "\n",
      "         _merge  \n",
      "3077  left_only  \n",
      "3078  left_only  \n",
      "3079  left_only  \n",
      "3080  left_only  \n",
      "3081  left_only  \n",
      "3117  left_only  \n",
      "3121  left_only  \n",
      "4437  left_only  \n",
      "4469  left_only  \n",
      "4472  left_only  \n",
      "4473  left_only  \n",
      "4475  left_only  \n",
      "5853  left_only  \n",
      "5857  left_only  \n",
      "5859  left_only  \n",
      "7237  left_only  \n",
      "7239  left_only  \n",
      "7241  left_only  \n",
      "7242  left_only  \n",
      "7244  left_only  \n",
      "7248  left_only  \n",
      "Reduce index: [3077, 3078, 3079, 3080, 3081, 3117, 3121, 4437, 4469, 4472, 4473, 4475, 5853, 5857, 5859, 7237, 7239, 7241, 7242, 7244, 7248]\n"
     ]
    }
   ],
   "source": [
    "df1 = pd.read_csv(\"z_score_3_data_all.csv\")\n",
    "df2 = pd.read_csv(\"data_clean_reduce_21_z_score_3_sec.csv\")\n",
    "missing_indices = df1.index.difference(df2.index)\n",
    "missing_rows = df1.merge(df2, how='outer', indicator=True).query('_merge == \"left_only\"')\n",
    "print(missing_rows)\n",
    "print(\"Reduce index:\", missing_rows.index.tolist())"
   ]
  },
  {
   "cell_type": "code",
   "execution_count": 183,
   "id": "ca9f224d-c4f8-4a93-8c8d-882fa5fd2ec4",
   "metadata": {},
   "outputs": [
    {
     "name": "stdout",
     "output_type": "stream",
     "text": [
      "          Pβ2      Pα1      Pβ1      Pα2       P3          V   α   β  \\\n",
      "3013 -0.36361 -0.02525 -0.38213 -0.28113 -0.34846  20.006058  80   0   \n",
      "3017 -0.36193 -0.02862 -0.37203 -0.28113 -0.34846  20.006058  80   0   \n",
      "3077 -0.37203 -0.13467 -0.36698 -0.27608 -0.37708  20.027975  90 -20   \n",
      "3078 -0.36361 -0.13467 -0.35856 -0.27271 -0.37540  20.027975  90 -20   \n",
      "3079 -0.37540 -0.13131 -0.36866 -0.26934 -0.37540  20.027975  90 -20   \n",
      "3080 -0.36866 -0.13131 -0.36530 -0.26934 -0.37372  20.027975  90 -20   \n",
      "3081 -0.37372 -0.13131 -0.36866 -0.27103 -0.38045  20.027975  90 -20   \n",
      "3117 -0.35688 -0.13131 -0.35351 -0.26934 -0.37035  20.019834  90   0   \n",
      "3121 -0.36866 -0.13131 -0.37203 -0.27608 -0.38045  20.019834  90   0   \n",
      "4437 -0.85853 -0.18517 -0.79457 -0.59592 -0.83160  30.000000  85 -20   \n",
      "4469 -0.82823 -0.18517 -0.81140 -0.60939 -0.83160  30.024409  85   0   \n",
      "4472 -0.83328 -0.18517 -0.83497 -0.61107 -0.82992  30.024409  85   0   \n",
      "4473 -0.83328 -0.18517 -0.84170 -0.60939 -0.82150  30.024409  85   0   \n",
      "4475 -0.84170 -0.18686 -0.84507 -0.58414 -0.82655  30.024409  85   0   \n",
      "5853 -1.49654 -0.34341 -1.49654 -1.03361 -1.48476  40.037530  85  -5   \n",
      "5857 -1.48981 -0.34341 -1.48308 -1.03024 -1.48139  40.037530  85  -5   \n",
      "5859 -1.50833 -0.34341 -1.49486 -1.04708 -1.48139  40.037530  85  -5   \n",
      "7237 -2.31131 -0.51680 -2.32141 -1.58071 -2.31804  50.003579  85  -5   \n",
      "7239 -2.33656 -0.51344 -2.36013 -1.60260 -2.34329  50.031069  85   0   \n",
      "7241 -2.36013 -0.51007 -2.29616 -1.60765 -2.34161  50.031069  85   0   \n",
      "7242 -2.31131 -0.51512 -2.33824 -1.60260 -2.33319  50.031069  85   0   \n",
      "7244 -2.33824 -0.50839 -2.39211 -1.61270 -2.33656  50.031069  85   0   \n",
      "7248 -2.33488 -0.51849 -2.39043 -1.59418 -2.34161  50.031069  85   0   \n",
      "\n",
      "         _merge  \n",
      "3013  left_only  \n",
      "3017  left_only  \n",
      "3077  left_only  \n",
      "3078  left_only  \n",
      "3079  left_only  \n",
      "3080  left_only  \n",
      "3081  left_only  \n",
      "3117  left_only  \n",
      "3121  left_only  \n",
      "4437  left_only  \n",
      "4469  left_only  \n",
      "4472  left_only  \n",
      "4473  left_only  \n",
      "4475  left_only  \n",
      "5853  left_only  \n",
      "5857  left_only  \n",
      "5859  left_only  \n",
      "7237  left_only  \n",
      "7239  left_only  \n",
      "7241  left_only  \n",
      "7242  left_only  \n",
      "7244  left_only  \n",
      "7248  left_only  \n",
      "Reduce index: [3013, 3017, 3077, 3078, 3079, 3080, 3081, 3117, 3121, 4437, 4469, 4472, 4473, 4475, 5853, 5857, 5859, 7237, 7239, 7241, 7242, 7244, 7248]\n"
     ]
    }
   ],
   "source": [
    "df1 = pd.read_csv(\"z_score_3_data_all.csv\")\n",
    "df2 = pd.read_csv(\"data_clean_reduce_23_z_score_3_sec.csv\")\n",
    "missing_indices = df1.index.difference(df2.index)\n",
    "missing_rows = df1.merge(df2, how='outer', indicator=True).query('_merge == \"left_only\"')\n",
    "print(missing_rows)\n",
    "print(\"Reduce index:\", missing_rows.index.tolist())"
   ]
  },
  {
   "cell_type": "code",
   "execution_count": 184,
   "id": "9fc699bd-f2bb-4402-8832-b0215c397d1b",
   "metadata": {},
   "outputs": [
    {
     "name": "stdout",
     "output_type": "stream",
     "text": [
      "          Pβ2      Pα1      Pβ1      Pα2       P3          V   α   β  \\\n",
      "3013 -0.36361 -0.02525 -0.38213 -0.28113 -0.34846  20.006058  80   0   \n",
      "3017 -0.36193 -0.02862 -0.37203 -0.28113 -0.34846  20.006058  80   0   \n",
      "3029 -0.37708 -0.08080 -0.38045 -0.27271 -0.37035  20.037314  85 -20   \n",
      "3077 -0.37203 -0.13467 -0.36698 -0.27608 -0.37708  20.027975  90 -20   \n",
      "3078 -0.36361 -0.13467 -0.35856 -0.27271 -0.37540  20.027975  90 -20   \n",
      "3079 -0.37540 -0.13131 -0.36866 -0.26934 -0.37540  20.027975  90 -20   \n",
      "3080 -0.36866 -0.13131 -0.36530 -0.26934 -0.37372  20.027975  90 -20   \n",
      "3081 -0.37372 -0.13131 -0.36866 -0.27103 -0.38045  20.027975  90 -20   \n",
      "3117 -0.35688 -0.13131 -0.35351 -0.26934 -0.37035  20.019834  90   0   \n",
      "3121 -0.36866 -0.13131 -0.37203 -0.27608 -0.38045  20.019834  90   0   \n",
      "4437 -0.85853 -0.18517 -0.79457 -0.59592 -0.83160  30.000000  85 -20   \n",
      "4469 -0.82823 -0.18517 -0.81140 -0.60939 -0.83160  30.024409  85   0   \n",
      "4472 -0.83328 -0.18517 -0.83497 -0.61107 -0.82992  30.024409  85   0   \n",
      "4473 -0.83328 -0.18517 -0.84170 -0.60939 -0.82150  30.024409  85   0   \n",
      "4475 -0.84170 -0.18686 -0.84507 -0.58414 -0.82655  30.024409  85   0   \n",
      "5853 -1.49654 -0.34341 -1.49654 -1.03361 -1.48476  40.037530  85  -5   \n",
      "5857 -1.48981 -0.34341 -1.48308 -1.03024 -1.48139  40.037530  85  -5   \n",
      "5859 -1.50833 -0.34341 -1.49486 -1.04708 -1.48139  40.037530  85  -5   \n",
      "7237 -2.31131 -0.51680 -2.32141 -1.58071 -2.31804  50.003579  85  -5   \n",
      "7239 -2.33656 -0.51344 -2.36013 -1.60260 -2.34329  50.031069  85   0   \n",
      "7241 -2.36013 -0.51007 -2.29616 -1.60765 -2.34161  50.031069  85   0   \n",
      "7242 -2.31131 -0.51512 -2.33824 -1.60260 -2.33319  50.031069  85   0   \n",
      "7244 -2.33824 -0.50839 -2.39211 -1.61270 -2.33656  50.031069  85   0   \n",
      "7248 -2.33488 -0.51849 -2.39043 -1.59418 -2.34161  50.031069  85   0   \n",
      "\n",
      "         _merge  \n",
      "3013  left_only  \n",
      "3017  left_only  \n",
      "3029  left_only  \n",
      "3077  left_only  \n",
      "3078  left_only  \n",
      "3079  left_only  \n",
      "3080  left_only  \n",
      "3081  left_only  \n",
      "3117  left_only  \n",
      "3121  left_only  \n",
      "4437  left_only  \n",
      "4469  left_only  \n",
      "4472  left_only  \n",
      "4473  left_only  \n",
      "4475  left_only  \n",
      "5853  left_only  \n",
      "5857  left_only  \n",
      "5859  left_only  \n",
      "7237  left_only  \n",
      "7239  left_only  \n",
      "7241  left_only  \n",
      "7242  left_only  \n",
      "7244  left_only  \n",
      "7248  left_only  \n",
      "Reduce index: [3013, 3017, 3029, 3077, 3078, 3079, 3080, 3081, 3117, 3121, 4437, 4469, 4472, 4473, 4475, 5853, 5857, 5859, 7237, 7239, 7241, 7242, 7244, 7248]\n"
     ]
    }
   ],
   "source": [
    "df1 = pd.read_csv(\"z_score_3_data_all.csv\")\n",
    "df2 = pd.read_csv(\"data_clean_reduce_24_z_score_3_sec.csv\")\n",
    "missing_indices = df1.index.difference(df2.index)\n",
    "missing_rows = df1.merge(df2, how='outer', indicator=True).query('_merge == \"left_only\"')\n",
    "print(missing_rows)\n",
    "print(\"Reduce index:\", missing_rows.index.tolist())"
   ]
  },
  {
   "cell_type": "code",
   "execution_count": 185,
   "id": "8117473b-fb6d-462f-967a-1c919878d8ce",
   "metadata": {},
   "outputs": [
    {
     "name": "stdout",
     "output_type": "stream",
     "text": [
      "          Pβ2      Pα1      Pβ1      Pα2       P3          V   α   β  \\\n",
      "3013 -0.36361 -0.02525 -0.38213 -0.28113 -0.34846  20.006058  80   0   \n",
      "3017 -0.36193 -0.02862 -0.37203 -0.28113 -0.34846  20.006058  80   0   \n",
      "3029 -0.37708 -0.08080 -0.38045 -0.27271 -0.37035  20.037314  85 -20   \n",
      "3077 -0.37203 -0.13467 -0.36698 -0.27608 -0.37708  20.027975  90 -20   \n",
      "3078 -0.36361 -0.13467 -0.35856 -0.27271 -0.37540  20.027975  90 -20   \n",
      "3079 -0.37540 -0.13131 -0.36866 -0.26934 -0.37540  20.027975  90 -20   \n",
      "3080 -0.36866 -0.13131 -0.36530 -0.26934 -0.37372  20.027975  90 -20   \n",
      "3081 -0.37372 -0.13131 -0.36866 -0.27103 -0.38045  20.027975  90 -20   \n",
      "3117 -0.35688 -0.13131 -0.35351 -0.26934 -0.37035  20.019834  90   0   \n",
      "3121 -0.36866 -0.13131 -0.37203 -0.27608 -0.38045  20.019834  90   0   \n",
      "4437 -0.85853 -0.18517 -0.79457 -0.59592 -0.83160  30.000000  85 -20   \n",
      "4444 -0.87200 -0.18349 -0.84338 -0.60771 -0.83160  29.990107  85 -15   \n",
      "4469 -0.82823 -0.18517 -0.81140 -0.60939 -0.83160  30.024409  85   0   \n",
      "4472 -0.83328 -0.18517 -0.83497 -0.61107 -0.82992  30.024409  85   0   \n",
      "4473 -0.83328 -0.18517 -0.84170 -0.60939 -0.82150  30.024409  85   0   \n",
      "4475 -0.84170 -0.18686 -0.84507 -0.58414 -0.82655  30.024409  85   0   \n",
      "5853 -1.49654 -0.34341 -1.49654 -1.03361 -1.48476  40.037530  85  -5   \n",
      "5857 -1.48981 -0.34341 -1.48308 -1.03024 -1.48139  40.037530  85  -5   \n",
      "5859 -1.50833 -0.34341 -1.49486 -1.04708 -1.48139  40.037530  85  -5   \n",
      "7237 -2.31131 -0.51680 -2.32141 -1.58071 -2.31804  50.003579  85  -5   \n",
      "7239 -2.33656 -0.51344 -2.36013 -1.60260 -2.34329  50.031069  85   0   \n",
      "7241 -2.36013 -0.51007 -2.29616 -1.60765 -2.34161  50.031069  85   0   \n",
      "7242 -2.31131 -0.51512 -2.33824 -1.60260 -2.33319  50.031069  85   0   \n",
      "7244 -2.33824 -0.50839 -2.39211 -1.61270 -2.33656  50.031069  85   0   \n",
      "7248 -2.33488 -0.51849 -2.39043 -1.59418 -2.34161  50.031069  85   0   \n",
      "\n",
      "         _merge  \n",
      "3013  left_only  \n",
      "3017  left_only  \n",
      "3029  left_only  \n",
      "3077  left_only  \n",
      "3078  left_only  \n",
      "3079  left_only  \n",
      "3080  left_only  \n",
      "3081  left_only  \n",
      "3117  left_only  \n",
      "3121  left_only  \n",
      "4437  left_only  \n",
      "4444  left_only  \n",
      "4469  left_only  \n",
      "4472  left_only  \n",
      "4473  left_only  \n",
      "4475  left_only  \n",
      "5853  left_only  \n",
      "5857  left_only  \n",
      "5859  left_only  \n",
      "7237  left_only  \n",
      "7239  left_only  \n",
      "7241  left_only  \n",
      "7242  left_only  \n",
      "7244  left_only  \n",
      "7248  left_only  \n",
      "Reduce index: [3013, 3017, 3029, 3077, 3078, 3079, 3080, 3081, 3117, 3121, 4437, 4444, 4469, 4472, 4473, 4475, 5853, 5857, 5859, 7237, 7239, 7241, 7242, 7244, 7248]\n"
     ]
    }
   ],
   "source": [
    "df1 = pd.read_csv(\"z_score_3_data_all.csv\")\n",
    "df2 = pd.read_csv(\"data_clean_reduce_25_z_score_3_sec.csv\")\n",
    "missing_indices = df1.index.difference(df2.index)\n",
    "missing_rows = df1.merge(df2, how='outer', indicator=True).query('_merge == \"left_only\"')\n",
    "print(missing_rows)\n",
    "print(\"Reduce index:\", missing_rows.index.tolist())"
   ]
  },
  {
   "cell_type": "code",
   "execution_count": 186,
   "id": "62f58263-cfdb-4a6b-86e1-dafc87c6bb6e",
   "metadata": {},
   "outputs": [
    {
     "name": "stdout",
     "output_type": "stream",
     "text": [
      "          Pβ2      Pα1      Pβ1      Pα2       P3          V   α   β  \\\n",
      "3013 -0.36361 -0.02525 -0.38213 -0.28113 -0.34846  20.006058  80   0   \n",
      "3017 -0.36193 -0.02862 -0.37203 -0.28113 -0.34846  20.006058  80   0   \n",
      "3029 -0.37708 -0.08080 -0.38045 -0.27271 -0.37035  20.037314  85 -20   \n",
      "3077 -0.37203 -0.13467 -0.36698 -0.27608 -0.37708  20.027975  90 -20   \n",
      "3078 -0.36361 -0.13467 -0.35856 -0.27271 -0.37540  20.027975  90 -20   \n",
      "3079 -0.37540 -0.13131 -0.36866 -0.26934 -0.37540  20.027975  90 -20   \n",
      "3080 -0.36866 -0.13131 -0.36530 -0.26934 -0.37372  20.027975  90 -20   \n",
      "3081 -0.37372 -0.13131 -0.36866 -0.27103 -0.38045  20.027975  90 -20   \n",
      "3117 -0.35688 -0.13131 -0.35351 -0.26934 -0.37035  20.019834  90   0   \n",
      "3121 -0.36866 -0.13131 -0.37203 -0.27608 -0.38045  20.019834  90   0   \n",
      "4437 -0.85853 -0.18517 -0.79457 -0.59592 -0.83160  30.000000  85 -20   \n",
      "4444 -0.87200 -0.18349 -0.84338 -0.60771 -0.83160  29.990107  85 -15   \n",
      "4467 -0.83833 -0.19022 -0.84675 -0.60602 -0.84002  30.065874  85  -5   \n",
      "4469 -0.82823 -0.18517 -0.81140 -0.60939 -0.83160  30.024409  85   0   \n",
      "4472 -0.83328 -0.18517 -0.83497 -0.61107 -0.82992  30.024409  85   0   \n",
      "4473 -0.83328 -0.18517 -0.84170 -0.60939 -0.82150  30.024409  85   0   \n",
      "4475 -0.84170 -0.18686 -0.84507 -0.58414 -0.82655  30.024409  85   0   \n",
      "5853 -1.49654 -0.34341 -1.49654 -1.03361 -1.48476  40.037530  85  -5   \n",
      "5857 -1.48981 -0.34341 -1.48308 -1.03024 -1.48139  40.037530  85  -5   \n",
      "5859 -1.50833 -0.34341 -1.49486 -1.04708 -1.48139  40.037530  85  -5   \n",
      "7237 -2.31131 -0.51680 -2.32141 -1.58071 -2.31804  50.003579  85  -5   \n",
      "7239 -2.33656 -0.51344 -2.36013 -1.60260 -2.34329  50.031069  85   0   \n",
      "7241 -2.36013 -0.51007 -2.29616 -1.60765 -2.34161  50.031069  85   0   \n",
      "7242 -2.31131 -0.51512 -2.33824 -1.60260 -2.33319  50.031069  85   0   \n",
      "7244 -2.33824 -0.50839 -2.39211 -1.61270 -2.33656  50.031069  85   0   \n",
      "7248 -2.33488 -0.51849 -2.39043 -1.59418 -2.34161  50.031069  85   0   \n",
      "\n",
      "         _merge  \n",
      "3013  left_only  \n",
      "3017  left_only  \n",
      "3029  left_only  \n",
      "3077  left_only  \n",
      "3078  left_only  \n",
      "3079  left_only  \n",
      "3080  left_only  \n",
      "3081  left_only  \n",
      "3117  left_only  \n",
      "3121  left_only  \n",
      "4437  left_only  \n",
      "4444  left_only  \n",
      "4467  left_only  \n",
      "4469  left_only  \n",
      "4472  left_only  \n",
      "4473  left_only  \n",
      "4475  left_only  \n",
      "5853  left_only  \n",
      "5857  left_only  \n",
      "5859  left_only  \n",
      "7237  left_only  \n",
      "7239  left_only  \n",
      "7241  left_only  \n",
      "7242  left_only  \n",
      "7244  left_only  \n",
      "7248  left_only  \n",
      "Reduce index: [3013, 3017, 3029, 3077, 3078, 3079, 3080, 3081, 3117, 3121, 4437, 4444, 4467, 4469, 4472, 4473, 4475, 5853, 5857, 5859, 7237, 7239, 7241, 7242, 7244, 7248]\n"
     ]
    }
   ],
   "source": [
    "df1 = pd.read_csv(\"z_score_3_data_all.csv\")\n",
    "df2 = pd.read_csv(\"data_clean_reduce_26_z_score_3_sec.csv\")\n",
    "missing_indices = df1.index.difference(df2.index)\n",
    "missing_rows = df1.merge(df2, how='outer', indicator=True).query('_merge == \"left_only\"')\n",
    "print(missing_rows)\n",
    "print(\"Reduce index:\", missing_rows.index.tolist())"
   ]
  },
  {
   "cell_type": "code",
   "execution_count": 187,
   "id": "a9c238b3-fcb1-491f-ac15-02234aa02a2d",
   "metadata": {},
   "outputs": [
    {
     "name": "stdout",
     "output_type": "stream",
     "text": [
      "          Pβ2      Pα1      Pβ1      Pα2       P3          V   α   β  \\\n",
      "3013 -0.36361 -0.02525 -0.38213 -0.28113 -0.34846  20.006058  80   0   \n",
      "3017 -0.36193 -0.02862 -0.37203 -0.28113 -0.34846  20.006058  80   0   \n",
      "3029 -0.37708 -0.08080 -0.38045 -0.27271 -0.37035  20.037314  85 -20   \n",
      "3073 -0.36698 -0.13299 -0.37035 -0.26934 -0.37708  20.027975  90 -20   \n",
      "3077 -0.37203 -0.13467 -0.36698 -0.27608 -0.37708  20.027975  90 -20   \n",
      "3078 -0.36361 -0.13467 -0.35856 -0.27271 -0.37540  20.027975  90 -20   \n",
      "3079 -0.37540 -0.13131 -0.36866 -0.26934 -0.37540  20.027975  90 -20   \n",
      "3080 -0.36866 -0.13131 -0.36530 -0.26934 -0.37372  20.027975  90 -20   \n",
      "3081 -0.37372 -0.13131 -0.36866 -0.27103 -0.38045  20.027975  90 -20   \n",
      "3117 -0.35688 -0.13131 -0.35351 -0.26934 -0.37035  20.019834  90   0   \n",
      "3121 -0.36866 -0.13131 -0.37203 -0.27608 -0.38045  20.019834  90   0   \n",
      "4437 -0.85853 -0.18517 -0.79457 -0.59592 -0.83160  30.000000  85 -20   \n",
      "4444 -0.87200 -0.18349 -0.84338 -0.60771 -0.83160  29.990107  85 -15   \n",
      "4467 -0.83833 -0.19022 -0.84675 -0.60602 -0.84002  30.065874  85  -5   \n",
      "4469 -0.82823 -0.18517 -0.81140 -0.60939 -0.83160  30.024409  85   0   \n",
      "4472 -0.83328 -0.18517 -0.83497 -0.61107 -0.82992  30.024409  85   0   \n",
      "4473 -0.83328 -0.18517 -0.84170 -0.60939 -0.82150  30.024409  85   0   \n",
      "4475 -0.84170 -0.18686 -0.84507 -0.58414 -0.82655  30.024409  85   0   \n",
      "5853 -1.49654 -0.34341 -1.49654 -1.03361 -1.48476  40.037530  85  -5   \n",
      "5857 -1.48981 -0.34341 -1.48308 -1.03024 -1.48139  40.037530  85  -5   \n",
      "5859 -1.50833 -0.34341 -1.49486 -1.04708 -1.48139  40.037530  85  -5   \n",
      "7237 -2.31131 -0.51680 -2.32141 -1.58071 -2.31804  50.003579  85  -5   \n",
      "7239 -2.33656 -0.51344 -2.36013 -1.60260 -2.34329  50.031069  85   0   \n",
      "7241 -2.36013 -0.51007 -2.29616 -1.60765 -2.34161  50.031069  85   0   \n",
      "7242 -2.31131 -0.51512 -2.33824 -1.60260 -2.33319  50.031069  85   0   \n",
      "7244 -2.33824 -0.50839 -2.39211 -1.61270 -2.33656  50.031069  85   0   \n",
      "7248 -2.33488 -0.51849 -2.39043 -1.59418 -2.34161  50.031069  85   0   \n",
      "\n",
      "         _merge  \n",
      "3013  left_only  \n",
      "3017  left_only  \n",
      "3029  left_only  \n",
      "3073  left_only  \n",
      "3077  left_only  \n",
      "3078  left_only  \n",
      "3079  left_only  \n",
      "3080  left_only  \n",
      "3081  left_only  \n",
      "3117  left_only  \n",
      "3121  left_only  \n",
      "4437  left_only  \n",
      "4444  left_only  \n",
      "4467  left_only  \n",
      "4469  left_only  \n",
      "4472  left_only  \n",
      "4473  left_only  \n",
      "4475  left_only  \n",
      "5853  left_only  \n",
      "5857  left_only  \n",
      "5859  left_only  \n",
      "7237  left_only  \n",
      "7239  left_only  \n",
      "7241  left_only  \n",
      "7242  left_only  \n",
      "7244  left_only  \n",
      "7248  left_only  \n",
      "Reduce index: [3013, 3017, 3029, 3073, 3077, 3078, 3079, 3080, 3081, 3117, 3121, 4437, 4444, 4467, 4469, 4472, 4473, 4475, 5853, 5857, 5859, 7237, 7239, 7241, 7242, 7244, 7248]\n"
     ]
    }
   ],
   "source": [
    "df1 = pd.read_csv(\"z_score_3_data_all.csv\")\n",
    "df2 = pd.read_csv(\"data_clean_reduce_27_z_score_3_sec.csv\")\n",
    "missing_indices = df1.index.difference(df2.index)\n",
    "missing_rows = df1.merge(df2, how='outer', indicator=True).query('_merge == \"left_only\"')\n",
    "print(missing_rows)\n",
    "print(\"Reduce index:\", missing_rows.index.tolist())"
   ]
  },
  {
   "cell_type": "code",
   "execution_count": 195,
   "id": "bae1be5c-377a-4cbe-9f26-254f0c0fbc9b",
   "metadata": {},
   "outputs": [
    {
     "name": "stdout",
     "output_type": "stream",
     "text": [
      "          Pβ2      Pα1      Pβ1      Pα2       P3          V   α   β  \\\n",
      "3013 -0.36361 -0.02525 -0.38213 -0.28113 -0.34846  20.006058  80   0   \n",
      "3017 -0.36193 -0.02862 -0.37203 -0.28113 -0.34846  20.006058  80   0   \n",
      "3029 -0.37708 -0.08080 -0.38045 -0.27271 -0.37035  20.037314  85 -20   \n",
      "3073 -0.36698 -0.13299 -0.37035 -0.26934 -0.37708  20.027975  90 -20   \n",
      "3077 -0.37203 -0.13467 -0.36698 -0.27608 -0.37708  20.027975  90 -20   \n",
      "3078 -0.36361 -0.13467 -0.35856 -0.27271 -0.37540  20.027975  90 -20   \n",
      "3079 -0.37540 -0.13131 -0.36866 -0.26934 -0.37540  20.027975  90 -20   \n",
      "3080 -0.36866 -0.13131 -0.36530 -0.26934 -0.37372  20.027975  90 -20   \n",
      "3081 -0.37372 -0.13131 -0.36866 -0.27103 -0.38045  20.027975  90 -20   \n",
      "3117 -0.35688 -0.13131 -0.35351 -0.26934 -0.37035  20.019834  90   0   \n",
      "3121 -0.36866 -0.13131 -0.37203 -0.27608 -0.38045  20.019834  90   0   \n",
      "4437 -0.85853 -0.18517 -0.79457 -0.59592 -0.83160  30.000000  85 -20   \n",
      "4444 -0.87200 -0.18349 -0.84338 -0.60771 -0.83160  29.990107  85 -15   \n",
      "4467 -0.83833 -0.19022 -0.84675 -0.60602 -0.84002  30.065874  85  -5   \n",
      "4469 -0.82823 -0.18517 -0.81140 -0.60939 -0.83160  30.024409  85   0   \n",
      "4472 -0.83328 -0.18517 -0.83497 -0.61107 -0.82992  30.024409  85   0   \n",
      "4473 -0.83328 -0.18517 -0.84170 -0.60939 -0.82150  30.024409  85   0   \n",
      "4475 -0.84170 -0.18686 -0.84507 -0.58414 -0.82655  30.024409  85   0   \n",
      "5831 -1.51506 -0.33163 -1.51001 -1.03024 -1.48644  40.014930  85 -15   \n",
      "5832 -1.53526 -0.33163 -1.48308 -1.02688 -1.48476  40.014930  85 -15   \n",
      "5853 -1.49654 -0.34341 -1.49654 -1.03361 -1.48476  40.037530  85  -5   \n",
      "5857 -1.48981 -0.34341 -1.48308 -1.03024 -1.48139  40.037530  85  -5   \n",
      "5859 -1.50833 -0.34341 -1.49486 -1.04708 -1.48139  40.037530  85  -5   \n",
      "5877 -1.51169 -0.52859 -1.45446 -1.02519 -1.54873  40.071150  90 -20   \n",
      "5910 -1.47298 -0.53532 -1.41911 -1.02519 -1.54705  40.166769  90   0   \n",
      "7237 -2.31131 -0.51680 -2.32141 -1.58071 -2.31804  50.003579  85  -5   \n",
      "7239 -2.33656 -0.51344 -2.36013 -1.60260 -2.34329  50.031069  85   0   \n",
      "7241 -2.36013 -0.51007 -2.29616 -1.60765 -2.34161  50.031069  85   0   \n",
      "7242 -2.31131 -0.51512 -2.33824 -1.60260 -2.33319  50.031069  85   0   \n",
      "7244 -2.33824 -0.50839 -2.39211 -1.61270 -2.33656  50.031069  85   0   \n",
      "7248 -2.33488 -0.51849 -2.39043 -1.59418 -2.34161  50.031069  85   0   \n",
      "\n",
      "         _merge  \n",
      "3013  left_only  \n",
      "3017  left_only  \n",
      "3029  left_only  \n",
      "3073  left_only  \n",
      "3077  left_only  \n",
      "3078  left_only  \n",
      "3079  left_only  \n",
      "3080  left_only  \n",
      "3081  left_only  \n",
      "3117  left_only  \n",
      "3121  left_only  \n",
      "4437  left_only  \n",
      "4444  left_only  \n",
      "4467  left_only  \n",
      "4469  left_only  \n",
      "4472  left_only  \n",
      "4473  left_only  \n",
      "4475  left_only  \n",
      "5831  left_only  \n",
      "5832  left_only  \n",
      "5853  left_only  \n",
      "5857  left_only  \n",
      "5859  left_only  \n",
      "5877  left_only  \n",
      "5910  left_only  \n",
      "7237  left_only  \n",
      "7239  left_only  \n",
      "7241  left_only  \n",
      "7242  left_only  \n",
      "7244  left_only  \n",
      "7248  left_only  \n",
      "Reduce index: [3013, 3017, 3029, 3073, 3077, 3078, 3079, 3080, 3081, 3117, 3121, 4437, 4444, 4467, 4469, 4472, 4473, 4475, 5831, 5832, 5853, 5857, 5859, 5877, 5910, 7237, 7239, 7241, 7242, 7244, 7248]\n"
     ]
    }
   ],
   "source": [
    "df1 = pd.read_csv(\"z_score_3_data_all.csv\")\n",
    "df2 = pd.read_csv(\"data_clean_reduce_31_z_score_3_sec.csv\")\n",
    "missing_indices = df1.index.difference(df2.index)\n",
    "missing_rows = df1.merge(df2, how='outer', indicator=True).query('_merge == \"left_only\"')\n",
    "print(missing_rows)\n",
    "print(\"Reduce index:\", missing_rows.index.tolist())"
   ]
  },
  {
   "cell_type": "code",
   "execution_count": 196,
   "id": "b1f09ab6-703a-48eb-936c-be1c463f8a5f",
   "metadata": {},
   "outputs": [
    {
     "name": "stdout",
     "output_type": "stream",
     "text": [
      "          Pβ2      Pα1      Pβ1      Pα2       P3          V   α   β  \\\n",
      "3013 -0.36361 -0.02525 -0.38213 -0.28113 -0.34846  20.006058  80   0   \n",
      "3017 -0.36193 -0.02862 -0.37203 -0.28113 -0.34846  20.006058  80   0   \n",
      "3029 -0.37708 -0.08080 -0.38045 -0.27271 -0.37035  20.037314  85 -20   \n",
      "3073 -0.36698 -0.13299 -0.37035 -0.26934 -0.37708  20.027975  90 -20   \n",
      "3077 -0.37203 -0.13467 -0.36698 -0.27608 -0.37708  20.027975  90 -20   \n",
      "3078 -0.36361 -0.13467 -0.35856 -0.27271 -0.37540  20.027975  90 -20   \n",
      "3079 -0.37540 -0.13131 -0.36866 -0.26934 -0.37540  20.027975  90 -20   \n",
      "3080 -0.36866 -0.13131 -0.36530 -0.26934 -0.37372  20.027975  90 -20   \n",
      "3081 -0.37372 -0.13131 -0.36866 -0.27103 -0.38045  20.027975  90 -20   \n",
      "3117 -0.35688 -0.13131 -0.35351 -0.26934 -0.37035  20.019834  90   0   \n",
      "3121 -0.36866 -0.13131 -0.37203 -0.27608 -0.38045  20.019834  90   0   \n",
      "4437 -0.85853 -0.18517 -0.79457 -0.59592 -0.83160  30.000000  85 -20   \n",
      "4444 -0.87200 -0.18349 -0.84338 -0.60771 -0.83160  29.990107  85 -15   \n",
      "4467 -0.83833 -0.19022 -0.84675 -0.60602 -0.84002  30.065874  85  -5   \n",
      "4469 -0.82823 -0.18517 -0.81140 -0.60939 -0.83160  30.024409  85   0   \n",
      "4472 -0.83328 -0.18517 -0.83497 -0.61107 -0.82992  30.024409  85   0   \n",
      "4473 -0.83328 -0.18517 -0.84170 -0.60939 -0.82150  30.024409  85   0   \n",
      "4475 -0.84170 -0.18686 -0.84507 -0.58414 -0.82655  30.024409  85   0   \n",
      "5853 -1.49654 -0.34341 -1.49654 -1.03361 -1.48476  40.037530  85  -5   \n",
      "5857 -1.48981 -0.34341 -1.48308 -1.03024 -1.48139  40.037530  85  -5   \n",
      "5859 -1.50833 -0.34341 -1.49486 -1.04708 -1.48139  40.037530  85  -5   \n",
      "7237 -2.31131 -0.51680 -2.32141 -1.58071 -2.31804  50.003579  85  -5   \n",
      "7239 -2.33656 -0.51344 -2.36013 -1.60260 -2.34329  50.031069  85   0   \n",
      "7241 -2.36013 -0.51007 -2.29616 -1.60765 -2.34161  50.031069  85   0   \n",
      "7242 -2.31131 -0.51512 -2.33824 -1.60260 -2.33319  50.031069  85   0   \n",
      "7244 -2.33824 -0.50839 -2.39211 -1.61270 -2.33656  50.031069  85   0   \n",
      "7248 -2.33488 -0.51849 -2.39043 -1.59418 -2.34161  50.031069  85   0   \n",
      "\n",
      "         _merge  \n",
      "3013  left_only  \n",
      "3017  left_only  \n",
      "3029  left_only  \n",
      "3073  left_only  \n",
      "3077  left_only  \n",
      "3078  left_only  \n",
      "3079  left_only  \n",
      "3080  left_only  \n",
      "3081  left_only  \n",
      "3117  left_only  \n",
      "3121  left_only  \n",
      "4437  left_only  \n",
      "4444  left_only  \n",
      "4467  left_only  \n",
      "4469  left_only  \n",
      "4472  left_only  \n",
      "4473  left_only  \n",
      "4475  left_only  \n",
      "5853  left_only  \n",
      "5857  left_only  \n",
      "5859  left_only  \n",
      "7237  left_only  \n",
      "7239  left_only  \n",
      "7241  left_only  \n",
      "7242  left_only  \n",
      "7244  left_only  \n",
      "7248  left_only  \n",
      "Reduce index: [3013, 3017, 3029, 3073, 3077, 3078, 3079, 3080, 3081, 3117, 3121, 4437, 4444, 4467, 4469, 4472, 4473, 4475, 5853, 5857, 5859, 7237, 7239, 7241, 7242, 7244, 7248]\n"
     ]
    }
   ],
   "source": [
    "df1 = pd.read_csv(\"z_score_3_data_all.csv\")\n",
    "df2 = pd.read_csv(\"data_clean_reduce_27_z_score_3_sec.csv\")\n",
    "missing_indices = df1.index.difference(df2.index)\n",
    "missing_rows = df1.merge(df2, how='outer', indicator=True).query('_merge == \"left_only\"')\n",
    "print(missing_rows)\n",
    "print(\"Reduce index:\", missing_rows.index.tolist())"
   ]
  },
  {
   "cell_type": "code",
   "execution_count": null,
   "id": "1f285780-8a94-4e97-8eba-813b5a6a7995",
   "metadata": {},
   "outputs": [],
   "source": []
  },
  {
   "cell_type": "code",
   "execution_count": 191,
   "id": "3b6641a0-f7cb-461a-8347-d2d4fab448fa",
   "metadata": {},
   "outputs": [
    {
     "data": {
      "text/html": [
       "<div>\n",
       "<style scoped>\n",
       "    .dataframe tbody tr th:only-of-type {\n",
       "        vertical-align: middle;\n",
       "    }\n",
       "\n",
       "    .dataframe tbody tr th {\n",
       "        vertical-align: top;\n",
       "    }\n",
       "\n",
       "    .dataframe thead th {\n",
       "        text-align: right;\n",
       "    }\n",
       "</style>\n",
       "<table border=\"1\" class=\"dataframe\">\n",
       "  <thead>\n",
       "    <tr style=\"text-align: right;\">\n",
       "      <th></th>\n",
       "      <th>Pβ2</th>\n",
       "      <th>Pα1</th>\n",
       "      <th>Pβ1</th>\n",
       "      <th>Pα2</th>\n",
       "      <th>P3</th>\n",
       "      <th>V</th>\n",
       "      <th>α</th>\n",
       "      <th>β</th>\n",
       "    </tr>\n",
       "  </thead>\n",
       "  <tbody>\n",
       "    <tr>\n",
       "      <th>780</th>\n",
       "      <td>-0.82823</td>\n",
       "      <td>-0.18517</td>\n",
       "      <td>-0.81140</td>\n",
       "      <td>-0.60939</td>\n",
       "      <td>-0.83160</td>\n",
       "      <td>30.024409</td>\n",
       "      <td>85</td>\n",
       "      <td>0</td>\n",
       "    </tr>\n",
       "    <tr>\n",
       "      <th>781</th>\n",
       "      <td>-0.86358</td>\n",
       "      <td>-0.18349</td>\n",
       "      <td>-0.83665</td>\n",
       "      <td>-0.61107</td>\n",
       "      <td>-0.83328</td>\n",
       "      <td>30.024409</td>\n",
       "      <td>85</td>\n",
       "      <td>0</td>\n",
       "    </tr>\n",
       "    <tr>\n",
       "      <th>782</th>\n",
       "      <td>-0.86022</td>\n",
       "      <td>-0.18517</td>\n",
       "      <td>-0.83833</td>\n",
       "      <td>-0.61949</td>\n",
       "      <td>-0.83665</td>\n",
       "      <td>30.024409</td>\n",
       "      <td>85</td>\n",
       "      <td>0</td>\n",
       "    </tr>\n",
       "    <tr>\n",
       "      <th>783</th>\n",
       "      <td>-0.83328</td>\n",
       "      <td>-0.18517</td>\n",
       "      <td>-0.83497</td>\n",
       "      <td>-0.61107</td>\n",
       "      <td>-0.82992</td>\n",
       "      <td>30.024409</td>\n",
       "      <td>85</td>\n",
       "      <td>0</td>\n",
       "    </tr>\n",
       "    <tr>\n",
       "      <th>784</th>\n",
       "      <td>-0.83328</td>\n",
       "      <td>-0.18517</td>\n",
       "      <td>-0.84170</td>\n",
       "      <td>-0.60939</td>\n",
       "      <td>-0.82150</td>\n",
       "      <td>30.024409</td>\n",
       "      <td>85</td>\n",
       "      <td>0</td>\n",
       "    </tr>\n",
       "    <tr>\n",
       "      <th>785</th>\n",
       "      <td>-0.87369</td>\n",
       "      <td>-0.18854</td>\n",
       "      <td>-0.82318</td>\n",
       "      <td>-0.60939</td>\n",
       "      <td>-0.83328</td>\n",
       "      <td>30.024409</td>\n",
       "      <td>85</td>\n",
       "      <td>0</td>\n",
       "    </tr>\n",
       "    <tr>\n",
       "      <th>786</th>\n",
       "      <td>-0.84170</td>\n",
       "      <td>-0.18686</td>\n",
       "      <td>-0.84507</td>\n",
       "      <td>-0.58414</td>\n",
       "      <td>-0.82655</td>\n",
       "      <td>30.024409</td>\n",
       "      <td>85</td>\n",
       "      <td>0</td>\n",
       "    </tr>\n",
       "    <tr>\n",
       "      <th>787</th>\n",
       "      <td>-0.85853</td>\n",
       "      <td>-0.19022</td>\n",
       "      <td>-0.85853</td>\n",
       "      <td>-0.60266</td>\n",
       "      <td>-0.83160</td>\n",
       "      <td>30.024409</td>\n",
       "      <td>85</td>\n",
       "      <td>0</td>\n",
       "    </tr>\n",
       "    <tr>\n",
       "      <th>788</th>\n",
       "      <td>-0.85180</td>\n",
       "      <td>-0.18854</td>\n",
       "      <td>-0.85685</td>\n",
       "      <td>-0.61107</td>\n",
       "      <td>-0.82823</td>\n",
       "      <td>30.024409</td>\n",
       "      <td>85</td>\n",
       "      <td>0</td>\n",
       "    </tr>\n",
       "    <tr>\n",
       "      <th>789</th>\n",
       "      <td>-0.85012</td>\n",
       "      <td>-0.18517</td>\n",
       "      <td>-0.84170</td>\n",
       "      <td>-0.60771</td>\n",
       "      <td>-0.83328</td>\n",
       "      <td>30.024409</td>\n",
       "      <td>85</td>\n",
       "      <td>0</td>\n",
       "    </tr>\n",
       "  </tbody>\n",
       "</table>\n",
       "</div>"
      ],
      "text/plain": [
       "         Pβ2      Pα1      Pβ1      Pα2       P3          V   α  β\n",
       "780 -0.82823 -0.18517 -0.81140 -0.60939 -0.83160  30.024409  85  0\n",
       "781 -0.86358 -0.18349 -0.83665 -0.61107 -0.83328  30.024409  85  0\n",
       "782 -0.86022 -0.18517 -0.83833 -0.61949 -0.83665  30.024409  85  0\n",
       "783 -0.83328 -0.18517 -0.83497 -0.61107 -0.82992  30.024409  85  0\n",
       "784 -0.83328 -0.18517 -0.84170 -0.60939 -0.82150  30.024409  85  0\n",
       "785 -0.87369 -0.18854 -0.82318 -0.60939 -0.83328  30.024409  85  0\n",
       "786 -0.84170 -0.18686 -0.84507 -0.58414 -0.82655  30.024409  85  0\n",
       "787 -0.85853 -0.19022 -0.85853 -0.60266 -0.83160  30.024409  85  0\n",
       "788 -0.85180 -0.18854 -0.85685 -0.61107 -0.82823  30.024409  85  0\n",
       "789 -0.85012 -0.18517 -0.84170 -0.60771 -0.83328  30.024409  85  0"
      ]
     },
     "execution_count": 191,
     "metadata": {},
     "output_type": "execute_result"
    }
   ],
   "source": [
    "df1[(df1['V'] >= 30) & (df1['V'] <= 31) & (df1['α'] == 85) & (df1['β'] == 0)]\n",
    "'''\n",
    "4469 -0.82823 -0.18517 -0.81140 -0.60939 -0.83160  30.024409  85   0   \n",
    "4472 -0.83328 -0.18517 -0.83497 -0.61107 -0.82992  30.024409  85   0   \n",
    "4473 -0.83328 -0.18517 -0.84170 -0.60939 -0.82150  30.024409  85   0   \n",
    "4475 -0.84170 -0.18686 -0.84507 -0.58414 -0.82655  30.024409  85   0   \n",
    "4476 -0.85853 -0.19022 -0.85853 -0.60266 -0.83160  30.024409  85   0   \n",
    "4477 -0.85180 -0.18854 -0.85685 -0.61107 -0.82823  30.024409  85   0   \n",
    "4478 -0.85012 -0.18517 -0.84170 -0.60771 -0.83328  30.024409  85   0 \n",
    "'''\n",
    "'''\n",
    "780\t-0.82823\t-0.18517\t-0.81140\t-0.60939\t-0.83160\t30.024409\t85\t0\n",
    "783\t-0.83328\t-0.18517\t-0.83497\t-0.61107\t-0.82992\t30.024409\t85\t0\n",
    "784\t-0.83328\t-0.18517\t-0.84170\t-0.60939\t-0.82150\t30.024409\t85\t0\n",
    "786\t-0.84170\t-0.18686\t-0.84507\t-0.58414\t-0.82655\t30.024409\t85\t0\n",
    "787\t-0.85853\t-0.19022\t-0.85853\t-0.60266\t-0.83160\t30.024409\t85\t0\n",
    "788\t-0.85180\t-0.18854\t-0.85685\t-0.61107\t-0.82823\t30.024409\t85\t0\n",
    "789\t-0.85012\t-0.18517\t-0.84170\t-0.60771\t-0.83328\t30.024409\t85\t0\n",
    "'''\n",
    "'''\n",
    "   Pβ2\t       Pα1\t        Pβ1\t       Pα2\t        P3\t        V\t    α\tβ\n",
    "-0.86358\t-0.18349\t-0.83665\t-0.61107\t-0.83328\t30.024409\t85\t0\n",
    "-0.86022\t-0.18517\t-0.83833\t-0.61949\t-0.83665\t30.024409\t85\t0\n",
    "-0.87369\t-0.18854\t-0.82318\t-0.60939\t-0.83328\t30.024409\t85\t0\n",
    "'''"
   ]
  },
  {
   "cell_type": "code",
   "execution_count": 178,
   "id": "21febcf9-3429-4e8c-9d7d-0d61349ff3ed",
   "metadata": {},
   "outputs": [
    {
     "name": "stdout",
     "output_type": "stream",
     "text": [
      "          Pβ2      Pα1      Pβ1      Pα2       P3          V   α   β  \\\n",
      "1627 -0.80803  1.26087 -1.24908 -1.78272 -0.23568  50.012185  45  -5   \n",
      "1757 -0.13636  0.21716 -0.18854 -0.26598 -0.03030  20.115891  45  -5   \n",
      "2503  0.36361  0.00337 -0.27271  0.00000  0.80467  40.064769   0 -10   \n",
      "4629 -0.21043  0.40738 -0.55889 -0.64306 -0.14309  30.064446  45 -20   \n",
      "6366  0.02862  0.01852  0.02693  0.04545  0.46799  30.045805   0   0   \n",
      "\n",
      "         _merge  \n",
      "1627  left_only  \n",
      "1757  left_only  \n",
      "2503  left_only  \n",
      "4629  left_only  \n",
      "6366  left_only  \n",
      "Reduce index: [1627, 1757, 2503, 4629, 6366]\n"
     ]
    }
   ],
   "source": [
    "df1 = pd.read_csv(\"data_all.csv\")\n",
    "df2 = pd.read_csv(\"z_score_3_data_all.csv\")\n",
    "missing_indices = df1.index.difference(df2.index)\n",
    "missing_rows = df1.merge(df2, how='outer', indicator=True).query('_merge == \"left_only\"')\n",
    "print(missing_rows)\n",
    "print(\"Reduce index:\", missing_rows.index.tolist())"
   ]
  },
  {
   "cell_type": "code",
   "execution_count": 179,
   "id": "9e5e2f95-2ca2-4fc9-b1f9-eea1026cab68",
   "metadata": {},
   "outputs": [
    {
     "name": "stdout",
     "output_type": "stream",
     "text": [
      "          Pβ2      Pα1      Pβ1      Pα2       P3          V   α   β  \\\n",
      "327  -0.34005  0.47472 -0.37035 -0.58414 -0.05219  29.986933  45   0   \n",
      "1627 -0.80803  1.26087 -1.24908 -1.78272 -0.23568  50.012185  45  -5   \n",
      "1757 -0.13636  0.21716 -0.18854 -0.26598 -0.03030  20.115891  45  -5   \n",
      "2276  0.09090  0.00673 -0.06229  0.00337  0.19864  20.065718   0 -10   \n",
      "2382 -0.11952  0.20537 -0.20874 -0.26766 -0.04545  20.034440  45 -10   \n",
      "2503  0.36361  0.00337 -0.27271  0.00000  0.80467  40.064769   0 -10   \n",
      "4629 -0.21043  0.40738 -0.55889 -0.64306 -0.14309  30.064446  45 -20   \n",
      "6366  0.02862  0.01852  0.02693  0.04545  0.46799  30.045805   0   0   \n",
      "\n",
      "         _merge  \n",
      "327   left_only  \n",
      "1627  left_only  \n",
      "1757  left_only  \n",
      "2276  left_only  \n",
      "2382  left_only  \n",
      "2503  left_only  \n",
      "4629  left_only  \n",
      "6366  left_only  \n",
      "Reduce index: [327, 1627, 1757, 2276, 2382, 2503, 4629, 6366]\n"
     ]
    }
   ],
   "source": [
    "df1 = pd.read_csv(\"data_all.csv\")\n",
    "df2 = pd.read_csv(\"z_score_2_9_data_all.csv\")\n",
    "missing_indices = df1.index.difference(df2.index)\n",
    "missing_rows = df1.merge(df2, how='outer', indicator=True).query('_merge == \"left_only\"')\n",
    "print(missing_rows)\n",
    "print(\"Reduce index:\", missing_rows.index.tolist())"
   ]
  },
  {
   "cell_type": "code",
   "execution_count": 180,
   "id": "7185130d-864a-4578-b8db-fcca3b0603c3",
   "metadata": {},
   "outputs": [
    {
     "name": "stdout",
     "output_type": "stream",
     "text": [
      "6742\n"
     ]
    }
   ],
   "source": [
    "print(len(df2))"
   ]
  },
  {
   "cell_type": "code",
   "execution_count": 166,
   "id": "df9e0e55-1fb5-4a53-84cf-66c9b6ab630c",
   "metadata": {},
   "outputs": [
    {
     "data": {
      "text/html": [
       "<div>\n",
       "<style scoped>\n",
       "    .dataframe tbody tr th:only-of-type {\n",
       "        vertical-align: middle;\n",
       "    }\n",
       "\n",
       "    .dataframe tbody tr th {\n",
       "        vertical-align: top;\n",
       "    }\n",
       "\n",
       "    .dataframe thead th {\n",
       "        text-align: right;\n",
       "    }\n",
       "</style>\n",
       "<table border=\"1\" class=\"dataframe\">\n",
       "  <thead>\n",
       "    <tr style=\"text-align: right;\">\n",
       "      <th></th>\n",
       "      <th>Pβ2</th>\n",
       "      <th>Pα1</th>\n",
       "      <th>Pβ1</th>\n",
       "      <th>Pα2</th>\n",
       "      <th>P3</th>\n",
       "      <th>V</th>\n",
       "      <th>α</th>\n",
       "      <th>β</th>\n",
       "    </tr>\n",
       "  </thead>\n",
       "  <tbody>\n",
       "    <tr>\n",
       "      <th>3065</th>\n",
       "      <td>0.03198</td>\n",
       "      <td>0.01852</td>\n",
       "      <td>0.02525</td>\n",
       "      <td>0.03703</td>\n",
       "      <td>0.46967</td>\n",
       "      <td>30.028268</td>\n",
       "      <td>0</td>\n",
       "      <td>0</td>\n",
       "    </tr>\n",
       "    <tr>\n",
       "      <th>3066</th>\n",
       "      <td>0.03367</td>\n",
       "      <td>0.02188</td>\n",
       "      <td>0.03030</td>\n",
       "      <td>0.04040</td>\n",
       "      <td>0.47472</td>\n",
       "      <td>30.028268</td>\n",
       "      <td>0</td>\n",
       "      <td>0</td>\n",
       "    </tr>\n",
       "    <tr>\n",
       "      <th>3067</th>\n",
       "      <td>0.03198</td>\n",
       "      <td>0.02020</td>\n",
       "      <td>0.02693</td>\n",
       "      <td>0.04040</td>\n",
       "      <td>0.47472</td>\n",
       "      <td>30.028268</td>\n",
       "      <td>0</td>\n",
       "      <td>0</td>\n",
       "    </tr>\n",
       "    <tr>\n",
       "      <th>3068</th>\n",
       "      <td>0.03198</td>\n",
       "      <td>0.02020</td>\n",
       "      <td>0.02357</td>\n",
       "      <td>0.03872</td>\n",
       "      <td>0.47304</td>\n",
       "      <td>30.028268</td>\n",
       "      <td>0</td>\n",
       "      <td>0</td>\n",
       "    </tr>\n",
       "    <tr>\n",
       "      <th>3069</th>\n",
       "      <td>0.03198</td>\n",
       "      <td>0.01683</td>\n",
       "      <td>0.02357</td>\n",
       "      <td>0.04882</td>\n",
       "      <td>0.46799</td>\n",
       "      <td>30.045805</td>\n",
       "      <td>0</td>\n",
       "      <td>0</td>\n",
       "    </tr>\n",
       "    <tr>\n",
       "      <th>3070</th>\n",
       "      <td>0.03198</td>\n",
       "      <td>0.01852</td>\n",
       "      <td>0.02357</td>\n",
       "      <td>0.04714</td>\n",
       "      <td>0.46799</td>\n",
       "      <td>30.045805</td>\n",
       "      <td>0</td>\n",
       "      <td>0</td>\n",
       "    </tr>\n",
       "    <tr>\n",
       "      <th>3071</th>\n",
       "      <td>0.03198</td>\n",
       "      <td>0.01683</td>\n",
       "      <td>0.02693</td>\n",
       "      <td>0.04545</td>\n",
       "      <td>0.46799</td>\n",
       "      <td>30.045805</td>\n",
       "      <td>0</td>\n",
       "      <td>0</td>\n",
       "    </tr>\n",
       "    <tr>\n",
       "      <th>3072</th>\n",
       "      <td>0.03198</td>\n",
       "      <td>0.01683</td>\n",
       "      <td>0.02693</td>\n",
       "      <td>0.04545</td>\n",
       "      <td>0.46799</td>\n",
       "      <td>30.045805</td>\n",
       "      <td>0</td>\n",
       "      <td>0</td>\n",
       "    </tr>\n",
       "    <tr>\n",
       "      <th>3073</th>\n",
       "      <td>0.03367</td>\n",
       "      <td>0.01683</td>\n",
       "      <td>0.02693</td>\n",
       "      <td>0.04545</td>\n",
       "      <td>0.46967</td>\n",
       "      <td>30.045805</td>\n",
       "      <td>0</td>\n",
       "      <td>0</td>\n",
       "    </tr>\n",
       "    <tr>\n",
       "      <th>3074</th>\n",
       "      <td>0.03367</td>\n",
       "      <td>0.01852</td>\n",
       "      <td>0.02525</td>\n",
       "      <td>0.04545</td>\n",
       "      <td>0.46799</td>\n",
       "      <td>30.045805</td>\n",
       "      <td>0</td>\n",
       "      <td>0</td>\n",
       "    </tr>\n",
       "    <tr>\n",
       "      <th>3075</th>\n",
       "      <td>0.03367</td>\n",
       "      <td>0.01683</td>\n",
       "      <td>0.02357</td>\n",
       "      <td>0.04714</td>\n",
       "      <td>0.46799</td>\n",
       "      <td>30.045805</td>\n",
       "      <td>0</td>\n",
       "      <td>0</td>\n",
       "    </tr>\n",
       "    <tr>\n",
       "      <th>3076</th>\n",
       "      <td>0.03198</td>\n",
       "      <td>0.01852</td>\n",
       "      <td>0.02525</td>\n",
       "      <td>0.04714</td>\n",
       "      <td>0.46799</td>\n",
       "      <td>30.045805</td>\n",
       "      <td>0</td>\n",
       "      <td>0</td>\n",
       "    </tr>\n",
       "    <tr>\n",
       "      <th>3077</th>\n",
       "      <td>0.03367</td>\n",
       "      <td>0.02020</td>\n",
       "      <td>0.02693</td>\n",
       "      <td>0.04882</td>\n",
       "      <td>0.47135</td>\n",
       "      <td>30.045805</td>\n",
       "      <td>0</td>\n",
       "      <td>0</td>\n",
       "    </tr>\n",
       "    <tr>\n",
       "      <th>3078</th>\n",
       "      <td>-0.12962</td>\n",
       "      <td>-0.00337</td>\n",
       "      <td>0.19696</td>\n",
       "      <td>0.02188</td>\n",
       "      <td>0.45957</td>\n",
       "      <td>30.069410</td>\n",
       "      <td>0</td>\n",
       "      <td>10</td>\n",
       "    </tr>\n",
       "    <tr>\n",
       "      <th>3079</th>\n",
       "      <td>-0.13131</td>\n",
       "      <td>-0.00337</td>\n",
       "      <td>0.19696</td>\n",
       "      <td>0.02357</td>\n",
       "      <td>0.45957</td>\n",
       "      <td>30.069410</td>\n",
       "      <td>0</td>\n",
       "      <td>10</td>\n",
       "    </tr>\n",
       "    <tr>\n",
       "      <th>3080</th>\n",
       "      <td>-0.13299</td>\n",
       "      <td>-0.00505</td>\n",
       "      <td>0.19696</td>\n",
       "      <td>0.02188</td>\n",
       "      <td>0.45789</td>\n",
       "      <td>30.069410</td>\n",
       "      <td>0</td>\n",
       "      <td>10</td>\n",
       "    </tr>\n",
       "    <tr>\n",
       "      <th>3081</th>\n",
       "      <td>-0.13131</td>\n",
       "      <td>-0.00337</td>\n",
       "      <td>0.19359</td>\n",
       "      <td>0.02020</td>\n",
       "      <td>0.45620</td>\n",
       "      <td>30.069410</td>\n",
       "      <td>0</td>\n",
       "      <td>10</td>\n",
       "    </tr>\n",
       "    <tr>\n",
       "      <th>3082</th>\n",
       "      <td>-0.13299</td>\n",
       "      <td>-0.00337</td>\n",
       "      <td>0.19696</td>\n",
       "      <td>0.02188</td>\n",
       "      <td>0.45789</td>\n",
       "      <td>30.069410</td>\n",
       "      <td>0</td>\n",
       "      <td>10</td>\n",
       "    </tr>\n",
       "    <tr>\n",
       "      <th>3083</th>\n",
       "      <td>-0.12962</td>\n",
       "      <td>-0.00168</td>\n",
       "      <td>0.19696</td>\n",
       "      <td>0.02357</td>\n",
       "      <td>0.45957</td>\n",
       "      <td>30.069410</td>\n",
       "      <td>0</td>\n",
       "      <td>10</td>\n",
       "    </tr>\n",
       "    <tr>\n",
       "      <th>3084</th>\n",
       "      <td>-0.13467</td>\n",
       "      <td>-0.00505</td>\n",
       "      <td>0.19527</td>\n",
       "      <td>0.02020</td>\n",
       "      <td>0.45957</td>\n",
       "      <td>30.069410</td>\n",
       "      <td>0</td>\n",
       "      <td>10</td>\n",
       "    </tr>\n",
       "    <tr>\n",
       "      <th>3085</th>\n",
       "      <td>-0.13131</td>\n",
       "      <td>-0.00337</td>\n",
       "      <td>0.19359</td>\n",
       "      <td>0.02188</td>\n",
       "      <td>0.45957</td>\n",
       "      <td>30.069410</td>\n",
       "      <td>0</td>\n",
       "      <td>10</td>\n",
       "    </tr>\n",
       "    <tr>\n",
       "      <th>3086</th>\n",
       "      <td>-0.13131</td>\n",
       "      <td>-0.00337</td>\n",
       "      <td>0.19696</td>\n",
       "      <td>0.02188</td>\n",
       "      <td>0.45957</td>\n",
       "      <td>30.069410</td>\n",
       "      <td>0</td>\n",
       "      <td>10</td>\n",
       "    </tr>\n",
       "    <tr>\n",
       "      <th>3087</th>\n",
       "      <td>-0.13131</td>\n",
       "      <td>-0.00337</td>\n",
       "      <td>0.19696</td>\n",
       "      <td>0.02188</td>\n",
       "      <td>0.45957</td>\n",
       "      <td>30.069410</td>\n",
       "      <td>0</td>\n",
       "      <td>10</td>\n",
       "    </tr>\n",
       "    <tr>\n",
       "      <th>3088</th>\n",
       "      <td>-0.27439</td>\n",
       "      <td>-0.04714</td>\n",
       "      <td>0.35520</td>\n",
       "      <td>-0.03367</td>\n",
       "      <td>0.39223</td>\n",
       "      <td>30.055411</td>\n",
       "      <td>0</td>\n",
       "      <td>20</td>\n",
       "    </tr>\n",
       "    <tr>\n",
       "      <th>3089</th>\n",
       "      <td>-0.27103</td>\n",
       "      <td>-0.04714</td>\n",
       "      <td>0.35688</td>\n",
       "      <td>-0.03367</td>\n",
       "      <td>0.39223</td>\n",
       "      <td>30.055411</td>\n",
       "      <td>0</td>\n",
       "      <td>20</td>\n",
       "    </tr>\n",
       "  </tbody>\n",
       "</table>\n",
       "</div>"
      ],
      "text/plain": [
       "          Pβ2      Pα1      Pβ1      Pα2       P3          V  α   β\n",
       "3065  0.03198  0.01852  0.02525  0.03703  0.46967  30.028268  0   0\n",
       "3066  0.03367  0.02188  0.03030  0.04040  0.47472  30.028268  0   0\n",
       "3067  0.03198  0.02020  0.02693  0.04040  0.47472  30.028268  0   0\n",
       "3068  0.03198  0.02020  0.02357  0.03872  0.47304  30.028268  0   0\n",
       "3069  0.03198  0.01683  0.02357  0.04882  0.46799  30.045805  0   0\n",
       "3070  0.03198  0.01852  0.02357  0.04714  0.46799  30.045805  0   0\n",
       "3071  0.03198  0.01683  0.02693  0.04545  0.46799  30.045805  0   0\n",
       "3072  0.03198  0.01683  0.02693  0.04545  0.46799  30.045805  0   0\n",
       "3073  0.03367  0.01683  0.02693  0.04545  0.46967  30.045805  0   0\n",
       "3074  0.03367  0.01852  0.02525  0.04545  0.46799  30.045805  0   0\n",
       "3075  0.03367  0.01683  0.02357  0.04714  0.46799  30.045805  0   0\n",
       "3076  0.03198  0.01852  0.02525  0.04714  0.46799  30.045805  0   0\n",
       "3077  0.03367  0.02020  0.02693  0.04882  0.47135  30.045805  0   0\n",
       "3078 -0.12962 -0.00337  0.19696  0.02188  0.45957  30.069410  0  10\n",
       "3079 -0.13131 -0.00337  0.19696  0.02357  0.45957  30.069410  0  10\n",
       "3080 -0.13299 -0.00505  0.19696  0.02188  0.45789  30.069410  0  10\n",
       "3081 -0.13131 -0.00337  0.19359  0.02020  0.45620  30.069410  0  10\n",
       "3082 -0.13299 -0.00337  0.19696  0.02188  0.45789  30.069410  0  10\n",
       "3083 -0.12962 -0.00168  0.19696  0.02357  0.45957  30.069410  0  10\n",
       "3084 -0.13467 -0.00505  0.19527  0.02020  0.45957  30.069410  0  10\n",
       "3085 -0.13131 -0.00337  0.19359  0.02188  0.45957  30.069410  0  10\n",
       "3086 -0.13131 -0.00337  0.19696  0.02188  0.45957  30.069410  0  10\n",
       "3087 -0.13131 -0.00337  0.19696  0.02188  0.45957  30.069410  0  10\n",
       "3088 -0.27439 -0.04714  0.35520 -0.03367  0.39223  30.055411  0  20\n",
       "3089 -0.27103 -0.04714  0.35688 -0.03367  0.39223  30.055411  0  20"
      ]
     },
     "execution_count": 166,
     "metadata": {},
     "output_type": "execute_result"
    }
   ],
   "source": [
    "df1.iloc[3065:3090]"
   ]
  },
  {
   "cell_type": "code",
   "execution_count": 170,
   "id": "78570355-1d68-4912-af49-97c46f02ba48",
   "metadata": {},
   "outputs": [
    {
     "data": {
      "text/html": [
       "<div>\n",
       "<style scoped>\n",
       "    .dataframe tbody tr th:only-of-type {\n",
       "        vertical-align: middle;\n",
       "    }\n",
       "\n",
       "    .dataframe tbody tr th {\n",
       "        vertical-align: top;\n",
       "    }\n",
       "\n",
       "    .dataframe thead th {\n",
       "        text-align: right;\n",
       "    }\n",
       "</style>\n",
       "<table border=\"1\" class=\"dataframe\">\n",
       "  <thead>\n",
       "    <tr style=\"text-align: right;\">\n",
       "      <th></th>\n",
       "      <th>Pβ2</th>\n",
       "      <th>Pα1</th>\n",
       "      <th>Pβ1</th>\n",
       "      <th>Pα2</th>\n",
       "      <th>P3</th>\n",
       "      <th>V</th>\n",
       "      <th>α</th>\n",
       "      <th>β</th>\n",
       "    </tr>\n",
       "  </thead>\n",
       "  <tbody>\n",
       "    <tr>\n",
       "      <th>3110</th>\n",
       "      <td>0.27776</td>\n",
       "      <td>0.07070</td>\n",
       "      <td>-0.23231</td>\n",
       "      <td>-0.10269</td>\n",
       "      <td>0.41243</td>\n",
       "      <td>29.976117</td>\n",
       "      <td>5</td>\n",
       "      <td>-15</td>\n",
       "    </tr>\n",
       "    <tr>\n",
       "      <th>3111</th>\n",
       "      <td>0.27944</td>\n",
       "      <td>0.07239</td>\n",
       "      <td>-0.23399</td>\n",
       "      <td>-0.10269</td>\n",
       "      <td>0.41412</td>\n",
       "      <td>29.976117</td>\n",
       "      <td>5</td>\n",
       "      <td>-15</td>\n",
       "    </tr>\n",
       "    <tr>\n",
       "      <th>3112</th>\n",
       "      <td>0.27944</td>\n",
       "      <td>0.07070</td>\n",
       "      <td>-0.23063</td>\n",
       "      <td>-0.10100</td>\n",
       "      <td>0.41412</td>\n",
       "      <td>29.976117</td>\n",
       "      <td>5</td>\n",
       "      <td>-15</td>\n",
       "    </tr>\n",
       "    <tr>\n",
       "      <th>3113</th>\n",
       "      <td>0.27944</td>\n",
       "      <td>0.07070</td>\n",
       "      <td>-0.23231</td>\n",
       "      <td>-0.10100</td>\n",
       "      <td>0.41412</td>\n",
       "      <td>29.976117</td>\n",
       "      <td>5</td>\n",
       "      <td>-15</td>\n",
       "    </tr>\n",
       "    <tr>\n",
       "      <th>3114</th>\n",
       "      <td>0.27944</td>\n",
       "      <td>0.07070</td>\n",
       "      <td>-0.23568</td>\n",
       "      <td>-0.10437</td>\n",
       "      <td>0.41412</td>\n",
       "      <td>29.976117</td>\n",
       "      <td>5</td>\n",
       "      <td>-15</td>\n",
       "    </tr>\n",
       "    <tr>\n",
       "      <th>3115</th>\n",
       "      <td>0.27776</td>\n",
       "      <td>0.07070</td>\n",
       "      <td>-0.23231</td>\n",
       "      <td>-0.10437</td>\n",
       "      <td>0.41243</td>\n",
       "      <td>29.976117</td>\n",
       "      <td>5</td>\n",
       "      <td>-15</td>\n",
       "    </tr>\n",
       "    <tr>\n",
       "      <th>3116</th>\n",
       "      <td>0.27944</td>\n",
       "      <td>0.07070</td>\n",
       "      <td>-0.23231</td>\n",
       "      <td>-0.10437</td>\n",
       "      <td>0.41243</td>\n",
       "      <td>29.976117</td>\n",
       "      <td>5</td>\n",
       "      <td>-15</td>\n",
       "    </tr>\n",
       "    <tr>\n",
       "      <th>3117</th>\n",
       "      <td>0.28113</td>\n",
       "      <td>0.07239</td>\n",
       "      <td>-0.23231</td>\n",
       "      <td>-0.10100</td>\n",
       "      <td>0.41412</td>\n",
       "      <td>29.976117</td>\n",
       "      <td>5</td>\n",
       "      <td>-15</td>\n",
       "    </tr>\n",
       "    <tr>\n",
       "      <th>3118</th>\n",
       "      <td>0.20201</td>\n",
       "      <td>0.09595</td>\n",
       "      <td>-0.15319</td>\n",
       "      <td>-0.08417</td>\n",
       "      <td>0.44273</td>\n",
       "      <td>30.041130</td>\n",
       "      <td>5</td>\n",
       "      <td>-10</td>\n",
       "    </tr>\n",
       "    <tr>\n",
       "      <th>3119</th>\n",
       "      <td>0.20201</td>\n",
       "      <td>0.09764</td>\n",
       "      <td>-0.15319</td>\n",
       "      <td>-0.08417</td>\n",
       "      <td>0.44273</td>\n",
       "      <td>30.041130</td>\n",
       "      <td>5</td>\n",
       "      <td>-10</td>\n",
       "    </tr>\n",
       "    <tr>\n",
       "      <th>3120</th>\n",
       "      <td>0.19864</td>\n",
       "      <td>0.09595</td>\n",
       "      <td>-0.15656</td>\n",
       "      <td>-0.08417</td>\n",
       "      <td>0.44105</td>\n",
       "      <td>30.041130</td>\n",
       "      <td>5</td>\n",
       "      <td>-10</td>\n",
       "    </tr>\n",
       "    <tr>\n",
       "      <th>3121</th>\n",
       "      <td>0.20201</td>\n",
       "      <td>0.09764</td>\n",
       "      <td>-0.15487</td>\n",
       "      <td>-0.08417</td>\n",
       "      <td>0.44273</td>\n",
       "      <td>30.041130</td>\n",
       "      <td>5</td>\n",
       "      <td>-10</td>\n",
       "    </tr>\n",
       "    <tr>\n",
       "      <th>3122</th>\n",
       "      <td>0.20369</td>\n",
       "      <td>0.09764</td>\n",
       "      <td>-0.14982</td>\n",
       "      <td>-0.08249</td>\n",
       "      <td>0.44442</td>\n",
       "      <td>30.041130</td>\n",
       "      <td>5</td>\n",
       "      <td>-10</td>\n",
       "    </tr>\n",
       "    <tr>\n",
       "      <th>3123</th>\n",
       "      <td>0.20369</td>\n",
       "      <td>0.09764</td>\n",
       "      <td>-0.15319</td>\n",
       "      <td>-0.08417</td>\n",
       "      <td>0.44273</td>\n",
       "      <td>30.041130</td>\n",
       "      <td>5</td>\n",
       "      <td>-10</td>\n",
       "    </tr>\n",
       "    <tr>\n",
       "      <th>3124</th>\n",
       "      <td>0.20201</td>\n",
       "      <td>0.09764</td>\n",
       "      <td>-0.15656</td>\n",
       "      <td>-0.08585</td>\n",
       "      <td>0.44442</td>\n",
       "      <td>30.041130</td>\n",
       "      <td>5</td>\n",
       "      <td>-10</td>\n",
       "    </tr>\n",
       "    <tr>\n",
       "      <th>3125</th>\n",
       "      <td>0.20032</td>\n",
       "      <td>0.09595</td>\n",
       "      <td>-0.15656</td>\n",
       "      <td>-0.08417</td>\n",
       "      <td>0.44273</td>\n",
       "      <td>30.041130</td>\n",
       "      <td>5</td>\n",
       "      <td>-10</td>\n",
       "    </tr>\n",
       "    <tr>\n",
       "      <th>3126</th>\n",
       "      <td>0.20201</td>\n",
       "      <td>0.09764</td>\n",
       "      <td>-0.15319</td>\n",
       "      <td>-0.08417</td>\n",
       "      <td>0.44442</td>\n",
       "      <td>30.041130</td>\n",
       "      <td>5</td>\n",
       "      <td>-10</td>\n",
       "    </tr>\n",
       "    <tr>\n",
       "      <th>3127</th>\n",
       "      <td>0.20201</td>\n",
       "      <td>0.09764</td>\n",
       "      <td>-0.15319</td>\n",
       "      <td>-0.08417</td>\n",
       "      <td>0.44273</td>\n",
       "      <td>30.041130</td>\n",
       "      <td>5</td>\n",
       "      <td>-10</td>\n",
       "    </tr>\n",
       "    <tr>\n",
       "      <th>3128</th>\n",
       "      <td>0.12120</td>\n",
       "      <td>0.11447</td>\n",
       "      <td>-0.06902</td>\n",
       "      <td>-0.06565</td>\n",
       "      <td>0.46967</td>\n",
       "      <td>30.096583</td>\n",
       "      <td>5</td>\n",
       "      <td>-5</td>\n",
       "    </tr>\n",
       "    <tr>\n",
       "      <th>3129</th>\n",
       "      <td>0.11952</td>\n",
       "      <td>0.11447</td>\n",
       "      <td>-0.06734</td>\n",
       "      <td>-0.06734</td>\n",
       "      <td>0.46967</td>\n",
       "      <td>30.096583</td>\n",
       "      <td>5</td>\n",
       "      <td>-5</td>\n",
       "    </tr>\n",
       "  </tbody>\n",
       "</table>\n",
       "</div>"
      ],
      "text/plain": [
       "          Pβ2      Pα1      Pβ1      Pα2       P3          V  α   β\n",
       "3110  0.27776  0.07070 -0.23231 -0.10269  0.41243  29.976117  5 -15\n",
       "3111  0.27944  0.07239 -0.23399 -0.10269  0.41412  29.976117  5 -15\n",
       "3112  0.27944  0.07070 -0.23063 -0.10100  0.41412  29.976117  5 -15\n",
       "3113  0.27944  0.07070 -0.23231 -0.10100  0.41412  29.976117  5 -15\n",
       "3114  0.27944  0.07070 -0.23568 -0.10437  0.41412  29.976117  5 -15\n",
       "3115  0.27776  0.07070 -0.23231 -0.10437  0.41243  29.976117  5 -15\n",
       "3116  0.27944  0.07070 -0.23231 -0.10437  0.41243  29.976117  5 -15\n",
       "3117  0.28113  0.07239 -0.23231 -0.10100  0.41412  29.976117  5 -15\n",
       "3118  0.20201  0.09595 -0.15319 -0.08417  0.44273  30.041130  5 -10\n",
       "3119  0.20201  0.09764 -0.15319 -0.08417  0.44273  30.041130  5 -10\n",
       "3120  0.19864  0.09595 -0.15656 -0.08417  0.44105  30.041130  5 -10\n",
       "3121  0.20201  0.09764 -0.15487 -0.08417  0.44273  30.041130  5 -10\n",
       "3122  0.20369  0.09764 -0.14982 -0.08249  0.44442  30.041130  5 -10\n",
       "3123  0.20369  0.09764 -0.15319 -0.08417  0.44273  30.041130  5 -10\n",
       "3124  0.20201  0.09764 -0.15656 -0.08585  0.44442  30.041130  5 -10\n",
       "3125  0.20032  0.09595 -0.15656 -0.08417  0.44273  30.041130  5 -10\n",
       "3126  0.20201  0.09764 -0.15319 -0.08417  0.44442  30.041130  5 -10\n",
       "3127  0.20201  0.09764 -0.15319 -0.08417  0.44273  30.041130  5 -10\n",
       "3128  0.12120  0.11447 -0.06902 -0.06565  0.46967  30.096583  5  -5\n",
       "3129  0.11952  0.11447 -0.06734 -0.06734  0.46967  30.096583  5  -5"
      ]
     },
     "execution_count": 170,
     "metadata": {},
     "output_type": "execute_result"
    }
   ],
   "source": [
    "df1.iloc[3110:3130]"
   ]
  },
  {
   "cell_type": "code",
   "execution_count": 173,
   "id": "c78e2c13-f7ab-4248-9906-1e2bfa4bbb37",
   "metadata": {},
   "outputs": [
    {
     "data": {
      "text/html": [
       "<div>\n",
       "<style scoped>\n",
       "    .dataframe tbody tr th:only-of-type {\n",
       "        vertical-align: middle;\n",
       "    }\n",
       "\n",
       "    .dataframe tbody tr th {\n",
       "        vertical-align: top;\n",
       "    }\n",
       "\n",
       "    .dataframe thead th {\n",
       "        text-align: right;\n",
       "    }\n",
       "</style>\n",
       "<table border=\"1\" class=\"dataframe\">\n",
       "  <thead>\n",
       "    <tr style=\"text-align: right;\">\n",
       "      <th></th>\n",
       "      <th>Pβ2</th>\n",
       "      <th>Pα1</th>\n",
       "      <th>Pβ1</th>\n",
       "      <th>Pα2</th>\n",
       "      <th>P3</th>\n",
       "      <th>V</th>\n",
       "      <th>α</th>\n",
       "      <th>β</th>\n",
       "    </tr>\n",
       "  </thead>\n",
       "  <tbody>\n",
       "    <tr>\n",
       "      <th>4460</th>\n",
       "      <td>0.49492</td>\n",
       "      <td>0.11784</td>\n",
       "      <td>-0.41917</td>\n",
       "      <td>-0.19864</td>\n",
       "      <td>0.74406</td>\n",
       "      <td>40.067981</td>\n",
       "      <td>5</td>\n",
       "      <td>-15</td>\n",
       "    </tr>\n",
       "    <tr>\n",
       "      <th>4461</th>\n",
       "      <td>0.49492</td>\n",
       "      <td>0.11784</td>\n",
       "      <td>-0.41748</td>\n",
       "      <td>-0.19696</td>\n",
       "      <td>0.74238</td>\n",
       "      <td>40.067981</td>\n",
       "      <td>5</td>\n",
       "      <td>-15</td>\n",
       "    </tr>\n",
       "    <tr>\n",
       "      <th>4462</th>\n",
       "      <td>0.49492</td>\n",
       "      <td>0.12120</td>\n",
       "      <td>-0.41412</td>\n",
       "      <td>-0.19527</td>\n",
       "      <td>0.74575</td>\n",
       "      <td>40.067981</td>\n",
       "      <td>5</td>\n",
       "      <td>-15</td>\n",
       "    </tr>\n",
       "    <tr>\n",
       "      <th>4463</th>\n",
       "      <td>0.49492</td>\n",
       "      <td>0.12289</td>\n",
       "      <td>-0.41917</td>\n",
       "      <td>-0.19696</td>\n",
       "      <td>0.74406</td>\n",
       "      <td>40.067981</td>\n",
       "      <td>5</td>\n",
       "      <td>-15</td>\n",
       "    </tr>\n",
       "    <tr>\n",
       "      <th>4464</th>\n",
       "      <td>0.49492</td>\n",
       "      <td>0.12120</td>\n",
       "      <td>-0.41917</td>\n",
       "      <td>-0.19696</td>\n",
       "      <td>0.74575</td>\n",
       "      <td>40.067981</td>\n",
       "      <td>5</td>\n",
       "      <td>-15</td>\n",
       "    </tr>\n",
       "    <tr>\n",
       "      <th>4465</th>\n",
       "      <td>0.49492</td>\n",
       "      <td>0.11952</td>\n",
       "      <td>-0.42085</td>\n",
       "      <td>-0.19527</td>\n",
       "      <td>0.74575</td>\n",
       "      <td>40.067981</td>\n",
       "      <td>5</td>\n",
       "      <td>-15</td>\n",
       "    </tr>\n",
       "    <tr>\n",
       "      <th>4466</th>\n",
       "      <td>0.35351</td>\n",
       "      <td>0.16666</td>\n",
       "      <td>-0.28449</td>\n",
       "      <td>-0.16161</td>\n",
       "      <td>0.79457</td>\n",
       "      <td>40.048304</td>\n",
       "      <td>5</td>\n",
       "      <td>-10</td>\n",
       "    </tr>\n",
       "    <tr>\n",
       "      <th>4467</th>\n",
       "      <td>0.35351</td>\n",
       "      <td>0.16666</td>\n",
       "      <td>-0.28618</td>\n",
       "      <td>-0.16161</td>\n",
       "      <td>0.79457</td>\n",
       "      <td>40.048304</td>\n",
       "      <td>5</td>\n",
       "      <td>-10</td>\n",
       "    </tr>\n",
       "    <tr>\n",
       "      <th>4468</th>\n",
       "      <td>0.35351</td>\n",
       "      <td>0.16834</td>\n",
       "      <td>-0.28449</td>\n",
       "      <td>-0.16329</td>\n",
       "      <td>0.79625</td>\n",
       "      <td>40.048304</td>\n",
       "      <td>5</td>\n",
       "      <td>-10</td>\n",
       "    </tr>\n",
       "    <tr>\n",
       "      <th>4469</th>\n",
       "      <td>0.35351</td>\n",
       "      <td>0.16666</td>\n",
       "      <td>-0.28281</td>\n",
       "      <td>-0.16329</td>\n",
       "      <td>0.79625</td>\n",
       "      <td>40.048304</td>\n",
       "      <td>5</td>\n",
       "      <td>-10</td>\n",
       "    </tr>\n",
       "    <tr>\n",
       "      <th>4470</th>\n",
       "      <td>0.35183</td>\n",
       "      <td>0.16497</td>\n",
       "      <td>-0.28618</td>\n",
       "      <td>-0.16329</td>\n",
       "      <td>0.79457</td>\n",
       "      <td>40.048304</td>\n",
       "      <td>5</td>\n",
       "      <td>-10</td>\n",
       "    </tr>\n",
       "    <tr>\n",
       "      <th>4471</th>\n",
       "      <td>0.35351</td>\n",
       "      <td>0.16666</td>\n",
       "      <td>-0.28449</td>\n",
       "      <td>-0.16329</td>\n",
       "      <td>0.79457</td>\n",
       "      <td>40.048304</td>\n",
       "      <td>5</td>\n",
       "      <td>-10</td>\n",
       "    </tr>\n",
       "    <tr>\n",
       "      <th>4472</th>\n",
       "      <td>0.35351</td>\n",
       "      <td>0.16666</td>\n",
       "      <td>-0.28618</td>\n",
       "      <td>-0.16329</td>\n",
       "      <td>0.79457</td>\n",
       "      <td>40.048304</td>\n",
       "      <td>5</td>\n",
       "      <td>-10</td>\n",
       "    </tr>\n",
       "    <tr>\n",
       "      <th>4473</th>\n",
       "      <td>0.35351</td>\n",
       "      <td>0.16497</td>\n",
       "      <td>-0.28618</td>\n",
       "      <td>-0.16329</td>\n",
       "      <td>0.79625</td>\n",
       "      <td>40.048304</td>\n",
       "      <td>5</td>\n",
       "      <td>-10</td>\n",
       "    </tr>\n",
       "    <tr>\n",
       "      <th>4474</th>\n",
       "      <td>0.35183</td>\n",
       "      <td>0.16666</td>\n",
       "      <td>-0.28449</td>\n",
       "      <td>-0.16497</td>\n",
       "      <td>0.79457</td>\n",
       "      <td>40.048304</td>\n",
       "      <td>5</td>\n",
       "      <td>-10</td>\n",
       "    </tr>\n",
       "    <tr>\n",
       "      <th>4475</th>\n",
       "      <td>0.35015</td>\n",
       "      <td>0.16497</td>\n",
       "      <td>-0.28618</td>\n",
       "      <td>-0.16329</td>\n",
       "      <td>0.79288</td>\n",
       "      <td>40.048304</td>\n",
       "      <td>5</td>\n",
       "      <td>-10</td>\n",
       "    </tr>\n",
       "    <tr>\n",
       "      <th>4476</th>\n",
       "      <td>0.21043</td>\n",
       "      <td>0.20032</td>\n",
       "      <td>-0.13299</td>\n",
       "      <td>-0.12794</td>\n",
       "      <td>0.83160</td>\n",
       "      <td>39.995703</td>\n",
       "      <td>5</td>\n",
       "      <td>-5</td>\n",
       "    </tr>\n",
       "    <tr>\n",
       "      <th>4477</th>\n",
       "      <td>0.21043</td>\n",
       "      <td>0.19864</td>\n",
       "      <td>-0.13131</td>\n",
       "      <td>-0.13131</td>\n",
       "      <td>0.82992</td>\n",
       "      <td>39.995703</td>\n",
       "      <td>5</td>\n",
       "      <td>-5</td>\n",
       "    </tr>\n",
       "    <tr>\n",
       "      <th>4478</th>\n",
       "      <td>0.21043</td>\n",
       "      <td>0.20032</td>\n",
       "      <td>-0.13131</td>\n",
       "      <td>-0.12962</td>\n",
       "      <td>0.83160</td>\n",
       "      <td>39.995703</td>\n",
       "      <td>5</td>\n",
       "      <td>-5</td>\n",
       "    </tr>\n",
       "    <tr>\n",
       "      <th>4479</th>\n",
       "      <td>0.21379</td>\n",
       "      <td>0.20201</td>\n",
       "      <td>-0.13131</td>\n",
       "      <td>-0.12794</td>\n",
       "      <td>0.83160</td>\n",
       "      <td>39.995703</td>\n",
       "      <td>5</td>\n",
       "      <td>-5</td>\n",
       "    </tr>\n",
       "    <tr>\n",
       "      <th>4480</th>\n",
       "      <td>0.21211</td>\n",
       "      <td>0.20201</td>\n",
       "      <td>-0.13131</td>\n",
       "      <td>-0.12962</td>\n",
       "      <td>0.83160</td>\n",
       "      <td>39.995703</td>\n",
       "      <td>5</td>\n",
       "      <td>-5</td>\n",
       "    </tr>\n",
       "    <tr>\n",
       "      <th>4481</th>\n",
       "      <td>0.21379</td>\n",
       "      <td>0.20201</td>\n",
       "      <td>-0.13131</td>\n",
       "      <td>-0.12794</td>\n",
       "      <td>0.83160</td>\n",
       "      <td>39.995703</td>\n",
       "      <td>5</td>\n",
       "      <td>-5</td>\n",
       "    </tr>\n",
       "    <tr>\n",
       "      <th>4482</th>\n",
       "      <td>0.21379</td>\n",
       "      <td>0.20201</td>\n",
       "      <td>-0.12962</td>\n",
       "      <td>-0.12962</td>\n",
       "      <td>0.82992</td>\n",
       "      <td>39.995703</td>\n",
       "      <td>5</td>\n",
       "      <td>-5</td>\n",
       "    </tr>\n",
       "    <tr>\n",
       "      <th>4483</th>\n",
       "      <td>0.21211</td>\n",
       "      <td>0.19864</td>\n",
       "      <td>-0.13131</td>\n",
       "      <td>-0.13131</td>\n",
       "      <td>0.82992</td>\n",
       "      <td>39.995703</td>\n",
       "      <td>5</td>\n",
       "      <td>-5</td>\n",
       "    </tr>\n",
       "    <tr>\n",
       "      <th>4484</th>\n",
       "      <td>0.21043</td>\n",
       "      <td>0.19864</td>\n",
       "      <td>-0.12962</td>\n",
       "      <td>-0.12962</td>\n",
       "      <td>0.82992</td>\n",
       "      <td>39.995703</td>\n",
       "      <td>5</td>\n",
       "      <td>-5</td>\n",
       "    </tr>\n",
       "    <tr>\n",
       "      <th>4485</th>\n",
       "      <td>0.21043</td>\n",
       "      <td>0.19864</td>\n",
       "      <td>-0.12962</td>\n",
       "      <td>-0.12962</td>\n",
       "      <td>0.82992</td>\n",
       "      <td>39.995703</td>\n",
       "      <td>5</td>\n",
       "      <td>-5</td>\n",
       "    </tr>\n",
       "    <tr>\n",
       "      <th>4486</th>\n",
       "      <td>0.05555</td>\n",
       "      <td>0.19527</td>\n",
       "      <td>0.03198</td>\n",
       "      <td>-0.08585</td>\n",
       "      <td>0.84002</td>\n",
       "      <td>40.057814</td>\n",
       "      <td>5</td>\n",
       "      <td>0</td>\n",
       "    </tr>\n",
       "    <tr>\n",
       "      <th>4487</th>\n",
       "      <td>0.05387</td>\n",
       "      <td>0.19527</td>\n",
       "      <td>0.02862</td>\n",
       "      <td>-0.08585</td>\n",
       "      <td>0.83833</td>\n",
       "      <td>40.057814</td>\n",
       "      <td>5</td>\n",
       "      <td>0</td>\n",
       "    </tr>\n",
       "    <tr>\n",
       "      <th>4488</th>\n",
       "      <td>0.05555</td>\n",
       "      <td>0.19696</td>\n",
       "      <td>0.02862</td>\n",
       "      <td>-0.08585</td>\n",
       "      <td>0.84002</td>\n",
       "      <td>40.057814</td>\n",
       "      <td>5</td>\n",
       "      <td>0</td>\n",
       "    </tr>\n",
       "    <tr>\n",
       "      <th>4489</th>\n",
       "      <td>0.05555</td>\n",
       "      <td>0.19696</td>\n",
       "      <td>0.03030</td>\n",
       "      <td>-0.08754</td>\n",
       "      <td>0.84002</td>\n",
       "      <td>40.057814</td>\n",
       "      <td>5</td>\n",
       "      <td>0</td>\n",
       "    </tr>\n",
       "  </tbody>\n",
       "</table>\n",
       "</div>"
      ],
      "text/plain": [
       "          Pβ2      Pα1      Pβ1      Pα2       P3          V  α   β\n",
       "4460  0.49492  0.11784 -0.41917 -0.19864  0.74406  40.067981  5 -15\n",
       "4461  0.49492  0.11784 -0.41748 -0.19696  0.74238  40.067981  5 -15\n",
       "4462  0.49492  0.12120 -0.41412 -0.19527  0.74575  40.067981  5 -15\n",
       "4463  0.49492  0.12289 -0.41917 -0.19696  0.74406  40.067981  5 -15\n",
       "4464  0.49492  0.12120 -0.41917 -0.19696  0.74575  40.067981  5 -15\n",
       "4465  0.49492  0.11952 -0.42085 -0.19527  0.74575  40.067981  5 -15\n",
       "4466  0.35351  0.16666 -0.28449 -0.16161  0.79457  40.048304  5 -10\n",
       "4467  0.35351  0.16666 -0.28618 -0.16161  0.79457  40.048304  5 -10\n",
       "4468  0.35351  0.16834 -0.28449 -0.16329  0.79625  40.048304  5 -10\n",
       "4469  0.35351  0.16666 -0.28281 -0.16329  0.79625  40.048304  5 -10\n",
       "4470  0.35183  0.16497 -0.28618 -0.16329  0.79457  40.048304  5 -10\n",
       "4471  0.35351  0.16666 -0.28449 -0.16329  0.79457  40.048304  5 -10\n",
       "4472  0.35351  0.16666 -0.28618 -0.16329  0.79457  40.048304  5 -10\n",
       "4473  0.35351  0.16497 -0.28618 -0.16329  0.79625  40.048304  5 -10\n",
       "4474  0.35183  0.16666 -0.28449 -0.16497  0.79457  40.048304  5 -10\n",
       "4475  0.35015  0.16497 -0.28618 -0.16329  0.79288  40.048304  5 -10\n",
       "4476  0.21043  0.20032 -0.13299 -0.12794  0.83160  39.995703  5  -5\n",
       "4477  0.21043  0.19864 -0.13131 -0.13131  0.82992  39.995703  5  -5\n",
       "4478  0.21043  0.20032 -0.13131 -0.12962  0.83160  39.995703  5  -5\n",
       "4479  0.21379  0.20201 -0.13131 -0.12794  0.83160  39.995703  5  -5\n",
       "4480  0.21211  0.20201 -0.13131 -0.12962  0.83160  39.995703  5  -5\n",
       "4481  0.21379  0.20201 -0.13131 -0.12794  0.83160  39.995703  5  -5\n",
       "4482  0.21379  0.20201 -0.12962 -0.12962  0.82992  39.995703  5  -5\n",
       "4483  0.21211  0.19864 -0.13131 -0.13131  0.82992  39.995703  5  -5\n",
       "4484  0.21043  0.19864 -0.12962 -0.12962  0.82992  39.995703  5  -5\n",
       "4485  0.21043  0.19864 -0.12962 -0.12962  0.82992  39.995703  5  -5\n",
       "4486  0.05555  0.19527  0.03198 -0.08585  0.84002  40.057814  5   0\n",
       "4487  0.05387  0.19527  0.02862 -0.08585  0.83833  40.057814  5   0\n",
       "4488  0.05555  0.19696  0.02862 -0.08585  0.84002  40.057814  5   0\n",
       "4489  0.05555  0.19696  0.03030 -0.08754  0.84002  40.057814  5   0"
      ]
     },
     "execution_count": 173,
     "metadata": {},
     "output_type": "execute_result"
    }
   ],
   "source": [
    "df1.iloc[4460:4490]"
   ]
  },
  {
   "cell_type": "code",
   "execution_count": 174,
   "id": "22737cdd-b993-4321-948d-ae64aa0cbdad",
   "metadata": {},
   "outputs": [
    {
     "ename": "IndexError",
     "evalue": "single positional indexer is out-of-bounds",
     "output_type": "error",
     "traceback": [
      "\u001b[1;31m---------------------------------------------------------------------------\u001b[0m",
      "\u001b[1;31mIndexError\u001b[0m                                Traceback (most recent call last)",
      "Cell \u001b[1;32mIn[174], line 1\u001b[0m\n\u001b[1;32m----> 1\u001b[0m \u001b[43mdf1\u001b[49m\u001b[38;5;241;43m.\u001b[39;49m\u001b[43miloc\u001b[49m\u001b[43m[\u001b[49m\u001b[38;5;241;43m7200\u001b[39;49m\u001b[43m]\u001b[49m\n",
      "File \u001b[1;32m~\\anaconda3\\envs\\kora-kora\\lib\\site-packages\\pandas\\core\\indexing.py:1103\u001b[0m, in \u001b[0;36m_LocationIndexer.__getitem__\u001b[1;34m(self, key)\u001b[0m\n\u001b[0;32m   1100\u001b[0m axis \u001b[38;5;241m=\u001b[39m \u001b[38;5;28mself\u001b[39m\u001b[38;5;241m.\u001b[39maxis \u001b[38;5;129;01mor\u001b[39;00m \u001b[38;5;241m0\u001b[39m\n\u001b[0;32m   1102\u001b[0m maybe_callable \u001b[38;5;241m=\u001b[39m com\u001b[38;5;241m.\u001b[39mapply_if_callable(key, \u001b[38;5;28mself\u001b[39m\u001b[38;5;241m.\u001b[39mobj)\n\u001b[1;32m-> 1103\u001b[0m \u001b[38;5;28;01mreturn\u001b[39;00m \u001b[38;5;28;43mself\u001b[39;49m\u001b[38;5;241;43m.\u001b[39;49m\u001b[43m_getitem_axis\u001b[49m\u001b[43m(\u001b[49m\u001b[43mmaybe_callable\u001b[49m\u001b[43m,\u001b[49m\u001b[43m \u001b[49m\u001b[43maxis\u001b[49m\u001b[38;5;241;43m=\u001b[39;49m\u001b[43maxis\u001b[49m\u001b[43m)\u001b[49m\n",
      "File \u001b[1;32m~\\anaconda3\\envs\\kora-kora\\lib\\site-packages\\pandas\\core\\indexing.py:1656\u001b[0m, in \u001b[0;36m_iLocIndexer._getitem_axis\u001b[1;34m(self, key, axis)\u001b[0m\n\u001b[0;32m   1653\u001b[0m     \u001b[38;5;28;01mraise\u001b[39;00m \u001b[38;5;167;01mTypeError\u001b[39;00m(\u001b[38;5;124m\"\u001b[39m\u001b[38;5;124mCannot index by location index with a non-integer key\u001b[39m\u001b[38;5;124m\"\u001b[39m)\n\u001b[0;32m   1655\u001b[0m \u001b[38;5;66;03m# validate the location\u001b[39;00m\n\u001b[1;32m-> 1656\u001b[0m \u001b[38;5;28;43mself\u001b[39;49m\u001b[38;5;241;43m.\u001b[39;49m\u001b[43m_validate_integer\u001b[49m\u001b[43m(\u001b[49m\u001b[43mkey\u001b[49m\u001b[43m,\u001b[49m\u001b[43m \u001b[49m\u001b[43maxis\u001b[49m\u001b[43m)\u001b[49m\n\u001b[0;32m   1658\u001b[0m \u001b[38;5;28;01mreturn\u001b[39;00m \u001b[38;5;28mself\u001b[39m\u001b[38;5;241m.\u001b[39mobj\u001b[38;5;241m.\u001b[39m_ixs(key, axis\u001b[38;5;241m=\u001b[39maxis)\n",
      "File \u001b[1;32m~\\anaconda3\\envs\\kora-kora\\lib\\site-packages\\pandas\\core\\indexing.py:1589\u001b[0m, in \u001b[0;36m_iLocIndexer._validate_integer\u001b[1;34m(self, key, axis)\u001b[0m\n\u001b[0;32m   1587\u001b[0m len_axis \u001b[38;5;241m=\u001b[39m \u001b[38;5;28mlen\u001b[39m(\u001b[38;5;28mself\u001b[39m\u001b[38;5;241m.\u001b[39mobj\u001b[38;5;241m.\u001b[39m_get_axis(axis))\n\u001b[0;32m   1588\u001b[0m \u001b[38;5;28;01mif\u001b[39;00m key \u001b[38;5;241m>\u001b[39m\u001b[38;5;241m=\u001b[39m len_axis \u001b[38;5;129;01mor\u001b[39;00m key \u001b[38;5;241m<\u001b[39m \u001b[38;5;241m-\u001b[39mlen_axis:\n\u001b[1;32m-> 1589\u001b[0m     \u001b[38;5;28;01mraise\u001b[39;00m \u001b[38;5;167;01mIndexError\u001b[39;00m(\u001b[38;5;124m\"\u001b[39m\u001b[38;5;124msingle positional indexer is out-of-bounds\u001b[39m\u001b[38;5;124m\"\u001b[39m)\n",
      "\u001b[1;31mIndexError\u001b[0m: single positional indexer is out-of-bounds"
     ]
    }
   ],
   "source": []
  },
  {
   "cell_type": "code",
   "execution_count": null,
   "id": "5c900875-19d7-42bc-8333-492f52a68efd",
   "metadata": {},
   "outputs": [],
   "source": []
  }
 ],
 "metadata": {
  "kernelspec": {
   "display_name": "Python 3 (ipykernel)",
   "language": "python",
   "name": "python3"
  },
  "language_info": {
   "codemirror_mode": {
    "name": "ipython",
    "version": 3
   },
   "file_extension": ".py",
   "mimetype": "text/x-python",
   "name": "python",
   "nbconvert_exporter": "python",
   "pygments_lexer": "ipython3",
   "version": "3.8.20"
  }
 },
 "nbformat": 4,
 "nbformat_minor": 5
}
