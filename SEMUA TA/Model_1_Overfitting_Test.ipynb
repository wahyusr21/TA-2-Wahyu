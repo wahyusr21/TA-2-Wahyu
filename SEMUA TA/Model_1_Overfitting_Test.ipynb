{
 "cells": [
  {
   "cell_type": "code",
   "execution_count": 1,
   "id": "ede53cc5-9f04-4ae0-b4ca-5776298f6280",
   "metadata": {},
   "outputs": [],
   "source": [
    "import sklearn\n",
    "from sklearn.ensemble import RandomForestRegressor, AdaBoostRegressor, GradientBoostingRegressor, BaggingRegressor\n",
    "from sklearn.ensemble import RandomTreesEmbedding, HistGradientBoostingRegressor, StackingRegressor, VotingRegressor\n",
    "from sklearn.multioutput import MultiOutputRegressor, RegressorChain\n",
    "from sklearn.model_selection import train_test_split\n",
    "import time\n",
    "import pandas as pd\n",
    "import numpy as np\n",
    "from sklearn.model_selection import GridSearchCV\n",
    "from sklearn.linear_model import LinearRegression, SGDRegressor, RidgeCV, Ridge\n",
    "from sklearn.model_selection import ParameterGrid, ParameterSampler, RandomizedSearchCV\n",
    "from sklearn.gaussian_process.kernels import RBF, RationalQuadratic\n",
    "from sklearn.neighbors import KNeighborsRegressor, RadiusNeighborsRegressor\n",
    "from sklearn.neural_network import MLPRegressor\n",
    "from sklearn.preprocessing import StandardScaler, KernelCenterer, RobustScaler\n",
    "from sklearn.svm import SVR, LinearSVR, NuSVR\n",
    "from sklearn.metrics import r2_score, mean_absolute_error, mean_squared_error, make_scorer, max_error\n",
    "from sklearn.pipeline import Pipeline\n",
    "from sklearn.preprocessing import StandardScaler\n",
    "from xgboost import XGBRegressor\n",
    "import joblib\n",
    "from sklearn.model_selection import cross_val_score, KFold, cross_validate, cross_val_predict\n",
    "from sklearn.pipeline import make_pipeline"
   ]
  },
  {
   "cell_type": "code",
   "execution_count": 2,
   "id": "4598b55c-a803-470d-92cd-1487b92dbbdb",
   "metadata": {},
   "outputs": [],
   "source": [
    "import numpy as np\n",
    "import pandas as pd\n",
    "import matplotlib.pyplot as plt\n",
    "import random, time\n",
    "import seaborn as sns\n",
    "from mpl_toolkits.mplot3d import Axes3D\n",
    "from sklearn.model_selection import train_test_split, cross_val_score, KFold\n",
    "from sklearn.metrics import r2_score, mean_squared_error, mean_absolute_error, max_error\n",
    "from sklearn.linear_model import LinearRegression"
   ]
  },
  {
   "cell_type": "markdown",
   "id": "d98234bc-3677-4ffc-9fe0-b41a1c46d0ea",
   "metadata": {},
   "source": [
    "## BEFORE PRUNING"
   ]
  },
  {
   "cell_type": "code",
   "execution_count": 5,
   "id": "76a3b4ff-1df1-4531-8f91-9b760f83cc25",
   "metadata": {},
   "outputs": [],
   "source": [
    "df_all = pd.read_csv('data_all.csv')\n",
    "x_all = df_all.drop(columns = [\"V\",\"α\",\"β\"])\n",
    "y_all = df_all[[\"V\",\"α\",\"β\"]]\n",
    "\n",
    "x0_train, x0_test, y0_train, y0_test = train_test_split(x_all, y_all,\n",
    "                                                        random_state = 42, test_size = 0.2)"
   ]
  },
  {
   "cell_type": "code",
   "execution_count": 6,
   "id": "4bd98e0a-95ec-45f9-90a4-ee17a8766b7a",
   "metadata": {},
   "outputs": [
    {
     "name": "stdout",
     "output_type": "stream",
     "text": [
      "R2 : \n",
      " Alpha : 0.9999999518449048 \n",
      " Beta : 0.9786085926247874 \n",
      " V : 0.9999997006737554 \n",
      "MAE : \n",
      " Alpha : 0.004298451266537389 \n",
      " Beta : 0.550168122812585 \n",
      " V : 0.0021246872693424417 \n",
      "MSE : \n",
      " Alpha : 5.760326756291966e-05 \n",
      " Beta : 2.251416282746785 \n",
      " V : 6.128302128893325e-05 \n",
      "Max AERR : \n",
      " V     0.081751\n",
      "α     0.075188\n",
      "β    12.733468\n",
      "dtype: float64\n",
      "Waktu yang dibutuhkan :  1.484109310309092\n"
     ]
    }
   ],
   "source": [
    "def max_absolute_error(y_true, y_pred):\n",
    "    return np.max(np.abs(y_true - y_pred), axis=0)\n",
    "scaler = StandardScaler()\n",
    "\n",
    "# Base models (Level Pertama)\n",
    "base_models = [\n",
    "    ('random_forest', RandomForestRegressor(n_estimators=250, random_state=42, max_features = 'sqrt')),\n",
    "    ('gradient_boosting', GradientBoostingRegressor(n_estimators=200, learning_rate=0.0579, random_state=42, max_depth = 5)),\n",
    "    ('knn', make_pipeline(StandardScaler(), KNeighborsRegressor(n_neighbors=2, weights='distance', algorithm='auto')))\n",
    "]\n",
    "\n",
    "# Meta-model (Level Kedua)\n",
    "# Menggunakan Ridge Regression sebagai meta-model untuk menghindari overfitting\n",
    "meta_model = Ridge(alpha=0.1)\n",
    "\n",
    "# Membentuk Stacking Regressor\n",
    "stacking_regressor = StackingRegressor(\n",
    "    estimators=base_models,\n",
    "    final_estimator=meta_model,\n",
    "    passthrough=True  # Memasukkan data asli ke meta-model bersama prediksi base models\n",
    ")\n",
    "\n",
    "# Untuk multi-output, kita bungkus dengan MultiOutputRegressor\n",
    "model_all_best = MultiOutputRegressor(stacking_regressor)\n",
    "start = time.time()\n",
    "# Training\n",
    "model_all_best.fit(x0_train, y0_train)\n",
    "end = time.time()\n",
    "waktu = (end-start)/60\n",
    "# Prediction\n",
    "y0_pred = model_all_best.predict(x0_test)\n",
    "r2 = r2_score(y0_test, y0_pred, multioutput = 'raw_values')\n",
    "mae = mean_absolute_error(y0_test, y0_pred, multioutput = 'raw_values')\n",
    "mse = mean_squared_error(y0_test, y0_pred, multioutput = 'raw_values')\n",
    "max_ae = max_absolute_error(y0_test, y0_pred)\n",
    "print(f'R2 : \\n Alpha : {r2[1]} \\n Beta : {r2[2]} \\n V : {r2[0]} ')\n",
    "print(f'MAE : \\n Alpha : {mae[1]} \\n Beta : {mae[2]} \\n V : {mae[0]} ')\n",
    "print(f'MSE : \\n Alpha : {mse[1]} \\n Beta : {mse[2]} \\n V : {mse[0]} ')\n",
    "print('Max AERR : \\n', max_ae)\n",
    "print(\"Waktu yang dibutuhkan : \", waktu)"
   ]
  },
  {
   "cell_type": "code",
   "execution_count": 91,
   "id": "1f7935bf-8a1c-4826-aca1-3c8d385e3933",
   "metadata": {},
   "outputs": [
    {
     "name": "stdout",
     "output_type": "stream",
     "text": [
      "1300\n",
      "1300\n",
      "1300\n"
     ]
    }
   ],
   "source": [
    "df_all_before = pd.read_csv('data_all.csv')\n",
    "df_test_before = df_all_before[(df_all_before[\"α\"] >= -30) & (df_all_before[\"α\"] <= 0) & (df_all_before[\"β\"] <= 0) ]\n",
    "print(len(df_test_before))\n",
    "# Alpha Test Data\n",
    "df_test_alpha = df_test_before.copy()\n",
    "df_test_alpha[\"α\"] *= -1 \n",
    "df_test_alpha[['Pα1', 'Pα2']] = df_test_alpha[['Pα2', 'Pα1']]\n",
    "df_test_alpha\n",
    "print(len(df_test_alpha))\n",
    "\n",
    "# Beta Test Data\n",
    "df_test_beta = df_test_before.copy()\n",
    "df_test_beta[\"β\"] *= -1 \n",
    "df_test_beta[['Pβ1', 'Pβ2']] = df_test_beta[['Pβ2', 'Pβ1']]\n",
    "df_test_beta\n",
    "print(len(df_test_beta))\n",
    "\n",
    "# Combine Test Data\n",
    "df_test_alpha_predict = df_test_alpha.sample(n = 500, random_state = 42)\n",
    "df_test_beta_predict = df_test_beta.sample(n = 500, random_state = 42)\n",
    "df_test_combine = pd.concat([df_test_alpha_predict,df_test_beta_predict], ignore_index = True)\n",
    "df_test_combine\n",
    "\n",
    "# Separation Data Test\n",
    "x_test = df_test_combine.drop(columns = [\"V\",\"α\",\"β\"])\n",
    "y_test = df_test_combine[[\"V\",\"α\",\"β\"]]\n"
   ]
  },
  {
   "cell_type": "code",
   "execution_count": 92,
   "id": "9b6b2981-eeb9-4d21-b41b-00dd4af1dd4a",
   "metadata": {},
   "outputs": [
    {
     "name": "stdout",
     "output_type": "stream",
     "text": [
      "R2 : \n",
      " Alpha : 0.9991078213038361 \n",
      " Beta : 0.9911652936965382 \n",
      " V : 0.9999868415142047 \n",
      "MAE : \n",
      " Alpha : 0.07841954608057887 \n",
      " Beta : 0.6978142029924486 \n",
      " V : 0.03182893363224958 \n",
      "MSE : \n",
      " Alpha : 0.22893305343564424 \n",
      " Beta : 1.5332632789658036 \n",
      " V : 0.002689702609532636 \n",
      "Max AERR : \n",
      " V    0.313002\n",
      "α    4.942151\n",
      "β    6.199186\n",
      "dtype: float64\n"
     ]
    }
   ],
   "source": [
    "# Evaluate the metrics\n",
    "y0_test_pred = model_all_best.predict(x_test)\n",
    "r2_test = r2_score(y_test, y0_test_pred, multioutput = 'raw_values')\n",
    "mae_test = mean_absolute_error(y_test, y0_test_pred, multioutput = 'raw_values')\n",
    "mse_test = mean_squared_error(y_test, y0_test_pred, multioutput = 'raw_values')\n",
    "max_ae_test = max_absolute_error(y_test, y0_test_pred)\n",
    "print(f'R2 : \\n Alpha : {r2_test[1]} \\n Beta : {r2_test[2]} \\n V : {r2_test[0]} ')\n",
    "print(f'MAE : \\n Alpha : {mae_test[1]} \\n Beta : {mae_test[2]} \\n V : {mae_test[0]} ')\n",
    "print(f'MSE : \\n Alpha : {mse_test[1]} \\n Beta : {mse_test[2]} \\n V : {mse_test[0]} ')\n",
    "print('Max AERR : \\n', max_ae_test)"
   ]
  },
  {
   "cell_type": "markdown",
   "id": "ad7de8fc-0f42-4738-8131-08d9ef33de38",
   "metadata": {},
   "source": [
    "## AFTER PRUNING"
   ]
  },
  {
   "cell_type": "code",
   "execution_count": 93,
   "id": "c578a7cd-8a99-4a4a-9398-4d42366de295",
   "metadata": {},
   "outputs": [],
   "source": [
    "df_all = pd.read_csv('data_clean_reduce_24.csv')\n",
    "x_all = df_all.drop(columns = [\"V\",\"α\",\"β\"])\n",
    "y_all = df_all[[\"V\",\"α\",\"β\"]]\n",
    "\n",
    "x0_train, x0_test, y0_train, y0_test = train_test_split(x_all, y_all,\n",
    "                                                        random_state = 42, test_size = 0.2)"
   ]
  },
  {
   "cell_type": "code",
   "execution_count": 94,
   "id": "4f8e294c-0633-45ae-85d5-472fcbecd11d",
   "metadata": {},
   "outputs": [
    {
     "name": "stdout",
     "output_type": "stream",
     "text": [
      "R2 : \n",
      " Alpha : 0.9999999888364483 \n",
      " Beta : 0.9855572270835813 \n",
      " V : 0.9999998576576354 \n",
      "MAE : \n",
      " Alpha : 0.0018578545045363193 \n",
      " Beta : 0.4649694558260702 \n",
      " V : 0.0014418516960277908 \n",
      "MSE : \n",
      " Alpha : 1.2746920367403166e-05 \n",
      " Beta : 1.5371880960149589 \n",
      " V : 2.9044107812892754e-05 \n",
      "Max AERR : \n",
      " V     0.050330\n",
      "α     0.048791\n",
      "β    10.644980\n",
      "dtype: float64\n",
      "Waktu yang dibutuhkan :  1.4505133827527363\n"
     ]
    }
   ],
   "source": [
    "def max_absolute_error(y_true, y_pred):\n",
    "    return np.max(np.abs(y_true - y_pred), axis=0)\n",
    "scaler = StandardScaler()\n",
    "\n",
    "# Base models (Level Pertama)\n",
    "base_models = [\n",
    "    ('random_forest', RandomForestRegressor(n_estimators=250, max_depth=None, random_state=42, min_samples_leaf= 1, min_samples_split= 2, max_features = 'sqrt')),\n",
    "    ('gradient_boosting', GradientBoostingRegressor(n_estimators=200, learning_rate=0.0579, random_state=42, max_depth = 5)),\n",
    "    ('knn', make_pipeline(StandardScaler(), KNeighborsRegressor(n_neighbors=2, weights='distance', algorithm='auto')))\n",
    "]\n",
    "\n",
    "# Meta-model (Level Kedua)\n",
    "# Menggunakan Ridge Regression sebagai meta-model untuk menghindari overfitting\n",
    "meta_model = Ridge(alpha=0.1)\n",
    "\n",
    "# Membentuk Stacking Regressor\n",
    "stacking_regressor = StackingRegressor(\n",
    "    estimators=base_models,\n",
    "    final_estimator=meta_model,\n",
    "    passthrough=True  # Memasukkan data asli ke meta-model bersama prediksi base models\n",
    ")\n",
    "\n",
    "# Untuk multi-output, kita bungkus dengan MultiOutputRegressor\n",
    "model_all_best = MultiOutputRegressor(stacking_regressor)\n",
    "start = time.time()\n",
    "# Training\n",
    "model_all_best.fit(x0_train, y0_train)\n",
    "end = time.time()\n",
    "waktu = (end-start)/60\n",
    "# Prediction\n",
    "y0_pred = model_all_best.predict(x0_test)\n",
    "r2 = r2_score(y0_test, y0_pred, multioutput = 'raw_values')\n",
    "mae = mean_absolute_error(y0_test, y0_pred, multioutput = 'raw_values')\n",
    "mse = mean_squared_error(y0_test, y0_pred, multioutput = 'raw_values')\n",
    "max_ae = max_absolute_error(y0_test, y0_pred)\n",
    "print(f'R2 : \\n Alpha : {r2[1]} \\n Beta : {r2[2]} \\n V : {r2[0]} ')\n",
    "print(f'MAE : \\n Alpha : {mae[1]} \\n Beta : {mae[2]} \\n V : {mae[0]} ')\n",
    "print(f'MSE : \\n Alpha : {mse[1]} \\n Beta : {mse[2]} \\n V : {mse[0]} ')\n",
    "print('Max AERR : \\n', max_ae)\n",
    "print(\"Waktu yang dibutuhkan : \", waktu)"
   ]
  },
  {
   "cell_type": "code",
   "execution_count": 95,
   "id": "1c6dbc0a-c142-468c-81f2-2c2aed35ad50",
   "metadata": {},
   "outputs": [
    {
     "name": "stdout",
     "output_type": "stream",
     "text": [
      "1300\n",
      "1300\n",
      "1300\n"
     ]
    }
   ],
   "source": [
    "df_all_before = pd.read_csv('data_clean_reduce_24.csv')\n",
    "df_test_before = df_all_before[(df_all_before[\"α\"] >= -30) & (df_all_before[\"α\"] <= 0) & (df_all_before[\"β\"] <= 0) ]\n",
    "print(len(df_test_before))\n",
    "# Alpha Test Data\n",
    "df_test_alpha = df_test_before.copy()\n",
    "df_test_alpha[\"α\"] *= -1 \n",
    "df_test_alpha[['Pα1', 'Pα2']] = df_test_alpha[['Pα2', 'Pα1']]\n",
    "df_test_alpha\n",
    "print(len(df_test_alpha))\n",
    "\n",
    "# Beta Test Data\n",
    "df_test_beta = df_test_before.copy()\n",
    "df_test_beta[\"β\"] *= -1 \n",
    "df_test_beta[['Pβ1', 'Pβ2']] = df_test_beta[['Pβ2', 'Pβ1']]\n",
    "df_test_beta\n",
    "print(len(df_test_beta))\n",
    "\n",
    "# Combine Test Data\n",
    "df_test_alpha_predict = df_test_alpha.sample(n = 500, random_state = 42)\n",
    "df_test_beta_predict = df_test_beta.sample(n = 500, random_state = 42)\n",
    "df_test_combine = pd.concat([df_test_alpha_predict,df_test_beta_predict], ignore_index = True)\n",
    "df_test_combine\n",
    "\n",
    "# Separation Data Test\n",
    "x_test = df_test_combine.drop(columns = [\"V\",\"α\",\"β\"])\n",
    "y_test = df_test_combine[[\"V\",\"α\",\"β\"]]\n"
   ]
  },
  {
   "cell_type": "code",
   "execution_count": 96,
   "id": "9cba8ba9-5b92-4326-bba7-c989eb518ac1",
   "metadata": {},
   "outputs": [
    {
     "name": "stdout",
     "output_type": "stream",
     "text": [
      "R2 : \n",
      " Alpha : 0.9989988491562861 \n",
      " Beta : 0.9922479265670952 \n",
      " V : 0.9999868458478064 \n",
      "MAE : \n",
      " Alpha : 0.07667837992395815 \n",
      " Beta : 0.6625202529467438 \n",
      " V : 0.03179980184788013 \n",
      "MSE : \n",
      " Alpha : 0.2568953064969703 \n",
      " Beta : 1.3453723442806427 \n",
      " V : 0.002688816785736036 \n",
      "Max AERR : \n",
      " V    0.312596\n",
      "α    4.978439\n",
      "β    5.908332\n",
      "dtype: float64\n"
     ]
    }
   ],
   "source": [
    "# Evaluate the metrics\n",
    "y0_test_pred = model_all_best.predict(x_test)\n",
    "r2_test = r2_score(y_test, y0_test_pred, multioutput = 'raw_values')\n",
    "mae_test = mean_absolute_error(y_test, y0_test_pred, multioutput = 'raw_values')\n",
    "mse_test = mean_squared_error(y_test, y0_test_pred, multioutput = 'raw_values')\n",
    "max_ae_test = max_absolute_error(y_test, y0_test_pred)\n",
    "print(f'R2 : \\n Alpha : {r2_test[1]} \\n Beta : {r2_test[2]} \\n V : {r2_test[0]} ')\n",
    "print(f'MAE : \\n Alpha : {mae_test[1]} \\n Beta : {mae_test[2]} \\n V : {mae_test[0]} ')\n",
    "print(f'MSE : \\n Alpha : {mse_test[1]} \\n Beta : {mse_test[2]} \\n V : {mse_test[0]} ')\n",
    "print('Max AERR : \\n', max_ae_test)"
   ]
  },
  {
   "cell_type": "code",
   "execution_count": null,
   "id": "b905e78f-eb29-445a-b91f-84192aab2a8b",
   "metadata": {},
   "outputs": [],
   "source": []
  }
 ],
 "metadata": {
  "kernelspec": {
   "display_name": "Python 3 (ipykernel)",
   "language": "python",
   "name": "python3"
  },
  "language_info": {
   "codemirror_mode": {
    "name": "ipython",
    "version": 3
   },
   "file_extension": ".py",
   "mimetype": "text/x-python",
   "name": "python",
   "nbconvert_exporter": "python",
   "pygments_lexer": "ipython3",
   "version": "3.8.20"
  }
 },
 "nbformat": 4,
 "nbformat_minor": 5
}
