{
 "cells": [
  {
   "cell_type": "code",
   "execution_count": 25,
   "id": "86024e4e-5002-4adc-9cfc-8b9703dee7ff",
   "metadata": {},
   "outputs": [],
   "source": [
    "import sklearn\n",
    "from sklearn.ensemble import RandomForestRegressor, AdaBoostRegressor, GradientBoostingRegressor, BaggingRegressor\n",
    "from sklearn.ensemble import RandomTreesEmbedding, HistGradientBoostingRegressor, StackingRegressor, VotingRegressor\n",
    "from sklearn.multioutput import MultiOutputRegressor, RegressorChain\n",
    "from sklearn.model_selection import train_test_split\n",
    "import time\n",
    "import pandas as pd\n",
    "import numpy as np\n",
    "from sklearn.gaussian_process import GaussianProcessRegressor\n",
    "from sklearn.linear_model import LinearRegression, SGDRegressor, RidgeCV, Ridge\n",
    "from sklearn.linear_model import ElasticNet, ElasticNetCV, Lars, LarsCV, Lasso, LassoCV, LassoLars, LassoLarsCV\n",
    "from sklearn.linear_model import MultiTaskElasticNet, MultiTaskElasticNetCV\n",
    "from sklearn.linear_model import MultiTaskLasso, MultiTaskLassoCV\n",
    "from sklearn.model_selection import GridSearchCV\n",
    "from sklearn.model_selection import ParameterGrid, ParameterSampler, RandomizedSearchCV\n",
    "from sklearn.gaussian_process.kernels import RBF, RationalQuadratic\n",
    "from sklearn.neighbors import KNeighborsRegressor, RadiusNeighborsRegressor\n",
    "from sklearn.neural_network import MLPRegressor\n",
    "from sklearn.preprocessing import StandardScaler, KernelCenterer, RobustScaler\n",
    "from sklearn.svm import SVR, LinearSVR, NuSVR\n",
    "from sklearn.tree import DecisionTreeRegressor, ExtraTreeRegressor\n",
    "from sklearn.metrics import r2_score, mean_absolute_error, mean_squared_error\n",
    "from sklearn.pipeline import Pipeline\n",
    "from sklearn.preprocessing import StandardScaler\n",
    "from xgboost import XGBRegressor\n",
    "import joblib\n",
    "from sklearn.model_selection import cross_val_score\n",
    "from sklearn.pipeline import make_pipeline"
   ]
  },
  {
   "cell_type": "code",
   "execution_count": 26,
   "id": "a9024555-54c5-491f-9a86-8694df94ce2c",
   "metadata": {},
   "outputs": [],
   "source": [
    "import tensorflow as tf\n",
    "from tensorflow import keras\n",
    "from tensorflow.keras import Sequential\n",
    "from tensorflow.keras.layers import Dense\n",
    "import pandas as pd\n",
    "import numpy as np\n",
    "import matplotlib.pyplot as plt\n",
    "from sklearn.model_selection import train_test_split\n",
    "from sklearn.metrics import r2_score, mean_absolute_error, mean_squared_error, max_error\n",
    "import time\n",
    "from keras_tuner.tuners import RandomSearch\n",
    "import keras_tuner\n",
    "from keras_tuner.tuners import Hyperband\n",
    "from tensorflow.keras.callbacks import ModelCheckpoint\n",
    "from tensorflow.keras.models import load_model\n",
    "from tensorflow.keras.utils import plot_model\n",
    "import matplotlib.pyplot as plt\n",
    "import matplotlib.image as mpimg\n",
    "from matplotlib.gridspec import GridSpec\n",
    "from sklearn.preprocessing import StandardScaler"
   ]
  },
  {
   "cell_type": "code",
   "execution_count": 27,
   "id": "7dada1ad-b1f2-4516-8918-095878ff5654",
   "metadata": {},
   "outputs": [],
   "source": [
    "import pandas as pd\n",
    "import numpy as np\n",
    "import matplotlib.pyplot as plt\n",
    "import seaborn as sns"
   ]
  },
  {
   "cell_type": "code",
   "execution_count": 4,
   "id": "51e3ee1a-5d62-45ad-81a0-dc198dcbe6f0",
   "metadata": {},
   "outputs": [],
   "source": [
    "df_all = pd.read_csv('data_all.csv')"
   ]
  },
  {
   "cell_type": "code",
   "execution_count": 5,
   "id": "6fe6752d-3b86-4237-9a9d-265ee47bfc13",
   "metadata": {},
   "outputs": [],
   "source": [
    "df_V_10 = df_all[(df_all['V'] >= 9) & (df_all['V'] <= 11)  ]\n",
    "df_V_20 = df_all[(df_all['V'] >= 19) & (df_all['V'] <= 21) ]\n",
    "df_V_30 = df_all[(df_all['V'] >= 29) & (df_all['V'] <= 31) ]\n",
    "df_V_40 = df_all[(df_all['V'] >= 39) & (df_all['V'] <= 41) ]\n",
    "df_V_50 = df_all[(df_all['V'] >= 49) & (df_all['V'] <= 51) ]"
   ]
  },
  {
   "cell_type": "code",
   "execution_count": 6,
   "id": "b7ec7f0e-1ac8-4e5f-a6d5-552275b28ab7",
   "metadata": {},
   "outputs": [
    {
     "name": "stdout",
     "output_type": "stream",
     "text": [
      "6750\n"
     ]
    }
   ],
   "source": [
    "print(len(df_V_10)+len(df_V_20)+len(df_V_30)+len(df_V_40)+len(df_V_50))"
   ]
  },
  {
   "cell_type": "markdown",
   "id": "43fbb212-84dd-4c48-ab50-8e222272506c",
   "metadata": {},
   "source": [
    "## Z-SCORE THRESHOLD 3"
   ]
  },
  {
   "cell_type": "code",
   "execution_count": 37,
   "id": "affae44a-c573-479c-9b3d-47f86300d981",
   "metadata": {},
   "outputs": [
    {
     "name": "stdout",
     "output_type": "stream",
     "text": [
      "1350\n"
     ]
    }
   ],
   "source": [
    "import pandas as pd\n",
    "import numpy as np\n",
    "\n",
    "z_threshold = 3\n",
    "\n",
    "# Initialize an empty list to store cleaned data\n",
    "cleaned_data_10 = []\n",
    "for (alpha, beta), group in df_V_10.groupby([\"α\", \"β\"]):\n",
    "    # Compute mean and standard deviation for the pressure columns\n",
    "    pressure_columns = ['P3', 'Pα1', 'Pα2', 'Pβ1', 'Pβ2']\n",
    "    stats = group[pressure_columns].agg(['mean', 'std'])\n",
    "    zero_std = stats.loc['std'] == 0.0\n",
    "    if zero_std.any():\n",
    "        cleaned_data_10.append(group)\n",
    "    z_scores = (group[pressure_columns] - stats.loc['mean']) / stats.loc['std']\n",
    "    # Identify non-outlier rows (where all z-scores are within the threshold)\n",
    "    non_outliers = (z_scores.abs() <= z_threshold).all(axis=1)\n",
    "    # Append non-outlier rows to the cleaned data\n",
    "    cleaned_data_10.append(group[non_outliers])\n",
    "\n",
    "# Combine all cleaned groups into a single DataFrame\n",
    "cleaned_data_10 = pd.concat(cleaned_data_10, ignore_index=True)\n",
    "print(len(cleaned_data_10))"
   ]
  },
  {
   "cell_type": "code",
   "execution_count": 67,
   "id": "a342bc8d-f929-45f0-8333-317e70ffbdf6",
   "metadata": {},
   "outputs": [
    {
     "name": "stdout",
     "output_type": "stream",
     "text": [
      "1349\n",
      "1\n"
     ]
    }
   ],
   "source": [
    "import pandas as pd\n",
    "import numpy as np\n",
    "\n",
    "z_threshold = 3\n",
    "\n",
    "# Initialize an empty list to store cleaned data\n",
    "cleaned_data_20 = []\n",
    "outliers_data_20 = []\n",
    "for (alpha, beta), group in df_V_20.groupby([\"α\", \"β\"]):\n",
    "    # Compute mean and standard deviation for the pressure columns\n",
    "    pressure_columns = ['P3', 'Pα1', 'Pα2', 'Pβ1', 'Pβ2']\n",
    "    stats = group[pressure_columns].agg(['mean', 'std'])\n",
    "    zero_std = stats.loc['std'] == 0.0\n",
    "    if zero_std.any():\n",
    "        cleaned_data_20.append(group)\n",
    "        continue\n",
    "    z_scores = (group[pressure_columns] - stats.loc['mean']) / stats.loc['std']\n",
    "    non_outliers = (z_scores.abs() <= z_threshold).all(axis=1)\n",
    "    # Append non-outlier rows to the cleaned data\n",
    "    cleaned_data_20.append(group[non_outliers])\n",
    "    outliers_data_20.append(group[~non_outliers])\n",
    "\n",
    "# Combine all cleaned groups into a single DataFrame\n",
    "cleaned_data_20 = pd.concat(cleaned_data_20, ignore_index=True)\n",
    "outliers_data_20 = pd.concat(outliers_data_20, ignore_index = False)\n",
    "print(len(cleaned_data_20))\n",
    "print(len(outliers_data_20))"
   ]
  },
  {
   "cell_type": "code",
   "execution_count": 68,
   "id": "288c51ad-35ae-44f3-8afb-ad8b36e7fa5f",
   "metadata": {},
   "outputs": [
    {
     "data": {
      "text/html": [
       "<div>\n",
       "<style scoped>\n",
       "    .dataframe tbody tr th:only-of-type {\n",
       "        vertical-align: middle;\n",
       "    }\n",
       "\n",
       "    .dataframe tbody tr th {\n",
       "        vertical-align: top;\n",
       "    }\n",
       "\n",
       "    .dataframe thead th {\n",
       "        text-align: right;\n",
       "    }\n",
       "</style>\n",
       "<table border=\"1\" class=\"dataframe\">\n",
       "  <thead>\n",
       "    <tr style=\"text-align: right;\">\n",
       "      <th></th>\n",
       "      <th>Pβ2</th>\n",
       "      <th>Pα1</th>\n",
       "      <th>Pβ1</th>\n",
       "      <th>Pα2</th>\n",
       "      <th>P3</th>\n",
       "      <th>V</th>\n",
       "      <th>α</th>\n",
       "      <th>β</th>\n",
       "    </tr>\n",
       "  </thead>\n",
       "  <tbody>\n",
       "    <tr>\n",
       "      <th>0</th>\n",
       "      <td>0.04377</td>\n",
       "      <td>-0.22726</td>\n",
       "      <td>-0.19696</td>\n",
       "      <td>0.16666</td>\n",
       "      <td>0.05050</td>\n",
       "      <td>20.109356</td>\n",
       "      <td>-30</td>\n",
       "      <td>-20</td>\n",
       "    </tr>\n",
       "    <tr>\n",
       "      <th>1</th>\n",
       "      <td>0.04545</td>\n",
       "      <td>-0.22389</td>\n",
       "      <td>-0.19527</td>\n",
       "      <td>0.16666</td>\n",
       "      <td>0.05387</td>\n",
       "      <td>20.109356</td>\n",
       "      <td>-30</td>\n",
       "      <td>-20</td>\n",
       "    </tr>\n",
       "    <tr>\n",
       "      <th>2</th>\n",
       "      <td>0.04545</td>\n",
       "      <td>-0.22389</td>\n",
       "      <td>-0.19527</td>\n",
       "      <td>0.16834</td>\n",
       "      <td>0.05387</td>\n",
       "      <td>20.109356</td>\n",
       "      <td>-30</td>\n",
       "      <td>-20</td>\n",
       "    </tr>\n",
       "    <tr>\n",
       "      <th>3</th>\n",
       "      <td>0.04545</td>\n",
       "      <td>-0.22389</td>\n",
       "      <td>-0.19696</td>\n",
       "      <td>0.16834</td>\n",
       "      <td>0.05387</td>\n",
       "      <td>20.109356</td>\n",
       "      <td>-30</td>\n",
       "      <td>-20</td>\n",
       "    </tr>\n",
       "    <tr>\n",
       "      <th>4</th>\n",
       "      <td>0.04545</td>\n",
       "      <td>-0.22389</td>\n",
       "      <td>-0.19864</td>\n",
       "      <td>0.16666</td>\n",
       "      <td>0.05387</td>\n",
       "      <td>20.109356</td>\n",
       "      <td>-30</td>\n",
       "      <td>-20</td>\n",
       "    </tr>\n",
       "    <tr>\n",
       "      <th>...</th>\n",
       "      <td>...</td>\n",
       "      <td>...</td>\n",
       "      <td>...</td>\n",
       "      <td>...</td>\n",
       "      <td>...</td>\n",
       "      <td>...</td>\n",
       "      <td>...</td>\n",
       "      <td>...</td>\n",
       "    </tr>\n",
       "    <tr>\n",
       "      <th>1344</th>\n",
       "      <td>-0.37035</td>\n",
       "      <td>-0.13299</td>\n",
       "      <td>-0.35856</td>\n",
       "      <td>-0.27608</td>\n",
       "      <td>-0.37372</td>\n",
       "      <td>20.019834</td>\n",
       "      <td>90</td>\n",
       "      <td>0</td>\n",
       "    </tr>\n",
       "    <tr>\n",
       "      <th>1345</th>\n",
       "      <td>-0.36866</td>\n",
       "      <td>-0.13467</td>\n",
       "      <td>-0.36025</td>\n",
       "      <td>-0.27271</td>\n",
       "      <td>-0.37035</td>\n",
       "      <td>20.019834</td>\n",
       "      <td>90</td>\n",
       "      <td>0</td>\n",
       "    </tr>\n",
       "    <tr>\n",
       "      <th>1346</th>\n",
       "      <td>-0.37203</td>\n",
       "      <td>-0.13299</td>\n",
       "      <td>-0.36698</td>\n",
       "      <td>-0.27103</td>\n",
       "      <td>-0.37540</td>\n",
       "      <td>20.019834</td>\n",
       "      <td>90</td>\n",
       "      <td>0</td>\n",
       "    </tr>\n",
       "    <tr>\n",
       "      <th>1347</th>\n",
       "      <td>-0.36866</td>\n",
       "      <td>-0.13131</td>\n",
       "      <td>-0.37203</td>\n",
       "      <td>-0.27608</td>\n",
       "      <td>-0.38045</td>\n",
       "      <td>20.019834</td>\n",
       "      <td>90</td>\n",
       "      <td>0</td>\n",
       "    </tr>\n",
       "    <tr>\n",
       "      <th>1348</th>\n",
       "      <td>-0.37540</td>\n",
       "      <td>-0.13467</td>\n",
       "      <td>-0.36361</td>\n",
       "      <td>-0.27944</td>\n",
       "      <td>-0.38045</td>\n",
       "      <td>20.019834</td>\n",
       "      <td>90</td>\n",
       "      <td>0</td>\n",
       "    </tr>\n",
       "  </tbody>\n",
       "</table>\n",
       "<p>1349 rows × 8 columns</p>\n",
       "</div>"
      ],
      "text/plain": [
       "          Pβ2      Pα1      Pβ1      Pα2       P3          V   α   β\n",
       "0     0.04377 -0.22726 -0.19696  0.16666  0.05050  20.109356 -30 -20\n",
       "1     0.04545 -0.22389 -0.19527  0.16666  0.05387  20.109356 -30 -20\n",
       "2     0.04545 -0.22389 -0.19527  0.16834  0.05387  20.109356 -30 -20\n",
       "3     0.04545 -0.22389 -0.19696  0.16834  0.05387  20.109356 -30 -20\n",
       "4     0.04545 -0.22389 -0.19864  0.16666  0.05387  20.109356 -30 -20\n",
       "...       ...      ...      ...      ...      ...        ...  ..  ..\n",
       "1344 -0.37035 -0.13299 -0.35856 -0.27608 -0.37372  20.019834  90   0\n",
       "1345 -0.36866 -0.13467 -0.36025 -0.27271 -0.37035  20.019834  90   0\n",
       "1346 -0.37203 -0.13299 -0.36698 -0.27103 -0.37540  20.019834  90   0\n",
       "1347 -0.36866 -0.13131 -0.37203 -0.27608 -0.38045  20.019834  90   0\n",
       "1348 -0.37540 -0.13467 -0.36361 -0.27944 -0.38045  20.019834  90   0\n",
       "\n",
       "[1349 rows x 8 columns]"
      ]
     },
     "execution_count": 68,
     "metadata": {},
     "output_type": "execute_result"
    }
   ],
   "source": [
    "cleaned_data_20"
   ]
  },
  {
   "cell_type": "code",
   "execution_count": 69,
   "id": "64561f9a-f8f1-4a4c-a57b-49e0257ac5d9",
   "metadata": {},
   "outputs": [
    {
     "data": {
      "text/html": [
       "<div>\n",
       "<style scoped>\n",
       "    .dataframe tbody tr th:only-of-type {\n",
       "        vertical-align: middle;\n",
       "    }\n",
       "\n",
       "    .dataframe tbody tr th {\n",
       "        vertical-align: top;\n",
       "    }\n",
       "\n",
       "    .dataframe thead th {\n",
       "        text-align: right;\n",
       "    }\n",
       "</style>\n",
       "<table border=\"1\" class=\"dataframe\">\n",
       "  <thead>\n",
       "    <tr style=\"text-align: right;\">\n",
       "      <th></th>\n",
       "      <th>Pβ2</th>\n",
       "      <th>Pα1</th>\n",
       "      <th>Pβ1</th>\n",
       "      <th>Pα2</th>\n",
       "      <th>P3</th>\n",
       "      <th>V</th>\n",
       "      <th>α</th>\n",
       "      <th>β</th>\n",
       "    </tr>\n",
       "  </thead>\n",
       "  <tbody>\n",
       "    <tr>\n",
       "      <th>1605</th>\n",
       "      <td>-0.13636</td>\n",
       "      <td>0.21716</td>\n",
       "      <td>-0.18854</td>\n",
       "      <td>-0.26598</td>\n",
       "      <td>-0.0303</td>\n",
       "      <td>20.115891</td>\n",
       "      <td>45</td>\n",
       "      <td>-5</td>\n",
       "    </tr>\n",
       "  </tbody>\n",
       "</table>\n",
       "</div>"
      ],
      "text/plain": [
       "          Pβ2      Pα1      Pβ1      Pα2      P3          V   α  β\n",
       "1605 -0.13636  0.21716 -0.18854 -0.26598 -0.0303  20.115891  45 -5"
      ]
     },
     "execution_count": 69,
     "metadata": {},
     "output_type": "execute_result"
    }
   ],
   "source": [
    "outliers_data_20"
   ]
  },
  {
   "cell_type": "code",
   "execution_count": 9,
   "id": "422717b5-a000-4f60-9158-fc4469107515",
   "metadata": {},
   "outputs": [
    {
     "name": "stdout",
     "output_type": "stream",
     "text": [
      "1348\n"
     ]
    }
   ],
   "source": [
    "import pandas as pd\n",
    "import numpy as np\n",
    "\n",
    "z_threshold = 3\n",
    "\n",
    "# Initialize an empty list to store cleaned data\n",
    "cleaned_data_30 = []\n",
    "for (alpha, beta), group in df_V_30.groupby([\"α\", \"β\"]):\n",
    "    # Compute mean and standard deviation for the pressure columns\n",
    "    pressure_columns = ['P3', 'Pα1', 'Pα2', 'Pβ1', 'Pβ2']\n",
    "    stats = group[pressure_columns].agg(['mean', 'std'])\n",
    "    zero_std = stats.loc['std'] == 0.0\n",
    "    if zero_std.any():\n",
    "        cleaned_data_30.append(group)\n",
    "    z_scores = (group[pressure_columns] - stats.loc['mean']) / stats.loc['std']\n",
    "    # Identify non-outlier rows (where all z-scores are within the threshold)\n",
    "    non_outliers = (z_scores.abs() <= z_threshold).all(axis=1)\n",
    "    # Append non-outlier rows to the cleaned data\n",
    "    cleaned_data_30.append(group[non_outliers])\n",
    "\n",
    "# Combine all cleaned groups into a single DataFrame\n",
    "cleaned_data_30 = pd.concat(cleaned_data_30, ignore_index=True)\n",
    "print(len(cleaned_data_30))"
   ]
  },
  {
   "cell_type": "code",
   "execution_count": 10,
   "id": "7f70aaf8-336a-41ad-a1a9-081504e4a462",
   "metadata": {},
   "outputs": [
    {
     "name": "stdout",
     "output_type": "stream",
     "text": [
      "1349\n"
     ]
    }
   ],
   "source": [
    "import pandas as pd\n",
    "import numpy as np\n",
    "\n",
    "z_threshold = 3\n",
    "\n",
    "# Initialize an empty list to store cleaned data\n",
    "cleaned_data_40 = []\n",
    "for (alpha, beta), group in df_V_40.groupby([\"α\", \"β\"]):\n",
    "    # Compute mean and standard deviation for the pressure columns\n",
    "    pressure_columns = ['P3', 'Pα1', 'Pα2', 'Pβ1', 'Pβ2']\n",
    "    stats = group[pressure_columns].agg(['mean', 'std'])\n",
    "    zero_std = stats.loc['std'] == 0.0\n",
    "    if zero_std.any():\n",
    "        cleaned_data_40.append(group)\n",
    "    z_scores = (group[pressure_columns] - stats.loc['mean']) / stats.loc['std']\n",
    "    # Identify non-outlier rows (where all z-scores are within the threshold)\n",
    "    non_outliers = (z_scores.abs() <= z_threshold).all(axis=1)\n",
    "    # Append non-outlier rows to the cleaned data\n",
    "    cleaned_data_40.append(group[non_outliers])\n",
    "\n",
    "# Combine all cleaned groups into a single DataFrame\n",
    "cleaned_data_40 = pd.concat(cleaned_data_40, ignore_index=True)\n",
    "print(len(cleaned_data_40))"
   ]
  },
  {
   "cell_type": "code",
   "execution_count": 11,
   "id": "ac54a1df-e8e4-4b40-a6b6-8b40c2c0cca3",
   "metadata": {},
   "outputs": [
    {
     "name": "stdout",
     "output_type": "stream",
     "text": [
      "1349\n"
     ]
    }
   ],
   "source": [
    "import pandas as pd\n",
    "import numpy as np\n",
    "\n",
    "z_threshold = 3\n",
    "\n",
    "# Initialize an empty list to store cleaned data\n",
    "cleaned_data_50 = []\n",
    "for (alpha, beta), group in df_V_50.groupby([\"α\", \"β\"]):\n",
    "    # Compute mean and standard deviation for the pressure columns\n",
    "    pressure_columns = ['P3', 'Pα1', 'Pα2', 'Pβ1', 'Pβ2']\n",
    "    stats = group[pressure_columns].agg(['mean', 'std'])\n",
    "    zero_std = stats.loc['std'] == 0.0\n",
    "    if zero_std.any():\n",
    "        cleaned_data_50.append(group)\n",
    "    z_scores = (group[pressure_columns] - stats.loc['mean']) / stats.loc['std']\n",
    "    # Identify non-outlier rows (where all z-scores are within the threshold)\n",
    "    non_outliers = (z_scores.abs() <= z_threshold).all(axis=1)\n",
    "    # Append non-outlier rows to the cleaned data\n",
    "    cleaned_data_50.append(group[non_outliers])\n",
    "\n",
    "# Combine all cleaned groups into a single DataFrame\n",
    "cleaned_data_50 = pd.concat(cleaned_data_50, ignore_index=True)\n",
    "print(len(cleaned_data_50))"
   ]
  },
  {
   "cell_type": "code",
   "execution_count": 12,
   "id": "675a02c4-2afc-4d06-9c8f-fdff41706258",
   "metadata": {},
   "outputs": [],
   "source": [
    "all_new_data = pd.concat([cleaned_data_10,cleaned_data_20,cleaned_data_30,cleaned_data_40,cleaned_data_50])"
   ]
  },
  {
   "cell_type": "code",
   "execution_count": 16,
   "id": "eb3ce09b-6a19-4645-8ccc-f14352509a7c",
   "metadata": {},
   "outputs": [
    {
     "data": {
      "text/plain": [
       "pandas.core.frame.DataFrame"
      ]
     },
     "execution_count": 16,
     "metadata": {},
     "output_type": "execute_result"
    }
   ],
   "source": [
    "type(all_new_data)"
   ]
  },
  {
   "cell_type": "code",
   "execution_count": 17,
   "id": "331732eb-0dd9-4cf5-863b-8724ea57e46f",
   "metadata": {},
   "outputs": [],
   "source": [
    "all_new_data.to_csv('z_score_3_data_all.csv', index = False)"
   ]
  },
  {
   "cell_type": "markdown",
   "id": "dbd3877a-70dd-4d33-8e61-203f85638166",
   "metadata": {},
   "source": [
    "### FITTING TEST "
   ]
  },
  {
   "cell_type": "code",
   "execution_count": 13,
   "id": "51f780f1-6910-49f8-9ec1-0e8d90e5136c",
   "metadata": {},
   "outputs": [],
   "source": [
    "x_all = all_new_data.drop(columns = [\"V\",\"α\",\"β\"])\n",
    "y_all = all_new_data[[\"V\",\"α\",\"β\"]]\n",
    "\n",
    "x0_train, x0_test, y0_train, y0_test = train_test_split(x_all, y_all,\n",
    "                                                        random_state = 42, test_size = 0.2)"
   ]
  },
  {
   "cell_type": "code",
   "execution_count": 14,
   "id": "7bde6ef4-598a-4071-b033-9e462820e087",
   "metadata": {},
   "outputs": [
    {
     "name": "stdout",
     "output_type": "stream",
     "text": [
      "R2 : \n",
      " Alpha : 0.9999999813635029 \n",
      " Beta : 0.9754799679356125 \n",
      " V : 0.9999997386818632 \n",
      "MAE : \n",
      " Alpha : 0.002900631737174526 \n",
      " Beta : 0.6113072692778525 \n",
      " V : 0.0018535838752071477 \n",
      "MSE : \n",
      " Alpha : 2.4341832081807376e-05 \n",
      " Beta : 2.717894768619115 \n",
      " V : 5.205299177745659e-05 \n",
      "Max AERR : \n",
      " V     0.084610\n",
      "α     0.048644\n",
      "β    15.683398\n",
      "dtype: float64\n",
      "Waktu yang dibutuhkan :  1.3664827704429627\n"
     ]
    }
   ],
   "source": [
    "def max_absolute_error(y_true, y_pred):\n",
    "    return np.max(np.abs(y_true - y_pred), axis=0)\n",
    "scaler = StandardScaler()\n",
    "\n",
    "# Base models (Level Pertama)\n",
    "base_models = [\n",
    "    ('random_forest', RandomForestRegressor(n_estimators=250, max_depth=None, random_state=42, min_samples_leaf= 1, min_samples_split= 2, max_features = 'sqrt')),\n",
    "    ('gradient_boosting', GradientBoostingRegressor(n_estimators=200, learning_rate=0.0579, random_state=42, max_depth = 5)),\n",
    "    ('knn', make_pipeline(StandardScaler(), KNeighborsRegressor(n_neighbors=2, weights='distance', algorithm='auto')))\n",
    "]\n",
    "\n",
    "# Meta-model (Level Kedua)\n",
    "# Menggunakan Ridge Regression sebagai meta-model untuk menghindari overfitting\n",
    "meta_model = Ridge(alpha=0.1)\n",
    "\n",
    "# Membentuk Stacking Regressor\n",
    "stacking_regressor = StackingRegressor(\n",
    "    estimators=base_models,\n",
    "    final_estimator=meta_model,\n",
    "    passthrough=True  # Memasukkan data asli ke meta-model bersama prediksi base models\n",
    ")\n",
    "\n",
    "# Untuk multi-output, kita bungkus dengan MultiOutputRegressor\n",
    "model_all_best = MultiOutputRegressor(stacking_regressor)\n",
    "start = time.time()\n",
    "# Training\n",
    "model_all_best.fit(x0_train, y0_train)\n",
    "end = time.time()\n",
    "waktu = (end-start)/60\n",
    "# Prediction\n",
    "y0_pred = model_all_best.predict(x0_test)\n",
    "r2 = r2_score(y0_test, y0_pred, multioutput = 'raw_values')\n",
    "mae = mean_absolute_error(y0_test, y0_pred, multioutput = 'raw_values')\n",
    "mse = mean_squared_error(y0_test, y0_pred, multioutput = 'raw_values')\n",
    "max_ae = max_absolute_error(y0_test, y0_pred)\n",
    "print(f'R2 : \\n Alpha : {r2[1]} \\n Beta : {r2[2]} \\n V : {r2[0]} ')\n",
    "print(f'MAE : \\n Alpha : {mae[1]} \\n Beta : {mae[2]} \\n V : {mae[0]} ')\n",
    "print(f'MSE : \\n Alpha : {mse[1]} \\n Beta : {mse[2]} \\n V : {mse[0]} ')\n",
    "print('Max AERR : \\n', max_ae)\n",
    "print(\"Waktu yang dibutuhkan : \", waktu)"
   ]
  },
  {
   "cell_type": "code",
   "execution_count": 15,
   "id": "4af4fd13-7f5d-4e1a-bb35-ef4ec93d2ddd",
   "metadata": {},
   "outputs": [
    {
     "name": "stdout",
     "output_type": "stream",
     "text": [
      "R2 : \n",
      " Alpha : 0.999994665186823 \n",
      " Beta : 0.9766057978580309 \n",
      " V : 0.9999997622613017 \n",
      "MAE : \n",
      " Alpha : 0.007448516307425146 \n",
      " Beta : 0.5135625010666096 \n",
      " V : 0.001648827531161867 \n",
      "MSE : \n",
      " Alpha : 0.006968000781198357 \n",
      " Beta : 2.593103445000091 \n",
      " V : 4.735611027962295e-05 \n",
      "Max AERR : \n",
      " V     0.085385\n",
      "α     2.480493\n",
      "β    15.790903\n",
      "dtype: float64\n",
      "Waktu yang dibutuhkan :  1.8717913150787353\n"
     ]
    }
   ],
   "source": [
    "def max_absolute_error(y_true, y_pred):\n",
    "    return np.max(np.abs(y_true - y_pred), axis=0)\n",
    "scaler = StandardScaler()\n",
    "\n",
    "# Base models (Level Pertama)\n",
    "base_models = [\n",
    "    ('random_forest', RandomForestRegressor(n_estimators=100, max_depth=None, random_state=21, max_leaf_nodes= 800)),\n",
    "    ('gradient_boosting', GradientBoostingRegressor(n_estimators=200, learning_rate=0.05789, random_state=42, max_depth = 10)),\n",
    "    ('knn', make_pipeline(StandardScaler(), KNeighborsRegressor(n_neighbors=2, weights='distance', p =1)))\n",
    "]\n",
    "\n",
    "# Meta-model (Level Kedua)\n",
    "# Menggunakan Ridge Regression sebagai meta-model untuk menghindari overfitting\n",
    "meta_model = Ridge(alpha=0.1)\n",
    "\n",
    "# Membentuk Stacking Regressor\n",
    "stacking_regressor = StackingRegressor(\n",
    "    estimators=base_models,\n",
    "    final_estimator=meta_model,\n",
    "    passthrough=True  # Memasukkan data asli ke meta-model bersama prediksi base models\n",
    ")\n",
    "\n",
    "# Untuk multi-output, kita bungkus dengan MultiOutputRegressor\n",
    "model_all_best = MultiOutputRegressor(stacking_regressor)\n",
    "start = time.time()\n",
    "# Training\n",
    "model_all_best.fit(x0_train, y0_train)\n",
    "end = time.time()\n",
    "waktu = (end-start)/60\n",
    "# Prediction\n",
    "y0_pred = model_all_best.predict(x0_test)\n",
    "r2 = r2_score(y0_test, y0_pred, multioutput = 'raw_values')\n",
    "mae = mean_absolute_error(y0_test, y0_pred, multioutput = 'raw_values')\n",
    "mse = mean_squared_error(y0_test, y0_pred, multioutput = 'raw_values')\n",
    "max_ae = max_absolute_error(y0_test, y0_pred)\n",
    "print(f'R2 : \\n Alpha : {r2[1]} \\n Beta : {r2[2]} \\n V : {r2[0]} ')\n",
    "print(f'MAE : \\n Alpha : {mae[1]} \\n Beta : {mae[2]} \\n V : {mae[0]} ')\n",
    "print(f'MSE : \\n Alpha : {mse[1]} \\n Beta : {mse[2]} \\n V : {mse[0]} ')\n",
    "print('Max AERR : \\n', max_ae)\n",
    "print(\"Waktu yang dibutuhkan : \", waktu)"
   ]
  },
  {
   "cell_type": "markdown",
   "id": "38cb5059-a809-4d78-bd96-07db9719a765",
   "metadata": {},
   "source": [
    "## Z-SCORE THRESHOLD 2.9"
   ]
  },
  {
   "cell_type": "code",
   "execution_count": 18,
   "id": "3a7b785c-dbfe-4ac2-9740-ff6fc4d5c2f8",
   "metadata": {},
   "outputs": [
    {
     "name": "stdout",
     "output_type": "stream",
     "text": [
      "1350\n"
     ]
    }
   ],
   "source": [
    "import pandas as pd\n",
    "import numpy as np\n",
    "\n",
    "z_threshold = 2.9\n",
    "\n",
    "# Initialize an empty list to store cleaned data\n",
    "cleaned_data_10 = []\n",
    "for (alpha, beta), group in df_V_10.groupby([\"α\", \"β\"]):\n",
    "    # Compute mean and standard deviation for the pressure columns\n",
    "    pressure_columns = ['P3', 'Pα1', 'Pα2', 'Pβ1', 'Pβ2']\n",
    "    stats = group[pressure_columns].agg(['mean', 'std'])\n",
    "    zero_std = stats.loc['std'] == 0.0\n",
    "    if zero_std.any():\n",
    "        cleaned_data_10.append(group)\n",
    "    z_scores = (group[pressure_columns] - stats.loc['mean']) / stats.loc['std']\n",
    "    # Identify non-outlier rows (where all z-scores are within the threshold)\n",
    "    non_outliers = (z_scores.abs() <= z_threshold).all(axis=1)\n",
    "    # Append non-outlier rows to the cleaned data\n",
    "    cleaned_data_10.append(group[non_outliers])\n",
    "\n",
    "# Combine all cleaned groups into a single DataFrame\n",
    "cleaned_data_10 = pd.concat(cleaned_data_10, ignore_index=True)\n",
    "print(len(cleaned_data_10))"
   ]
  },
  {
   "cell_type": "code",
   "execution_count": 19,
   "id": "8eeea06c-6b1a-45ef-9676-42e6372a3f5c",
   "metadata": {},
   "outputs": [
    {
     "name": "stdout",
     "output_type": "stream",
     "text": [
      "1347\n"
     ]
    }
   ],
   "source": [
    "import pandas as pd\n",
    "import numpy as np\n",
    "\n",
    "z_threshold = 2.9\n",
    "\n",
    "# Initialize an empty list to store cleaned data\n",
    "cleaned_data_20 = []\n",
    "for (alpha, beta), group in df_V_20.groupby([\"α\", \"β\"]):\n",
    "    # Compute mean and standard deviation for the pressure columns\n",
    "    pressure_columns = ['P3', 'Pα1', 'Pα2', 'Pβ1', 'Pβ2']\n",
    "    stats = group[pressure_columns].agg(['mean', 'std'])\n",
    "    zero_std = stats.loc['std'] == 0.0\n",
    "    if zero_std.any():\n",
    "        cleaned_data_20.append(group)\n",
    "    z_scores = (group[pressure_columns] - stats.loc['mean']) / stats.loc['std']\n",
    "    # Identify non-outlier rows (where all z-scores are within the threshold)\n",
    "    non_outliers = (z_scores.abs() <= z_threshold).all(axis=1)\n",
    "    # Append non-outlier rows to the cleaned data\n",
    "    cleaned_data_20.append(group[non_outliers])\n",
    "\n",
    "# Combine all cleaned groups into a single DataFrame\n",
    "cleaned_data_20 = pd.concat(cleaned_data_20, ignore_index=True)\n",
    "print(len(cleaned_data_20))"
   ]
  },
  {
   "cell_type": "code",
   "execution_count": 20,
   "id": "35a45dfe-cc9f-4927-9dd2-c8f942f76d12",
   "metadata": {},
   "outputs": [
    {
     "name": "stdout",
     "output_type": "stream",
     "text": [
      "1347\n"
     ]
    }
   ],
   "source": [
    "import pandas as pd\n",
    "import numpy as np\n",
    "\n",
    "z_threshold = 2.9\n",
    "\n",
    "# Initialize an empty list to store cleaned data\n",
    "cleaned_data_30 = []\n",
    "for (alpha, beta), group in df_V_30.groupby([\"α\", \"β\"]):\n",
    "    # Compute mean and standard deviation for the pressure columns\n",
    "    pressure_columns = ['P3', 'Pα1', 'Pα2', 'Pβ1', 'Pβ2']\n",
    "    stats = group[pressure_columns].agg(['mean', 'std'])\n",
    "    zero_std = stats.loc['std'] == 0.0\n",
    "    if zero_std.any():\n",
    "        cleaned_data_30.append(group)\n",
    "    z_scores = (group[pressure_columns] - stats.loc['mean']) / stats.loc['std']\n",
    "    # Identify non-outlier rows (where all z-scores are within the threshold)\n",
    "    non_outliers = (z_scores.abs() <= z_threshold).all(axis=1)\n",
    "    # Append non-outlier rows to the cleaned data\n",
    "    cleaned_data_30.append(group[non_outliers])\n",
    "\n",
    "# Combine all cleaned groups into a single DataFrame\n",
    "cleaned_data_30 = pd.concat(cleaned_data_30, ignore_index=True)\n",
    "print(len(cleaned_data_30))"
   ]
  },
  {
   "cell_type": "code",
   "execution_count": 21,
   "id": "de527f5a-265b-4fbf-9128-29284063a2c7",
   "metadata": {},
   "outputs": [
    {
     "name": "stdout",
     "output_type": "stream",
     "text": [
      "1349\n"
     ]
    }
   ],
   "source": [
    "import pandas as pd\n",
    "import numpy as np\n",
    "\n",
    "z_threshold = 2.9\n",
    "\n",
    "# Initialize an empty list to store cleaned data\n",
    "cleaned_data_40 = []\n",
    "for (alpha, beta), group in df_V_40.groupby([\"α\", \"β\"]):\n",
    "    # Compute mean and standard deviation for the pressure columns\n",
    "    pressure_columns = ['P3', 'Pα1', 'Pα2', 'Pβ1', 'Pβ2']\n",
    "    stats = group[pressure_columns].agg(['mean', 'std'])\n",
    "    zero_std = stats.loc['std'] == 0.0\n",
    "    if zero_std.any():\n",
    "        cleaned_data_40.append(group)\n",
    "    z_scores = (group[pressure_columns] - stats.loc['mean']) / stats.loc['std']\n",
    "    # Identify non-outlier rows (where all z-scores are within the threshold)\n",
    "    non_outliers = (z_scores.abs() <= z_threshold).all(axis=1)\n",
    "    # Append non-outlier rows to the cleaned data\n",
    "    cleaned_data_40.append(group[non_outliers])\n",
    "\n",
    "# Combine all cleaned groups into a single DataFrame\n",
    "cleaned_data_40 = pd.concat(cleaned_data_40, ignore_index=True)\n",
    "print(len(cleaned_data_40))"
   ]
  },
  {
   "cell_type": "code",
   "execution_count": 22,
   "id": "55d861a7-65b3-4147-9d7c-b9126665b17d",
   "metadata": {},
   "outputs": [
    {
     "name": "stdout",
     "output_type": "stream",
     "text": [
      "1349\n"
     ]
    }
   ],
   "source": [
    "import pandas as pd\n",
    "import numpy as np\n",
    "\n",
    "z_threshold = 2.9\n",
    "\n",
    "# Initialize an empty list to store cleaned data\n",
    "cleaned_data_50 = []\n",
    "for (alpha, beta), group in df_V_50.groupby([\"α\", \"β\"]):\n",
    "    # Compute mean and standard deviation for the pressure columns\n",
    "    pressure_columns = ['P3', 'Pα1', 'Pα2', 'Pβ1', 'Pβ2']\n",
    "    stats = group[pressure_columns].agg(['mean', 'std'])\n",
    "    zero_std = stats.loc['std'] == 0.0\n",
    "    if zero_std.any():\n",
    "        cleaned_data_50.append(group)\n",
    "    z_scores = (group[pressure_columns] - stats.loc['mean']) / stats.loc['std']\n",
    "    # Identify non-outlier rows (where all z-scores are within the threshold)\n",
    "    non_outliers = (z_scores.abs() <= z_threshold).all(axis=1)\n",
    "    # Append non-outlier rows to the cleaned data\n",
    "    cleaned_data_50.append(group[non_outliers])\n",
    "\n",
    "# Combine all cleaned groups into a single DataFrame\n",
    "cleaned_data_50 = pd.concat(cleaned_data_50, ignore_index=True)\n",
    "print(len(cleaned_data_50))"
   ]
  },
  {
   "cell_type": "code",
   "execution_count": 23,
   "id": "a4f001ea-cafe-45c7-9bdd-8992ae79413b",
   "metadata": {},
   "outputs": [],
   "source": [
    "all_new_data = pd.concat([cleaned_data_10,cleaned_data_20,cleaned_data_30,cleaned_data_40,cleaned_data_50])"
   ]
  },
  {
   "cell_type": "code",
   "execution_count": 24,
   "id": "18502281-44b4-4b78-99d7-3673d444c151",
   "metadata": {},
   "outputs": [],
   "source": [
    "all_new_data.to_csv('z_score_2_9_data_all.csv', index = False)"
   ]
  },
  {
   "cell_type": "markdown",
   "id": "4329af47-d11f-4be9-84aa-b33d9cf1e2a1",
   "metadata": {},
   "source": [
    "### FITTING TEST"
   ]
  },
  {
   "cell_type": "code",
   "execution_count": 26,
   "id": "36ebe1f7-9d4d-421e-8fe0-31e67c05e01e",
   "metadata": {},
   "outputs": [],
   "source": [
    "x_all = all_new_data.drop(columns = [\"V\",\"α\",\"β\"])\n",
    "y_all = all_new_data[[\"V\",\"α\",\"β\"]]\n",
    "\n",
    "x0_train, x0_test, y0_train, y0_test = train_test_split(x_all, y_all,\n",
    "                                                        random_state = 42, test_size = 0.2)"
   ]
  },
  {
   "cell_type": "code",
   "execution_count": 27,
   "id": "65fb2a91-683a-43b1-9d1b-9264c727cfc7",
   "metadata": {},
   "outputs": [
    {
     "name": "stdout",
     "output_type": "stream",
     "text": [
      "R2 : \n",
      " Alpha : 0.9999999780115081 \n",
      " Beta : 0.9765728253213541 \n",
      " V : 0.9999997011930635 \n",
      "MAE : \n",
      " Alpha : 0.0030920227924256813 \n",
      " Beta : 0.5866175224948335 \n",
      " V : 0.0019867347370575777 \n",
      "MSE : \n",
      " Alpha : 2.8258827567068533e-05 \n",
      " Beta : 2.5282095331334786 \n",
      " V : 6.045829308507132e-05 \n",
      "Max AERR : \n",
      " V     0.084659\n",
      "α     0.044131\n",
      "β    14.264637\n",
      "dtype: float64\n",
      "Waktu yang dibutuhkan :  1.4488877415657044\n"
     ]
    }
   ],
   "source": [
    "def max_absolute_error(y_true, y_pred):\n",
    "    return np.max(np.abs(y_true - y_pred), axis=0)\n",
    "scaler = StandardScaler()\n",
    "\n",
    "# Base models (Level Pertama)\n",
    "base_models = [\n",
    "    ('random_forest', RandomForestRegressor(n_estimators=250, max_depth=None, random_state=42, min_samples_leaf= 1, min_samples_split= 2, max_features = 'sqrt')),\n",
    "    ('gradient_boosting', GradientBoostingRegressor(n_estimators=200, learning_rate=0.0579, random_state=42, max_depth = 5)),\n",
    "    ('knn', make_pipeline(StandardScaler(), KNeighborsRegressor(n_neighbors=2, weights='distance', algorithm='auto')))\n",
    "]\n",
    "\n",
    "# Meta-model (Level Kedua)\n",
    "# Menggunakan Ridge Regression sebagai meta-model untuk menghindari overfitting\n",
    "meta_model = Ridge(alpha=0.1)\n",
    "\n",
    "# Membentuk Stacking Regressor\n",
    "stacking_regressor = StackingRegressor(\n",
    "    estimators=base_models,\n",
    "    final_estimator=meta_model,\n",
    "    passthrough=True  # Memasukkan data asli ke meta-model bersama prediksi base models\n",
    ")\n",
    "\n",
    "# Untuk multi-output, kita bungkus dengan MultiOutputRegressor\n",
    "model_all_best = MultiOutputRegressor(stacking_regressor)\n",
    "start = time.time()\n",
    "# Training\n",
    "model_all_best.fit(x0_train, y0_train)\n",
    "end = time.time()\n",
    "waktu = (end-start)/60\n",
    "# Prediction\n",
    "y0_pred = model_all_best.predict(x0_test)\n",
    "r2 = r2_score(y0_test, y0_pred, multioutput = 'raw_values')\n",
    "mae = mean_absolute_error(y0_test, y0_pred, multioutput = 'raw_values')\n",
    "mse = mean_squared_error(y0_test, y0_pred, multioutput = 'raw_values')\n",
    "max_ae = max_absolute_error(y0_test, y0_pred)\n",
    "print(f'R2 : \\n Alpha : {r2[1]} \\n Beta : {r2[2]} \\n V : {r2[0]} ')\n",
    "print(f'MAE : \\n Alpha : {mae[1]} \\n Beta : {mae[2]} \\n V : {mae[0]} ')\n",
    "print(f'MSE : \\n Alpha : {mse[1]} \\n Beta : {mse[2]} \\n V : {mse[0]} ')\n",
    "print('Max AERR : \\n', max_ae)\n",
    "print(\"Waktu yang dibutuhkan : \", waktu)"
   ]
  },
  {
   "cell_type": "code",
   "execution_count": 28,
   "id": "4c7f95d5-73bf-4aea-8e71-9589daa52af3",
   "metadata": {},
   "outputs": [
    {
     "name": "stdout",
     "output_type": "stream",
     "text": [
      "R2 : \n",
      " Alpha : 0.9999945551939211 \n",
      " Beta : 0.9767137482482344 \n",
      " V : 0.9999997262559935 \n",
      "MAE : \n",
      " Alpha : 0.00698675680957439 \n",
      " Beta : 0.5332009038536822 \n",
      " V : 0.001956720461737238 \n",
      "MSE : \n",
      " Alpha : 0.006997471056273844 \n",
      " Beta : 2.513001438599545 \n",
      " V : 5.5387252948957966e-05 \n",
      "Max AERR : \n",
      " V     0.083771\n",
      "α     2.448134\n",
      "β    15.197979\n",
      "dtype: float64\n",
      "Waktu yang dibutuhkan :  1.8403093218803406\n"
     ]
    }
   ],
   "source": [
    "def max_absolute_error(y_true, y_pred):\n",
    "    return np.max(np.abs(y_true - y_pred), axis=0)\n",
    "scaler = StandardScaler()\n",
    "\n",
    "# Base models (Level Pertama)\n",
    "base_models = [\n",
    "    ('random_forest', RandomForestRegressor(n_estimators=100, max_depth=None, random_state=21, max_leaf_nodes= 800)),\n",
    "    ('gradient_boosting', GradientBoostingRegressor(n_estimators=200, learning_rate=0.05789, random_state=42, max_depth = 10)),\n",
    "    ('knn', make_pipeline(StandardScaler(), KNeighborsRegressor(n_neighbors=2, weights='distance', p =1)))\n",
    "]\n",
    "\n",
    "# Meta-model (Level Kedua)\n",
    "# Menggunakan Ridge Regression sebagai meta-model untuk menghindari overfitting\n",
    "meta_model = Ridge(alpha=0.1)\n",
    "\n",
    "# Membentuk Stacking Regressor\n",
    "stacking_regressor = StackingRegressor(\n",
    "    estimators=base_models,\n",
    "    final_estimator=meta_model,\n",
    "    passthrough=True  # Memasukkan data asli ke meta-model bersama prediksi base models\n",
    ")\n",
    "\n",
    "# Untuk multi-output, kita bungkus dengan MultiOutputRegressor\n",
    "model_all_best = MultiOutputRegressor(stacking_regressor)\n",
    "start = time.time()\n",
    "# Training\n",
    "model_all_best.fit(x0_train, y0_train)\n",
    "end = time.time()\n",
    "waktu = (end-start)/60\n",
    "# Prediction\n",
    "y0_pred = model_all_best.predict(x0_test)\n",
    "r2 = r2_score(y0_test, y0_pred, multioutput = 'raw_values')\n",
    "mae = mean_absolute_error(y0_test, y0_pred, multioutput = 'raw_values')\n",
    "mse = mean_squared_error(y0_test, y0_pred, multioutput = 'raw_values')\n",
    "max_ae = max_absolute_error(y0_test, y0_pred)\n",
    "print(f'R2 : \\n Alpha : {r2[1]} \\n Beta : {r2[2]} \\n V : {r2[0]} ')\n",
    "print(f'MAE : \\n Alpha : {mae[1]} \\n Beta : {mae[2]} \\n V : {mae[0]} ')\n",
    "print(f'MSE : \\n Alpha : {mse[1]} \\n Beta : {mse[2]} \\n V : {mse[0]} ')\n",
    "print('Max AERR : \\n', max_ae)\n",
    "print(\"Waktu yang dibutuhkan : \", waktu)"
   ]
  },
  {
   "cell_type": "markdown",
   "id": "11409a4e-8ed8-45da-8f57-d3786cde382a",
   "metadata": {},
   "source": [
    "## Z-SCORE THRESHOLD 2.8"
   ]
  },
  {
   "cell_type": "code",
   "execution_count": 29,
   "id": "844e94f2-58ee-469f-a0ec-a6ef81cbc4a1",
   "metadata": {},
   "outputs": [
    {
     "name": "stdout",
     "output_type": "stream",
     "text": [
      "1328\n"
     ]
    }
   ],
   "source": [
    "import pandas as pd\n",
    "import numpy as np\n",
    "\n",
    "z_threshold = 2.8\n",
    "\n",
    "# Initialize an empty list to store cleaned data\n",
    "cleaned_data_10 = []\n",
    "for (alpha, beta), group in df_V_10.groupby([\"α\", \"β\"]):\n",
    "    # Compute mean and standard deviation for the pressure columns\n",
    "    pressure_columns = ['P3', 'Pα1', 'Pα2', 'Pβ1', 'Pβ2']\n",
    "    stats = group[pressure_columns].agg(['mean', 'std'])\n",
    "    zero_std = stats.loc['std'] == 0.0\n",
    "    if zero_std.any():\n",
    "        cleaned_data_10.append(group)\n",
    "    z_scores = (group[pressure_columns] - stats.loc['mean']) / stats.loc['std']\n",
    "    # Identify non-outlier rows (where all z-scores are within the threshold)\n",
    "    non_outliers = (z_scores.abs() <= z_threshold).all(axis=1)\n",
    "    # Append non-outlier rows to the cleaned data\n",
    "    cleaned_data_10.append(group[non_outliers])\n",
    "\n",
    "# Combine all cleaned groups into a single DataFrame\n",
    "cleaned_data_10 = pd.concat(cleaned_data_10, ignore_index=True)\n",
    "print(len(cleaned_data_10))"
   ]
  },
  {
   "cell_type": "code",
   "execution_count": 30,
   "id": "c45163c7-498e-4ae1-8c4a-6fc0532bba3e",
   "metadata": {},
   "outputs": [
    {
     "name": "stdout",
     "output_type": "stream",
     "text": [
      "1340\n"
     ]
    }
   ],
   "source": [
    "import pandas as pd\n",
    "import numpy as np\n",
    "\n",
    "z_threshold = 2.8\n",
    "\n",
    "# Initialize an empty list to store cleaned data\n",
    "cleaned_data_20 = []\n",
    "for (alpha, beta), group in df_V_20.groupby([\"α\", \"β\"]):\n",
    "    # Compute mean and standard deviation for the pressure columns\n",
    "    pressure_columns = ['P3', 'Pα1', 'Pα2', 'Pβ1', 'Pβ2']\n",
    "    stats = group[pressure_columns].agg(['mean', 'std'])\n",
    "    zero_std = stats.loc['std'] == 0.0\n",
    "    if zero_std.any():\n",
    "        cleaned_data_20.append(group)\n",
    "    z_scores = (group[pressure_columns] - stats.loc['mean']) / stats.loc['std']\n",
    "    # Identify non-outlier rows (where all z-scores are within the threshold)\n",
    "    non_outliers = (z_scores.abs() <= z_threshold).all(axis=1)\n",
    "    # Append non-outlier rows to the cleaned data\n",
    "    cleaned_data_20.append(group[non_outliers])\n",
    "\n",
    "# Combine all cleaned groups into a single DataFrame\n",
    "cleaned_data_20 = pd.concat(cleaned_data_20, ignore_index=True)\n",
    "print(len(cleaned_data_20))"
   ]
  },
  {
   "cell_type": "code",
   "execution_count": 31,
   "id": "6d93e3af-2531-4054-a05d-a53c3848277f",
   "metadata": {},
   "outputs": [
    {
     "name": "stdout",
     "output_type": "stream",
     "text": [
      "1343\n"
     ]
    }
   ],
   "source": [
    "import pandas as pd\n",
    "import numpy as np\n",
    "\n",
    "z_threshold = 2.8\n",
    "\n",
    "# Initialize an empty list to store cleaned data\n",
    "cleaned_data_30 = []\n",
    "for (alpha, beta), group in df_V_30.groupby([\"α\", \"β\"]):\n",
    "    # Compute mean and standard deviation for the pressure columns\n",
    "    pressure_columns = ['P3', 'Pα1', 'Pα2', 'Pβ1', 'Pβ2']\n",
    "    stats = group[pressure_columns].agg(['mean', 'std'])\n",
    "    zero_std = stats.loc['std'] == 0.0\n",
    "    if zero_std.any():\n",
    "        cleaned_data_30.append(group)\n",
    "    z_scores = (group[pressure_columns] - stats.loc['mean']) / stats.loc['std']\n",
    "    # Identify non-outlier rows (where all z-scores are within the threshold)\n",
    "    non_outliers = (z_scores.abs() <= z_threshold).all(axis=1)\n",
    "    # Append non-outlier rows to the cleaned data\n",
    "    cleaned_data_30.append(group[non_outliers])\n",
    "\n",
    "# Combine all cleaned groups into a single DataFrame\n",
    "cleaned_data_30 = pd.concat(cleaned_data_30, ignore_index=True)\n",
    "print(len(cleaned_data_30))"
   ]
  },
  {
   "cell_type": "code",
   "execution_count": 32,
   "id": "525a7bb0-ca08-4da2-a1bb-26c74ca5eb75",
   "metadata": {},
   "outputs": [
    {
     "name": "stdout",
     "output_type": "stream",
     "text": [
      "1343\n"
     ]
    }
   ],
   "source": [
    "import pandas as pd\n",
    "import numpy as np\n",
    "\n",
    "z_threshold = 2.8\n",
    "\n",
    "# Initialize an empty list to store cleaned data\n",
    "cleaned_data_40 = []\n",
    "for (alpha, beta), group in df_V_40.groupby([\"α\", \"β\"]):\n",
    "    # Compute mean and standard deviation for the pressure columns\n",
    "    pressure_columns = ['P3', 'Pα1', 'Pα2', 'Pβ1', 'Pβ2']\n",
    "    stats = group[pressure_columns].agg(['mean', 'std'])\n",
    "    zero_std = stats.loc['std'] == 0.0\n",
    "    if zero_std.any():\n",
    "        cleaned_data_40.append(group)\n",
    "    z_scores = (group[pressure_columns] - stats.loc['mean']) / stats.loc['std']\n",
    "    # Identify non-outlier rows (where all z-scores are within the threshold)\n",
    "    non_outliers = (z_scores.abs() <= z_threshold).all(axis=1)\n",
    "    # Append non-outlier rows to the cleaned data\n",
    "    cleaned_data_40.append(group[non_outliers])\n",
    "\n",
    "# Combine all cleaned groups into a single DataFrame\n",
    "cleaned_data_40 = pd.concat(cleaned_data_40, ignore_index=True)\n",
    "print(len(cleaned_data_40))"
   ]
  },
  {
   "cell_type": "code",
   "execution_count": 33,
   "id": "336bf4c3-9602-4f3f-9333-eb1690cda11b",
   "metadata": {},
   "outputs": [
    {
     "name": "stdout",
     "output_type": "stream",
     "text": [
      "1347\n"
     ]
    }
   ],
   "source": [
    "import pandas as pd\n",
    "import numpy as np\n",
    "\n",
    "z_threshold = 2.8\n",
    "\n",
    "# Initialize an empty list to store cleaned data\n",
    "cleaned_data_50 = []\n",
    "for (alpha, beta), group in df_V_50.groupby([\"α\", \"β\"]):\n",
    "    # Compute mean and standard deviation for the pressure columns\n",
    "    pressure_columns = ['P3', 'Pα1', 'Pα2', 'Pβ1', 'Pβ2']\n",
    "    stats = group[pressure_columns].agg(['mean', 'std'])\n",
    "    zero_std = stats.loc['std'] == 0.0\n",
    "    if zero_std.any():\n",
    "        cleaned_data_50.append(group)\n",
    "    z_scores = (group[pressure_columns] - stats.loc['mean']) / stats.loc['std']\n",
    "    # Identify non-outlier rows (where all z-scores are within the threshold)\n",
    "    non_outliers = (z_scores.abs() <= z_threshold).all(axis=1)\n",
    "    # Append non-outlier rows to the cleaned data\n",
    "    cleaned_data_50.append(group[non_outliers])\n",
    "\n",
    "# Combine all cleaned groups into a single DataFrame\n",
    "cleaned_data_50 = pd.concat(cleaned_data_50, ignore_index=True)\n",
    "print(len(cleaned_data_50))"
   ]
  },
  {
   "cell_type": "code",
   "execution_count": 34,
   "id": "ea89b04e-bc44-4735-a18d-7eee27d40bb7",
   "metadata": {},
   "outputs": [],
   "source": [
    "all_new_data = pd.concat([cleaned_data_10,cleaned_data_20,cleaned_data_30,cleaned_data_40,cleaned_data_50])"
   ]
  },
  {
   "cell_type": "markdown",
   "id": "8bf693fc-c3d8-4834-b357-6b09115cee36",
   "metadata": {},
   "source": [
    "### FITTING TEST"
   ]
  },
  {
   "cell_type": "code",
   "execution_count": 35,
   "id": "6790e8db-55d5-4873-b8c5-6a0fe27dcdf5",
   "metadata": {},
   "outputs": [],
   "source": [
    "x_all = all_new_data.drop(columns = [\"V\",\"α\",\"β\"])\n",
    "y_all = all_new_data[[\"V\",\"α\",\"β\"]]\n",
    "\n",
    "x0_train, x0_test, y0_train, y0_test = train_test_split(x_all, y_all,\n",
    "                                                        random_state = 42, test_size = 0.2)"
   ]
  },
  {
   "cell_type": "code",
   "execution_count": 36,
   "id": "c01aa5d6-bb7c-410c-a28b-a864b917bd26",
   "metadata": {},
   "outputs": [
    {
     "name": "stdout",
     "output_type": "stream",
     "text": [
      "R2 : \n",
      " Alpha : 0.9999999928710842 \n",
      " Beta : 0.9792938942611902 \n",
      " V : 0.9999997056095283 \n",
      "MAE : \n",
      " Alpha : 0.0022288091378396997 \n",
      " Beta : 0.5778565393704921 \n",
      " V : 0.0018750183123913656 \n",
      "MSE : \n",
      " Alpha : 9.210824079675487e-06 \n",
      " Beta : 2.4025502389082196 \n",
      " V : 5.8945466889822694e-05 \n",
      "Max AERR : \n",
      " V     0.084613\n",
      "α     0.026814\n",
      "β    13.696253\n",
      "dtype: float64\n",
      "Waktu yang dibutuhkan :  1.354686963558197\n"
     ]
    }
   ],
   "source": [
    "def max_absolute_error(y_true, y_pred):\n",
    "    return np.max(np.abs(y_true - y_pred), axis=0)\n",
    "scaler = StandardScaler()\n",
    "\n",
    "# Base models (Level Pertama)\n",
    "base_models = [\n",
    "    ('random_forest', RandomForestRegressor(n_estimators=250, max_depth=None, random_state=42, min_samples_leaf= 1, min_samples_split= 2, max_features = 'sqrt')),\n",
    "    ('gradient_boosting', GradientBoostingRegressor(n_estimators=200, learning_rate=0.0579, random_state=42, max_depth = 5)),\n",
    "    ('knn', make_pipeline(StandardScaler(), KNeighborsRegressor(n_neighbors=2, weights='distance', algorithm='auto')))\n",
    "]\n",
    "\n",
    "# Meta-model (Level Kedua)\n",
    "# Menggunakan Ridge Regression sebagai meta-model untuk menghindari overfitting\n",
    "meta_model = Ridge(alpha=0.1)\n",
    "\n",
    "# Membentuk Stacking Regressor\n",
    "stacking_regressor = StackingRegressor(\n",
    "    estimators=base_models,\n",
    "    final_estimator=meta_model,\n",
    "    passthrough=True  # Memasukkan data asli ke meta-model bersama prediksi base models\n",
    ")\n",
    "\n",
    "# Untuk multi-output, kita bungkus dengan MultiOutputRegressor\n",
    "model_all_best = MultiOutputRegressor(stacking_regressor)\n",
    "start = time.time()\n",
    "# Training\n",
    "model_all_best.fit(x0_train, y0_train)\n",
    "end = time.time()\n",
    "waktu = (end-start)/60\n",
    "# Prediction\n",
    "y0_pred = model_all_best.predict(x0_test)\n",
    "r2 = r2_score(y0_test, y0_pred, multioutput = 'raw_values')\n",
    "mae = mean_absolute_error(y0_test, y0_pred, multioutput = 'raw_values')\n",
    "mse = mean_squared_error(y0_test, y0_pred, multioutput = 'raw_values')\n",
    "max_ae = max_absolute_error(y0_test, y0_pred)\n",
    "print(f'R2 : \\n Alpha : {r2[1]} \\n Beta : {r2[2]} \\n V : {r2[0]} ')\n",
    "print(f'MAE : \\n Alpha : {mae[1]} \\n Beta : {mae[2]} \\n V : {mae[0]} ')\n",
    "print(f'MSE : \\n Alpha : {mse[1]} \\n Beta : {mse[2]} \\n V : {mse[0]} ')\n",
    "print('Max AERR : \\n', max_ae)\n",
    "print(\"Waktu yang dibutuhkan : \", waktu)"
   ]
  },
  {
   "cell_type": "code",
   "execution_count": 37,
   "id": "b59de915-5568-41cd-ab4b-46c376f66cd4",
   "metadata": {},
   "outputs": [
    {
     "name": "stdout",
     "output_type": "stream",
     "text": [
      "R2 : \n",
      " Alpha : 0.9999933231495252 \n",
      " Beta : 0.978647107563091 \n",
      " V : 0.9999997353578857 \n",
      "MAE : \n",
      " Alpha : 0.006661024373368182 \n",
      " Beta : 0.5346779347186728 \n",
      " V : 0.0017969770983179128 \n",
      "MSE : \n",
      " Alpha : 0.008626738828328437 \n",
      " Beta : 2.477597548896993 \n",
      " V : 5.298898736363187e-05 \n",
      "Max AERR : \n",
      " V     0.085386\n",
      "α     2.655496\n",
      "β    14.544796\n",
      "dtype: float64\n",
      "Waktu yang dibutuhkan :  1.859025001525879\n"
     ]
    }
   ],
   "source": [
    "def max_absolute_error(y_true, y_pred):\n",
    "    return np.max(np.abs(y_true - y_pred), axis=0)\n",
    "scaler = StandardScaler()\n",
    "\n",
    "# Base models (Level Pertama)\n",
    "base_models = [\n",
    "    ('random_forest', RandomForestRegressor(n_estimators=100, max_depth=None, random_state=21, max_leaf_nodes= 800)),\n",
    "    ('gradient_boosting', GradientBoostingRegressor(n_estimators=200, learning_rate=0.05789, random_state=42, max_depth = 10)),\n",
    "    ('knn', make_pipeline(StandardScaler(), KNeighborsRegressor(n_neighbors=2, weights='distance', p =1)))\n",
    "]\n",
    "\n",
    "# Meta-model (Level Kedua)\n",
    "# Menggunakan Ridge Regression sebagai meta-model untuk menghindari overfitting\n",
    "meta_model = Ridge(alpha=0.1)\n",
    "\n",
    "# Membentuk Stacking Regressor\n",
    "stacking_regressor = StackingRegressor(\n",
    "    estimators=base_models,\n",
    "    final_estimator=meta_model,\n",
    "    passthrough=True  # Memasukkan data asli ke meta-model bersama prediksi base models\n",
    ")\n",
    "\n",
    "# Untuk multi-output, kita bungkus dengan MultiOutputRegressor\n",
    "model_all_best = MultiOutputRegressor(stacking_regressor)\n",
    "start = time.time()\n",
    "# Training\n",
    "model_all_best.fit(x0_train, y0_train)\n",
    "end = time.time()\n",
    "waktu = (end-start)/60\n",
    "# Prediction\n",
    "y0_pred = model_all_best.predict(x0_test)\n",
    "r2 = r2_score(y0_test, y0_pred, multioutput = 'raw_values')\n",
    "mae = mean_absolute_error(y0_test, y0_pred, multioutput = 'raw_values')\n",
    "mse = mean_squared_error(y0_test, y0_pred, multioutput = 'raw_values')\n",
    "max_ae = max_absolute_error(y0_test, y0_pred)\n",
    "print(f'R2 : \\n Alpha : {r2[1]} \\n Beta : {r2[2]} \\n V : {r2[0]} ')\n",
    "print(f'MAE : \\n Alpha : {mae[1]} \\n Beta : {mae[2]} \\n V : {mae[0]} ')\n",
    "print(f'MSE : \\n Alpha : {mse[1]} \\n Beta : {mse[2]} \\n V : {mse[0]} ')\n",
    "print('Max AERR : \\n', max_ae)\n",
    "print(\"Waktu yang dibutuhkan : \", waktu)"
   ]
  },
  {
   "cell_type": "markdown",
   "id": "80690998-c276-4a3b-a610-ec0701aad427",
   "metadata": {},
   "source": [
    "## Z-SCORE THRESHOLD 2.7"
   ]
  },
  {
   "cell_type": "code",
   "execution_count": 38,
   "id": "dca5a17b-a33f-4f2a-902e-dd106cd6f007",
   "metadata": {},
   "outputs": [
    {
     "name": "stdout",
     "output_type": "stream",
     "text": [
      "1328\n"
     ]
    }
   ],
   "source": [
    "import pandas as pd\n",
    "import numpy as np\n",
    "\n",
    "z_threshold = 2.7\n",
    "\n",
    "# Initialize an empty list to store cleaned data\n",
    "cleaned_data_10 = []\n",
    "for (alpha, beta), group in df_V_10.groupby([\"α\", \"β\"]):\n",
    "    # Compute mean and standard deviation for the pressure columns\n",
    "    pressure_columns = ['P3', 'Pα1', 'Pα2', 'Pβ1', 'Pβ2']\n",
    "    stats = group[pressure_columns].agg(['mean', 'std'])\n",
    "    zero_std = stats.loc['std'] == 0.0\n",
    "    if zero_std.any():\n",
    "        cleaned_data_10.append(group)\n",
    "    z_scores = (group[pressure_columns] - stats.loc['mean']) / stats.loc['std']\n",
    "    # Identify non-outlier rows (where all z-scores are within the threshold)\n",
    "    non_outliers = (z_scores.abs() <= z_threshold).all(axis=1)\n",
    "    # Append non-outlier rows to the cleaned data\n",
    "    cleaned_data_10.append(group[non_outliers])\n",
    "\n",
    "# Combine all cleaned groups into a single DataFrame\n",
    "cleaned_data_10 = pd.concat(cleaned_data_10, ignore_index=True)\n",
    "print(len(cleaned_data_10))"
   ]
  },
  {
   "cell_type": "code",
   "execution_count": 39,
   "id": "dc5c6ff9-e0d8-4883-a141-b1464a769331",
   "metadata": {},
   "outputs": [
    {
     "name": "stdout",
     "output_type": "stream",
     "text": [
      "1339\n"
     ]
    }
   ],
   "source": [
    "import pandas as pd\n",
    "import numpy as np\n",
    "\n",
    "z_threshold = 2.7\n",
    "\n",
    "# Initialize an empty list to store cleaned data\n",
    "cleaned_data_20 = []\n",
    "for (alpha, beta), group in df_V_20.groupby([\"α\", \"β\"]):\n",
    "    # Compute mean and standard deviation for the pressure columns\n",
    "    pressure_columns = ['P3', 'Pα1', 'Pα2', 'Pβ1', 'Pβ2']\n",
    "    stats = group[pressure_columns].agg(['mean', 'std'])\n",
    "    zero_std = stats.loc['std'] == 0.0\n",
    "    if zero_std.any():\n",
    "        cleaned_data_20.append(group)\n",
    "    z_scores = (group[pressure_columns] - stats.loc['mean']) / stats.loc['std']\n",
    "    # Identify non-outlier rows (where all z-scores are within the threshold)\n",
    "    non_outliers = (z_scores.abs() <= z_threshold).all(axis=1)\n",
    "    # Append non-outlier rows to the cleaned data\n",
    "    cleaned_data_20.append(group[non_outliers])\n",
    "\n",
    "# Combine all cleaned groups into a single DataFrame\n",
    "cleaned_data_20 = pd.concat(cleaned_data_20, ignore_index=True)\n",
    "print(len(cleaned_data_20))"
   ]
  },
  {
   "cell_type": "code",
   "execution_count": 40,
   "id": "dc1952ce-8c13-4e66-bd23-e73b6b7d1adf",
   "metadata": {},
   "outputs": [
    {
     "name": "stdout",
     "output_type": "stream",
     "text": [
      "1341\n"
     ]
    }
   ],
   "source": [
    "import pandas as pd\n",
    "import numpy as np\n",
    "\n",
    "z_threshold = 2.7\n",
    "\n",
    "# Initialize an empty list to store cleaned data\n",
    "cleaned_data_30 = []\n",
    "for (alpha, beta), group in df_V_30.groupby([\"α\", \"β\"]):\n",
    "    # Compute mean and standard deviation for the pressure columns\n",
    "    pressure_columns = ['P3', 'Pα1', 'Pα2', 'Pβ1', 'Pβ2']\n",
    "    stats = group[pressure_columns].agg(['mean', 'std'])\n",
    "    zero_std = stats.loc['std'] == 0.0\n",
    "    if zero_std.any():\n",
    "        cleaned_data_30.append(group)\n",
    "    z_scores = (group[pressure_columns] - stats.loc['mean']) / stats.loc['std']\n",
    "    # Identify non-outlier rows (where all z-scores are within the threshold)\n",
    "    non_outliers = (z_scores.abs() <= z_threshold).all(axis=1)\n",
    "    # Append non-outlier rows to the cleaned data\n",
    "    cleaned_data_30.append(group[non_outliers])\n",
    "\n",
    "# Combine all cleaned groups into a single DataFrame\n",
    "cleaned_data_30 = pd.concat(cleaned_data_30, ignore_index=True)\n",
    "print(len(cleaned_data_30))"
   ]
  },
  {
   "cell_type": "code",
   "execution_count": 41,
   "id": "c4b54d78-9084-4d6c-9b99-1f6c0d0e661c",
   "metadata": {},
   "outputs": [
    {
     "name": "stdout",
     "output_type": "stream",
     "text": [
      "1343\n"
     ]
    }
   ],
   "source": [
    "import pandas as pd\n",
    "import numpy as np\n",
    "\n",
    "z_threshold = 2.7\n",
    "\n",
    "# Initialize an empty list to store cleaned data\n",
    "cleaned_data_40 = []\n",
    "for (alpha, beta), group in df_V_40.groupby([\"α\", \"β\"]):\n",
    "    # Compute mean and standard deviation for the pressure columns\n",
    "    pressure_columns = ['P3', 'Pα1', 'Pα2', 'Pβ1', 'Pβ2']\n",
    "    stats = group[pressure_columns].agg(['mean', 'std'])\n",
    "    zero_std = stats.loc['std'] == 0.0\n",
    "    if zero_std.any():\n",
    "        cleaned_data_40.append(group)\n",
    "    z_scores = (group[pressure_columns] - stats.loc['mean']) / stats.loc['std']\n",
    "    # Identify non-outlier rows (where all z-scores are within the threshold)\n",
    "    non_outliers = (z_scores.abs() <= z_threshold).all(axis=1)\n",
    "    # Append non-outlier rows to the cleaned data\n",
    "    cleaned_data_40.append(group[non_outliers])\n",
    "\n",
    "# Combine all cleaned groups into a single DataFrame\n",
    "cleaned_data_40 = pd.concat(cleaned_data_40, ignore_index=True)\n",
    "print(len(cleaned_data_40))"
   ]
  },
  {
   "cell_type": "code",
   "execution_count": 42,
   "id": "269c86e4-3342-485f-bcca-1aaab2922059",
   "metadata": {},
   "outputs": [
    {
     "name": "stdout",
     "output_type": "stream",
     "text": [
      "1346\n"
     ]
    }
   ],
   "source": [
    "import pandas as pd\n",
    "import numpy as np\n",
    "\n",
    "z_threshold = 2.7\n",
    "\n",
    "# Initialize an empty list to store cleaned data\n",
    "cleaned_data_50 = []\n",
    "for (alpha, beta), group in df_V_50.groupby([\"α\", \"β\"]):\n",
    "    # Compute mean and standard deviation for the pressure columns\n",
    "    pressure_columns = ['P3', 'Pα1', 'Pα2', 'Pβ1', 'Pβ2']\n",
    "    stats = group[pressure_columns].agg(['mean', 'std'])\n",
    "    zero_std = stats.loc['std'] == 0.0\n",
    "    if zero_std.any():\n",
    "        cleaned_data_50.append(group)\n",
    "    z_scores = (group[pressure_columns] - stats.loc['mean']) / stats.loc['std']\n",
    "    # Identify non-outlier rows (where all z-scores are within the threshold)\n",
    "    non_outliers = (z_scores.abs() <= z_threshold).all(axis=1)\n",
    "    # Append non-outlier rows to the cleaned data\n",
    "    cleaned_data_50.append(group[non_outliers])\n",
    "\n",
    "# Combine all cleaned groups into a single DataFrame\n",
    "cleaned_data_50 = pd.concat(cleaned_data_50, ignore_index=True)\n",
    "print(len(cleaned_data_50))"
   ]
  },
  {
   "cell_type": "code",
   "execution_count": 43,
   "id": "3e028432-6443-493e-829c-d55cf6cc3a05",
   "metadata": {},
   "outputs": [],
   "source": [
    "all_new_data = pd.concat([cleaned_data_10,cleaned_data_20,cleaned_data_30,cleaned_data_40,cleaned_data_50])"
   ]
  },
  {
   "cell_type": "markdown",
   "id": "073a29e1-2893-4ba0-8802-244262892f66",
   "metadata": {},
   "source": [
    "### FITTING TEST"
   ]
  },
  {
   "cell_type": "code",
   "execution_count": 44,
   "id": "be8f2afa-4b9e-45af-b6e7-5aa96f1cda2e",
   "metadata": {},
   "outputs": [],
   "source": [
    "x_all = all_new_data.drop(columns = [\"V\",\"α\",\"β\"])\n",
    "y_all = all_new_data[[\"V\",\"α\",\"β\"]]\n",
    "\n",
    "x0_train, x0_test, y0_train, y0_test = train_test_split(x_all, y_all,\n",
    "                                                        random_state = 42, test_size = 0.2)"
   ]
  },
  {
   "cell_type": "code",
   "execution_count": 45,
   "id": "30517bf3-f6f5-4d47-90f5-f30744250047",
   "metadata": {},
   "outputs": [
    {
     "name": "stdout",
     "output_type": "stream",
     "text": [
      "R2 : \n",
      " Alpha : 0.9999999912061106 \n",
      " Beta : 0.9761174703923075 \n",
      " V : 0.9999997492834564 \n",
      "MAE : \n",
      " Alpha : 0.002279066439286591 \n",
      " Beta : 0.5708576214463845 \n",
      " V : 0.0018520683863427981 \n",
      "MSE : \n",
      " Alpha : 1.1141753386314333e-05 \n",
      " Beta : 2.6747342512682972 \n",
      " V : 5.023267226096522e-05 \n",
      "Max AERR : \n",
      " V     0.079798\n",
      "α     0.030115\n",
      "β    17.083488\n",
      "dtype: float64\n",
      "Waktu yang dibutuhkan :  1.3488304217656453\n"
     ]
    }
   ],
   "source": [
    "def max_absolute_error(y_true, y_pred):\n",
    "    return np.max(np.abs(y_true - y_pred), axis=0)\n",
    "scaler = StandardScaler()\n",
    "\n",
    "# Base models (Level Pertama)\n",
    "base_models = [\n",
    "    ('random_forest', RandomForestRegressor(n_estimators=250, max_depth=None, random_state=42, min_samples_leaf= 1, min_samples_split= 2, max_features = 'sqrt')),\n",
    "    ('gradient_boosting', GradientBoostingRegressor(n_estimators=200, learning_rate=0.0579, random_state=42, max_depth = 5)),\n",
    "    ('knn', make_pipeline(StandardScaler(), KNeighborsRegressor(n_neighbors=2, weights='distance', algorithm='auto')))\n",
    "]\n",
    "\n",
    "# Meta-model (Level Kedua)\n",
    "# Menggunakan Ridge Regression sebagai meta-model untuk menghindari overfitting\n",
    "meta_model = Ridge(alpha=0.1)\n",
    "\n",
    "# Membentuk Stacking Regressor\n",
    "stacking_regressor = StackingRegressor(\n",
    "    estimators=base_models,\n",
    "    final_estimator=meta_model,\n",
    "    passthrough=True  # Memasukkan data asli ke meta-model bersama prediksi base models\n",
    ")\n",
    "\n",
    "# Untuk multi-output, kita bungkus dengan MultiOutputRegressor\n",
    "model_all_best = MultiOutputRegressor(stacking_regressor)\n",
    "start = time.time()\n",
    "# Training\n",
    "model_all_best.fit(x0_train, y0_train)\n",
    "end = time.time()\n",
    "waktu = (end-start)/60\n",
    "# Prediction\n",
    "y0_pred = model_all_best.predict(x0_test)\n",
    "r2 = r2_score(y0_test, y0_pred, multioutput = 'raw_values')\n",
    "mae = mean_absolute_error(y0_test, y0_pred, multioutput = 'raw_values')\n",
    "mse = mean_squared_error(y0_test, y0_pred, multioutput = 'raw_values')\n",
    "max_ae = max_absolute_error(y0_test, y0_pred)\n",
    "print(f'R2 : \\n Alpha : {r2[1]} \\n Beta : {r2[2]} \\n V : {r2[0]} ')\n",
    "print(f'MAE : \\n Alpha : {mae[1]} \\n Beta : {mae[2]} \\n V : {mae[0]} ')\n",
    "print(f'MSE : \\n Alpha : {mse[1]} \\n Beta : {mse[2]} \\n V : {mse[0]} ')\n",
    "print('Max AERR : \\n', max_ae)\n",
    "print(\"Waktu yang dibutuhkan : \", waktu)"
   ]
  },
  {
   "cell_type": "code",
   "execution_count": 46,
   "id": "7897a7cc-dfbc-431c-8de2-18cb827bd603",
   "metadata": {},
   "outputs": [
    {
     "name": "stdout",
     "output_type": "stream",
     "text": [
      "R2 : \n",
      " Alpha : 0.9999932851331224 \n",
      " Beta : 0.9780557789567046 \n",
      " V : 0.9999997819286868 \n",
      "MAE : \n",
      " Alpha : 0.0072397878131665065 \n",
      " Beta : 0.5157966810825689 \n",
      " V : 0.001585789287371813 \n",
      "MSE : \n",
      " Alpha : 0.00850765658658202 \n",
      " Beta : 2.4576525437656906 \n",
      " V : 4.369199035954728e-05 \n",
      "Max AERR : \n",
      " V     0.080126\n",
      "α     2.643439\n",
      "β    17.768267\n",
      "dtype: float64\n",
      "Waktu yang dibutuhkan :  1.833103891213735\n"
     ]
    }
   ],
   "source": [
    "def max_absolute_error(y_true, y_pred):\n",
    "    return np.max(np.abs(y_true - y_pred), axis=0)\n",
    "scaler = StandardScaler()\n",
    "\n",
    "# Base models (Level Pertama)\n",
    "base_models = [\n",
    "    ('random_forest', RandomForestRegressor(n_estimators=100, max_depth=None, random_state=21, max_leaf_nodes= 800)),\n",
    "    ('gradient_boosting', GradientBoostingRegressor(n_estimators=200, learning_rate=0.05789, random_state=42, max_depth = 10)),\n",
    "    ('knn', make_pipeline(StandardScaler(), KNeighborsRegressor(n_neighbors=2, weights='distance', p =1)))\n",
    "]\n",
    "\n",
    "# Meta-model (Level Kedua)\n",
    "# Menggunakan Ridge Regression sebagai meta-model untuk menghindari overfitting\n",
    "meta_model = Ridge(alpha=0.1)\n",
    "\n",
    "# Membentuk Stacking Regressor\n",
    "stacking_regressor = StackingRegressor(\n",
    "    estimators=base_models,\n",
    "    final_estimator=meta_model,\n",
    "    passthrough=True  # Memasukkan data asli ke meta-model bersama prediksi base models\n",
    ")\n",
    "\n",
    "# Untuk multi-output, kita bungkus dengan MultiOutputRegressor\n",
    "model_all_best = MultiOutputRegressor(stacking_regressor)\n",
    "start = time.time()\n",
    "# Training\n",
    "model_all_best.fit(x0_train, y0_train)\n",
    "end = time.time()\n",
    "waktu = (end-start)/60\n",
    "# Prediction\n",
    "y0_pred = model_all_best.predict(x0_test)\n",
    "r2 = r2_score(y0_test, y0_pred, multioutput = 'raw_values')\n",
    "mae = mean_absolute_error(y0_test, y0_pred, multioutput = 'raw_values')\n",
    "mse = mean_squared_error(y0_test, y0_pred, multioutput = 'raw_values')\n",
    "max_ae = max_absolute_error(y0_test, y0_pred)\n",
    "print(f'R2 : \\n Alpha : {r2[1]} \\n Beta : {r2[2]} \\n V : {r2[0]} ')\n",
    "print(f'MAE : \\n Alpha : {mae[1]} \\n Beta : {mae[2]} \\n V : {mae[0]} ')\n",
    "print(f'MSE : \\n Alpha : {mse[1]} \\n Beta : {mse[2]} \\n V : {mse[0]} ')\n",
    "print('Max AERR : \\n', max_ae)\n",
    "print(\"Waktu yang dibutuhkan : \", waktu)"
   ]
  },
  {
   "cell_type": "markdown",
   "id": "2e291e0f-b19a-486f-95ff-716423186b6c",
   "metadata": {},
   "source": [
    "## Z-SCORE THRESHOLD 2.6"
   ]
  },
  {
   "cell_type": "code",
   "execution_count": 47,
   "id": "1eaef606-02c2-46f2-8c49-756e032bfe5e",
   "metadata": {},
   "outputs": [
    {
     "name": "stdout",
     "output_type": "stream",
     "text": [
      "1328\n"
     ]
    }
   ],
   "source": [
    "import pandas as pd\n",
    "import numpy as np\n",
    "\n",
    "z_threshold = 2.6\n",
    "\n",
    "# Initialize an empty list to store cleaned data\n",
    "cleaned_data_10 = []\n",
    "for (alpha, beta), group in df_V_10.groupby([\"α\", \"β\"]):\n",
    "    # Compute mean and standard deviation for the pressure columns\n",
    "    pressure_columns = ['P3', 'Pα1', 'Pα2', 'Pβ1', 'Pβ2']\n",
    "    stats = group[pressure_columns].agg(['mean', 'std'])\n",
    "    zero_std = stats.loc['std'] == 0.0\n",
    "    if zero_std.any():\n",
    "        cleaned_data_10.append(group)\n",
    "    z_scores = (group[pressure_columns] - stats.loc['mean']) / stats.loc['std']\n",
    "    # Identify non-outlier rows (where all z-scores are within the threshold)\n",
    "    non_outliers = (z_scores.abs() <= z_threshold).all(axis=1)\n",
    "    # Append non-outlier rows to the cleaned data\n",
    "    cleaned_data_10.append(group[non_outliers])\n",
    "\n",
    "# Combine all cleaned groups into a single DataFrame\n",
    "cleaned_data_10 = pd.concat(cleaned_data_10, ignore_index=True)\n",
    "print(len(cleaned_data_10))"
   ]
  },
  {
   "cell_type": "code",
   "execution_count": 48,
   "id": "d87297ae-8d04-4b5f-bb72-542bc2ba5e7f",
   "metadata": {},
   "outputs": [
    {
     "name": "stdout",
     "output_type": "stream",
     "text": [
      "1338\n"
     ]
    }
   ],
   "source": [
    "import pandas as pd\n",
    "import numpy as np\n",
    "\n",
    "z_threshold = 2.6\n",
    "\n",
    "# Initialize an empty list to store cleaned data\n",
    "cleaned_data_20 = []\n",
    "for (alpha, beta), group in df_V_20.groupby([\"α\", \"β\"]):\n",
    "    # Compute mean and standard deviation for the pressure columns\n",
    "    pressure_columns = ['P3', 'Pα1', 'Pα2', 'Pβ1', 'Pβ2']\n",
    "    stats = group[pressure_columns].agg(['mean', 'std'])\n",
    "    zero_std = stats.loc['std'] == 0.0\n",
    "    if zero_std.any():\n",
    "        cleaned_data_20.append(group)\n",
    "    z_scores = (group[pressure_columns] - stats.loc['mean']) / stats.loc['std']\n",
    "    # Identify non-outlier rows (where all z-scores are within the threshold)\n",
    "    non_outliers = (z_scores.abs() <= z_threshold).all(axis=1)\n",
    "    # Append non-outlier rows to the cleaned data\n",
    "    cleaned_data_20.append(group[non_outliers])\n",
    "\n",
    "# Combine all cleaned groups into a single DataFrame\n",
    "cleaned_data_20 = pd.concat(cleaned_data_20, ignore_index=True)\n",
    "print(len(cleaned_data_20))"
   ]
  },
  {
   "cell_type": "code",
   "execution_count": 49,
   "id": "518b64f5-2f23-4575-bcd2-59a5f06e4660",
   "metadata": {},
   "outputs": [
    {
     "name": "stdout",
     "output_type": "stream",
     "text": [
      "1340\n"
     ]
    }
   ],
   "source": [
    "import pandas as pd\n",
    "import numpy as np\n",
    "\n",
    "z_threshold = 2.6\n",
    "\n",
    "# Initialize an empty list to store cleaned data\n",
    "cleaned_data_30 = []\n",
    "for (alpha, beta), group in df_V_30.groupby([\"α\", \"β\"]):\n",
    "    # Compute mean and standard deviation for the pressure columns\n",
    "    pressure_columns = ['P3', 'Pα1', 'Pα2', 'Pβ1', 'Pβ2']\n",
    "    stats = group[pressure_columns].agg(['mean', 'std'])\n",
    "    zero_std = stats.loc['std'] == 0.0\n",
    "    if zero_std.any():\n",
    "        cleaned_data_30.append(group)\n",
    "    z_scores = (group[pressure_columns] - stats.loc['mean']) / stats.loc['std']\n",
    "    # Identify non-outlier rows (where all z-scores are within the threshold)\n",
    "    non_outliers = (z_scores.abs() <= z_threshold).all(axis=1)\n",
    "    # Append non-outlier rows to the cleaned data\n",
    "    cleaned_data_30.append(group[non_outliers])\n",
    "\n",
    "# Combine all cleaned groups into a single DataFrame\n",
    "cleaned_data_30 = pd.concat(cleaned_data_30, ignore_index=True)\n",
    "print(len(cleaned_data_30))"
   ]
  },
  {
   "cell_type": "code",
   "execution_count": 50,
   "id": "19cf034c-2c1d-4079-8c1d-5e44bf8198bd",
   "metadata": {},
   "outputs": [
    {
     "name": "stdout",
     "output_type": "stream",
     "text": [
      "1340\n"
     ]
    }
   ],
   "source": [
    "import pandas as pd\n",
    "import numpy as np\n",
    "\n",
    "z_threshold = 2.6\n",
    "\n",
    "# Initialize an empty list to store cleaned data\n",
    "cleaned_data_40 = []\n",
    "for (alpha, beta), group in df_V_40.groupby([\"α\", \"β\"]):\n",
    "    # Compute mean and standard deviation for the pressure columns\n",
    "    pressure_columns = ['P3', 'Pα1', 'Pα2', 'Pβ1', 'Pβ2']\n",
    "    stats = group[pressure_columns].agg(['mean', 'std'])\n",
    "    zero_std = stats.loc['std'] == 0.0\n",
    "    if zero_std.any():\n",
    "        cleaned_data_40.append(group)\n",
    "    z_scores = (group[pressure_columns] - stats.loc['mean']) / stats.loc['std']\n",
    "    # Identify non-outlier rows (where all z-scores are within the threshold)\n",
    "    non_outliers = (z_scores.abs() <= z_threshold).all(axis=1)\n",
    "    # Append non-outlier rows to the cleaned data\n",
    "    cleaned_data_40.append(group[non_outliers])\n",
    "\n",
    "# Combine all cleaned groups into a single DataFrame\n",
    "cleaned_data_40 = pd.concat(cleaned_data_40, ignore_index=True)\n",
    "print(len(cleaned_data_40))"
   ]
  },
  {
   "cell_type": "code",
   "execution_count": 51,
   "id": "44eef727-621c-4692-99c9-465694836b6d",
   "metadata": {},
   "outputs": [
    {
     "name": "stdout",
     "output_type": "stream",
     "text": [
      "1344\n"
     ]
    }
   ],
   "source": [
    "import pandas as pd\n",
    "import numpy as np\n",
    "\n",
    "z_threshold = 2.6\n",
    "\n",
    "# Initialize an empty list to store cleaned data\n",
    "cleaned_data_50 = []\n",
    "for (alpha, beta), group in df_V_50.groupby([\"α\", \"β\"]):\n",
    "    # Compute mean and standard deviation for the pressure columns\n",
    "    pressure_columns = ['P3', 'Pα1', 'Pα2', 'Pβ1', 'Pβ2']\n",
    "    stats = group[pressure_columns].agg(['mean', 'std'])\n",
    "    zero_std = stats.loc['std'] == 0.0\n",
    "    if zero_std.any():\n",
    "        cleaned_data_50.append(group)\n",
    "    z_scores = (group[pressure_columns] - stats.loc['mean']) / stats.loc['std']\n",
    "    # Identify non-outlier rows (where all z-scores are within the threshold)\n",
    "    non_outliers = (z_scores.abs() <= z_threshold).all(axis=1)\n",
    "    # Append non-outlier rows to the cleaned data\n",
    "    cleaned_data_50.append(group[non_outliers])\n",
    "\n",
    "# Combine all cleaned groups into a single DataFrame\n",
    "cleaned_data_50 = pd.concat(cleaned_data_50, ignore_index=True)\n",
    "print(len(cleaned_data_50))"
   ]
  },
  {
   "cell_type": "code",
   "execution_count": 52,
   "id": "8d6d96ba-c915-4494-9dea-0190a75d9d1e",
   "metadata": {},
   "outputs": [],
   "source": [
    "all_new_data = pd.concat([cleaned_data_10,cleaned_data_20,cleaned_data_30,cleaned_data_40,cleaned_data_50])"
   ]
  },
  {
   "cell_type": "markdown",
   "id": "570e7cad-4f7e-4602-9f27-6696ed6a1f26",
   "metadata": {},
   "source": [
    "### FITTING TEST"
   ]
  },
  {
   "cell_type": "code",
   "execution_count": 53,
   "id": "e9cce7ae-3dfa-4ba6-93e0-480d4c7dd91c",
   "metadata": {},
   "outputs": [],
   "source": [
    "x_all = all_new_data.drop(columns = [\"V\",\"α\",\"β\"])\n",
    "y_all = all_new_data[[\"V\",\"α\",\"β\"]]\n",
    "\n",
    "x0_train, x0_test, y0_train, y0_test = train_test_split(x_all, y_all,\n",
    "                                                        random_state = 42, test_size = 0.2)"
   ]
  },
  {
   "cell_type": "code",
   "execution_count": 54,
   "id": "a0441cb6-8ec0-49b5-82ee-0ab57a112518",
   "metadata": {},
   "outputs": [
    {
     "name": "stdout",
     "output_type": "stream",
     "text": [
      "R2 : \n",
      " Alpha : 0.999999995167949 \n",
      " Beta : 0.9791716741048726 \n",
      " V : 0.9999997151212541 \n",
      "MAE : \n",
      " Alpha : 0.001771751594450786 \n",
      " Beta : 0.5751151168128884 \n",
      " V : 0.002000005041905488 \n",
      "MSE : \n",
      " Alpha : 6.169614428967898e-06 \n",
      " Beta : 2.361661429828711 \n",
      " V : 5.6855625384225725e-05 \n",
      "Max AERR : \n",
      " V     0.079379\n",
      "α     0.019181\n",
      "β    14.008527\n",
      "dtype: float64\n",
      "Waktu yang dibutuhkan :  1.3416770776112874\n"
     ]
    }
   ],
   "source": [
    "def max_absolute_error(y_true, y_pred):\n",
    "    return np.max(np.abs(y_true - y_pred), axis=0)\n",
    "scaler = StandardScaler()\n",
    "\n",
    "# Base models (Level Pertama)\n",
    "base_models = [\n",
    "    ('random_forest', RandomForestRegressor(n_estimators=250, max_depth=None, random_state=42, min_samples_leaf= 1, min_samples_split= 2, max_features = 'sqrt')),\n",
    "    ('gradient_boosting', GradientBoostingRegressor(n_estimators=200, learning_rate=0.0579, random_state=42, max_depth = 5)),\n",
    "    ('knn', make_pipeline(StandardScaler(), KNeighborsRegressor(n_neighbors=2, weights='distance', algorithm='auto')))\n",
    "]\n",
    "\n",
    "# Meta-model (Level Kedua)\n",
    "# Menggunakan Ridge Regression sebagai meta-model untuk menghindari overfitting\n",
    "meta_model = Ridge(alpha=0.1)\n",
    "\n",
    "# Membentuk Stacking Regressor\n",
    "stacking_regressor = StackingRegressor(\n",
    "    estimators=base_models,\n",
    "    final_estimator=meta_model,\n",
    "    passthrough=True  # Memasukkan data asli ke meta-model bersama prediksi base models\n",
    ")\n",
    "\n",
    "# Untuk multi-output, kita bungkus dengan MultiOutputRegressor\n",
    "model_all_best = MultiOutputRegressor(stacking_regressor)\n",
    "start = time.time()\n",
    "# Training\n",
    "model_all_best.fit(x0_train, y0_train)\n",
    "end = time.time()\n",
    "waktu = (end-start)/60\n",
    "# Prediction\n",
    "y0_pred = model_all_best.predict(x0_test)\n",
    "r2 = r2_score(y0_test, y0_pred, multioutput = 'raw_values')\n",
    "mae = mean_absolute_error(y0_test, y0_pred, multioutput = 'raw_values')\n",
    "mse = mean_squared_error(y0_test, y0_pred, multioutput = 'raw_values')\n",
    "max_ae = max_absolute_error(y0_test, y0_pred)\n",
    "print(f'R2 : \\n Alpha : {r2[1]} \\n Beta : {r2[2]} \\n V : {r2[0]} ')\n",
    "print(f'MAE : \\n Alpha : {mae[1]} \\n Beta : {mae[2]} \\n V : {mae[0]} ')\n",
    "print(f'MSE : \\n Alpha : {mse[1]} \\n Beta : {mse[2]} \\n V : {mse[0]} ')\n",
    "print('Max AERR : \\n', max_ae)\n",
    "print(\"Waktu yang dibutuhkan : \", waktu)"
   ]
  },
  {
   "cell_type": "code",
   "execution_count": 55,
   "id": "9ecec5dc-c726-4a25-be74-923c9ee5251f",
   "metadata": {},
   "outputs": [
    {
     "name": "stdout",
     "output_type": "stream",
     "text": [
      "R2 : \n",
      " Alpha : 0.9999932407930304 \n",
      " Beta : 0.9784610709656596 \n",
      " V : 0.9999997219157577 \n",
      "MAE : \n",
      " Alpha : 0.006972931763854953 \n",
      " Beta : 0.5247231135081717 \n",
      " V : 0.0019769895011066863 \n",
      "MSE : \n",
      " Alpha : 0.00863022789630946 \n",
      " Beta : 2.442234589392489 \n",
      " V : 5.549958967858845e-05 \n",
      "Max AERR : \n",
      " V     0.079650\n",
      "α     2.652062\n",
      "β    14.140602\n",
      "dtype: float64\n",
      "Waktu yang dibutuhkan :  1.840483554204305\n"
     ]
    }
   ],
   "source": [
    "def max_absolute_error(y_true, y_pred):\n",
    "    return np.max(np.abs(y_true - y_pred), axis=0)\n",
    "scaler = StandardScaler()\n",
    "\n",
    "# Base models (Level Pertama)\n",
    "base_models = [\n",
    "    ('random_forest', RandomForestRegressor(n_estimators=100, max_depth=None, random_state=21, max_leaf_nodes= 800)),\n",
    "    ('gradient_boosting', GradientBoostingRegressor(n_estimators=200, learning_rate=0.05789, random_state=42, max_depth = 10)),\n",
    "    ('knn', make_pipeline(StandardScaler(), KNeighborsRegressor(n_neighbors=2, weights='distance', p =1)))\n",
    "]\n",
    "\n",
    "# Meta-model (Level Kedua)\n",
    "# Menggunakan Ridge Regression sebagai meta-model untuk menghindari overfitting\n",
    "meta_model = Ridge(alpha=0.1)\n",
    "\n",
    "# Membentuk Stacking Regressor\n",
    "stacking_regressor = StackingRegressor(\n",
    "    estimators=base_models,\n",
    "    final_estimator=meta_model,\n",
    "    passthrough=True  # Memasukkan data asli ke meta-model bersama prediksi base models\n",
    ")\n",
    "\n",
    "# Untuk multi-output, kita bungkus dengan MultiOutputRegressor\n",
    "model_all_best = MultiOutputRegressor(stacking_regressor)\n",
    "start = time.time()\n",
    "# Training\n",
    "model_all_best.fit(x0_train, y0_train)\n",
    "end = time.time()\n",
    "waktu = (end-start)/60\n",
    "# Prediction\n",
    "y0_pred = model_all_best.predict(x0_test)\n",
    "r2 = r2_score(y0_test, y0_pred, multioutput = 'raw_values')\n",
    "mae = mean_absolute_error(y0_test, y0_pred, multioutput = 'raw_values')\n",
    "mse = mean_squared_error(y0_test, y0_pred, multioutput = 'raw_values')\n",
    "max_ae = max_absolute_error(y0_test, y0_pred)\n",
    "print(f'R2 : \\n Alpha : {r2[1]} \\n Beta : {r2[2]} \\n V : {r2[0]} ')\n",
    "print(f'MAE : \\n Alpha : {mae[1]} \\n Beta : {mae[2]} \\n V : {mae[0]} ')\n",
    "print(f'MSE : \\n Alpha : {mse[1]} \\n Beta : {mse[2]} \\n V : {mse[0]} ')\n",
    "print('Max AERR : \\n', max_ae)\n",
    "print(\"Waktu yang dibutuhkan : \", waktu)"
   ]
  },
  {
   "cell_type": "markdown",
   "id": "ac3213f9-db60-4a36-a754-42faeea9e0d5",
   "metadata": {},
   "source": [
    "## Z-SCORE THRESHOLD 2.5"
   ]
  },
  {
   "cell_type": "code",
   "execution_count": 56,
   "id": "4897e0ba-c589-43a7-9d2a-b06e68a91a9b",
   "metadata": {},
   "outputs": [
    {
     "name": "stdout",
     "output_type": "stream",
     "text": [
      "1313\n"
     ]
    }
   ],
   "source": [
    "import pandas as pd\n",
    "import numpy as np\n",
    "\n",
    "z_threshold = 2.5\n",
    "\n",
    "# Initialize an empty list to store cleaned data\n",
    "cleaned_data_10 = []\n",
    "for (alpha, beta), group in df_V_10.groupby([\"α\", \"β\"]):\n",
    "    # Compute mean and standard deviation for the pressure columns\n",
    "    pressure_columns = ['P3', 'Pα1', 'Pα2', 'Pβ1', 'Pβ2']\n",
    "    stats = group[pressure_columns].agg(['mean', 'std'])\n",
    "    zero_std = stats.loc['std'] == 0.0\n",
    "    if zero_std.any():\n",
    "        cleaned_data_10.append(group)\n",
    "    z_scores = (group[pressure_columns] - stats.loc['mean']) / stats.loc['std']\n",
    "    # Identify non-outlier rows (where all z-scores are within the threshold)\n",
    "    non_outliers = (z_scores.abs() <= z_threshold).all(axis=1)\n",
    "    # Append non-outlier rows to the cleaned data\n",
    "    cleaned_data_10.append(group[non_outliers])\n",
    "\n",
    "# Combine all cleaned groups into a single DataFrame\n",
    "cleaned_data_10 = pd.concat(cleaned_data_10, ignore_index=True)\n",
    "print(len(cleaned_data_10))"
   ]
  },
  {
   "cell_type": "code",
   "execution_count": 57,
   "id": "d3f4f442-563e-491b-8f80-d9a5cafb2fe3",
   "metadata": {},
   "outputs": [
    {
     "name": "stdout",
     "output_type": "stream",
     "text": [
      "1331\n"
     ]
    }
   ],
   "source": [
    "import pandas as pd\n",
    "import numpy as np\n",
    "\n",
    "z_threshold = 2.5\n",
    "\n",
    "# Initialize an empty list to store cleaned data\n",
    "cleaned_data_20 = []\n",
    "for (alpha, beta), group in df_V_20.groupby([\"α\", \"β\"]):\n",
    "    # Compute mean and standard deviation for the pressure columns\n",
    "    pressure_columns = ['P3', 'Pα1', 'Pα2', 'Pβ1', 'Pβ2']\n",
    "    stats = group[pressure_columns].agg(['mean', 'std'])\n",
    "    zero_std = stats.loc['std'] == 0.0\n",
    "    if zero_std.any():\n",
    "        cleaned_data_20.append(group)\n",
    "    z_scores = (group[pressure_columns] - stats.loc['mean']) / stats.loc['std']\n",
    "    # Identify non-outlier rows (where all z-scores are within the threshold)\n",
    "    non_outliers = (z_scores.abs() <= z_threshold).all(axis=1)\n",
    "    # Append non-outlier rows to the cleaned data\n",
    "    cleaned_data_20.append(group[non_outliers])\n",
    "\n",
    "# Combine all cleaned groups into a single DataFrame\n",
    "cleaned_data_20 = pd.concat(cleaned_data_20, ignore_index=True)\n",
    "print(len(cleaned_data_20))"
   ]
  },
  {
   "cell_type": "code",
   "execution_count": 58,
   "id": "cf8a56bf-c07a-4b4b-9f65-03861f9f2e88",
   "metadata": {},
   "outputs": [
    {
     "name": "stdout",
     "output_type": "stream",
     "text": [
      "1336\n"
     ]
    }
   ],
   "source": [
    "import pandas as pd\n",
    "import numpy as np\n",
    "\n",
    "z_threshold = 2.5\n",
    "\n",
    "# Initialize an empty list to store cleaned data\n",
    "cleaned_data_30 = []\n",
    "for (alpha, beta), group in df_V_30.groupby([\"α\", \"β\"]):\n",
    "    # Compute mean and standard deviation for the pressure columns\n",
    "    pressure_columns = ['P3', 'Pα1', 'Pα2', 'Pβ1', 'Pβ2']\n",
    "    stats = group[pressure_columns].agg(['mean', 'std'])\n",
    "    zero_std = stats.loc['std'] == 0.0\n",
    "    if zero_std.any():\n",
    "        cleaned_data_30.append(group)\n",
    "    z_scores = (group[pressure_columns] - stats.loc['mean']) / stats.loc['std']\n",
    "    # Identify non-outlier rows (where all z-scores are within the threshold)\n",
    "    non_outliers = (z_scores.abs() <= z_threshold).all(axis=1)\n",
    "    # Append non-outlier rows to the cleaned data\n",
    "    cleaned_data_30.append(group[non_outliers])\n",
    "\n",
    "# Combine all cleaned groups into a single DataFrame\n",
    "cleaned_data_30 = pd.concat(cleaned_data_30, ignore_index=True)\n",
    "print(len(cleaned_data_30))"
   ]
  },
  {
   "cell_type": "code",
   "execution_count": 59,
   "id": "df849abb-b124-4985-b229-b041d5299bb9",
   "metadata": {},
   "outputs": [
    {
     "name": "stdout",
     "output_type": "stream",
     "text": [
      "1335\n"
     ]
    }
   ],
   "source": [
    "import pandas as pd\n",
    "import numpy as np\n",
    "\n",
    "z_threshold = 2.5\n",
    "\n",
    "# Initialize an empty list to store cleaned data\n",
    "cleaned_data_40 = []\n",
    "for (alpha, beta), group in df_V_40.groupby([\"α\", \"β\"]):\n",
    "    # Compute mean and standard deviation for the pressure columns\n",
    "    pressure_columns = ['P3', 'Pα1', 'Pα2', 'Pβ1', 'Pβ2']\n",
    "    stats = group[pressure_columns].agg(['mean', 'std'])\n",
    "    zero_std = stats.loc['std'] == 0.0\n",
    "    if zero_std.any():\n",
    "        cleaned_data_40.append(group)\n",
    "    z_scores = (group[pressure_columns] - stats.loc['mean']) / stats.loc['std']\n",
    "    # Identify non-outlier rows (where all z-scores are within the threshold)\n",
    "    non_outliers = (z_scores.abs() <= z_threshold).all(axis=1)\n",
    "    # Append non-outlier rows to the cleaned data\n",
    "    cleaned_data_40.append(group[non_outliers])\n",
    "\n",
    "# Combine all cleaned groups into a single DataFrame\n",
    "cleaned_data_40 = pd.concat(cleaned_data_40, ignore_index=True)\n",
    "print(len(cleaned_data_40))"
   ]
  },
  {
   "cell_type": "code",
   "execution_count": 60,
   "id": "7c1bcb04-e0c9-4a9f-8ea9-840b61a83abb",
   "metadata": {},
   "outputs": [
    {
     "name": "stdout",
     "output_type": "stream",
     "text": [
      "1338\n"
     ]
    }
   ],
   "source": [
    "import pandas as pd\n",
    "import numpy as np\n",
    "\n",
    "z_threshold = 2.5\n",
    "\n",
    "# Initialize an empty list to store cleaned data\n",
    "cleaned_data_50 = []\n",
    "for (alpha, beta), group in df_V_50.groupby([\"α\", \"β\"]):\n",
    "    # Compute mean and standard deviation for the pressure columns\n",
    "    pressure_columns = ['P3', 'Pα1', 'Pα2', 'Pβ1', 'Pβ2']\n",
    "    stats = group[pressure_columns].agg(['mean', 'std'])\n",
    "    zero_std = stats.loc['std'] == 0.0\n",
    "    if zero_std.any():\n",
    "        cleaned_data_50.append(group)\n",
    "    z_scores = (group[pressure_columns] - stats.loc['mean']) / stats.loc['std']\n",
    "    # Identify non-outlier rows (where all z-scores are within the threshold)\n",
    "    non_outliers = (z_scores.abs() <= z_threshold).all(axis=1)\n",
    "    # Append non-outlier rows to the cleaned data\n",
    "    cleaned_data_50.append(group[non_outliers])\n",
    "\n",
    "# Combine all cleaned groups into a single DataFrame\n",
    "cleaned_data_50 = pd.concat(cleaned_data_50, ignore_index=True)\n",
    "print(len(cleaned_data_50))"
   ]
  },
  {
   "cell_type": "code",
   "execution_count": 61,
   "id": "3499d072-ff66-4b3f-822d-542f5558cc9c",
   "metadata": {},
   "outputs": [],
   "source": [
    "all_new_data = pd.concat([cleaned_data_10,cleaned_data_20,cleaned_data_30,cleaned_data_40,cleaned_data_50])"
   ]
  },
  {
   "cell_type": "markdown",
   "id": "f400a7e4-1727-4b21-8d36-3821e6dd4c87",
   "metadata": {},
   "source": [
    "### FITTING TEST"
   ]
  },
  {
   "cell_type": "code",
   "execution_count": 62,
   "id": "56da536d-5cd1-4da2-8008-e0fc6f7b319e",
   "metadata": {},
   "outputs": [],
   "source": [
    "x_all = all_new_data.drop(columns = [\"V\",\"α\",\"β\"])\n",
    "y_all = all_new_data[[\"V\",\"α\",\"β\"]]\n",
    "\n",
    "x0_train, x0_test, y0_train, y0_test = train_test_split(x_all, y_all,\n",
    "                                                        random_state = 42, test_size = 0.2)"
   ]
  },
  {
   "cell_type": "code",
   "execution_count": 63,
   "id": "1436a573-5708-412c-a447-703089dcd149",
   "metadata": {},
   "outputs": [
    {
     "name": "stdout",
     "output_type": "stream",
     "text": [
      "R2 : \n",
      " Alpha : 0.9999999931019136 \n",
      " Beta : 0.982227001085832 \n",
      " V : 0.9999997535388361 \n",
      "MAE : \n",
      " Alpha : 0.0018323850878978155 \n",
      " Beta : 0.5387267442318192 \n",
      " V : 0.001572387393475513 \n",
      "MSE : \n",
      " Alpha : 8.702268188455206e-06 \n",
      " Beta : 2.16812285658718 \n",
      " V : 4.943905935168619e-05 \n",
      "Max AERR : \n",
      " V     0.084991\n",
      "α     0.026908\n",
      "β    15.025953\n",
      "dtype: float64\n",
      "Waktu yang dibutuhkan :  1.337063189347585\n"
     ]
    }
   ],
   "source": [
    "def max_absolute_error(y_true, y_pred):\n",
    "    return np.max(np.abs(y_true - y_pred), axis=0)\n",
    "scaler = StandardScaler()\n",
    "\n",
    "# Base models (Level Pertama)\n",
    "base_models = [\n",
    "    ('random_forest', RandomForestRegressor(n_estimators=250, max_depth=None, random_state=42, min_samples_leaf= 1, min_samples_split= 2, max_features = 'sqrt')),\n",
    "    ('gradient_boosting', GradientBoostingRegressor(n_estimators=200, learning_rate=0.0579, random_state=42, max_depth = 5)),\n",
    "    ('knn', make_pipeline(StandardScaler(), KNeighborsRegressor(n_neighbors=2, weights='distance', algorithm='auto')))\n",
    "]\n",
    "\n",
    "# Meta-model (Level Kedua)\n",
    "# Menggunakan Ridge Regression sebagai meta-model untuk menghindari overfitting\n",
    "meta_model = Ridge(alpha=0.1)\n",
    "\n",
    "# Membentuk Stacking Regressor\n",
    "stacking_regressor = StackingRegressor(\n",
    "    estimators=base_models,\n",
    "    final_estimator=meta_model,\n",
    "    passthrough=True  # Memasukkan data asli ke meta-model bersama prediksi base models\n",
    ")\n",
    "\n",
    "# Untuk multi-output, kita bungkus dengan MultiOutputRegressor\n",
    "model_all_best = MultiOutputRegressor(stacking_regressor)\n",
    "start = time.time()\n",
    "# Training\n",
    "model_all_best.fit(x0_train, y0_train)\n",
    "end = time.time()\n",
    "waktu = (end-start)/60\n",
    "# Prediction\n",
    "y0_pred = model_all_best.predict(x0_test)\n",
    "r2 = r2_score(y0_test, y0_pred, multioutput = 'raw_values')\n",
    "mae = mean_absolute_error(y0_test, y0_pred, multioutput = 'raw_values')\n",
    "mse = mean_squared_error(y0_test, y0_pred, multioutput = 'raw_values')\n",
    "max_ae = max_absolute_error(y0_test, y0_pred)\n",
    "print(f'R2 : \\n Alpha : {r2[1]} \\n Beta : {r2[2]} \\n V : {r2[0]} ')\n",
    "print(f'MAE : \\n Alpha : {mae[1]} \\n Beta : {mae[2]} \\n V : {mae[0]} ')\n",
    "print(f'MSE : \\n Alpha : {mse[1]} \\n Beta : {mse[2]} \\n V : {mse[0]} ')\n",
    "print('Max AERR : \\n', max_ae)\n",
    "print(\"Waktu yang dibutuhkan : \", waktu)"
   ]
  },
  {
   "cell_type": "code",
   "execution_count": 64,
   "id": "8aef5047-577e-4b0c-b399-52945e7a1fb3",
   "metadata": {},
   "outputs": [
    {
     "name": "stdout",
     "output_type": "stream",
     "text": [
      "R2 : \n",
      " Alpha : 0.9999945979513202 \n",
      " Beta : 0.9834545486812505 \n",
      " V : 0.9999997853379387 \n",
      "MAE : \n",
      " Alpha : 0.00505256846849271 \n",
      " Beta : 0.4465870642879665 \n",
      " V : 0.0015456515827060463 \n",
      "MSE : \n",
      " Alpha : 0.006814944511650097 \n",
      " Beta : 2.0183746901675144 \n",
      " V : 4.30602948504591e-05 \n",
      "Max AERR : \n",
      " V     0.084669\n",
      "α     2.152655\n",
      "β    14.780878\n",
      "dtype: float64\n",
      "Waktu yang dibutuhkan :  1.846268399556478\n"
     ]
    }
   ],
   "source": [
    "def max_absolute_error(y_true, y_pred):\n",
    "    return np.max(np.abs(y_true - y_pred), axis=0)\n",
    "scaler = StandardScaler()\n",
    "\n",
    "# Base models (Level Pertama)\n",
    "base_models = [\n",
    "    ('random_forest', RandomForestRegressor(n_estimators=100, max_depth=None, random_state=21, max_leaf_nodes= 800)),\n",
    "    ('gradient_boosting', GradientBoostingRegressor(n_estimators=200, learning_rate=0.05789, random_state=42, max_depth = 10)),\n",
    "    ('knn', make_pipeline(StandardScaler(), KNeighborsRegressor(n_neighbors=2, weights='distance', p =1)))\n",
    "]\n",
    "\n",
    "# Meta-model (Level Kedua)\n",
    "# Menggunakan Ridge Regression sebagai meta-model untuk menghindari overfitting\n",
    "meta_model = Ridge(alpha=0.1)\n",
    "\n",
    "# Membentuk Stacking Regressor\n",
    "stacking_regressor = StackingRegressor(\n",
    "    estimators=base_models,\n",
    "    final_estimator=meta_model,\n",
    "    passthrough=True  # Memasukkan data asli ke meta-model bersama prediksi base models\n",
    ")\n",
    "\n",
    "# Untuk multi-output, kita bungkus dengan MultiOutputRegressor\n",
    "model_all_best = MultiOutputRegressor(stacking_regressor)\n",
    "start = time.time()\n",
    "# Training\n",
    "model_all_best.fit(x0_train, y0_train)\n",
    "end = time.time()\n",
    "waktu = (end-start)/60\n",
    "# Prediction\n",
    "y0_pred = model_all_best.predict(x0_test)\n",
    "r2 = r2_score(y0_test, y0_pred, multioutput = 'raw_values')\n",
    "mae = mean_absolute_error(y0_test, y0_pred, multioutput = 'raw_values')\n",
    "mse = mean_squared_error(y0_test, y0_pred, multioutput = 'raw_values')\n",
    "max_ae = max_absolute_error(y0_test, y0_pred)\n",
    "print(f'R2 : \\n Alpha : {r2[1]} \\n Beta : {r2[2]} \\n V : {r2[0]} ')\n",
    "print(f'MAE : \\n Alpha : {mae[1]} \\n Beta : {mae[2]} \\n V : {mae[0]} ')\n",
    "print(f'MSE : \\n Alpha : {mse[1]} \\n Beta : {mse[2]} \\n V : {mse[0]} ')\n",
    "print('Max AERR : \\n', max_ae)\n",
    "print(\"Waktu yang dibutuhkan : \", waktu)"
   ]
  },
  {
   "cell_type": "code",
   "execution_count": 65,
   "id": "d189a9f3-0348-45ff-b609-e9cc70efaa51",
   "metadata": {},
   "outputs": [
    {
     "name": "stdout",
     "output_type": "stream",
     "text": [
      "R2 : \n",
      " Alpha : 0.9999999921403719 \n",
      " Beta : 0.9822815940253691 \n",
      " V : 0.9999997534598746 \n",
      "MAE : \n",
      " Alpha : 0.0018400405853903606 \n",
      " Beta : 0.5371282939278252 \n",
      " V : 0.0015881262248832802 \n",
      "MSE : \n",
      " Alpha : 9.915299172441851e-06 \n",
      " Beta : 2.16146308011445 \n",
      " V : 4.9454898686288036e-05 \n",
      "Max AERR : \n",
      " V     0.084999\n",
      "α     0.028910\n",
      "β    15.078383\n",
      "dtype: float64\n",
      "Waktu yang dibutuhkan :  1.5768893202145895\n"
     ]
    }
   ],
   "source": [
    "def max_absolute_error(y_true, y_pred):\n",
    "    return np.max(np.abs(y_true - y_pred), axis=0)\n",
    "scaler = StandardScaler()\n",
    "\n",
    "# Base models (Level Pertama)\n",
    "base_models = [\n",
    "    ('random_forest', RandomForestRegressor(n_estimators=250, max_depth=None, random_state=42, min_samples_leaf= 1, min_samples_split= 2, max_features = 'sqrt')),\n",
    "    ('gradient_boosting', GradientBoostingRegressor(n_estimators=200, learning_rate=0.0579, random_state=42, max_depth = 5)),\n",
    "    ('knn', make_pipeline(StandardScaler(), KNeighborsRegressor(n_neighbors=2, weights='distance', algorithm='auto'))),\n",
    "    ('svr', Pipeline([('scaler', scaler), ('svr', SVR(C=1.0, epsilon=0.1, kernel = 'rbf'))])),\n",
    "]\n",
    "\n",
    "# Meta-model (Level Kedua)\n",
    "# Menggunakan Ridge Regression sebagai meta-model untuk menghindari overfitting\n",
    "meta_model = Ridge(alpha=0.1)\n",
    "\n",
    "# Membentuk Stacking Regressor\n",
    "stacking_regressor = StackingRegressor(\n",
    "    estimators=base_models,\n",
    "    final_estimator=meta_model,\n",
    "    passthrough=True  # Memasukkan data asli ke meta-model bersama prediksi base models\n",
    ")\n",
    "\n",
    "# Untuk multi-output, kita bungkus dengan MultiOutputRegressor\n",
    "model_all_best = MultiOutputRegressor(stacking_regressor)\n",
    "start = time.time()\n",
    "# Training\n",
    "model_all_best.fit(x0_train, y0_train)\n",
    "end = time.time()\n",
    "waktu = (end-start)/60\n",
    "# Prediction\n",
    "y0_pred = model_all_best.predict(x0_test)\n",
    "r2 = r2_score(y0_test, y0_pred, multioutput = 'raw_values')\n",
    "mae = mean_absolute_error(y0_test, y0_pred, multioutput = 'raw_values')\n",
    "mse = mean_squared_error(y0_test, y0_pred, multioutput = 'raw_values')\n",
    "max_ae = max_absolute_error(y0_test, y0_pred)\n",
    "print(f'R2 : \\n Alpha : {r2[1]} \\n Beta : {r2[2]} \\n V : {r2[0]} ')\n",
    "print(f'MAE : \\n Alpha : {mae[1]} \\n Beta : {mae[2]} \\n V : {mae[0]} ')\n",
    "print(f'MSE : \\n Alpha : {mse[1]} \\n Beta : {mse[2]} \\n V : {mse[0]} ')\n",
    "print('Max AERR : \\n', max_ae)\n",
    "print(\"Waktu yang dibutuhkan : \", waktu)"
   ]
  },
  {
   "cell_type": "code",
   "execution_count": 66,
   "id": "e3e23721-7206-45dc-b869-8a37dbbdcf37",
   "metadata": {},
   "outputs": [
    {
     "name": "stdout",
     "output_type": "stream",
     "text": [
      "R2 : \n",
      " Alpha : 0.9999945979513202 \n",
      " Beta : 0.9834545486812505 \n",
      " V : 0.9999997853379387 \n",
      "MAE : \n",
      " Alpha : 0.00505256846849271 \n",
      " Beta : 0.4465870642879665 \n",
      " V : 0.0015456515827060463 \n",
      "MSE : \n",
      " Alpha : 0.006814944511650097 \n",
      " Beta : 2.0183746901675144 \n",
      " V : 4.30602948504591e-05 \n",
      "Max AERR : \n",
      " V     0.084669\n",
      "α     2.152655\n",
      "β    14.780878\n",
      "dtype: float64\n",
      "Waktu yang dibutuhkan :  1.849704094727834\n"
     ]
    }
   ],
   "source": [
    "def max_absolute_error(y_true, y_pred):\n",
    "    return np.max(np.abs(y_true - y_pred), axis=0)\n",
    "scaler = StandardScaler()\n",
    "\n",
    "# Base models (Level Pertama)\n",
    "base_models = [\n",
    "    ('random_forest', RandomForestRegressor(n_estimators=100, max_depth=None, random_state=21, max_leaf_nodes= 800)),\n",
    "    ('gradient_boosting', GradientBoostingRegressor(n_estimators=200, learning_rate=0.05789, random_state=42, max_depth = 10)),\n",
    "    ('knn', make_pipeline(StandardScaler(), KNeighborsRegressor(n_neighbors=2, weights='distance', p =1)))\n",
    "]\n",
    "\n",
    "# Meta-model (Level Kedua)\n",
    "# Menggunakan Ridge Regression sebagai meta-model untuk menghindari overfitting\n",
    "meta_model = Ridge(alpha=0.1)\n",
    "\n",
    "# Membentuk Stacking Regressor\n",
    "stacking_regressor = StackingRegressor(\n",
    "    estimators=base_models,\n",
    "    final_estimator=meta_model,\n",
    "    passthrough=True  # Memasukkan data asli ke meta-model bersama prediksi base models\n",
    ")\n",
    "\n",
    "# Untuk multi-output, kita bungkus dengan MultiOutputRegressor\n",
    "model_all_best = MultiOutputRegressor(stacking_regressor)\n",
    "start = time.time()\n",
    "# Training\n",
    "model_all_best.fit(x0_train, y0_train)\n",
    "end = time.time()\n",
    "waktu = (end-start)/60\n",
    "# Prediction\n",
    "y0_pred = model_all_best.predict(x0_test)\n",
    "r2 = r2_score(y0_test, y0_pred, multioutput = 'raw_values')\n",
    "mae = mean_absolute_error(y0_test, y0_pred, multioutput = 'raw_values')\n",
    "mse = mean_squared_error(y0_test, y0_pred, multioutput = 'raw_values')\n",
    "max_ae = max_absolute_error(y0_test, y0_pred)\n",
    "print(f'R2 : \\n Alpha : {r2[1]} \\n Beta : {r2[2]} \\n V : {r2[0]} ')\n",
    "print(f'MAE : \\n Alpha : {mae[1]} \\n Beta : {mae[2]} \\n V : {mae[0]} ')\n",
    "print(f'MSE : \\n Alpha : {mse[1]} \\n Beta : {mse[2]} \\n V : {mse[0]} ')\n",
    "print('Max AERR : \\n', max_ae)\n",
    "print(\"Waktu yang dibutuhkan : \", waktu)"
   ]
  },
  {
   "cell_type": "code",
   "execution_count": 67,
   "id": "f6b28aba-051b-48f7-8157-fef460d0573b",
   "metadata": {},
   "outputs": [],
   "source": [
    "y0_pred_df = pd.DataFrame(y0_pred)"
   ]
  },
  {
   "cell_type": "code",
   "execution_count": 68,
   "id": "36599665-e5ed-4533-8d7e-641e036ed670",
   "metadata": {},
   "outputs": [],
   "source": [
    "y0_pred_10 = y0_pred_df[(y0_pred_df[0] >= 9.5) & (y0_pred_df[0] <= 10.5)]\n",
    "y0_pred_20 = y0_pred_df[(y0_pred_df[0] >= 19.5) & (y0_pred_df[0] <= 20.5)]\n",
    "y0_pred_30 = y0_pred_df[(y0_pred_df[0] >= 29.5) & (y0_pred_df[0] <= 30.5)]\n",
    "y0_pred_40 = y0_pred_df[(y0_pred_df[0] >= 39.5) & (y0_pred_df[0] <= 40.5)]\n",
    "y0_pred_50 = y0_pred_df[(y0_pred_df[0] >= 49.5) & (y0_pred_df[0] <= 50.5)]"
   ]
  },
  {
   "cell_type": "code",
   "execution_count": 69,
   "id": "9f0d0b07-daa8-485f-96cd-c92395051055",
   "metadata": {},
   "outputs": [
    {
     "data": {
      "image/png": "[encoded data removed]",
      "text/plain": [
       "<Figure size 1100x800 with 1 Axes>"
      ]
     },
     "metadata": {},
     "output_type": "display_data"
    }
   ],
   "source": [
    "fig = plt.figure(figsize=(11, 8))\n",
    "\n",
    "# Add first subplot (Alpha vs Beta)\n",
    "ax1 = fig.add_subplot()\n",
    "ax1.scatter(y0_test[\"α\"], y0_test[\"β\"], label = 'Desired value', marker='o', color='b')\n",
    "ax1.scatter(y0_pred_10[1], y0_pred_10[2], label = 'Prediction at 10m/s', marker='+', color='r')\n",
    "ax1.scatter(y0_pred_20[1], y0_pred_20[2], label = 'Prediction at 20m/s', marker='*', color='green')\n",
    "ax1.scatter(y0_pred_30[1], y0_pred_30[2], label = 'Prediction at 30m/s', marker='s', color='m')\n",
    "ax1.scatter(y0_pred_40[1], y0_pred_40[2], label = 'Prediction at 40m/s', marker='x', color='cyan')\n",
    "ax1.scatter(y0_pred_50[1], y0_pred_50[2], label = 'Prediction at 50m/s', marker='+', color='turquoise')\n",
    "ax1.set_xlabel('Desired Alpha value (deg)')\n",
    "ax1.set_ylabel('Desired Beta value (deg)')\n",
    "ax1.set_xticks(np.arange(-35, 95, 5))\n",
    "ax1.set_yticks(np.arange(-25, 25, 5))\n",
    "ax1.set_title('Comparison Between the desired and predicted value of Alpha and Beta angle \\n in the Alpha angle range -30 to 90 deg in all speed variaton')\n",
    "ax1.grid(True)\n",
    "ax1.legend()\n",
    "\n",
    "# Adjust layout to prevent overlap\n",
    "plt.tight_layout()\n",
    "# Show the plot\n",
    "plt.show()"
   ]
  },
  {
   "cell_type": "markdown",
   "id": "0b545427-de0e-49bb-8dff-1a16d18f8814",
   "metadata": {},
   "source": [
    "## REDUCE MAX AERR"
   ]
  },
  {
   "cell_type": "code",
   "execution_count": 4,
   "id": "2056d131-92a8-4526-9f77-5f91778fc5d1",
   "metadata": {},
   "outputs": [],
   "source": [
    "reduce_index = []"
   ]
  },
  {
   "cell_type": "code",
   "execution_count": 5,
   "id": "102994a1-a2b2-410d-8709-4b7ae38654ca",
   "metadata": {},
   "outputs": [],
   "source": [
    "df_all = pd.read_csv('data_all.csv')\n",
    "x_all = df_all.drop(columns = [\"V\",\"α\",\"β\"])\n",
    "y_all = df_all[[\"V\",\"α\",\"β\"]]\n",
    "\n",
    "x0_train, x0_test, y0_train, y0_test = train_test_split(x_all, y_all,\n",
    "                                                        random_state = 42, test_size = 0.2)"
   ]
  },
  {
   "cell_type": "code",
   "execution_count": 6,
   "id": "c6b502f7-fbc3-4e5a-aafb-b17437ccc11c",
   "metadata": {},
   "outputs": [
    {
     "name": "stdout",
     "output_type": "stream",
     "text": [
      "R2 : \n",
      " Alpha : 0.9999999518449048 \n",
      " Beta : 0.9786085926247874 \n",
      " V : 0.9999997006737554 \n",
      "MAE : \n",
      " Alpha : 0.004298451266537389 \n",
      " Beta : 0.550168122812585 \n",
      " V : 0.0021246872693424417 \n",
      "MSE : \n",
      " Alpha : 5.760326756291966e-05 \n",
      " Beta : 2.251416282746785 \n",
      " V : 6.128302128893325e-05 \n",
      "Max AERR : \n",
      " V     0.081751\n",
      "α     0.075188\n",
      "β    12.733468\n",
      "dtype: float64\n",
      "Waktu yang dibutuhkan :  1.3732568383216859\n"
     ]
    }
   ],
   "source": [
    "def max_absolute_error(y_true, y_pred):\n",
    "    return np.max(np.abs(y_true - y_pred), axis=0)\n",
    "scaler = StandardScaler()\n",
    "\n",
    "# Base models (Level Pertama)\n",
    "base_models = [\n",
    "    ('random_forest', RandomForestRegressor(n_estimators=250, max_depth=None, random_state=42, min_samples_leaf= 1, min_samples_split= 2, max_features = 'sqrt')),\n",
    "    ('gradient_boosting', GradientBoostingRegressor(n_estimators=200, learning_rate=0.0579, random_state=42, max_depth = 5)),\n",
    "    ('knn', make_pipeline(StandardScaler(), KNeighborsRegressor(n_neighbors=2, weights='distance', algorithm='auto')))\n",
    "]\n",
    "\n",
    "# Meta-model (Level Kedua)\n",
    "# Menggunakan Ridge Regression sebagai meta-model untuk menghindari overfitting\n",
    "meta_model = Ridge(alpha=0.1)\n",
    "\n",
    "# Membentuk Stacking Regressor\n",
    "stacking_regressor = StackingRegressor(\n",
    "    estimators=base_models,\n",
    "    final_estimator=meta_model,\n",
    "    passthrough=True  # Memasukkan data asli ke meta-model bersama prediksi base models\n",
    ")\n",
    "\n",
    "# Untuk multi-output, kita bungkus dengan MultiOutputRegressor\n",
    "model_all_best = MultiOutputRegressor(stacking_regressor)\n",
    "start = time.time()\n",
    "# Training\n",
    "model_all_best.fit(x0_train, y0_train)\n",
    "end = time.time()\n",
    "waktu = (end-start)/60\n",
    "# Prediction\n",
    "y0_pred = model_all_best.predict(x0_test)\n",
    "r2 = r2_score(y0_test, y0_pred, multioutput = 'raw_values')\n",
    "mae = mean_absolute_error(y0_test, y0_pred, multioutput = 'raw_values')\n",
    "mse = mean_squared_error(y0_test, y0_pred, multioutput = 'raw_values')\n",
    "max_ae = max_absolute_error(y0_test, y0_pred)\n",
    "print(f'R2 : \\n Alpha : {r2[1]} \\n Beta : {r2[2]} \\n V : {r2[0]} ')\n",
    "print(f'MAE : \\n Alpha : {mae[1]} \\n Beta : {mae[2]} \\n V : {mae[0]} ')\n",
    "print(f'MSE : \\n Alpha : {mse[1]} \\n Beta : {mse[2]} \\n V : {mse[0]} ')\n",
    "print('Max AERR : \\n', max_ae)\n",
    "print(\"Waktu yang dibutuhkan : \", waktu)"
   ]
  },
  {
   "cell_type": "code",
   "execution_count": 7,
   "id": "3b52c47a-c34d-4f9c-9c79-baa3066196c8",
   "metadata": {},
   "outputs": [
    {
     "name": "stdout",
     "output_type": "stream",
     "text": [
      "6749\n",
      "[4886]\n"
     ]
    }
   ],
   "source": [
    "y_pred_df = pd.DataFrame(y0_pred, columns = [\"V\",\"α\",\"β\"], index = y0_test.index)\n",
    "aerr = np.abs(y_pred_df - y0_test)\n",
    "index_max_aerr = aerr[\"β\"].idxmax()\n",
    "df_all_clean_1 = df_all.drop(index = index_max_aerr)\n",
    "print(len(df_all_clean_1))\n",
    "reduce_index.append(index_max_aerr)\n",
    "print(reduce_index)"
   ]
  },
  {
   "cell_type": "code",
   "execution_count": 8,
   "id": "91c80584-1b76-428c-9bab-fe2a60c2042f",
   "metadata": {},
   "outputs": [
    {
     "data": {
      "text/html": [
       "<div>\n",
       "<style scoped>\n",
       "    .dataframe tbody tr th:only-of-type {\n",
       "        vertical-align: middle;\n",
       "    }\n",
       "\n",
       "    .dataframe tbody tr th {\n",
       "        vertical-align: top;\n",
       "    }\n",
       "\n",
       "    .dataframe thead th {\n",
       "        text-align: right;\n",
       "    }\n",
       "</style>\n",
       "<table border=\"1\" class=\"dataframe\">\n",
       "  <thead>\n",
       "    <tr style=\"text-align: right;\">\n",
       "      <th></th>\n",
       "      <th>Pβ2</th>\n",
       "      <th>Pα1</th>\n",
       "      <th>Pβ1</th>\n",
       "      <th>Pα2</th>\n",
       "      <th>P3</th>\n",
       "      <th>V</th>\n",
       "      <th>α</th>\n",
       "      <th>β</th>\n",
       "    </tr>\n",
       "  </thead>\n",
       "  <tbody>\n",
       "    <tr>\n",
       "      <th>0</th>\n",
       "      <td>0.00842</td>\n",
       "      <td>0.00000</td>\n",
       "      <td>0.00337</td>\n",
       "      <td>0.00842</td>\n",
       "      <td>0.05892</td>\n",
       "      <td>10.011648</td>\n",
       "      <td>0</td>\n",
       "      <td>0</td>\n",
       "    </tr>\n",
       "    <tr>\n",
       "      <th>1</th>\n",
       "      <td>0.01010</td>\n",
       "      <td>0.00168</td>\n",
       "      <td>0.00337</td>\n",
       "      <td>0.00842</td>\n",
       "      <td>0.05724</td>\n",
       "      <td>10.011648</td>\n",
       "      <td>0</td>\n",
       "      <td>0</td>\n",
       "    </tr>\n",
       "    <tr>\n",
       "      <th>2</th>\n",
       "      <td>0.00842</td>\n",
       "      <td>0.00337</td>\n",
       "      <td>0.00505</td>\n",
       "      <td>0.00842</td>\n",
       "      <td>0.05892</td>\n",
       "      <td>10.011648</td>\n",
       "      <td>0</td>\n",
       "      <td>0</td>\n",
       "    </tr>\n",
       "    <tr>\n",
       "      <th>3</th>\n",
       "      <td>0.01010</td>\n",
       "      <td>0.00168</td>\n",
       "      <td>0.00337</td>\n",
       "      <td>0.00842</td>\n",
       "      <td>0.05724</td>\n",
       "      <td>10.011648</td>\n",
       "      <td>0</td>\n",
       "      <td>0</td>\n",
       "    </tr>\n",
       "    <tr>\n",
       "      <th>4</th>\n",
       "      <td>0.01178</td>\n",
       "      <td>0.00337</td>\n",
       "      <td>0.00337</td>\n",
       "      <td>0.00842</td>\n",
       "      <td>0.05724</td>\n",
       "      <td>10.011648</td>\n",
       "      <td>0</td>\n",
       "      <td>0</td>\n",
       "    </tr>\n",
       "    <tr>\n",
       "      <th>...</th>\n",
       "      <td>...</td>\n",
       "      <td>...</td>\n",
       "      <td>...</td>\n",
       "      <td>...</td>\n",
       "      <td>...</td>\n",
       "      <td>...</td>\n",
       "      <td>...</td>\n",
       "      <td>...</td>\n",
       "    </tr>\n",
       "    <tr>\n",
       "      <th>6745</th>\n",
       "      <td>-0.80803</td>\n",
       "      <td>-0.15319</td>\n",
       "      <td>0.96291</td>\n",
       "      <td>-0.12626</td>\n",
       "      <td>1.07569</td>\n",
       "      <td>50.038935</td>\n",
       "      <td>0</td>\n",
       "      <td>20</td>\n",
       "    </tr>\n",
       "    <tr>\n",
       "      <th>6746</th>\n",
       "      <td>-0.81477</td>\n",
       "      <td>-0.15992</td>\n",
       "      <td>0.96122</td>\n",
       "      <td>-0.12962</td>\n",
       "      <td>1.07233</td>\n",
       "      <td>50.038935</td>\n",
       "      <td>0</td>\n",
       "      <td>20</td>\n",
       "    </tr>\n",
       "    <tr>\n",
       "      <th>6747</th>\n",
       "      <td>-0.80803</td>\n",
       "      <td>-0.15824</td>\n",
       "      <td>0.96122</td>\n",
       "      <td>-0.12962</td>\n",
       "      <td>1.07233</td>\n",
       "      <td>50.038935</td>\n",
       "      <td>0</td>\n",
       "      <td>20</td>\n",
       "    </tr>\n",
       "    <tr>\n",
       "      <th>6748</th>\n",
       "      <td>-0.80972</td>\n",
       "      <td>-0.15656</td>\n",
       "      <td>0.96291</td>\n",
       "      <td>-0.12457</td>\n",
       "      <td>1.07401</td>\n",
       "      <td>50.038935</td>\n",
       "      <td>0</td>\n",
       "      <td>20</td>\n",
       "    </tr>\n",
       "    <tr>\n",
       "      <th>6749</th>\n",
       "      <td>-0.80803</td>\n",
       "      <td>-0.15487</td>\n",
       "      <td>0.96291</td>\n",
       "      <td>-0.12457</td>\n",
       "      <td>1.07569</td>\n",
       "      <td>50.038935</td>\n",
       "      <td>0</td>\n",
       "      <td>20</td>\n",
       "    </tr>\n",
       "  </tbody>\n",
       "</table>\n",
       "<p>6749 rows × 8 columns</p>\n",
       "</div>"
      ],
      "text/plain": [
       "          Pβ2      Pα1      Pβ1      Pα2       P3          V  α   β\n",
       "0     0.00842  0.00000  0.00337  0.00842  0.05892  10.011648  0   0\n",
       "1     0.01010  0.00168  0.00337  0.00842  0.05724  10.011648  0   0\n",
       "2     0.00842  0.00337  0.00505  0.00842  0.05892  10.011648  0   0\n",
       "3     0.01010  0.00168  0.00337  0.00842  0.05724  10.011648  0   0\n",
       "4     0.01178  0.00337  0.00337  0.00842  0.05724  10.011648  0   0\n",
       "...       ...      ...      ...      ...      ...        ... ..  ..\n",
       "6745 -0.80803 -0.15319  0.96291 -0.12626  1.07569  50.038935  0  20\n",
       "6746 -0.81477 -0.15992  0.96122 -0.12962  1.07233  50.038935  0  20\n",
       "6747 -0.80803 -0.15824  0.96122 -0.12962  1.07233  50.038935  0  20\n",
       "6748 -0.80972 -0.15656  0.96291 -0.12457  1.07401  50.038935  0  20\n",
       "6749 -0.80803 -0.15487  0.96291 -0.12457  1.07569  50.038935  0  20\n",
       "\n",
       "[6749 rows x 8 columns]"
      ]
     },
     "execution_count": 8,
     "metadata": {},
     "output_type": "execute_result"
    }
   ],
   "source": [
    "df_all_clean_1"
   ]
  },
  {
   "cell_type": "markdown",
   "id": "22562f8e-d55f-4a2f-93cf-d64da8586f19",
   "metadata": {},
   "source": [
    "### AFTER REDUCE 1"
   ]
  },
  {
   "cell_type": "code",
   "execution_count": 74,
   "id": "5803c32a-8385-4777-9be0-a03b210a33cf",
   "metadata": {},
   "outputs": [],
   "source": [
    "x_all = df_all_clean_1.drop(columns = [\"V\",\"α\",\"β\"])\n",
    "y_all = df_all_clean_1[[\"V\",\"α\",\"β\"]]\n",
    "\n",
    "x0_train, x0_test, y0_train, y0_test = train_test_split(x_all, y_all,\n",
    "                                                        random_state = 42, test_size = 0.2)"
   ]
  },
  {
   "cell_type": "code",
   "execution_count": 75,
   "id": "cbc2adb8-c5f4-43d5-a665-e8430eca6897",
   "metadata": {},
   "outputs": [
    {
     "name": "stdout",
     "output_type": "stream",
     "text": [
      "R2 : \n",
      " Alpha : 0.9999999021319054 \n",
      " Beta : 0.9795407808281349 \n",
      " V : 0.999999690234584 \n",
      "MAE : \n",
      " Alpha : 0.004790257706278746 \n",
      " Beta : 0.5564742129180307 \n",
      " V : 0.0021164319260444514 \n",
      "MSE : \n",
      " Alpha : 0.0001175703302296086 \n",
      " Beta : 2.1680609298130156 \n",
      " V : 6.299358978187922e-05 \n",
      "Max AERR : \n",
      " V     0.081261\n",
      "α     0.118480\n",
      "β    11.824073\n",
      "dtype: float64\n",
      "Waktu yang dibutuhkan :  1.346963381767273\n"
     ]
    }
   ],
   "source": [
    "def max_absolute_error(y_true, y_pred):\n",
    "    return np.max(np.abs(y_true - y_pred), axis=0)\n",
    "scaler = StandardScaler()\n",
    "\n",
    "# Base models (Level Pertama)\n",
    "base_models = [\n",
    "    ('random_forest', RandomForestRegressor(n_estimators=250, max_depth=None, random_state=42, min_samples_leaf= 1, min_samples_split= 2, max_features = 'sqrt')),\n",
    "    ('gradient_boosting', GradientBoostingRegressor(n_estimators=200, learning_rate=0.0579, random_state=42, max_depth = 5)),\n",
    "    ('knn', make_pipeline(StandardScaler(), KNeighborsRegressor(n_neighbors=2, weights='distance', algorithm='auto')))\n",
    "]\n",
    "\n",
    "# Meta-model (Level Kedua)\n",
    "# Menggunakan Ridge Regression sebagai meta-model untuk menghindari overfitting\n",
    "meta_model = Ridge(alpha=0.1)\n",
    "\n",
    "# Membentuk Stacking Regressor\n",
    "stacking_regressor = StackingRegressor(\n",
    "    estimators=base_models,\n",
    "    final_estimator=meta_model,\n",
    "    passthrough=True  # Memasukkan data asli ke meta-model bersama prediksi base models\n",
    ")\n",
    "\n",
    "# Untuk multi-output, kita bungkus dengan MultiOutputRegressor\n",
    "model_all_best = MultiOutputRegressor(stacking_regressor)\n",
    "start = time.time()\n",
    "# Training\n",
    "model_all_best.fit(x0_train, y0_train)\n",
    "end = time.time()\n",
    "waktu = (end-start)/60\n",
    "# Prediction\n",
    "y0_pred = model_all_best.predict(x0_test)\n",
    "r2 = r2_score(y0_test, y0_pred, multioutput = 'raw_values')\n",
    "mae = mean_absolute_error(y0_test, y0_pred, multioutput = 'raw_values')\n",
    "mse = mean_squared_error(y0_test, y0_pred, multioutput = 'raw_values')\n",
    "max_ae = max_absolute_error(y0_test, y0_pred)\n",
    "print(f'R2 : \\n Alpha : {r2[1]} \\n Beta : {r2[2]} \\n V : {r2[0]} ')\n",
    "print(f'MAE : \\n Alpha : {mae[1]} \\n Beta : {mae[2]} \\n V : {mae[0]} ')\n",
    "print(f'MSE : \\n Alpha : {mse[1]} \\n Beta : {mse[2]} \\n V : {mse[0]} ')\n",
    "print('Max AERR : \\n', max_ae)\n",
    "print(\"Waktu yang dibutuhkan : \", waktu)"
   ]
  },
  {
   "cell_type": "code",
   "execution_count": 76,
   "id": "3a2a987c-ca8c-4c7e-9d38-d974db4b7b98",
   "metadata": {},
   "outputs": [
    {
     "name": "stdout",
     "output_type": "stream",
     "text": [
      "6748\n"
     ]
    }
   ],
   "source": [
    "y_pred_df = pd.DataFrame(y0_pred, columns = [\"V\",\"α\",\"β\"], index = y0_test.index)\n",
    "aerr = np.abs(y_pred_df - y0_test)\n",
    "index_max_aerr = aerr[\"β\"].idxmax()\n",
    "df_all_clean_2 = df_all_clean_1.drop(index = index_max_aerr)\n",
    "print(len(df_all_clean_2))"
   ]
  },
  {
   "cell_type": "markdown",
   "id": "697dab98-db77-4abe-a0c0-3bc173a036b4",
   "metadata": {},
   "source": [
    "### AFTER REDUCE 2"
   ]
  },
  {
   "cell_type": "code",
   "execution_count": 77,
   "id": "8332c51b-96e0-4cf6-af8f-a5c99b67f11d",
   "metadata": {},
   "outputs": [],
   "source": [
    "x_all = df_all_clean_2.drop(columns = [\"V\",\"α\",\"β\"])\n",
    "y_all = df_all_clean_2[[\"V\",\"α\",\"β\"]]\n",
    "\n",
    "x0_train, x0_test, y0_train, y0_test = train_test_split(x_all, y_all,\n",
    "                                                        random_state = 42, test_size = 0.2)"
   ]
  },
  {
   "cell_type": "code",
   "execution_count": 78,
   "id": "ed9a336d-1d5a-4891-9cde-71ba26071566",
   "metadata": {},
   "outputs": [
    {
     "name": "stdout",
     "output_type": "stream",
     "text": [
      "R2 : \n",
      " Alpha : 0.9999999992933625 \n",
      " Beta : 0.9796224266543395 \n",
      " V : 0.9999997304954433 \n",
      "MAE : \n",
      " Alpha : 0.0006319235418445089 \n",
      " Beta : 0.553685150129843 \n",
      " V : 0.0019428039486751954 \n",
      "MSE : \n",
      " Alpha : 8.41258092765535e-07 \n",
      " Beta : 2.205932692662844 \n",
      " V : 5.5259299039322e-05 \n",
      "Max AERR : \n",
      " V     0.084070\n",
      "α     0.008932\n",
      "β    13.897936\n",
      "dtype: float64\n",
      "Waktu yang dibutuhkan :  1.3456701437632244\n"
     ]
    }
   ],
   "source": [
    "def max_absolute_error(y_true, y_pred):\n",
    "    return np.max(np.abs(y_true - y_pred), axis=0)\n",
    "scaler = StandardScaler()\n",
    "\n",
    "# Base models (Level Pertama)\n",
    "base_models = [\n",
    "    ('random_forest', RandomForestRegressor(n_estimators=250, max_depth=None, random_state=42, min_samples_leaf= 1, min_samples_split= 2, max_features = 'sqrt')),\n",
    "    ('gradient_boosting', GradientBoostingRegressor(n_estimators=200, learning_rate=0.0579, random_state=42, max_depth = 5)),\n",
    "    ('knn', make_pipeline(StandardScaler(), KNeighborsRegressor(n_neighbors=2, weights='distance', algorithm='auto')))\n",
    "]\n",
    "\n",
    "# Meta-model (Level Kedua)\n",
    "# Menggunakan Ridge Regression sebagai meta-model untuk menghindari overfitting\n",
    "meta_model = Ridge(alpha=0.1)\n",
    "\n",
    "# Membentuk Stacking Regressor\n",
    "stacking_regressor = StackingRegressor(\n",
    "    estimators=base_models,\n",
    "    final_estimator=meta_model,\n",
    "    passthrough=True  # Memasukkan data asli ke meta-model bersama prediksi base models\n",
    ")\n",
    "\n",
    "# Untuk multi-output, kita bungkus dengan MultiOutputRegressor\n",
    "model_all_best = MultiOutputRegressor(stacking_regressor)\n",
    "start = time.time()\n",
    "# Training\n",
    "model_all_best.fit(x0_train, y0_train)\n",
    "end = time.time()\n",
    "waktu = (end-start)/60\n",
    "# Prediction\n",
    "y0_pred = model_all_best.predict(x0_test)\n",
    "r2 = r2_score(y0_test, y0_pred, multioutput = 'raw_values')\n",
    "mae = mean_absolute_error(y0_test, y0_pred, multioutput = 'raw_values')\n",
    "mse = mean_squared_error(y0_test, y0_pred, multioutput = 'raw_values')\n",
    "max_ae = max_absolute_error(y0_test, y0_pred)\n",
    "print(f'R2 : \\n Alpha : {r2[1]} \\n Beta : {r2[2]} \\n V : {r2[0]} ')\n",
    "print(f'MAE : \\n Alpha : {mae[1]} \\n Beta : {mae[2]} \\n V : {mae[0]} ')\n",
    "print(f'MSE : \\n Alpha : {mse[1]} \\n Beta : {mse[2]} \\n V : {mse[0]} ')\n",
    "print('Max AERR : \\n', max_ae)\n",
    "print(\"Waktu yang dibutuhkan : \", waktu)"
   ]
  },
  {
   "cell_type": "code",
   "execution_count": 79,
   "id": "39b6b4b3-b65a-4275-b43c-8eae92af0ef4",
   "metadata": {},
   "outputs": [
    {
     "name": "stdout",
     "output_type": "stream",
     "text": [
      "6747\n"
     ]
    }
   ],
   "source": [
    "y_pred_df = pd.DataFrame(y0_pred, columns = [\"V\",\"α\",\"β\"], index = y0_test.index)\n",
    "aerr = np.abs(y_pred_df - y0_test)\n",
    "index_max_aerr = aerr[\"β\"].idxmax()\n",
    "df_all_clean_3 = df_all_clean_2.drop(index = index_max_aerr)\n",
    "print(len(df_all_clean_3))"
   ]
  },
  {
   "cell_type": "markdown",
   "id": "dc433259-5459-4bf4-b9d2-00252c54d9a1",
   "metadata": {},
   "source": [
    "### AFTER REDUCE 3"
   ]
  },
  {
   "cell_type": "code",
   "execution_count": 80,
   "id": "1a9ac619-fe12-4fff-9433-4e127293f3b7",
   "metadata": {},
   "outputs": [],
   "source": [
    "x_all = df_all_clean_3.drop(columns = [\"V\",\"α\",\"β\"])\n",
    "y_all = df_all_clean_3[[\"V\",\"α\",\"β\"]]\n",
    "\n",
    "x0_train, x0_test, y0_train, y0_test = train_test_split(x_all, y_all,\n",
    "                                                        random_state = 42, test_size = 0.2)"
   ]
  },
  {
   "cell_type": "code",
   "execution_count": 81,
   "id": "e8988e81-a78c-4cf9-b235-aa1782b0b0dc",
   "metadata": {},
   "outputs": [
    {
     "name": "stdout",
     "output_type": "stream",
     "text": [
      "R2 : \n",
      " Alpha : 0.9999999962897715 \n",
      " Beta : 0.9799124587852057 \n",
      " V : 0.9999997081851522 \n",
      "MAE : \n",
      " Alpha : 0.0009426884522679434 \n",
      " Beta : 0.5497341181934802 \n",
      " V : 0.002107294172288417 \n",
      "MSE : \n",
      " Alpha : 4.43560840143158e-06 \n",
      " Beta : 2.124738592476311 \n",
      " V : 5.95254928182116e-05 \n",
      "Max AERR : \n",
      " V     0.082174\n",
      "α     0.036301\n",
      "β    13.842493\n",
      "dtype: float64\n",
      "Waktu yang dibutuhkan :  1.3456446806589761\n"
     ]
    }
   ],
   "source": [
    "def max_absolute_error(y_true, y_pred):\n",
    "    return np.max(np.abs(y_true - y_pred), axis=0)\n",
    "scaler = StandardScaler()\n",
    "\n",
    "# Base models (Level Pertama)\n",
    "base_models = [\n",
    "    ('random_forest', RandomForestRegressor(n_estimators=250, max_depth=None, random_state=42, min_samples_leaf= 1, min_samples_split= 2, max_features = 'sqrt')),\n",
    "    ('gradient_boosting', GradientBoostingRegressor(n_estimators=200, learning_rate=0.0579, random_state=42, max_depth = 5)),\n",
    "    ('knn', make_pipeline(StandardScaler(), KNeighborsRegressor(n_neighbors=2, weights='distance', algorithm='auto')))\n",
    "]\n",
    "\n",
    "# Meta-model (Level Kedua)\n",
    "# Menggunakan Ridge Regression sebagai meta-model untuk menghindari overfitting\n",
    "meta_model = Ridge(alpha=0.1)\n",
    "\n",
    "# Membentuk Stacking Regressor\n",
    "stacking_regressor = StackingRegressor(\n",
    "    estimators=base_models,\n",
    "    final_estimator=meta_model,\n",
    "    passthrough=True  # Memasukkan data asli ke meta-model bersama prediksi base models\n",
    ")\n",
    "\n",
    "# Untuk multi-output, kita bungkus dengan MultiOutputRegressor\n",
    "model_all_best = MultiOutputRegressor(stacking_regressor)\n",
    "start = time.time()\n",
    "# Training\n",
    "model_all_best.fit(x0_train, y0_train)\n",
    "end = time.time()\n",
    "waktu = (end-start)/60\n",
    "# Prediction\n",
    "y0_pred = model_all_best.predict(x0_test)\n",
    "r2 = r2_score(y0_test, y0_pred, multioutput = 'raw_values')\n",
    "mae = mean_absolute_error(y0_test, y0_pred, multioutput = 'raw_values')\n",
    "mse = mean_squared_error(y0_test, y0_pred, multioutput = 'raw_values')\n",
    "max_ae = max_absolute_error(y0_test, y0_pred)\n",
    "print(f'R2 : \\n Alpha : {r2[1]} \\n Beta : {r2[2]} \\n V : {r2[0]} ')\n",
    "print(f'MAE : \\n Alpha : {mae[1]} \\n Beta : {mae[2]} \\n V : {mae[0]} ')\n",
    "print(f'MSE : \\n Alpha : {mse[1]} \\n Beta : {mse[2]} \\n V : {mse[0]} ')\n",
    "print('Max AERR : \\n', max_ae)\n",
    "print(\"Waktu yang dibutuhkan : \", waktu)"
   ]
  },
  {
   "cell_type": "code",
   "execution_count": 82,
   "id": "fb6c4a76-f93b-43c6-91cc-361c998cd061",
   "metadata": {},
   "outputs": [
    {
     "name": "stdout",
     "output_type": "stream",
     "text": [
      "6746\n"
     ]
    }
   ],
   "source": [
    "y_pred_df = pd.DataFrame(y0_pred, columns = [\"V\",\"α\",\"β\"], index = y0_test.index)\n",
    "aerr = np.abs(y_pred_df - y0_test)\n",
    "index_max_aerr = aerr[\"β\"].idxmax()\n",
    "df_all_clean_4 = df_all_clean_3.drop(index = index_max_aerr)\n",
    "print(len(df_all_clean_4))"
   ]
  },
  {
   "cell_type": "markdown",
   "id": "66e517d9-7041-4d8b-8994-19bc7a7a3709",
   "metadata": {},
   "source": [
    "### AFTER REDUCE 4"
   ]
  },
  {
   "cell_type": "code",
   "execution_count": 83,
   "id": "25801c90-f464-4350-af9b-6f21a13dd580",
   "metadata": {},
   "outputs": [],
   "source": [
    "x_all = df_all_clean_4.drop(columns = [\"V\",\"α\",\"β\"])\n",
    "y_all = df_all_clean_4[[\"V\",\"α\",\"β\"]]\n",
    "\n",
    "x0_train, x0_test, y0_train, y0_test = train_test_split(x_all, y_all,\n",
    "                                                        random_state = 42, test_size = 0.2)"
   ]
  },
  {
   "cell_type": "code",
   "execution_count": 84,
   "id": "63780b40-9fa1-49ed-9545-902fbb42813a",
   "metadata": {},
   "outputs": [
    {
     "name": "stdout",
     "output_type": "stream",
     "text": [
      "R2 : \n",
      " Alpha : 0.9999999992424851 \n",
      " Beta : 0.9830145499835 \n",
      " V : 0.9999997324550666 \n",
      "MAE : \n",
      " Alpha : 0.0006444930320737723 \n",
      " Beta : 0.5304223075408471 \n",
      " V : 0.0018995723076137777 \n",
      "MSE : \n",
      " Alpha : 9.108658017103407e-07 \n",
      " Beta : 1.84683543618431 \n",
      " V : 5.374949956678052e-05 \n",
      "Max AERR : \n",
      " V     0.081587\n",
      "α     0.010602\n",
      "β    11.529605\n",
      "dtype: float64\n",
      "Waktu yang dibutuhkan :  1.342185910542806\n"
     ]
    }
   ],
   "source": [
    "def max_absolute_error(y_true, y_pred):\n",
    "    return np.max(np.abs(y_true - y_pred), axis=0)\n",
    "scaler = StandardScaler()\n",
    "\n",
    "# Base models (Level Pertama)\n",
    "base_models = [\n",
    "    ('random_forest', RandomForestRegressor(n_estimators=250, max_depth=None, random_state=42, min_samples_leaf= 1, min_samples_split= 2, max_features = 'sqrt')),\n",
    "    ('gradient_boosting', GradientBoostingRegressor(n_estimators=200, learning_rate=0.0579, random_state=42, max_depth = 5)),\n",
    "    ('knn', make_pipeline(StandardScaler(), KNeighborsRegressor(n_neighbors=2, weights='distance', algorithm='auto')))\n",
    "]\n",
    "\n",
    "# Meta-model (Level Kedua)\n",
    "# Menggunakan Ridge Regression sebagai meta-model untuk menghindari overfitting\n",
    "meta_model = Ridge(alpha=0.1)\n",
    "\n",
    "# Membentuk Stacking Regressor\n",
    "stacking_regressor = StackingRegressor(\n",
    "    estimators=base_models,\n",
    "    final_estimator=meta_model,\n",
    "    passthrough=True  # Memasukkan data asli ke meta-model bersama prediksi base models\n",
    ")\n",
    "\n",
    "# Untuk multi-output, kita bungkus dengan MultiOutputRegressor\n",
    "model_all_best = MultiOutputRegressor(stacking_regressor)\n",
    "start = time.time()\n",
    "# Training\n",
    "model_all_best.fit(x0_train, y0_train)\n",
    "end = time.time()\n",
    "waktu = (end-start)/60\n",
    "# Prediction\n",
    "y0_pred = model_all_best.predict(x0_test)\n",
    "r2 = r2_score(y0_test, y0_pred, multioutput = 'raw_values')\n",
    "mae = mean_absolute_error(y0_test, y0_pred, multioutput = 'raw_values')\n",
    "mse = mean_squared_error(y0_test, y0_pred, multioutput = 'raw_values')\n",
    "max_ae = max_absolute_error(y0_test, y0_pred)\n",
    "print(f'R2 : \\n Alpha : {r2[1]} \\n Beta : {r2[2]} \\n V : {r2[0]} ')\n",
    "print(f'MAE : \\n Alpha : {mae[1]} \\n Beta : {mae[2]} \\n V : {mae[0]} ')\n",
    "print(f'MSE : \\n Alpha : {mse[1]} \\n Beta : {mse[2]} \\n V : {mse[0]} ')\n",
    "print('Max AERR : \\n', max_ae)\n",
    "print(\"Waktu yang dibutuhkan : \", waktu)"
   ]
  },
  {
   "cell_type": "code",
   "execution_count": 85,
   "id": "df93a86b-4ac1-48dc-af65-57ba677d0c84",
   "metadata": {},
   "outputs": [],
   "source": [
    "df_all_clean_4.to_csv('data_clean_reduce_4_sec.csv', index = False)"
   ]
  },
  {
   "cell_type": "code",
   "execution_count": 86,
   "id": "fb9c2347-012c-4acf-a1cc-ab85a36d434f",
   "metadata": {},
   "outputs": [
    {
     "name": "stdout",
     "output_type": "stream",
     "text": [
      "6745\n"
     ]
    }
   ],
   "source": [
    "y_pred_df = pd.DataFrame(y0_pred, columns = [\"V\",\"α\",\"β\"], index = y0_test.index)\n",
    "aerr = np.abs(y_pred_df - y0_test)\n",
    "index_max_aerr = aerr[\"β\"].idxmax()\n",
    "df_all_clean_5 = df_all_clean_4.drop(index = index_max_aerr)\n",
    "print(len(df_all_clean_5))"
   ]
  },
  {
   "cell_type": "markdown",
   "id": "96407e3c-9e75-44f6-b98a-bfa551bc7631",
   "metadata": {},
   "source": [
    "### AFTER REDUCE 5"
   ]
  },
  {
   "cell_type": "code",
   "execution_count": 87,
   "id": "9fc40966-04e6-4311-950e-458088149e63",
   "metadata": {},
   "outputs": [],
   "source": [
    "x_all = df_all_clean_5.drop(columns = [\"V\",\"α\",\"β\"])\n",
    "y_all = df_all_clean_5[[\"V\",\"α\",\"β\"]]\n",
    "\n",
    "x0_train, x0_test, y0_train, y0_test = train_test_split(x_all, y_all,\n",
    "                                                        random_state = 42, test_size = 0.2)"
   ]
  },
  {
   "cell_type": "code",
   "execution_count": 90,
   "id": "49dc9b33-a6e2-4c3a-8e44-c2da563537a0",
   "metadata": {},
   "outputs": [
    {
     "name": "stdout",
     "output_type": "stream",
     "text": [
      "R2 : \n",
      " Alpha : 0.9999999990985894 \n",
      " Beta : 0.9829301574896132 \n",
      " V : 0.9999997271513653 \n",
      "MAE : \n",
      " Alpha : 0.0008529667078136998 \n",
      " Beta : 0.5263667931815713 \n",
      " V : 0.001928033875127796 \n",
      "MSE : \n",
      " Alpha : 1.080529104191424e-06 \n",
      " Beta : 1.8140243363640258 \n",
      " V : 5.5869608882901275e-05 \n",
      "Max AERR : \n",
      " V     0.081670\n",
      "α     0.006061\n",
      "β    11.387483\n",
      "dtype: float64\n",
      "Waktu yang dibutuhkan :  1.3399212201436361\n"
     ]
    }
   ],
   "source": [
    "def max_absolute_error(y_true, y_pred):\n",
    "    return np.max(np.abs(y_true - y_pred), axis=0)\n",
    "scaler = StandardScaler()\n",
    "\n",
    "# Base models (Level Pertama)\n",
    "base_models = [\n",
    "    ('random_forest', RandomForestRegressor(n_estimators=250, max_depth=None, random_state=42, min_samples_leaf= 1, min_samples_split= 2, max_features = 'sqrt')),\n",
    "    ('gradient_boosting', GradientBoostingRegressor(n_estimators=200, learning_rate=0.0579, random_state=42, max_depth = 5)),\n",
    "    ('knn', make_pipeline(StandardScaler(), KNeighborsRegressor(n_neighbors=2, weights='distance', algorithm='auto')))\n",
    "]\n",
    "\n",
    "# Meta-model (Level Kedua)\n",
    "# Menggunakan Ridge Regression sebagai meta-model untuk menghindari overfitting\n",
    "meta_model = Ridge(alpha=0.1)\n",
    "\n",
    "# Membentuk Stacking Regressor\n",
    "stacking_regressor = StackingRegressor(\n",
    "    estimators=base_models,\n",
    "    final_estimator=meta_model,\n",
    "    passthrough=True  # Memasukkan data asli ke meta-model bersama prediksi base models\n",
    ")\n",
    "\n",
    "# Untuk multi-output, kita bungkus dengan MultiOutputRegressor\n",
    "model_all_best = MultiOutputRegressor(stacking_regressor)\n",
    "start = time.time()\n",
    "# Training\n",
    "model_all_best.fit(x0_train, y0_train)\n",
    "end = time.time()\n",
    "waktu = (end-start)/60\n",
    "# Prediction\n",
    "y0_pred = model_all_best.predict(x0_test)\n",
    "r2 = r2_score(y0_test, y0_pred, multioutput = 'raw_values')\n",
    "mae = mean_absolute_error(y0_test, y0_pred, multioutput = 'raw_values')\n",
    "mse = mean_squared_error(y0_test, y0_pred, multioutput = 'raw_values')\n",
    "max_ae = max_absolute_error(y0_test, y0_pred)\n",
    "print(f'R2 : \\n Alpha : {r2[1]} \\n Beta : {r2[2]} \\n V : {r2[0]} ')\n",
    "print(f'MAE : \\n Alpha : {mae[1]} \\n Beta : {mae[2]} \\n V : {mae[0]} ')\n",
    "print(f'MSE : \\n Alpha : {mse[1]} \\n Beta : {mse[2]} \\n V : {mse[0]} ')\n",
    "print('Max AERR : \\n', max_ae)\n",
    "print(\"Waktu yang dibutuhkan : \", waktu)"
   ]
  },
  {
   "cell_type": "code",
   "execution_count": 91,
   "id": "d3930c9d-ac0a-4107-84e4-97c80645bd23",
   "metadata": {},
   "outputs": [],
   "source": [
    "df_all_clean_5.to_csv('data_clean_reduce_5.csv', index = False)"
   ]
  },
  {
   "cell_type": "code",
   "execution_count": 92,
   "id": "dd1788ad-ef32-4cdd-9dbe-4c3a17c7d1b3",
   "metadata": {},
   "outputs": [
    {
     "name": "stdout",
     "output_type": "stream",
     "text": [
      "6744\n"
     ]
    }
   ],
   "source": [
    "y_pred_df = pd.DataFrame(y0_pred, columns = [\"V\",\"α\",\"β\"], index = y0_test.index)\n",
    "aerr = np.abs(y_pred_df - y0_test)\n",
    "index_max_aerr = aerr[\"β\"].idxmax()\n",
    "df_all_clean_6 = df_all_clean_5.drop(index = index_max_aerr)\n",
    "print(len(df_all_clean_6))"
   ]
  },
  {
   "cell_type": "markdown",
   "id": "b7ffd89b-c1c6-42cb-b45f-a48af63d4b97",
   "metadata": {},
   "source": [
    "### AFTER REDUCE 6 "
   ]
  },
  {
   "cell_type": "code",
   "execution_count": 93,
   "id": "0e859d42-0d9a-4d40-809b-4d749a5c0d34",
   "metadata": {},
   "outputs": [],
   "source": [
    "x_all = df_all_clean_6.drop(columns = [\"V\",\"α\",\"β\"])\n",
    "y_all = df_all_clean_6[[\"V\",\"α\",\"β\"]]\n",
    "\n",
    "x0_train, x0_test, y0_train, y0_test = train_test_split(x_all, y_all,\n",
    "                                                        random_state = 42, test_size = 0.2)"
   ]
  },
  {
   "cell_type": "code",
   "execution_count": 95,
   "id": "ffb3814c-3699-46c5-9009-f1e7048b1374",
   "metadata": {},
   "outputs": [
    {
     "name": "stdout",
     "output_type": "stream",
     "text": [
      "R2 : \n",
      " Alpha : 0.9999999929872324 \n",
      " Beta : 0.9795955539260909 \n",
      " V : 0.9999997359716261 \n",
      "MAE : \n",
      " Alpha : 0.0018373364469258721 \n",
      " Beta : 0.5624436159153839 \n",
      " V : 0.001912599812336011 \n",
      "MSE : \n",
      " Alpha : 8.33760684774414e-06 \n",
      " Beta : 2.1239903293482074 \n",
      " V : 5.4008426080416434e-05 \n",
      "Max AERR : \n",
      " V     0.080810\n",
      "α     0.029374\n",
      "β    15.907386\n",
      "dtype: float64\n",
      "Waktu yang dibutuhkan :  1.349164326985677\n"
     ]
    }
   ],
   "source": [
    "def max_absolute_error(y_true, y_pred):\n",
    "    return np.max(np.abs(y_true - y_pred), axis=0)\n",
    "scaler = StandardScaler()\n",
    "\n",
    "# Base models (Level Pertama)\n",
    "base_models = [\n",
    "    ('random_forest', RandomForestRegressor(n_estimators=250, max_depth=None, random_state=42, min_samples_leaf= 1, min_samples_split= 2, max_features = 'sqrt')),\n",
    "    ('gradient_boosting', GradientBoostingRegressor(n_estimators=200, learning_rate=0.0579, random_state=42, max_depth = 5)),\n",
    "    ('knn', make_pipeline(StandardScaler(), KNeighborsRegressor(n_neighbors=2, weights='distance', algorithm='auto')))\n",
    "]\n",
    "\n",
    "# Meta-model (Level Kedua)\n",
    "# Menggunakan Ridge Regression sebagai meta-model untuk menghindari overfitting\n",
    "meta_model = Ridge(alpha=0.1)\n",
    "\n",
    "# Membentuk Stacking Regressor\n",
    "stacking_regressor = StackingRegressor(\n",
    "    estimators=base_models,\n",
    "    final_estimator=meta_model,\n",
    "    passthrough=True  # Memasukkan data asli ke meta-model bersama prediksi base models\n",
    ")\n",
    "\n",
    "# Untuk multi-output, kita bungkus dengan MultiOutputRegressor\n",
    "model_all_best = MultiOutputRegressor(stacking_regressor)\n",
    "start = time.time()\n",
    "# Training\n",
    "model_all_best.fit(x0_train, y0_train)\n",
    "end = time.time()\n",
    "waktu = (end-start)/60\n",
    "# Prediction\n",
    "y0_pred = model_all_best.predict(x0_test)\n",
    "r2 = r2_score(y0_test, y0_pred, multioutput = 'raw_values')\n",
    "mae = mean_absolute_error(y0_test, y0_pred, multioutput = 'raw_values')\n",
    "mse = mean_squared_error(y0_test, y0_pred, multioutput = 'raw_values')\n",
    "max_ae = max_absolute_error(y0_test, y0_pred)\n",
    "print(f'R2 : \\n Alpha : {r2[1]} \\n Beta : {r2[2]} \\n V : {r2[0]} ')\n",
    "print(f'MAE : \\n Alpha : {mae[1]} \\n Beta : {mae[2]} \\n V : {mae[0]} ')\n",
    "print(f'MSE : \\n Alpha : {mse[1]} \\n Beta : {mse[2]} \\n V : {mse[0]} ')\n",
    "print('Max AERR : \\n', max_ae)\n",
    "print(\"Waktu yang dibutuhkan : \", waktu)"
   ]
  },
  {
   "cell_type": "code",
   "execution_count": 96,
   "id": "6ec81e47-dba8-4197-8ec6-7571cf44cd20",
   "metadata": {},
   "outputs": [
    {
     "name": "stdout",
     "output_type": "stream",
     "text": [
      "6743\n"
     ]
    }
   ],
   "source": [
    "y_pred_df = pd.DataFrame(y0_pred, columns = [\"V\",\"α\",\"β\"], index = y0_test.index)\n",
    "aerr = np.abs(y_pred_df - y0_test)\n",
    "index_max_aerr = aerr[\"β\"].idxmax()\n",
    "df_all_clean_7 = df_all_clean_6.drop(index = index_max_aerr)\n",
    "print(len(df_all_clean_7))"
   ]
  },
  {
   "cell_type": "markdown",
   "id": "8b03d885-61fc-4de9-b2cd-b3b6216aceab",
   "metadata": {},
   "source": [
    "### AFTER REDUCE 7"
   ]
  },
  {
   "cell_type": "code",
   "execution_count": 97,
   "id": "652ce094-b2b3-4dd4-a422-9c0394c6db52",
   "metadata": {},
   "outputs": [],
   "source": [
    "x_all = df_all_clean_7.drop(columns = [\"V\",\"α\",\"β\"])\n",
    "y_all = df_all_clean_7[[\"V\",\"α\",\"β\"]]\n",
    "\n",
    "x0_train, x0_test, y0_train, y0_test = train_test_split(x_all, y_all,\n",
    "                                                        random_state = 42, test_size = 0.2)"
   ]
  },
  {
   "cell_type": "code",
   "execution_count": 98,
   "id": "5e710eb1-ed8a-4260-8b95-6a694045f999",
   "metadata": {},
   "outputs": [
    {
     "name": "stdout",
     "output_type": "stream",
     "text": [
      "R2 : \n",
      " Alpha : 0.9999999992625684 \n",
      " Beta : 0.9767216700883262 \n",
      " V : 0.9999997364681149 \n",
      "MAE : \n",
      " Alpha : 0.0007498105001195096 \n",
      " Beta : 0.5771159392383252 \n",
      " V : 0.001791457540491292 \n",
      "MSE : \n",
      " Alpha : 9.006102902584043e-07 \n",
      " Beta : 2.342079096111067 \n",
      " V : 5.4362907679625254e-05 \n",
      "Max AERR : \n",
      " V     0.080752\n",
      "α     0.004851\n",
      "β    13.683202\n",
      "dtype: float64\n",
      "Waktu yang dibutuhkan :  1.3618990500768027\n"
     ]
    }
   ],
   "source": [
    "def max_absolute_error(y_true, y_pred):\n",
    "    return np.max(np.abs(y_true - y_pred), axis=0)\n",
    "scaler = StandardScaler()\n",
    "\n",
    "# Base models (Level Pertama)\n",
    "base_models = [\n",
    "    ('random_forest', RandomForestRegressor(n_estimators=250, max_depth=None, random_state=42, min_samples_leaf= 1, min_samples_split= 2, max_features = 'sqrt')),\n",
    "    ('gradient_boosting', GradientBoostingRegressor(n_estimators=200, learning_rate=0.0579, random_state=42, max_depth = 5)),\n",
    "    ('knn', make_pipeline(StandardScaler(), KNeighborsRegressor(n_neighbors=2, weights='distance', algorithm='auto')))\n",
    "]\n",
    "\n",
    "# Meta-model (Level Kedua)\n",
    "# Menggunakan Ridge Regression sebagai meta-model untuk menghindari overfitting\n",
    "meta_model = Ridge(alpha=0.1)\n",
    "\n",
    "# Membentuk Stacking Regressor\n",
    "stacking_regressor = StackingRegressor(\n",
    "    estimators=base_models,\n",
    "    final_estimator=meta_model,\n",
    "    passthrough=True  # Memasukkan data asli ke meta-model bersama prediksi base models\n",
    ")\n",
    "\n",
    "# Untuk multi-output, kita bungkus dengan MultiOutputRegressor\n",
    "model_all_best = MultiOutputRegressor(stacking_regressor)\n",
    "start = time.time()\n",
    "# Training\n",
    "model_all_best.fit(x0_train, y0_train)\n",
    "end = time.time()\n",
    "waktu = (end-start)/60\n",
    "# Prediction\n",
    "y0_pred = model_all_best.predict(x0_test)\n",
    "r2 = r2_score(y0_test, y0_pred, multioutput = 'raw_values')\n",
    "mae = mean_absolute_error(y0_test, y0_pred, multioutput = 'raw_values')\n",
    "mse = mean_squared_error(y0_test, y0_pred, multioutput = 'raw_values')\n",
    "max_ae = max_absolute_error(y0_test, y0_pred)\n",
    "print(f'R2 : \\n Alpha : {r2[1]} \\n Beta : {r2[2]} \\n V : {r2[0]} ')\n",
    "print(f'MAE : \\n Alpha : {mae[1]} \\n Beta : {mae[2]} \\n V : {mae[0]} ')\n",
    "print(f'MSE : \\n Alpha : {mse[1]} \\n Beta : {mse[2]} \\n V : {mse[0]} ')\n",
    "print('Max AERR : \\n', max_ae)\n",
    "print(\"Waktu yang dibutuhkan : \", waktu)"
   ]
  },
  {
   "cell_type": "code",
   "execution_count": 99,
   "id": "cfa0923e-6f18-43bb-9293-63e917ed73f4",
   "metadata": {},
   "outputs": [
    {
     "name": "stdout",
     "output_type": "stream",
     "text": [
      "6742\n"
     ]
    }
   ],
   "source": [
    "y_pred_df = pd.DataFrame(y0_pred, columns = [\"V\",\"α\",\"β\"], index = y0_test.index)\n",
    "aerr = np.abs(y_pred_df - y0_test)\n",
    "index_max_aerr = aerr[\"β\"].idxmax()\n",
    "df_all_clean_8 = df_all_clean_7.drop(index = index_max_aerr)\n",
    "print(len(df_all_clean_8))"
   ]
  },
  {
   "cell_type": "markdown",
   "id": "b3adf750-0c1d-4866-9c37-d6b9f7a01746",
   "metadata": {},
   "source": [
    "### AFTER REDUCE 8"
   ]
  },
  {
   "cell_type": "code",
   "execution_count": 100,
   "id": "871b11f4-9cb0-4a66-abd9-c091491095fa",
   "metadata": {},
   "outputs": [],
   "source": [
    "x_all = df_all_clean_8.drop(columns = [\"V\",\"α\",\"β\"])\n",
    "y_all = df_all_clean_8[[\"V\",\"α\",\"β\"]]\n",
    "\n",
    "x0_train, x0_test, y0_train, y0_test = train_test_split(x_all, y_all,\n",
    "                                                        random_state = 42, test_size = 0.2)"
   ]
  },
  {
   "cell_type": "code",
   "execution_count": 101,
   "id": "198c2f82-5bdb-40c4-8d12-7c56049b98ea",
   "metadata": {},
   "outputs": [
    {
     "name": "stdout",
     "output_type": "stream",
     "text": [
      "R2 : \n",
      " Alpha : 0.9999999977560645 \n",
      " Beta : 0.9816938348983458 \n",
      " V : 0.9999997507218131 \n",
      "MAE : \n",
      " Alpha : 0.0011856221515241419 \n",
      " Beta : 0.5149061510188144 \n",
      " V : 0.0018436500366758757 \n",
      "MSE : \n",
      " Alpha : 2.739043012460526e-06 \n",
      " Beta : 1.9083829640531487 \n",
      " V : 5.1352859712633046e-05 \n",
      "Max AERR : \n",
      " V     0.079201\n",
      "α     0.006674\n",
      "β    13.233628\n",
      "dtype: float64\n",
      "Waktu yang dibutuhkan :  1.3590330004692077\n"
     ]
    }
   ],
   "source": [
    "def max_absolute_error(y_true, y_pred):\n",
    "    return np.max(np.abs(y_true - y_pred), axis=0)\n",
    "scaler = StandardScaler()\n",
    "\n",
    "# Base models (Level Pertama)\n",
    "base_models = [\n",
    "    ('random_forest', RandomForestRegressor(n_estimators=250, max_depth=None, random_state=42, min_samples_leaf= 1, min_samples_split= 2, max_features = 'sqrt')),\n",
    "    ('gradient_boosting', GradientBoostingRegressor(n_estimators=200, learning_rate=0.0579, random_state=42, max_depth = 5)),\n",
    "    ('knn', make_pipeline(StandardScaler(), KNeighborsRegressor(n_neighbors=2, weights='distance', algorithm='auto')))\n",
    "]\n",
    "\n",
    "# Meta-model (Level Kedua)\n",
    "# Menggunakan Ridge Regression sebagai meta-model untuk menghindari overfitting\n",
    "meta_model = Ridge(alpha=0.1)\n",
    "\n",
    "# Membentuk Stacking Regressor\n",
    "stacking_regressor = StackingRegressor(\n",
    "    estimators=base_models,\n",
    "    final_estimator=meta_model,\n",
    "    passthrough=True  # Memasukkan data asli ke meta-model bersama prediksi base models\n",
    ")\n",
    "\n",
    "# Untuk multi-output, kita bungkus dengan MultiOutputRegressor\n",
    "model_all_best = MultiOutputRegressor(stacking_regressor)\n",
    "start = time.time()\n",
    "# Training\n",
    "model_all_best.fit(x0_train, y0_train)\n",
    "end = time.time()\n",
    "waktu = (end-start)/60\n",
    "# Prediction\n",
    "y0_pred = model_all_best.predict(x0_test)\n",
    "r2 = r2_score(y0_test, y0_pred, multioutput = 'raw_values')\n",
    "mae = mean_absolute_error(y0_test, y0_pred, multioutput = 'raw_values')\n",
    "mse = mean_squared_error(y0_test, y0_pred, multioutput = 'raw_values')\n",
    "max_ae = max_absolute_error(y0_test, y0_pred)\n",
    "print(f'R2 : \\n Alpha : {r2[1]} \\n Beta : {r2[2]} \\n V : {r2[0]} ')\n",
    "print(f'MAE : \\n Alpha : {mae[1]} \\n Beta : {mae[2]} \\n V : {mae[0]} ')\n",
    "print(f'MSE : \\n Alpha : {mse[1]} \\n Beta : {mse[2]} \\n V : {mse[0]} ')\n",
    "print('Max AERR : \\n', max_ae)\n",
    "print(\"Waktu yang dibutuhkan : \", waktu)"
   ]
  },
  {
   "cell_type": "code",
   "execution_count": 102,
   "id": "ef6ad51c-4e45-4075-8e67-6466267685be",
   "metadata": {},
   "outputs": [],
   "source": [
    "df_all_clean_8.to_csv('data_clean_reduce_8.csv', index = False)"
   ]
  },
  {
   "cell_type": "code",
   "execution_count": 103,
   "id": "e135cc93-c611-47df-a429-7ff8bcb4288f",
   "metadata": {},
   "outputs": [
    {
     "name": "stdout",
     "output_type": "stream",
     "text": [
      "6741\n"
     ]
    }
   ],
   "source": [
    "y_pred_df = pd.DataFrame(y0_pred, columns = [\"V\",\"α\",\"β\"], index = y0_test.index)\n",
    "aerr = np.abs(y_pred_df - y0_test)\n",
    "index_max_aerr = aerr[\"β\"].idxmax()\n",
    "df_all_clean_9 = df_all_clean_8.drop(index = index_max_aerr)\n",
    "print(len(df_all_clean_9))"
   ]
  },
  {
   "cell_type": "markdown",
   "id": "c90e4ee0-5f36-4078-962f-cdf63d496d92",
   "metadata": {},
   "source": [
    "### AFTER REDUCE 9"
   ]
  },
  {
   "cell_type": "code",
   "execution_count": 104,
   "id": "c982c6a3-a794-4e92-9947-48b138f83bb6",
   "metadata": {},
   "outputs": [],
   "source": [
    "x_all = df_all_clean_9.drop(columns = [\"V\",\"α\",\"β\"])\n",
    "y_all = df_all_clean_9[[\"V\",\"α\",\"β\"]]\n",
    "\n",
    "x0_train, x0_test, y0_train, y0_test = train_test_split(x_all, y_all,\n",
    "                                                        random_state = 42, test_size = 0.2)"
   ]
  },
  {
   "cell_type": "code",
   "execution_count": 105,
   "id": "ac5a4384-d4e5-4db7-ad72-e3ec3713f834",
   "metadata": {},
   "outputs": [
    {
     "name": "stdout",
     "output_type": "stream",
     "text": [
      "R2 : \n",
      " Alpha : 0.9999999977423107 \n",
      " Beta : 0.9794348697960439 \n",
      " V : 0.9999997630933409 \n",
      "MAE : \n",
      " Alpha : 0.0011906311328858743 \n",
      " Beta : 0.5437707753015074 \n",
      " V : 0.001760316664159512 \n",
      "MSE : \n",
      " Alpha : 2.7628240046203113e-06 \n",
      " Beta : 2.1530226214205657 \n",
      " V : 4.9158417244831384e-05 \n",
      "Max AERR : \n",
      " V     0.081076\n",
      "α     0.011510\n",
      "β    11.687880\n",
      "dtype: float64\n",
      "Waktu yang dibutuhkan :  1.378463856379191\n"
     ]
    }
   ],
   "source": [
    "def max_absolute_error(y_true, y_pred):\n",
    "    return np.max(np.abs(y_true - y_pred), axis=0)\n",
    "scaler = StandardScaler()\n",
    "\n",
    "# Base models (Level Pertama)\n",
    "base_models = [\n",
    "    ('random_forest', RandomForestRegressor(n_estimators=250, max_depth=None, random_state=42, min_samples_leaf= 1, min_samples_split= 2, max_features = 'sqrt')),\n",
    "    ('gradient_boosting', GradientBoostingRegressor(n_estimators=200, learning_rate=0.0579, random_state=42, max_depth = 5)),\n",
    "    ('knn', make_pipeline(StandardScaler(), KNeighborsRegressor(n_neighbors=2, weights='distance', algorithm='auto')))\n",
    "]\n",
    "\n",
    "# Meta-model (Level Kedua)\n",
    "# Menggunakan Ridge Regression sebagai meta-model untuk menghindari overfitting\n",
    "meta_model = Ridge(alpha=0.1)\n",
    "\n",
    "# Membentuk Stacking Regressor\n",
    "stacking_regressor = StackingRegressor(\n",
    "    estimators=base_models,\n",
    "    final_estimator=meta_model,\n",
    "    passthrough=True  # Memasukkan data asli ke meta-model bersama prediksi base models\n",
    ")\n",
    "\n",
    "# Untuk multi-output, kita bungkus dengan MultiOutputRegressor\n",
    "model_all_best = MultiOutputRegressor(stacking_regressor)\n",
    "start = time.time()\n",
    "# Training\n",
    "model_all_best.fit(x0_train, y0_train)\n",
    "end = time.time()\n",
    "waktu = (end-start)/60\n",
    "# Prediction\n",
    "y0_pred = model_all_best.predict(x0_test)\n",
    "r2 = r2_score(y0_test, y0_pred, multioutput = 'raw_values')\n",
    "mae = mean_absolute_error(y0_test, y0_pred, multioutput = 'raw_values')\n",
    "mse = mean_squared_error(y0_test, y0_pred, multioutput = 'raw_values')\n",
    "max_ae = max_absolute_error(y0_test, y0_pred)\n",
    "print(f'R2 : \\n Alpha : {r2[1]} \\n Beta : {r2[2]} \\n V : {r2[0]} ')\n",
    "print(f'MAE : \\n Alpha : {mae[1]} \\n Beta : {mae[2]} \\n V : {mae[0]} ')\n",
    "print(f'MSE : \\n Alpha : {mse[1]} \\n Beta : {mse[2]} \\n V : {mse[0]} ')\n",
    "print('Max AERR : \\n', max_ae)\n",
    "print(\"Waktu yang dibutuhkan : \", waktu)"
   ]
  },
  {
   "cell_type": "code",
   "execution_count": 106,
   "id": "a1406aa9-a68e-446b-99d7-6182babf9873",
   "metadata": {},
   "outputs": [
    {
     "name": "stdout",
     "output_type": "stream",
     "text": [
      "6740\n"
     ]
    }
   ],
   "source": [
    "y_pred_df = pd.DataFrame(y0_pred, columns = [\"V\",\"α\",\"β\"], index = y0_test.index)\n",
    "aerr = np.abs(y_pred_df - y0_test)\n",
    "index_max_aerr = aerr[\"β\"].idxmax()\n",
    "df_all_clean_10 = df_all_clean_9.drop(index = index_max_aerr)\n",
    "print(len(df_all_clean_10))"
   ]
  },
  {
   "cell_type": "markdown",
   "id": "29f53dd4-ab77-400d-adc6-c8fbf8678920",
   "metadata": {},
   "source": [
    "### AFTER REDUCE 10"
   ]
  },
  {
   "cell_type": "code",
   "execution_count": 107,
   "id": "b0167dd0-72b3-4408-b156-89d3203ea4b3",
   "metadata": {},
   "outputs": [],
   "source": [
    "x_all = df_all_clean_10.drop(columns = [\"V\",\"α\",\"β\"])\n",
    "y_all = df_all_clean_10[[\"V\",\"α\",\"β\"]]\n",
    "\n",
    "x0_train, x0_test, y0_train, y0_test = train_test_split(x_all, y_all,\n",
    "                                                        random_state = 42, test_size = 0.2)"
   ]
  },
  {
   "cell_type": "code",
   "execution_count": 108,
   "id": "3d34f901-9105-4f32-8d1b-f2e6cc339a8f",
   "metadata": {},
   "outputs": [
    {
     "name": "stdout",
     "output_type": "stream",
     "text": [
      "R2 : \n",
      " Alpha : 0.9999999925730073 \n",
      " Beta : 0.9821881552893735 \n",
      " V : 0.9999998093593581 \n",
      "MAE : \n",
      " Alpha : 0.0016473119551830948 \n",
      " Beta : 0.5504381740694586 \n",
      " V : 0.001618324464853377 \n",
      "MSE : \n",
      " Alpha : 9.097090874368382e-06 \n",
      " Beta : 1.919817534036367 \n",
      " V : 3.925729116486184e-05 \n",
      "Max AERR : \n",
      " V     0.074662\n",
      "α     0.038992\n",
      "β    11.664999\n",
      "dtype: float64\n",
      "Waktu yang dibutuhkan :  1.3392890532811483\n"
     ]
    }
   ],
   "source": [
    "def max_absolute_error(y_true, y_pred):\n",
    "    return np.max(np.abs(y_true - y_pred), axis=0)\n",
    "scaler = StandardScaler()\n",
    "\n",
    "# Base models (Level Pertama)\n",
    "base_models = [\n",
    "    ('random_forest', RandomForestRegressor(n_estimators=250, max_depth=None, random_state=42, min_samples_leaf= 1, min_samples_split= 2, max_features = 'sqrt')),\n",
    "    ('gradient_boosting', GradientBoostingRegressor(n_estimators=200, learning_rate=0.0579, random_state=42, max_depth = 5)),\n",
    "    ('knn', make_pipeline(StandardScaler(), KNeighborsRegressor(n_neighbors=2, weights='distance', algorithm='auto')))\n",
    "]\n",
    "\n",
    "# Meta-model (Level Kedua)\n",
    "# Menggunakan Ridge Regression sebagai meta-model untuk menghindari overfitting\n",
    "meta_model = Ridge(alpha=0.1)\n",
    "\n",
    "# Membentuk Stacking Regressor\n",
    "stacking_regressor = StackingRegressor(\n",
    "    estimators=base_models,\n",
    "    final_estimator=meta_model,\n",
    "    passthrough=True  # Memasukkan data asli ke meta-model bersama prediksi base models\n",
    ")\n",
    "\n",
    "# Untuk multi-output, kita bungkus dengan MultiOutputRegressor\n",
    "model_all_best = MultiOutputRegressor(stacking_regressor)\n",
    "start = time.time()\n",
    "# Training\n",
    "model_all_best.fit(x0_train, y0_train)\n",
    "end = time.time()\n",
    "waktu = (end-start)/60\n",
    "# Prediction\n",
    "y0_pred = model_all_best.predict(x0_test)\n",
    "r2 = r2_score(y0_test, y0_pred, multioutput = 'raw_values')\n",
    "mae = mean_absolute_error(y0_test, y0_pred, multioutput = 'raw_values')\n",
    "mse = mean_squared_error(y0_test, y0_pred, multioutput = 'raw_values')\n",
    "max_ae = max_absolute_error(y0_test, y0_pred)\n",
    "print(f'R2 : \\n Alpha : {r2[1]} \\n Beta : {r2[2]} \\n V : {r2[0]} ')\n",
    "print(f'MAE : \\n Alpha : {mae[1]} \\n Beta : {mae[2]} \\n V : {mae[0]} ')\n",
    "print(f'MSE : \\n Alpha : {mse[1]} \\n Beta : {mse[2]} \\n V : {mse[0]} ')\n",
    "print('Max AERR : \\n', max_ae)\n",
    "print(\"Waktu yang dibutuhkan : \", waktu)"
   ]
  },
  {
   "cell_type": "code",
   "execution_count": 109,
   "id": "1ff383bd-8825-4a42-bcf7-8c021ead436e",
   "metadata": {},
   "outputs": [
    {
     "name": "stdout",
     "output_type": "stream",
     "text": [
      "6739\n"
     ]
    }
   ],
   "source": [
    "y_pred_df = pd.DataFrame(y0_pred, columns = [\"V\",\"α\",\"β\"], index = y0_test.index)\n",
    "aerr = np.abs(y_pred_df - y0_test)\n",
    "index_max_aerr = aerr[\"β\"].idxmax()\n",
    "df_all_clean_11 = df_all_clean_10.drop(index = index_max_aerr)\n",
    "print(len(df_all_clean_11))"
   ]
  },
  {
   "cell_type": "markdown",
   "id": "07460e16-67d9-40bb-bc99-9c522315509d",
   "metadata": {},
   "source": [
    "### AFTER REDUCE 11"
   ]
  },
  {
   "cell_type": "code",
   "execution_count": 110,
   "id": "98629865-d7ed-497e-a6b0-42cfc3ea2277",
   "metadata": {},
   "outputs": [],
   "source": [
    "x_all = df_all_clean_11.drop(columns = [\"V\",\"α\",\"β\"])\n",
    "y_all = df_all_clean_11[[\"V\",\"α\",\"β\"]]\n",
    "\n",
    "x0_train, x0_test, y0_train, y0_test = train_test_split(x_all, y_all,\n",
    "                                                        random_state = 42, test_size = 0.2)"
   ]
  },
  {
   "cell_type": "code",
   "execution_count": 111,
   "id": "128638e6-ed9f-4335-b69b-e1c09eff6dd6",
   "metadata": {},
   "outputs": [
    {
     "name": "stdout",
     "output_type": "stream",
     "text": [
      "R2 : \n",
      " Alpha : 0.999996877952518 \n",
      " Beta : 0.9808728563921623 \n",
      " V : 0.9999997765952225 \n",
      "MAE : \n",
      " Alpha : 0.003197853128180393 \n",
      " Beta : 0.5546323990497883 \n",
      " V : 0.0016225115947708143 \n",
      "MSE : \n",
      " Alpha : 0.0037376277768060404 \n",
      " Beta : 2.040192581830605 \n",
      " V : 4.612992683186805e-05 \n",
      "Max AERR : \n",
      " V     0.080855\n",
      "α     2.243224\n",
      "β    13.310088\n",
      "dtype: float64\n",
      "Waktu yang dibutuhkan :  1.3397741834322612\n"
     ]
    }
   ],
   "source": [
    "def max_absolute_error(y_true, y_pred):\n",
    "    return np.max(np.abs(y_true - y_pred), axis=0)\n",
    "scaler = StandardScaler()\n",
    "\n",
    "# Base models (Level Pertama)\n",
    "base_models = [\n",
    "    ('random_forest', RandomForestRegressor(n_estimators=250, max_depth=None, random_state=42, min_samples_leaf= 1, min_samples_split= 2, max_features = 'sqrt')),\n",
    "    ('gradient_boosting', GradientBoostingRegressor(n_estimators=200, learning_rate=0.0579, random_state=42, max_depth = 5)),\n",
    "    ('knn', make_pipeline(StandardScaler(), KNeighborsRegressor(n_neighbors=2, weights='distance', algorithm='auto')))\n",
    "]\n",
    "\n",
    "# Meta-model (Level Kedua)\n",
    "# Menggunakan Ridge Regression sebagai meta-model untuk menghindari overfitting\n",
    "meta_model = Ridge(alpha=0.1)\n",
    "\n",
    "# Membentuk Stacking Regressor\n",
    "stacking_regressor = StackingRegressor(\n",
    "    estimators=base_models,\n",
    "    final_estimator=meta_model,\n",
    "    passthrough=True  # Memasukkan data asli ke meta-model bersama prediksi base models\n",
    ")\n",
    "\n",
    "# Untuk multi-output, kita bungkus dengan MultiOutputRegressor\n",
    "model_all_best = MultiOutputRegressor(stacking_regressor)\n",
    "start = time.time()\n",
    "# Training\n",
    "model_all_best.fit(x0_train, y0_train)\n",
    "end = time.time()\n",
    "waktu = (end-start)/60\n",
    "# Prediction\n",
    "y0_pred = model_all_best.predict(x0_test)\n",
    "r2 = r2_score(y0_test, y0_pred, multioutput = 'raw_values')\n",
    "mae = mean_absolute_error(y0_test, y0_pred, multioutput = 'raw_values')\n",
    "mse = mean_squared_error(y0_test, y0_pred, multioutput = 'raw_values')\n",
    "max_ae = max_absolute_error(y0_test, y0_pred)\n",
    "print(f'R2 : \\n Alpha : {r2[1]} \\n Beta : {r2[2]} \\n V : {r2[0]} ')\n",
    "print(f'MAE : \\n Alpha : {mae[1]} \\n Beta : {mae[2]} \\n V : {mae[0]} ')\n",
    "print(f'MSE : \\n Alpha : {mse[1]} \\n Beta : {mse[2]} \\n V : {mse[0]} ')\n",
    "print('Max AERR : \\n', max_ae)\n",
    "print(\"Waktu yang dibutuhkan : \", waktu)"
   ]
  },
  {
   "cell_type": "code",
   "execution_count": 115,
   "id": "f24585ce-5c5a-43c9-bf01-2595188c11fd",
   "metadata": {},
   "outputs": [
    {
     "name": "stdout",
     "output_type": "stream",
     "text": [
      "6738\n"
     ]
    }
   ],
   "source": [
    "y_pred_df = pd.DataFrame(y0_pred, columns = [\"V\",\"α\",\"β\"], index = y0_test.index)\n",
    "aerr = np.abs(y_pred_df - y0_test)\n",
    "index_max_aerr = aerr[\"β\"].idxmax()\n",
    "df_all_clean_12 = df_all_clean_11.drop(index = index_max_aerr)\n",
    "print(len(df_all_clean_12))"
   ]
  },
  {
   "cell_type": "markdown",
   "id": "8046ecac-9911-4958-b332-4107fe9d67f9",
   "metadata": {},
   "source": [
    "### AFTER REDUCE 12"
   ]
  },
  {
   "cell_type": "code",
   "execution_count": 116,
   "id": "106093e4-6ef3-409a-bbcd-841ab9ca7a62",
   "metadata": {},
   "outputs": [],
   "source": [
    "x_all = df_all_clean_12.drop(columns = [\"V\",\"α\",\"β\"])\n",
    "y_all = df_all_clean_12[[\"V\",\"α\",\"β\"]]\n",
    "\n",
    "x0_train, x0_test, y0_train, y0_test = train_test_split(x_all, y_all,\n",
    "                                                        random_state = 42, test_size = 0.2)"
   ]
  },
  {
   "cell_type": "code",
   "execution_count": 117,
   "id": "09c455ba-2d72-4dfb-a3ba-b6f74906bd47",
   "metadata": {},
   "outputs": [
    {
     "name": "stdout",
     "output_type": "stream",
     "text": [
      "R2 : \n",
      " Alpha : 0.9999968891132621 \n",
      " Beta : 0.9811288718426721 \n",
      " V : 0.9999997631287146 \n",
      "MAE : \n",
      " Alpha : 0.0027536519791857136 \n",
      " Beta : 0.5498818447480365 \n",
      " V : 0.001688835437498671 \n",
      "MSE : \n",
      " Alpha : 0.003702538180602091 \n",
      " Beta : 1.9861829048848845 \n",
      " V : 4.908968970311647e-05 \n",
      "Max AERR : \n",
      " V     0.080819\n",
      "α     2.233329\n",
      "β    12.529005\n",
      "dtype: float64\n",
      "Waktu yang dibutuhkan :  1.3434535662333171\n"
     ]
    }
   ],
   "source": [
    "def max_absolute_error(y_true, y_pred):\n",
    "    return np.max(np.abs(y_true - y_pred), axis=0)\n",
    "scaler = StandardScaler()\n",
    "\n",
    "# Base models (Level Pertama)\n",
    "base_models = [\n",
    "    ('random_forest', RandomForestRegressor(n_estimators=250, max_depth=None, random_state=42, min_samples_leaf= 1, min_samples_split= 2, max_features = 'sqrt')),\n",
    "    ('gradient_boosting', GradientBoostingRegressor(n_estimators=200, learning_rate=0.0579, random_state=42, max_depth = 5)),\n",
    "    ('knn', make_pipeline(StandardScaler(), KNeighborsRegressor(n_neighbors=2, weights='distance', algorithm='auto')))\n",
    "]\n",
    "\n",
    "# Meta-model (Level Kedua)\n",
    "# Menggunakan Ridge Regression sebagai meta-model untuk menghindari overfitting\n",
    "meta_model = Ridge(alpha=0.1)\n",
    "\n",
    "# Membentuk Stacking Regressor\n",
    "stacking_regressor = StackingRegressor(\n",
    "    estimators=base_models,\n",
    "    final_estimator=meta_model,\n",
    "    passthrough=True  # Memasukkan data asli ke meta-model bersama prediksi base models\n",
    ")\n",
    "\n",
    "# Untuk multi-output, kita bungkus dengan MultiOutputRegressor\n",
    "model_all_best = MultiOutputRegressor(stacking_regressor)\n",
    "start = time.time()\n",
    "# Training\n",
    "model_all_best.fit(x0_train, y0_train)\n",
    "end = time.time()\n",
    "waktu = (end-start)/60\n",
    "# Prediction\n",
    "y0_pred = model_all_best.predict(x0_test)\n",
    "r2 = r2_score(y0_test, y0_pred, multioutput = 'raw_values')\n",
    "mae = mean_absolute_error(y0_test, y0_pred, multioutput = 'raw_values')\n",
    "mse = mean_squared_error(y0_test, y0_pred, multioutput = 'raw_values')\n",
    "max_ae = max_absolute_error(y0_test, y0_pred)\n",
    "print(f'R2 : \\n Alpha : {r2[1]} \\n Beta : {r2[2]} \\n V : {r2[0]} ')\n",
    "print(f'MAE : \\n Alpha : {mae[1]} \\n Beta : {mae[2]} \\n V : {mae[0]} ')\n",
    "print(f'MSE : \\n Alpha : {mse[1]} \\n Beta : {mse[2]} \\n V : {mse[0]} ')\n",
    "print('Max AERR : \\n', max_ae)\n",
    "print(\"Waktu yang dibutuhkan : \", waktu)"
   ]
  },
  {
   "cell_type": "code",
   "execution_count": 118,
   "id": "ed9f7274-aade-4c25-aecf-d9e1e4311106",
   "metadata": {},
   "outputs": [
    {
     "name": "stdout",
     "output_type": "stream",
     "text": [
      "6737\n"
     ]
    }
   ],
   "source": [
    "y_pred_df = pd.DataFrame(y0_pred, columns = [\"V\",\"α\",\"β\"], index = y0_test.index)\n",
    "aerr = np.abs(y_pred_df - y0_test)\n",
    "index_max_aerr = aerr[\"β\"].idxmax()\n",
    "df_all_clean_13 = df_all_clean_12.drop(index = index_max_aerr)\n",
    "print(len(df_all_clean_13))"
   ]
  },
  {
   "cell_type": "markdown",
   "id": "3a15dd52-223a-45f9-9828-8644a50f6481",
   "metadata": {},
   "source": [
    "### AFTER REDUCE 13"
   ]
  },
  {
   "cell_type": "code",
   "execution_count": 119,
   "id": "56182dca-12d5-4a50-82a6-19a7da49edb0",
   "metadata": {},
   "outputs": [],
   "source": [
    "x_all = df_all_clean_13.drop(columns = [\"V\",\"α\",\"β\"])\n",
    "y_all = df_all_clean_13[[\"V\",\"α\",\"β\"]]\n",
    "\n",
    "x0_train, x0_test, y0_train, y0_test = train_test_split(x_all, y_all,\n",
    "                                                        random_state = 42, test_size = 0.2)"
   ]
  },
  {
   "cell_type": "code",
   "execution_count": 120,
   "id": "9b944cb5-9593-420e-982d-b2529baad3eb",
   "metadata": {},
   "outputs": [
    {
     "name": "stdout",
     "output_type": "stream",
     "text": [
      "R2 : \n",
      " Alpha : 0.9999912108765188 \n",
      " Beta : 0.9818357414994567 \n",
      " V : 0.999999708315446 \n",
      "MAE : \n",
      " Alpha : 0.005876782847587528 \n",
      " Beta : 0.5510882803640341 \n",
      " V : 0.0019004586174373149 \n",
      "MSE : \n",
      " Alpha : 0.010427612908079186 \n",
      " Beta : 1.9117849983801591 \n",
      " V : 6.052707795929299e-05 \n",
      "Max AERR : \n",
      " V     0.096179\n",
      "α     2.259274\n",
      "β    12.759440\n",
      "dtype: float64\n",
      "Waktu yang dibutuhkan :  1.3482778310775756\n"
     ]
    }
   ],
   "source": [
    "def max_absolute_error(y_true, y_pred):\n",
    "    return np.max(np.abs(y_true - y_pred), axis=0)\n",
    "scaler = StandardScaler()\n",
    "\n",
    "# Base models (Level Pertama)\n",
    "base_models = [\n",
    "    ('random_forest', RandomForestRegressor(n_estimators=250, max_depth=None, random_state=42, min_samples_leaf= 1, min_samples_split= 2, max_features = 'sqrt')),\n",
    "    ('gradient_boosting', GradientBoostingRegressor(n_estimators=200, learning_rate=0.0579, random_state=42, max_depth = 5)),\n",
    "    ('knn', make_pipeline(StandardScaler(), KNeighborsRegressor(n_neighbors=2, weights='distance', algorithm='auto')))\n",
    "]\n",
    "\n",
    "# Meta-model (Level Kedua)\n",
    "# Menggunakan Ridge Regression sebagai meta-model untuk menghindari overfitting\n",
    "meta_model = Ridge(alpha=0.1)\n",
    "\n",
    "# Membentuk Stacking Regressor\n",
    "stacking_regressor = StackingRegressor(\n",
    "    estimators=base_models,\n",
    "    final_estimator=meta_model,\n",
    "    passthrough=True  # Memasukkan data asli ke meta-model bersama prediksi base models\n",
    ")\n",
    "\n",
    "# Untuk multi-output, kita bungkus dengan MultiOutputRegressor\n",
    "model_all_best = MultiOutputRegressor(stacking_regressor)\n",
    "start = time.time()\n",
    "# Training\n",
    "model_all_best.fit(x0_train, y0_train)\n",
    "end = time.time()\n",
    "waktu = (end-start)/60\n",
    "# Prediction\n",
    "y0_pred = model_all_best.predict(x0_test)\n",
    "r2 = r2_score(y0_test, y0_pred, multioutput = 'raw_values')\n",
    "mae = mean_absolute_error(y0_test, y0_pred, multioutput = 'raw_values')\n",
    "mse = mean_squared_error(y0_test, y0_pred, multioutput = 'raw_values')\n",
    "max_ae = max_absolute_error(y0_test, y0_pred)\n",
    "print(f'R2 : \\n Alpha : {r2[1]} \\n Beta : {r2[2]} \\n V : {r2[0]} ')\n",
    "print(f'MAE : \\n Alpha : {mae[1]} \\n Beta : {mae[2]} \\n V : {mae[0]} ')\n",
    "print(f'MSE : \\n Alpha : {mse[1]} \\n Beta : {mse[2]} \\n V : {mse[0]} ')\n",
    "print('Max AERR : \\n', max_ae)\n",
    "print(\"Waktu yang dibutuhkan : \", waktu)"
   ]
  },
  {
   "cell_type": "code",
   "execution_count": 121,
   "id": "28bfc739-24c0-4b0a-a998-707535577e63",
   "metadata": {},
   "outputs": [
    {
     "name": "stdout",
     "output_type": "stream",
     "text": [
      "6736\n"
     ]
    }
   ],
   "source": [
    "y_pred_df = pd.DataFrame(y0_pred, columns = [\"V\",\"α\",\"β\"], index = y0_test.index)\n",
    "aerr = np.abs(y_pred_df - y0_test)\n",
    "index_max_aerr = aerr[\"β\"].idxmax()\n",
    "df_all_clean_14 = df_all_clean_13.drop(index = index_max_aerr)\n",
    "print(len(df_all_clean_14))"
   ]
  },
  {
   "cell_type": "markdown",
   "id": "e8a9dc2a-8ad2-42ce-9e13-78f73150c1ef",
   "metadata": {},
   "source": [
    "### AFTER REDUCE 14"
   ]
  },
  {
   "cell_type": "code",
   "execution_count": 122,
   "id": "55ac233f-2e4f-4ecc-8c73-9434e172d8b8",
   "metadata": {},
   "outputs": [],
   "source": [
    "x_all = df_all_clean_14.drop(columns = [\"V\",\"α\",\"β\"])\n",
    "y_all = df_all_clean_14[[\"V\",\"α\",\"β\"]]\n",
    "\n",
    "x0_train, x0_test, y0_train, y0_test = train_test_split(x_all, y_all,\n",
    "                                                        random_state = 42, test_size = 0.2)"
   ]
  },
  {
   "cell_type": "code",
   "execution_count": 123,
   "id": "80505741-9122-49fd-852b-4c6a3c80c7bd",
   "metadata": {},
   "outputs": [
    {
     "name": "stdout",
     "output_type": "stream",
     "text": [
      "R2 : \n",
      " Alpha : 0.9999967913222163 \n",
      " Beta : 0.9817340897929757 \n",
      " V : 0.999999735360212 \n",
      "MAE : \n",
      " Alpha : 0.003099421321567322 \n",
      " Beta : 0.5211436695728623 \n",
      " V : 0.0018748798939847353 \n",
      "MSE : \n",
      " Alpha : 0.003738376503911327 \n",
      " Beta : 1.9474374275509503 \n",
      " V : 5.3286616253545695e-05 \n",
      "Max AERR : \n",
      " V     0.074637\n",
      "α     2.243553\n",
      "β    12.507599\n",
      "dtype: float64\n",
      "Waktu yang dibutuhkan :  1.3642444252967834\n"
     ]
    }
   ],
   "source": [
    "def max_absolute_error(y_true, y_pred):\n",
    "    return np.max(np.abs(y_true - y_pred), axis=0)\n",
    "scaler = StandardScaler()\n",
    "\n",
    "# Base models (Level Pertama)\n",
    "base_models = [\n",
    "    ('random_forest', RandomForestRegressor(n_estimators=250, max_depth=None, random_state=42, min_samples_leaf= 1, min_samples_split= 2, max_features = 'sqrt')),\n",
    "    ('gradient_boosting', GradientBoostingRegressor(n_estimators=200, learning_rate=0.0579, random_state=42, max_depth = 5)),\n",
    "    ('knn', make_pipeline(StandardScaler(), KNeighborsRegressor(n_neighbors=2, weights='distance', algorithm='auto')))\n",
    "]\n",
    "\n",
    "# Meta-model (Level Kedua)\n",
    "# Menggunakan Ridge Regression sebagai meta-model untuk menghindari overfitting\n",
    "meta_model = Ridge(alpha=0.1)\n",
    "\n",
    "# Membentuk Stacking Regressor\n",
    "stacking_regressor = StackingRegressor(\n",
    "    estimators=base_models,\n",
    "    final_estimator=meta_model,\n",
    "    passthrough=True  # Memasukkan data asli ke meta-model bersama prediksi base models\n",
    ")\n",
    "\n",
    "# Untuk multi-output, kita bungkus dengan MultiOutputRegressor\n",
    "model_all_best = MultiOutputRegressor(stacking_regressor)\n",
    "start = time.time()\n",
    "# Training\n",
    "model_all_best.fit(x0_train, y0_train)\n",
    "end = time.time()\n",
    "waktu = (end-start)/60\n",
    "# Prediction\n",
    "y0_pred = model_all_best.predict(x0_test)\n",
    "r2 = r2_score(y0_test, y0_pred, multioutput = 'raw_values')\n",
    "mae = mean_absolute_error(y0_test, y0_pred, multioutput = 'raw_values')\n",
    "mse = mean_squared_error(y0_test, y0_pred, multioutput = 'raw_values')\n",
    "max_ae = max_absolute_error(y0_test, y0_pred)\n",
    "print(f'R2 : \\n Alpha : {r2[1]} \\n Beta : {r2[2]} \\n V : {r2[0]} ')\n",
    "print(f'MAE : \\n Alpha : {mae[1]} \\n Beta : {mae[2]} \\n V : {mae[0]} ')\n",
    "print(f'MSE : \\n Alpha : {mse[1]} \\n Beta : {mse[2]} \\n V : {mse[0]} ')\n",
    "print('Max AERR : \\n', max_ae)\n",
    "print(\"Waktu yang dibutuhkan : \", waktu)"
   ]
  },
  {
   "cell_type": "code",
   "execution_count": 124,
   "id": "77bc7d7c-a39d-49cf-a9bf-5f8f277aa5e5",
   "metadata": {},
   "outputs": [
    {
     "name": "stdout",
     "output_type": "stream",
     "text": [
      "6735\n"
     ]
    }
   ],
   "source": [
    "y_pred_df = pd.DataFrame(y0_pred, columns = [\"V\",\"α\",\"β\"], index = y0_test.index)\n",
    "aerr = np.abs(y_pred_df - y0_test)\n",
    "index_max_aerr = aerr[\"β\"].idxmax()\n",
    "df_all_clean_15 = df_all_clean_14.drop(index = index_max_aerr)\n",
    "print(len(df_all_clean_15))"
   ]
  },
  {
   "cell_type": "markdown",
   "id": "a878fbd2-7370-42b4-9734-27c86ecc43c5",
   "metadata": {},
   "source": [
    "### AFTER REDUCE 15"
   ]
  },
  {
   "cell_type": "code",
   "execution_count": 125,
   "id": "0a521d1d-f556-45fa-b4e3-0ff6d3c4b6c6",
   "metadata": {},
   "outputs": [],
   "source": [
    "x_all = df_all_clean_15.drop(columns = [\"V\",\"α\",\"β\"])\n",
    "y_all = df_all_clean_15[[\"V\",\"α\",\"β\"]]\n",
    "\n",
    "x0_train, x0_test, y0_train, y0_test = train_test_split(x_all, y_all,\n",
    "                                                        random_state = 42, test_size = 0.2)"
   ]
  },
  {
   "cell_type": "code",
   "execution_count": 126,
   "id": "f9d4fc87-d205-4fb7-bfd4-11af85f24e80",
   "metadata": {},
   "outputs": [
    {
     "name": "stdout",
     "output_type": "stream",
     "text": [
      "R2 : \n",
      " Alpha : 0.9999967122678503 \n",
      " Beta : 0.9807853912496767 \n",
      " V : 0.99999975472453 \n",
      "MAE : \n",
      " Alpha : 0.004949536973977955 \n",
      " Beta : 0.5395252528688 \n",
      " V : 0.00186404493944363 \n",
      "MSE : \n",
      " Alpha : 0.0038085802510005643 \n",
      " Beta : 2.0358112693235557 \n",
      " V : 4.965521854653391e-05 \n",
      "Max AERR : \n",
      " V     0.074852\n",
      "α     2.257351\n",
      "β    12.634143\n",
      "dtype: float64\n",
      "Waktu yang dibutuhkan :  1.3673848867416383\n"
     ]
    }
   ],
   "source": [
    "def max_absolute_error(y_true, y_pred):\n",
    "    return np.max(np.abs(y_true - y_pred), axis=0)\n",
    "scaler = StandardScaler()\n",
    "\n",
    "# Base models (Level Pertama)\n",
    "base_models = [\n",
    "    ('random_forest', RandomForestRegressor(n_estimators=250, max_depth=None, random_state=42, min_samples_leaf= 1, min_samples_split= 2, max_features = 'sqrt')),\n",
    "    ('gradient_boosting', GradientBoostingRegressor(n_estimators=200, learning_rate=0.0579, random_state=42, max_depth = 5)),\n",
    "    ('knn', make_pipeline(StandardScaler(), KNeighborsRegressor(n_neighbors=2, weights='distance', algorithm='auto')))\n",
    "]\n",
    "\n",
    "# Meta-model (Level Kedua)\n",
    "# Menggunakan Ridge Regression sebagai meta-model untuk menghindari overfitting\n",
    "meta_model = Ridge(alpha=0.1)\n",
    "\n",
    "# Membentuk Stacking Regressor\n",
    "stacking_regressor = StackingRegressor(\n",
    "    estimators=base_models,\n",
    "    final_estimator=meta_model,\n",
    "    passthrough=True  # Memasukkan data asli ke meta-model bersama prediksi base models\n",
    ")\n",
    "\n",
    "# Untuk multi-output, kita bungkus dengan MultiOutputRegressor\n",
    "model_all_best = MultiOutputRegressor(stacking_regressor)\n",
    "start = time.time()\n",
    "# Training\n",
    "model_all_best.fit(x0_train, y0_train)\n",
    "end = time.time()\n",
    "waktu = (end-start)/60\n",
    "# Prediction\n",
    "y0_pred = model_all_best.predict(x0_test)\n",
    "r2 = r2_score(y0_test, y0_pred, multioutput = 'raw_values')\n",
    "mae = mean_absolute_error(y0_test, y0_pred, multioutput = 'raw_values')\n",
    "mse = mean_squared_error(y0_test, y0_pred, multioutput = 'raw_values')\n",
    "max_ae = max_absolute_error(y0_test, y0_pred)\n",
    "print(f'R2 : \\n Alpha : {r2[1]} \\n Beta : {r2[2]} \\n V : {r2[0]} ')\n",
    "print(f'MAE : \\n Alpha : {mae[1]} \\n Beta : {mae[2]} \\n V : {mae[0]} ')\n",
    "print(f'MSE : \\n Alpha : {mse[1]} \\n Beta : {mse[2]} \\n V : {mse[0]} ')\n",
    "print('Max AERR : \\n', max_ae)\n",
    "print(\"Waktu yang dibutuhkan : \", waktu)"
   ]
  },
  {
   "cell_type": "code",
   "execution_count": 127,
   "id": "ecb6568d-a6a7-4c3d-a8e8-07be6f1ba000",
   "metadata": {},
   "outputs": [
    {
     "name": "stdout",
     "output_type": "stream",
     "text": [
      "6734\n"
     ]
    }
   ],
   "source": [
    "y_pred_df = pd.DataFrame(y0_pred, columns = [\"V\",\"α\",\"β\"], index = y0_test.index)\n",
    "aerr = np.abs(y_pred_df - y0_test)\n",
    "index_max_aerr = aerr[\"β\"].idxmax()\n",
    "df_all_clean_16 = df_all_clean_15.drop(index = index_max_aerr)\n",
    "print(len(df_all_clean_16))"
   ]
  },
  {
   "cell_type": "markdown",
   "id": "0cbaa91b-d7c7-4a3b-b86b-10e157f5fc71",
   "metadata": {},
   "source": [
    "### AFTER REDUCE 16"
   ]
  },
  {
   "cell_type": "code",
   "execution_count": 128,
   "id": "b268c076-93e6-4650-a457-5938063382ee",
   "metadata": {},
   "outputs": [],
   "source": [
    "x_all = df_all_clean_16.drop(columns = [\"V\",\"α\",\"β\"])\n",
    "y_all = df_all_clean_16[[\"V\",\"α\",\"β\"]]\n",
    "\n",
    "x0_train, x0_test, y0_train, y0_test = train_test_split(x_all, y_all,\n",
    "                                                        random_state = 42, test_size = 0.2)"
   ]
  },
  {
   "cell_type": "code",
   "execution_count": 129,
   "id": "d814689e-6150-45a4-9519-7b89bdfda218",
   "metadata": {},
   "outputs": [
    {
     "name": "stdout",
     "output_type": "stream",
     "text": [
      "R2 : \n",
      " Alpha : 0.9999999722640506 \n",
      " Beta : 0.9809908660892865 \n",
      " V : 0.9999997261396991 \n",
      "MAE : \n",
      " Alpha : 0.0033016681508294243 \n",
      " Beta : 0.5571939394287377 \n",
      " V : 0.0018872762421283439 \n",
      "MSE : \n",
      " Alpha : 3.276216270262372e-05 \n",
      " Beta : 2.0407315616503667 \n",
      " V : 5.586147130575189e-05 \n",
      "Max AERR : \n",
      " V     0.093131\n",
      "α     0.067307\n",
      "β    12.690991\n",
      "dtype: float64\n",
      "Waktu yang dibutuhkan :  1.3620883782704671\n"
     ]
    }
   ],
   "source": [
    "def max_absolute_error(y_true, y_pred):\n",
    "    return np.max(np.abs(y_true - y_pred), axis=0)\n",
    "scaler = StandardScaler()\n",
    "\n",
    "# Base models (Level Pertama)\n",
    "base_models = [\n",
    "    ('random_forest', RandomForestRegressor(n_estimators=250, max_depth=None, random_state=42, min_samples_leaf= 1, min_samples_split= 2, max_features = 'sqrt')),\n",
    "    ('gradient_boosting', GradientBoostingRegressor(n_estimators=200, learning_rate=0.0579, random_state=42, max_depth = 5)),\n",
    "    ('knn', make_pipeline(StandardScaler(), KNeighborsRegressor(n_neighbors=2, weights='distance', algorithm='auto')))\n",
    "]\n",
    "\n",
    "# Meta-model (Level Kedua)\n",
    "# Menggunakan Ridge Regression sebagai meta-model untuk menghindari overfitting\n",
    "meta_model = Ridge(alpha=0.1)\n",
    "\n",
    "# Membentuk Stacking Regressor\n",
    "stacking_regressor = StackingRegressor(\n",
    "    estimators=base_models,\n",
    "    final_estimator=meta_model,\n",
    "    passthrough=True  # Memasukkan data asli ke meta-model bersama prediksi base models\n",
    ")\n",
    "\n",
    "# Untuk multi-output, kita bungkus dengan MultiOutputRegressor\n",
    "model_all_best = MultiOutputRegressor(stacking_regressor)\n",
    "start = time.time()\n",
    "# Training\n",
    "model_all_best.fit(x0_train, y0_train)\n",
    "end = time.time()\n",
    "waktu = (end-start)/60\n",
    "# Prediction\n",
    "y0_pred = model_all_best.predict(x0_test)\n",
    "r2 = r2_score(y0_test, y0_pred, multioutput = 'raw_values')\n",
    "mae = mean_absolute_error(y0_test, y0_pred, multioutput = 'raw_values')\n",
    "mse = mean_squared_error(y0_test, y0_pred, multioutput = 'raw_values')\n",
    "max_ae = max_absolute_error(y0_test, y0_pred)\n",
    "print(f'R2 : \\n Alpha : {r2[1]} \\n Beta : {r2[2]} \\n V : {r2[0]} ')\n",
    "print(f'MAE : \\n Alpha : {mae[1]} \\n Beta : {mae[2]} \\n V : {mae[0]} ')\n",
    "print(f'MSE : \\n Alpha : {mse[1]} \\n Beta : {mse[2]} \\n V : {mse[0]} ')\n",
    "print('Max AERR : \\n', max_ae)\n",
    "print(\"Waktu yang dibutuhkan : \", waktu)"
   ]
  },
  {
   "cell_type": "code",
   "execution_count": 131,
   "id": "046016e3-799d-48b8-bbd5-c4f36bae16d6",
   "metadata": {},
   "outputs": [],
   "source": [
    "df_all_clean_16.to_csv('data_clean_reduce_16.csv', index = False)"
   ]
  },
  {
   "cell_type": "code",
   "execution_count": 130,
   "id": "657b30df-7b67-484a-9c72-cf6c0872bcf0",
   "metadata": {},
   "outputs": [
    {
     "name": "stdout",
     "output_type": "stream",
     "text": [
      "6733\n"
     ]
    }
   ],
   "source": [
    "y_pred_df = pd.DataFrame(y0_pred, columns = [\"V\",\"α\",\"β\"], index = y0_test.index)\n",
    "aerr = np.abs(y_pred_df - y0_test)\n",
    "index_max_aerr = aerr[\"β\"].idxmax()\n",
    "df_all_clean_17 = df_all_clean_16.drop(index = index_max_aerr)\n",
    "print(len(df_all_clean_17))"
   ]
  },
  {
   "cell_type": "markdown",
   "id": "67e87851-bf26-43b3-b443-2604a75db210",
   "metadata": {},
   "source": [
    "### AFTER REDUCE 17"
   ]
  },
  {
   "cell_type": "code",
   "execution_count": 132,
   "id": "c20815a2-27fb-4485-bbc8-7941f8519c60",
   "metadata": {},
   "outputs": [],
   "source": [
    "x_all = df_all_clean_17.drop(columns = [\"V\",\"α\",\"β\"])\n",
    "y_all = df_all_clean_17[[\"V\",\"α\",\"β\"]]\n",
    "\n",
    "x0_train, x0_test, y0_train, y0_test = train_test_split(x_all, y_all,\n",
    "                                                        random_state = 42, test_size = 0.2)"
   ]
  },
  {
   "cell_type": "code",
   "execution_count": 133,
   "id": "5d16a3c5-9eb9-4081-8d4d-f7fb0c12d99a",
   "metadata": {},
   "outputs": [
    {
     "name": "stdout",
     "output_type": "stream",
     "text": [
      "R2 : \n",
      " Alpha : 0.999994373991255 \n",
      " Beta : 0.9823271732801174 \n",
      " V : 0.9999997024473392 \n",
      "MAE : \n",
      " Alpha : 0.005316120317813972 \n",
      " Beta : 0.5421112884034904 \n",
      " V : 0.002032528539679356 \n",
      "MSE : \n",
      " Alpha : 0.006742375248242633 \n",
      " Beta : 1.7680614062737776 \n",
      " V : 6.109224072825296e-05 \n",
      "Max AERR : \n",
      " V     0.093134\n",
      "α     2.247940\n",
      "β    10.299564\n",
      "dtype: float64\n",
      "Waktu yang dibutuhkan :  1.3627628604571025\n"
     ]
    }
   ],
   "source": [
    "def max_absolute_error(y_true, y_pred):\n",
    "    return np.max(np.abs(y_true - y_pred), axis=0)\n",
    "scaler = StandardScaler()\n",
    "\n",
    "# Base models (Level Pertama)\n",
    "base_models = [\n",
    "    ('random_forest', RandomForestRegressor(n_estimators=250, max_depth=None, random_state=42, min_samples_leaf= 1, min_samples_split= 2, max_features = 'sqrt')),\n",
    "    ('gradient_boosting', GradientBoostingRegressor(n_estimators=200, learning_rate=0.0579, random_state=42, max_depth = 5)),\n",
    "    ('knn', make_pipeline(StandardScaler(), KNeighborsRegressor(n_neighbors=2, weights='distance', algorithm='auto')))\n",
    "]\n",
    "\n",
    "# Meta-model (Level Kedua)\n",
    "# Menggunakan Ridge Regression sebagai meta-model untuk menghindari overfitting\n",
    "meta_model = Ridge(alpha=0.1)\n",
    "\n",
    "# Membentuk Stacking Regressor\n",
    "stacking_regressor = StackingRegressor(\n",
    "    estimators=base_models,\n",
    "    final_estimator=meta_model,\n",
    "    passthrough=True  # Memasukkan data asli ke meta-model bersama prediksi base models\n",
    ")\n",
    "\n",
    "# Untuk multi-output, kita bungkus dengan MultiOutputRegressor\n",
    "model_all_best = MultiOutputRegressor(stacking_regressor)\n",
    "start = time.time()\n",
    "# Training\n",
    "model_all_best.fit(x0_train, y0_train)\n",
    "end = time.time()\n",
    "waktu = (end-start)/60\n",
    "# Prediction\n",
    "y0_pred = model_all_best.predict(x0_test)\n",
    "r2 = r2_score(y0_test, y0_pred, multioutput = 'raw_values')\n",
    "mae = mean_absolute_error(y0_test, y0_pred, multioutput = 'raw_values')\n",
    "mse = mean_squared_error(y0_test, y0_pred, multioutput = 'raw_values')\n",
    "max_ae = max_absolute_error(y0_test, y0_pred)\n",
    "print(f'R2 : \\n Alpha : {r2[1]} \\n Beta : {r2[2]} \\n V : {r2[0]} ')\n",
    "print(f'MAE : \\n Alpha : {mae[1]} \\n Beta : {mae[2]} \\n V : {mae[0]} ')\n",
    "print(f'MSE : \\n Alpha : {mse[1]} \\n Beta : {mse[2]} \\n V : {mse[0]} ')\n",
    "print('Max AERR : \\n', max_ae)\n",
    "print(\"Waktu yang dibutuhkan : \", waktu)"
   ]
  },
  {
   "cell_type": "code",
   "execution_count": 134,
   "id": "875bd31a-fe9e-404c-9b91-504589b13c60",
   "metadata": {},
   "outputs": [],
   "source": [
    "df_all_clean_17.to_csv('data_clean_reduce_17.csv', index = False)"
   ]
  },
  {
   "cell_type": "code",
   "execution_count": 135,
   "id": "16e0bfe4-cd74-4dd0-aae0-0baa514ed1bb",
   "metadata": {},
   "outputs": [
    {
     "name": "stdout",
     "output_type": "stream",
     "text": [
      "6732\n"
     ]
    }
   ],
   "source": [
    "y_pred_df = pd.DataFrame(y0_pred, columns = [\"V\",\"α\",\"β\"], index = y0_test.index)\n",
    "aerr = np.abs(y_pred_df - y0_test)\n",
    "index_max_aerr = aerr[\"β\"].idxmax()\n",
    "df_all_clean_18 = df_all_clean_17.drop(index = index_max_aerr)\n",
    "print(len(df_all_clean_18))"
   ]
  },
  {
   "cell_type": "markdown",
   "id": "296e66a0-dfba-4b03-8ca2-84b825d036cc",
   "metadata": {},
   "source": [
    "### AFTER REDUCE 18"
   ]
  },
  {
   "cell_type": "code",
   "execution_count": 136,
   "id": "e40bdfec-d8d0-4714-8bbc-2baed7118304",
   "metadata": {},
   "outputs": [],
   "source": [
    "x_all = df_all_clean_18.drop(columns = [\"V\",\"α\",\"β\"])\n",
    "y_all = df_all_clean_18[[\"V\",\"α\",\"β\"]]\n",
    "\n",
    "x0_train, x0_test, y0_train, y0_test = train_test_split(x_all, y_all,\n",
    "                                                        random_state = 42, test_size = 0.2)"
   ]
  },
  {
   "cell_type": "code",
   "execution_count": 137,
   "id": "0c7b04c2-8da4-46cf-affd-6eb1284fea39",
   "metadata": {},
   "outputs": [
    {
     "name": "stdout",
     "output_type": "stream",
     "text": [
      "R2 : \n",
      " Alpha : 0.9999944019752142 \n",
      " Beta : 0.983853521133361 \n",
      " V : 0.9999997045349582 \n",
      "MAE : \n",
      " Alpha : 0.004907299511346578 \n",
      " Beta : 0.5132296172224055 \n",
      " V : 0.001998723983645401 \n",
      "MSE : \n",
      " Alpha : 0.006735134282338777 \n",
      " Beta : 1.662180716855062 \n",
      " V : 6.059358345280791e-05 \n",
      "Max AERR : \n",
      " V     0.093805\n",
      "α     2.247179\n",
      "β    10.256939\n",
      "dtype: float64\n",
      "Waktu yang dibutuhkan :  1.3655627767244976\n"
     ]
    }
   ],
   "source": [
    "def max_absolute_error(y_true, y_pred):\n",
    "    return np.max(np.abs(y_true - y_pred), axis=0)\n",
    "scaler = StandardScaler()\n",
    "\n",
    "# Base models (Level Pertama)\n",
    "base_models = [\n",
    "    ('random_forest', RandomForestRegressor(n_estimators=250, max_depth=None, random_state=42, min_samples_leaf= 1, min_samples_split= 2, max_features = 'sqrt')),\n",
    "    ('gradient_boosting', GradientBoostingRegressor(n_estimators=200, learning_rate=0.0579, random_state=42, max_depth = 5)),\n",
    "    ('knn', make_pipeline(StandardScaler(), KNeighborsRegressor(n_neighbors=2, weights='distance', algorithm='auto')))\n",
    "]\n",
    "\n",
    "# Meta-model (Level Kedua)\n",
    "# Menggunakan Ridge Regression sebagai meta-model untuk menghindari overfitting\n",
    "meta_model = Ridge(alpha=0.1)\n",
    "\n",
    "# Membentuk Stacking Regressor\n",
    "stacking_regressor = StackingRegressor(\n",
    "    estimators=base_models,\n",
    "    final_estimator=meta_model,\n",
    "    passthrough=True  # Memasukkan data asli ke meta-model bersama prediksi base models\n",
    ")\n",
    "\n",
    "# Untuk multi-output, kita bungkus dengan MultiOutputRegressor\n",
    "model_all_best = MultiOutputRegressor(stacking_regressor)\n",
    "start = time.time()\n",
    "# Training\n",
    "model_all_best.fit(x0_train, y0_train)\n",
    "end = time.time()\n",
    "waktu = (end-start)/60\n",
    "# Prediction\n",
    "y0_pred = model_all_best.predict(x0_test)\n",
    "r2 = r2_score(y0_test, y0_pred, multioutput = 'raw_values')\n",
    "mae = mean_absolute_error(y0_test, y0_pred, multioutput = 'raw_values')\n",
    "mse = mean_squared_error(y0_test, y0_pred, multioutput = 'raw_values')\n",
    "max_ae = max_absolute_error(y0_test, y0_pred)\n",
    "print(f'R2 : \\n Alpha : {r2[1]} \\n Beta : {r2[2]} \\n V : {r2[0]} ')\n",
    "print(f'MAE : \\n Alpha : {mae[1]} \\n Beta : {mae[2]} \\n V : {mae[0]} ')\n",
    "print(f'MSE : \\n Alpha : {mse[1]} \\n Beta : {mse[2]} \\n V : {mse[0]} ')\n",
    "print('Max AERR : \\n', max_ae)\n",
    "print(\"Waktu yang dibutuhkan : \", waktu)"
   ]
  },
  {
   "cell_type": "code",
   "execution_count": 138,
   "id": "80b02367-7d5d-44e5-ba79-42be89c8e9e6",
   "metadata": {},
   "outputs": [
    {
     "name": "stdout",
     "output_type": "stream",
     "text": [
      "6731\n"
     ]
    }
   ],
   "source": [
    "y_pred_df = pd.DataFrame(y0_pred, columns = [\"V\",\"α\",\"β\"], index = y0_test.index)\n",
    "aerr = np.abs(y_pred_df - y0_test)\n",
    "index_max_aerr = aerr[\"β\"].idxmax()\n",
    "df_all_clean_19 = df_all_clean_18.drop(index = index_max_aerr)\n",
    "print(len(df_all_clean_19))"
   ]
  },
  {
   "cell_type": "markdown",
   "id": "303e371f-cd9c-48ef-97d2-d0dee4e7c3de",
   "metadata": {},
   "source": [
    "### AFTER REDUCE 19"
   ]
  },
  {
   "cell_type": "code",
   "execution_count": 139,
   "id": "425d78d7-6bee-4192-b029-bdaaabc37804",
   "metadata": {},
   "outputs": [],
   "source": [
    "x_all = df_all_clean_19.drop(columns = [\"V\",\"α\",\"β\"])\n",
    "y_all = df_all_clean_19[[\"V\",\"α\",\"β\"]]\n",
    "\n",
    "x0_train, x0_test, y0_train, y0_test = train_test_split(x_all, y_all,\n",
    "                                                        random_state = 42, test_size = 0.2)"
   ]
  },
  {
   "cell_type": "code",
   "execution_count": 140,
   "id": "88c6bf17-c8f7-4f26-9728-2a1e400551a7",
   "metadata": {},
   "outputs": [
    {
     "name": "stdout",
     "output_type": "stream",
     "text": [
      "R2 : \n",
      " Alpha : 0.9999969401329475 \n",
      " Beta : 0.981167299757279 \n",
      " V : 0.9999997816051944 \n",
      "MAE : \n",
      " Alpha : 0.0026386980307680145 \n",
      " Beta : 0.5458868624051496 \n",
      " V : 0.0018230344934212655 \n",
      "MSE : \n",
      " Alpha : 0.0036460283594278845 \n",
      " Beta : 1.9506414332187314 \n",
      " V : 4.421093183133372e-05 \n",
      "Max AERR : \n",
      " V     0.075336\n",
      "α     2.215593\n",
      "β    11.581555\n",
      "dtype: float64\n",
      "Waktu yang dibutuhkan :  1.3696483691533408\n"
     ]
    }
   ],
   "source": [
    "def max_absolute_error(y_true, y_pred):\n",
    "    return np.max(np.abs(y_true - y_pred), axis=0)\n",
    "scaler = StandardScaler()\n",
    "\n",
    "# Base models (Level Pertama)\n",
    "base_models = [\n",
    "    ('random_forest', RandomForestRegressor(n_estimators=250, max_depth=None, random_state=42, min_samples_leaf= 1, min_samples_split= 2, max_features = 'sqrt')),\n",
    "    ('gradient_boosting', GradientBoostingRegressor(n_estimators=200, learning_rate=0.0579, random_state=42, max_depth = 5)),\n",
    "    ('knn', make_pipeline(StandardScaler(), KNeighborsRegressor(n_neighbors=2, weights='distance', algorithm='auto')))\n",
    "]\n",
    "\n",
    "# Meta-model (Level Kedua)\n",
    "# Menggunakan Ridge Regression sebagai meta-model untuk menghindari overfitting\n",
    "meta_model = Ridge(alpha=0.1)\n",
    "\n",
    "# Membentuk Stacking Regressor\n",
    "stacking_regressor = StackingRegressor(\n",
    "    estimators=base_models,\n",
    "    final_estimator=meta_model,\n",
    "    passthrough=True  # Memasukkan data asli ke meta-model bersama prediksi base models\n",
    ")\n",
    "\n",
    "# Untuk multi-output, kita bungkus dengan MultiOutputRegressor\n",
    "model_all_best = MultiOutputRegressor(stacking_regressor)\n",
    "start = time.time()\n",
    "# Training\n",
    "model_all_best.fit(x0_train, y0_train)\n",
    "end = time.time()\n",
    "waktu = (end-start)/60\n",
    "# Prediction\n",
    "y0_pred = model_all_best.predict(x0_test)\n",
    "r2 = r2_score(y0_test, y0_pred, multioutput = 'raw_values')\n",
    "mae = mean_absolute_error(y0_test, y0_pred, multioutput = 'raw_values')\n",
    "mse = mean_squared_error(y0_test, y0_pred, multioutput = 'raw_values')\n",
    "max_ae = max_absolute_error(y0_test, y0_pred)\n",
    "print(f'R2 : \\n Alpha : {r2[1]} \\n Beta : {r2[2]} \\n V : {r2[0]} ')\n",
    "print(f'MAE : \\n Alpha : {mae[1]} \\n Beta : {mae[2]} \\n V : {mae[0]} ')\n",
    "print(f'MSE : \\n Alpha : {mse[1]} \\n Beta : {mse[2]} \\n V : {mse[0]} ')\n",
    "print('Max AERR : \\n', max_ae)\n",
    "print(\"Waktu yang dibutuhkan : \", waktu)"
   ]
  },
  {
   "cell_type": "code",
   "execution_count": 141,
   "id": "02182f3c-54f9-4f30-b85e-ac7a76a60552",
   "metadata": {},
   "outputs": [
    {
     "name": "stdout",
     "output_type": "stream",
     "text": [
      "6730\n"
     ]
    }
   ],
   "source": [
    "y_pred_df = pd.DataFrame(y0_pred, columns = [\"V\",\"α\",\"β\"], index = y0_test.index)\n",
    "aerr = np.abs(y_pred_df - y0_test)\n",
    "index_max_aerr = aerr[\"β\"].idxmax()\n",
    "df_all_clean_20 = df_all_clean_19.drop(index = index_max_aerr)\n",
    "print(len(df_all_clean_20))"
   ]
  },
  {
   "cell_type": "markdown",
   "id": "7ef1714b-0a90-4ba8-bdb3-f7fd36fc327a",
   "metadata": {},
   "source": [
    "### AFTER REDUCE 20"
   ]
  },
  {
   "cell_type": "code",
   "execution_count": 142,
   "id": "792aced0-4af4-446e-b69b-86e649ef761e",
   "metadata": {},
   "outputs": [],
   "source": [
    "x_all = df_all_clean_20.drop(columns = [\"V\",\"α\",\"β\"])\n",
    "y_all = df_all_clean_20[[\"V\",\"α\",\"β\"]]\n",
    "\n",
    "x0_train, x0_test, y0_train, y0_test = train_test_split(x_all, y_all,\n",
    "                                                        random_state = 42, test_size = 0.2)"
   ]
  },
  {
   "cell_type": "code",
   "execution_count": 143,
   "id": "4e7533f3-e8e1-4492-bf17-e8e2ded3ab9e",
   "metadata": {},
   "outputs": [
    {
     "name": "stdout",
     "output_type": "stream",
     "text": [
      "R2 : \n",
      " Alpha : 0.9999969769585978 \n",
      " Beta : 0.9837732805159182 \n",
      " V : 0.9999997954331127 \n",
      "MAE : \n",
      " Alpha : 0.0027032337173723566 \n",
      " Beta : 0.5379129462059986 \n",
      " V : 0.0017677803044817088 \n",
      "MSE : \n",
      " Alpha : 0.0036097693941727206 \n",
      " Beta : 1.6811931307772938 \n",
      " V : 4.160353578231792e-05 \n",
      "Max AERR : \n",
      " V    0.075356\n",
      "α    2.203072\n",
      "β    9.040602\n",
      "dtype: float64\n",
      "Waktu yang dibutuhkan :  1.361277210712433\n"
     ]
    }
   ],
   "source": [
    "def max_absolute_error(y_true, y_pred):\n",
    "    return np.max(np.abs(y_true - y_pred), axis=0)\n",
    "scaler = StandardScaler()\n",
    "\n",
    "# Base models (Level Pertama)\n",
    "base_models = [\n",
    "    ('random_forest', RandomForestRegressor(n_estimators=250, max_depth=None, random_state=42, min_samples_leaf= 1, min_samples_split= 2, max_features = 'sqrt')),\n",
    "    ('gradient_boosting', GradientBoostingRegressor(n_estimators=200, learning_rate=0.0579, random_state=42, max_depth = 5)),\n",
    "    ('knn', make_pipeline(StandardScaler(), KNeighborsRegressor(n_neighbors=2, weights='distance', algorithm='auto')))\n",
    "]\n",
    "\n",
    "# Meta-model (Level Kedua)\n",
    "# Menggunakan Ridge Regression sebagai meta-model untuk menghindari overfitting\n",
    "meta_model = Ridge(alpha=0.1)\n",
    "\n",
    "# Membentuk Stacking Regressor\n",
    "stacking_regressor = StackingRegressor(\n",
    "    estimators=base_models,\n",
    "    final_estimator=meta_model,\n",
    "    passthrough=True  # Memasukkan data asli ke meta-model bersama prediksi base models\n",
    ")\n",
    "\n",
    "# Untuk multi-output, kita bungkus dengan MultiOutputRegressor\n",
    "model_all_best = MultiOutputRegressor(stacking_regressor)\n",
    "start = time.time()\n",
    "# Training\n",
    "model_all_best.fit(x0_train, y0_train)\n",
    "end = time.time()\n",
    "waktu = (end-start)/60\n",
    "# Prediction\n",
    "y0_pred = model_all_best.predict(x0_test)\n",
    "r2 = r2_score(y0_test, y0_pred, multioutput = 'raw_values')\n",
    "mae = mean_absolute_error(y0_test, y0_pred, multioutput = 'raw_values')\n",
    "mse = mean_squared_error(y0_test, y0_pred, multioutput = 'raw_values')\n",
    "max_ae = max_absolute_error(y0_test, y0_pred)\n",
    "print(f'R2 : \\n Alpha : {r2[1]} \\n Beta : {r2[2]} \\n V : {r2[0]} ')\n",
    "print(f'MAE : \\n Alpha : {mae[1]} \\n Beta : {mae[2]} \\n V : {mae[0]} ')\n",
    "print(f'MSE : \\n Alpha : {mse[1]} \\n Beta : {mse[2]} \\n V : {mse[0]} ')\n",
    "print('Max AERR : \\n', max_ae)\n",
    "print(\"Waktu yang dibutuhkan : \", waktu)"
   ]
  },
  {
   "cell_type": "code",
   "execution_count": 144,
   "id": "67a81ac2-30ff-467c-b4d4-3eb3b092f648",
   "metadata": {},
   "outputs": [
    {
     "name": "stdout",
     "output_type": "stream",
     "text": [
      "6729\n"
     ]
    }
   ],
   "source": [
    "y_pred_df = pd.DataFrame(y0_pred, columns = [\"V\",\"α\",\"β\"], index = y0_test.index)\n",
    "aerr = np.abs(y_pred_df - y0_test)\n",
    "index_max_aerr = aerr[\"β\"].idxmax()\n",
    "df_all_clean_21 = df_all_clean_20.drop(index = index_max_aerr)\n",
    "print(len(df_all_clean_21))"
   ]
  },
  {
   "cell_type": "markdown",
   "id": "0967b992-a5d2-40b1-9183-c29468dc3b1d",
   "metadata": {},
   "source": [
    "### AFTER REDUCE 21"
   ]
  },
  {
   "cell_type": "code",
   "execution_count": 145,
   "id": "e1049743-08ba-4092-997a-ad8352a4d131",
   "metadata": {},
   "outputs": [],
   "source": [
    "x_all = df_all_clean_21.drop(columns = [\"V\",\"α\",\"β\"])\n",
    "y_all = df_all_clean_21[[\"V\",\"α\",\"β\"]]\n",
    "\n",
    "x0_train, x0_test, y0_train, y0_test = train_test_split(x_all, y_all,\n",
    "                                                        random_state = 42, test_size = 0.2)"
   ]
  },
  {
   "cell_type": "code",
   "execution_count": 146,
   "id": "1e5fa8f9-7036-49e0-9fe7-5d00141f8f8c",
   "metadata": {},
   "outputs": [
    {
     "name": "stdout",
     "output_type": "stream",
     "text": [
      "R2 : \n",
      " Alpha : 0.9999999961535053 \n",
      " Beta : 0.9812378375799463 \n",
      " V : 0.999999780946691 \n",
      "MAE : \n",
      " Alpha : 0.0014273109313804805 \n",
      " Beta : 0.5346487367627714 \n",
      " V : 0.0017798438571449563 \n",
      "MSE : \n",
      " Alpha : 4.650275097004797e-06 \n",
      " Beta : 1.9965503162898368 \n",
      " V : 4.5270431837863346e-05 \n",
      "Max AERR : \n",
      " V     0.081040\n",
      "α     0.019569\n",
      "β    16.293239\n",
      "dtype: float64\n",
      "Waktu yang dibutuhkan :  1.3483468691507976\n"
     ]
    }
   ],
   "source": [
    "def max_absolute_error(y_true, y_pred):\n",
    "    return np.max(np.abs(y_true - y_pred), axis=0)\n",
    "scaler = StandardScaler()\n",
    "\n",
    "# Base models (Level Pertama)\n",
    "base_models = [\n",
    "    ('random_forest', RandomForestRegressor(n_estimators=250, max_depth=None, random_state=42, min_samples_leaf= 1, min_samples_split= 2, max_features = 'sqrt')),\n",
    "    ('gradient_boosting', GradientBoostingRegressor(n_estimators=200, learning_rate=0.0579, random_state=42, max_depth = 5)),\n",
    "    ('knn', make_pipeline(StandardScaler(), KNeighborsRegressor(n_neighbors=2, weights='distance', algorithm='auto')))\n",
    "]\n",
    "\n",
    "# Meta-model (Level Kedua)\n",
    "# Menggunakan Ridge Regression sebagai meta-model untuk menghindari overfitting\n",
    "meta_model = Ridge(alpha=0.1)\n",
    "\n",
    "# Membentuk Stacking Regressor\n",
    "stacking_regressor = StackingRegressor(\n",
    "    estimators=base_models,\n",
    "    final_estimator=meta_model,\n",
    "    passthrough=True  # Memasukkan data asli ke meta-model bersama prediksi base models\n",
    ")\n",
    "\n",
    "# Untuk multi-output, kita bungkus dengan MultiOutputRegressor\n",
    "model_all_best = MultiOutputRegressor(stacking_regressor)\n",
    "start = time.time()\n",
    "# Training\n",
    "model_all_best.fit(x0_train, y0_train)\n",
    "end = time.time()\n",
    "waktu = (end-start)/60\n",
    "# Prediction\n",
    "y0_pred = model_all_best.predict(x0_test)\n",
    "r2 = r2_score(y0_test, y0_pred, multioutput = 'raw_values')\n",
    "mae = mean_absolute_error(y0_test, y0_pred, multioutput = 'raw_values')\n",
    "mse = mean_squared_error(y0_test, y0_pred, multioutput = 'raw_values')\n",
    "max_ae = max_absolute_error(y0_test, y0_pred)\n",
    "print(f'R2 : \\n Alpha : {r2[1]} \\n Beta : {r2[2]} \\n V : {r2[0]} ')\n",
    "print(f'MAE : \\n Alpha : {mae[1]} \\n Beta : {mae[2]} \\n V : {mae[0]} ')\n",
    "print(f'MSE : \\n Alpha : {mse[1]} \\n Beta : {mse[2]} \\n V : {mse[0]} ')\n",
    "print('Max AERR : \\n', max_ae)\n",
    "print(\"Waktu yang dibutuhkan : \", waktu)"
   ]
  },
  {
   "cell_type": "code",
   "execution_count": 147,
   "id": "5e5d153a-ad0d-4484-a741-369e80f29f2c",
   "metadata": {},
   "outputs": [
    {
     "name": "stdout",
     "output_type": "stream",
     "text": [
      "6728\n"
     ]
    }
   ],
   "source": [
    "y_pred_df = pd.DataFrame(y0_pred, columns = [\"V\",\"α\",\"β\"], index = y0_test.index)\n",
    "aerr = np.abs(y_pred_df - y0_test)\n",
    "index_max_aerr = aerr[\"β\"].idxmax()\n",
    "df_all_clean_22 = df_all_clean_21.drop(index = index_max_aerr)\n",
    "print(len(df_all_clean_22))"
   ]
  },
  {
   "cell_type": "markdown",
   "id": "3f6d764e-784d-45fe-b8f3-6a00bae45bf7",
   "metadata": {},
   "source": [
    "### AFTER REDUCE 22"
   ]
  },
  {
   "cell_type": "code",
   "execution_count": 148,
   "id": "c97412dc-a3cd-43ee-84a9-3bb3fd6cd1ec",
   "metadata": {},
   "outputs": [],
   "source": [
    "x_all = df_all_clean_22.drop(columns = [\"V\",\"α\",\"β\"])\n",
    "y_all = df_all_clean_22[[\"V\",\"α\",\"β\"]]\n",
    "\n",
    "x0_train, x0_test, y0_train, y0_test = train_test_split(x_all, y_all,\n",
    "                                                        random_state = 42, test_size = 0.2)"
   ]
  },
  {
   "cell_type": "code",
   "execution_count": 149,
   "id": "bd21919e-2d5a-4a80-94d9-a5caa147e328",
   "metadata": {},
   "outputs": [
    {
     "name": "stdout",
     "output_type": "stream",
     "text": [
      "R2 : \n",
      " Alpha : 0.9999999894312268 \n",
      " Beta : 0.9854671309424441 \n",
      " V : 0.9999998650516262 \n",
      "MAE : \n",
      " Alpha : 0.0016037096540434685 \n",
      " Beta : 0.47542394189361026 \n",
      " V : 0.0014316577039070592 \n",
      "MSE : \n",
      " Alpha : 1.2071084600412103e-05 \n",
      " Beta : 1.5633593614869405 \n",
      " V : 2.712960303543747e-05 \n",
      "Max AERR : \n",
      " V     0.048881\n",
      "α     0.052283\n",
      "β    11.654270\n",
      "dtype: float64\n",
      "Waktu yang dibutuhkan :  1.3677958170572917\n"
     ]
    }
   ],
   "source": [
    "def max_absolute_error(y_true, y_pred):\n",
    "    return np.max(np.abs(y_true - y_pred), axis=0)\n",
    "scaler = StandardScaler()\n",
    "\n",
    "# Base models (Level Pertama)\n",
    "base_models = [\n",
    "    ('random_forest', RandomForestRegressor(n_estimators=250, max_depth=None, random_state=42, min_samples_leaf= 1, min_samples_split= 2, max_features = 'sqrt')),\n",
    "    ('gradient_boosting', GradientBoostingRegressor(n_estimators=200, learning_rate=0.0579, random_state=42, max_depth = 5)),\n",
    "    ('knn', make_pipeline(StandardScaler(), KNeighborsRegressor(n_neighbors=2, weights='distance', algorithm='auto')))\n",
    "]\n",
    "\n",
    "# Meta-model (Level Kedua)\n",
    "# Menggunakan Ridge Regression sebagai meta-model untuk menghindari overfitting\n",
    "meta_model = Ridge(alpha=0.1)\n",
    "\n",
    "# Membentuk Stacking Regressor\n",
    "stacking_regressor = StackingRegressor(\n",
    "    estimators=base_models,\n",
    "    final_estimator=meta_model,\n",
    "    passthrough=True  # Memasukkan data asli ke meta-model bersama prediksi base models\n",
    ")\n",
    "\n",
    "# Untuk multi-output, kita bungkus dengan MultiOutputRegressor\n",
    "model_all_best = MultiOutputRegressor(stacking_regressor)\n",
    "start = time.time()\n",
    "# Training\n",
    "model_all_best.fit(x0_train, y0_train)\n",
    "end = time.time()\n",
    "waktu = (end-start)/60\n",
    "# Prediction\n",
    "y0_pred = model_all_best.predict(x0_test)\n",
    "r2 = r2_score(y0_test, y0_pred, multioutput = 'raw_values')\n",
    "mae = mean_absolute_error(y0_test, y0_pred, multioutput = 'raw_values')\n",
    "mse = mean_squared_error(y0_test, y0_pred, multioutput = 'raw_values')\n",
    "max_ae = max_absolute_error(y0_test, y0_pred)\n",
    "print(f'R2 : \\n Alpha : {r2[1]} \\n Beta : {r2[2]} \\n V : {r2[0]} ')\n",
    "print(f'MAE : \\n Alpha : {mae[1]} \\n Beta : {mae[2]} \\n V : {mae[0]} ')\n",
    "print(f'MSE : \\n Alpha : {mse[1]} \\n Beta : {mse[2]} \\n V : {mse[0]} ')\n",
    "print('Max AERR : \\n', max_ae)\n",
    "print(\"Waktu yang dibutuhkan : \", waktu)"
   ]
  },
  {
   "cell_type": "code",
   "execution_count": 150,
   "id": "77b10b1b-cf4d-4ac3-aee7-95b80ac4f4ff",
   "metadata": {},
   "outputs": [],
   "source": [
    "df_all_clean_22.to_csv('data_clean_reduce_22.csv', index = False)"
   ]
  },
  {
   "cell_type": "code",
   "execution_count": 151,
   "id": "9ddb9c32-113a-47f7-a98f-819ee6079a80",
   "metadata": {},
   "outputs": [
    {
     "name": "stdout",
     "output_type": "stream",
     "text": [
      "6727\n"
     ]
    }
   ],
   "source": [
    "y_pred_df = pd.DataFrame(y0_pred, columns = [\"V\",\"α\",\"β\"], index = y0_test.index)\n",
    "aerr = np.abs(y_pred_df - y0_test)\n",
    "index_max_aerr = aerr[\"β\"].idxmax()\n",
    "df_all_clean_23 = df_all_clean_22.drop(index = index_max_aerr)\n",
    "print(len(df_all_clean_23))"
   ]
  },
  {
   "cell_type": "markdown",
   "id": "9c57619a-53a4-4b65-b028-604c77cf551b",
   "metadata": {},
   "source": [
    "### AFTER REDUCE 23"
   ]
  },
  {
   "cell_type": "code",
   "execution_count": 154,
   "id": "987b396f-652c-45b9-8e34-3c099d6f462e",
   "metadata": {},
   "outputs": [],
   "source": [
    "x_all = df_all_clean_23.drop(columns = [\"V\",\"α\",\"β\"])\n",
    "y_all = df_all_clean_23[[\"V\",\"α\",\"β\"]]\n",
    "\n",
    "x0_train, x0_test, y0_train, y0_test = train_test_split(x_all, y_all,\n",
    "                                                        random_state = 42, test_size = 0.2)"
   ]
  },
  {
   "cell_type": "code",
   "execution_count": 155,
   "id": "dd285e5e-d78f-461d-a65b-76a48d5150fe",
   "metadata": {},
   "outputs": [
    {
     "name": "stdout",
     "output_type": "stream",
     "text": [
      "R2 : \n",
      " Alpha : 0.9999999937807436 \n",
      " Beta : 0.9856542614448092 \n",
      " V : 0.9999998496967869 \n",
      "MAE : \n",
      " Alpha : 0.0012397692513765974 \n",
      " Beta : 0.46223609553781386 \n",
      " V : 0.0014879345507213932 \n",
      "MSE : \n",
      " Alpha : 7.077813795261297e-06 \n",
      " Beta : 1.503431723484817 \n",
      " V : 3.082600059842903e-05 \n",
      "Max AERR : \n",
      " V     0.061472\n",
      "α     0.038274\n",
      "β    11.039069\n",
      "dtype: float64\n",
      "Waktu yang dibutuhkan :  1.3644253293673196\n"
     ]
    }
   ],
   "source": [
    "def max_absolute_error(y_true, y_pred):\n",
    "    return np.max(np.abs(y_true - y_pred), axis=0)\n",
    "scaler = StandardScaler()\n",
    "\n",
    "# Base models (Level Pertama)\n",
    "base_models = [\n",
    "    ('random_forest', RandomForestRegressor(n_estimators=250, max_depth=None, random_state=42, min_samples_leaf= 1, min_samples_split= 2, max_features = 'sqrt')),\n",
    "    ('gradient_boosting', GradientBoostingRegressor(n_estimators=200, learning_rate=0.0579, random_state=42, max_depth = 5)),\n",
    "    ('knn', make_pipeline(StandardScaler(), KNeighborsRegressor(n_neighbors=2, weights='distance', algorithm='auto')))\n",
    "]\n",
    "\n",
    "# Meta-model (Level Kedua)\n",
    "# Menggunakan Ridge Regression sebagai meta-model untuk menghindari overfitting\n",
    "meta_model = Ridge(alpha=0.1)\n",
    "\n",
    "# Membentuk Stacking Regressor\n",
    "stacking_regressor = StackingRegressor(\n",
    "    estimators=base_models,\n",
    "    final_estimator=meta_model,\n",
    "    passthrough=True  # Memasukkan data asli ke meta-model bersama prediksi base models\n",
    ")\n",
    "\n",
    "# Untuk multi-output, kita bungkus dengan MultiOutputRegressor\n",
    "model_all_best = MultiOutputRegressor(stacking_regressor)\n",
    "start = time.time()\n",
    "# Training\n",
    "model_all_best.fit(x0_train, y0_train)\n",
    "end = time.time()\n",
    "waktu = (end-start)/60\n",
    "# Prediction\n",
    "y0_pred = model_all_best.predict(x0_test)\n",
    "r2 = r2_score(y0_test, y0_pred, multioutput = 'raw_values')\n",
    "mae = mean_absolute_error(y0_test, y0_pred, multioutput = 'raw_values')\n",
    "mse = mean_squared_error(y0_test, y0_pred, multioutput = 'raw_values')\n",
    "max_ae = max_absolute_error(y0_test, y0_pred)\n",
    "print(f'R2 : \\n Alpha : {r2[1]} \\n Beta : {r2[2]} \\n V : {r2[0]} ')\n",
    "print(f'MAE : \\n Alpha : {mae[1]} \\n Beta : {mae[2]} \\n V : {mae[0]} ')\n",
    "print(f'MSE : \\n Alpha : {mse[1]} \\n Beta : {mse[2]} \\n V : {mse[0]} ')\n",
    "print('Max AERR : \\n', max_ae)\n",
    "print(\"Waktu yang dibutuhkan : \", waktu)"
   ]
  },
  {
   "cell_type": "code",
   "execution_count": 156,
   "id": "e9500a99-96eb-4435-8072-c0d91f9995a3",
   "metadata": {},
   "outputs": [],
   "source": [
    "df_all_clean_23.to_csv('data_clean_reduce_23.csv', index = False)"
   ]
  },
  {
   "cell_type": "code",
   "execution_count": 157,
   "id": "96513482-ce10-44a4-a25e-d772130262f0",
   "metadata": {},
   "outputs": [
    {
     "name": "stdout",
     "output_type": "stream",
     "text": [
      "6726\n"
     ]
    }
   ],
   "source": [
    "y_pred_df = pd.DataFrame(y0_pred, columns = [\"V\",\"α\",\"β\"], index = y0_test.index)\n",
    "aerr = np.abs(y_pred_df - y0_test)\n",
    "index_max_aerr = aerr[\"β\"].idxmax()\n",
    "df_all_clean_24 = df_all_clean_23.drop(index = index_max_aerr)\n",
    "print(len(df_all_clean_24))"
   ]
  },
  {
   "cell_type": "markdown",
   "id": "0c3d211d-faa7-4fa0-aefe-5362095e3ac7",
   "metadata": {},
   "source": [
    "### AFTER REDUCE 24"
   ]
  },
  {
   "cell_type": "code",
   "execution_count": 158,
   "id": "e871e2de-cd03-4919-8e6c-be4e9f576447",
   "metadata": {},
   "outputs": [],
   "source": [
    "x_all = df_all_clean_24.drop(columns = [\"V\",\"α\",\"β\"])\n",
    "y_all = df_all_clean_24[[\"V\",\"α\",\"β\"]]\n",
    "\n",
    "x0_train, x0_test, y0_train, y0_test = train_test_split(x_all, y_all,\n",
    "                                                        random_state = 42, test_size = 0.2)"
   ]
  },
  {
   "cell_type": "code",
   "execution_count": 159,
   "id": "530b56c7-22cc-4c68-8e68-13c1104efdbc",
   "metadata": {},
   "outputs": [
    {
     "name": "stdout",
     "output_type": "stream",
     "text": [
      "R2 : \n",
      " Alpha : 0.9999999888364483 \n",
      " Beta : 0.9855572270835813 \n",
      " V : 0.9999998576576354 \n",
      "MAE : \n",
      " Alpha : 0.0018578545045363193 \n",
      " Beta : 0.4649694558260702 \n",
      " V : 0.0014418516960277908 \n",
      "MSE : \n",
      " Alpha : 1.2746920367403166e-05 \n",
      " Beta : 1.5371880960149589 \n",
      " V : 2.9044107812892754e-05 \n",
      "Max AERR : \n",
      " V     0.050330\n",
      "α     0.048791\n",
      "β    10.644980\n",
      "dtype: float64\n",
      "Waktu yang dibutuhkan :  1.3502382437388103\n"
     ]
    }
   ],
   "source": [
    "def max_absolute_error(y_true, y_pred):\n",
    "    return np.max(np.abs(y_true - y_pred), axis=0)\n",
    "scaler = StandardScaler()\n",
    "\n",
    "# Base models (Level Pertama)\n",
    "base_models = [\n",
    "    ('random_forest', RandomForestRegressor(n_estimators=250, max_depth=None, random_state=42, min_samples_leaf= 1, min_samples_split= 2, max_features = 'sqrt')),\n",
    "    ('gradient_boosting', GradientBoostingRegressor(n_estimators=200, learning_rate=0.0579, random_state=42, max_depth = 5)),\n",
    "    ('knn', make_pipeline(StandardScaler(), KNeighborsRegressor(n_neighbors=2, weights='distance', algorithm='auto')))\n",
    "]\n",
    "\n",
    "# Meta-model (Level Kedua)\n",
    "# Menggunakan Ridge Regression sebagai meta-model untuk menghindari overfitting\n",
    "meta_model = Ridge(alpha=0.1)\n",
    "\n",
    "# Membentuk Stacking Regressor\n",
    "stacking_regressor = StackingRegressor(\n",
    "    estimators=base_models,\n",
    "    final_estimator=meta_model,\n",
    "    passthrough=True  # Memasukkan data asli ke meta-model bersama prediksi base models\n",
    ")\n",
    "\n",
    "# Untuk multi-output, kita bungkus dengan MultiOutputRegressor\n",
    "model_all_best = MultiOutputRegressor(stacking_regressor)\n",
    "start = time.time()\n",
    "# Training\n",
    "model_all_best.fit(x0_train, y0_train)\n",
    "end = time.time()\n",
    "waktu = (end-start)/60\n",
    "# Prediction\n",
    "y0_pred = model_all_best.predict(x0_test)\n",
    "r2 = r2_score(y0_test, y0_pred, multioutput = 'raw_values')\n",
    "mae = mean_absolute_error(y0_test, y0_pred, multioutput = 'raw_values')\n",
    "mse = mean_squared_error(y0_test, y0_pred, multioutput = 'raw_values')\n",
    "max_ae = max_absolute_error(y0_test, y0_pred)\n",
    "print(f'R2 : \\n Alpha : {r2[1]} \\n Beta : {r2[2]} \\n V : {r2[0]} ')\n",
    "print(f'MAE : \\n Alpha : {mae[1]} \\n Beta : {mae[2]} \\n V : {mae[0]} ')\n",
    "print(f'MSE : \\n Alpha : {mse[1]} \\n Beta : {mse[2]} \\n V : {mse[0]} ')\n",
    "print('Max AERR : \\n', max_ae)\n",
    "print(\"Waktu yang dibutuhkan : \", waktu)"
   ]
  },
  {
   "cell_type": "code",
   "execution_count": 160,
   "id": "d8d77522-8508-439c-acef-fa509874eadf",
   "metadata": {},
   "outputs": [],
   "source": [
    "df_all_clean_24.to_csv('data_clean_reduce_24.csv', index = False)"
   ]
  },
  {
   "cell_type": "code",
   "execution_count": 161,
   "id": "cee274c7-390d-4df5-b674-394ab6ee5caf",
   "metadata": {},
   "outputs": [
    {
     "name": "stdout",
     "output_type": "stream",
     "text": [
      "6725\n"
     ]
    }
   ],
   "source": [
    "y_pred_df = pd.DataFrame(y0_pred, columns = [\"V\",\"α\",\"β\"], index = y0_test.index)\n",
    "aerr = np.abs(y_pred_df - y0_test)\n",
    "index_max_aerr = aerr[\"β\"].idxmax()\n",
    "df_all_clean_25 = df_all_clean_24.drop(index = index_max_aerr)\n",
    "print(len(df_all_clean_25))"
   ]
  },
  {
   "cell_type": "markdown",
   "id": "abd73698-06ce-48fd-a86f-d9a5b671060e",
   "metadata": {},
   "source": [
    "### AFTER REDUCE 25"
   ]
  },
  {
   "cell_type": "code",
   "execution_count": 171,
   "id": "61825848-be87-4aa5-b1b3-2cdbe05d597f",
   "metadata": {},
   "outputs": [],
   "source": [
    "x_all = df_all_clean_25.drop(columns = [\"V\",\"α\",\"β\"])\n",
    "y_all = df_all_clean_25[[\"V\",\"α\",\"β\"]]\n",
    "\n",
    "x0_train, x0_test, y0_train, y0_test = train_test_split(x_all, y_all,\n",
    "                                                        random_state = 42, test_size = 0.2)"
   ]
  },
  {
   "cell_type": "code",
   "execution_count": 172,
   "id": "cb3ecfda-eb54-411d-a676-8f52324d59f4",
   "metadata": {},
   "outputs": [
    {
     "name": "stdout",
     "output_type": "stream",
     "text": [
      "R2 : \n",
      " Alpha : 0.99999999820806 \n",
      " Beta : 0.9798908893620512 \n",
      " V : 0.9999998000403174 \n",
      "MAE : \n",
      " Alpha : 0.0008481488503539184 \n",
      " Beta : 0.5254819518257944 \n",
      " V : 0.0017337923175844475 \n",
      "MSE : \n",
      " Alpha : 2.1522538353043716e-06 \n",
      " Beta : 2.0818811260483003 \n",
      " V : 4.124748112184879e-05 \n",
      "Max AERR : \n",
      " V     0.081532\n",
      "α     0.015558\n",
      "β    15.353662\n",
      "dtype: float64\n",
      "Waktu yang dibutuhkan :  1.3357726414998372\n"
     ]
    }
   ],
   "source": [
    "def max_absolute_error(y_true, y_pred):\n",
    "    return np.max(np.abs(y_true - y_pred), axis=0)\n",
    "scaler = StandardScaler()\n",
    "\n",
    "# Base models (Level Pertama)\n",
    "base_models = [\n",
    "    ('random_forest', RandomForestRegressor(n_estimators=250, max_depth=None, random_state=42, min_samples_leaf= 1, min_samples_split= 2, max_features = 'sqrt')),\n",
    "    ('gradient_boosting', GradientBoostingRegressor(n_estimators=200, learning_rate=0.0579, random_state=42, max_depth = 5)),\n",
    "    ('knn', make_pipeline(StandardScaler(), KNeighborsRegressor(n_neighbors=2, weights='distance', algorithm='auto')))\n",
    "]\n",
    "\n",
    "# Meta-model (Level Kedua)\n",
    "# Menggunakan Ridge Regression sebagai meta-model untuk menghindari overfitting\n",
    "meta_model = Ridge(alpha=0.1)\n",
    "\n",
    "# Membentuk Stacking Regressor\n",
    "stacking_regressor = StackingRegressor(\n",
    "    estimators=base_models,\n",
    "    final_estimator=meta_model,\n",
    "    passthrough=True  # Memasukkan data asli ke meta-model bersama prediksi base models\n",
    ")\n",
    "\n",
    "# Untuk multi-output, kita bungkus dengan MultiOutputRegressor\n",
    "model_all_best = MultiOutputRegressor(stacking_regressor)\n",
    "start = time.time()\n",
    "# Training\n",
    "model_all_best.fit(x0_train, y0_train)\n",
    "end = time.time()\n",
    "waktu = (end-start)/60\n",
    "# Prediction\n",
    "y0_pred = model_all_best.predict(x0_test)\n",
    "r2 = r2_score(y0_test, y0_pred, multioutput = 'raw_values')\n",
    "mae = mean_absolute_error(y0_test, y0_pred, multioutput = 'raw_values')\n",
    "mse = mean_squared_error(y0_test, y0_pred, multioutput = 'raw_values')\n",
    "max_ae = max_absolute_error(y0_test, y0_pred)\n",
    "print(f'R2 : \\n Alpha : {r2[1]} \\n Beta : {r2[2]} \\n V : {r2[0]} ')\n",
    "print(f'MAE : \\n Alpha : {mae[1]} \\n Beta : {mae[2]} \\n V : {mae[0]} ')\n",
    "print(f'MSE : \\n Alpha : {mse[1]} \\n Beta : {mse[2]} \\n V : {mse[0]} ')\n",
    "print('Max AERR : \\n', max_ae)\n",
    "print(\"Waktu yang dibutuhkan : \", waktu)"
   ]
  },
  {
   "cell_type": "code",
   "execution_count": 173,
   "id": "20f73b0b-c530-4797-ac97-45a65cbd8f1d",
   "metadata": {},
   "outputs": [
    {
     "name": "stdout",
     "output_type": "stream",
     "text": [
      "6724\n"
     ]
    }
   ],
   "source": [
    "y_pred_df = pd.DataFrame(y0_pred, columns = [\"V\",\"α\",\"β\"], index = y0_test.index)\n",
    "aerr = np.abs(y_pred_df - y0_test)\n",
    "index_max_aerr = aerr[\"β\"].idxmax()\n",
    "df_all_clean_26 = df_all_clean_25.drop(index = index_max_aerr)\n",
    "print(len(df_all_clean_26))"
   ]
  },
  {
   "cell_type": "markdown",
   "id": "c08cdb1c-c82d-46ee-9acf-2e5a0cc50f5b",
   "metadata": {},
   "source": [
    "### AFTER REDUCE 26"
   ]
  },
  {
   "cell_type": "code",
   "execution_count": 174,
   "id": "f065038d-5797-4193-85c7-b7f13d20f4f8",
   "metadata": {},
   "outputs": [],
   "source": [
    "x_all = df_all_clean_26.drop(columns = [\"V\",\"α\",\"β\"])\n",
    "y_all = df_all_clean_26[[\"V\",\"α\",\"β\"]]\n",
    "\n",
    "x0_train, x0_test, y0_train, y0_test = train_test_split(x_all, y_all,\n",
    "                                                        random_state = 42, test_size = 0.2)"
   ]
  },
  {
   "cell_type": "code",
   "execution_count": 175,
   "id": "f158636b-7b48-4739-902a-98e5d9cf7898",
   "metadata": {},
   "outputs": [
    {
     "name": "stdout",
     "output_type": "stream",
     "text": [
      "R2 : \n",
      " Alpha : 0.9999999916559487 \n",
      " Beta : 0.9825355723110496 \n",
      " V : 0.9999998345565159 \n",
      "MAE : \n",
      " Alpha : 0.0017855769627346072 \n",
      " Beta : 0.5250548685573984 \n",
      " V : 0.0016276612273108469 \n",
      "MSE : \n",
      " Alpha : 1.0045595498660677e-05 \n",
      " Beta : 1.811809413048171 \n",
      " V : 3.3709311460258184e-05 \n",
      "Max AERR : \n",
      " V     0.065661\n",
      "α     0.033471\n",
      "β    11.078367\n",
      "dtype: float64\n",
      "Waktu yang dibutuhkan :  1.3461764971415202\n"
     ]
    }
   ],
   "source": [
    "def max_absolute_error(y_true, y_pred):\n",
    "    return np.max(np.abs(y_true - y_pred), axis=0)\n",
    "scaler = StandardScaler()\n",
    "\n",
    "# Base models (Level Pertama)\n",
    "base_models = [\n",
    "    ('random_forest', RandomForestRegressor(n_estimators=250, max_depth=None, random_state=42, min_samples_leaf= 1, min_samples_split= 2, max_features = 'sqrt')),\n",
    "    ('gradient_boosting', GradientBoostingRegressor(n_estimators=200, learning_rate=0.0579, random_state=42, max_depth = 5)),\n",
    "    ('knn', make_pipeline(StandardScaler(), KNeighborsRegressor(n_neighbors=2, weights='distance', algorithm='auto')))\n",
    "]\n",
    "\n",
    "# Meta-model (Level Kedua)\n",
    "# Menggunakan Ridge Regression sebagai meta-model untuk menghindari overfitting\n",
    "meta_model = Ridge(alpha=0.1)\n",
    "\n",
    "# Membentuk Stacking Regressor\n",
    "stacking_regressor = StackingRegressor(\n",
    "    estimators=base_models,\n",
    "    final_estimator=meta_model,\n",
    "    passthrough=True  # Memasukkan data asli ke meta-model bersama prediksi base models\n",
    ")\n",
    "\n",
    "# Untuk multi-output, kita bungkus dengan MultiOutputRegressor\n",
    "model_all_best = MultiOutputRegressor(stacking_regressor)\n",
    "start = time.time()\n",
    "# Training\n",
    "model_all_best.fit(x0_train, y0_train)\n",
    "end = time.time()\n",
    "waktu = (end-start)/60\n",
    "# Prediction\n",
    "y0_pred = model_all_best.predict(x0_test)\n",
    "r2 = r2_score(y0_test, y0_pred, multioutput = 'raw_values')\n",
    "mae = mean_absolute_error(y0_test, y0_pred, multioutput = 'raw_values')\n",
    "mse = mean_squared_error(y0_test, y0_pred, multioutput = 'raw_values')\n",
    "max_ae = max_absolute_error(y0_test, y0_pred)\n",
    "print(f'R2 : \\n Alpha : {r2[1]} \\n Beta : {r2[2]} \\n V : {r2[0]} ')\n",
    "print(f'MAE : \\n Alpha : {mae[1]} \\n Beta : {mae[2]} \\n V : {mae[0]} ')\n",
    "print(f'MSE : \\n Alpha : {mse[1]} \\n Beta : {mse[2]} \\n V : {mse[0]} ')\n",
    "print('Max AERR : \\n', max_ae)\n",
    "print(\"Waktu yang dibutuhkan : \", waktu)"
   ]
  },
  {
   "cell_type": "code",
   "execution_count": 176,
   "id": "d907e25a-0e29-431d-9e13-cc4835d5617e",
   "metadata": {},
   "outputs": [
    {
     "name": "stdout",
     "output_type": "stream",
     "text": [
      "6723\n"
     ]
    }
   ],
   "source": [
    "y_pred_df = pd.DataFrame(y0_pred, columns = [\"V\",\"α\",\"β\"], index = y0_test.index)\n",
    "aerr = np.abs(y_pred_df - y0_test)\n",
    "index_max_aerr = aerr[\"β\"].idxmax()\n",
    "df_all_clean_27 = df_all_clean_26.drop(index = index_max_aerr)\n",
    "print(len(df_all_clean_27))"
   ]
  },
  {
   "cell_type": "markdown",
   "id": "5bddcfe3-3dc5-4d49-8369-4be9209ae084",
   "metadata": {},
   "source": [
    "### AFTER REDUCE 27"
   ]
  },
  {
   "cell_type": "code",
   "execution_count": 177,
   "id": "e4ccd5b0-f6e0-4fa8-92e6-ac6adc29c556",
   "metadata": {},
   "outputs": [],
   "source": [
    "x_all = df_all_clean_27.drop(columns = [\"V\",\"α\",\"β\"])\n",
    "y_all = df_all_clean_27[[\"V\",\"α\",\"β\"]]\n",
    "\n",
    "x0_train, x0_test, y0_train, y0_test = train_test_split(x_all, y_all,\n",
    "                                                        random_state = 42, test_size = 0.2)"
   ]
  },
  {
   "cell_type": "code",
   "execution_count": 178,
   "id": "8af65dc6-7c68-4248-93fa-459ea729f9a3",
   "metadata": {},
   "outputs": [
    {
     "name": "stdout",
     "output_type": "stream",
     "text": [
      "R2 : \n",
      " Alpha : 0.9999963831587556 \n",
      " Beta : 0.9812804386355614 \n",
      " V : 0.9999997836932504 \n",
      "MAE : \n",
      " Alpha : 0.0032263101641754146 \n",
      " Beta : 0.5372027094579968 \n",
      " V : 0.0018416802024262603 \n",
      "MSE : \n",
      " Alpha : 0.004360815406793514 \n",
      " Beta : 1.9639109596944404 \n",
      " V : 4.406306984735225e-05 \n",
      "Max AERR : \n",
      " V     0.073099\n",
      "α     2.420149\n",
      "β    10.868542\n",
      "dtype: float64\n",
      "Waktu yang dibutuhkan :  1.3634572982788087\n"
     ]
    }
   ],
   "source": [
    "def max_absolute_error(y_true, y_pred):\n",
    "    return np.max(np.abs(y_true - y_pred), axis=0)\n",
    "scaler = StandardScaler()\n",
    "\n",
    "# Base models (Level Pertama)\n",
    "base_models = [\n",
    "    ('random_forest', RandomForestRegressor(n_estimators=250, max_depth=None, random_state=42, min_samples_leaf= 1, min_samples_split= 2, max_features = 'sqrt')),\n",
    "    ('gradient_boosting', GradientBoostingRegressor(n_estimators=200, learning_rate=0.0579, random_state=42, max_depth = 5)),\n",
    "    ('knn', make_pipeline(StandardScaler(), KNeighborsRegressor(n_neighbors=2, weights='distance', algorithm='auto')))\n",
    "]\n",
    "\n",
    "# Meta-model (Level Kedua)\n",
    "# Menggunakan Ridge Regression sebagai meta-model untuk menghindari overfitting\n",
    "meta_model = Ridge(alpha=0.1)\n",
    "\n",
    "# Membentuk Stacking Regressor\n",
    "stacking_regressor = StackingRegressor(\n",
    "    estimators=base_models,\n",
    "    final_estimator=meta_model,\n",
    "    passthrough=True  # Memasukkan data asli ke meta-model bersama prediksi base models\n",
    ")\n",
    "\n",
    "# Untuk multi-output, kita bungkus dengan MultiOutputRegressor\n",
    "model_all_best = MultiOutputRegressor(stacking_regressor)\n",
    "start = time.time()\n",
    "# Training\n",
    "model_all_best.fit(x0_train, y0_train)\n",
    "end = time.time()\n",
    "waktu = (end-start)/60\n",
    "# Prediction\n",
    "y0_pred = model_all_best.predict(x0_test)\n",
    "r2 = r2_score(y0_test, y0_pred, multioutput = 'raw_values')\n",
    "mae = mean_absolute_error(y0_test, y0_pred, multioutput = 'raw_values')\n",
    "mse = mean_squared_error(y0_test, y0_pred, multioutput = 'raw_values')\n",
    "max_ae = max_absolute_error(y0_test, y0_pred)\n",
    "print(f'R2 : \\n Alpha : {r2[1]} \\n Beta : {r2[2]} \\n V : {r2[0]} ')\n",
    "print(f'MAE : \\n Alpha : {mae[1]} \\n Beta : {mae[2]} \\n V : {mae[0]} ')\n",
    "print(f'MSE : \\n Alpha : {mse[1]} \\n Beta : {mse[2]} \\n V : {mse[0]} ')\n",
    "print('Max AERR : \\n', max_ae)\n",
    "print(\"Waktu yang dibutuhkan : \", waktu)"
   ]
  },
  {
   "cell_type": "code",
   "execution_count": 179,
   "id": "b69ac4bf-ef6c-4213-8ca9-d6c7ab4b4e47",
   "metadata": {},
   "outputs": [
    {
     "name": "stdout",
     "output_type": "stream",
     "text": [
      "6722\n"
     ]
    }
   ],
   "source": [
    "y_pred_df = pd.DataFrame(y0_pred, columns = [\"V\",\"α\",\"β\"], index = y0_test.index)\n",
    "aerr = np.abs(y_pred_df - y0_test)\n",
    "index_max_aerr = aerr[\"β\"].idxmax()\n",
    "df_all_clean_28 = df_all_clean_27.drop(index = index_max_aerr)\n",
    "print(len(df_all_clean_28))"
   ]
  },
  {
   "cell_type": "markdown",
   "id": "d4d93b05-1318-4bf5-83d5-0e90ab8b26ad",
   "metadata": {},
   "source": [
    "### AFTER REDUCE 28"
   ]
  },
  {
   "cell_type": "code",
   "execution_count": 180,
   "id": "180ceb44-a77c-4583-85b3-dacc4b7228c9",
   "metadata": {},
   "outputs": [],
   "source": [
    "x_all = df_all_clean_28.drop(columns = [\"V\",\"α\",\"β\"])\n",
    "y_all = df_all_clean_28[[\"V\",\"α\",\"β\"]]\n",
    "\n",
    "x0_train, x0_test, y0_train, y0_test = train_test_split(x_all, y_all,\n",
    "                                                        random_state = 42, test_size = 0.2)"
   ]
  },
  {
   "cell_type": "code",
   "execution_count": 181,
   "id": "33723d4c-b24b-4715-9448-41e2e316853e",
   "metadata": {},
   "outputs": [
    {
     "name": "stdout",
     "output_type": "stream",
     "text": [
      "R2 : \n",
      " Alpha : 0.9999963221815671 \n",
      " Beta : 0.9824455465659527 \n",
      " V : 0.9999997771078147 \n",
      "MAE : \n",
      " Alpha : 0.0023245574137863933 \n",
      " Beta : 0.5132073256809988 \n",
      " V : 0.001786621142399037 \n",
      "MSE : \n",
      " Alpha : 0.004395077652616706 \n",
      " Beta : 1.9628023968731858 \n",
      " V : 4.5656366063923915e-05 \n",
      "Max AERR : \n",
      " V     0.081631\n",
      "α     2.431214\n",
      "β    15.139824\n",
      "dtype: float64\n",
      "Waktu yang dibutuhkan :  1.36537793080012\n"
     ]
    }
   ],
   "source": [
    "def max_absolute_error(y_true, y_pred):\n",
    "    return np.max(np.abs(y_true - y_pred), axis=0)\n",
    "scaler = StandardScaler()\n",
    "\n",
    "# Base models (Level Pertama)\n",
    "base_models = [\n",
    "    ('random_forest', RandomForestRegressor(n_estimators=250, max_depth=None, random_state=42, min_samples_leaf= 1, min_samples_split= 2, max_features = 'sqrt')),\n",
    "    ('gradient_boosting', GradientBoostingRegressor(n_estimators=200, learning_rate=0.0579, random_state=42, max_depth = 5)),\n",
    "    ('knn', make_pipeline(StandardScaler(), KNeighborsRegressor(n_neighbors=2, weights='distance', algorithm='auto')))\n",
    "]\n",
    "\n",
    "# Meta-model (Level Kedua)\n",
    "# Menggunakan Ridge Regression sebagai meta-model untuk menghindari overfitting\n",
    "meta_model = Ridge(alpha=0.1)\n",
    "\n",
    "# Membentuk Stacking Regressor\n",
    "stacking_regressor = StackingRegressor(\n",
    "    estimators=base_models,\n",
    "    final_estimator=meta_model,\n",
    "    passthrough=True  # Memasukkan data asli ke meta-model bersama prediksi base models\n",
    ")\n",
    "\n",
    "# Untuk multi-output, kita bungkus dengan MultiOutputRegressor\n",
    "model_all_best = MultiOutputRegressor(stacking_regressor)\n",
    "start = time.time()\n",
    "# Training\n",
    "model_all_best.fit(x0_train, y0_train)\n",
    "end = time.time()\n",
    "waktu = (end-start)/60\n",
    "# Prediction\n",
    "y0_pred = model_all_best.predict(x0_test)\n",
    "r2 = r2_score(y0_test, y0_pred, multioutput = 'raw_values')\n",
    "mae = mean_absolute_error(y0_test, y0_pred, multioutput = 'raw_values')\n",
    "mse = mean_squared_error(y0_test, y0_pred, multioutput = 'raw_values')\n",
    "max_ae = max_absolute_error(y0_test, y0_pred)\n",
    "print(f'R2 : \\n Alpha : {r2[1]} \\n Beta : {r2[2]} \\n V : {r2[0]} ')\n",
    "print(f'MAE : \\n Alpha : {mae[1]} \\n Beta : {mae[2]} \\n V : {mae[0]} ')\n",
    "print(f'MSE : \\n Alpha : {mse[1]} \\n Beta : {mse[2]} \\n V : {mse[0]} ')\n",
    "print('Max AERR : \\n', max_ae)\n",
    "print(\"Waktu yang dibutuhkan : \", waktu)"
   ]
  },
  {
   "cell_type": "code",
   "execution_count": 182,
   "id": "eba99a63-7985-47ac-a78c-eaf7492ff87b",
   "metadata": {},
   "outputs": [
    {
     "name": "stdout",
     "output_type": "stream",
     "text": [
      "6721\n"
     ]
    }
   ],
   "source": [
    "y_pred_df = pd.DataFrame(y0_pred, columns = [\"V\",\"α\",\"β\"], index = y0_test.index)\n",
    "aerr = np.abs(y_pred_df - y0_test)\n",
    "index_max_aerr = aerr[\"β\"].idxmax()\n",
    "df_all_clean_29 = df_all_clean_28.drop(index = index_max_aerr)\n",
    "print(len(df_all_clean_29))"
   ]
  },
  {
   "cell_type": "markdown",
   "id": "dd7ae7b5-d1fd-4f4f-8746-587644ff4433",
   "metadata": {},
   "source": [
    "### AFTER REDUCE 29"
   ]
  },
  {
   "cell_type": "code",
   "execution_count": 183,
   "id": "832a698f-a976-48eb-879d-b82ae59b704d",
   "metadata": {},
   "outputs": [],
   "source": [
    "x_all = df_all_clean_29.drop(columns = [\"V\",\"α\",\"β\"])\n",
    "y_all = df_all_clean_29[[\"V\",\"α\",\"β\"]]\n",
    "\n",
    "x0_train, x0_test, y0_train, y0_test = train_test_split(x_all, y_all,\n",
    "                                                        random_state = 42, test_size = 0.2)"
   ]
  },
  {
   "cell_type": "code",
   "execution_count": 184,
   "id": "b603a0ff-9183-49c6-8d63-5c2ee83eba67",
   "metadata": {},
   "outputs": [
    {
     "name": "stdout",
     "output_type": "stream",
     "text": [
      "R2 : \n",
      " Alpha : 0.9999963515504724 \n",
      " Beta : 0.9801295761437189 \n",
      " V : 0.999999784887744 \n",
      "MAE : \n",
      " Alpha : 0.0028467968640199285 \n",
      " Beta : 0.5541131694556948 \n",
      " V : 0.0018435584239906789 \n",
      "MSE : \n",
      " Alpha : 0.004408927766961192 \n",
      " Beta : 2.0955554785039885 \n",
      " V : 4.469636422254106e-05 \n",
      "Max AERR : \n",
      " V     0.073177\n",
      "α     2.434725\n",
      "β    14.191435\n",
      "dtype: float64\n",
      "Waktu yang dibutuhkan :  1.3561073064804077\n"
     ]
    }
   ],
   "source": [
    "def max_absolute_error(y_true, y_pred):\n",
    "    return np.max(np.abs(y_true - y_pred), axis=0)\n",
    "scaler = StandardScaler()\n",
    "\n",
    "# Base models (Level Pertama)\n",
    "base_models = [\n",
    "    ('random_forest', RandomForestRegressor(n_estimators=250, max_depth=None, random_state=42, min_samples_leaf= 1, min_samples_split= 2, max_features = 'sqrt')),\n",
    "    ('gradient_boosting', GradientBoostingRegressor(n_estimators=200, learning_rate=0.0579, random_state=42, max_depth = 5)),\n",
    "    ('knn', make_pipeline(StandardScaler(), KNeighborsRegressor(n_neighbors=2, weights='distance', algorithm='auto')))\n",
    "]\n",
    "\n",
    "# Meta-model (Level Kedua)\n",
    "# Menggunakan Ridge Regression sebagai meta-model untuk menghindari overfitting\n",
    "meta_model = Ridge(alpha=0.1)\n",
    "\n",
    "# Membentuk Stacking Regressor\n",
    "stacking_regressor = StackingRegressor(\n",
    "    estimators=base_models,\n",
    "    final_estimator=meta_model,\n",
    "    passthrough=True  # Memasukkan data asli ke meta-model bersama prediksi base models\n",
    ")\n",
    "\n",
    "# Untuk multi-output, kita bungkus dengan MultiOutputRegressor\n",
    "model_all_best = MultiOutputRegressor(stacking_regressor)\n",
    "start = time.time()\n",
    "# Training\n",
    "model_all_best.fit(x0_train, y0_train)\n",
    "end = time.time()\n",
    "waktu = (end-start)/60\n",
    "# Prediction\n",
    "y0_pred = model_all_best.predict(x0_test)\n",
    "r2 = r2_score(y0_test, y0_pred, multioutput = 'raw_values')\n",
    "mae = mean_absolute_error(y0_test, y0_pred, multioutput = 'raw_values')\n",
    "mse = mean_squared_error(y0_test, y0_pred, multioutput = 'raw_values')\n",
    "max_ae = max_absolute_error(y0_test, y0_pred)\n",
    "print(f'R2 : \\n Alpha : {r2[1]} \\n Beta : {r2[2]} \\n V : {r2[0]} ')\n",
    "print(f'MAE : \\n Alpha : {mae[1]} \\n Beta : {mae[2]} \\n V : {mae[0]} ')\n",
    "print(f'MSE : \\n Alpha : {mse[1]} \\n Beta : {mse[2]} \\n V : {mse[0]} ')\n",
    "print('Max AERR : \\n', max_ae)\n",
    "print(\"Waktu yang dibutuhkan : \", waktu)"
   ]
  },
  {
   "cell_type": "code",
   "execution_count": 185,
   "id": "d2decc95-1f06-4bb0-aa70-6d10da0f58ca",
   "metadata": {},
   "outputs": [
    {
     "name": "stdout",
     "output_type": "stream",
     "text": [
      "6720\n"
     ]
    }
   ],
   "source": [
    "y_pred_df = pd.DataFrame(y0_pred, columns = [\"V\",\"α\",\"β\"], index = y0_test.index)\n",
    "aerr = np.abs(y_pred_df - y0_test)\n",
    "index_max_aerr = aerr[\"β\"].idxmax()\n",
    "df_all_clean_30 = df_all_clean_29.drop(index = index_max_aerr)\n",
    "print(len(df_all_clean_30))"
   ]
  },
  {
   "cell_type": "markdown",
   "id": "4a7c5412-8a20-4491-ad9b-baba095daca6",
   "metadata": {},
   "source": [
    "### AFTER REDUCE 30"
   ]
  },
  {
   "cell_type": "code",
   "execution_count": 186,
   "id": "8df70109-4a46-4578-9504-6a63b74c9fa3",
   "metadata": {},
   "outputs": [],
   "source": [
    "x_all = df_all_clean_30.drop(columns = [\"V\",\"α\",\"β\"])\n",
    "y_all = df_all_clean_30[[\"V\",\"α\",\"β\"]]\n",
    "\n",
    "x0_train, x0_test, y0_train, y0_test = train_test_split(x_all, y_all,\n",
    "                                                        random_state = 42, test_size = 0.2)"
   ]
  },
  {
   "cell_type": "code",
   "execution_count": 187,
   "id": "89795c9f-a81d-4753-bf77-f2666f35d199",
   "metadata": {},
   "outputs": [
    {
     "name": "stdout",
     "output_type": "stream",
     "text": [
      "R2 : \n",
      " Alpha : 0.9999962775768265 \n",
      " Beta : 0.9824361961614455 \n",
      " V : 0.9999997969628064 \n",
      "MAE : \n",
      " Alpha : 0.0025968493450755775 \n",
      " Beta : 0.5302875295104735 \n",
      " V : 0.001656562981409984 \n",
      "MSE : \n",
      " Alpha : 0.004390817527754494 \n",
      " Beta : 1.783030394462947 \n",
      " V : 4.168660371969786e-05 \n",
      "Max AERR : \n",
      " V     0.073747\n",
      "α     2.428958\n",
      "β    10.926601\n",
      "dtype: float64\n",
      "Waktu yang dibutuhkan :  1.355182957649231\n"
     ]
    }
   ],
   "source": [
    "def max_absolute_error(y_true, y_pred):\n",
    "    return np.max(np.abs(y_true - y_pred), axis=0)\n",
    "scaler = StandardScaler()\n",
    "\n",
    "# Base models (Level Pertama)\n",
    "base_models = [\n",
    "    ('random_forest', RandomForestRegressor(n_estimators=250, max_depth=None, random_state=42, min_samples_leaf= 1, min_samples_split= 2, max_features = 'sqrt')),\n",
    "    ('gradient_boosting', GradientBoostingRegressor(n_estimators=200, learning_rate=0.0579, random_state=42, max_depth = 5)),\n",
    "    ('knn', make_pipeline(StandardScaler(), KNeighborsRegressor(n_neighbors=2, weights='distance', algorithm='auto')))\n",
    "]\n",
    "\n",
    "# Meta-model (Level Kedua)\n",
    "# Menggunakan Ridge Regression sebagai meta-model untuk menghindari overfitting\n",
    "meta_model = Ridge(alpha=0.1)\n",
    "\n",
    "# Membentuk Stacking Regressor\n",
    "stacking_regressor = StackingRegressor(\n",
    "    estimators=base_models,\n",
    "    final_estimator=meta_model,\n",
    "    passthrough=True  # Memasukkan data asli ke meta-model bersama prediksi base models\n",
    ")\n",
    "\n",
    "# Untuk multi-output, kita bungkus dengan MultiOutputRegressor\n",
    "model_all_best = MultiOutputRegressor(stacking_regressor)\n",
    "start = time.time()\n",
    "# Training\n",
    "model_all_best.fit(x0_train, y0_train)\n",
    "end = time.time()\n",
    "waktu = (end-start)/60\n",
    "# Prediction\n",
    "y0_pred = model_all_best.predict(x0_test)\n",
    "r2 = r2_score(y0_test, y0_pred, multioutput = 'raw_values')\n",
    "mae = mean_absolute_error(y0_test, y0_pred, multioutput = 'raw_values')\n",
    "mse = mean_squared_error(y0_test, y0_pred, multioutput = 'raw_values')\n",
    "max_ae = max_absolute_error(y0_test, y0_pred)\n",
    "print(f'R2 : \\n Alpha : {r2[1]} \\n Beta : {r2[2]} \\n V : {r2[0]} ')\n",
    "print(f'MAE : \\n Alpha : {mae[1]} \\n Beta : {mae[2]} \\n V : {mae[0]} ')\n",
    "print(f'MSE : \\n Alpha : {mse[1]} \\n Beta : {mse[2]} \\n V : {mse[0]} ')\n",
    "print('Max AERR : \\n', max_ae)\n",
    "print(\"Waktu yang dibutuhkan : \", waktu)"
   ]
  },
  {
   "cell_type": "code",
   "execution_count": 188,
   "id": "12053f6e-052a-42d4-ab3c-686220565e03",
   "metadata": {},
   "outputs": [
    {
     "name": "stdout",
     "output_type": "stream",
     "text": [
      "6719\n"
     ]
    }
   ],
   "source": [
    "y_pred_df = pd.DataFrame(y0_pred, columns = [\"V\",\"α\",\"β\"], index = y0_test.index)\n",
    "aerr = np.abs(y_pred_df - y0_test)\n",
    "index_max_aerr = aerr[\"β\"].idxmax()\n",
    "df_all_clean_31 = df_all_clean_30.drop(index = index_max_aerr)\n",
    "print(len(df_all_clean_31))"
   ]
  },
  {
   "cell_type": "markdown",
   "id": "d9626fe9-f576-4b7f-84b8-cd567cac1420",
   "metadata": {},
   "source": [
    "### AFTER REDUCE 31"
   ]
  },
  {
   "cell_type": "code",
   "execution_count": 189,
   "id": "088b45b2-69ed-43fe-96dc-6741116b118b",
   "metadata": {},
   "outputs": [],
   "source": [
    "x_all = df_all_clean_31.drop(columns = [\"V\",\"α\",\"β\"])\n",
    "y_all = df_all_clean_31[[\"V\",\"α\",\"β\"]]\n",
    "\n",
    "x0_train, x0_test, y0_train, y0_test = train_test_split(x_all, y_all,\n",
    "                                                        random_state = 42, test_size = 0.2)"
   ]
  },
  {
   "cell_type": "code",
   "execution_count": 190,
   "id": "68c64f67-3758-4458-86ad-b767d72bf77b",
   "metadata": {},
   "outputs": [
    {
     "name": "stdout",
     "output_type": "stream",
     "text": [
      "R2 : \n",
      " Alpha : 0.9999999983520422 \n",
      " Beta : 0.9821740416561541 \n",
      " V : 0.9999997401265426 \n",
      "MAE : \n",
      " Alpha : 0.0009821838769820115 \n",
      " Beta : 0.5054334293470013 \n",
      " V : 0.0017240360487223109 \n",
      "MSE : \n",
      " Alpha : 1.95059676282716e-06 \n",
      " Beta : 1.8116447186076778 \n",
      " V : 5.302763606304846e-05 \n",
      "Max AERR : \n",
      " V     0.094025\n",
      "α     0.010635\n",
      "β    11.065227\n",
      "dtype: float64\n",
      "Waktu yang dibutuhkan :  1.3774171471595764\n"
     ]
    }
   ],
   "source": [
    "def max_absolute_error(y_true, y_pred):\n",
    "    return np.max(np.abs(y_true - y_pred), axis=0)\n",
    "scaler = StandardScaler()\n",
    "\n",
    "# Base models (Level Pertama)\n",
    "base_models = [\n",
    "    ('random_forest', RandomForestRegressor(n_estimators=250, max_depth=None, random_state=42, min_samples_leaf= 1, min_samples_split= 2, max_features = 'sqrt')),\n",
    "    ('gradient_boosting', GradientBoostingRegressor(n_estimators=200, learning_rate=0.0579, random_state=42, max_depth = 5)),\n",
    "    ('knn', make_pipeline(StandardScaler(), KNeighborsRegressor(n_neighbors=2, weights='distance', algorithm='auto')))\n",
    "]\n",
    "\n",
    "# Meta-model (Level Kedua)\n",
    "# Menggunakan Ridge Regression sebagai meta-model untuk menghindari overfitting\n",
    "meta_model = Ridge(alpha=0.1)\n",
    "\n",
    "# Membentuk Stacking Regressor\n",
    "stacking_regressor = StackingRegressor(\n",
    "    estimators=base_models,\n",
    "    final_estimator=meta_model,\n",
    "    passthrough=True  # Memasukkan data asli ke meta-model bersama prediksi base models\n",
    ")\n",
    "\n",
    "# Untuk multi-output, kita bungkus dengan MultiOutputRegressor\n",
    "model_all_best = MultiOutputRegressor(stacking_regressor)\n",
    "start = time.time()\n",
    "# Training\n",
    "model_all_best.fit(x0_train, y0_train)\n",
    "end = time.time()\n",
    "waktu = (end-start)/60\n",
    "# Prediction\n",
    "y0_pred = model_all_best.predict(x0_test)\n",
    "r2 = r2_score(y0_test, y0_pred, multioutput = 'raw_values')\n",
    "mae = mean_absolute_error(y0_test, y0_pred, multioutput = 'raw_values')\n",
    "mse = mean_squared_error(y0_test, y0_pred, multioutput = 'raw_values')\n",
    "max_ae = max_absolute_error(y0_test, y0_pred)\n",
    "print(f'R2 : \\n Alpha : {r2[1]} \\n Beta : {r2[2]} \\n V : {r2[0]} ')\n",
    "print(f'MAE : \\n Alpha : {mae[1]} \\n Beta : {mae[2]} \\n V : {mae[0]} ')\n",
    "print(f'MSE : \\n Alpha : {mse[1]} \\n Beta : {mse[2]} \\n V : {mse[0]} ')\n",
    "print('Max AERR : \\n', max_ae)\n",
    "print(\"Waktu yang dibutuhkan : \", waktu)"
   ]
  },
  {
   "cell_type": "code",
   "execution_count": 191,
   "id": "d520d528-4a03-4c5b-9ff8-4ec5a5d2c98d",
   "metadata": {},
   "outputs": [],
   "source": [
    "df_all_clean_31.to_csv('data_clean_reduce_31.csv', index = False)"
   ]
  },
  {
   "cell_type": "code",
   "execution_count": 192,
   "id": "f3d95912-5292-457f-a6d1-aab7d39b2dd9",
   "metadata": {},
   "outputs": [
    {
     "name": "stdout",
     "output_type": "stream",
     "text": [
      "6718\n"
     ]
    }
   ],
   "source": [
    "y_pred_df = pd.DataFrame(y0_pred, columns = [\"V\",\"α\",\"β\"], index = y0_test.index)\n",
    "aerr = np.abs(y_pred_df - y0_test)\n",
    "index_max_aerr = aerr[\"β\"].idxmax()\n",
    "df_all_clean_32 = df_all_clean_31.drop(index = index_max_aerr)\n",
    "print(len(df_all_clean_32))"
   ]
  },
  {
   "cell_type": "markdown",
   "id": "f9911006-fc2d-4c86-8d6c-696abd4aaae8",
   "metadata": {},
   "source": [
    "### AFTER REDUCE 32"
   ]
  },
  {
   "cell_type": "code",
   "execution_count": 193,
   "id": "20cd51ca-6676-4f9d-ba86-425a882e4683",
   "metadata": {},
   "outputs": [],
   "source": [
    "x_all = df_all_clean_32.drop(columns = [\"V\",\"α\",\"β\"])\n",
    "y_all = df_all_clean_32[[\"V\",\"α\",\"β\"]]\n",
    "\n",
    "x0_train, x0_test, y0_train, y0_test = train_test_split(x_all, y_all,\n",
    "                                                        random_state = 42, test_size = 0.2)"
   ]
  },
  {
   "cell_type": "code",
   "execution_count": 194,
   "id": "8ccc134d-ff3f-476c-9742-cfead85e23ae",
   "metadata": {},
   "outputs": [
    {
     "name": "stdout",
     "output_type": "stream",
     "text": [
      "R2 : \n",
      " Alpha : 0.999999946255749 \n",
      " Beta : 0.9818899483589979 \n",
      " V : 0.999999714457658 \n",
      "MAE : \n",
      " Alpha : 0.004430387583547715 \n",
      " Beta : 0.5357609311513397 \n",
      " V : 0.001726130515999931 \n",
      "MSE : \n",
      " Alpha : 6.52715867004371e-05 \n",
      " Beta : 1.943000476644283 \n",
      " V : 5.713902209270185e-05 \n",
      "Max AERR : \n",
      " V     0.113486\n",
      "α     0.091069\n",
      "β    10.659953\n",
      "dtype: float64\n",
      "Waktu yang dibutuhkan :  1.3678235014279683\n"
     ]
    }
   ],
   "source": [
    "def max_absolute_error(y_true, y_pred):\n",
    "    return np.max(np.abs(y_true - y_pred), axis=0)\n",
    "scaler = StandardScaler()\n",
    "\n",
    "# Base models (Level Pertama)\n",
    "base_models = [\n",
    "    ('random_forest', RandomForestRegressor(n_estimators=250, max_depth=None, random_state=42, min_samples_leaf= 1, min_samples_split= 2, max_features = 'sqrt')),\n",
    "    ('gradient_boosting', GradientBoostingRegressor(n_estimators=200, learning_rate=0.0579, random_state=42, max_depth = 5)),\n",
    "    ('knn', make_pipeline(StandardScaler(), KNeighborsRegressor(n_neighbors=2, weights='distance', algorithm='auto')))\n",
    "]\n",
    "\n",
    "# Meta-model (Level Kedua)\n",
    "# Menggunakan Ridge Regression sebagai meta-model untuk menghindari overfitting\n",
    "meta_model = Ridge(alpha=0.1)\n",
    "\n",
    "# Membentuk Stacking Regressor\n",
    "stacking_regressor = StackingRegressor(\n",
    "    estimators=base_models,\n",
    "    final_estimator=meta_model,\n",
    "    passthrough=True  # Memasukkan data asli ke meta-model bersama prediksi base models\n",
    ")\n",
    "\n",
    "# Untuk multi-output, kita bungkus dengan MultiOutputRegressor\n",
    "model_all_best = MultiOutputRegressor(stacking_regressor)\n",
    "start = time.time()\n",
    "# Training\n",
    "model_all_best.fit(x0_train, y0_train)\n",
    "end = time.time()\n",
    "waktu = (end-start)/60\n",
    "# Prediction\n",
    "y0_pred = model_all_best.predict(x0_test)\n",
    "r2 = r2_score(y0_test, y0_pred, multioutput = 'raw_values')\n",
    "mae = mean_absolute_error(y0_test, y0_pred, multioutput = 'raw_values')\n",
    "mse = mean_squared_error(y0_test, y0_pred, multioutput = 'raw_values')\n",
    "max_ae = max_absolute_error(y0_test, y0_pred)\n",
    "print(f'R2 : \\n Alpha : {r2[1]} \\n Beta : {r2[2]} \\n V : {r2[0]} ')\n",
    "print(f'MAE : \\n Alpha : {mae[1]} \\n Beta : {mae[2]} \\n V : {mae[0]} ')\n",
    "print(f'MSE : \\n Alpha : {mse[1]} \\n Beta : {mse[2]} \\n V : {mse[0]} ')\n",
    "print('Max AERR : \\n', max_ae)\n",
    "print(\"Waktu yang dibutuhkan : \", waktu)"
   ]
  },
  {
   "cell_type": "code",
   "execution_count": 195,
   "id": "beaebe86-ca9e-4565-9ece-22c4aff7a951",
   "metadata": {},
   "outputs": [],
   "source": [
    "df_all_clean_32.to_csv('data_clean_reduce_32.csv', index = False)"
   ]
  },
  {
   "cell_type": "code",
   "execution_count": 196,
   "id": "ab94b7c9-ed70-49d2-8c0f-601b77bf90ee",
   "metadata": {},
   "outputs": [
    {
     "name": "stdout",
     "output_type": "stream",
     "text": [
      "6717\n"
     ]
    }
   ],
   "source": [
    "y_pred_df = pd.DataFrame(y0_pred, columns = [\"V\",\"α\",\"β\"], index = y0_test.index)\n",
    "aerr = np.abs(y_pred_df - y0_test)\n",
    "index_max_aerr = aerr[\"β\"].idxmax()\n",
    "df_all_clean_33 = df_all_clean_32.drop(index = index_max_aerr)\n",
    "print(len(df_all_clean_33))"
   ]
  },
  {
   "cell_type": "markdown",
   "id": "06aa61d5-6e4f-4502-be67-c82d23bf6994",
   "metadata": {},
   "source": [
    "### AFTER REDUCE 33"
   ]
  },
  {
   "cell_type": "code",
   "execution_count": 197,
   "id": "5bff4af6-0746-4dc6-a5b1-f6f84f2e05d7",
   "metadata": {},
   "outputs": [],
   "source": [
    "x_all = df_all_clean_33.drop(columns = [\"V\",\"α\",\"β\"])\n",
    "y_all = df_all_clean_33[[\"V\",\"α\",\"β\"]]\n",
    "\n",
    "x0_train, x0_test, y0_train, y0_test = train_test_split(x_all, y_all,\n",
    "                                                        random_state = 42, test_size = 0.2)"
   ]
  },
  {
   "cell_type": "code",
   "execution_count": 198,
   "id": "7e07e1f1-7323-4445-bd95-6a3fe5852d82",
   "metadata": {},
   "outputs": [
    {
     "name": "stdout",
     "output_type": "stream",
     "text": [
      "R2 : \n",
      " Alpha : 0.9999999929117883 \n",
      " Beta : 0.9836774460980304 \n",
      " V : 0.9999997399137506 \n",
      "MAE : \n",
      " Alpha : 0.0017313113033964084 \n",
      " Beta : 0.5190037787815875 \n",
      " V : 0.001635930557904389 \n",
      "MSE : \n",
      " Alpha : 8.341195428914437e-06 \n",
      " Beta : 1.6895056318470818 \n",
      " V : 5.365811557680454e-05 \n",
      "Max AERR : \n",
      " V     0.113560\n",
      "α     0.030117\n",
      "β    10.509367\n",
      "dtype: float64\n",
      "Waktu yang dibutuhkan :  1.365911638736725\n"
     ]
    }
   ],
   "source": [
    "def max_absolute_error(y_true, y_pred):\n",
    "    return np.max(np.abs(y_true - y_pred), axis=0)\n",
    "scaler = StandardScaler()\n",
    "\n",
    "# Base models (Level Pertama)\n",
    "base_models = [\n",
    "    ('random_forest', RandomForestRegressor(n_estimators=250, max_depth=None, random_state=42, min_samples_leaf= 1, min_samples_split= 2, max_features = 'sqrt')),\n",
    "    ('gradient_boosting', GradientBoostingRegressor(n_estimators=200, learning_rate=0.0579, random_state=42, max_depth = 5)),\n",
    "    ('knn', make_pipeline(StandardScaler(), KNeighborsRegressor(n_neighbors=2, weights='distance', algorithm='auto')))\n",
    "]\n",
    "\n",
    "# Meta-model (Level Kedua)\n",
    "# Menggunakan Ridge Regression sebagai meta-model untuk menghindari overfitting\n",
    "meta_model = Ridge(alpha=0.1)\n",
    "\n",
    "# Membentuk Stacking Regressor\n",
    "stacking_regressor = StackingRegressor(\n",
    "    estimators=base_models,\n",
    "    final_estimator=meta_model,\n",
    "    passthrough=True  # Memasukkan data asli ke meta-model bersama prediksi base models\n",
    ")\n",
    "\n",
    "# Untuk multi-output, kita bungkus dengan MultiOutputRegressor\n",
    "model_all_best = MultiOutputRegressor(stacking_regressor)\n",
    "start = time.time()\n",
    "# Training\n",
    "model_all_best.fit(x0_train, y0_train)\n",
    "end = time.time()\n",
    "waktu = (end-start)/60\n",
    "# Prediction\n",
    "y0_pred = model_all_best.predict(x0_test)\n",
    "r2 = r2_score(y0_test, y0_pred, multioutput = 'raw_values')\n",
    "mae = mean_absolute_error(y0_test, y0_pred, multioutput = 'raw_values')\n",
    "mse = mean_squared_error(y0_test, y0_pred, multioutput = 'raw_values')\n",
    "max_ae = max_absolute_error(y0_test, y0_pred)\n",
    "print(f'R2 : \\n Alpha : {r2[1]} \\n Beta : {r2[2]} \\n V : {r2[0]} ')\n",
    "print(f'MAE : \\n Alpha : {mae[1]} \\n Beta : {mae[2]} \\n V : {mae[0]} ')\n",
    "print(f'MSE : \\n Alpha : {mse[1]} \\n Beta : {mse[2]} \\n V : {mse[0]} ')\n",
    "print('Max AERR : \\n', max_ae)\n",
    "print(\"Waktu yang dibutuhkan : \", waktu)"
   ]
  },
  {
   "cell_type": "code",
   "execution_count": 199,
   "id": "2df5b41d-d779-46df-90fd-549a4ebd212b",
   "metadata": {},
   "outputs": [],
   "source": [
    "df_all_clean_33.to_csv('data_clean_reduce_33.csv', index = False)"
   ]
  },
  {
   "cell_type": "code",
   "execution_count": 200,
   "id": "041149e8-11f6-42db-86ba-140f7c7f8992",
   "metadata": {},
   "outputs": [
    {
     "name": "stdout",
     "output_type": "stream",
     "text": [
      "6716\n"
     ]
    }
   ],
   "source": [
    "y_pred_df = pd.DataFrame(y0_pred, columns = [\"V\",\"α\",\"β\"], index = y0_test.index)\n",
    "aerr = np.abs(y_pred_df - y0_test)\n",
    "index_max_aerr = aerr[\"β\"].idxmax()\n",
    "df_all_clean_34 = df_all_clean_33.drop(index = index_max_aerr)\n",
    "print(len(df_all_clean_34))"
   ]
  },
  {
   "cell_type": "markdown",
   "id": "71b85868-6d27-44e7-a52a-69d079f1b240",
   "metadata": {},
   "source": [
    "### AFTER REDUCE 34"
   ]
  },
  {
   "cell_type": "code",
   "execution_count": 203,
   "id": "bfc982ad-87e1-4db0-ab55-ee1fd5e17a12",
   "metadata": {},
   "outputs": [],
   "source": [
    "x_all = df_all_clean_34.drop(columns = [\"V\",\"α\",\"β\"])\n",
    "y_all = df_all_clean_34[[\"V\",\"α\",\"β\"]]\n",
    "\n",
    "x0_train, x0_test, y0_train, y0_test = train_test_split(x_all, y_all,\n",
    "                                                        random_state = 42, test_size = 0.2)"
   ]
  },
  {
   "cell_type": "code",
   "execution_count": 204,
   "id": "2ce45d84-a860-443a-bc65-c88479f8ec57",
   "metadata": {},
   "outputs": [
    {
     "name": "stdout",
     "output_type": "stream",
     "text": [
      "R2 : \n",
      " Alpha : 0.999999967951214 \n",
      " Beta : 0.9839449718066261 \n",
      " V : 0.9999997072170849 \n",
      "MAE : \n",
      " Alpha : 0.0028275639217598385 \n",
      " Beta : 0.5067271176626417 \n",
      " V : 0.0017830715074620947 \n",
      "MSE : \n",
      " Alpha : 3.715496043799592e-05 \n",
      " Beta : 1.5626973746253983 \n",
      " V : 6.07299782750542e-05 \n",
      "Max AERR : \n",
      " V    0.128524\n",
      "α    0.060884\n",
      "β    9.483374\n",
      "dtype: float64\n",
      "Waktu yang dibutuhkan :  1.368223778406779\n"
     ]
    }
   ],
   "source": [
    "def max_absolute_error(y_true, y_pred):\n",
    "    return np.max(np.abs(y_true - y_pred), axis=0)\n",
    "scaler = StandardScaler()\n",
    "\n",
    "# Base models (Level Pertama)\n",
    "base_models = [\n",
    "    ('random_forest', RandomForestRegressor(n_estimators=250, max_depth=None, random_state=42, min_samples_leaf= 1, min_samples_split= 2, max_features = 'sqrt')),\n",
    "    ('gradient_boosting', GradientBoostingRegressor(n_estimators=200, learning_rate=0.0579, random_state=42, max_depth = 5)),\n",
    "    ('knn', make_pipeline(StandardScaler(), KNeighborsRegressor(n_neighbors=2, weights='distance', algorithm='auto')))\n",
    "]\n",
    "\n",
    "# Meta-model (Level Kedua)\n",
    "# Menggunakan Ridge Regression sebagai meta-model untuk menghindari overfitting\n",
    "meta_model = Ridge(alpha=0.1)\n",
    "\n",
    "# Membentuk Stacking Regressor\n",
    "stacking_regressor = StackingRegressor(\n",
    "    estimators=base_models,\n",
    "    final_estimator=meta_model,\n",
    "    passthrough=True  # Memasukkan data asli ke meta-model bersama prediksi base models\n",
    ")\n",
    "\n",
    "# Untuk multi-output, kita bungkus dengan MultiOutputRegressor\n",
    "model_all_best = MultiOutputRegressor(stacking_regressor)\n",
    "start = time.time()\n",
    "# Training\n",
    "model_all_best.fit(x0_train, y0_train)\n",
    "end = time.time()\n",
    "waktu = (end-start)/60\n",
    "# Prediction\n",
    "y0_pred = model_all_best.predict(x0_test)\n",
    "r2 = r2_score(y0_test, y0_pred, multioutput = 'raw_values')\n",
    "mae = mean_absolute_error(y0_test, y0_pred, multioutput = 'raw_values')\n",
    "mse = mean_squared_error(y0_test, y0_pred, multioutput = 'raw_values')\n",
    "max_ae = max_absolute_error(y0_test, y0_pred)\n",
    "print(f'R2 : \\n Alpha : {r2[1]} \\n Beta : {r2[2]} \\n V : {r2[0]} ')\n",
    "print(f'MAE : \\n Alpha : {mae[1]} \\n Beta : {mae[2]} \\n V : {mae[0]} ')\n",
    "print(f'MSE : \\n Alpha : {mse[1]} \\n Beta : {mse[2]} \\n V : {mse[0]} ')\n",
    "print('Max AERR : \\n', max_ae)\n",
    "print(\"Waktu yang dibutuhkan : \", waktu)"
   ]
  },
  {
   "cell_type": "code",
   "execution_count": 205,
   "id": "ac064fea-9151-4737-970a-293d109423f4",
   "metadata": {},
   "outputs": [],
   "source": [
    "df_all_clean_34.to_csv('data_clean_reduce_34.csv', index = False)"
   ]
  },
  {
   "cell_type": "code",
   "execution_count": 206,
   "id": "3ad72b70-8080-44f2-b849-dce11fedbeff",
   "metadata": {},
   "outputs": [
    {
     "name": "stdout",
     "output_type": "stream",
     "text": [
      "6715\n"
     ]
    }
   ],
   "source": [
    "y_pred_df = pd.DataFrame(y0_pred, columns = [\"V\",\"α\",\"β\"], index = y0_test.index)\n",
    "aerr = np.abs(y_pred_df - y0_test)\n",
    "index_max_aerr = aerr[\"β\"].idxmax()\n",
    "df_all_clean_35 = df_all_clean_34.drop(index = index_max_aerr)\n",
    "print(len(df_all_clean_35))"
   ]
  },
  {
   "cell_type": "markdown",
   "id": "e2b734cf-37ed-4d51-a8fd-cd8583cea119",
   "metadata": {},
   "source": [
    "### AFTER REDUCE 35"
   ]
  },
  {
   "cell_type": "code",
   "execution_count": 207,
   "id": "d2c02838-48f4-44c5-9dbd-020ab89aa366",
   "metadata": {},
   "outputs": [],
   "source": [
    "x_all = df_all_clean_35.drop(columns = [\"V\",\"α\",\"β\"])\n",
    "y_all = df_all_clean_35[[\"V\",\"α\",\"β\"]]\n",
    "\n",
    "x0_train, x0_test, y0_train, y0_test = train_test_split(x_all, y_all,\n",
    "                                                        random_state = 42, test_size = 0.2)"
   ]
  },
  {
   "cell_type": "code",
   "execution_count": 208,
   "id": "3c504c1a-bf26-456d-bb38-3546a90f7a92",
   "metadata": {},
   "outputs": [
    {
     "name": "stdout",
     "output_type": "stream",
     "text": [
      "R2 : \n",
      " Alpha : 0.9999963811846405 \n",
      " Beta : 0.979997937921091 \n",
      " V : 0.9999996906442364 \n",
      "MAE : \n",
      " Alpha : 0.0032987120161919624 \n",
      " Beta : 0.5397355993074466 \n",
      " V : 0.0018915450311776578 \n",
      "MSE : \n",
      " Alpha : 0.0043721918801555675 \n",
      " Beta : 2.0810412433121317 \n",
      " V : 6.27023159833394e-05 \n",
      "Max AERR : \n",
      " V     0.081074\n",
      "α     2.421975\n",
      "β    10.652562\n",
      "dtype: float64\n",
      "Waktu yang dibutuhkan :  1.375903884569804\n"
     ]
    }
   ],
   "source": [
    "def max_absolute_error(y_true, y_pred):\n",
    "    return np.max(np.abs(y_true - y_pred), axis=0)\n",
    "scaler = StandardScaler()\n",
    "\n",
    "# Base models (Level Pertama)\n",
    "base_models = [\n",
    "    ('random_forest', RandomForestRegressor(n_estimators=250, max_depth=None, random_state=42, min_samples_leaf= 1, min_samples_split= 2, max_features = 'sqrt')),\n",
    "    ('gradient_boosting', GradientBoostingRegressor(n_estimators=200, learning_rate=0.0579, random_state=42, max_depth = 5)),\n",
    "    ('knn', make_pipeline(StandardScaler(), KNeighborsRegressor(n_neighbors=2, weights='distance', algorithm='auto')))\n",
    "]\n",
    "\n",
    "# Meta-model (Level Kedua)\n",
    "# Menggunakan Ridge Regression sebagai meta-model untuk menghindari overfitting\n",
    "meta_model = Ridge(alpha=0.1)\n",
    "\n",
    "# Membentuk Stacking Regressor\n",
    "stacking_regressor = StackingRegressor(\n",
    "    estimators=base_models,\n",
    "    final_estimator=meta_model,\n",
    "    passthrough=True  # Memasukkan data asli ke meta-model bersama prediksi base models\n",
    ")\n",
    "\n",
    "# Untuk multi-output, kita bungkus dengan MultiOutputRegressor\n",
    "model_all_best = MultiOutputRegressor(stacking_regressor)\n",
    "start = time.time()\n",
    "# Training\n",
    "model_all_best.fit(x0_train, y0_train)\n",
    "end = time.time()\n",
    "waktu = (end-start)/60\n",
    "# Prediction\n",
    "y0_pred = model_all_best.predict(x0_test)\n",
    "r2 = r2_score(y0_test, y0_pred, multioutput = 'raw_values')\n",
    "mae = mean_absolute_error(y0_test, y0_pred, multioutput = 'raw_values')\n",
    "mse = mean_squared_error(y0_test, y0_pred, multioutput = 'raw_values')\n",
    "max_ae = max_absolute_error(y0_test, y0_pred)\n",
    "print(f'R2 : \\n Alpha : {r2[1]} \\n Beta : {r2[2]} \\n V : {r2[0]} ')\n",
    "print(f'MAE : \\n Alpha : {mae[1]} \\n Beta : {mae[2]} \\n V : {mae[0]} ')\n",
    "print(f'MSE : \\n Alpha : {mse[1]} \\n Beta : {mse[2]} \\n V : {mse[0]} ')\n",
    "print('Max AERR : \\n', max_ae)\n",
    "print(\"Waktu yang dibutuhkan : \", waktu)"
   ]
  },
  {
   "cell_type": "code",
   "execution_count": 209,
   "id": "b189ca4c-fb12-4ceb-beff-482fe45425b4",
   "metadata": {},
   "outputs": [
    {
     "name": "stdout",
     "output_type": "stream",
     "text": [
      "6714\n"
     ]
    }
   ],
   "source": [
    "y_pred_df = pd.DataFrame(y0_pred, columns = [\"V\",\"α\",\"β\"], index = y0_test.index)\n",
    "aerr = np.abs(y_pred_df - y0_test)\n",
    "index_max_aerr = aerr[\"β\"].idxmax()\n",
    "df_all_clean_36 = df_all_clean_35.drop(index = index_max_aerr)\n",
    "print(len(df_all_clean_36))"
   ]
  },
  {
   "cell_type": "markdown",
   "id": "303a1240-866f-41ae-8dfd-5d398728cdc8",
   "metadata": {},
   "source": [
    "### AFTER REDUCE 36"
   ]
  },
  {
   "cell_type": "code",
   "execution_count": 210,
   "id": "88b3f948-337c-41c6-9473-3cd8a07742a8",
   "metadata": {},
   "outputs": [],
   "source": [
    "x_all = df_all_clean_36.drop(columns = [\"V\",\"α\",\"β\"])\n",
    "y_all = df_all_clean_36[[\"V\",\"α\",\"β\"]]\n",
    "\n",
    "x0_train, x0_test, y0_train, y0_test = train_test_split(x_all, y_all,\n",
    "                                                        random_state = 42, test_size = 0.2)"
   ]
  },
  {
   "cell_type": "code",
   "execution_count": 211,
   "id": "a3549ae5-77b4-4dfb-bb65-6fac9afc4552",
   "metadata": {},
   "outputs": [
    {
     "name": "stdout",
     "output_type": "stream",
     "text": [
      "R2 : \n",
      " Alpha : 0.9999963617144283 \n",
      " Beta : 0.9792662900848885 \n",
      " V : 0.9999996807612582 \n",
      "MAE : \n",
      " Alpha : 0.003061684337770895 \n",
      " Beta : 0.5579853036871215 \n",
      " V : 0.0019455808560675427 \n",
      "MSE : \n",
      " Alpha : 0.004366180612444585 \n",
      " Beta : 2.163285323805582 \n",
      " V : 6.509332172252092e-05 \n",
      "Max AERR : \n",
      " V    0.081068\n",
      "α    2.420607\n",
      "β    9.210934\n",
      "dtype: float64\n",
      "Waktu yang dibutuhkan :  1.372768497467041\n"
     ]
    }
   ],
   "source": [
    "def max_absolute_error(y_true, y_pred):\n",
    "    return np.max(np.abs(y_true - y_pred), axis=0)\n",
    "scaler = StandardScaler()\n",
    "\n",
    "# Base models (Level Pertama)\n",
    "base_models = [\n",
    "    ('random_forest', RandomForestRegressor(n_estimators=250, max_depth=None, random_state=42, min_samples_leaf= 1, min_samples_split= 2, max_features = 'sqrt')),\n",
    "    ('gradient_boosting', GradientBoostingRegressor(n_estimators=200, learning_rate=0.0579, random_state=42, max_depth = 5)),\n",
    "    ('knn', make_pipeline(StandardScaler(), KNeighborsRegressor(n_neighbors=2, weights='distance', algorithm='auto')))\n",
    "]\n",
    "\n",
    "# Meta-model (Level Kedua)\n",
    "# Menggunakan Ridge Regression sebagai meta-model untuk menghindari overfitting\n",
    "meta_model = Ridge(alpha=0.1)\n",
    "\n",
    "# Membentuk Stacking Regressor\n",
    "stacking_regressor = StackingRegressor(\n",
    "    estimators=base_models,\n",
    "    final_estimator=meta_model,\n",
    "    passthrough=True  # Memasukkan data asli ke meta-model bersama prediksi base models\n",
    ")\n",
    "\n",
    "# Untuk multi-output, kita bungkus dengan MultiOutputRegressor\n",
    "model_all_best = MultiOutputRegressor(stacking_regressor)\n",
    "start = time.time()\n",
    "# Training\n",
    "model_all_best.fit(x0_train, y0_train)\n",
    "end = time.time()\n",
    "waktu = (end-start)/60\n",
    "# Prediction\n",
    "y0_pred = model_all_best.predict(x0_test)\n",
    "r2 = r2_score(y0_test, y0_pred, multioutput = 'raw_values')\n",
    "mae = mean_absolute_error(y0_test, y0_pred, multioutput = 'raw_values')\n",
    "mse = mean_squared_error(y0_test, y0_pred, multioutput = 'raw_values')\n",
    "max_ae = max_absolute_error(y0_test, y0_pred)\n",
    "print(f'R2 : \\n Alpha : {r2[1]} \\n Beta : {r2[2]} \\n V : {r2[0]} ')\n",
    "print(f'MAE : \\n Alpha : {mae[1]} \\n Beta : {mae[2]} \\n V : {mae[0]} ')\n",
    "print(f'MSE : \\n Alpha : {mse[1]} \\n Beta : {mse[2]} \\n V : {mse[0]} ')\n",
    "print('Max AERR : \\n', max_ae)\n",
    "print(\"Waktu yang dibutuhkan : \", waktu)"
   ]
  },
  {
   "cell_type": "code",
   "execution_count": 212,
   "id": "977de0d0-3463-4414-82ae-fec736a22a1f",
   "metadata": {},
   "outputs": [
    {
     "name": "stdout",
     "output_type": "stream",
     "text": [
      "6713\n"
     ]
    }
   ],
   "source": [
    "y_pred_df = pd.DataFrame(y0_pred, columns = [\"V\",\"α\",\"β\"], index = y0_test.index)\n",
    "aerr = np.abs(y_pred_df - y0_test)\n",
    "index_max_aerr = aerr[\"β\"].idxmax()\n",
    "df_all_clean_37 = df_all_clean_36.drop(index = index_max_aerr)\n",
    "print(len(df_all_clean_37))"
   ]
  },
  {
   "cell_type": "markdown",
   "id": "f76bc399-adc7-4fcb-8f27-8c96e0610a13",
   "metadata": {},
   "source": [
    "### AFTER REDUCE 37"
   ]
  },
  {
   "cell_type": "code",
   "execution_count": 213,
   "id": "ccc22765-a7ce-4b68-8cba-b18a7995c2be",
   "metadata": {},
   "outputs": [],
   "source": [
    "x_all = df_all_clean_37.drop(columns = [\"V\",\"α\",\"β\"])\n",
    "y_all = df_all_clean_37[[\"V\",\"α\",\"β\"]]\n",
    "\n",
    "x0_train, x0_test, y0_train, y0_test = train_test_split(x_all, y_all,\n",
    "                                                        random_state = 42, test_size = 0.2)"
   ]
  },
  {
   "cell_type": "code",
   "execution_count": 214,
   "id": "bfa4101f-d88b-46d9-a0bc-6635661ca0ae",
   "metadata": {},
   "outputs": [
    {
     "name": "stdout",
     "output_type": "stream",
     "text": [
      "R2 : \n",
      " Alpha : 0.9999839915337135 \n",
      " Beta : 0.9849423681191495 \n",
      " V : 0.9999997612243964 \n",
      "MAE : \n",
      " Alpha : 0.005565585688195999 \n",
      " Beta : 0.48305075977845774 \n",
      " V : 0.001703490379209234 \n",
      "MSE : \n",
      " Alpha : 0.018418622479740604 \n",
      " Beta : 1.6157683226128905 \n",
      " V : 4.900237150008778e-05 \n",
      "Max AERR : \n",
      " V    0.081294\n",
      "α    4.972525\n",
      "β    9.947921\n",
      "dtype: float64\n",
      "Waktu yang dibutuhkan :  1.363714341322581\n"
     ]
    }
   ],
   "source": [
    "def max_absolute_error(y_true, y_pred):\n",
    "    return np.max(np.abs(y_true - y_pred), axis=0)\n",
    "scaler = StandardScaler()\n",
    "\n",
    "# Base models (Level Pertama)\n",
    "base_models = [\n",
    "    ('random_forest', RandomForestRegressor(n_estimators=250, max_depth=None, random_state=42, min_samples_leaf= 1, min_samples_split= 2, max_features = 'sqrt')),\n",
    "    ('gradient_boosting', GradientBoostingRegressor(n_estimators=200, learning_rate=0.0579, random_state=42, max_depth = 5)),\n",
    "    ('knn', make_pipeline(StandardScaler(), KNeighborsRegressor(n_neighbors=2, weights='distance', algorithm='auto')))\n",
    "]\n",
    "\n",
    "# Meta-model (Level Kedua)\n",
    "# Menggunakan Ridge Regression sebagai meta-model untuk menghindari overfitting\n",
    "meta_model = Ridge(alpha=0.1)\n",
    "\n",
    "# Membentuk Stacking Regressor\n",
    "stacking_regressor = StackingRegressor(\n",
    "    estimators=base_models,\n",
    "    final_estimator=meta_model,\n",
    "    passthrough=True  # Memasukkan data asli ke meta-model bersama prediksi base models\n",
    ")\n",
    "\n",
    "# Untuk multi-output, kita bungkus dengan MultiOutputRegressor\n",
    "model_all_best = MultiOutputRegressor(stacking_regressor)\n",
    "start = time.time()\n",
    "# Training\n",
    "model_all_best.fit(x0_train, y0_train)\n",
    "end = time.time()\n",
    "waktu = (end-start)/60\n",
    "# Prediction\n",
    "y0_pred = model_all_best.predict(x0_test)\n",
    "r2 = r2_score(y0_test, y0_pred, multioutput = 'raw_values')\n",
    "mae = mean_absolute_error(y0_test, y0_pred, multioutput = 'raw_values')\n",
    "mse = mean_squared_error(y0_test, y0_pred, multioutput = 'raw_values')\n",
    "max_ae = max_absolute_error(y0_test, y0_pred)\n",
    "print(f'R2 : \\n Alpha : {r2[1]} \\n Beta : {r2[2]} \\n V : {r2[0]} ')\n",
    "print(f'MAE : \\n Alpha : {mae[1]} \\n Beta : {mae[2]} \\n V : {mae[0]} ')\n",
    "print(f'MSE : \\n Alpha : {mse[1]} \\n Beta : {mse[2]} \\n V : {mse[0]} ')\n",
    "print('Max AERR : \\n', max_ae)\n",
    "print(\"Waktu yang dibutuhkan : \", waktu)"
   ]
  },
  {
   "cell_type": "code",
   "execution_count": 215,
   "id": "2f9e42ea-0515-4500-88a5-2abd98a3c489",
   "metadata": {},
   "outputs": [],
   "source": [
    "df_all_clean_37.to_csv('data_clean_reduce_37.csv', index = False)"
   ]
  },
  {
   "cell_type": "code",
   "execution_count": 216,
   "id": "2a74c6b0-8591-45da-871b-0bf0d8d15dfd",
   "metadata": {},
   "outputs": [
    {
     "name": "stdout",
     "output_type": "stream",
     "text": [
      "6712\n"
     ]
    }
   ],
   "source": [
    "y_pred_df = pd.DataFrame(y0_pred, columns = [\"V\",\"α\",\"β\"], index = y0_test.index)\n",
    "aerr = np.abs(y_pred_df - y0_test)\n",
    "index_max_aerr = aerr[\"β\"].idxmax()\n",
    "df_all_clean_38 = df_all_clean_37.drop(index = index_max_aerr)\n",
    "print(len(df_all_clean_38))"
   ]
  },
  {
   "cell_type": "markdown",
   "id": "2840a870-4a36-4e2a-b99c-a882a87f4400",
   "metadata": {},
   "source": [
    "### AFTER REDUCE 38"
   ]
  },
  {
   "cell_type": "code",
   "execution_count": 217,
   "id": "ee8109e9-67e3-4c48-b904-04d1d0a4387e",
   "metadata": {},
   "outputs": [],
   "source": [
    "x_all = df_all_clean_38.drop(columns = [\"V\",\"α\",\"β\"])\n",
    "y_all = df_all_clean_38[[\"V\",\"α\",\"β\"]]\n",
    "\n",
    "x0_train, x0_test, y0_train, y0_test = train_test_split(x_all, y_all,\n",
    "                                                        random_state = 42, test_size = 0.2)"
   ]
  },
  {
   "cell_type": "code",
   "execution_count": 218,
   "id": "509e5485-7731-4f68-af8e-c2aaec18b0a9",
   "metadata": {},
   "outputs": [
    {
     "name": "stdout",
     "output_type": "stream",
     "text": [
      "R2 : \n",
      " Alpha : 0.9999965311115768 \n",
      " Beta : 0.9818624603492634 \n",
      " V : 0.9999997703671302 \n",
      "MAE : \n",
      " Alpha : 0.003946634844346893 \n",
      " Beta : 0.5239029360325131 \n",
      " V : 0.0018043217659694647 \n",
      "MSE : \n",
      " Alpha : 0.004139499559280123 \n",
      " Beta : 1.909013182626782 \n",
      " V : 4.6841804811125174e-05 \n",
      "Max AERR : \n",
      " V     0.082751\n",
      "α     2.354273\n",
      "β    10.966874\n",
      "dtype: float64\n",
      "Waktu yang dibutuhkan :  1.3448511123657227\n"
     ]
    }
   ],
   "source": [
    "def max_absolute_error(y_true, y_pred):\n",
    "    return np.max(np.abs(y_true - y_pred), axis=0)\n",
    "scaler = StandardScaler()\n",
    "\n",
    "# Base models (Level Pertama)\n",
    "base_models = [\n",
    "    ('random_forest', RandomForestRegressor(n_estimators=250, max_depth=None, random_state=42, min_samples_leaf= 1, min_samples_split= 2, max_features = 'sqrt')),\n",
    "    ('gradient_boosting', GradientBoostingRegressor(n_estimators=200, learning_rate=0.0579, random_state=42, max_depth = 5)),\n",
    "    ('knn', make_pipeline(StandardScaler(), KNeighborsRegressor(n_neighbors=2, weights='distance', algorithm='auto')))\n",
    "]\n",
    "\n",
    "# Meta-model (Level Kedua)\n",
    "# Menggunakan Ridge Regression sebagai meta-model untuk menghindari overfitting\n",
    "meta_model = Ridge(alpha=0.1)\n",
    "\n",
    "# Membentuk Stacking Regressor\n",
    "stacking_regressor = StackingRegressor(\n",
    "    estimators=base_models,\n",
    "    final_estimator=meta_model,\n",
    "    passthrough=True  # Memasukkan data asli ke meta-model bersama prediksi base models\n",
    ")\n",
    "\n",
    "# Untuk multi-output, kita bungkus dengan MultiOutputRegressor\n",
    "model_all_best = MultiOutputRegressor(stacking_regressor)\n",
    "start = time.time()\n",
    "# Training\n",
    "model_all_best.fit(x0_train, y0_train)\n",
    "end = time.time()\n",
    "waktu = (end-start)/60\n",
    "# Prediction\n",
    "y0_pred = model_all_best.predict(x0_test)\n",
    "r2 = r2_score(y0_test, y0_pred, multioutput = 'raw_values')\n",
    "mae = mean_absolute_error(y0_test, y0_pred, multioutput = 'raw_values')\n",
    "mse = mean_squared_error(y0_test, y0_pred, multioutput = 'raw_values')\n",
    "max_ae = max_absolute_error(y0_test, y0_pred)\n",
    "print(f'R2 : \\n Alpha : {r2[1]} \\n Beta : {r2[2]} \\n V : {r2[0]} ')\n",
    "print(f'MAE : \\n Alpha : {mae[1]} \\n Beta : {mae[2]} \\n V : {mae[0]} ')\n",
    "print(f'MSE : \\n Alpha : {mse[1]} \\n Beta : {mse[2]} \\n V : {mse[0]} ')\n",
    "print('Max AERR : \\n', max_ae)\n",
    "print(\"Waktu yang dibutuhkan : \", waktu)"
   ]
  },
  {
   "cell_type": "code",
   "execution_count": 219,
   "id": "b08402f0-3722-48ed-9c70-771864781db2",
   "metadata": {},
   "outputs": [],
   "source": [
    "df_all_clean_38.to_csv('data_clean_reduce_38.csv', index = False)"
   ]
  },
  {
   "cell_type": "code",
   "execution_count": 220,
   "id": "479e39b5-78c3-49c6-870f-c1d431d9172e",
   "metadata": {},
   "outputs": [
    {
     "name": "stdout",
     "output_type": "stream",
     "text": [
      "6711\n"
     ]
    }
   ],
   "source": [
    "y_pred_df = pd.DataFrame(y0_pred, columns = [\"V\",\"α\",\"β\"], index = y0_test.index)\n",
    "aerr = np.abs(y_pred_df - y0_test)\n",
    "index_max_aerr = aerr[\"β\"].idxmax()\n",
    "df_all_clean_39 = df_all_clean_38.drop(index = index_max_aerr)\n",
    "print(len(df_all_clean_39))"
   ]
  },
  {
   "cell_type": "markdown",
   "id": "5d39561d-b4eb-4d94-8ef0-50aba96d358c",
   "metadata": {},
   "source": [
    "### AFTER REDUCE 39"
   ]
  },
  {
   "cell_type": "code",
   "execution_count": 221,
   "id": "9a0c6a5c-f74c-425a-a4f9-1f85c52868d4",
   "metadata": {},
   "outputs": [],
   "source": [
    "x_all = df_all_clean_39.drop(columns = [\"V\",\"α\",\"β\"])\n",
    "y_all = df_all_clean_39[[\"V\",\"α\",\"β\"]]\n",
    "\n",
    "x0_train, x0_test, y0_train, y0_test = train_test_split(x_all, y_all,\n",
    "                                                        random_state = 42, test_size = 0.2)"
   ]
  },
  {
   "cell_type": "code",
   "execution_count": 222,
   "id": "e1b863ca-63c0-43a5-92be-e90969425e30",
   "metadata": {},
   "outputs": [
    {
     "name": "stdout",
     "output_type": "stream",
     "text": [
      "R2 : \n",
      " Alpha : 0.9999965221524133 \n",
      " Beta : 0.9838089296773529 \n",
      " V : 0.9999997852126081 \n",
      "MAE : \n",
      " Alpha : 0.005205626016664621 \n",
      " Beta : 0.5241321949381805 \n",
      " V : 0.001597354088768921 \n",
      "MSE : \n",
      " Alpha : 0.004164253390496275 \n",
      " Beta : 1.6913625232909706 \n",
      " V : 4.423318125438573e-05 \n",
      "Max AERR : \n",
      " V     0.080733\n",
      "α     2.355570\n",
      "β    11.307684\n",
      "dtype: float64\n",
      "Waktu yang dibutuhkan :  1.3687007943789165\n"
     ]
    }
   ],
   "source": [
    "def max_absolute_error(y_true, y_pred):\n",
    "    return np.max(np.abs(y_true - y_pred), axis=0)\n",
    "scaler = StandardScaler()\n",
    "\n",
    "# Base models (Level Pertama)\n",
    "base_models = [\n",
    "    ('random_forest', RandomForestRegressor(n_estimators=250, max_depth=None, random_state=42, min_samples_leaf= 1, min_samples_split= 2, max_features = 'sqrt')),\n",
    "    ('gradient_boosting', GradientBoostingRegressor(n_estimators=200, learning_rate=0.0579, random_state=42, max_depth = 5)),\n",
    "    ('knn', make_pipeline(StandardScaler(), KNeighborsRegressor(n_neighbors=2, weights='distance', algorithm='auto')))\n",
    "]\n",
    "\n",
    "# Meta-model (Level Kedua)\n",
    "# Menggunakan Ridge Regression sebagai meta-model untuk menghindari overfitting\n",
    "meta_model = Ridge(alpha=0.1)\n",
    "\n",
    "# Membentuk Stacking Regressor\n",
    "stacking_regressor = StackingRegressor(\n",
    "    estimators=base_models,\n",
    "    final_estimator=meta_model,\n",
    "    passthrough=True  # Memasukkan data asli ke meta-model bersama prediksi base models\n",
    ")\n",
    "\n",
    "# Untuk multi-output, kita bungkus dengan MultiOutputRegressor\n",
    "model_all_best = MultiOutputRegressor(stacking_regressor)\n",
    "start = time.time()\n",
    "# Training\n",
    "model_all_best.fit(x0_train, y0_train)\n",
    "end = time.time()\n",
    "waktu = (end-start)/60\n",
    "# Prediction\n",
    "y0_pred = model_all_best.predict(x0_test)\n",
    "r2 = r2_score(y0_test, y0_pred, multioutput = 'raw_values')\n",
    "mae = mean_absolute_error(y0_test, y0_pred, multioutput = 'raw_values')\n",
    "mse = mean_squared_error(y0_test, y0_pred, multioutput = 'raw_values')\n",
    "max_ae = max_absolute_error(y0_test, y0_pred)\n",
    "print(f'R2 : \\n Alpha : {r2[1]} \\n Beta : {r2[2]} \\n V : {r2[0]} ')\n",
    "print(f'MAE : \\n Alpha : {mae[1]} \\n Beta : {mae[2]} \\n V : {mae[0]} ')\n",
    "print(f'MSE : \\n Alpha : {mse[1]} \\n Beta : {mse[2]} \\n V : {mse[0]} ')\n",
    "print('Max AERR : \\n', max_ae)\n",
    "print(\"Waktu yang dibutuhkan : \", waktu)"
   ]
  },
  {
   "cell_type": "code",
   "execution_count": 223,
   "id": "354b9ffe-80d8-4df0-bcfc-42f665ab10ff",
   "metadata": {},
   "outputs": [
    {
     "name": "stdout",
     "output_type": "stream",
     "text": [
      "6710\n"
     ]
    }
   ],
   "source": [
    "y_pred_df = pd.DataFrame(y0_pred, columns = [\"V\",\"α\",\"β\"], index = y0_test.index)\n",
    "aerr = np.abs(y_pred_df - y0_test)\n",
    "index_max_aerr = aerr[\"β\"].idxmax()\n",
    "df_all_clean_40 = df_all_clean_39.drop(index = index_max_aerr)\n",
    "print(len(df_all_clean_40))"
   ]
  },
  {
   "cell_type": "markdown",
   "id": "7e9d489f-5a78-4cb4-9404-f0f2280f1e8c",
   "metadata": {},
   "source": [
    "### AFTER REDUCE 40"
   ]
  },
  {
   "cell_type": "code",
   "execution_count": 224,
   "id": "acb02ba9-4b83-4fb2-ac27-8975362fc041",
   "metadata": {},
   "outputs": [],
   "source": [
    "x_all = df_all_clean_40.drop(columns = [\"V\",\"α\",\"β\"])\n",
    "y_all = df_all_clean_40[[\"V\",\"α\",\"β\"]]\n",
    "\n",
    "x0_train, x0_test, y0_train, y0_test = train_test_split(x_all, y_all,\n",
    "                                                        random_state = 42, test_size = 0.2)"
   ]
  },
  {
   "cell_type": "code",
   "execution_count": 225,
   "id": "140f66aa-f775-457b-be6d-d220e1656060",
   "metadata": {},
   "outputs": [
    {
     "name": "stdout",
     "output_type": "stream",
     "text": [
      "R2 : \n",
      " Alpha : 0.999996624881492 \n",
      " Beta : 0.9821734508345713 \n",
      " V : 0.9999997594056006 \n",
      "MAE : \n",
      " Alpha : 0.0025939674354348674 \n",
      " Beta : 0.49535960173340143 \n",
      " V : 0.001766143234843747 \n",
      "MSE : \n",
      " Alpha : 0.004090642801430353 \n",
      " Beta : 1.8182119713067495 \n",
      " V : 5.004632495611879e-05 \n",
      "Max AERR : \n",
      " V     0.080342\n",
      "α     2.342545\n",
      "β    11.118653\n",
      "dtype: float64\n",
      "Waktu yang dibutuhkan :  1.36104367574056\n"
     ]
    }
   ],
   "source": [
    "def max_absolute_error(y_true, y_pred):\n",
    "    return np.max(np.abs(y_true - y_pred), axis=0)\n",
    "scaler = StandardScaler()\n",
    "\n",
    "# Base models (Level Pertama)\n",
    "base_models = [\n",
    "    ('random_forest', RandomForestRegressor(n_estimators=250, max_depth=None, random_state=42, min_samples_leaf= 1, min_samples_split= 2, max_features = 'sqrt')),\n",
    "    ('gradient_boosting', GradientBoostingRegressor(n_estimators=200, learning_rate=0.0579, random_state=42, max_depth = 5)),\n",
    "    ('knn', make_pipeline(StandardScaler(), KNeighborsRegressor(n_neighbors=2, weights='distance', algorithm='auto')))\n",
    "]\n",
    "\n",
    "# Meta-model (Level Kedua)\n",
    "# Menggunakan Ridge Regression sebagai meta-model untuk menghindari overfitting\n",
    "meta_model = Ridge(alpha=0.1)\n",
    "\n",
    "# Membentuk Stacking Regressor\n",
    "stacking_regressor = StackingRegressor(\n",
    "    estimators=base_models,\n",
    "    final_estimator=meta_model,\n",
    "    passthrough=True  # Memasukkan data asli ke meta-model bersama prediksi base models\n",
    ")\n",
    "\n",
    "# Untuk multi-output, kita bungkus dengan MultiOutputRegressor\n",
    "model_all_best = MultiOutputRegressor(stacking_regressor)\n",
    "start = time.time()\n",
    "# Training\n",
    "model_all_best.fit(x0_train, y0_train)\n",
    "end = time.time()\n",
    "waktu = (end-start)/60\n",
    "# Prediction\n",
    "y0_pred = model_all_best.predict(x0_test)\n",
    "r2 = r2_score(y0_test, y0_pred, multioutput = 'raw_values')\n",
    "mae = mean_absolute_error(y0_test, y0_pred, multioutput = 'raw_values')\n",
    "mse = mean_squared_error(y0_test, y0_pred, multioutput = 'raw_values')\n",
    "max_ae = max_absolute_error(y0_test, y0_pred)\n",
    "print(f'R2 : \\n Alpha : {r2[1]} \\n Beta : {r2[2]} \\n V : {r2[0]} ')\n",
    "print(f'MAE : \\n Alpha : {mae[1]} \\n Beta : {mae[2]} \\n V : {mae[0]} ')\n",
    "print(f'MSE : \\n Alpha : {mse[1]} \\n Beta : {mse[2]} \\n V : {mse[0]} ')\n",
    "print('Max AERR : \\n', max_ae)\n",
    "print(\"Waktu yang dibutuhkan : \", waktu)"
   ]
  },
  {
   "cell_type": "code",
   "execution_count": 229,
   "id": "b3705755-5b8a-486e-b9dd-9f08605e57bb",
   "metadata": {},
   "outputs": [],
   "source": [
    "df_all_clean_40.to_csv('data_clean_reduce_40.csv', index = False)"
   ]
  },
  {
   "cell_type": "code",
   "execution_count": 226,
   "id": "aff72c47-76c6-4527-a6b0-5c538edfe5c3",
   "metadata": {},
   "outputs": [
    {
     "name": "stdout",
     "output_type": "stream",
     "text": [
      "6709\n"
     ]
    }
   ],
   "source": [
    "y_pred_df = pd.DataFrame(y0_pred, columns = [\"V\",\"α\",\"β\"], index = y0_test.index)\n",
    "aerr = np.abs(y_pred_df - y0_test)\n",
    "index_max_aerr = aerr[\"β\"].idxmax()\n",
    "df_all_clean_41 = df_all_clean_40.drop(index = index_max_aerr)\n",
    "print(len(df_all_clean_41))"
   ]
  },
  {
   "cell_type": "markdown",
   "id": "937a8397-adb8-44c6-ab79-2701db98e1e0",
   "metadata": {},
   "source": [
    "### AFTER REDUCE 41"
   ]
  },
  {
   "cell_type": "code",
   "execution_count": 227,
   "id": "3e457567-0f6a-4514-aff7-a0ba5b3610d0",
   "metadata": {},
   "outputs": [],
   "source": [
    "x_all = df_all_clean_41.drop(columns = [\"V\",\"α\",\"β\"])\n",
    "y_all = df_all_clean_41[[\"V\",\"α\",\"β\"]]\n",
    "\n",
    "x0_train, x0_test, y0_train, y0_test = train_test_split(x_all, y_all,\n",
    "                                                        random_state = 42, test_size = 0.2)"
   ]
  },
  {
   "cell_type": "code",
   "execution_count": 228,
   "id": "7d1e8a86-50ab-4719-b96a-d16c6c8e0d5e",
   "metadata": {},
   "outputs": [
    {
     "name": "stdout",
     "output_type": "stream",
     "text": [
      "R2 : \n",
      " Alpha : 0.9999965238145643 \n",
      " Beta : 0.9840710064656516 \n",
      " V : 0.9999997198644336 \n",
      "MAE : \n",
      " Alpha : 0.001766404757954225 \n",
      " Beta : 0.5123408492796071 \n",
      " V : 0.001963765359229699 \n",
      "MSE : \n",
      " Alpha : 0.004096636959006909 \n",
      " Beta : 1.625342612258085 \n",
      " V : 5.629967924565615e-05 \n",
      "Max AERR : \n",
      " V    0.093990\n",
      "α    2.344714\n",
      "β    9.542676\n",
      "dtype: float64\n",
      "Waktu yang dibutuhkan :  1.3435577869415283\n"
     ]
    }
   ],
   "source": [
    "def max_absolute_error(y_true, y_pred):\n",
    "    return np.max(np.abs(y_true - y_pred), axis=0)\n",
    "scaler = StandardScaler()\n",
    "\n",
    "# Base models (Level Pertama)\n",
    "base_models = [\n",
    "    ('random_forest', RandomForestRegressor(n_estimators=250, max_depth=None, random_state=42, min_samples_leaf= 1, min_samples_split= 2, max_features = 'sqrt')),\n",
    "    ('gradient_boosting', GradientBoostingRegressor(n_estimators=200, learning_rate=0.0579, random_state=42, max_depth = 5)),\n",
    "    ('knn', make_pipeline(StandardScaler(), KNeighborsRegressor(n_neighbors=2, weights='distance', algorithm='auto')))\n",
    "]\n",
    "\n",
    "# Meta-model (Level Kedua)\n",
    "# Menggunakan Ridge Regression sebagai meta-model untuk menghindari overfitting\n",
    "meta_model = Ridge(alpha=0.1)\n",
    "\n",
    "# Membentuk Stacking Regressor\n",
    "stacking_regressor = StackingRegressor(\n",
    "    estimators=base_models,\n",
    "    final_estimator=meta_model,\n",
    "    passthrough=True  # Memasukkan data asli ke meta-model bersama prediksi base models\n",
    ")\n",
    "\n",
    "# Untuk multi-output, kita bungkus dengan MultiOutputRegressor\n",
    "model_all_best = MultiOutputRegressor(stacking_regressor)\n",
    "start = time.time()\n",
    "# Training\n",
    "model_all_best.fit(x0_train, y0_train)\n",
    "end = time.time()\n",
    "waktu = (end-start)/60\n",
    "# Prediction\n",
    "y0_pred = model_all_best.predict(x0_test)\n",
    "r2 = r2_score(y0_test, y0_pred, multioutput = 'raw_values')\n",
    "mae = mean_absolute_error(y0_test, y0_pred, multioutput = 'raw_values')\n",
    "mse = mean_squared_error(y0_test, y0_pred, multioutput = 'raw_values')\n",
    "max_ae = max_absolute_error(y0_test, y0_pred)\n",
    "print(f'R2 : \\n Alpha : {r2[1]} \\n Beta : {r2[2]} \\n V : {r2[0]} ')\n",
    "print(f'MAE : \\n Alpha : {mae[1]} \\n Beta : {mae[2]} \\n V : {mae[0]} ')\n",
    "print(f'MSE : \\n Alpha : {mse[1]} \\n Beta : {mse[2]} \\n V : {mse[0]} ')\n",
    "print('Max AERR : \\n', max_ae)\n",
    "print(\"Waktu yang dibutuhkan : \", waktu)"
   ]
  },
  {
   "cell_type": "code",
   "execution_count": 230,
   "id": "73727c57-2350-4dcd-b90e-24aea47ceb64",
   "metadata": {},
   "outputs": [],
   "source": [
    "df_all_clean_41.to_csv('data_clean_reduce_41.csv', index = False)"
   ]
  },
  {
   "cell_type": "code",
   "execution_count": 231,
   "id": "8578cd80-e6fe-41b8-a32c-fba497c4f88a",
   "metadata": {},
   "outputs": [
    {
     "name": "stdout",
     "output_type": "stream",
     "text": [
      "6708\n"
     ]
    }
   ],
   "source": [
    "y_pred_df = pd.DataFrame(y0_pred, columns = [\"V\",\"α\",\"β\"], index = y0_test.index)\n",
    "aerr = np.abs(y_pred_df - y0_test)\n",
    "index_max_aerr = aerr[\"β\"].idxmax()\n",
    "df_all_clean_42 = df_all_clean_41.drop(index = index_max_aerr)\n",
    "print(len(df_all_clean_42))"
   ]
  },
  {
   "cell_type": "markdown",
   "id": "f463c455-509c-47d4-bb65-8efed3fe4f73",
   "metadata": {},
   "source": [
    "### AFTER REDUCE 42"
   ]
  },
  {
   "cell_type": "code",
   "execution_count": 232,
   "id": "f7bf13e0-145a-4db8-89de-3f384d8672fe",
   "metadata": {},
   "outputs": [],
   "source": [
    "x_all = df_all_clean_42.drop(columns = [\"V\",\"α\",\"β\"])\n",
    "y_all = df_all_clean_42[[\"V\",\"α\",\"β\"]]\n",
    "\n",
    "x0_train, x0_test, y0_train, y0_test = train_test_split(x_all, y_all,\n",
    "                                                        random_state = 42, test_size = 0.2)"
   ]
  },
  {
   "cell_type": "code",
   "execution_count": 233,
   "id": "7c57fb47-9ba0-479a-a5c1-6e78c99a997d",
   "metadata": {},
   "outputs": [
    {
     "name": "stdout",
     "output_type": "stream",
     "text": [
      "R2 : \n",
      " Alpha : 0.9999999996278519 \n",
      " Beta : 0.9811034192724242 \n",
      " V : 0.9999997755556026 \n",
      "MAE : \n",
      " Alpha : 0.0005067256646959673 \n",
      " Beta : 0.536478964706266 \n",
      " V : 0.0019037938256937505 \n",
      "MSE : \n",
      " Alpha : 4.4817768368059287e-07 \n",
      " Beta : 1.9582872931211877 \n",
      " V : 4.607731089346815e-05 \n",
      "Max AERR : \n",
      " V     0.069564\n",
      "α     0.003415\n",
      "β    10.862260\n",
      "dtype: float64\n",
      "Waktu yang dibutuhkan :  1.3510639349619546\n"
     ]
    }
   ],
   "source": [
    "def max_absolute_error(y_true, y_pred):\n",
    "    return np.max(np.abs(y_true - y_pred), axis=0)\n",
    "scaler = StandardScaler()\n",
    "\n",
    "# Base models (Level Pertama)\n",
    "base_models = [\n",
    "    ('random_forest', RandomForestRegressor(n_estimators=250, max_depth=None, random_state=42, min_samples_leaf= 1, min_samples_split= 2, max_features = 'sqrt')),\n",
    "    ('gradient_boosting', GradientBoostingRegressor(n_estimators=200, learning_rate=0.0579, random_state=42, max_depth = 5)),\n",
    "    ('knn', make_pipeline(StandardScaler(), KNeighborsRegressor(n_neighbors=2, weights='distance', algorithm='auto')))\n",
    "]\n",
    "\n",
    "# Meta-model (Level Kedua)\n",
    "# Menggunakan Ridge Regression sebagai meta-model untuk menghindari overfitting\n",
    "meta_model = Ridge(alpha=0.1)\n",
    "\n",
    "# Membentuk Stacking Regressor\n",
    "stacking_regressor = StackingRegressor(\n",
    "    estimators=base_models,\n",
    "    final_estimator=meta_model,\n",
    "    passthrough=True  # Memasukkan data asli ke meta-model bersama prediksi base models\n",
    ")\n",
    "\n",
    "# Untuk multi-output, kita bungkus dengan MultiOutputRegressor\n",
    "model_all_best = MultiOutputRegressor(stacking_regressor)\n",
    "start = time.time()\n",
    "# Training\n",
    "model_all_best.fit(x0_train, y0_train)\n",
    "end = time.time()\n",
    "waktu = (end-start)/60\n",
    "# Prediction\n",
    "y0_pred = model_all_best.predict(x0_test)\n",
    "r2 = r2_score(y0_test, y0_pred, multioutput = 'raw_values')\n",
    "mae = mean_absolute_error(y0_test, y0_pred, multioutput = 'raw_values')\n",
    "mse = mean_squared_error(y0_test, y0_pred, multioutput = 'raw_values')\n",
    "max_ae = max_absolute_error(y0_test, y0_pred)\n",
    "print(f'R2 : \\n Alpha : {r2[1]} \\n Beta : {r2[2]} \\n V : {r2[0]} ')\n",
    "print(f'MAE : \\n Alpha : {mae[1]} \\n Beta : {mae[2]} \\n V : {mae[0]} ')\n",
    "print(f'MSE : \\n Alpha : {mse[1]} \\n Beta : {mse[2]} \\n V : {mse[0]} ')\n",
    "print('Max AERR : \\n', max_ae)\n",
    "print(\"Waktu yang dibutuhkan : \", waktu)"
   ]
  },
  {
   "cell_type": "code",
   "execution_count": 234,
   "id": "0018093b-4c1d-467a-a989-820ee26e0587",
   "metadata": {},
   "outputs": [],
   "source": [
    "df_all_clean_42.to_csv('data_clean_reduce_42.csv', index = False)"
   ]
  },
  {
   "cell_type": "code",
   "execution_count": 235,
   "id": "b0780281-390e-435b-9e90-b80410ba73d7",
   "metadata": {},
   "outputs": [
    {
     "name": "stdout",
     "output_type": "stream",
     "text": [
      "6707\n"
     ]
    }
   ],
   "source": [
    "y_pred_df = pd.DataFrame(y0_pred, columns = [\"V\",\"α\",\"β\"], index = y0_test.index)\n",
    "aerr = np.abs(y_pred_df - y0_test)\n",
    "index_max_aerr = aerr[\"β\"].idxmax()\n",
    "df_all_clean_43 = df_all_clean_42.drop(index = index_max_aerr)\n",
    "print(len(df_all_clean_43))"
   ]
  },
  {
   "cell_type": "markdown",
   "id": "233b1ac8-0559-4fcd-a11e-89bbe5d421c0",
   "metadata": {},
   "source": [
    "### AFTER REDUCE 43"
   ]
  },
  {
   "cell_type": "code",
   "execution_count": 236,
   "id": "44bd1525-b46a-406e-a8a9-20858d924da9",
   "metadata": {},
   "outputs": [],
   "source": [
    "x_all = df_all_clean_43.drop(columns = [\"V\",\"α\",\"β\"])\n",
    "y_all = df_all_clean_43[[\"V\",\"α\",\"β\"]]\n",
    "\n",
    "x0_train, x0_test, y0_train, y0_test = train_test_split(x_all, y_all,\n",
    "                                                        random_state = 42, test_size = 0.2)"
   ]
  },
  {
   "cell_type": "code",
   "execution_count": 237,
   "id": "4967b281-1629-49d1-aff4-b6197ba8f8bd",
   "metadata": {},
   "outputs": [
    {
     "name": "stdout",
     "output_type": "stream",
     "text": [
      "R2 : \n",
      " Alpha : 0.999999999441998 \n",
      " Beta : 0.9820377007156834 \n",
      " V : 0.9999997740176292 \n",
      "MAE : \n",
      " Alpha : 0.000563950746867112 \n",
      " Beta : 0.5185476199329825 \n",
      " V : 0.0019153666460560556 \n",
      "MSE : \n",
      " Alpha : 6.691968428898847e-07 \n",
      " Beta : 1.8627466197075315 \n",
      " V : 4.6124760086140574e-05 \n",
      "Max AERR : \n",
      " V     0.069401\n",
      "α     0.007515\n",
      "β    10.441031\n",
      "dtype: float64\n",
      "Waktu yang dibutuhkan :  1.3674418727556865\n"
     ]
    }
   ],
   "source": [
    "def max_absolute_error(y_true, y_pred):\n",
    "    return np.max(np.abs(y_true - y_pred), axis=0)\n",
    "scaler = StandardScaler()\n",
    "\n",
    "# Base models (Level Pertama)\n",
    "base_models = [\n",
    "    ('random_forest', RandomForestRegressor(n_estimators=250, max_depth=None, random_state=42, min_samples_leaf= 1, min_samples_split= 2, max_features = 'sqrt')),\n",
    "    ('gradient_boosting', GradientBoostingRegressor(n_estimators=200, learning_rate=0.0579, random_state=42, max_depth = 5)),\n",
    "    ('knn', make_pipeline(StandardScaler(), KNeighborsRegressor(n_neighbors=2, weights='distance', algorithm='auto')))\n",
    "]\n",
    "\n",
    "# Meta-model (Level Kedua)\n",
    "# Menggunakan Ridge Regression sebagai meta-model untuk menghindari overfitting\n",
    "meta_model = Ridge(alpha=0.1)\n",
    "\n",
    "# Membentuk Stacking Regressor\n",
    "stacking_regressor = StackingRegressor(\n",
    "    estimators=base_models,\n",
    "    final_estimator=meta_model,\n",
    "    passthrough=True  # Memasukkan data asli ke meta-model bersama prediksi base models\n",
    ")\n",
    "\n",
    "# Untuk multi-output, kita bungkus dengan MultiOutputRegressor\n",
    "model_all_best = MultiOutputRegressor(stacking_regressor)\n",
    "start = time.time()\n",
    "# Training\n",
    "model_all_best.fit(x0_train, y0_train)\n",
    "end = time.time()\n",
    "waktu = (end-start)/60\n",
    "# Prediction\n",
    "y0_pred = model_all_best.predict(x0_test)\n",
    "r2 = r2_score(y0_test, y0_pred, multioutput = 'raw_values')\n",
    "mae = mean_absolute_error(y0_test, y0_pred, multioutput = 'raw_values')\n",
    "mse = mean_squared_error(y0_test, y0_pred, multioutput = 'raw_values')\n",
    "max_ae = max_absolute_error(y0_test, y0_pred)\n",
    "print(f'R2 : \\n Alpha : {r2[1]} \\n Beta : {r2[2]} \\n V : {r2[0]} ')\n",
    "print(f'MAE : \\n Alpha : {mae[1]} \\n Beta : {mae[2]} \\n V : {mae[0]} ')\n",
    "print(f'MSE : \\n Alpha : {mse[1]} \\n Beta : {mse[2]} \\n V : {mse[0]} ')\n",
    "print('Max AERR : \\n', max_ae)\n",
    "print(\"Waktu yang dibutuhkan : \", waktu)"
   ]
  },
  {
   "cell_type": "code",
   "execution_count": 238,
   "id": "5b332453-7332-4f03-8d84-e0576899e4f5",
   "metadata": {},
   "outputs": [],
   "source": [
    "df_all_clean_43.to_csv('data_clean_reduce_43.csv', index = False)"
   ]
  },
  {
   "cell_type": "code",
   "execution_count": 239,
   "id": "9d720fdd-6ea3-4343-b92a-5d1740091c49",
   "metadata": {},
   "outputs": [
    {
     "name": "stdout",
     "output_type": "stream",
     "text": [
      "6706\n"
     ]
    }
   ],
   "source": [
    "y_pred_df = pd.DataFrame(y0_pred, columns = [\"V\",\"α\",\"β\"], index = y0_test.index)\n",
    "aerr = np.abs(y_pred_df - y0_test)\n",
    "index_max_aerr = aerr[\"β\"].idxmax()\n",
    "df_all_clean_44 = df_all_clean_43.drop(index = index_max_aerr)\n",
    "print(len(df_all_clean_44))"
   ]
  },
  {
   "cell_type": "markdown",
   "id": "2d24683b-8713-473b-b601-cce4af7c1d86",
   "metadata": {},
   "source": [
    "### AFTER REDUCE 44"
   ]
  },
  {
   "cell_type": "code",
   "execution_count": 240,
   "id": "0c693409-d366-4b82-a67e-a842537044fd",
   "metadata": {},
   "outputs": [],
   "source": [
    "x_all = df_all_clean_44.drop(columns = [\"V\",\"α\",\"β\"])\n",
    "y_all = df_all_clean_44[[\"V\",\"α\",\"β\"]]\n",
    "\n",
    "x0_train, x0_test, y0_train, y0_test = train_test_split(x_all, y_all,\n",
    "                                                        random_state = 42, test_size = 0.2)"
   ]
  },
  {
   "cell_type": "code",
   "execution_count": 241,
   "id": "a879e48c-be3d-4449-83ec-4932f05bf6d3",
   "metadata": {},
   "outputs": [
    {
     "name": "stdout",
     "output_type": "stream",
     "text": [
      "R2 : \n",
      " Alpha : 0.9999999996264363 \n",
      " Beta : 0.981772708498175 \n",
      " V : 0.999999778488748 \n",
      "MAE : \n",
      " Alpha : 0.0005035485193661965 \n",
      " Beta : 0.5118445650258542 \n",
      " V : 0.0017960030058568428 \n",
      "MSE : \n",
      " Alpha : 4.4300062106701006e-07 \n",
      " Beta : 1.8843421186582394 \n",
      " V : 4.477062144547562e-05 \n",
      "Max AERR : \n",
      " V    0.069993\n",
      "α    0.003851\n",
      "β    9.737665\n",
      "dtype: float64\n",
      "Waktu yang dibutuhkan :  1.35781325896581\n"
     ]
    }
   ],
   "source": [
    "def max_absolute_error(y_true, y_pred):\n",
    "    return np.max(np.abs(y_true - y_pred), axis=0)\n",
    "scaler = StandardScaler()\n",
    "\n",
    "# Base models (Level Pertama)\n",
    "base_models = [\n",
    "    ('random_forest', RandomForestRegressor(n_estimators=250, max_depth=None, random_state=42, min_samples_leaf= 1, min_samples_split= 2, max_features = 'sqrt')),\n",
    "    ('gradient_boosting', GradientBoostingRegressor(n_estimators=200, learning_rate=0.0579, random_state=42, max_depth = 5)),\n",
    "    ('knn', make_pipeline(StandardScaler(), KNeighborsRegressor(n_neighbors=2, weights='distance', algorithm='auto')))\n",
    "]\n",
    "\n",
    "# Meta-model (Level Kedua)\n",
    "# Menggunakan Ridge Regression sebagai meta-model untuk menghindari overfitting\n",
    "meta_model = Ridge(alpha=0.1)\n",
    "\n",
    "# Membentuk Stacking Regressor\n",
    "stacking_regressor = StackingRegressor(\n",
    "    estimators=base_models,\n",
    "    final_estimator=meta_model,\n",
    "    passthrough=True  # Memasukkan data asli ke meta-model bersama prediksi base models\n",
    ")\n",
    "\n",
    "# Untuk multi-output, kita bungkus dengan MultiOutputRegressor\n",
    "model_all_best = MultiOutputRegressor(stacking_regressor)\n",
    "start = time.time()\n",
    "# Training\n",
    "model_all_best.fit(x0_train, y0_train)\n",
    "end = time.time()\n",
    "waktu = (end-start)/60\n",
    "# Prediction\n",
    "y0_pred = model_all_best.predict(x0_test)\n",
    "r2 = r2_score(y0_test, y0_pred, multioutput = 'raw_values')\n",
    "mae = mean_absolute_error(y0_test, y0_pred, multioutput = 'raw_values')\n",
    "mse = mean_squared_error(y0_test, y0_pred, multioutput = 'raw_values')\n",
    "max_ae = max_absolute_error(y0_test, y0_pred)\n",
    "print(f'R2 : \\n Alpha : {r2[1]} \\n Beta : {r2[2]} \\n V : {r2[0]} ')\n",
    "print(f'MAE : \\n Alpha : {mae[1]} \\n Beta : {mae[2]} \\n V : {mae[0]} ')\n",
    "print(f'MSE : \\n Alpha : {mse[1]} \\n Beta : {mse[2]} \\n V : {mse[0]} ')\n",
    "print('Max AERR : \\n', max_ae)\n",
    "print(\"Waktu yang dibutuhkan : \", waktu)"
   ]
  },
  {
   "cell_type": "code",
   "execution_count": 242,
   "id": "2588dd1f-2e47-44dd-b258-ca30ed2d00c2",
   "metadata": {},
   "outputs": [],
   "source": [
    "df_all_clean_44.to_csv('data_clean_reduce_44.csv', index = False)"
   ]
  },
  {
   "cell_type": "code",
   "execution_count": 243,
   "id": "9c1b54dd-1fe7-448e-b3c5-b8f34ce52dbe",
   "metadata": {},
   "outputs": [
    {
     "name": "stdout",
     "output_type": "stream",
     "text": [
      "6705\n"
     ]
    }
   ],
   "source": [
    "y_pred_df = pd.DataFrame(y0_pred, columns = [\"V\",\"α\",\"β\"], index = y0_test.index)\n",
    "aerr = np.abs(y_pred_df - y0_test)\n",
    "index_max_aerr = aerr[\"β\"].idxmax()\n",
    "df_all_clean_45 = df_all_clean_44.drop(index = index_max_aerr)\n",
    "print(len(df_all_clean_45))"
   ]
  },
  {
   "cell_type": "markdown",
   "id": "9a886594-35dc-4881-878d-001ecc1b46fa",
   "metadata": {},
   "source": [
    "### AFTER REDUCE 45"
   ]
  },
  {
   "cell_type": "code",
   "execution_count": 244,
   "id": "3e732e21-35b8-4936-a813-e37af0561e9d",
   "metadata": {},
   "outputs": [],
   "source": [
    "x_all = df_all_clean_45.drop(columns = [\"V\",\"α\",\"β\"])\n",
    "y_all = df_all_clean_45[[\"V\",\"α\",\"β\"]]\n",
    "\n",
    "x0_train, x0_test, y0_train, y0_test = train_test_split(x_all, y_all,\n",
    "                                                        random_state = 42, test_size = 0.2)"
   ]
  },
  {
   "cell_type": "code",
   "execution_count": 245,
   "id": "6997ad42-624a-405f-8534-28d75ab75718",
   "metadata": {},
   "outputs": [
    {
     "name": "stdout",
     "output_type": "stream",
     "text": [
      "R2 : \n",
      " Alpha : 0.9999999995244421 \n",
      " Beta : 0.9830837324627615 \n",
      " V : 0.999999770469875 \n",
      "MAE : \n",
      " Alpha : 0.0005447841151469834 \n",
      " Beta : 0.5035030643021045 \n",
      " V : 0.0018060697886233658 \n",
      "MSE : \n",
      " Alpha : 5.650942434187501e-07 \n",
      " Beta : 1.7695517148533892 \n",
      " V : 4.637711436449344e-05 \n",
      "Max AERR : \n",
      " V    0.076459\n",
      "α    0.005109\n",
      "β    9.781507\n",
      "dtype: float64\n",
      "Waktu yang dibutuhkan :  1.3552622596422832\n"
     ]
    }
   ],
   "source": [
    "def max_absolute_error(y_true, y_pred):\n",
    "    return np.max(np.abs(y_true - y_pred), axis=0)\n",
    "scaler = StandardScaler()\n",
    "\n",
    "# Base models (Level Pertama)\n",
    "base_models = [\n",
    "    ('random_forest', RandomForestRegressor(n_estimators=250, max_depth=None, random_state=42, min_samples_leaf= 1, min_samples_split= 2, max_features = 'sqrt')),\n",
    "    ('gradient_boosting', GradientBoostingRegressor(n_estimators=200, learning_rate=0.0579, random_state=42, max_depth = 5)),\n",
    "    ('knn', make_pipeline(StandardScaler(), KNeighborsRegressor(n_neighbors=2, weights='distance', algorithm='auto')))\n",
    "]\n",
    "\n",
    "# Meta-model (Level Kedua)\n",
    "# Menggunakan Ridge Regression sebagai meta-model untuk menghindari overfitting\n",
    "meta_model = Ridge(alpha=0.1)\n",
    "\n",
    "# Membentuk Stacking Regressor\n",
    "stacking_regressor = StackingRegressor(\n",
    "    estimators=base_models,\n",
    "    final_estimator=meta_model,\n",
    "    passthrough=True  # Memasukkan data asli ke meta-model bersama prediksi base models\n",
    ")\n",
    "\n",
    "# Untuk multi-output, kita bungkus dengan MultiOutputRegressor\n",
    "model_all_best = MultiOutputRegressor(stacking_regressor)\n",
    "start = time.time()\n",
    "# Training\n",
    "model_all_best.fit(x0_train, y0_train)\n",
    "end = time.time()\n",
    "waktu = (end-start)/60\n",
    "# Prediction\n",
    "y0_pred = model_all_best.predict(x0_test)\n",
    "r2 = r2_score(y0_test, y0_pred, multioutput = 'raw_values')\n",
    "mae = mean_absolute_error(y0_test, y0_pred, multioutput = 'raw_values')\n",
    "mse = mean_squared_error(y0_test, y0_pred, multioutput = 'raw_values')\n",
    "max_ae = max_absolute_error(y0_test, y0_pred)\n",
    "print(f'R2 : \\n Alpha : {r2[1]} \\n Beta : {r2[2]} \\n V : {r2[0]} ')\n",
    "print(f'MAE : \\n Alpha : {mae[1]} \\n Beta : {mae[2]} \\n V : {mae[0]} ')\n",
    "print(f'MSE : \\n Alpha : {mse[1]} \\n Beta : {mse[2]} \\n V : {mse[0]} ')\n",
    "print('Max AERR : \\n', max_ae)\n",
    "print(\"Waktu yang dibutuhkan : \", waktu)"
   ]
  },
  {
   "cell_type": "code",
   "execution_count": 246,
   "id": "a8ed4afc-5a4c-461b-bacd-1b1713c13891",
   "metadata": {},
   "outputs": [],
   "source": [
    "df_all_clean_45.to_csv('data_clean_reduce_45.csv', index = False)"
   ]
  },
  {
   "cell_type": "code",
   "execution_count": 247,
   "id": "5c6529a2-f9cf-43ff-a015-90affd3db5c5",
   "metadata": {},
   "outputs": [
    {
     "name": "stdout",
     "output_type": "stream",
     "text": [
      "6704\n"
     ]
    }
   ],
   "source": [
    "y_pred_df = pd.DataFrame(y0_pred, columns = [\"V\",\"α\",\"β\"], index = y0_test.index)\n",
    "aerr = np.abs(y_pred_df - y0_test)\n",
    "index_max_aerr = aerr[\"β\"].idxmax()\n",
    "df_all_clean_46 = df_all_clean_45.drop(index = index_max_aerr)\n",
    "print(len(df_all_clean_46))"
   ]
  },
  {
   "cell_type": "markdown",
   "id": "7679f006-bf1e-4b5b-9513-3109d59fe32e",
   "metadata": {},
   "source": [
    "### AFTER REDUCE 46"
   ]
  },
  {
   "cell_type": "code",
   "execution_count": 248,
   "id": "2ff32234-4c7c-4c3a-895d-253f088e4d5f",
   "metadata": {},
   "outputs": [],
   "source": [
    "x_all = df_all_clean_46.drop(columns = [\"V\",\"α\",\"β\"])\n",
    "y_all = df_all_clean_46[[\"V\",\"α\",\"β\"]]\n",
    "\n",
    "x0_train, x0_test, y0_train, y0_test = train_test_split(x_all, y_all,\n",
    "                                                        random_state = 42, test_size = 0.2)"
   ]
  },
  {
   "cell_type": "code",
   "execution_count": 249,
   "id": "0e0dc1df-ff92-45f9-88ac-d1582b79a475",
   "metadata": {},
   "outputs": [
    {
     "name": "stdout",
     "output_type": "stream",
     "text": [
      "R2 : \n",
      " Alpha : 0.9999999826828339 \n",
      " Beta : 0.9837204604926633 \n",
      " V : 0.9999997932233007 \n",
      "MAE : \n",
      " Alpha : 0.0023807413237649055 \n",
      " Beta : 0.4854224766071392 \n",
      " V : 0.0017509570794222921 \n",
      "MSE : \n",
      " Alpha : 2.060567080908642e-05 \n",
      " Beta : 1.6786276420918584 \n",
      " V : 4.25583557899402e-05 \n",
      "Max AERR : \n",
      " V    0.081666\n",
      "α    0.046313\n",
      "β    9.338302\n",
      "dtype: float64\n",
      "Waktu yang dibutuhkan :  1.3547831853230794\n"
     ]
    }
   ],
   "source": [
    "def max_absolute_error(y_true, y_pred):\n",
    "    return np.max(np.abs(y_true - y_pred), axis=0)\n",
    "scaler = StandardScaler()\n",
    "\n",
    "# Base models (Level Pertama)\n",
    "base_models = [\n",
    "    ('random_forest', RandomForestRegressor(n_estimators=250, max_depth=None, random_state=42, min_samples_leaf= 1, min_samples_split= 2, max_features = 'sqrt')),\n",
    "    ('gradient_boosting', GradientBoostingRegressor(n_estimators=200, learning_rate=0.0579, random_state=42, max_depth = 5)),\n",
    "    ('knn', make_pipeline(StandardScaler(), KNeighborsRegressor(n_neighbors=2, weights='distance', algorithm='auto')))\n",
    "]\n",
    "\n",
    "# Meta-model (Level Kedua)\n",
    "# Menggunakan Ridge Regression sebagai meta-model untuk menghindari overfitting\n",
    "meta_model = Ridge(alpha=0.1)\n",
    "\n",
    "# Membentuk Stacking Regressor\n",
    "stacking_regressor = StackingRegressor(\n",
    "    estimators=base_models,\n",
    "    final_estimator=meta_model,\n",
    "    passthrough=True  # Memasukkan data asli ke meta-model bersama prediksi base models\n",
    ")\n",
    "\n",
    "# Untuk multi-output, kita bungkus dengan MultiOutputRegressor\n",
    "model_all_best = MultiOutputRegressor(stacking_regressor)\n",
    "start = time.time()\n",
    "# Training\n",
    "model_all_best.fit(x0_train, y0_train)\n",
    "end = time.time()\n",
    "waktu = (end-start)/60\n",
    "# Prediction\n",
    "y0_pred = model_all_best.predict(x0_test)\n",
    "r2 = r2_score(y0_test, y0_pred, multioutput = 'raw_values')\n",
    "mae = mean_absolute_error(y0_test, y0_pred, multioutput = 'raw_values')\n",
    "mse = mean_squared_error(y0_test, y0_pred, multioutput = 'raw_values')\n",
    "max_ae = max_absolute_error(y0_test, y0_pred)\n",
    "print(f'R2 : \\n Alpha : {r2[1]} \\n Beta : {r2[2]} \\n V : {r2[0]} ')\n",
    "print(f'MAE : \\n Alpha : {mae[1]} \\n Beta : {mae[2]} \\n V : {mae[0]} ')\n",
    "print(f'MSE : \\n Alpha : {mse[1]} \\n Beta : {mse[2]} \\n V : {mse[0]} ')\n",
    "print('Max AERR : \\n', max_ae)\n",
    "print(\"Waktu yang dibutuhkan : \", waktu)"
   ]
  },
  {
   "cell_type": "code",
   "execution_count": 250,
   "id": "34adfda2-35fa-4b4a-84bf-df3662cf17bc",
   "metadata": {},
   "outputs": [],
   "source": [
    "df_all_clean_46.to_csv('data_clean_reduce_46.csv', index = False)"
   ]
  },
  {
   "cell_type": "code",
   "execution_count": 251,
   "id": "848a3814-d4b5-45b4-8583-24f6ff9f9361",
   "metadata": {},
   "outputs": [
    {
     "name": "stdout",
     "output_type": "stream",
     "text": [
      "6703\n"
     ]
    }
   ],
   "source": [
    "y_pred_df = pd.DataFrame(y0_pred, columns = [\"V\",\"α\",\"β\"], index = y0_test.index)\n",
    "aerr = np.abs(y_pred_df - y0_test)\n",
    "index_max_aerr = aerr[\"β\"].idxmax()\n",
    "df_all_clean_47 = df_all_clean_46.drop(index = index_max_aerr)\n",
    "print(len(df_all_clean_47))"
   ]
  },
  {
   "cell_type": "markdown",
   "id": "e4d59177-5ba0-42c6-aa0c-8b91724ef903",
   "metadata": {},
   "source": [
    "### AFTER REDUCE 47"
   ]
  },
  {
   "cell_type": "code",
   "execution_count": 252,
   "id": "b5e0a71f-0e65-43ac-93f0-17c14630ea33",
   "metadata": {},
   "outputs": [],
   "source": [
    "x_all = df_all_clean_47.drop(columns = [\"V\",\"α\",\"β\"])\n",
    "y_all = df_all_clean_47[[\"V\",\"α\",\"β\"]]\n",
    "\n",
    "x0_train, x0_test, y0_train, y0_test = train_test_split(x_all, y_all,\n",
    "                                                        random_state = 42, test_size = 0.2)"
   ]
  },
  {
   "cell_type": "code",
   "execution_count": 253,
   "id": "bd667810-aec4-4d05-bf57-183391869dc5",
   "metadata": {},
   "outputs": [
    {
     "name": "stdout",
     "output_type": "stream",
     "text": [
      "R2 : \n",
      " Alpha : 0.9999999970017914 \n",
      " Beta : 0.9827236131236389 \n",
      " V : 0.9999997108691355 \n",
      "MAE : \n",
      " Alpha : 0.0012019268944863995 \n",
      " Beta : 0.5064698755349399 \n",
      " V : 0.0017995222549893085 \n",
      "MSE : \n",
      " Alpha : 3.5755851015166263e-06 \n",
      " Beta : 1.857400297997501 \n",
      " V : 5.880071150497988e-05 \n",
      "Max AERR : \n",
      " V    0.081177\n",
      "α    0.015990\n",
      "β    9.594400\n",
      "dtype: float64\n",
      "Waktu yang dibutuhkan :  1.3567596038182577\n"
     ]
    }
   ],
   "source": [
    "def max_absolute_error(y_true, y_pred):\n",
    "    return np.max(np.abs(y_true - y_pred), axis=0)\n",
    "scaler = StandardScaler()\n",
    "\n",
    "# Base models (Level Pertama)\n",
    "base_models = [\n",
    "    ('random_forest', RandomForestRegressor(n_estimators=250, max_depth=None, random_state=42, min_samples_leaf= 1, min_samples_split= 2, max_features = 'sqrt')),\n",
    "    ('gradient_boosting', GradientBoostingRegressor(n_estimators=200, learning_rate=0.0579, random_state=42, max_depth = 5)),\n",
    "    ('knn', make_pipeline(StandardScaler(), KNeighborsRegressor(n_neighbors=2, weights='distance', algorithm='auto')))\n",
    "]\n",
    "\n",
    "# Meta-model (Level Kedua)\n",
    "# Menggunakan Ridge Regression sebagai meta-model untuk menghindari overfitting\n",
    "meta_model = Ridge(alpha=0.1)\n",
    "\n",
    "# Membentuk Stacking Regressor\n",
    "stacking_regressor = StackingRegressor(\n",
    "    estimators=base_models,\n",
    "    final_estimator=meta_model,\n",
    "    passthrough=True  # Memasukkan data asli ke meta-model bersama prediksi base models\n",
    ")\n",
    "\n",
    "# Untuk multi-output, kita bungkus dengan MultiOutputRegressor\n",
    "model_all_best = MultiOutputRegressor(stacking_regressor)\n",
    "start = time.time()\n",
    "# Training\n",
    "model_all_best.fit(x0_train, y0_train)\n",
    "end = time.time()\n",
    "waktu = (end-start)/60\n",
    "# Prediction\n",
    "y0_pred = model_all_best.predict(x0_test)\n",
    "r2 = r2_score(y0_test, y0_pred, multioutput = 'raw_values')\n",
    "mae = mean_absolute_error(y0_test, y0_pred, multioutput = 'raw_values')\n",
    "mse = mean_squared_error(y0_test, y0_pred, multioutput = 'raw_values')\n",
    "max_ae = max_absolute_error(y0_test, y0_pred)\n",
    "print(f'R2 : \\n Alpha : {r2[1]} \\n Beta : {r2[2]} \\n V : {r2[0]} ')\n",
    "print(f'MAE : \\n Alpha : {mae[1]} \\n Beta : {mae[2]} \\n V : {mae[0]} ')\n",
    "print(f'MSE : \\n Alpha : {mse[1]} \\n Beta : {mse[2]} \\n V : {mse[0]} ')\n",
    "print('Max AERR : \\n', max_ae)\n",
    "print(\"Waktu yang dibutuhkan : \", waktu)"
   ]
  },
  {
   "cell_type": "code",
   "execution_count": 254,
   "id": "a111c8c3-bbd2-4c65-b9ba-e4af9cfba363",
   "metadata": {},
   "outputs": [],
   "source": [
    "df_all_clean_47.to_csv('data_clean_reduce_47.csv', index = False)"
   ]
  },
  {
   "cell_type": "code",
   "execution_count": 255,
   "id": "80d43ed7-9192-46cd-b9ce-6825bd49cba3",
   "metadata": {},
   "outputs": [
    {
     "name": "stdout",
     "output_type": "stream",
     "text": [
      "6702\n"
     ]
    }
   ],
   "source": [
    "y_pred_df = pd.DataFrame(y0_pred, columns = [\"V\",\"α\",\"β\"], index = y0_test.index)\n",
    "aerr = np.abs(y_pred_df - y0_test)\n",
    "index_max_aerr = aerr[\"β\"].idxmax()\n",
    "df_all_clean_48 = df_all_clean_47.drop(index = index_max_aerr)\n",
    "print(len(df_all_clean_48))"
   ]
  },
  {
   "cell_type": "markdown",
   "id": "de0121d5-3079-42da-badf-960fb8e935bf",
   "metadata": {},
   "source": [
    "### AFTER REDUCE 48"
   ]
  },
  {
   "cell_type": "code",
   "execution_count": 258,
   "id": "90681c69-bb1d-481d-b2c3-d53e00d7cdff",
   "metadata": {},
   "outputs": [],
   "source": [
    "x_all = df_all_clean_48.drop(columns = [\"V\",\"α\",\"β\"])\n",
    "y_all = df_all_clean_48[[\"V\",\"α\",\"β\"]]\n",
    "\n",
    "x0_train, x0_test, y0_train, y0_test = train_test_split(x_all, y_all,\n",
    "                                                        random_state = 42, test_size = 0.2)"
   ]
  },
  {
   "cell_type": "code",
   "execution_count": 259,
   "id": "a9832198-f068-4c3e-9bd1-f6c1e706a77d",
   "metadata": {},
   "outputs": [
    {
     "name": "stdout",
     "output_type": "stream",
     "text": [
      "R2 : \n",
      " Alpha : 0.9999999881786453 \n",
      " Beta : 0.9829390699136423 \n",
      " V : 0.9999997891179636 \n",
      "MAE : \n",
      " Alpha : 0.0018596717162869183 \n",
      " Beta : 0.49157507828951325 \n",
      " V : 0.0015617674959712278 \n",
      "MSE : \n",
      " Alpha : 1.4160155787342299e-05 \n",
      " Beta : 1.7312980644420817 \n",
      " V : 4.236792700880534e-05 \n",
      "Max AERR : \n",
      " V     0.081091\n",
      "α     0.047192\n",
      "β    10.740986\n",
      "dtype: float64\n",
      "Waktu yang dibutuhkan :  1.3618118683497111\n"
     ]
    }
   ],
   "source": [
    "def max_absolute_error(y_true, y_pred):\n",
    "    return np.max(np.abs(y_true - y_pred), axis=0)\n",
    "scaler = StandardScaler()\n",
    "\n",
    "# Base models (Level Pertama)\n",
    "base_models = [\n",
    "    ('random_forest', RandomForestRegressor(n_estimators=250, max_depth=None, random_state=42, min_samples_leaf= 1, min_samples_split= 2, max_features = 'sqrt')),\n",
    "    ('gradient_boosting', GradientBoostingRegressor(n_estimators=200, learning_rate=0.0579, random_state=42, max_depth = 5)),\n",
    "    ('knn', make_pipeline(StandardScaler(), KNeighborsRegressor(n_neighbors=2, weights='distance', algorithm='auto')))\n",
    "]\n",
    "\n",
    "# Meta-model (Level Kedua)\n",
    "# Menggunakan Ridge Regression sebagai meta-model untuk menghindari overfitting\n",
    "meta_model = Ridge(alpha=0.1)\n",
    "\n",
    "# Membentuk Stacking Regressor\n",
    "stacking_regressor = StackingRegressor(\n",
    "    estimators=base_models,\n",
    "    final_estimator=meta_model,\n",
    "    passthrough=True  # Memasukkan data asli ke meta-model bersama prediksi base models\n",
    ")\n",
    "\n",
    "# Untuk multi-output, kita bungkus dengan MultiOutputRegressor\n",
    "model_all_best = MultiOutputRegressor(stacking_regressor)\n",
    "start = time.time()\n",
    "# Training\n",
    "model_all_best.fit(x0_train, y0_train)\n",
    "end = time.time()\n",
    "waktu = (end-start)/60\n",
    "# Prediction\n",
    "y0_pred = model_all_best.predict(x0_test)\n",
    "r2 = r2_score(y0_test, y0_pred, multioutput = 'raw_values')\n",
    "mae = mean_absolute_error(y0_test, y0_pred, multioutput = 'raw_values')\n",
    "mse = mean_squared_error(y0_test, y0_pred, multioutput = 'raw_values')\n",
    "max_ae = max_absolute_error(y0_test, y0_pred)\n",
    "print(f'R2 : \\n Alpha : {r2[1]} \\n Beta : {r2[2]} \\n V : {r2[0]} ')\n",
    "print(f'MAE : \\n Alpha : {mae[1]} \\n Beta : {mae[2]} \\n V : {mae[0]} ')\n",
    "print(f'MSE : \\n Alpha : {mse[1]} \\n Beta : {mse[2]} \\n V : {mse[0]} ')\n",
    "print('Max AERR : \\n', max_ae)\n",
    "print(\"Waktu yang dibutuhkan : \", waktu)"
   ]
  },
  {
   "cell_type": "code",
   "execution_count": 260,
   "id": "a2df78e1-7ae0-4da2-8e5a-901d31a27a73",
   "metadata": {},
   "outputs": [],
   "source": [
    "df_all_clean_48.to_csv('data_clean_reduce_48.csv', index = False)"
   ]
  },
  {
   "cell_type": "code",
   "execution_count": 261,
   "id": "60a73539-da82-4933-92a5-df0dc72e1d79",
   "metadata": {},
   "outputs": [
    {
     "name": "stdout",
     "output_type": "stream",
     "text": [
      "6701\n"
     ]
    }
   ],
   "source": [
    "y_pred_df = pd.DataFrame(y0_pred, columns = [\"V\",\"α\",\"β\"], index = y0_test.index)\n",
    "aerr = np.abs(y_pred_df - y0_test)\n",
    "index_max_aerr = aerr[\"β\"].idxmax()\n",
    "df_all_clean_49 = df_all_clean_48.drop(index = index_max_aerr)\n",
    "print(len(df_all_clean_49))"
   ]
  },
  {
   "cell_type": "markdown",
   "id": "823e99ea-b6d9-4bf0-af4d-92afe020a06e",
   "metadata": {},
   "source": [
    "### AFTER REDUCE 49"
   ]
  },
  {
   "cell_type": "code",
   "execution_count": 263,
   "id": "ebb4f039-b726-4db7-a838-407fcc53484c",
   "metadata": {},
   "outputs": [],
   "source": [
    "x_all = df_all_clean_49.drop(columns = [\"V\",\"α\",\"β\"])\n",
    "y_all = df_all_clean_49[[\"V\",\"α\",\"β\"]]\n",
    "\n",
    "x0_train, x0_test, y0_train, y0_test = train_test_split(x_all, y_all,\n",
    "                                                        random_state = 42, test_size = 0.2)"
   ]
  },
  {
   "cell_type": "code",
   "execution_count": 264,
   "id": "bfd6b0aa-e2bd-45f9-ab39-7dc2ad9a0dd8",
   "metadata": {
    "scrolled": true
   },
   "outputs": [
    {
     "name": "stdout",
     "output_type": "stream",
     "text": [
      "R2 : \n",
      " Alpha : 0.9999999994029904 \n",
      " Beta : 0.9860855658897006 \n",
      " V : 0.9999997959353267 \n",
      "MAE : \n",
      " Alpha : 0.0006448033702425183 \n",
      " Beta : 0.45987266895584933 \n",
      " V : 0.0015169087298261845 \n",
      "MSE : \n",
      " Alpha : 7.123840311497271e-07 \n",
      " Beta : 1.485088085482875 \n",
      " V : 4.257259692744618e-05 \n",
      "Max AERR : \n",
      " V    0.085746\n",
      "α    0.004031\n",
      "β    8.585756\n",
      "dtype: float64\n",
      "Waktu yang dibutuhkan :  1.3721176385879517\n"
     ]
    }
   ],
   "source": [
    "def max_absolute_error(y_true, y_pred):\n",
    "    return np.max(np.abs(y_true - y_pred), axis=0)\n",
    "scaler = StandardScaler()\n",
    "\n",
    "# Base models (Level Pertama)\n",
    "base_models = [\n",
    "    ('random_forest', RandomForestRegressor(n_estimators=250, max_depth=None, random_state=42, min_samples_leaf= 1, min_samples_split= 2, max_features = 'sqrt')),\n",
    "    ('gradient_boosting', GradientBoostingRegressor(n_estimators=200, learning_rate=0.0579, random_state=42, max_depth = 5)),\n",
    "    ('knn', make_pipeline(StandardScaler(), KNeighborsRegressor(n_neighbors=2, weights='distance', algorithm='auto')))\n",
    "]\n",
    "\n",
    "# Meta-model (Level Kedua)\n",
    "# Menggunakan Ridge Regression sebagai meta-model untuk menghindari overfitting\n",
    "meta_model = Ridge(alpha=0.1)\n",
    "\n",
    "# Membentuk Stacking Regressor\n",
    "stacking_regressor = StackingRegressor(\n",
    "    estimators=base_models,\n",
    "    final_estimator=meta_model,\n",
    "    passthrough=True  # Memasukkan data asli ke meta-model bersama prediksi base models\n",
    ")\n",
    "\n",
    "# Untuk multi-output, kita bungkus dengan MultiOutputRegressor\n",
    "model_all_best = MultiOutputRegressor(stacking_regressor)\n",
    "start = time.time()\n",
    "# Training\n",
    "model_all_best.fit(x0_train, y0_train)\n",
    "end = time.time()\n",
    "waktu = (end-start)/60\n",
    "# Prediction\n",
    "y0_pred = model_all_best.predict(x0_test)\n",
    "r2 = r2_score(y0_test, y0_pred, multioutput = 'raw_values')\n",
    "mae = mean_absolute_error(y0_test, y0_pred, multioutput = 'raw_values')\n",
    "mse = mean_squared_error(y0_test, y0_pred, multioutput = 'raw_values')\n",
    "max_ae = max_absolute_error(y0_test, y0_pred)\n",
    "print(f'R2 : \\n Alpha : {r2[1]} \\n Beta : {r2[2]} \\n V : {r2[0]} ')\n",
    "print(f'MAE : \\n Alpha : {mae[1]} \\n Beta : {mae[2]} \\n V : {mae[0]} ')\n",
    "print(f'MSE : \\n Alpha : {mse[1]} \\n Beta : {mse[2]} \\n V : {mse[0]} ')\n",
    "print('Max AERR : \\n', max_ae)\n",
    "print(\"Waktu yang dibutuhkan : \", waktu)"
   ]
  },
  {
   "cell_type": "code",
   "execution_count": 265,
   "id": "184da54d-5ae2-4a95-9bc1-2f8308936108",
   "metadata": {},
   "outputs": [],
   "source": [
    "df_all_clean_49.to_csv('data_clean_reduce_49.csv', index = False)"
   ]
  },
  {
   "cell_type": "code",
   "execution_count": 266,
   "id": "1b77fb4f-a20b-43fe-a0d8-e702ba4dd990",
   "metadata": {},
   "outputs": [
    {
     "name": "stdout",
     "output_type": "stream",
     "text": [
      "6700\n"
     ]
    }
   ],
   "source": [
    "y_pred_df = pd.DataFrame(y0_pred, columns = [\"V\",\"α\",\"β\"], index = y0_test.index)\n",
    "aerr = np.abs(y_pred_df - y0_test)\n",
    "index_max_aerr = aerr[\"β\"].idxmax()\n",
    "df_all_clean_50 = df_all_clean_49.drop(index = index_max_aerr)\n",
    "print(len(df_all_clean_50))"
   ]
  },
  {
   "cell_type": "markdown",
   "id": "51a38988-bb2c-4948-8644-2339e7d8ddcc",
   "metadata": {},
   "source": [
    "### AFTER REDUCE 50"
   ]
  },
  {
   "cell_type": "code",
   "execution_count": 267,
   "id": "e2ca4923-3628-46ad-8d0a-f28cb932c8ea",
   "metadata": {},
   "outputs": [],
   "source": [
    "x_all = df_all_clean_50.drop(columns = [\"V\",\"α\",\"β\"])\n",
    "y_all = df_all_clean_50[[\"V\",\"α\",\"β\"]]\n",
    "\n",
    "x0_train, x0_test, y0_train, y0_test = train_test_split(x_all, y_all,\n",
    "                                                        random_state = 42, test_size = 0.2)"
   ]
  },
  {
   "cell_type": "code",
   "execution_count": 268,
   "id": "98d74d89-d9b6-4d90-92d1-9d51d103e2e9",
   "metadata": {},
   "outputs": [
    {
     "name": "stdout",
     "output_type": "stream",
     "text": [
      "R2 : \n",
      " Alpha : 0.9999999907109346 \n",
      " Beta : 0.986261151519153 \n",
      " V : 0.999999772488488 \n",
      "MAE : \n",
      " Alpha : 0.0025688214226106234 \n",
      " Beta : 0.44647977424756746 \n",
      " V : 0.0018628618382679355 \n",
      "MSE : \n",
      " Alpha : 1.1071687875781727e-05 \n",
      " Beta : 1.4753201834575214 \n",
      " V : 4.7292676252341316e-05 \n",
      "Max AERR : \n",
      " V     0.071181\n",
      "α     0.013114\n",
      "β    11.317581\n",
      "dtype: float64\n",
      "Waktu yang dibutuhkan :  1.3582358479499816\n"
     ]
    }
   ],
   "source": [
    "def max_absolute_error(y_true, y_pred):\n",
    "    return np.max(np.abs(y_true - y_pred), axis=0)\n",
    "scaler = StandardScaler()\n",
    "\n",
    "# Base models (Level Pertama)\n",
    "base_models = [\n",
    "    ('random_forest', RandomForestRegressor(n_estimators=250, max_depth=None, random_state=42, min_samples_leaf= 1, min_samples_split= 2, max_features = 'sqrt')),\n",
    "    ('gradient_boosting', GradientBoostingRegressor(n_estimators=200, learning_rate=0.0579, random_state=42, max_depth = 5)),\n",
    "    ('knn', make_pipeline(StandardScaler(), KNeighborsRegressor(n_neighbors=2, weights='distance', algorithm='auto')))\n",
    "]\n",
    "\n",
    "# Meta-model (Level Kedua)\n",
    "# Menggunakan Ridge Regression sebagai meta-model untuk menghindari overfitting\n",
    "meta_model = Ridge(alpha=0.1)\n",
    "\n",
    "# Membentuk Stacking Regressor\n",
    "stacking_regressor = StackingRegressor(\n",
    "    estimators=base_models,\n",
    "    final_estimator=meta_model,\n",
    "    passthrough=True  # Memasukkan data asli ke meta-model bersama prediksi base models\n",
    ")\n",
    "\n",
    "# Untuk multi-output, kita bungkus dengan MultiOutputRegressor\n",
    "model_all_best = MultiOutputRegressor(stacking_regressor)\n",
    "start = time.time()\n",
    "# Training\n",
    "model_all_best.fit(x0_train, y0_train)\n",
    "end = time.time()\n",
    "waktu = (end-start)/60\n",
    "# Prediction\n",
    "y0_pred = model_all_best.predict(x0_test)\n",
    "r2 = r2_score(y0_test, y0_pred, multioutput = 'raw_values')\n",
    "mae = mean_absolute_error(y0_test, y0_pred, multioutput = 'raw_values')\n",
    "mse = mean_squared_error(y0_test, y0_pred, multioutput = 'raw_values')\n",
    "max_ae = max_absolute_error(y0_test, y0_pred)\n",
    "print(f'R2 : \\n Alpha : {r2[1]} \\n Beta : {r2[2]} \\n V : {r2[0]} ')\n",
    "print(f'MAE : \\n Alpha : {mae[1]} \\n Beta : {mae[2]} \\n V : {mae[0]} ')\n",
    "print(f'MSE : \\n Alpha : {mse[1]} \\n Beta : {mse[2]} \\n V : {mse[0]} ')\n",
    "print('Max AERR : \\n', max_ae)\n",
    "print(\"Waktu yang dibutuhkan : \", waktu)"
   ]
  },
  {
   "cell_type": "code",
   "execution_count": null,
   "id": "62637974-371b-4259-8159-78f9886105bd",
   "metadata": {},
   "outputs": [],
   "source": []
  }
 ],
 "metadata": {
  "kernelspec": {
   "display_name": "Python 3 (ipykernel)",
   "language": "python",
   "name": "python3"
  },
  "language_info": {
   "codemirror_mode": {
    "name": "ipython",
    "version": 3
   },
   "file_extension": ".py",
   "mimetype": "text/x-python",
   "name": "python",
   "nbconvert_exporter": "python",
   "pygments_lexer": "ipython3",
   "version": "3.8.20"
  }
 },
 "nbformat": 4,
 "nbformat_minor": 5
}
